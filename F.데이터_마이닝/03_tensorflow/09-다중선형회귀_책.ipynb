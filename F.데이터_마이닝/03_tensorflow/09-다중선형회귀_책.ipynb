{
 "cells": [
  {
   "cell_type": "code",
   "execution_count": null,
   "metadata": {},
   "outputs": [],
   "source": [
    "import sys\n",
    "sys.path.append('../../')\n",
    "import helper\n",
    "\n",
    "from pandas import read_excel, DataFrame, merge\n",
    "from matplotlib import pyplot as plt\n",
    "import seaborn as sb\n",
    "import numpy as np\n",
    "from scipy import stats\n",
    "# import warnings \n",
    "# Warning.filterwarnings('ignore')\n",
    "\n",
    "from tensorflow.keras.models import Sequential\n",
    "from tensorflow.keras.layers import Dense\n",
    "from sklearn.model_selection import train_test_split\n",
    "from tensorflow.keras.callbacks import EarlyStopping\n",
    "from tensorflow.keras.callbacks import ReduceLROnPlateau\n",
    "from tensorflow.keras.callbacks import ModelCheckpoint\n",
    "\n",
    "from sklearn.preprocessing import StandardScaler"
   ]
  },
  {
   "cell_type": "code",
   "execution_count": null,
   "metadata": {},
   "outputs": [],
   "source": [
    "boston = read_excel(\"https://data.hossam.kr/E04/boston.xlsx\")\n",
    "bostonDF = DataFrame(boston, columns=boston.columns)\n",
    "bostonDF.head(10)"
   ]
  },
  {
   "cell_type": "code",
   "execution_count": null,
   "metadata": {},
   "outputs": [],
   "source": [
    "# 에러나도 몰라 일단 작성함\n",
    "# 파이썬 어쩌구 책\n",
    "\n",
    "# 각 칼럼이 회귀 결과에 미치는 영향이 어느 정도인지 시각화 하기 \n",
    "\n",
    "bostonDF['PRICE'] = boston.target \n",
    "print(\"boston 데이터 세트 크기 : \",bostonDF.shape)\n",
    "bostonDF.info()\n",
    "# -> 데이터 세트 피처의 Null은 없고 모두 float형\n",
    "\n",
    "# 산점도\n",
    "fig, axs = plt.subplots(figsize=(16,8),ncols = 4,nrows=2) # 2개의 행과 4개의 열을 가진 그래프\n",
    "lm_features = ['RW','ZN','INDUS','NOX','AGE','PTRATIO','LSTAT','RAD']\n",
    "for i, feature in enumerate(lm_features) :\n",
    "    row = int(1/4)\n",
    "    col = i%4\n",
    "    # seaborn 의 regplot을 이용해 산점도와 선형회귀직선을 함께 표현 \n",
    "    sb.regplot(x=feature, y='PRICE',data=bostonDF,ax=axs[row][col])\n",
    "\n",
    "'''\n",
    "다른 칼럼보다 RM과 LSTAT의 PRICE 영향도가 두드러진다. RM(방 개수)는 양 방향의 선형성이 가장 크다.\n",
    "즉 방의 크기가 클수록 가격이 증가하는 모습을 보여준다. \n",
    "LSTAT(하위계층의 비율)은 음 방향의 선형성이 크다. 적을수록 price가 증가.'''\n",
    "\n"
   ]
  },
  {
   "cell_type": "code",
   "execution_count": null,
   "metadata": {},
   "outputs": [],
   "source": [
    "# LinearRegression 클래스를 이용한 회귀모델 \n",
    "\n",
    "from sklearn.model_selection import train_test_split\n",
    "from sklearn.linear_model import LinearRegression\n",
    "from sklearn.metrics import mean_squared_error, r2_score\n",
    "\n",
    "y_target = bostonDF[\"PRICE\"]\n",
    "x_data = bostonDF.drop(['PRICE'], axis=1, inplace=False)\n",
    "x_train,x_test,y_train, y_test = train_test_split(x_data,y_target,test_size=0.3,random_state=777)\n",
    "\n",
    "# 선형회귀 OLS로 학습 /예측 /평가 수행\n",
    "lr = LinearRegression()\n",
    "lr.fit(x_train,y_train)\n",
    "y_preds = lr.predict(x_test)\n",
    "mse = mean_squared_error(y_test,y_preds)\n",
    "rmse = np.sqrt(mse)\n",
    "\n",
    "print(\"MSEL {0:.3f}, RMSE : {1:.3f}\".format(mse,rmse))\n",
    "\n",
    "print('절편 값:' , lr.intercept_)\n",
    "print('회귀계수 값:' , np.round(lr.coef_,1))\n",
    "# coef_속성은 회귀계수값만 가지고 있으므로 이를 피처별 회귀 계수 값으로 다시 매핑하고, 높은 값 순으로 출력 하기 위해서 판다스 Series의 sort_values() 함수를 이용한다. \n",
    "\n",
    "# 회귀 계수를 큰 값 순으로 정렬하기 위해 Series로 생성, 인덱스 칼럼명에 유의 \n",
    "coeff = pd.Series(data=np.round(lr.coef_,1), index=x_data.columns)\n",
    "coeff.sort_values(acending=False)\n",
    "\n",
    "#RM이 양의 값으로 회귀 계수가 가장 크며 NOX 피처의 회귀 계수 -값이 너무 큼. 최적화를 하면서 피저 codfficients의 변화도 살펴봐양ㅎ암.\n",
    "\n",
    "\n",
    "\n"
   ]
  }
 ],
 "metadata": {
  "kernelspec": {
   "display_name": "Python 3",
   "language": "python",
   "name": "python3"
  },
  "language_info": {
   "codemirror_mode": {
    "name": "ipython",
    "version": 3
   },
   "file_extension": ".py",
   "mimetype": "text/x-python",
   "name": "python",
   "nbconvert_exporter": "python",
   "pygments_lexer": "ipython3",
   "version": "3.9.12"
  },
  "orig_nbformat": 4
 },
 "nbformat": 4,
 "nbformat_minor": 2
}
