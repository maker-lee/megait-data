{
 "cells": [
  {
   "cell_type": "markdown",
   "metadata": {},
   "source": [
    "# 변수, 텐서, 계산 그래프\n",
    "\n",
    "## #01. 작업준비\n",
    "\n",
    "\n",
    "임계값 = 종속변수 \n",
    "\n",
    "모든 변수가 객체임. variable() <-뭐요? \n",
    "\n",
    "명시적 - 변수의 타입을 dtype으로 보냄\n",
    "\n",
    "\n",
    "### 패키지 가져오기"
   ]
  },
  {
   "cell_type": "code",
   "execution_count": 16,
   "metadata": {},
   "outputs": [],
   "source": [
    "import tensorflow as tf\n",
    "import numpy as np"
   ]
  },
  {
   "cell_type": "markdown",
   "metadata": {},
   "source": [
    "## #02. 변수의 이해\n",
    "\n",
    "프로그램에서의 변수와는 개념이 다르다. 학습을 위한 가설이 다음과 같이 있다면,\n",
    "\n",
    "$$\n",
    "f(x) = W * x + b\n",
    "$$\n",
    "\n",
    "입력 데이터가 $x$일 때 $W$와 $b$는 텐서플로우가 학습을 통해 스스로 구해야 하는 값이다.\n",
    "\n",
    "\n",
    "`print()` 함수로 출력할 경우 노드의 정보만 출력될 뿐 실제 값이 출력되지는 않는다.\n",
    "\n",
    "실제 값을 확인하기 위해서는 `tf.print()` 함수를 사용해야 한다.\n",
    "\n",
    "\n",
    "이를 변수(Variable)라고 하는데, 변수형은 Variable 타입의 객체로 생성된다. (하이퍼파라미터 = 변수 = 뉴런)\n",
    "\n",
    "변수는 생성할 때 그 값에 따라 암묵적 타입과 명시적 타입으로 구분된다.\n"
   ]
  },
  {
   "cell_type": "markdown",
   "metadata": {},
   "source": [
    "\n",
    "### 암묵적 타입의 변수 생성하기"
   ]
  },
  {
   "cell_type": "code",
   "execution_count": 17,
   "metadata": {},
   "outputs": [
    {
     "name": "stdout",
     "output_type": "stream",
     "text": [
      "123\n",
      "223\n"
     ]
    }
   ],
   "source": [
    "x = tf.Variable(123) # 숫자를 넣어도 무조건 객체임 (Object를 Variable)\n",
    "tf.print(x)\n",
    "\n",
    "y = tf.Variable(x + 100)\n",
    "tf.print(y) # print를 할 때 tf로 해줘야한다. 형식만 파이썬과 같은거지 사실상 매우 다름"
   ]
  },
  {
   "cell_type": "markdown",
   "metadata": {},
   "source": [
    "### 명시적 타입의 변수 생성하기\n",
    "\n",
    "`tf.Variable()` 함수에 데이터 타입을 의미하는 dtype 파라미터를 전달한다."
   ]
  },
  {
   "cell_type": "code",
   "execution_count": 18,
   "metadata": {},
   "outputs": [
    {
     "name": "stdout",
     "output_type": "stream",
     "text": [
      "123\n"
     ]
    }
   ],
   "source": [
    "x = tf.Variable(123, dtype=tf.float32)\n",
    "tf.print(x)"
   ]
  },
  {
   "cell_type": "markdown",
   "metadata": {},
   "source": [
    "### 데이터 타입의 종류\n",
    "\n",
    "### 데이터 타입 종류\n",
    "\n",
    "- [tf.float16](https://www.tensorflow.org/api_docs/python/tf#float16): 16-bit half-precision floating-point.\n",
    "- [tf.float32](https://www.tensorflow.org/api_docs/python/tf#float32): 32-bit single-precision floating-point.\n",
    "- [tf.float64](https://www.tensorflow.org/api_docs/python/tf#float64): 64-bit double-precision floating-point.\n",
    "- [tf.bfloat16](https://www.tensorflow.org/api_docs/python/tf#bfloat16): 16-bit truncated floating-point.\n",
    "- [tf.complex64](https://www.tensorflow.org/api_docs/python/tf#complex64): 64-bit single-precision complex.\n",
    "- [tf.complex128](https://www.tensorflow.org/api_docs/python/tf#complex128): 128-bit double-precision complex.\n",
    "- [tf.int8](https://www.tensorflow.org/api_docs/python/tf#int8): 8-bit signed integer.\n",
    "- [tf.uint8](https://www.tensorflow.org/api_docs/python/tf#uint8): 8-bit unsigned integer.\n",
    "- [tf.uint16](https://www.tensorflow.org/api_docs/python/tf#uint16): 16-bit unsigned integer.\n",
    "- [tf.uint32](https://www.tensorflow.org/api_docs/python/tf#uint32): 32-bit unsigned integer.\n",
    "- [tf.uint64](https://www.tensorflow.org/api_docs/python/tf#uint64): 64-bit unsigned integer.\n",
    "- [tf.int16](https://www.tensorflow.org/api_docs/python/tf#int16): 16-bit signed integer.\n",
    "- [tf.int32](https://www.tensorflow.org/api_docs/python/tf#int32): 32-bit signed integer.\n",
    "- [tf.int64](https://www.tensorflow.org/api_docs/python/tf#int64): 64-bit signed integer.\n",
    "- [tf.bool](https://www.tensorflow.org/api_docs/python/tf#bool): Boolean.\n",
    "- [tf.string](https://www.tensorflow.org/api_docs/python/tf#string): String.\n",
    "- [tf.qint8](https://www.tensorflow.org/api_docs/python/tf#qint8): Quantized 8-bit signed integer.\n",
    "- [tf.quint8](https://www.tensorflow.org/api_docs/python/tf#quint8): Quantized 8-bit unsigned integer.\n",
    "- [tf.qint16](https://www.tensorflow.org/api_docs/python/tf#qint16): Quantized 16-bit signed integer.\n",
    "- [tf.quint16](https://www.tensorflow.org/api_docs/python/tf#quint16): Quantized 16-bit unsigned integer.\n",
    "- [tf.qint32](https://www.tensorflow.org/api_docs/python/tf#qint32): Quantized 32-bit signed integer.\n",
    "- [tf.resource](https://www.tensorflow.org/api_docs/python/tf#resource): Handle to a mutable resource.\n",
    "- [tf.variant](https://www.tensorflow.org/api_docs/python/tf#variant): Values of arbitrary types."
   ]
  },
  {
   "cell_type": "markdown",
   "metadata": {},
   "source": [
    "## #03. 텐서(Tensor)\n",
    "\n",
    "\n",
    " tensor : 행렬의 집합이며 3차원 이상의 배열 (rank는 tensor의 차원을 말한다.)\n",
    " \n",
    "텐서란 배열의 집합을 의미하며 배열의 차수에 따라 불리는 이름이 바뀐다.\n",
    "\n",
    "파이썬에서는 텐서를 numpy array로 표현한다.\n",
    "\n",
    "| 이름 | 설명 |\n",
    "|---|---|\n",
    "| Tensor | 수학적인 개념으로 데이터의 배열을 의미. |\n",
    "| Rank | 텐서의 차원(Dimension). numpy의 shape값으로 확인 가능 |\n",
    "\n",
    "### 배열의 종류\n",
    "\n",
    "| Rank | Type | 설명 | Example |\n",
    "|--|--|--|--|\n",
    "| 0 | scalar | 랭크가 0인 배열. 원소가 1개인 1차 배열 | [1] |\n",
    "| 1 | vector | 원소가 2개 이상인 1차 배열 | [1, 2] |\n",
    "| 2 | matrix | 2차 배열 | [ [1, 2], [3, 4] ] |\n",
    "| 3 | tensor | 3차 배열 | [ [ [-1, -2], [1, 2] ], [ [-1, 0], [1, 0] ] ] |\n",
    "| n | n-tensor | n차 배열 |\n",
    "\n",
    "\n",
    "\n",
    "![tensor](res/tensor.png)\n",
    "\n",
    "\n",
    "[] 1개가 1 rank\n"
   ]
  },
  {
   "cell_type": "markdown",
   "metadata": {},
   "source": [
    "\n",
    "### 랭크가 0인 배열 → 스칼라"
   ]
  },
  {
   "cell_type": "code",
   "execution_count": 19,
   "metadata": {},
   "outputs": [
    {
     "name": "stdout",
     "output_type": "stream",
     "text": [
      "()\n"
     ]
    },
    {
     "data": {
      "text/plain": [
       "array(100)"
      ]
     },
     "execution_count": 19,
     "metadata": {},
     "output_type": "execute_result"
    }
   ],
   "source": [
    "a = 100\n",
    "ts1 = np.array(a)\n",
    "print(ts1.shape)\n",
    "ts1"
   ]
  },
  {
   "cell_type": "markdown",
   "metadata": {},
   "source": [
    "### 랭크가 1인 배열 → 백터"
   ]
  },
  {
   "cell_type": "code",
   "execution_count": 20,
   "metadata": {},
   "outputs": [
    {
     "name": "stdout",
     "output_type": "stream",
     "text": [
      "(3,)\n"
     ]
    },
    {
     "data": {
      "text/plain": [
       "array([1, 2, 3])"
      ]
     },
     "execution_count": 20,
     "metadata": {},
     "output_type": "execute_result"
    }
   ],
   "source": [
    "b = [1, 2, 3]\n",
    "ts2 = np.array(b)\n",
    "print(ts2.shape)\n",
    "ts2"
   ]
  },
  {
   "cell_type": "markdown",
   "metadata": {},
   "source": [
    "### 랭크가 2인 배열 → 행렬(matrix)"
   ]
  },
  {
   "cell_type": "code",
   "execution_count": 21,
   "metadata": {},
   "outputs": [
    {
     "name": "stdout",
     "output_type": "stream",
     "text": [
      "(2, 3)\n"
     ]
    },
    {
     "data": {
      "text/plain": [
       "array([[ 10,  20,  30],\n",
       "       [100, 200, 300]])"
      ]
     },
     "execution_count": 21,
     "metadata": {},
     "output_type": "execute_result"
    }
   ],
   "source": [
    "c = [ [10, 20, 30], [100, 200, 300] ]\n",
    "ts3 = np.array(c)\n",
    "print(ts3.shape)\n",
    "ts3"
   ]
  },
  {
   "cell_type": "markdown",
   "metadata": {},
   "source": [
    "### 랭크가 3인 배열 → 텐서"
   ]
  },
  {
   "cell_type": "code",
   "execution_count": 22,
   "metadata": {},
   "outputs": [
    {
     "name": "stdout",
     "output_type": "stream",
     "text": [
      "(2, 2, 3)\n"
     ]
    },
    {
     "data": {
      "text/plain": [
       "array([[[-1, -2, -3],\n",
       "        [ 1,  2,  3]],\n",
       "\n",
       "       [[-1,  0,  1],\n",
       "        [ 1,  0, -1]]])"
      ]
     },
     "execution_count": 22,
     "metadata": {},
     "output_type": "execute_result"
    }
   ],
   "source": [
    "hello = [ [-1, -2, -3], [1, 2, 3] ]\n",
    "world = [ [-1, 0, 1], [1, 0, -1] ]\n",
    "d = [ hello, world ]\n",
    "ts4 = np.array(d)\n",
    "print(ts4.shape)\n",
    "ts4"
   ]
  },
  {
   "cell_type": "markdown",
   "metadata": {},
   "source": [
    "## #03. 계산 그래프 (이진 그래프)\n",
    "\n",
    "![node](res/node.png)\n",
    "\n",
    "- Computational Graph\n",
    "- 컴퓨터 공학에서 정의하는 노드(Node)와 엣지(Edge)로 이루어진 자료구조.\n",
    "- 텐서들이 계산 그래프 구조를 통해 노드에서 노드로 이동한다.\n",
    "- 텐서플로우 라이브러리는 그래프 구조를 먼저 정의하고, 정의한 그래프에 실제 텐서들을 흘려보내도록 디자인 되었다.\n",
    "\n",
    "### 명시적 타입을 갖는 노드 정의\n"
   ]
  },
  {
   "cell_type": "code",
   "execution_count": 23,
   "metadata": {},
   "outputs": [
    {
     "name": "stdout",
     "output_type": "stream",
     "text": [
      "tf.Tensor(3.0, shape=(), dtype=float32)\n",
      "3\n"
     ]
    }
   ],
   "source": [
    "node1 = tf.constant(3.0, dtype=tf.float32, name='hello') \n",
    "# constant 함수는 상수 노드는 그래프에서 계산에 사용되는 고정된 값을 가지는 노드입니다. 이 노드는 3.0이라는 값으로 초기화되며, 데이터 타입은 tf.float32로 지정되어 있습니다. 또한 \"hello\"라는 이름을 가지고 있습니다.\n",
    "# 상수 노드(Constant Node)는 TensorFlow나 다른 그래프 기반의 계산 라이브러리에서 사용되는 개념입니다. 이는 그래프 내에서 값을 가지고 있는 노드로, 그 값이 고정되어 계산 중에 변경되지 않는 노드를 말합니다.\n",
    "print(node1)\n",
    "tf.print(node1)"
   ]
  },
  {
   "cell_type": "markdown",
   "metadata": {},
   "source": [
    "### 암묵적 타입을 갖는 노드 정의"
   ]
  },
  {
   "cell_type": "code",
   "execution_count": 24,
   "metadata": {},
   "outputs": [
    {
     "name": "stdout",
     "output_type": "stream",
     "text": [
      "tf.Tensor(4.0, shape=(), dtype=float32)\n",
      "4\n"
     ]
    }
   ],
   "source": [
    "node2 = tf.constant(4.0, name='world')\n",
    "print(node2)\n",
    "tf.print(node2)"
   ]
  },
  {
   "cell_type": "markdown",
   "metadata": {},
   "source": [
    "### 두개의 노드의 값을 더하는 연산을 수행하는 node3를 정의"
   ]
  },
  {
   "cell_type": "code",
   "execution_count": 25,
   "metadata": {},
   "outputs": [
    {
     "name": "stdout",
     "output_type": "stream",
     "text": [
      "tf.Tensor(7.0, shape=(), dtype=float32)\n",
      "7\n"
     ]
    }
   ],
   "source": [
    "node3 = tf.add(node1, node2)\n",
    "print(node3)\n",
    "tf.print(node3)"
   ]
  }
 ],
 "metadata": {
  "kernelspec": {
   "display_name": "Python 3",
   "language": "python",
   "name": "python3"
  },
  "language_info": {
   "codemirror_mode": {
    "name": "ipython",
    "version": 3
   },
   "file_extension": ".py",
   "mimetype": "text/x-python",
   "name": "python",
   "nbconvert_exporter": "python",
   "pygments_lexer": "ipython3",
   "version": "3.9.12"
  }
 },
 "nbformat": 4,
 "nbformat_minor": 4
}
