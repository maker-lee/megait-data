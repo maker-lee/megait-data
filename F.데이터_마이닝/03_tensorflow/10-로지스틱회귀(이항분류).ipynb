{
 "cells": [
  {
   "cell_type": "markdown",
   "metadata": {},
   "source": [
    "# 로지스틱 회귀 - 이항분류\n",
    "\n",
    "## #01. 패키지 준비하기"
   ]
  },
  {
   "cell_type": "code",
   "execution_count": 1,
   "metadata": {},
   "outputs": [],
   "source": [
    "import sys\n",
    "sys.path.append('../../')\n",
    "import helper\n",
    "\n",
    "from pandas import read_excel, DataFrame\n",
    "from matplotlib import pyplot as plt\n",
    "import seaborn as sb\n",
    "import numpy as np\n",
    "\n",
    "from sklearn.model_selection import train_test_split\n",
    "from sklearn.preprocessing import StandardScaler\n",
    "from sklearn.metrics import classification_report, confusion_matrix, roc_curve, roc_auc_score, accuracy_score, recall_score, precision_score, f1_score\n",
    "\n",
    "from tensorflow.keras.models import Sequential\n",
    "from tensorflow.keras.layers import Dense\n",
    "from tensorflow.keras.callbacks import EarlyStopping\n",
    "from tensorflow.keras.callbacks import ReduceLROnPlateau\n",
    "from tensorflow.keras.callbacks import ModelCheckpoint"
   ]
  },
  {
   "cell_type": "markdown",
   "metadata": {},
   "source": [
    "## #02. 데이터셋 준비하기\n",
    "\n",
    "방사선학 석사과정 대학원생 모집을 하였다. 이 때 지원한 방사선사의 대학원 합격 여부에 따른 주요 요인이 무엇인지 분석하라.\n",
    "\n",
    "단, 독립변수는 정규분포를 따른다고 가정한다.\n",
    "\n",
    "-> 데이터수가 작아서 과적합이 발생함 + 합격자가 적어서 합격에 대한 정확도가 떨어짐\n",
    "\n",
    "| 변수 | 구분 | 설명 |\n",
    "|---|---|---\n",
    "| 합격여부 | 범주형 | 1=합격, 0=불합격 |\n",
    "| 필기점수 | 연속형 | 800점 만점 |\n",
    "| 학부성적 | 연속형 | 4.0 만점 |\n",
    "| 병원경력 | 범주형 | 1: 10년이상, 2: 2~5년, 3: 1~5년, 4: 1년 미만 |"
   ]
  },
  {
   "cell_type": "code",
   "execution_count": 23,
   "metadata": {},
   "outputs": [
    {
     "data": {
      "text/html": [
       "<div>\n",
       "<style scoped>\n",
       "    .dataframe tbody tr th:only-of-type {\n",
       "        vertical-align: middle;\n",
       "    }\n",
       "\n",
       "    .dataframe tbody tr th {\n",
       "        vertical-align: top;\n",
       "    }\n",
       "\n",
       "    .dataframe thead th {\n",
       "        text-align: right;\n",
       "    }\n",
       "</style>\n",
       "<table border=\"1\" class=\"dataframe\">\n",
       "  <thead>\n",
       "    <tr style=\"text-align: right;\">\n",
       "      <th></th>\n",
       "      <th>합격여부</th>\n",
       "      <th>필기점수</th>\n",
       "      <th>학부성적</th>\n",
       "      <th>병원경력</th>\n",
       "    </tr>\n",
       "  </thead>\n",
       "  <tbody>\n",
       "    <tr>\n",
       "      <th>0</th>\n",
       "      <td>0</td>\n",
       "      <td>380</td>\n",
       "      <td>3.61</td>\n",
       "      <td>3</td>\n",
       "    </tr>\n",
       "    <tr>\n",
       "      <th>1</th>\n",
       "      <td>1</td>\n",
       "      <td>660</td>\n",
       "      <td>3.67</td>\n",
       "      <td>3</td>\n",
       "    </tr>\n",
       "    <tr>\n",
       "      <th>2</th>\n",
       "      <td>1</td>\n",
       "      <td>800</td>\n",
       "      <td>4.00</td>\n",
       "      <td>1</td>\n",
       "    </tr>\n",
       "    <tr>\n",
       "      <th>3</th>\n",
       "      <td>1</td>\n",
       "      <td>640</td>\n",
       "      <td>3.19</td>\n",
       "      <td>4</td>\n",
       "    </tr>\n",
       "    <tr>\n",
       "      <th>4</th>\n",
       "      <td>0</td>\n",
       "      <td>520</td>\n",
       "      <td>2.93</td>\n",
       "      <td>4</td>\n",
       "    </tr>\n",
       "  </tbody>\n",
       "</table>\n",
       "</div>"
      ],
      "text/plain": [
       "   합격여부  필기점수  학부성적  병원경력\n",
       "0     0   380  3.61     3\n",
       "1     1   660  3.67     3\n",
       "2     1   800  4.00     1\n",
       "3     1   640  3.19     4\n",
       "4     0   520  2.93     4"
      ]
     },
     "execution_count": 23,
     "metadata": {},
     "output_type": "execute_result"
    }
   ],
   "source": [
    "origin = read_excel(\"https://data.hossam.kr/E05/gradeuate.xlsx\")\n",
    "origin.head()"
   ]
  },
  {
   "cell_type": "markdown",
   "metadata": {},
   "source": [
    "## #03. 데이터 전처리\n",
    "\n",
    "### 결측치 확인"
   ]
  },
  {
   "cell_type": "code",
   "execution_count": 3,
   "metadata": {},
   "outputs": [
    {
     "data": {
      "text/plain": [
       "합격여부    0\n",
       "필기점수    0\n",
       "학부성적    0\n",
       "병원경력    0\n",
       "dtype: int64"
      ]
     },
     "execution_count": 3,
     "metadata": {},
     "output_type": "execute_result"
    }
   ],
   "source": [
    "origin.isna().sum()"
   ]
  },
  {
   "cell_type": "markdown",
   "metadata": {},
   "source": [
    "### 명목형에 대한 데이터 타입 설정"
   ]
  },
  {
   "cell_type": "code",
   "execution_count": 4,
   "metadata": {},
   "outputs": [
    {
     "name": "stdout",
     "output_type": "stream",
     "text": [
      "<class 'pandas.core.frame.DataFrame'>\n",
      "RangeIndex: 400 entries, 0 to 399\n",
      "Data columns (total 4 columns):\n",
      " #   Column  Non-Null Count  Dtype   \n",
      "---  ------  --------------  -----   \n",
      " 0   합격여부    400 non-null    category\n",
      " 1   필기점수    400 non-null    int64   \n",
      " 2   학부성적    400 non-null    float64 \n",
      " 3   병원경력    400 non-null    int64   \n",
      "dtypes: category(1), float64(1), int64(2)\n",
      "memory usage: 10.0 KB\n"
     ]
    }
   ],
   "source": [
    "origin['합격여부'] = origin['합격여부'].astype('category')\n",
    "origin.info()"
   ]
  },
  {
   "cell_type": "markdown",
   "metadata": {},
   "source": [
    "## #04. 탐색적 데이터 분석\n",
    "\n",
    "### 기본통계 확인"
   ]
  },
  {
   "cell_type": "code",
   "execution_count": 5,
   "metadata": {},
   "outputs": [
    {
     "data": {
      "text/html": [
       "<div>\n",
       "<style scoped>\n",
       "    .dataframe tbody tr th:only-of-type {\n",
       "        vertical-align: middle;\n",
       "    }\n",
       "\n",
       "    .dataframe tbody tr th {\n",
       "        vertical-align: top;\n",
       "    }\n",
       "\n",
       "    .dataframe thead th {\n",
       "        text-align: right;\n",
       "    }\n",
       "</style>\n",
       "<table border=\"1\" class=\"dataframe\">\n",
       "  <thead>\n",
       "    <tr style=\"text-align: right;\">\n",
       "      <th></th>\n",
       "      <th>필기점수</th>\n",
       "      <th>학부성적</th>\n",
       "      <th>병원경력</th>\n",
       "    </tr>\n",
       "  </thead>\n",
       "  <tbody>\n",
       "    <tr>\n",
       "      <th>count</th>\n",
       "      <td>400.000000</td>\n",
       "      <td>400.000000</td>\n",
       "      <td>400.00000</td>\n",
       "    </tr>\n",
       "    <tr>\n",
       "      <th>mean</th>\n",
       "      <td>587.700000</td>\n",
       "      <td>3.389900</td>\n",
       "      <td>2.48500</td>\n",
       "    </tr>\n",
       "    <tr>\n",
       "      <th>std</th>\n",
       "      <td>115.516536</td>\n",
       "      <td>0.380567</td>\n",
       "      <td>0.94446</td>\n",
       "    </tr>\n",
       "    <tr>\n",
       "      <th>min</th>\n",
       "      <td>220.000000</td>\n",
       "      <td>2.260000</td>\n",
       "      <td>1.00000</td>\n",
       "    </tr>\n",
       "    <tr>\n",
       "      <th>25%</th>\n",
       "      <td>520.000000</td>\n",
       "      <td>3.130000</td>\n",
       "      <td>2.00000</td>\n",
       "    </tr>\n",
       "    <tr>\n",
       "      <th>50%</th>\n",
       "      <td>580.000000</td>\n",
       "      <td>3.395000</td>\n",
       "      <td>2.00000</td>\n",
       "    </tr>\n",
       "    <tr>\n",
       "      <th>75%</th>\n",
       "      <td>660.000000</td>\n",
       "      <td>3.670000</td>\n",
       "      <td>3.00000</td>\n",
       "    </tr>\n",
       "    <tr>\n",
       "      <th>max</th>\n",
       "      <td>800.000000</td>\n",
       "      <td>4.000000</td>\n",
       "      <td>4.00000</td>\n",
       "    </tr>\n",
       "  </tbody>\n",
       "</table>\n",
       "</div>"
      ],
      "text/plain": [
       "             필기점수        학부성적       병원경력\n",
       "count  400.000000  400.000000  400.00000\n",
       "mean   587.700000    3.389900    2.48500\n",
       "std    115.516536    0.380567    0.94446\n",
       "min    220.000000    2.260000    1.00000\n",
       "25%    520.000000    3.130000    2.00000\n",
       "50%    580.000000    3.395000    2.00000\n",
       "75%    660.000000    3.670000    3.00000\n",
       "max    800.000000    4.000000    4.00000"
      ]
     },
     "execution_count": 5,
     "metadata": {},
     "output_type": "execute_result"
    }
   ],
   "source": [
    "origin.describe()"
   ]
  },
  {
   "cell_type": "markdown",
   "metadata": {},
   "source": [
    "### 상자그림 확인"
   ]
  },
  {
   "cell_type": "code",
   "execution_count": 6,
   "metadata": {},
   "outputs": [
    {
     "name": "stderr",
     "output_type": "stream",
     "text": [
      "c:\\Users\\MegaIT302-02\\AppData\\Local\\Programs\\Python\\Python39\\lib\\site-packages\\IPython\\core\\pylabtools.py:152: UserWarning: Glyph 54596 (\\N{HANGUL SYLLABLE PIL}) missing from current font.\n",
      "  fig.canvas.print_figure(bytes_io, **kw)\n",
      "c:\\Users\\MegaIT302-02\\AppData\\Local\\Programs\\Python\\Python39\\lib\\site-packages\\IPython\\core\\pylabtools.py:152: UserWarning: Glyph 44592 (\\N{HANGUL SYLLABLE GI}) missing from current font.\n",
      "  fig.canvas.print_figure(bytes_io, **kw)\n",
      "c:\\Users\\MegaIT302-02\\AppData\\Local\\Programs\\Python\\Python39\\lib\\site-packages\\IPython\\core\\pylabtools.py:152: UserWarning: Glyph 51216 (\\N{HANGUL SYLLABLE JEOM}) missing from current font.\n",
      "  fig.canvas.print_figure(bytes_io, **kw)\n",
      "c:\\Users\\MegaIT302-02\\AppData\\Local\\Programs\\Python\\Python39\\lib\\site-packages\\IPython\\core\\pylabtools.py:152: UserWarning: Glyph 49688 (\\N{HANGUL SYLLABLE SU}) missing from current font.\n",
      "  fig.canvas.print_figure(bytes_io, **kw)\n",
      "c:\\Users\\MegaIT302-02\\AppData\\Local\\Programs\\Python\\Python39\\lib\\site-packages\\IPython\\core\\pylabtools.py:152: UserWarning: Glyph 54617 (\\N{HANGUL SYLLABLE HAG}) missing from current font.\n",
      "  fig.canvas.print_figure(bytes_io, **kw)\n",
      "c:\\Users\\MegaIT302-02\\AppData\\Local\\Programs\\Python\\Python39\\lib\\site-packages\\IPython\\core\\pylabtools.py:152: UserWarning: Glyph 48512 (\\N{HANGUL SYLLABLE BU}) missing from current font.\n",
      "  fig.canvas.print_figure(bytes_io, **kw)\n",
      "c:\\Users\\MegaIT302-02\\AppData\\Local\\Programs\\Python\\Python39\\lib\\site-packages\\IPython\\core\\pylabtools.py:152: UserWarning: Glyph 49457 (\\N{HANGUL SYLLABLE SEONG}) missing from current font.\n",
      "  fig.canvas.print_figure(bytes_io, **kw)\n",
      "c:\\Users\\MegaIT302-02\\AppData\\Local\\Programs\\Python\\Python39\\lib\\site-packages\\IPython\\core\\pylabtools.py:152: UserWarning: Glyph 51201 (\\N{HANGUL SYLLABLE JEOG}) missing from current font.\n",
      "  fig.canvas.print_figure(bytes_io, **kw)\n",
      "c:\\Users\\MegaIT302-02\\AppData\\Local\\Programs\\Python\\Python39\\lib\\site-packages\\IPython\\core\\pylabtools.py:152: UserWarning: Glyph 48337 (\\N{HANGUL SYLLABLE BYEONG}) missing from current font.\n",
      "  fig.canvas.print_figure(bytes_io, **kw)\n",
      "c:\\Users\\MegaIT302-02\\AppData\\Local\\Programs\\Python\\Python39\\lib\\site-packages\\IPython\\core\\pylabtools.py:152: UserWarning: Glyph 50896 (\\N{HANGUL SYLLABLE WEON}) missing from current font.\n",
      "  fig.canvas.print_figure(bytes_io, **kw)\n",
      "c:\\Users\\MegaIT302-02\\AppData\\Local\\Programs\\Python\\Python39\\lib\\site-packages\\IPython\\core\\pylabtools.py:152: UserWarning: Glyph 44221 (\\N{HANGUL SYLLABLE GYEONG}) missing from current font.\n",
      "  fig.canvas.print_figure(bytes_io, **kw)\n",
      "c:\\Users\\MegaIT302-02\\AppData\\Local\\Programs\\Python\\Python39\\lib\\site-packages\\IPython\\core\\pylabtools.py:152: UserWarning: Glyph 47141 (\\N{HANGUL SYLLABLE RYEOG}) missing from current font.\n",
      "  fig.canvas.print_figure(bytes_io, **kw)\n"
     ]
    },
    {
     "data": {
      "image/png": "[encoded data removed]",
      "text/plain": [
       "<Figure size 1000x500 with 1 Axes>"
      ]
     },
     "metadata": {},
     "output_type": "display_data"
    }
   ],
   "source": [
    "plt.figure(figsize=(10, 5))\n",
    "sb.boxplot(data=origin)\n",
    "plt.show()\n",
    "plt.close()"
   ]
  },
  {
   "cell_type": "markdown",
   "metadata": {},
   "source": [
    "> 데이터 단위가 크게 다르므로 표준화가 필요해 보임"
   ]
  },
  {
   "cell_type": "markdown",
   "metadata": {},
   "source": [
    "## #05. 데이터셋 분할하기\n",
    "\n",
    "### 랜덤시드 고정"
   ]
  },
  {
   "cell_type": "code",
   "execution_count": 7,
   "metadata": {},
   "outputs": [],
   "source": [
    "np.random.seed(777)"
   ]
  },
  {
   "cell_type": "markdown",
   "metadata": {},
   "source": [
    "### 훈련 데이터(독립변수)와 레이블(종속변수) 구분하기"
   ]
  },
  {
   "cell_type": "code",
   "execution_count": 8,
   "metadata": {},
   "outputs": [
    {
     "data": {
      "text/plain": [
       "((400, 3), (400, 1))"
      ]
     },
     "execution_count": 8,
     "metadata": {},
     "output_type": "execute_result"
    }
   ],
   "source": [
    "x = origin[['필기점수','학부성적','병원경력']]\n",
    "y = origin[['합격여부']]\n",
    "x.shape, y.shape"
   ]
  },
  {
   "cell_type": "markdown",
   "metadata": {},
   "source": [
    "### 데이터 표준화"
   ]
  },
  {
   "cell_type": "code",
   "execution_count": 9,
   "metadata": {},
   "outputs": [
    {
     "name": "stdout",
     "output_type": "stream",
     "text": [
      "(400, 3)\n"
     ]
    },
    {
     "data": {
      "text/plain": [
       "array([[-1.80026271,  0.57907192,  0.54596793],\n",
       "       [ 0.62666824,  0.73692942,  0.54596793],\n",
       "       [ 1.84013372,  1.60514289, -1.57429586],\n",
       "       ...,\n",
       "       [-1.10685387, -1.99925902, -0.51416397],\n",
       "       [ 0.97337266,  0.68431046, -0.51416397],\n",
       "       [ 0.10661161,  1.31573861,  0.54596793]])"
      ]
     },
     "execution_count": 9,
     "metadata": {},
     "output_type": "execute_result"
    }
   ],
   "source": [
    "x_scaller = StandardScaler()\n",
    "x_scale = x_scaller.fit_transform(x)\n",
    "print(x_scale.shape)\n",
    "x_scale"
   ]
  },
  {
   "cell_type": "markdown",
   "metadata": {},
   "source": [
    "### 표준화 전 후 상자그림 비교"
   ]
  },
  {
   "cell_type": "code",
   "execution_count": 10,
   "metadata": {},
   "outputs": [
    {
     "name": "stderr",
     "output_type": "stream",
     "text": [
      "c:\\Users\\MegaIT302-02\\AppData\\Local\\Programs\\Python\\Python39\\lib\\site-packages\\IPython\\core\\pylabtools.py:152: UserWarning: Glyph 54596 (\\N{HANGUL SYLLABLE PIL}) missing from current font.\n",
      "  fig.canvas.print_figure(bytes_io, **kw)\n",
      "c:\\Users\\MegaIT302-02\\AppData\\Local\\Programs\\Python\\Python39\\lib\\site-packages\\IPython\\core\\pylabtools.py:152: UserWarning: Glyph 44592 (\\N{HANGUL SYLLABLE GI}) missing from current font.\n",
      "  fig.canvas.print_figure(bytes_io, **kw)\n",
      "c:\\Users\\MegaIT302-02\\AppData\\Local\\Programs\\Python\\Python39\\lib\\site-packages\\IPython\\core\\pylabtools.py:152: UserWarning: Glyph 51216 (\\N{HANGUL SYLLABLE JEOM}) missing from current font.\n",
      "  fig.canvas.print_figure(bytes_io, **kw)\n",
      "c:\\Users\\MegaIT302-02\\AppData\\Local\\Programs\\Python\\Python39\\lib\\site-packages\\IPython\\core\\pylabtools.py:152: UserWarning: Glyph 49688 (\\N{HANGUL SYLLABLE SU}) missing from current font.\n",
      "  fig.canvas.print_figure(bytes_io, **kw)\n",
      "c:\\Users\\MegaIT302-02\\AppData\\Local\\Programs\\Python\\Python39\\lib\\site-packages\\IPython\\core\\pylabtools.py:152: UserWarning: Glyph 54617 (\\N{HANGUL SYLLABLE HAG}) missing from current font.\n",
      "  fig.canvas.print_figure(bytes_io, **kw)\n",
      "c:\\Users\\MegaIT302-02\\AppData\\Local\\Programs\\Python\\Python39\\lib\\site-packages\\IPython\\core\\pylabtools.py:152: UserWarning: Glyph 48512 (\\N{HANGUL SYLLABLE BU}) missing from current font.\n",
      "  fig.canvas.print_figure(bytes_io, **kw)\n",
      "c:\\Users\\MegaIT302-02\\AppData\\Local\\Programs\\Python\\Python39\\lib\\site-packages\\IPython\\core\\pylabtools.py:152: UserWarning: Glyph 49457 (\\N{HANGUL SYLLABLE SEONG}) missing from current font.\n",
      "  fig.canvas.print_figure(bytes_io, **kw)\n",
      "c:\\Users\\MegaIT302-02\\AppData\\Local\\Programs\\Python\\Python39\\lib\\site-packages\\IPython\\core\\pylabtools.py:152: UserWarning: Glyph 51201 (\\N{HANGUL SYLLABLE JEOG}) missing from current font.\n",
      "  fig.canvas.print_figure(bytes_io, **kw)\n",
      "c:\\Users\\MegaIT302-02\\AppData\\Local\\Programs\\Python\\Python39\\lib\\site-packages\\IPython\\core\\pylabtools.py:152: UserWarning: Glyph 48337 (\\N{HANGUL SYLLABLE BYEONG}) missing from current font.\n",
      "  fig.canvas.print_figure(bytes_io, **kw)\n",
      "c:\\Users\\MegaIT302-02\\AppData\\Local\\Programs\\Python\\Python39\\lib\\site-packages\\IPython\\core\\pylabtools.py:152: UserWarning: Glyph 50896 (\\N{HANGUL SYLLABLE WEON}) missing from current font.\n",
      "  fig.canvas.print_figure(bytes_io, **kw)\n",
      "c:\\Users\\MegaIT302-02\\AppData\\Local\\Programs\\Python\\Python39\\lib\\site-packages\\IPython\\core\\pylabtools.py:152: UserWarning: Glyph 44221 (\\N{HANGUL SYLLABLE GYEONG}) missing from current font.\n",
      "  fig.canvas.print_figure(bytes_io, **kw)\n",
      "c:\\Users\\MegaIT302-02\\AppData\\Local\\Programs\\Python\\Python39\\lib\\site-packages\\IPython\\core\\pylabtools.py:152: UserWarning: Glyph 47141 (\\N{HANGUL SYLLABLE RYEOG}) missing from current font.\n",
      "  fig.canvas.print_figure(bytes_io, **kw)\n"
     ]
    },
    {
     "data": {
      "image/png": "[encoded data removed]",
      "text/plain": [
       "<Figure size 2250x750 with 2 Axes>"
      ]
     },
     "metadata": {},
     "output_type": "display_data"
    }
   ],
   "source": [
    "# 임시로 독립변수와 종속변수를 하나의 DataFrame으로 병합\n",
    "x_scale_df = DataFrame(x_scale, columns=['필기점수','학부성적','병원경력'])\n",
    "\n",
    "fig, ax = plt.subplots(1, 2, figsize=(15, 5), dpi=150)\n",
    "sb.boxplot(data=origin, ax=ax[0])\n",
    "sb.boxplot(data=x_scale_df, ax=ax[1])\n",
    "ax[0].set_title('before')\n",
    "ax[1].set_title('after')\n",
    "plt.show()\n",
    "plt.close()"
   ]
  },
  {
   "cell_type": "markdown",
   "metadata": {},
   "source": [
    "### 훈련 데이터와 검증 데이터로 분할"
   ]
  },
  {
   "cell_type": "code",
   "execution_count": 11,
   "metadata": {},
   "outputs": [
    {
     "data": {
      "text/plain": [
       "((280, 3), (120, 3), (280, 1), (120, 1))"
      ]
     },
     "execution_count": 11,
     "metadata": {},
     "output_type": "execute_result"
    }
   ],
   "source": [
    "x_train, x_test, y_train, y_test = train_test_split(x_scale, y, test_size=0.3, random_state=777)\n",
    "x_train.shape, x_test.shape, y_train.shape, y_test.shape"
   ]
  },
  {
   "cell_type": "markdown",
   "metadata": {},
   "source": [
    "## #06. 모델 개발\n",
    "\n",
    "### 모델 정의\n",
    "\n",
    "[relu,] sigmoid\trmsporp\tbinary_crossentropy\tacc"
   ]
  },
  {
   "cell_type": "code",
   "execution_count": 12,
   "metadata": {},
   "outputs": [
    {
     "name": "stdout",
     "output_type": "stream",
     "text": [
      "Model: \"sequential\"\n",
      "_________________________________________________________________\n",
      " Layer (type)                Output Shape              Param #   \n",
      "=================================================================\n",
      " dense (Dense)               (None, 32)                128       \n",
      "                                                                 \n",
      " dense_1 (Dense)             (None, 1)                 33        \n",
      "                                                                 \n",
      "=================================================================\n",
      "Total params: 161 (644.00 Byte)\n",
      "Trainable params: 161 (644.00 Byte)\n",
      "Non-trainable params: 0 (0.00 Byte)\n",
      "_________________________________________________________________\n"
     ]
    }
   ],
   "source": [
    "model = Sequential()\n",
    "model.add(Dense(32, activation='relu', input_shape=(3, )))\n",
    "model.add(Dense(1, activation='sigmoid'))\n",
    "model.compile(optimizer='rmsprop', loss = 'binary_crossentropy', metrics = ['acc'])\n",
    "model.summary()"
   ]
  },
  {
   "cell_type": "markdown",
   "metadata": {},
   "source": [
    "### 학습하기"
   ]
  },
  {
   "cell_type": "code",
   "execution_count": 13,
   "metadata": {},
   "outputs": [
    {
     "name": "stdout",
     "output_type": "stream",
     "text": [
      "Epoch 1/500\n",
      "9/9 [==============================] - 1s 19ms/step - loss: 0.7041 - acc: 0.4393 - val_loss: 0.6746 - val_acc: 0.6750 - lr: 0.0010\n",
      "Epoch 2/500\n",
      "9/9 [==============================] - 0s 4ms/step - loss: 0.6775 - acc: 0.6071 - val_loss: 0.6518 - val_acc: 0.7250 - lr: 0.0010\n",
      "Epoch 3/500\n",
      "9/9 [==============================] - 0s 4ms/step - loss: 0.6603 - acc: 0.6571 - val_loss: 0.6342 - val_acc: 0.7250 - lr: 0.0010\n",
      "Epoch 4/500\n",
      "9/9 [==============================] - 0s 3ms/step - loss: 0.6470 - acc: 0.6893 - val_loss: 0.6204 - val_acc: 0.7667 - lr: 0.0010\n",
      "Epoch 5/500\n",
      "9/9 [==============================] - 0s 4ms/step - loss: 0.6366 - acc: 0.6821 - val_loss: 0.6080 - val_acc: 0.7667 - lr: 0.0010\n",
      "Epoch 6/500\n",
      "9/9 [==============================] - 0s 4ms/step - loss: 0.6277 - acc: 0.6821 - val_loss: 0.5982 - val_acc: 0.7750 - lr: 0.0010\n",
      "Epoch 7/500\n",
      "9/9 [==============================] - 0s 4ms/step - loss: 0.6209 - acc: 0.6750 - val_loss: 0.5893 - val_acc: 0.7583 - lr: 0.0010\n",
      "Epoch 8/500\n",
      "9/9 [==============================] - 0s 4ms/step - loss: 0.6151 - acc: 0.6821 - val_loss: 0.5817 - val_acc: 0.7750 - lr: 0.0010\n",
      "Epoch 9/500\n",
      "9/9 [==============================] - 0s 4ms/step - loss: 0.6106 - acc: 0.6750 - val_loss: 0.5758 - val_acc: 0.7500 - lr: 0.0010\n",
      "Epoch 10/500\n",
      "9/9 [==============================] - 0s 4ms/step - loss: 0.6072 - acc: 0.6643 - val_loss: 0.5706 - val_acc: 0.7500 - lr: 0.0010\n",
      "Epoch 11/500\n",
      "9/9 [==============================] - 0s 4ms/step - loss: 0.6042 - acc: 0.6821 - val_loss: 0.5660 - val_acc: 0.7500 - lr: 0.0010\n",
      "Epoch 12/500\n",
      "9/9 [==============================] - 0s 4ms/step - loss: 0.6020 - acc: 0.6821 - val_loss: 0.5624 - val_acc: 0.7500 - lr: 0.0010\n",
      "Epoch 13/500\n",
      "9/9 [==============================] - 0s 4ms/step - loss: 0.6002 - acc: 0.6857 - val_loss: 0.5593 - val_acc: 0.7500 - lr: 0.0010\n",
      "Epoch 14/500\n",
      "9/9 [==============================] - 0s 4ms/step - loss: 0.5986 - acc: 0.6857 - val_loss: 0.5563 - val_acc: 0.7500 - lr: 0.0010\n",
      "Epoch 15/500\n",
      "9/9 [==============================] - 0s 7ms/step - loss: 0.5973 - acc: 0.6857 - val_loss: 0.5542 - val_acc: 0.7500 - lr: 0.0010\n",
      "Epoch 16/500\n",
      "9/9 [==============================] - 0s 4ms/step - loss: 0.5968 - acc: 0.6857 - val_loss: 0.5524 - val_acc: 0.7500 - lr: 0.0010\n",
      "Epoch 17/500\n",
      "9/9 [==============================] - 0s 3ms/step - loss: 0.5958 - acc: 0.6893 - val_loss: 0.5508 - val_acc: 0.7500 - lr: 0.0010\n",
      "Epoch 18/500\n",
      "9/9 [==============================] - 0s 4ms/step - loss: 0.5950 - acc: 0.6929 - val_loss: 0.5492 - val_acc: 0.7500 - lr: 0.0010\n",
      "Epoch 19/500\n",
      "9/9 [==============================] - 0s 3ms/step - loss: 0.5944 - acc: 0.6893 - val_loss: 0.5478 - val_acc: 0.7500 - lr: 0.0010\n",
      "Epoch 20/500\n",
      "9/9 [==============================] - 0s 3ms/step - loss: 0.5937 - acc: 0.6893 - val_loss: 0.5466 - val_acc: 0.7500 - lr: 0.0010\n",
      "Epoch 21/500\n",
      "9/9 [==============================] - 0s 4ms/step - loss: 0.5933 - acc: 0.6929 - val_loss: 0.5456 - val_acc: 0.7500 - lr: 0.0010\n",
      "Epoch 22/500\n",
      "9/9 [==============================] - 0s 4ms/step - loss: 0.5927 - acc: 0.7000 - val_loss: 0.5446 - val_acc: 0.7500 - lr: 0.0010\n",
      "Epoch 23/500\n",
      "9/9 [==============================] - 0s 4ms/step - loss: 0.5925 - acc: 0.6929 - val_loss: 0.5437 - val_acc: 0.7500 - lr: 0.0010\n",
      "Epoch 24/500\n",
      "9/9 [==============================] - 0s 4ms/step - loss: 0.5920 - acc: 0.6964 - val_loss: 0.5430 - val_acc: 0.7500 - lr: 0.0010\n",
      "Epoch 25/500\n",
      "9/9 [==============================] - 0s 3ms/step - loss: 0.5915 - acc: 0.7000 - val_loss: 0.5426 - val_acc: 0.7500 - lr: 0.0010\n",
      "Epoch 26/500\n",
      "9/9 [==============================] - 0s 4ms/step - loss: 0.5916 - acc: 0.7000 - val_loss: 0.5419 - val_acc: 0.7500 - lr: 0.0010\n",
      "Epoch 27/500\n",
      "9/9 [==============================] - 0s 4ms/step - loss: 0.5911 - acc: 0.7000 - val_loss: 0.5416 - val_acc: 0.7500 - lr: 0.0010\n",
      "Epoch 28/500\n",
      "9/9 [==============================] - 0s 3ms/step - loss: 0.5911 - acc: 0.7000 - val_loss: 0.5410 - val_acc: 0.7500 - lr: 0.0010\n",
      "Epoch 29/500\n",
      "9/9 [==============================] - 0s 4ms/step - loss: 0.5901 - acc: 0.7000 - val_loss: 0.5406 - val_acc: 0.7500 - lr: 0.0010\n",
      "Epoch 30/500\n",
      "9/9 [==============================] - 0s 4ms/step - loss: 0.5902 - acc: 0.7000 - val_loss: 0.5403 - val_acc: 0.7500 - lr: 0.0010\n",
      "Epoch 31/500\n",
      "9/9 [==============================] - 0s 4ms/step - loss: 0.5899 - acc: 0.6893 - val_loss: 0.5398 - val_acc: 0.7583 - lr: 0.0010\n",
      "Epoch 32/500\n",
      "9/9 [==============================] - 0s 4ms/step - loss: 0.5896 - acc: 0.7000 - val_loss: 0.5394 - val_acc: 0.7583 - lr: 0.0010\n",
      "Epoch 33/500\n",
      "9/9 [==============================] - 0s 4ms/step - loss: 0.5893 - acc: 0.7000 - val_loss: 0.5391 - val_acc: 0.7583 - lr: 0.0010\n",
      "Epoch 34/500\n",
      "9/9 [==============================] - 0s 4ms/step - loss: 0.5895 - acc: 0.6964 - val_loss: 0.5391 - val_acc: 0.7583 - lr: 0.0010\n",
      "Epoch 35/500\n",
      "9/9 [==============================] - 0s 4ms/step - loss: 0.5888 - acc: 0.7000 - val_loss: 0.5389 - val_acc: 0.7583 - lr: 0.0010\n",
      "Epoch 36/500\n",
      "9/9 [==============================] - 0s 4ms/step - loss: 0.5889 - acc: 0.6964 - val_loss: 0.5388 - val_acc: 0.7500 - lr: 0.0010\n",
      "Epoch 37/500\n",
      "9/9 [==============================] - 0s 4ms/step - loss: 0.5886 - acc: 0.6929 - val_loss: 0.5385 - val_acc: 0.7500 - lr: 0.0010\n",
      "Epoch 38/500\n",
      "9/9 [==============================] - 0s 4ms/step - loss: 0.5883 - acc: 0.7000 - val_loss: 0.5384 - val_acc: 0.7583 - lr: 0.0010\n",
      "Epoch 39/500\n",
      "9/9 [==============================] - 0s 4ms/step - loss: 0.5881 - acc: 0.6929 - val_loss: 0.5384 - val_acc: 0.7583 - lr: 0.0010\n",
      "Epoch 40/500\n",
      "9/9 [==============================] - 0s 4ms/step - loss: 0.5879 - acc: 0.6964 - val_loss: 0.5385 - val_acc: 0.7583 - lr: 0.0010\n",
      "Epoch 41/500\n",
      "1/9 [==>...........................] - ETA: 0s - loss: 0.5281 - acc: 0.7500\n",
      "Epoch 41: ReduceLROnPlateau reducing learning rate to 0.0005000000237487257.\n",
      "9/9 [==============================] - 0s 4ms/step - loss: 0.5877 - acc: 0.6929 - val_loss: 0.5387 - val_acc: 0.7583 - lr: 0.0010\n",
      "Epoch 42/500\n",
      "9/9 [==============================] - 0s 4ms/step - loss: 0.5870 - acc: 0.6929 - val_loss: 0.5387 - val_acc: 0.7583 - lr: 5.0000e-04\n",
      "Epoch 43/500\n",
      "9/9 [==============================] - 0s 4ms/step - loss: 0.5869 - acc: 0.6964 - val_loss: 0.5385 - val_acc: 0.7583 - lr: 5.0000e-04\n",
      "Epoch 43: early stopping\n"
     ]
    }
   ],
   "source": [
    "result = model.fit(x_train, y_train, epochs = 500, validation_data = (x_test, y_test), callbacks = [\n",
    "    EarlyStopping(monitor = 'val_loss', patience=5, verbose = 1),\n",
    "    ReduceLROnPlateau(monitor= \"val_loss\", patience=3, factor = 0.5, min_lr=0.0001, verbose=1)\n",
    "])"
   ]
  },
  {
   "cell_type": "markdown",
   "metadata": {},
   "source": [
    "## #07. 학습 결과 평가"
   ]
  },
  {
   "cell_type": "code",
   "execution_count": 14,
   "metadata": {},
   "outputs": [
    {
     "data": {
      "image/png": "[encoded data removed]",
      "text/plain": [
       "<Figure size 2250x750 with 2 Axes>"
      ]
     },
     "metadata": {},
     "output_type": "display_data"
    },
    {
     "name": "stdout",
     "output_type": "stream",
     "text": [
      "9/9 [==============================] - 0s 876us/step - loss: 0.5864 - acc: 0.6964\n",
      "최종 훈련 손실률: 0.586437, 최종 훈련 정확도: 0.696429\n",
      "4/4 [==============================] - 0s 1ms/step - loss: 0.5385 - acc: 0.7583\n",
      "최종 검증 손실률: 0.538505, 최종 검증 정확도: 0.758333\n"
     ]
    }
   ],
   "source": [
    "helper.tf_result_plot(result)\n",
    "\n",
    "evaluate1 = model.evaluate(x_train, y_train)\n",
    "print(\"최종 훈련 손실률: %f, 최종 훈련 정확도: %f\" % (evaluate1[0], evaluate1[1]))\n",
    "\n",
    "evaluate2 = model.evaluate(x_test, y_test)\n",
    "print(\"최종 검증 손실률: %f, 최종 검증 정확도: %f\" % (evaluate2[0], evaluate2[1]))"
   ]
  },
  {
   "cell_type": "markdown",
   "metadata": {},
   "source": [
    "## #08. 학습 결과 적용"
   ]
  },
  {
   "cell_type": "markdown",
   "metadata": {},
   "source": [
    "### 훈련 데이터에 대한 예측 결과 산정"
   ]
  },
  {
   "cell_type": "code",
   "execution_count": 15,
   "metadata": {},
   "outputs": [
    {
     "name": "stdout",
     "output_type": "stream",
     "text": [
      "9/9 [==============================] - 0s 751us/step\n",
      "280개의 훈련 데이터가 1개의 경우의 수를 갖는다.\n",
      "[[0.37792358]\n",
      " [0.5324629 ]\n",
      " [0.1613785 ]\n",
      " [0.23540711]\n",
      " [0.17040826]\n",
      " [0.1470651 ]\n",
      " [0.48467642]\n",
      " [0.48992798]\n",
      " [0.3365477 ]\n",
      " [0.37306067]\n",
      " [0.32220238]\n",
      " [0.3406038 ]\n",
      " [0.4434405 ]\n",
      " [0.3069098 ]\n",
      " [0.18410513]\n",
      " [0.4439277 ]\n",
      " [0.21951483]\n",
      " [0.47240105]\n",
      " [0.57089466]\n",
      " [0.5021062 ]\n",
      " [0.346054  ]\n",
      " [0.5195909 ]\n",
      " [0.3168129 ]\n",
      " [0.12799159]\n",
      " [0.35959795]\n",
      " [0.33545357]\n",
      " [0.48235562]\n",
      " [0.33433124]\n",
      " [0.44538906]\n",
      " [0.48277515]\n",
      " [0.3362054 ]\n",
      " [0.4826292 ]\n",
      " [0.33807212]\n",
      " [0.22356772]\n",
      " [0.38175777]\n",
      " [0.27513596]\n",
      " [0.17726164]\n",
      " [0.10163245]\n",
      " [0.34066442]\n",
      " [0.40663844]\n",
      " [0.4127349 ]\n",
      " [0.1583421 ]\n",
      " [0.43387145]\n",
      " [0.3101648 ]\n",
      " [0.29581484]\n",
      " [0.44687405]\n",
      " [0.10621781]\n",
      " [0.28145954]\n",
      " [0.44667935]\n",
      " [0.15494354]\n",
      " [0.4505548 ]\n",
      " [0.33457702]\n",
      " [0.4360444 ]\n",
      " [0.16848178]\n",
      " [0.4600652 ]\n",
      " [0.5279149 ]\n",
      " [0.33724716]\n",
      " [0.4505548 ]\n",
      " [0.13828449]\n",
      " [0.30289677]\n",
      " [0.35166234]\n",
      " [0.41724423]\n",
      " [0.2616617 ]\n",
      " [0.33153167]\n",
      " [0.22389768]\n",
      " [0.23850577]\n",
      " [0.48292112]\n",
      " [0.24879873]\n",
      " [0.1922117 ]\n",
      " [0.3339221 ]\n",
      " [0.2988378 ]\n",
      " [0.22888827]\n",
      " [0.3341851 ]\n",
      " [0.319692  ]\n",
      " [0.47982866]\n",
      " [0.4649638 ]\n",
      " [0.44667935]\n",
      " [0.44111967]\n",
      " [0.53403026]\n",
      " [0.3340098 ]\n",
      " [0.45210066]\n",
      " [0.33561966]\n",
      " [0.1615537 ]\n",
      " [0.17687331]\n",
      " [0.3239149 ]\n",
      " [0.22910346]\n",
      " [0.3032621 ]\n",
      " [0.53607976]\n",
      " [0.16498214]\n",
      " [0.55016226]\n",
      " [0.4449826 ]\n",
      " [0.11224025]\n",
      " [0.13520135]\n",
      " [0.30498514]\n",
      " [0.44745448]\n",
      " [0.29260722]\n",
      " [0.48532262]\n",
      " [0.5542009 ]\n",
      " [0.2570122 ]\n",
      " [0.484794  ]\n",
      " [0.3324259 ]\n",
      " [0.16505522]\n",
      " [0.48429742]\n",
      " [0.4881211 ]\n",
      " [0.53108734]\n",
      " [0.25510126]\n",
      " [0.2536076 ]\n",
      " [0.28176335]\n",
      " [0.19602732]\n",
      " [0.11242571]\n",
      " [0.51800764]\n",
      " [0.3562717 ]\n",
      " [0.38931444]\n",
      " [0.49826467]\n",
      " [0.42574745]\n",
      " [0.1998017 ]\n",
      " [0.12228499]\n",
      " [0.3006792 ]\n",
      " [0.33380553]\n",
      " [0.10996564]\n",
      " [0.14688213]\n",
      " [0.24205768]\n",
      " [0.43902797]\n",
      " [0.33710405]\n",
      " [0.18186937]\n",
      " [0.44181424]\n",
      " [0.3797719 ]\n",
      " [0.22315876]\n",
      " [0.33797336]\n",
      " [0.11433579]\n",
      " [0.2498804 ]\n",
      " [0.36734295]\n",
      " [0.47195277]\n",
      " [0.20347556]\n",
      " [0.21646444]\n",
      " [0.25983956]\n",
      " [0.12477811]\n",
      " [0.29267818]\n",
      " [0.26139763]\n",
      " [0.2030234 ]\n",
      " [0.06955365]\n",
      " [0.34276766]\n",
      " [0.27727184]\n",
      " [0.34280318]\n",
      " [0.17819221]\n",
      " [0.5375258 ]\n",
      " [0.29581663]\n",
      " [0.3548167 ]\n",
      " [0.1963548 ]\n",
      " [0.56210005]\n",
      " [0.44106326]\n",
      " [0.47804517]\n",
      " [0.07390244]\n",
      " [0.47854427]\n",
      " [0.44805765]\n",
      " [0.17746222]\n",
      " [0.39421505]\n",
      " [0.35113826]\n",
      " [0.32343438]\n",
      " [0.44980904]\n",
      " [0.34250638]\n",
      " [0.29159963]\n",
      " [0.49984208]\n",
      " [0.4751142 ]\n",
      " [0.05397604]\n",
      " [0.3765534 ]\n",
      " [0.47293845]\n",
      " [0.13368215]\n",
      " [0.3426867 ]\n",
      " [0.38413095]\n",
      " [0.5178596 ]\n",
      " [0.2070578 ]\n",
      " [0.29073456]\n",
      " [0.3695519 ]\n",
      " [0.20429327]\n",
      " [0.2071405 ]\n",
      " [0.38650253]\n",
      " [0.20729384]\n",
      " [0.49027902]\n",
      " [0.27305177]\n",
      " [0.3450533 ]\n",
      " [0.4544688 ]\n",
      " [0.20711301]\n",
      " [0.20118976]\n",
      " [0.20524964]\n",
      " [0.43685898]\n",
      " [0.2149262 ]\n",
      " [0.21195301]\n",
      " [0.23039083]\n",
      " [0.16814317]\n",
      " [0.3356903 ]\n",
      " [0.37059748]\n",
      " [0.5302809 ]\n",
      " [0.39061   ]\n",
      " [0.24418521]\n",
      " [0.18222387]\n",
      " [0.18240106]\n",
      " [0.17167503]\n",
      " [0.33857948]\n",
      " [0.484794  ]\n",
      " [0.23592384]\n",
      " [0.45555714]\n",
      " [0.42086697]\n",
      " [0.33575538]\n",
      " [0.23930769]\n",
      " [0.45059827]\n",
      " [0.12485555]\n",
      " [0.19689962]\n",
      " [0.3421635 ]\n",
      " [0.0735307 ]\n",
      " [0.3075689 ]\n",
      " [0.34394842]\n",
      " [0.47139028]\n",
      " [0.4891707 ]\n",
      " [0.502894  ]\n",
      " [0.14695446]\n",
      " [0.24113017]\n",
      " [0.33333835]\n",
      " [0.4481579 ]\n",
      " [0.24746841]\n",
      " [0.11780027]\n",
      " [0.3324259 ]\n",
      " [0.36446187]\n",
      " [0.4254095 ]\n",
      " [0.3061676 ]\n",
      " [0.36613378]\n",
      " [0.33334622]\n",
      " [0.46316344]\n",
      " [0.45158708]\n",
      " [0.343072  ]\n",
      " [0.48947838]\n",
      " [0.31995678]\n",
      " [0.42463398]\n",
      " [0.26437247]\n",
      " [0.19025247]\n",
      " [0.44997808]\n",
      " [0.3455984 ]\n",
      " [0.4899658 ]\n",
      " [0.41580895]\n",
      " [0.2279061 ]\n",
      " [0.3705496 ]\n",
      " [0.33880165]\n",
      " [0.46945727]\n",
      " [0.5873957 ]\n",
      " [0.30089507]\n",
      " [0.26404548]\n",
      " [0.37270024]\n",
      " [0.56210005]\n",
      " [0.11286555]\n",
      " [0.43005216]\n",
      " [0.33424374]\n",
      " [0.16314289]\n",
      " [0.1423201 ]\n",
      " [0.190433  ]\n",
      " [0.33945918]\n",
      " [0.15864623]\n",
      " [0.27208865]\n",
      " [0.35018864]\n",
      " [0.2658615 ]\n",
      " [0.3993587 ]\n",
      " [0.4857925 ]\n",
      " [0.346054  ]\n",
      " [0.55538875]\n",
      " [0.13365845]\n",
      " [0.3452454 ]\n",
      " [0.3987889 ]\n",
      " [0.5006206 ]\n",
      " [0.31181028]\n",
      " [0.21518259]\n",
      " [0.23377372]\n",
      " [0.47468898]\n",
      " [0.23061071]\n",
      " [0.3390864 ]\n",
      " [0.23672125]\n",
      " [0.47836053]\n",
      " [0.06109428]\n",
      " [0.46018785]\n",
      " [0.16848178]\n",
      " [0.46553445]\n",
      " [0.35563388]]\n"
     ]
    }
   ],
   "source": [
    "train_pred = model.predict(x_train)\n",
    "data_count, case_count = train_pred.shape\n",
    "print(\"%d개의 훈련 데이터가 %d개의 경우의 수를 갖는다.\" % (data_count, case_count))\n",
    "print(train_pred)"
   ]
  },
  {
   "cell_type": "markdown",
   "metadata": {},
   "source": [
    "### 검증 데이터에 대한 예측 결과 산정"
   ]
  },
  {
   "cell_type": "code",
   "execution_count": 16,
   "metadata": {},
   "outputs": [
    {
     "name": "stdout",
     "output_type": "stream",
     "text": [
      "4/4 [==============================] - 0s 998us/step\n",
      "120개의 검증 데이터가 1개의 경우의 수를 갖는다.\n"
     ]
    }
   ],
   "source": [
    "test_pred = model.predict(x_test)\n",
    "data_count, case_count = test_pred.shape\n",
    "print(\"%d개의 검증 데이터가 %d개의 경우의 수를 갖는다.\" % (data_count, case_count))\n",
    "#print(test_pred)"
   ]
  },
  {
   "cell_type": "markdown",
   "metadata": {},
   "source": [
    "### 결과 데이터 셋 구성"
   ]
  },
  {
   "cell_type": "code",
   "execution_count": 17,
   "metadata": {},
   "outputs": [
    {
     "data": {
      "text/html": [
       "<div>\n",
       "<style scoped>\n",
       "    .dataframe tbody tr th:only-of-type {\n",
       "        vertical-align: middle;\n",
       "    }\n",
       "\n",
       "    .dataframe tbody tr th {\n",
       "        vertical-align: top;\n",
       "    }\n",
       "\n",
       "    .dataframe thead th {\n",
       "        text-align: right;\n",
       "    }\n",
       "</style>\n",
       "<table border=\"1\" class=\"dataframe\">\n",
       "  <thead>\n",
       "    <tr style=\"text-align: right;\">\n",
       "      <th></th>\n",
       "      <th>결과값</th>\n",
       "      <th>예측치</th>\n",
       "      <th>합격확률(%)</th>\n",
       "    </tr>\n",
       "  </thead>\n",
       "  <tbody>\n",
       "    <tr>\n",
       "      <th>0</th>\n",
       "      <td>1</td>\n",
       "      <td>0.0</td>\n",
       "      <td>37.799999</td>\n",
       "    </tr>\n",
       "    <tr>\n",
       "      <th>1</th>\n",
       "      <td>1</td>\n",
       "      <td>1.0</td>\n",
       "      <td>53.200001</td>\n",
       "    </tr>\n",
       "    <tr>\n",
       "      <th>2</th>\n",
       "      <td>1</td>\n",
       "      <td>0.0</td>\n",
       "      <td>16.100000</td>\n",
       "    </tr>\n",
       "    <tr>\n",
       "      <th>3</th>\n",
       "      <td>0</td>\n",
       "      <td>0.0</td>\n",
       "      <td>23.500000</td>\n",
       "    </tr>\n",
       "    <tr>\n",
       "      <th>4</th>\n",
       "      <td>0</td>\n",
       "      <td>0.0</td>\n",
       "      <td>17.000000</td>\n",
       "    </tr>\n",
       "    <tr>\n",
       "      <th>...</th>\n",
       "      <td>...</td>\n",
       "      <td>...</td>\n",
       "      <td>...</td>\n",
       "    </tr>\n",
       "    <tr>\n",
       "      <th>275</th>\n",
       "      <td>0</td>\n",
       "      <td>0.0</td>\n",
       "      <td>6.100000</td>\n",
       "    </tr>\n",
       "    <tr>\n",
       "      <th>276</th>\n",
       "      <td>0</td>\n",
       "      <td>0.0</td>\n",
       "      <td>46.000000</td>\n",
       "    </tr>\n",
       "    <tr>\n",
       "      <th>277</th>\n",
       "      <td>0</td>\n",
       "      <td>0.0</td>\n",
       "      <td>16.799999</td>\n",
       "    </tr>\n",
       "    <tr>\n",
       "      <th>278</th>\n",
       "      <td>1</td>\n",
       "      <td>0.0</td>\n",
       "      <td>46.599998</td>\n",
       "    </tr>\n",
       "    <tr>\n",
       "      <th>279</th>\n",
       "      <td>0</td>\n",
       "      <td>0.0</td>\n",
       "      <td>35.599998</td>\n",
       "    </tr>\n",
       "  </tbody>\n",
       "</table>\n",
       "<p>280 rows × 3 columns</p>\n",
       "</div>"
      ],
      "text/plain": [
       "    결과값  예측치    합격확률(%)\n",
       "0     1  0.0  37.799999\n",
       "1     1  1.0  53.200001\n",
       "2     1  0.0  16.100000\n",
       "3     0  0.0  23.500000\n",
       "4     0  0.0  17.000000\n",
       "..   ..  ...        ...\n",
       "275   0  0.0   6.100000\n",
       "276   0  0.0  46.000000\n",
       "277   0  0.0  16.799999\n",
       "278   1  0.0  46.599998\n",
       "279   0  0.0  35.599998\n",
       "\n",
       "[280 rows x 3 columns]"
      ]
     },
     "execution_count": 17,
     "metadata": {},
     "output_type": "execute_result"
    }
   ],
   "source": [
    "kdf = DataFrame({\n",
    "    '결과값': y_train['합격여부'].values,\n",
    "    '예측치' : np.round(train_pred.flatten()),\n",
    "    '합격확률(%)': np.round(train_pred.flatten() * 100, 1)\n",
    "})\n",
    "\n",
    "kdf"
   ]
  },
  {
   "cell_type": "markdown",
   "metadata": {},
   "source": [
    "#### 혼동행렬"
   ]
  },
  {
   "cell_type": "code",
   "execution_count": 18,
   "metadata": {},
   "outputs": [
    {
     "name": "stdout",
     "output_type": "stream",
     "text": [
      "182 7 78 13\n"
     ]
    },
    {
     "data": {
      "text/html": [
       "<div>\n",
       "<style scoped>\n",
       "    .dataframe tbody tr th:only-of-type {\n",
       "        vertical-align: middle;\n",
       "    }\n",
       "\n",
       "    .dataframe tbody tr th {\n",
       "        vertical-align: top;\n",
       "    }\n",
       "\n",
       "    .dataframe thead th {\n",
       "        text-align: right;\n",
       "    }\n",
       "</style>\n",
       "<table border=\"1\" class=\"dataframe\">\n",
       "  <thead>\n",
       "    <tr style=\"text-align: right;\">\n",
       "      <th></th>\n",
       "      <th>Negative</th>\n",
       "      <th>Positive</th>\n",
       "    </tr>\n",
       "  </thead>\n",
       "  <tbody>\n",
       "    <tr>\n",
       "      <th>True</th>\n",
       "      <td>182</td>\n",
       "      <td>78</td>\n",
       "    </tr>\n",
       "    <tr>\n",
       "      <th>False</th>\n",
       "      <td>7</td>\n",
       "      <td>13</td>\n",
       "    </tr>\n",
       "  </tbody>\n",
       "</table>\n",
       "</div>"
      ],
      "text/plain": [
       "       Negative  Positive\n",
       "True        182        78\n",
       "False         7        13"
      ]
     },
     "execution_count": 18,
     "metadata": {},
     "output_type": "execute_result"
    }
   ],
   "source": [
    "cm = confusion_matrix(kdf['결과값'], kdf['예측치'])\n",
    "tn, fp, fn, tp = cm.ravel()\n",
    "print(tn, fp, fn, tp)\n",
    "cmdf1 = DataFrame([[tn, fn], [fp, tp]], index=['True', 'False'], columns=['Negative', 'Positive'])\n",
    "cmdf1"
   ]
  },
  {
   "cell_type": "markdown",
   "metadata": {},
   "source": [
    "| | Negative|Positive|\n",
    "|--|--|--|\n",
    "| True | TN | FP |\n",
    "| False | FN | TP |\n",
    "\n",
    "#### 각 항목의 의미\n",
    "\n",
    "| 구분 | 설명 |\n",
    "|--|--|\n",
    "| TN(True Negative, Negative Negative) | 실제는 Negative인데, Negative로 예측함. |\n",
    "| FP(False Positive, Negative Positive) | 실제는 Negative인데, Positive로 예측함. (Type1 Error) |\n",
    "| FN(False Negative, Positive Negative) | 실제는 Positive인데, Negative로 예측함. (Type2 Error) |\n",
    "| TP(True Positive, Positive Positive) | 실제는 Positive인데, Positive로 예측함. |"
   ]
  },
  {
   "cell_type": "code",
   "execution_count": 19,
   "metadata": {},
   "outputs": [
    {
     "name": "stderr",
     "output_type": "stream",
     "text": [
      "c:\\Users\\MegaIT302-02\\AppData\\Local\\Programs\\Python\\Python39\\lib\\site-packages\\IPython\\core\\pylabtools.py:152: UserWarning: Glyph 50696 (\\N{HANGUL SYLLABLE YE}) missing from current font.\n",
      "  fig.canvas.print_figure(bytes_io, **kw)\n",
      "c:\\Users\\MegaIT302-02\\AppData\\Local\\Programs\\Python\\Python39\\lib\\site-packages\\IPython\\core\\pylabtools.py:152: UserWarning: Glyph 52769 (\\N{HANGUL SYLLABLE CEUG}) missing from current font.\n",
      "  fig.canvas.print_figure(bytes_io, **kw)\n",
      "c:\\Users\\MegaIT302-02\\AppData\\Local\\Programs\\Python\\Python39\\lib\\site-packages\\IPython\\core\\pylabtools.py:152: UserWarning: Glyph 44050 (\\N{HANGUL SYLLABLE GABS}) missing from current font.\n",
      "  fig.canvas.print_figure(bytes_io, **kw)\n",
      "c:\\Users\\MegaIT302-02\\AppData\\Local\\Programs\\Python\\Python39\\lib\\site-packages\\IPython\\core\\pylabtools.py:152: UserWarning: Glyph 44208 (\\N{HANGUL SYLLABLE GYEOL}) missing from current font.\n",
      "  fig.canvas.print_figure(bytes_io, **kw)\n",
      "c:\\Users\\MegaIT302-02\\AppData\\Local\\Programs\\Python\\Python39\\lib\\site-packages\\IPython\\core\\pylabtools.py:152: UserWarning: Glyph 44284 (\\N{HANGUL SYLLABLE GWA}) missing from current font.\n",
      "  fig.canvas.print_figure(bytes_io, **kw)\n"
     ]
    },
    {
     "data": {
      "image/png": "[encoded data removed]",
      "text/plain": [
       "<Figure size 500x300 with 2 Axes>"
      ]
     },
     "metadata": {},
     "output_type": "display_data"
    }
   ],
   "source": [
    "plt.figure(figsize=(5,3))\n",
    "# 오차 행렬을 히트맵 그래프로 표현\n",
    "# -> annot : 그래프의 각 칸에 수치값 출력\n",
    "# -> fmt : 수치값 출력 format (여기서는 10진수)\n",
    "# -> cmap : 색상맵 (<https://matplotlib.org/3.2.1/tutorials/colors/colormaps.html>)\n",
    "sb.heatmap(cm, annot = True, fmt = 'd',cmap = 'Blues')\n",
    "plt.xticks([0.5, 1.5], ['Negative', 'Positive'])\n",
    "plt.yticks([0.5, 1.5], ['True', 'False'])\n",
    "plt.xlabel('예측값')\n",
    "plt.ylabel('결과값')\n",
    "plt.show()"
   ]
  },
  {
   "cell_type": "markdown",
   "metadata": {},
   "source": [
    "### 평가지표"
   ]
  },
  {
   "cell_type": "code",
   "execution_count": 20,
   "metadata": {},
   "outputs": [
    {
     "data": {
      "image/png": "[encoded data removed]",
      "text/plain": [
       "<Figure size 640x480 with 1 Axes>"
      ]
     },
     "metadata": {},
     "output_type": "display_data"
    }
   ],
   "source": [
    "ras = roc_auc_score(kdf['결과값'], kdf['예측치'])\n",
    "\n",
    "# 위양성율, 재현율, 임계값(사용안함)\n",
    "fpr, tpr, thresholds = roc_curve(kdf['결과값'], kdf['예측치'])\n",
    "\n",
    "plt.figure()\n",
    "sb.lineplot(x=fpr, y=tpr)\n",
    "sb.lineplot(x=[0,1], y=[0,1], color='red', linestyle=':', alpha=0.5)\n",
    "plt.title('AUC={:.4f}'.format(ras))\n",
    "plt.grid()\n",
    "plt.show()\n",
    "plt.close()"
   ]
  },
  {
   "cell_type": "code",
   "execution_count": 21,
   "metadata": {},
   "outputs": [
    {
     "name": "stdout",
     "output_type": "stream",
     "text": [
      "+--------------------------+----------+\n",
      "|                          |        0 |\n",
      "|--------------------------+----------|\n",
      "| 정확도(Accuracy)         | 0.696429 |\n",
      "| 정밀도(Precision)        |     0.65 |\n",
      "| 재현율(Recall, TPR)      | 0.142857 |\n",
      "| 위양성율(Fallout, FPR)   | 0.037037 |\n",
      "| 특이성(Specificity, TNR) | 0.962963 |\n",
      "| RAS                      |  0.55291 |\n",
      "| f1_score                 | 0.234234 |\n",
      "+--------------------------+----------+\n"
     ]
    }
   ],
   "source": [
    "# 정확도\n",
    "acc = accuracy_score(kdf['결과값'], kdf['예측치'])\n",
    "\n",
    "# 정밀도\n",
    "pre = precision_score(kdf['결과값'], kdf['예측치'])\n",
    "\n",
    "# 재현율\n",
    "recall = recall_score(kdf['결과값'], kdf['예측치'])\n",
    "\n",
    "# F1 score\n",
    "f1 = f1_score(kdf['결과값'], kdf['예측치'])\n",
    "\n",
    "# 위양성율\n",
    "fallout = fp / (fp + tn)\n",
    "\n",
    "# 특이성\n",
    "spe = 1 - fallout\n",
    "\n",
    "result_df = DataFrame({'정확도(Accuracy)':[acc], '정밀도(Precision)':[pre], '재현율(Recall, TPR)':[recall], '위양성율(Fallout, FPR)': [fallout], '특이성(Specificity, TNR)':[spe], 'RAS': [ras], 'f1_score':[f1]})\n",
    "\n",
    "helper.prettyPrint(result_df.T)"
   ]
  },
  {
   "cell_type": "markdown",
   "metadata": {},
   "source": [
    "### 분류 보고서\n",
    "\n",
    "- precision : 정밀도 (분류기가 참으로 분류한 항목 중에서 실제 데이터가 참인 비율)\n",
    "- recall : 재현율 (실제 참 중에서 분류기가 참으로 분류한 비율)\n",
    "- f1-score : 2*(Recall * Precision) / (Recall + Precision)\n",
    "    - Precision과 Recall의 조화평균\n",
    "    - 주로 분류 클래스 간 데이터가 심각한 불균형을 이루는 경우에 사용\n",
    "    - 정확도의 경우, 클래스가 데이터 분류가 균일하지 못하면 머신의 성능을 제대로 나타내줄 수 없기 때문에 F1을 사용한다.\n",
    "- support : 전체 데이터 수"
   ]
  },
  {
   "cell_type": "code",
   "execution_count": 22,
   "metadata": {},
   "outputs": [
    {
     "name": "stdout",
     "output_type": "stream",
     "text": [
      "              precision    recall  f1-score   support\n",
      "\n",
      "           0       0.70      0.96      0.81       189\n",
      "           1       0.65      0.14      0.23        91\n",
      "\n",
      "    accuracy                           0.70       280\n",
      "   macro avg       0.68      0.55      0.52       280\n",
      "weighted avg       0.68      0.70      0.62       280\n",
      "\n"
     ]
    }
   ],
   "source": [
    "report = classification_report(kdf['결과값'], kdf['예측치'])\n",
    "print(report)"
   ]
  }
 ],
 "metadata": {
  "kernelspec": {
   "display_name": "Python 3",
   "language": "python",
   "name": "python3"
  },
  "language_info": {
   "codemirror_mode": {
    "name": "ipython",
    "version": 3
   },
   "file_extension": ".py",
   "mimetype": "text/x-python",
   "name": "python",
   "nbconvert_exporter": "python",
   "pygments_lexer": "ipython3",
   "version": "3.9.12"
  }
 },
 "nbformat": 4,
 "nbformat_minor": 4
}
