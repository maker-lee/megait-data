{
 "cells": [
  {
   "cell_type": "markdown",
   "metadata": {},
   "source": [
    "# 로지스틱 회귀 - 이항분류\n",
    "\n",
    "## #01. 패키지 준비하기"
   ]
  },
  {
   "cell_type": "code",
   "execution_count": 2,
   "metadata": {},
   "outputs": [],
   "source": [
    "import sys\n",
    "sys.path.append('../../')\n",
    "import helper\n",
    "\n",
    "from pandas import read_excel, DataFrame\n",
    "from matplotlib import pyplot as plt\n",
    "import seaborn as sb\n",
    "import numpy as np\n",
    "\n",
    "from sklearn.model_selection import train_test_split\n",
    "from sklearn.preprocessing import StandardScaler\n",
    "from sklearn.metrics import classification_report, confusion_matrix, roc_curve, roc_auc_score, accuracy_score, recall_score, precision_score, f1_score\n",
    "\n",
    "from tensorflow.keras.models import Sequential\n",
    "from tensorflow.keras.layers import Dense\n",
    "from tensorflow.keras.callbacks import EarlyStopping\n",
    "from tensorflow.keras.callbacks import ReduceLROnPlateau\n",
    "from tensorflow.keras.callbacks import ModelCheckpoint"
   ]
  },
  {
   "cell_type": "markdown",
   "metadata": {},
   "source": [
    "## #02. 데이터셋 준비하기\n",
    "\n",
    "방사선학 석사과정 대학원생 모집을 하였다. 이 때 지원한 방사선사의 대학원 합격 여부에 따른 주요 요인이 무엇인지 분석하라.\n",
    "\n",
    "단, 독립변수는 정규분포를 따른다고 가정한다.\n",
    "\n",
    "-> 데이터수가 작아서 과적합이 발생함 + 합격자가 적어서 합격에 대한 정확도가 떨어짐\n",
    "\n",
    "| 변수 | 구분 | 설명 |\n",
    "|---|---|---\n",
    "| 합격여부 | 범주형 | 1=합격, 0=불합격 |\n",
    "| 필기점수 | 연속형 | 800점 만점 |\n",
    "| 학부성적 | 연속형 | 4.0 만점 |\n",
    "| 병원경력 | 범주형 | 1: 10년이상, 2: 2~5년, 3: 1~5년, 4: 1년 미만 |"
   ]
  },
  {
   "cell_type": "code",
   "execution_count": 3,
   "metadata": {},
   "outputs": [
    {
     "data": {
      "text/html": [
       "<div>\n",
       "<style scoped>\n",
       "    .dataframe tbody tr th:only-of-type {\n",
       "        vertical-align: middle;\n",
       "    }\n",
       "\n",
       "    .dataframe tbody tr th {\n",
       "        vertical-align: top;\n",
       "    }\n",
       "\n",
       "    .dataframe thead th {\n",
       "        text-align: right;\n",
       "    }\n",
       "</style>\n",
       "<table border=\"1\" class=\"dataframe\">\n",
       "  <thead>\n",
       "    <tr style=\"text-align: right;\">\n",
       "      <th></th>\n",
       "      <th>합격여부</th>\n",
       "      <th>필기점수</th>\n",
       "      <th>학부성적</th>\n",
       "      <th>병원경력</th>\n",
       "    </tr>\n",
       "  </thead>\n",
       "  <tbody>\n",
       "    <tr>\n",
       "      <th>0</th>\n",
       "      <td>0</td>\n",
       "      <td>380</td>\n",
       "      <td>3.61</td>\n",
       "      <td>3</td>\n",
       "    </tr>\n",
       "    <tr>\n",
       "      <th>1</th>\n",
       "      <td>1</td>\n",
       "      <td>660</td>\n",
       "      <td>3.67</td>\n",
       "      <td>3</td>\n",
       "    </tr>\n",
       "    <tr>\n",
       "      <th>2</th>\n",
       "      <td>1</td>\n",
       "      <td>800</td>\n",
       "      <td>4.00</td>\n",
       "      <td>1</td>\n",
       "    </tr>\n",
       "    <tr>\n",
       "      <th>3</th>\n",
       "      <td>1</td>\n",
       "      <td>640</td>\n",
       "      <td>3.19</td>\n",
       "      <td>4</td>\n",
       "    </tr>\n",
       "    <tr>\n",
       "      <th>4</th>\n",
       "      <td>0</td>\n",
       "      <td>520</td>\n",
       "      <td>2.93</td>\n",
       "      <td>4</td>\n",
       "    </tr>\n",
       "  </tbody>\n",
       "</table>\n",
       "</div>"
      ],
      "text/plain": [
       "   합격여부  필기점수  학부성적  병원경력\n",
       "0     0   380  3.61     3\n",
       "1     1   660  3.67     3\n",
       "2     1   800  4.00     1\n",
       "3     1   640  3.19     4\n",
       "4     0   520  2.93     4"
      ]
     },
     "execution_count": 3,
     "metadata": {},
     "output_type": "execute_result"
    }
   ],
   "source": [
    "origin = read_excel(\"https://data.hossam.kr/E05/gradeuate.xlsx\")\n",
    "origin.head()"
   ]
  },
  {
   "cell_type": "markdown",
   "metadata": {},
   "source": [
    "## #03. 데이터 전처리\n",
    "\n",
    "### 결측치 확인"
   ]
  },
  {
   "cell_type": "code",
   "execution_count": 4,
   "metadata": {},
   "outputs": [
    {
     "data": {
      "text/plain": [
       "합격여부    0\n",
       "필기점수    0\n",
       "학부성적    0\n",
       "병원경력    0\n",
       "dtype: int64"
      ]
     },
     "execution_count": 4,
     "metadata": {},
     "output_type": "execute_result"
    }
   ],
   "source": [
    "origin.isna().sum()"
   ]
  },
  {
   "cell_type": "markdown",
   "metadata": {},
   "source": [
    "### 명목형에 대한 데이터 타입 설정"
   ]
  },
  {
   "cell_type": "code",
   "execution_count": 5,
   "metadata": {},
   "outputs": [
    {
     "name": "stdout",
     "output_type": "stream",
     "text": [
      "<class 'pandas.core.frame.DataFrame'>\n",
      "RangeIndex: 400 entries, 0 to 399\n",
      "Data columns (total 4 columns):\n",
      " #   Column  Non-Null Count  Dtype   \n",
      "---  ------  --------------  -----   \n",
      " 0   합격여부    400 non-null    category\n",
      " 1   필기점수    400 non-null    int64   \n",
      " 2   학부성적    400 non-null    float64 \n",
      " 3   병원경력    400 non-null    int64   \n",
      "dtypes: category(1), float64(1), int64(2)\n",
      "memory usage: 10.0 KB\n"
     ]
    }
   ],
   "source": [
    "origin['합격여부'] = origin['합격여부'].astype('category')\n",
    "origin.info()"
   ]
  },
  {
   "cell_type": "markdown",
   "metadata": {},
   "source": [
    "## #04. 탐색적 데이터 분석\n",
    "\n",
    "### 기본통계 확인"
   ]
  },
  {
   "cell_type": "code",
   "execution_count": 6,
   "metadata": {},
   "outputs": [
    {
     "data": {
      "text/html": [
       "<div>\n",
       "<style scoped>\n",
       "    .dataframe tbody tr th:only-of-type {\n",
       "        vertical-align: middle;\n",
       "    }\n",
       "\n",
       "    .dataframe tbody tr th {\n",
       "        vertical-align: top;\n",
       "    }\n",
       "\n",
       "    .dataframe thead th {\n",
       "        text-align: right;\n",
       "    }\n",
       "</style>\n",
       "<table border=\"1\" class=\"dataframe\">\n",
       "  <thead>\n",
       "    <tr style=\"text-align: right;\">\n",
       "      <th></th>\n",
       "      <th>필기점수</th>\n",
       "      <th>학부성적</th>\n",
       "      <th>병원경력</th>\n",
       "    </tr>\n",
       "  </thead>\n",
       "  <tbody>\n",
       "    <tr>\n",
       "      <th>count</th>\n",
       "      <td>400.000000</td>\n",
       "      <td>400.000000</td>\n",
       "      <td>400.00000</td>\n",
       "    </tr>\n",
       "    <tr>\n",
       "      <th>mean</th>\n",
       "      <td>587.700000</td>\n",
       "      <td>3.389900</td>\n",
       "      <td>2.48500</td>\n",
       "    </tr>\n",
       "    <tr>\n",
       "      <th>std</th>\n",
       "      <td>115.516536</td>\n",
       "      <td>0.380567</td>\n",
       "      <td>0.94446</td>\n",
       "    </tr>\n",
       "    <tr>\n",
       "      <th>min</th>\n",
       "      <td>220.000000</td>\n",
       "      <td>2.260000</td>\n",
       "      <td>1.00000</td>\n",
       "    </tr>\n",
       "    <tr>\n",
       "      <th>25%</th>\n",
       "      <td>520.000000</td>\n",
       "      <td>3.130000</td>\n",
       "      <td>2.00000</td>\n",
       "    </tr>\n",
       "    <tr>\n",
       "      <th>50%</th>\n",
       "      <td>580.000000</td>\n",
       "      <td>3.395000</td>\n",
       "      <td>2.00000</td>\n",
       "    </tr>\n",
       "    <tr>\n",
       "      <th>75%</th>\n",
       "      <td>660.000000</td>\n",
       "      <td>3.670000</td>\n",
       "      <td>3.00000</td>\n",
       "    </tr>\n",
       "    <tr>\n",
       "      <th>max</th>\n",
       "      <td>800.000000</td>\n",
       "      <td>4.000000</td>\n",
       "      <td>4.00000</td>\n",
       "    </tr>\n",
       "  </tbody>\n",
       "</table>\n",
       "</div>"
      ],
      "text/plain": [
       "             필기점수        학부성적       병원경력\n",
       "count  400.000000  400.000000  400.00000\n",
       "mean   587.700000    3.389900    2.48500\n",
       "std    115.516536    0.380567    0.94446\n",
       "min    220.000000    2.260000    1.00000\n",
       "25%    520.000000    3.130000    2.00000\n",
       "50%    580.000000    3.395000    2.00000\n",
       "75%    660.000000    3.670000    3.00000\n",
       "max    800.000000    4.000000    4.00000"
      ]
     },
     "execution_count": 6,
     "metadata": {},
     "output_type": "execute_result"
    }
   ],
   "source": [
    "origin.describe()"
   ]
  },
  {
   "cell_type": "markdown",
   "metadata": {},
   "source": [
    "### 상자그림 확인"
   ]
  },
  {
   "cell_type": "code",
   "execution_count": 7,
   "metadata": {},
   "outputs": [
    {
     "name": "stderr",
     "output_type": "stream",
     "text": [
      "c:\\Users\\MegaIT302-02\\AppData\\Local\\Programs\\Python\\Python39\\lib\\site-packages\\IPython\\core\\pylabtools.py:152: UserWarning: Glyph 54596 (\\N{HANGUL SYLLABLE PIL}) missing from current font.\n",
      "  fig.canvas.print_figure(bytes_io, **kw)\n",
      "c:\\Users\\MegaIT302-02\\AppData\\Local\\Programs\\Python\\Python39\\lib\\site-packages\\IPython\\core\\pylabtools.py:152: UserWarning: Glyph 44592 (\\N{HANGUL SYLLABLE GI}) missing from current font.\n",
      "  fig.canvas.print_figure(bytes_io, **kw)\n",
      "c:\\Users\\MegaIT302-02\\AppData\\Local\\Programs\\Python\\Python39\\lib\\site-packages\\IPython\\core\\pylabtools.py:152: UserWarning: Glyph 51216 (\\N{HANGUL SYLLABLE JEOM}) missing from current font.\n",
      "  fig.canvas.print_figure(bytes_io, **kw)\n",
      "c:\\Users\\MegaIT302-02\\AppData\\Local\\Programs\\Python\\Python39\\lib\\site-packages\\IPython\\core\\pylabtools.py:152: UserWarning: Glyph 49688 (\\N{HANGUL SYLLABLE SU}) missing from current font.\n",
      "  fig.canvas.print_figure(bytes_io, **kw)\n",
      "c:\\Users\\MegaIT302-02\\AppData\\Local\\Programs\\Python\\Python39\\lib\\site-packages\\IPython\\core\\pylabtools.py:152: UserWarning: Glyph 54617 (\\N{HANGUL SYLLABLE HAG}) missing from current font.\n",
      "  fig.canvas.print_figure(bytes_io, **kw)\n",
      "c:\\Users\\MegaIT302-02\\AppData\\Local\\Programs\\Python\\Python39\\lib\\site-packages\\IPython\\core\\pylabtools.py:152: UserWarning: Glyph 48512 (\\N{HANGUL SYLLABLE BU}) missing from current font.\n",
      "  fig.canvas.print_figure(bytes_io, **kw)\n",
      "c:\\Users\\MegaIT302-02\\AppData\\Local\\Programs\\Python\\Python39\\lib\\site-packages\\IPython\\core\\pylabtools.py:152: UserWarning: Glyph 49457 (\\N{HANGUL SYLLABLE SEONG}) missing from current font.\n",
      "  fig.canvas.print_figure(bytes_io, **kw)\n",
      "c:\\Users\\MegaIT302-02\\AppData\\Local\\Programs\\Python\\Python39\\lib\\site-packages\\IPython\\core\\pylabtools.py:152: UserWarning: Glyph 51201 (\\N{HANGUL SYLLABLE JEOG}) missing from current font.\n",
      "  fig.canvas.print_figure(bytes_io, **kw)\n",
      "c:\\Users\\MegaIT302-02\\AppData\\Local\\Programs\\Python\\Python39\\lib\\site-packages\\IPython\\core\\pylabtools.py:152: UserWarning: Glyph 48337 (\\N{HANGUL SYLLABLE BYEONG}) missing from current font.\n",
      "  fig.canvas.print_figure(bytes_io, **kw)\n",
      "c:\\Users\\MegaIT302-02\\AppData\\Local\\Programs\\Python\\Python39\\lib\\site-packages\\IPython\\core\\pylabtools.py:152: UserWarning: Glyph 50896 (\\N{HANGUL SYLLABLE WEON}) missing from current font.\n",
      "  fig.canvas.print_figure(bytes_io, **kw)\n",
      "c:\\Users\\MegaIT302-02\\AppData\\Local\\Programs\\Python\\Python39\\lib\\site-packages\\IPython\\core\\pylabtools.py:152: UserWarning: Glyph 44221 (\\N{HANGUL SYLLABLE GYEONG}) missing from current font.\n",
      "  fig.canvas.print_figure(bytes_io, **kw)\n",
      "c:\\Users\\MegaIT302-02\\AppData\\Local\\Programs\\Python\\Python39\\lib\\site-packages\\IPython\\core\\pylabtools.py:152: UserWarning: Glyph 47141 (\\N{HANGUL SYLLABLE RYEOG}) missing from current font.\n",
      "  fig.canvas.print_figure(bytes_io, **kw)\n"
     ]
    },
    {
     "data": {
      "image/png": "[encoded data removed]",
      "text/plain": [
       "<Figure size 1000x500 with 1 Axes>"
      ]
     },
     "metadata": {},
     "output_type": "display_data"
    }
   ],
   "source": [
    "plt.figure(figsize=(10, 5))\n",
    "sb.boxplot(data=origin)\n",
    "plt.show()\n",
    "plt.close()"
   ]
  },
  {
   "cell_type": "markdown",
   "metadata": {},
   "source": [
    "> 데이터 단위가 크게 다르므로 표준화가 필요해 보임"
   ]
  },
  {
   "cell_type": "markdown",
   "metadata": {},
   "source": [
    "## #05. 데이터셋 분할하기\n",
    "\n",
    "### 랜덤시드 고정"
   ]
  },
  {
   "cell_type": "code",
   "execution_count": 8,
   "metadata": {},
   "outputs": [],
   "source": [
    "np.random.seed(777)"
   ]
  },
  {
   "cell_type": "markdown",
   "metadata": {},
   "source": [
    "### 훈련 데이터(독립변수)와 레이블(종속변수) 구분하기"
   ]
  },
  {
   "cell_type": "code",
   "execution_count": 9,
   "metadata": {},
   "outputs": [
    {
     "data": {
      "text/plain": [
       "((400, 3), (400, 1))"
      ]
     },
     "execution_count": 9,
     "metadata": {},
     "output_type": "execute_result"
    }
   ],
   "source": [
    "x = origin[['필기점수','학부성적','병원경력']]\n",
    "y = origin[['합격여부']]\n",
    "x.shape, y.shape"
   ]
  },
  {
   "cell_type": "markdown",
   "metadata": {},
   "source": [
    "### 데이터 표준화"
   ]
  },
  {
   "cell_type": "code",
   "execution_count": 10,
   "metadata": {},
   "outputs": [
    {
     "name": "stdout",
     "output_type": "stream",
     "text": [
      "(400, 3)\n"
     ]
    },
    {
     "data": {
      "text/plain": [
       "array([[-1.80026271,  0.57907192,  0.54596793],\n",
       "       [ 0.62666824,  0.73692942,  0.54596793],\n",
       "       [ 1.84013372,  1.60514289, -1.57429586],\n",
       "       ...,\n",
       "       [-1.10685387, -1.99925902, -0.51416397],\n",
       "       [ 0.97337266,  0.68431046, -0.51416397],\n",
       "       [ 0.10661161,  1.31573861,  0.54596793]])"
      ]
     },
     "execution_count": 10,
     "metadata": {},
     "output_type": "execute_result"
    }
   ],
   "source": [
    "x_scaller = StandardScaler()\n",
    "x_scale = x_scaller.fit_transform(x)\n",
    "print(x_scale.shape)\n",
    "x_scale"
   ]
  },
  {
   "cell_type": "markdown",
   "metadata": {},
   "source": [
    "### 표준화 전 후 상자그림 비교"
   ]
  },
  {
   "cell_type": "code",
   "execution_count": 11,
   "metadata": {},
   "outputs": [
    {
     "name": "stderr",
     "output_type": "stream",
     "text": [
      "c:\\Users\\MegaIT302-02\\AppData\\Local\\Programs\\Python\\Python39\\lib\\site-packages\\IPython\\core\\pylabtools.py:152: UserWarning: Glyph 54596 (\\N{HANGUL SYLLABLE PIL}) missing from current font.\n",
      "  fig.canvas.print_figure(bytes_io, **kw)\n",
      "c:\\Users\\MegaIT302-02\\AppData\\Local\\Programs\\Python\\Python39\\lib\\site-packages\\IPython\\core\\pylabtools.py:152: UserWarning: Glyph 44592 (\\N{HANGUL SYLLABLE GI}) missing from current font.\n",
      "  fig.canvas.print_figure(bytes_io, **kw)\n",
      "c:\\Users\\MegaIT302-02\\AppData\\Local\\Programs\\Python\\Python39\\lib\\site-packages\\IPython\\core\\pylabtools.py:152: UserWarning: Glyph 51216 (\\N{HANGUL SYLLABLE JEOM}) missing from current font.\n",
      "  fig.canvas.print_figure(bytes_io, **kw)\n",
      "c:\\Users\\MegaIT302-02\\AppData\\Local\\Programs\\Python\\Python39\\lib\\site-packages\\IPython\\core\\pylabtools.py:152: UserWarning: Glyph 49688 (\\N{HANGUL SYLLABLE SU}) missing from current font.\n",
      "  fig.canvas.print_figure(bytes_io, **kw)\n",
      "c:\\Users\\MegaIT302-02\\AppData\\Local\\Programs\\Python\\Python39\\lib\\site-packages\\IPython\\core\\pylabtools.py:152: UserWarning: Glyph 54617 (\\N{HANGUL SYLLABLE HAG}) missing from current font.\n",
      "  fig.canvas.print_figure(bytes_io, **kw)\n",
      "c:\\Users\\MegaIT302-02\\AppData\\Local\\Programs\\Python\\Python39\\lib\\site-packages\\IPython\\core\\pylabtools.py:152: UserWarning: Glyph 48512 (\\N{HANGUL SYLLABLE BU}) missing from current font.\n",
      "  fig.canvas.print_figure(bytes_io, **kw)\n",
      "c:\\Users\\MegaIT302-02\\AppData\\Local\\Programs\\Python\\Python39\\lib\\site-packages\\IPython\\core\\pylabtools.py:152: UserWarning: Glyph 49457 (\\N{HANGUL SYLLABLE SEONG}) missing from current font.\n",
      "  fig.canvas.print_figure(bytes_io, **kw)\n",
      "c:\\Users\\MegaIT302-02\\AppData\\Local\\Programs\\Python\\Python39\\lib\\site-packages\\IPython\\core\\pylabtools.py:152: UserWarning: Glyph 51201 (\\N{HANGUL SYLLABLE JEOG}) missing from current font.\n",
      "  fig.canvas.print_figure(bytes_io, **kw)\n",
      "c:\\Users\\MegaIT302-02\\AppData\\Local\\Programs\\Python\\Python39\\lib\\site-packages\\IPython\\core\\pylabtools.py:152: UserWarning: Glyph 48337 (\\N{HANGUL SYLLABLE BYEONG}) missing from current font.\n",
      "  fig.canvas.print_figure(bytes_io, **kw)\n",
      "c:\\Users\\MegaIT302-02\\AppData\\Local\\Programs\\Python\\Python39\\lib\\site-packages\\IPython\\core\\pylabtools.py:152: UserWarning: Glyph 50896 (\\N{HANGUL SYLLABLE WEON}) missing from current font.\n",
      "  fig.canvas.print_figure(bytes_io, **kw)\n",
      "c:\\Users\\MegaIT302-02\\AppData\\Local\\Programs\\Python\\Python39\\lib\\site-packages\\IPython\\core\\pylabtools.py:152: UserWarning: Glyph 44221 (\\N{HANGUL SYLLABLE GYEONG}) missing from current font.\n",
      "  fig.canvas.print_figure(bytes_io, **kw)\n",
      "c:\\Users\\MegaIT302-02\\AppData\\Local\\Programs\\Python\\Python39\\lib\\site-packages\\IPython\\core\\pylabtools.py:152: UserWarning: Glyph 47141 (\\N{HANGUL SYLLABLE RYEOG}) missing from current font.\n",
      "  fig.canvas.print_figure(bytes_io, **kw)\n"
     ]
    },
    {
     "data": {
      "image/png": "[encoded data removed]",
      "text/plain": [
       "<Figure size 2250x750 with 2 Axes>"
      ]
     },
     "metadata": {},
     "output_type": "display_data"
    }
   ],
   "source": [
    "# 임시로 독립변수와 종속변수를 하나의 DataFrame으로 병합\n",
    "x_scale_df = DataFrame(x_scale, columns=['필기점수','학부성적','병원경력'])\n",
    "\n",
    "fig, ax = plt.subplots(1, 2, figsize=(15, 5), dpi=150)\n",
    "sb.boxplot(data=origin, ax=ax[0])\n",
    "sb.boxplot(data=x_scale_df, ax=ax[1])\n",
    "ax[0].set_title('before')\n",
    "ax[1].set_title('after')\n",
    "plt.show()\n",
    "plt.close()"
   ]
  },
  {
   "cell_type": "markdown",
   "metadata": {},
   "source": [
    "### 훈련 데이터와 검증 데이터로 분할"
   ]
  },
  {
   "cell_type": "code",
   "execution_count": 12,
   "metadata": {},
   "outputs": [
    {
     "data": {
      "text/plain": [
       "((280, 3), (120, 3), (280, 1), (120, 1))"
      ]
     },
     "execution_count": 12,
     "metadata": {},
     "output_type": "execute_result"
    }
   ],
   "source": [
    "x_train, x_test, y_train, y_test = train_test_split(x_scale, y, test_size=0.3, random_state=777)\n",
    "x_train.shape, x_test.shape, y_train.shape, y_test.shape"
   ]
  },
  {
   "cell_type": "markdown",
   "metadata": {},
   "source": [
    "## #06. 모델 개발\n",
    "\n",
    "### 모델 정의\n",
    "\n",
    "[relu,] sigmoid\trmsporp\tbinary_crossentropy\tacc"
   ]
  },
  {
   "cell_type": "code",
   "execution_count": 13,
   "metadata": {},
   "outputs": [
    {
     "name": "stdout",
     "output_type": "stream",
     "text": [
      "Model: \"sequential\"\n",
      "_________________________________________________________________\n",
      " Layer (type)                Output Shape              Param #   \n",
      "=================================================================\n",
      " dense (Dense)               (None, 32)                128       \n",
      "                                                                 \n",
      " dense_1 (Dense)             (None, 1)                 33        \n",
      "                                                                 \n",
      "=================================================================\n",
      "Total params: 161 (644.00 Byte)\n",
      "Trainable params: 161 (644.00 Byte)\n",
      "Non-trainable params: 0 (0.00 Byte)\n",
      "_________________________________________________________________\n"
     ]
    }
   ],
   "source": [
    "model = Sequential()\n",
    "model.add(Dense(32, activation='relu', input_shape=(3, )))\n",
    "model.add(Dense(1, activation='sigmoid'))\n",
    "model.compile(optimizer='rmsprop', loss = 'binary_crossentropy', metrics = ['acc'])\n",
    "model.summary()"
   ]
  },
  {
   "cell_type": "markdown",
   "metadata": {},
   "source": [
    "### 학습하기"
   ]
  },
  {
   "cell_type": "code",
   "execution_count": 14,
   "metadata": {},
   "outputs": [
    {
     "name": "stdout",
     "output_type": "stream",
     "text": [
      "Epoch 1/500\n",
      "9/9 [==============================] - 1s 19ms/step - loss: 0.6982 - acc: 0.5036 - val_loss: 0.6743 - val_acc: 0.5333 - lr: 0.0010\n",
      "Epoch 2/500\n",
      "9/9 [==============================] - 0s 4ms/step - loss: 0.6751 - acc: 0.5464 - val_loss: 0.6526 - val_acc: 0.6250 - lr: 0.0010\n",
      "Epoch 3/500\n",
      "9/9 [==============================] - 0s 4ms/step - loss: 0.6603 - acc: 0.5821 - val_loss: 0.6362 - val_acc: 0.6750 - lr: 0.0010\n",
      "Epoch 4/500\n",
      "9/9 [==============================] - 0s 3ms/step - loss: 0.6492 - acc: 0.6286 - val_loss: 0.6221 - val_acc: 0.7083 - lr: 0.0010\n",
      "Epoch 5/500\n",
      "9/9 [==============================] - 0s 4ms/step - loss: 0.6400 - acc: 0.6536 - val_loss: 0.6106 - val_acc: 0.7417 - lr: 0.0010\n",
      "Epoch 6/500\n",
      "9/9 [==============================] - 0s 4ms/step - loss: 0.6322 - acc: 0.6857 - val_loss: 0.5997 - val_acc: 0.7417 - lr: 0.0010\n",
      "Epoch 7/500\n",
      "9/9 [==============================] - 0s 2ms/step - loss: 0.6258 - acc: 0.7000 - val_loss: 0.5918 - val_acc: 0.7417 - lr: 0.0010\n",
      "Epoch 8/500\n",
      "9/9 [==============================] - 0s 4ms/step - loss: 0.6207 - acc: 0.6964 - val_loss: 0.5844 - val_acc: 0.7417 - lr: 0.0010\n",
      "Epoch 9/500\n",
      "9/9 [==============================] - 0s 4ms/step - loss: 0.6167 - acc: 0.6964 - val_loss: 0.5782 - val_acc: 0.7333 - lr: 0.0010\n",
      "Epoch 10/500\n",
      "9/9 [==============================] - 0s 4ms/step - loss: 0.6125 - acc: 0.7000 - val_loss: 0.5722 - val_acc: 0.7250 - lr: 0.0010\n",
      "Epoch 11/500\n",
      "9/9 [==============================] - 0s 4ms/step - loss: 0.6092 - acc: 0.7036 - val_loss: 0.5666 - val_acc: 0.7250 - lr: 0.0010\n",
      "Epoch 12/500\n",
      "9/9 [==============================] - 0s 3ms/step - loss: 0.6064 - acc: 0.7000 - val_loss: 0.5629 - val_acc: 0.7250 - lr: 0.0010\n",
      "Epoch 13/500\n",
      "9/9 [==============================] - 0s 4ms/step - loss: 0.6048 - acc: 0.7000 - val_loss: 0.5597 - val_acc: 0.7250 - lr: 0.0010\n",
      "Epoch 14/500\n",
      "9/9 [==============================] - 0s 3ms/step - loss: 0.6024 - acc: 0.7036 - val_loss: 0.5564 - val_acc: 0.7250 - lr: 0.0010\n",
      "Epoch 15/500\n",
      "9/9 [==============================] - 0s 4ms/step - loss: 0.6007 - acc: 0.7036 - val_loss: 0.5533 - val_acc: 0.7250 - lr: 0.0010\n",
      "Epoch 16/500\n",
      "9/9 [==============================] - 0s 4ms/step - loss: 0.5993 - acc: 0.7000 - val_loss: 0.5510 - val_acc: 0.7250 - lr: 0.0010\n",
      "Epoch 17/500\n",
      "9/9 [==============================] - 0s 3ms/step - loss: 0.5979 - acc: 0.7000 - val_loss: 0.5492 - val_acc: 0.7250 - lr: 0.0010\n",
      "Epoch 18/500\n",
      "9/9 [==============================] - 0s 4ms/step - loss: 0.5971 - acc: 0.7000 - val_loss: 0.5473 - val_acc: 0.7250 - lr: 0.0010\n",
      "Epoch 19/500\n",
      "9/9 [==============================] - 0s 4ms/step - loss: 0.5957 - acc: 0.7000 - val_loss: 0.5457 - val_acc: 0.7250 - lr: 0.0010\n",
      "Epoch 20/500\n",
      "9/9 [==============================] - 0s 4ms/step - loss: 0.5950 - acc: 0.7000 - val_loss: 0.5446 - val_acc: 0.7250 - lr: 0.0010\n",
      "Epoch 21/500\n",
      "9/9 [==============================] - 0s 4ms/step - loss: 0.5939 - acc: 0.7036 - val_loss: 0.5436 - val_acc: 0.7250 - lr: 0.0010\n",
      "Epoch 22/500\n",
      "9/9 [==============================] - 0s 4ms/step - loss: 0.5934 - acc: 0.7000 - val_loss: 0.5426 - val_acc: 0.7250 - lr: 0.0010\n",
      "Epoch 23/500\n",
      "9/9 [==============================] - 0s 4ms/step - loss: 0.5928 - acc: 0.7000 - val_loss: 0.5421 - val_acc: 0.7250 - lr: 0.0010\n",
      "Epoch 24/500\n",
      "9/9 [==============================] - 0s 4ms/step - loss: 0.5921 - acc: 0.7000 - val_loss: 0.5414 - val_acc: 0.7250 - lr: 0.0010\n",
      "Epoch 25/500\n",
      "9/9 [==============================] - 0s 4ms/step - loss: 0.5916 - acc: 0.7000 - val_loss: 0.5408 - val_acc: 0.7250 - lr: 0.0010\n",
      "Epoch 26/500\n",
      "9/9 [==============================] - 0s 4ms/step - loss: 0.5910 - acc: 0.7000 - val_loss: 0.5404 - val_acc: 0.7250 - lr: 0.0010\n",
      "Epoch 27/500\n",
      "9/9 [==============================] - 0s 4ms/step - loss: 0.5905 - acc: 0.6964 - val_loss: 0.5402 - val_acc: 0.7250 - lr: 0.0010\n",
      "Epoch 28/500\n",
      "9/9 [==============================] - 0s 4ms/step - loss: 0.5902 - acc: 0.6964 - val_loss: 0.5399 - val_acc: 0.7250 - lr: 0.0010\n",
      "Epoch 29/500\n",
      "9/9 [==============================] - 0s 4ms/step - loss: 0.5898 - acc: 0.7071 - val_loss: 0.5396 - val_acc: 0.7250 - lr: 0.0010\n",
      "Epoch 30/500\n",
      "9/9 [==============================] - 0s 4ms/step - loss: 0.5894 - acc: 0.7071 - val_loss: 0.5392 - val_acc: 0.7333 - lr: 0.0010\n",
      "Epoch 31/500\n",
      "9/9 [==============================] - 0s 4ms/step - loss: 0.5893 - acc: 0.7071 - val_loss: 0.5393 - val_acc: 0.7333 - lr: 0.0010\n",
      "Epoch 32/500\n",
      "9/9 [==============================] - 0s 4ms/step - loss: 0.5886 - acc: 0.7071 - val_loss: 0.5389 - val_acc: 0.7333 - lr: 0.0010\n",
      "Epoch 33/500\n",
      "9/9 [==============================] - 0s 15ms/step - loss: 0.5886 - acc: 0.7036 - val_loss: 0.5388 - val_acc: 0.7333 - lr: 0.0010\n",
      "Epoch 34/500\n",
      "9/9 [==============================] - 0s 4ms/step - loss: 0.5885 - acc: 0.7036 - val_loss: 0.5389 - val_acc: 0.7333 - lr: 0.0010\n",
      "Epoch 35/500\n",
      "9/9 [==============================] - 0s 4ms/step - loss: 0.5879 - acc: 0.7071 - val_loss: 0.5386 - val_acc: 0.7333 - lr: 0.0010\n",
      "Epoch 36/500\n",
      "9/9 [==============================] - 0s 4ms/step - loss: 0.5877 - acc: 0.7143 - val_loss: 0.5384 - val_acc: 0.7333 - lr: 0.0010\n",
      "Epoch 37/500\n",
      "9/9 [==============================] - 0s 6ms/step - loss: 0.5872 - acc: 0.7071 - val_loss: 0.5383 - val_acc: 0.7333 - lr: 0.0010\n",
      "Epoch 38/500\n",
      "9/9 [==============================] - 0s 4ms/step - loss: 0.5872 - acc: 0.7107 - val_loss: 0.5381 - val_acc: 0.7333 - lr: 0.0010\n",
      "Epoch 39/500\n",
      "9/9 [==============================] - 0s 3ms/step - loss: 0.5866 - acc: 0.7107 - val_loss: 0.5383 - val_acc: 0.7333 - lr: 0.0010\n",
      "Epoch 40/500\n",
      "9/9 [==============================] - 0s 4ms/step - loss: 0.5869 - acc: 0.7107 - val_loss: 0.5383 - val_acc: 0.7333 - lr: 0.0010\n",
      "Epoch 41/500\n",
      "1/9 [==>...........................] - ETA: 0s - loss: 0.7020 - acc: 0.5938\n",
      "Epoch 41: ReduceLROnPlateau reducing learning rate to 0.0005000000237487257.\n",
      "9/9 [==============================] - 0s 4ms/step - loss: 0.5868 - acc: 0.7107 - val_loss: 0.5383 - val_acc: 0.7333 - lr: 0.0010\n",
      "Epoch 42/500\n",
      "9/9 [==============================] - 0s 4ms/step - loss: 0.5857 - acc: 0.7107 - val_loss: 0.5384 - val_acc: 0.7333 - lr: 5.0000e-04\n",
      "Epoch 43/500\n",
      "9/9 [==============================] - 0s 3ms/step - loss: 0.5858 - acc: 0.7071 - val_loss: 0.5385 - val_acc: 0.7333 - lr: 5.0000e-04\n",
      "Epoch 43: early stopping\n"
     ]
    }
   ],
   "source": [
    "result = model.fit(x_train, y_train, epochs = 500, validation_data = (x_test, y_test), callbacks = [\n",
    "    EarlyStopping(monitor = 'val_loss', patience=5, verbose = 1),\n",
    "    ReduceLROnPlateau(monitor= \"val_loss\", patience=3, factor = 0.5, min_lr=0.0001, verbose=1)\n",
    "])"
   ]
  },
  {
   "cell_type": "markdown",
   "metadata": {},
   "source": [
    "## #07. 학습 결과 평가"
   ]
  },
  {
   "cell_type": "code",
   "execution_count": 15,
   "metadata": {},
   "outputs": [
    {
     "data": {
      "image/png": "[encoded data removed]",
      "text/plain": [
       "<Figure size 2250x750 with 2 Axes>"
      ]
     },
     "metadata": {},
     "output_type": "display_data"
    },
    {
     "name": "stdout",
     "output_type": "stream",
     "text": [
      "9/9 [==============================] - 0s 876us/step - loss: 0.5851 - acc: 0.7107\n",
      "최종 훈련 손실률: 0.585068, 최종 훈련 정확도: 0.710714\n",
      "4/4 [==============================] - 0s 1ms/step - loss: 0.5385 - acc: 0.7333\n",
      "최종 검증 손실률: 0.538463, 최종 검증 정확도: 0.733333\n"
     ]
    }
   ],
   "source": [
    "helper.tf_result_plot(result)\n",
    "\n",
    "evaluate1 = model.evaluate(x_train, y_train)\n",
    "print(\"최종 훈련 손실률: %f, 최종 훈련 정확도: %f\" % (evaluate1[0], evaluate1[1]))\n",
    "\n",
    "evaluate2 = model.evaluate(x_test, y_test)\n",
    "print(\"최종 검증 손실률: %f, 최종 검증 정확도: %f\" % (evaluate2[0], evaluate2[1]))"
   ]
  },
  {
   "cell_type": "markdown",
   "metadata": {},
   "source": [
    "## #08. 학습 결과 적용"
   ]
  },
  {
   "cell_type": "markdown",
   "metadata": {},
   "source": [
    "### 훈련 데이터에 대한 예측 결과 산정"
   ]
  },
  {
   "cell_type": "code",
   "execution_count": 16,
   "metadata": {},
   "outputs": [
    {
     "name": "stdout",
     "output_type": "stream",
     "text": [
      "9/9 [==============================] - 0s 873us/step\n",
      "280개의 훈련 데이터가 1개의 경우의 수를 갖는다.\n",
      "[[0.3883498 ]\n",
      " [0.5649375 ]\n",
      " [0.16058552]\n",
      " [0.2331453 ]\n",
      " [0.14667471]\n",
      " [0.14119634]\n",
      " [0.4912731 ]\n",
      " [0.50153124]\n",
      " [0.31450325]\n",
      " [0.4049951 ]\n",
      " [0.29137322]\n",
      " [0.37406254]\n",
      " [0.45002475]\n",
      " [0.27213022]\n",
      " [0.1799859 ]\n",
      " [0.43446574]\n",
      " [0.23266575]\n",
      " [0.45247164]\n",
      " [0.60955167]\n",
      " [0.5112684 ]\n",
      " [0.34508723]\n",
      " [0.5264822 ]\n",
      " [0.31877753]\n",
      " [0.15576056]\n",
      " [0.34486657]\n",
      " [0.34927344]\n",
      " [0.42037746]\n",
      " [0.32838583]\n",
      " [0.43899983]\n",
      " [0.4974367 ]\n",
      " [0.3443733 ]\n",
      " [0.49691156]\n",
      " [0.32977444]\n",
      " [0.23193401]\n",
      " [0.34662178]\n",
      " [0.2674939 ]\n",
      " [0.17154557]\n",
      " [0.0990713 ]\n",
      " [0.3414115 ]\n",
      " [0.4092732 ]\n",
      " [0.40793294]\n",
      " [0.16034266]\n",
      " [0.44472736]\n",
      " [0.33038828]\n",
      " [0.273747  ]\n",
      " [0.44473866]\n",
      " [0.09000612]\n",
      " [0.27954036]\n",
      " [0.44647294]\n",
      " [0.18555652]\n",
      " [0.43041626]\n",
      " [0.34314004]\n",
      " [0.44074652]\n",
      " [0.19612052]\n",
      " [0.471616  ]\n",
      " [0.5559871 ]\n",
      " [0.33961484]\n",
      " [0.43041626]\n",
      " [0.15906096]\n",
      " [0.2902454 ]\n",
      " [0.35648698]\n",
      " [0.4249355 ]\n",
      " [0.2689434 ]\n",
      " [0.31873846]\n",
      " [0.20771697]\n",
      " [0.22074676]\n",
      " [0.4979619 ]\n",
      " [0.25026074]\n",
      " [0.16808717]\n",
      " [0.3364428 ]\n",
      " [0.30241847]\n",
      " [0.25016293]\n",
      " [0.3509906 ]\n",
      " [0.24539542]\n",
      " [0.46413112]\n",
      " [0.46324372]\n",
      " [0.44647294]\n",
      " [0.4359608 ]\n",
      " [0.50426257]\n",
      " [0.33170158]\n",
      " [0.41137484]\n",
      " [0.3234743 ]\n",
      " [0.17839925]\n",
      " [0.1801075 ]\n",
      " [0.32594842]\n",
      " [0.24049693]\n",
      " [0.2941633 ]\n",
      " [0.49280477]\n",
      " [0.1567443 ]\n",
      " [0.58508104]\n",
      " [0.43708947]\n",
      " [0.1204185 ]\n",
      " [0.14726178]\n",
      " [0.30803376]\n",
      " [0.4523103 ]\n",
      " [0.30805725]\n",
      " [0.45293626]\n",
      " [0.6217717 ]\n",
      " [0.23520008]\n",
      " [0.47876075]\n",
      " [0.32702222]\n",
      " [0.20085427]\n",
      " [0.48541182]\n",
      " [0.4661775 ]\n",
      " [0.5547276 ]\n",
      " [0.2727367 ]\n",
      " [0.26181373]\n",
      " [0.27526096]\n",
      " [0.18777737]\n",
      " [0.13044882]\n",
      " [0.5089499 ]\n",
      " [0.3347642 ]\n",
      " [0.4055452 ]\n",
      " [0.47446644]\n",
      " [0.4102763 ]\n",
      " [0.22338668]\n",
      " [0.11579473]\n",
      " [0.3450231 ]\n",
      " [0.32438567]\n",
      " [0.09194046]\n",
      " [0.12650011]\n",
      " [0.2374118 ]\n",
      " [0.4457463 ]\n",
      " [0.32528618]\n",
      " [0.17405427]\n",
      " [0.40299624]\n",
      " [0.36081323]\n",
      " [0.2584222 ]\n",
      " [0.32596654]\n",
      " [0.12691483]\n",
      " [0.25372383]\n",
      " [0.35705554]\n",
      " [0.40640196]\n",
      " [0.18800624]\n",
      " [0.22756273]\n",
      " [0.24122478]\n",
      " [0.10750569]\n",
      " [0.2906346 ]\n",
      " [0.25784168]\n",
      " [0.20099509]\n",
      " [0.05503491]\n",
      " [0.32222682]\n",
      " [0.2535524 ]\n",
      " [0.30762023]\n",
      " [0.15093948]\n",
      " [0.51920396]\n",
      " [0.29703268]\n",
      " [0.3654984 ]\n",
      " [0.19618155]\n",
      " [0.5924964 ]\n",
      " [0.4474649 ]\n",
      " [0.47815683]\n",
      " [0.07425416]\n",
      " [0.48638168]\n",
      " [0.4336757 ]\n",
      " [0.2005115 ]\n",
      " [0.39705977]\n",
      " [0.36523548]\n",
      " [0.37320232]\n",
      " [0.43512616]\n",
      " [0.34631333]\n",
      " [0.28925425]\n",
      " [0.5072146 ]\n",
      " [0.49029773]\n",
      " [0.05510592]\n",
      " [0.4068751 ]\n",
      " [0.5071397 ]\n",
      " [0.16504599]\n",
      " [0.30698103]\n",
      " [0.38443694]\n",
      " [0.5421935 ]\n",
      " [0.2360596 ]\n",
      " [0.3062733 ]\n",
      " [0.37884396]\n",
      " [0.21236031]\n",
      " [0.20479432]\n",
      " [0.39737788]\n",
      " [0.2008492 ]\n",
      " [0.5034136 ]\n",
      " [0.26010796]\n",
      " [0.3278239 ]\n",
      " [0.45575553]\n",
      " [0.20399328]\n",
      " [0.18892048]\n",
      " [0.19218473]\n",
      " [0.43292657]\n",
      " [0.19098432]\n",
      " [0.18986474]\n",
      " [0.23814684]\n",
      " [0.16002592]\n",
      " [0.31643334]\n",
      " [0.37401605]\n",
      " [0.53747725]\n",
      " [0.36481357]\n",
      " [0.256256  ]\n",
      " [0.18579239]\n",
      " [0.17428018]\n",
      " [0.17263603]\n",
      " [0.33126974]\n",
      " [0.47876075]\n",
      " [0.27935955]\n",
      " [0.47755215]\n",
      " [0.4381147 ]\n",
      " [0.31466955]\n",
      " [0.23959045]\n",
      " [0.44367695]\n",
      " [0.11102327]\n",
      " [0.18830994]\n",
      " [0.36007652]\n",
      " [0.06639671]\n",
      " [0.3001303 ]\n",
      " [0.35501736]\n",
      " [0.4839998 ]\n",
      " [0.53124046]\n",
      " [0.51170397]\n",
      " [0.13720202]\n",
      " [0.27212664]\n",
      " [0.3269445 ]\n",
      " [0.43918374]\n",
      " [0.28033105]\n",
      " [0.14111266]\n",
      " [0.32702222]\n",
      " [0.367356  ]\n",
      " [0.43122116]\n",
      " [0.33248836]\n",
      " [0.36160082]\n",
      " [0.3225277 ]\n",
      " [0.44559348]\n",
      " [0.41201043]\n",
      " [0.35952508]\n",
      " [0.46685135]\n",
      " [0.33204493]\n",
      " [0.43983254]\n",
      " [0.27743593]\n",
      " [0.1915269 ]\n",
      " [0.4466998 ]\n",
      " [0.34903553]\n",
      " [0.52592236]\n",
      " [0.38481906]\n",
      " [0.23340069]\n",
      " [0.3680728 ]\n",
      " [0.31089377]\n",
      " [0.46612138]\n",
      " [0.6642376 ]\n",
      " [0.3160297 ]\n",
      " [0.26300186]\n",
      " [0.37084383]\n",
      " [0.5924964 ]\n",
      " [0.1342185 ]\n",
      " [0.4429885 ]\n",
      " [0.32110524]\n",
      " [0.16291851]\n",
      " [0.14266428]\n",
      " [0.1862269 ]\n",
      " [0.3265097 ]\n",
      " [0.14938778]\n",
      " [0.2538767 ]\n",
      " [0.3476649 ]\n",
      " [0.2551411 ]\n",
      " [0.36708146]\n",
      " [0.48724693]\n",
      " [0.34508723]\n",
      " [0.5927259 ]\n",
      " [0.15422334]\n",
      " [0.36925763]\n",
      " [0.4099287 ]\n",
      " [0.50199264]\n",
      " [0.30029982]\n",
      " [0.19872808]\n",
      " [0.23423937]\n",
      " [0.48936507]\n",
      " [0.22596385]\n",
      " [0.34642103]\n",
      " [0.22767338]\n",
      " [0.5218981 ]\n",
      " [0.05265786]\n",
      " [0.45766222]\n",
      " [0.19612052]\n",
      " [0.48439085]\n",
      " [0.3657047 ]]\n"
     ]
    }
   ],
   "source": [
    "train_pred = model.predict(x_train)\n",
    "data_count, case_count = train_pred.shape\n",
    "print(\"%d개의 훈련 데이터가 %d개의 경우의 수를 갖는다.\" % (data_count, case_count))\n",
    "print(train_pred)"
   ]
  },
  {
   "cell_type": "markdown",
   "metadata": {},
   "source": [
    "### 검증 데이터에 대한 예측 결과 산정"
   ]
  },
  {
   "cell_type": "code",
   "execution_count": 17,
   "metadata": {},
   "outputs": [
    {
     "name": "stdout",
     "output_type": "stream",
     "text": [
      "4/4 [==============================] - 0s 997us/step\n",
      "120개의 검증 데이터가 1개의 경우의 수를 갖는다.\n"
     ]
    }
   ],
   "source": [
    "test_pred = model.predict(x_test)\n",
    "data_count, case_count = test_pred.shape\n",
    "print(\"%d개의 검증 데이터가 %d개의 경우의 수를 갖는다.\" % (data_count, case_count))\n",
    "#print(test_pred)"
   ]
  },
  {
   "cell_type": "markdown",
   "metadata": {},
   "source": [
    "### 결과 데이터 셋 구성"
   ]
  },
  {
   "cell_type": "code",
   "execution_count": 25,
   "metadata": {},
   "outputs": [
    {
     "data": {
      "text/html": [
       "<div>\n",
       "<style scoped>\n",
       "    .dataframe tbody tr th:only-of-type {\n",
       "        vertical-align: middle;\n",
       "    }\n",
       "\n",
       "    .dataframe tbody tr th {\n",
       "        vertical-align: top;\n",
       "    }\n",
       "\n",
       "    .dataframe thead th {\n",
       "        text-align: right;\n",
       "    }\n",
       "</style>\n",
       "<table border=\"1\" class=\"dataframe\">\n",
       "  <thead>\n",
       "    <tr style=\"text-align: right;\">\n",
       "      <th></th>\n",
       "      <th>결과값</th>\n",
       "      <th>예측치</th>\n",
       "      <th>합격확률(%)</th>\n",
       "    </tr>\n",
       "  </thead>\n",
       "  <tbody>\n",
       "    <tr>\n",
       "      <th>0</th>\n",
       "      <td>1</td>\n",
       "      <td>0.0</td>\n",
       "      <td>38.799999</td>\n",
       "    </tr>\n",
       "    <tr>\n",
       "      <th>1</th>\n",
       "      <td>1</td>\n",
       "      <td>1.0</td>\n",
       "      <td>56.500000</td>\n",
       "    </tr>\n",
       "    <tr>\n",
       "      <th>2</th>\n",
       "      <td>1</td>\n",
       "      <td>0.0</td>\n",
       "      <td>16.100000</td>\n",
       "    </tr>\n",
       "    <tr>\n",
       "      <th>3</th>\n",
       "      <td>0</td>\n",
       "      <td>0.0</td>\n",
       "      <td>23.299999</td>\n",
       "    </tr>\n",
       "    <tr>\n",
       "      <th>4</th>\n",
       "      <td>0</td>\n",
       "      <td>0.0</td>\n",
       "      <td>14.700000</td>\n",
       "    </tr>\n",
       "    <tr>\n",
       "      <th>...</th>\n",
       "      <td>...</td>\n",
       "      <td>...</td>\n",
       "      <td>...</td>\n",
       "    </tr>\n",
       "    <tr>\n",
       "      <th>275</th>\n",
       "      <td>0</td>\n",
       "      <td>0.0</td>\n",
       "      <td>5.300000</td>\n",
       "    </tr>\n",
       "    <tr>\n",
       "      <th>276</th>\n",
       "      <td>0</td>\n",
       "      <td>0.0</td>\n",
       "      <td>45.799999</td>\n",
       "    </tr>\n",
       "    <tr>\n",
       "      <th>277</th>\n",
       "      <td>0</td>\n",
       "      <td>0.0</td>\n",
       "      <td>19.600000</td>\n",
       "    </tr>\n",
       "    <tr>\n",
       "      <th>278</th>\n",
       "      <td>1</td>\n",
       "      <td>0.0</td>\n",
       "      <td>48.400002</td>\n",
       "    </tr>\n",
       "    <tr>\n",
       "      <th>279</th>\n",
       "      <td>0</td>\n",
       "      <td>0.0</td>\n",
       "      <td>36.599998</td>\n",
       "    </tr>\n",
       "  </tbody>\n",
       "</table>\n",
       "<p>280 rows × 3 columns</p>\n",
       "</div>"
      ],
      "text/plain": [
       "    결과값  예측치    합격확률(%)\n",
       "0     1  0.0  38.799999\n",
       "1     1  1.0  56.500000\n",
       "2     1  0.0  16.100000\n",
       "3     0  0.0  23.299999\n",
       "4     0  0.0  14.700000\n",
       "..   ..  ...        ...\n",
       "275   0  0.0   5.300000\n",
       "276   0  0.0  45.799999\n",
       "277   0  0.0  19.600000\n",
       "278   1  0.0  48.400002\n",
       "279   0  0.0  36.599998\n",
       "\n",
       "[280 rows x 3 columns]"
      ]
     },
     "execution_count": 25,
     "metadata": {},
     "output_type": "execute_result"
    }
   ],
   "source": [
    "kdf = DataFrame({\n",
    "    '결과값': y_train['합격여부'].values,\n",
    "    '예측치' : np.round(train_pred.flatten()),\n",
    "    '합격확률(%)': np.round(train_pred.flatten() * 100, 1)\n",
    "})\n",
    "\n",
    "kdf"
   ]
  },
  {
   "cell_type": "code",
   "execution_count": 26,
   "metadata": {},
   "outputs": [
    {
     "ename": "ValueError",
     "evalue": "Found input variables with inconsistent numbers of samples: [120, 280]",
     "output_type": "error",
     "traceback": [
      "\u001b[1;31m---------------------------------------------------------------------------\u001b[0m",
      "\u001b[1;31mValueError\u001b[0m                                Traceback (most recent call last)",
      "Cell \u001b[1;32mIn[26], line 3\u001b[0m\n\u001b[0;32m      1\u001b[0m \u001b[39m# 오차 행렬\u001b[39;00m\n\u001b[0;32m      2\u001b[0m \u001b[39m# 평가를 위해 7:3으로 분할한 test데이터에 대해 이진 분류의 성능 평가 기본이 되는 오차 행렬을 구한다. \u001b[39;00m\n\u001b[1;32m----> 3\u001b[0m confusion_matrix(y_test,train_pred)\n\u001b[0;32m      5\u001b[0m \u001b[39m# 성능 평가 지표인 정확도, 정밀도, 재현율, F1스코어, ROC-AUC 스코어를 구한다.\u001b[39;00m\n\u001b[0;32m      6\u001b[0m accuracy \u001b[39m=\u001b[39m accuracy_score(y_test,train_pred)\n",
      "File \u001b[1;32mc:\\Users\\MegaIT302-02\\AppData\\Local\\Programs\\Python\\Python39\\lib\\site-packages\\sklearn\\utils\\_param_validation.py:211\u001b[0m, in \u001b[0;36mvalidate_params.<locals>.decorator.<locals>.wrapper\u001b[1;34m(*args, **kwargs)\u001b[0m\n\u001b[0;32m    205\u001b[0m \u001b[39mtry\u001b[39;00m:\n\u001b[0;32m    206\u001b[0m     \u001b[39mwith\u001b[39;00m config_context(\n\u001b[0;32m    207\u001b[0m         skip_parameter_validation\u001b[39m=\u001b[39m(\n\u001b[0;32m    208\u001b[0m             prefer_skip_nested_validation \u001b[39mor\u001b[39;00m global_skip_validation\n\u001b[0;32m    209\u001b[0m         )\n\u001b[0;32m    210\u001b[0m     ):\n\u001b[1;32m--> 211\u001b[0m         \u001b[39mreturn\u001b[39;00m func(\u001b[39m*\u001b[39margs, \u001b[39m*\u001b[39m\u001b[39m*\u001b[39mkwargs)\n\u001b[0;32m    212\u001b[0m \u001b[39mexcept\u001b[39;00m InvalidParameterError \u001b[39mas\u001b[39;00m e:\n\u001b[0;32m    213\u001b[0m     \u001b[39m# When the function is just a wrapper around an estimator, we allow\u001b[39;00m\n\u001b[0;32m    214\u001b[0m     \u001b[39m# the function to delegate validation to the estimator, but we replace\u001b[39;00m\n\u001b[0;32m    215\u001b[0m     \u001b[39m# the name of the estimator by the name of the function in the error\u001b[39;00m\n\u001b[0;32m    216\u001b[0m     \u001b[39m# message to avoid confusion.\u001b[39;00m\n\u001b[0;32m    217\u001b[0m     msg \u001b[39m=\u001b[39m re\u001b[39m.\u001b[39msub(\n\u001b[0;32m    218\u001b[0m         \u001b[39mr\u001b[39m\u001b[39m\"\u001b[39m\u001b[39mparameter of \u001b[39m\u001b[39m\\\u001b[39m\u001b[39mw+ must be\u001b[39m\u001b[39m\"\u001b[39m,\n\u001b[0;32m    219\u001b[0m         \u001b[39mf\u001b[39m\u001b[39m\"\u001b[39m\u001b[39mparameter of \u001b[39m\u001b[39m{\u001b[39;00mfunc\u001b[39m.\u001b[39m\u001b[39m__qualname__\u001b[39m\u001b[39m}\u001b[39;00m\u001b[39m must be\u001b[39m\u001b[39m\"\u001b[39m,\n\u001b[0;32m    220\u001b[0m         \u001b[39mstr\u001b[39m(e),\n\u001b[0;32m    221\u001b[0m     )\n",
      "File \u001b[1;32mc:\\Users\\MegaIT302-02\\AppData\\Local\\Programs\\Python\\Python39\\lib\\site-packages\\sklearn\\metrics\\_classification.py:326\u001b[0m, in \u001b[0;36mconfusion_matrix\u001b[1;34m(y_true, y_pred, labels, sample_weight, normalize)\u001b[0m\n\u001b[0;32m    231\u001b[0m \u001b[39m@validate_params\u001b[39m(\n\u001b[0;32m    232\u001b[0m     {\n\u001b[0;32m    233\u001b[0m         \u001b[39m\"\u001b[39m\u001b[39my_true\u001b[39m\u001b[39m\"\u001b[39m: [\u001b[39m\"\u001b[39m\u001b[39marray-like\u001b[39m\u001b[39m\"\u001b[39m],\n\u001b[1;32m   (...)\u001b[0m\n\u001b[0;32m    242\u001b[0m     y_true, y_pred, \u001b[39m*\u001b[39m, labels\u001b[39m=\u001b[39m\u001b[39mNone\u001b[39;00m, sample_weight\u001b[39m=\u001b[39m\u001b[39mNone\u001b[39;00m, normalize\u001b[39m=\u001b[39m\u001b[39mNone\u001b[39;00m\n\u001b[0;32m    243\u001b[0m ):\n\u001b[0;32m    244\u001b[0m \u001b[39m    \u001b[39m\u001b[39m\"\"\"Compute confusion matrix to evaluate the accuracy of a classification.\u001b[39;00m\n\u001b[0;32m    245\u001b[0m \n\u001b[0;32m    246\u001b[0m \u001b[39m    By definition a confusion matrix :math:`C` is such that :math:`C_{i, j}`\u001b[39;00m\n\u001b[1;32m   (...)\u001b[0m\n\u001b[0;32m    324\u001b[0m \u001b[39m    (0, 2, 1, 1)\u001b[39;00m\n\u001b[0;32m    325\u001b[0m \u001b[39m    \"\"\"\u001b[39;00m\n\u001b[1;32m--> 326\u001b[0m     y_type, y_true, y_pred \u001b[39m=\u001b[39m _check_targets(y_true, y_pred)\n\u001b[0;32m    327\u001b[0m     \u001b[39mif\u001b[39;00m y_type \u001b[39mnot\u001b[39;00m \u001b[39min\u001b[39;00m (\u001b[39m\"\u001b[39m\u001b[39mbinary\u001b[39m\u001b[39m\"\u001b[39m, \u001b[39m\"\u001b[39m\u001b[39mmulticlass\u001b[39m\u001b[39m\"\u001b[39m):\n\u001b[0;32m    328\u001b[0m         \u001b[39mraise\u001b[39;00m \u001b[39mValueError\u001b[39;00m(\u001b[39m\"\u001b[39m\u001b[39m%s\u001b[39;00m\u001b[39m is not supported\u001b[39m\u001b[39m\"\u001b[39m \u001b[39m%\u001b[39m y_type)\n",
      "File \u001b[1;32mc:\\Users\\MegaIT302-02\\AppData\\Local\\Programs\\Python\\Python39\\lib\\site-packages\\sklearn\\metrics\\_classification.py:84\u001b[0m, in \u001b[0;36m_check_targets\u001b[1;34m(y_true, y_pred)\u001b[0m\n\u001b[0;32m     57\u001b[0m \u001b[39mdef\u001b[39;00m \u001b[39m_check_targets\u001b[39m(y_true, y_pred):\n\u001b[0;32m     58\u001b[0m \u001b[39m    \u001b[39m\u001b[39m\"\"\"Check that y_true and y_pred belong to the same classification task.\u001b[39;00m\n\u001b[0;32m     59\u001b[0m \n\u001b[0;32m     60\u001b[0m \u001b[39m    This converts multiclass or binary types to a common shape, and raises a\u001b[39;00m\n\u001b[1;32m   (...)\u001b[0m\n\u001b[0;32m     82\u001b[0m \u001b[39m    y_pred : array or indicator matrix\u001b[39;00m\n\u001b[0;32m     83\u001b[0m \u001b[39m    \"\"\"\u001b[39;00m\n\u001b[1;32m---> 84\u001b[0m     check_consistent_length(y_true, y_pred)\n\u001b[0;32m     85\u001b[0m     type_true \u001b[39m=\u001b[39m type_of_target(y_true, input_name\u001b[39m=\u001b[39m\u001b[39m\"\u001b[39m\u001b[39my_true\u001b[39m\u001b[39m\"\u001b[39m)\n\u001b[0;32m     86\u001b[0m     type_pred \u001b[39m=\u001b[39m type_of_target(y_pred, input_name\u001b[39m=\u001b[39m\u001b[39m\"\u001b[39m\u001b[39my_pred\u001b[39m\u001b[39m\"\u001b[39m)\n",
      "File \u001b[1;32mc:\\Users\\MegaIT302-02\\AppData\\Local\\Programs\\Python\\Python39\\lib\\site-packages\\sklearn\\utils\\validation.py:409\u001b[0m, in \u001b[0;36mcheck_consistent_length\u001b[1;34m(*arrays)\u001b[0m\n\u001b[0;32m    407\u001b[0m uniques \u001b[39m=\u001b[39m np\u001b[39m.\u001b[39munique(lengths)\n\u001b[0;32m    408\u001b[0m \u001b[39mif\u001b[39;00m \u001b[39mlen\u001b[39m(uniques) \u001b[39m>\u001b[39m \u001b[39m1\u001b[39m:\n\u001b[1;32m--> 409\u001b[0m     \u001b[39mraise\u001b[39;00m \u001b[39mValueError\u001b[39;00m(\n\u001b[0;32m    410\u001b[0m         \u001b[39m\"\u001b[39m\u001b[39mFound input variables with inconsistent numbers of samples: \u001b[39m\u001b[39m%r\u001b[39;00m\u001b[39m\"\u001b[39m\n\u001b[0;32m    411\u001b[0m         \u001b[39m%\u001b[39m [\u001b[39mint\u001b[39m(l) \u001b[39mfor\u001b[39;00m l \u001b[39min\u001b[39;00m lengths]\n\u001b[0;32m    412\u001b[0m     )\n",
      "\u001b[1;31mValueError\u001b[0m: Found input variables with inconsistent numbers of samples: [120, 280]"
     ]
    }
   ],
   "source": [
    "# # 오차 행렬\n",
    "# # 평가를 위해 7:3으로 분할한 test데이터에 대해 이진 분류의 성능 평가 기본이 되는 오차 행렬을 구한다. \n",
    "# confusion_matrix(y_test,train_pred)\n",
    "\n",
    "# # 성능 평가 지표인 정확도, 정밀도, 재현율, F1스코어, ROC-AUC 스코어를 구한다.\n",
    "# accuracy = accuracy_score(y_test,train_pred)\n",
    "# precision = precision_score(y_test,train_pred)\n",
    "# recall = recall_score(y_test,train_pred)\n",
    "# f1 = f1_score(y_test,train_pred)\n",
    "# roc_auc = roc_auc_score(y_test,train_pred)\n",
    "# print('정확도:{},정밀도:{},재현율:{},F1:{}'.format(accuracy,precision,recall,f1))\n",
    "\n",
    "# print('ROC_AUC:',roc_auc)"
   ]
  },
  {
   "cell_type": "markdown",
   "metadata": {},
   "source": [
    "#### 혼동행렬"
   ]
  },
  {
   "cell_type": "code",
   "execution_count": 19,
   "metadata": {},
   "outputs": [
    {
     "name": "stdout",
     "output_type": "stream",
     "text": [
      "181 8 73 18\n"
     ]
    },
    {
     "data": {
      "text/html": [
       "<div>\n",
       "<style scoped>\n",
       "    .dataframe tbody tr th:only-of-type {\n",
       "        vertical-align: middle;\n",
       "    }\n",
       "\n",
       "    .dataframe tbody tr th {\n",
       "        vertical-align: top;\n",
       "    }\n",
       "\n",
       "    .dataframe thead th {\n",
       "        text-align: right;\n",
       "    }\n",
       "</style>\n",
       "<table border=\"1\" class=\"dataframe\">\n",
       "  <thead>\n",
       "    <tr style=\"text-align: right;\">\n",
       "      <th></th>\n",
       "      <th>Negative</th>\n",
       "      <th>Positive</th>\n",
       "    </tr>\n",
       "  </thead>\n",
       "  <tbody>\n",
       "    <tr>\n",
       "      <th>True</th>\n",
       "      <td>181</td>\n",
       "      <td>73</td>\n",
       "    </tr>\n",
       "    <tr>\n",
       "      <th>False</th>\n",
       "      <td>8</td>\n",
       "      <td>18</td>\n",
       "    </tr>\n",
       "  </tbody>\n",
       "</table>\n",
       "</div>"
      ],
      "text/plain": [
       "       Negative  Positive\n",
       "True        181        73\n",
       "False         8        18"
      ]
     },
     "execution_count": 19,
     "metadata": {},
     "output_type": "execute_result"
    }
   ],
   "source": [
    "cm = confusion_matrix(kdf['결과값'], kdf['예측치'])\n",
    "# 정제된 예측치를 넣으면 안되용\n",
    "tn, fp, fn, tp = cm.ravel()\n",
    "print(tn, fp, fn, tp)\n",
    "cmdf1 = DataFrame([[tn, fn], [fp, tp]], index=['True', 'False'], columns=['Negative', 'Positive'])\n",
    "cmdf1\n",
    "\n",
    "# 이 표도 수정해야 한대용"
   ]
  },
  {
   "cell_type": "markdown",
   "metadata": {},
   "source": [
    "| | Negative|Positive|\n",
    "|--|--|--|\n",
    "| True | TN | FP |\n",
    "| False | FN | TP |\n",
    "\n",
    "#### 각 항목의 의미\n",
    "\n",
    "| 구분 | 설명 |\n",
    "|--|--|\n",
    "| TN(True Negative, Negative Negative) | 실제는 Negative인데, Negative로 예측함. |\n",
    "| FP(False Positive, Negative Positive) | 실제는 Negative인데, Positive로 예측함. (Type1 Error) |\n",
    "| FN(False Negative, Positive Negative) | 실제는 Positive인데, Negative로 예측함. (Type2 Error) |\n",
    "| TP(True Positive, Positive Positive) | 실제는 Positive인데, Positive로 예측함. |"
   ]
  },
  {
   "cell_type": "code",
   "execution_count": 20,
   "metadata": {},
   "outputs": [
    {
     "name": "stderr",
     "output_type": "stream",
     "text": [
      "c:\\Users\\MegaIT302-02\\AppData\\Local\\Programs\\Python\\Python39\\lib\\site-packages\\IPython\\core\\pylabtools.py:152: UserWarning: Glyph 50696 (\\N{HANGUL SYLLABLE YE}) missing from current font.\n",
      "  fig.canvas.print_figure(bytes_io, **kw)\n",
      "c:\\Users\\MegaIT302-02\\AppData\\Local\\Programs\\Python\\Python39\\lib\\site-packages\\IPython\\core\\pylabtools.py:152: UserWarning: Glyph 52769 (\\N{HANGUL SYLLABLE CEUG}) missing from current font.\n",
      "  fig.canvas.print_figure(bytes_io, **kw)\n",
      "c:\\Users\\MegaIT302-02\\AppData\\Local\\Programs\\Python\\Python39\\lib\\site-packages\\IPython\\core\\pylabtools.py:152: UserWarning: Glyph 44050 (\\N{HANGUL SYLLABLE GABS}) missing from current font.\n",
      "  fig.canvas.print_figure(bytes_io, **kw)\n",
      "c:\\Users\\MegaIT302-02\\AppData\\Local\\Programs\\Python\\Python39\\lib\\site-packages\\IPython\\core\\pylabtools.py:152: UserWarning: Glyph 44208 (\\N{HANGUL SYLLABLE GYEOL}) missing from current font.\n",
      "  fig.canvas.print_figure(bytes_io, **kw)\n",
      "c:\\Users\\MegaIT302-02\\AppData\\Local\\Programs\\Python\\Python39\\lib\\site-packages\\IPython\\core\\pylabtools.py:152: UserWarning: Glyph 44284 (\\N{HANGUL SYLLABLE GWA}) missing from current font.\n",
      "  fig.canvas.print_figure(bytes_io, **kw)\n"
     ]
    },
    {
     "data": {
      "image/png": "[encoded data removed]",
      "text/plain": [
       "<Figure size 500x300 with 2 Axes>"
      ]
     },
     "metadata": {},
     "output_type": "display_data"
    }
   ],
   "source": [
    "plt.figure(figsize=(5,3))\n",
    "# 오차 행렬을 히트맵 그래프로 표현\n",
    "# -> annot : 그래프의 각 칸에 수치값 출력\n",
    "# -> fmt : 수치값 출력 format (여기서는 10진수)\n",
    "# -> cmap : 색상맵 (<https://matplotlib.org/3.2.1/tutorials/colors/colormaps.html>)\n",
    "sb.heatmap(cm, annot = True, fmt = 'd',cmap = 'Blues')\n",
    "plt.xticks([0.5, 1.5], ['Negative', 'Positive'])\n",
    "plt.yticks([0.5, 1.5], ['True', 'False'])\n",
    "plt.xlabel('예측값')\n",
    "plt.ylabel('결과값')\n",
    "plt.show()"
   ]
  },
  {
   "cell_type": "markdown",
   "metadata": {},
   "source": [
    "### 평가지표"
   ]
  },
  {
   "cell_type": "code",
   "execution_count": 21,
   "metadata": {},
   "outputs": [
    {
     "data": {
      "image/png": "[encoded data removed]",
      "text/plain": [
       "<Figure size 640x480 with 1 Axes>"
      ]
     },
     "metadata": {},
     "output_type": "display_data"
    }
   ],
   "source": [
    "ras = roc_auc_score(kdf['결과값'], kdf['예측치'])\n",
    "\n",
    "# 위양성율, 재현율, 임계값(사용안함)\n",
    "fpr, tpr, thresholds = roc_curve(kdf['결과값'], kdf['예측치'])\n",
    "\n",
    "plt.figure()\n",
    "sb.lineplot(x=fpr, y=tpr)\n",
    "sb.lineplot(x=[0,1], y=[0,1], color='red', linestyle=':', alpha=0.5)\n",
    "plt.title('AUC={:.4f}'.format(ras))\n",
    "plt.grid()\n",
    "plt.show()\n",
    "plt.close()"
   ]
  },
  {
   "cell_type": "code",
   "execution_count": 22,
   "metadata": {},
   "outputs": [
    {
     "name": "stdout",
     "output_type": "stream",
     "text": [
      "+--------------------------+----------+\n",
      "|                          |        0 |\n",
      "|--------------------------+----------|\n",
      "| 정확도(Accuracy)         | 0.710714 |\n",
      "| 정밀도(Precision)        | 0.692308 |\n",
      "| 재현율(Recall, TPR)      | 0.197802 |\n",
      "| 위양성율(Fallout, FPR)   | 0.042328 |\n",
      "| 특이성(Specificity, TNR) | 0.957672 |\n",
      "| RAS                      | 0.577737 |\n",
      "| f1_score                 | 0.307692 |\n",
      "+--------------------------+----------+\n"
     ]
    }
   ],
   "source": [
    "# 정확도\n",
    "acc = accuracy_score(kdf['결과값'], kdf['예측치'])\n",
    "\n",
    "# 정밀도\n",
    "pre = precision_score(kdf['결과값'], kdf['예측치'])\n",
    "\n",
    "# 재현율\n",
    "recall = recall_score(kdf['결과값'], kdf['예측치'])\n",
    "\n",
    "# F1 score\n",
    "f1 = f1_score(kdf['결과값'], kdf['예측치'])\n",
    "\n",
    "# 위양성율\n",
    "fallout = fp / (fp + tn)\n",
    "\n",
    "# 특이성\n",
    "spe = 1 - fallout\n",
    "\n",
    "result_df = DataFrame({'정확도(Accuracy)':[acc], '정밀도(Precision)':[pre], '재현율(Recall, TPR)':[recall], '위양성율(Fallout, FPR)': [fallout], '특이성(Specificity, TNR)':[spe], 'RAS': [ras], 'f1_score':[f1]})\n",
    "\n",
    "helper.prettyPrint(result_df.T)"
   ]
  },
  {
   "cell_type": "markdown",
   "metadata": {},
   "source": [
    "### 분류 보고서\n",
    "\n",
    "- precision : 정밀도 (분류기가 참으로 분류한 항목 중에서 실제 데이터가 참인 비율)\n",
    "- recall : 재현율 (실제 참 중에서 분류기가 참으로 분류한 비율)\n",
    "- f1-score : 2*(Recall * Precision) / (Recall + Precision)\n",
    "    - Precision과 Recall의 조화평균\n",
    "    - 주로 분류 클래스 간 데이터가 심각한 불균형을 이루는 경우에 사용\n",
    "    - 정확도의 경우, 클래스가 데이터 분류가 균일하지 못하면 머신의 성능을 제대로 나타내줄 수 없기 때문에 F1을 사용한다.\n",
    "- support : 전체 데이터 수"
   ]
  },
  {
   "cell_type": "code",
   "execution_count": 23,
   "metadata": {},
   "outputs": [
    {
     "name": "stdout",
     "output_type": "stream",
     "text": [
      "              precision    recall  f1-score   support\n",
      "\n",
      "           0       0.71      0.96      0.82       189\n",
      "           1       0.69      0.20      0.31        91\n",
      "\n",
      "    accuracy                           0.71       280\n",
      "   macro avg       0.70      0.58      0.56       280\n",
      "weighted avg       0.71      0.71      0.65       280\n",
      "\n"
     ]
    }
   ],
   "source": [
    "report = classification_report(kdf['결과값'], kdf['예측치'])\n",
    "print(report)"
   ]
  }
 ],
 "metadata": {
  "kernelspec": {
   "display_name": "Python 3",
   "language": "python",
   "name": "python3"
  },
  "language_info": {
   "codemirror_mode": {
    "name": "ipython",
    "version": 3
   },
   "file_extension": ".py",
   "mimetype": "text/x-python",
   "name": "python",
   "nbconvert_exporter": "python",
   "pygments_lexer": "ipython3",
   "version": "3.9.12"
  }
 },
 "nbformat": 4,
 "nbformat_minor": 4
}
