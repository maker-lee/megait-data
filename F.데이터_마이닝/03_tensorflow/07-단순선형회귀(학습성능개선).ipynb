{
 "cells": [
  {
   "cell_type": "markdown",
   "metadata": {},
   "source": [
    "# 단순 선형 회귀 (학습성능개선)\n",
    "\n",
    "텐서플로우의 학습성능을 개선하기 위해 아래의 기능을 사용할 수 있음\n",
    "\n",
    "1. 데이터 표준화: 학습률 향상에 도움을 줌\n",
    "2. 콜백함수: 모델의 학습 방향, 저장 시점, 학습 정지 시점 등에 관한 상황을 모니터링 하기 위한 도구\n",
    "\n",
    "## 데이터 정규화(Normalization, 표준화)\n",
    "\n",
    "### 1) 데이터 정규화의 이해\n",
    "\n",
    "#### 데이터 정규화란?\n",
    "\n",
    "모든 데이터가 동일한 정도의 스케일(중요도)로 반영되도록 해 주는 처리\n",
    "\n",
    "#### 정규화를 해야 하는 이유\n",
    "\n",
    "머신러닝 알고리즘은 데이터가 가진 feature(특성)들을 비교하여 데이터의 패턴을 찾는다.\n",
    "\n",
    "이 때, 데이터가 가진 feature의 스케일이 심하게 차이가 나는 경우 수많은 학습 단계를 거쳐서 최적값에 도달하게 된다.\n",
    "\n",
    "데이터에 정규화 처리를 적용하면 쉽게 최적값에 도달할 수 있으며 학습률을 상대적으로 높여서 사용할 수 있기 때문에 빠르게 훈련시킬 수 있다.\n",
    "\n",
    "### 2) 데이터 정규화 방법\n",
    "\n",
    "#### 최소-최대 정규화 (Min-Max Normalization)\n",
    "\n",
    "모든 feature에 대해 각각의 최소값 0, 최대값 1로, 그리고 다른 값들은 0과 1 사이의 값으로 변환.\n",
    "\n",
    "예를 들어 어떤 특성의 최소값이 20이고 최대값이 40인 경우, 30이라는 데이터가 있을 경우,\n",
    "20은 `0`, 40은 `1`로 환산되기 때문에 30은 중간치인 `0.5`로 변환됨.\n",
    "\n",
    "## 콜백함수\n",
    "\n",
    "모델의 학습 방향, 저장 시점, 학습 정지 시점 등에 관한 상황을 모니터링하기 위한 도구\n",
    "\n",
    "### 콜백함수 사용 방법\n",
    "\n",
    "#### 콜백 정의\n",
    "\n",
    "```pyhon\n",
    "callbacks = [  콜백1, 콜백2, ... 콜백n  ]\n",
    "```\n",
    "\n",
    "#### 학습을 위한 fit() 함수에서 callbacks 파라미터에 미리 정의한 리스트를 지정\n",
    "\n",
    "```python\n",
    "callbacks = [콜백1, 콜백2, ... , 콜백n]\n",
    "model.fit(x_train, y_train, validation_data = (x_val, y_val), epochs = 500, callbacks = callbacks)\n",
    "```\n",
    "\n",
    "혹은\n",
    "\n",
    "```python\n",
    "model.fit(x_train, y_train, validation_data = (x_val, y_val), epochs = 500, callbacks = [\n",
    "    콜백1, 콜백2, ... , 콜백n\n",
    "])\n",
    "```\n",
    "\n",
    "### 콜백함수 종류\n",
    "\n",
    "#### 1) `EarlyStopping()`\n",
    "\n",
    "모델 학습 시에 지정된 기간 동안 모니터링하는 평가지표에서 더 이상 성능 향상이 일어나지 않은 경우 학습을 스스로 중단\n",
    "\n",
    "```python\n",
    "EarlyStopping(monitor='평가지표', patience=10, verbose=1)\n",
    "```\n",
    "\n",
    "- patience: 지정한 수만큼의 기간에서 평가지표의 향상이 일어나지 않을 경우 학습을 중단 (기간이라 함은 에폭을 의미)\n",
    "예를 들어 patience=`10`일 때, `10`에폭 동안 성능 향상이 일어나지 않으면 학습을 중단. 즉, 10회 이상 성능향상이 발견되지 않으면 중단함\n",
    "- verbose: 콜백의 수행 과정 노출 여부를 지정.\n",
    "    * 0: 아무런 표시 하지 않음(기본값)\n",
    "    * 1: 프로그래스바로 표시\n",
    "    * 2: 매 에폭마다 수행과정을 자세하게 출력함.\n",
    "\n",
    "#### 2) `ReduceLROnPlateau()`\n",
    "\n",
    "EarlyStopping 콜백과 같이 patience 인자를 지정하여, 지정된 기간 동안 평가지표에서 성능 향상이 일어나지 않으면 학습률을 조정하는 콜백\n",
    "\n",
    "```python\n",
    "ReduceLROnPlateau(monitor='평가지표', factor=0.1, patience=10, min_lr=0, verbose=1)\n",
    "```\n",
    "\n",
    "- factor: 학습률 조정에 사용되는 값 (새로운 학습률 = factor * 기존 학습률)\n",
    "- patience: 지정한 수만큼의 기간에서 성능 향상이 일어나지 않을 경우, 학습률을 조정\n",
    "- min_lr: 학습률의 하한을 지정\n",
    "- verbose: 콜백의 수행 과정 노출 여부를 지정.\n",
    "\n",
    "#### 3) `ModelCheckpoint()`\n",
    "\n",
    "지정한 평가지표를 기준으로 가장 뛰어난 성능을 보여주는 모델을 저장 할 때 사용\n",
    "\n",
    "```python\n",
    "ModelCheckpoint(filepath, monitor='평가지표', verbose=1, save_best_only=True|False, save_weights_only=False)\n",
    "```\n",
    "\n",
    "- filepath: 모델의 저장 경로를 지정\n",
    "- save_best_only: True인 경우, 가장 성능이 뛰어난 모델만 저장. 그보다 좋지 않은 모델의 경우는 덮어쓰지 않는다.\n",
    "- save_weights_only: 모델의 가중치만 저장\n",
    "\n",
    "## #01. 패키지 준비하기"
   ]
  },
  {
   "cell_type": "code",
   "execution_count": 1,
   "metadata": {},
   "outputs": [],
   "source": [
    "import sys, os\n",
    "sys.path.append('../../')\n",
    "import helper\n",
    "\n",
    "from pandas import read_excel, DataFrame\n",
    "from matplotlib import pyplot as plt\n",
    "import seaborn as sb\n",
    "import numpy as np\n",
    "\n",
    "# 데이터를 훈련용과 테스트용으로 나누는 기능\n",
    "from sklearn.model_selection import train_test_split\n",
    "\n",
    "# 모델을 구성하기위한 객체\n",
    "from tensorflow.keras.models import Sequential\n",
    "# 모델에 학습층을 쌓기 위한 클래스\n",
    "from tensorflow.keras.layers import Dense\n",
    "\n",
    "\n",
    "#-------- 추가 패키지 --------#\n",
    "# 데이터 정규화를 위한 패키지 참조\n",
    "from sklearn.preprocessing import MinMaxScaler\n",
    "\n",
    "# 학습에 대한 콜백함수 참조\n",
    "from tensorflow.keras.callbacks import EarlyStopping\n",
    "from tensorflow.keras.callbacks import ReduceLROnPlateau\n",
    "from tensorflow.keras.callbacks import ModelCheckpoint"
   ]
  },
  {
   "cell_type": "markdown",
   "metadata": {},
   "source": [
    "## #02. 데이터셋 준비하기"
   ]
  },
  {
   "cell_type": "code",
   "execution_count": 2,
   "metadata": {},
   "outputs": [
    {
     "data": {
      "text/html": [
       "<div>\n",
       "<style scoped>\n",
       "    .dataframe tbody tr th:only-of-type {\n",
       "        vertical-align: middle;\n",
       "    }\n",
       "\n",
       "    .dataframe tbody tr th {\n",
       "        vertical-align: top;\n",
       "    }\n",
       "\n",
       "    .dataframe thead th {\n",
       "        text-align: right;\n",
       "    }\n",
       "</style>\n",
       "<table border=\"1\" class=\"dataframe\">\n",
       "  <thead>\n",
       "    <tr style=\"text-align: right;\">\n",
       "      <th></th>\n",
       "      <th>speed</th>\n",
       "      <th>dist</th>\n",
       "    </tr>\n",
       "  </thead>\n",
       "  <tbody>\n",
       "    <tr>\n",
       "      <th>0</th>\n",
       "      <td>4</td>\n",
       "      <td>2</td>\n",
       "    </tr>\n",
       "    <tr>\n",
       "      <th>1</th>\n",
       "      <td>4</td>\n",
       "      <td>10</td>\n",
       "    </tr>\n",
       "    <tr>\n",
       "      <th>2</th>\n",
       "      <td>7</td>\n",
       "      <td>4</td>\n",
       "    </tr>\n",
       "    <tr>\n",
       "      <th>3</th>\n",
       "      <td>7</td>\n",
       "      <td>22</td>\n",
       "    </tr>\n",
       "    <tr>\n",
       "      <th>4</th>\n",
       "      <td>8</td>\n",
       "      <td>16</td>\n",
       "    </tr>\n",
       "  </tbody>\n",
       "</table>\n",
       "</div>"
      ],
      "text/plain": [
       "   speed  dist\n",
       "0      4     2\n",
       "1      4    10\n",
       "2      7     4\n",
       "3      7    22\n",
       "4      8    16"
      ]
     },
     "execution_count": 2,
     "metadata": {},
     "output_type": "execute_result"
    }
   ],
   "source": [
    "origin = read_excel('https://data.hossam.kr/E04/cars.xlsx')\n",
    "origin.head()"
   ]
  },
  {
   "cell_type": "markdown",
   "metadata": {},
   "source": [
    "## #03. 데이터 전처리\n",
    "\n",
    "### 결측치 확인"
   ]
  },
  {
   "cell_type": "code",
   "execution_count": 3,
   "metadata": {},
   "outputs": [
    {
     "data": {
      "text/plain": [
       "speed    0\n",
       "dist     0\n",
       "dtype: int64"
      ]
     },
     "execution_count": 3,
     "metadata": {},
     "output_type": "execute_result"
    }
   ],
   "source": [
    "origin.isna().sum()"
   ]
  },
  {
   "cell_type": "markdown",
   "metadata": {},
   "source": [
    "> 결측치 없음"
   ]
  },
  {
   "cell_type": "markdown",
   "metadata": {},
   "source": [
    "## #04. 탐색적 데이터 분석\n",
    "\n",
    "### 기본통계 확인"
   ]
  },
  {
   "cell_type": "code",
   "execution_count": 4,
   "metadata": {},
   "outputs": [
    {
     "data": {
      "text/html": [
       "<div>\n",
       "<style scoped>\n",
       "    .dataframe tbody tr th:only-of-type {\n",
       "        vertical-align: middle;\n",
       "    }\n",
       "\n",
       "    .dataframe tbody tr th {\n",
       "        vertical-align: top;\n",
       "    }\n",
       "\n",
       "    .dataframe thead th {\n",
       "        text-align: right;\n",
       "    }\n",
       "</style>\n",
       "<table border=\"1\" class=\"dataframe\">\n",
       "  <thead>\n",
       "    <tr style=\"text-align: right;\">\n",
       "      <th></th>\n",
       "      <th>speed</th>\n",
       "      <th>dist</th>\n",
       "    </tr>\n",
       "  </thead>\n",
       "  <tbody>\n",
       "    <tr>\n",
       "      <th>count</th>\n",
       "      <td>50.000000</td>\n",
       "      <td>50.000000</td>\n",
       "    </tr>\n",
       "    <tr>\n",
       "      <th>mean</th>\n",
       "      <td>15.400000</td>\n",
       "      <td>42.980000</td>\n",
       "    </tr>\n",
       "    <tr>\n",
       "      <th>std</th>\n",
       "      <td>5.287644</td>\n",
       "      <td>25.769377</td>\n",
       "    </tr>\n",
       "    <tr>\n",
       "      <th>min</th>\n",
       "      <td>4.000000</td>\n",
       "      <td>2.000000</td>\n",
       "    </tr>\n",
       "    <tr>\n",
       "      <th>25%</th>\n",
       "      <td>12.000000</td>\n",
       "      <td>26.000000</td>\n",
       "    </tr>\n",
       "    <tr>\n",
       "      <th>50%</th>\n",
       "      <td>15.000000</td>\n",
       "      <td>36.000000</td>\n",
       "    </tr>\n",
       "    <tr>\n",
       "      <th>75%</th>\n",
       "      <td>19.000000</td>\n",
       "      <td>56.000000</td>\n",
       "    </tr>\n",
       "    <tr>\n",
       "      <th>max</th>\n",
       "      <td>25.000000</td>\n",
       "      <td>120.000000</td>\n",
       "    </tr>\n",
       "  </tbody>\n",
       "</table>\n",
       "</div>"
      ],
      "text/plain": [
       "           speed        dist\n",
       "count  50.000000   50.000000\n",
       "mean   15.400000   42.980000\n",
       "std     5.287644   25.769377\n",
       "min     4.000000    2.000000\n",
       "25%    12.000000   26.000000\n",
       "50%    15.000000   36.000000\n",
       "75%    19.000000   56.000000\n",
       "max    25.000000  120.000000"
      ]
     },
     "execution_count": 4,
     "metadata": {},
     "output_type": "execute_result"
    }
   ],
   "source": [
    "origin.describe()"
   ]
  },
  {
   "cell_type": "markdown",
   "metadata": {},
   "source": [
    "### 산점도 그래프와 추세선 확인"
   ]
  },
  {
   "cell_type": "code",
   "execution_count": 5,
   "metadata": {},
   "outputs": [
    {
     "data": {
      "image/png": "[encoded data removed]",
      "text/plain": [
       "<Figure size 1000x500 with 1 Axes>"
      ]
     },
     "metadata": {},
     "output_type": "display_data"
    }
   ],
   "source": [
    "plt.rcParams[\"font.family\"] = 'Malgun Gothic'\n",
    "plt.rcParams[\"font.size\"] = 16\n",
    "plt.rcParams['axes.unicode_minus'] = False\n",
    "\n",
    "plt.figure(figsize=(10, 5))\n",
    "sb.regplot(data=origin, x='speed', y='dist', color='#ff6600')\n",
    "plt.grid()\n",
    "\n",
    "plt.show()\n",
    "plt.close()"
   ]
  },
  {
   "cell_type": "markdown",
   "metadata": {},
   "source": [
    "> 곡선보다는 선형 분포에 더 가까우므로 단순선형회귀모델을 적용하기로 함"
   ]
  },
  {
   "cell_type": "markdown",
   "metadata": {},
   "source": [
    "## #05. 데이터셋 분할하기\n",
    "\n",
    "### 1. 랜덤시드 고정"
   ]
  },
  {
   "cell_type": "code",
   "execution_count": 6,
   "metadata": {},
   "outputs": [],
   "source": [
    "np.random.seed(777)"
   ]
  },
  {
   "cell_type": "markdown",
   "metadata": {},
   "source": [
    "### 2. 훈련 데이터(독립변수)와 레이블(종속변수) 구분하기"
   ]
  },
  {
   "cell_type": "code",
   "execution_count": 7,
   "metadata": {},
   "outputs": [
    {
     "name": "stdout",
     "output_type": "stream",
     "text": [
      "훈련데이터 크기: (50, 1) / 레이블 크기: (50, 1)\n"
     ]
    }
   ],
   "source": [
    "x = origin.drop(['dist'], axis=1)\n",
    "y = origin[['dist']]\n",
    "print(\"훈련데이터 크기:\", x.shape, \"/ 레이블 크기:\", y.shape)"
   ]
  },
  {
   "cell_type": "markdown",
   "metadata": {},
   "source": [
    "### (추가) 데이터 정규화(표준화) 수행\n",
    "\n",
    "#### 독립변수 표준화"
   ]
  },
  {
   "cell_type": "code",
   "execution_count": 8,
   "metadata": {},
   "outputs": [
    {
     "data": {
      "text/plain": [
       "array([[0.        ],\n",
       "       [0.        ],\n",
       "       [0.14285714],\n",
       "       [0.14285714],\n",
       "       [0.19047619],\n",
       "       [0.23809524],\n",
       "       [0.28571429],\n",
       "       [0.28571429],\n",
       "       [0.28571429],\n",
       "       [0.33333333],\n",
       "       [0.33333333],\n",
       "       [0.38095238],\n",
       "       [0.38095238],\n",
       "       [0.38095238],\n",
       "       [0.38095238],\n",
       "       [0.42857143],\n",
       "       [0.42857143],\n",
       "       [0.42857143],\n",
       "       [0.42857143],\n",
       "       [0.47619048],\n",
       "       [0.47619048],\n",
       "       [0.47619048],\n",
       "       [0.47619048],\n",
       "       [0.52380952],\n",
       "       [0.52380952],\n",
       "       [0.52380952],\n",
       "       [0.57142857],\n",
       "       [0.57142857],\n",
       "       [0.61904762],\n",
       "       [0.61904762],\n",
       "       [0.61904762],\n",
       "       [0.66666667],\n",
       "       [0.66666667],\n",
       "       [0.66666667],\n",
       "       [0.66666667],\n",
       "       [0.71428571],\n",
       "       [0.71428571],\n",
       "       [0.71428571],\n",
       "       [0.76190476],\n",
       "       [0.76190476],\n",
       "       [0.76190476],\n",
       "       [0.76190476],\n",
       "       [0.76190476],\n",
       "       [0.85714286],\n",
       "       [0.9047619 ],\n",
       "       [0.95238095],\n",
       "       [0.95238095],\n",
       "       [0.95238095],\n",
       "       [0.95238095],\n",
       "       [1.        ]])"
      ]
     },
     "execution_count": 8,
     "metadata": {},
     "output_type": "execute_result"
    }
   ],
   "source": [
    "x_scaler = MinMaxScaler()\n",
    "x_scale = x_scaler.fit_transform(x)\n",
    "x_scale"
   ]
  },
  {
   "cell_type": "markdown",
   "metadata": {},
   "source": [
    "#### 종속변수 표준화"
   ]
  },
  {
   "cell_type": "code",
   "execution_count": 9,
   "metadata": {},
   "outputs": [
    {
     "data": {
      "text/plain": [
       "array([[0.        ],\n",
       "       [0.06779661],\n",
       "       [0.01694915],\n",
       "       [0.16949153],\n",
       "       [0.11864407],\n",
       "       [0.06779661],\n",
       "       [0.13559322],\n",
       "       [0.20338983],\n",
       "       [0.27118644],\n",
       "       [0.12711864],\n",
       "       [0.22033898],\n",
       "       [0.10169492],\n",
       "       [0.15254237],\n",
       "       [0.18644068],\n",
       "       [0.22033898],\n",
       "       [0.20338983],\n",
       "       [0.27118644],\n",
       "       [0.27118644],\n",
       "       [0.37288136],\n",
       "       [0.20338983],\n",
       "       [0.28813559],\n",
       "       [0.49152542],\n",
       "       [0.66101695],\n",
       "       [0.15254237],\n",
       "       [0.20338983],\n",
       "       [0.44067797],\n",
       "       [0.25423729],\n",
       "       [0.3220339 ],\n",
       "       [0.25423729],\n",
       "       [0.3220339 ],\n",
       "       [0.40677966],\n",
       "       [0.33898305],\n",
       "       [0.45762712],\n",
       "       [0.62711864],\n",
       "       [0.69491525],\n",
       "       [0.28813559],\n",
       "       [0.37288136],\n",
       "       [0.55932203],\n",
       "       [0.25423729],\n",
       "       [0.38983051],\n",
       "       [0.42372881],\n",
       "       [0.45762712],\n",
       "       [0.52542373],\n",
       "       [0.54237288],\n",
       "       [0.44067797],\n",
       "       [0.57627119],\n",
       "       [0.76271186],\n",
       "       [0.77118644],\n",
       "       [1.        ],\n",
       "       [0.70338983]])"
      ]
     },
     "execution_count": 9,
     "metadata": {},
     "output_type": "execute_result"
    }
   ],
   "source": [
    "y_scaler = MinMaxScaler()\n",
    "y_scale = y_scaler.fit_transform(y)\n",
    "y_scale"
   ]
  },
  {
   "cell_type": "markdown",
   "metadata": {},
   "source": [
    "### 3. 훈련 데이터와 검증 데이터로 분할"
   ]
  },
  {
   "cell_type": "code",
   "execution_count": 10,
   "metadata": {},
   "outputs": [
    {
     "name": "stdout",
     "output_type": "stream",
     "text": [
      "훈련용 데이터셋 크기: 35, 검증용 데이터셋 크기: 15\n"
     ]
    }
   ],
   "source": [
    "x_train, x_test, y_train, y_test = train_test_split(x_scale, y_scale, test_size = 0.3, random_state = 777)\n",
    "print(\"훈련용 데이터셋 크기: %d, 검증용 데이터셋 크기: %d\" % (len(x_train), len(x_test)))"
   ]
  },
  {
   "cell_type": "markdown",
   "metadata": {},
   "source": [
    "## #06. 모델 개발\n",
    "\n",
    "### 1. 모델 정의"
   ]
  },
  {
   "cell_type": "code",
   "execution_count": 11,
   "metadata": {},
   "outputs": [
    {
     "name": "stdout",
     "output_type": "stream",
     "text": [
      "Model: \"sequential\"\n",
      "_________________________________________________________________\n",
      " Layer (type)                Output Shape              Param #   \n",
      "=================================================================\n",
      " dense (Dense)               (None, 32)                64        \n",
      "                                                                 \n",
      " dense_1 (Dense)             (None, 1)                 33        \n",
      "                                                                 \n",
      "=================================================================\n",
      "Total params: 97 (388.00 Byte)\n",
      "Trainable params: 97 (388.00 Byte)\n",
      "Non-trainable params: 0 (0.00 Byte)\n",
      "_________________________________________________________________\n"
     ]
    }
   ],
   "source": [
    "model = Sequential()\n",
    "# 1차원의 데이터를 입력으로 받고, 32개의 출력을 가지는 첫 번째 Dense 층\n",
    "model.add(Dense(32, activation = 'relu', input_shape = (1, )))\n",
    "# 하나의 값을 출력\n",
    "# -> 정답의 범위가 정해지지 않기 때문에 활성화 함수는 linear\n",
    "# -> linear는 기본값이므로 생략 가능함.\n",
    "model.add(Dense(1, activation='linear'))\n",
    "\n",
    "model.compile(optimizer = 'adam', loss = 'mse', metrics = ['mae'])\n",
    "model.summary()"
   ]
  },
  {
   "cell_type": "code",
   "execution_count": 12,
   "metadata": {},
   "outputs": [
    {
     "data": {
      "text/plain": [
       "'c:\\\\Users\\\\leekh\\\\MegaitDataAnalysis\\\\F. 데이터 마이닝\\\\03.Tensorflow'"
      ]
     },
     "execution_count": 12,
     "metadata": {},
     "output_type": "execute_result"
    }
   ],
   "source": [
    "os.getcwd()"
   ]
  },
  {
   "cell_type": "markdown",
   "metadata": {},
   "source": [
    "### (수정) 학습하기"
   ]
  },
  {
   "cell_type": "code",
   "execution_count": 13,
   "metadata": {},
   "outputs": [
    {
     "name": "stdout",
     "output_type": "stream",
     "text": [
      "Epoch 1/500\n"
     ]
    },
    {
     "name": "stdout",
     "output_type": "stream",
     "text": [
      "1/2 [==============>...............] - ETA: 0s - loss: 0.0888 - mae: 0.2332\n",
      "Epoch 1: val_loss improved from inf to 0.05695, saving model to D:\\tensorflow_checkpoint\\model07-cp-0001-ckpt\n",
      "2/2 [==============================] - 1s 747ms/step - loss: 0.0879 - mae: 0.2351 - val_loss: 0.0569 - val_mae: 0.1875 - lr: 0.0010\n",
      "Epoch 2/500\n",
      "1/2 [==============>...............] - ETA: 0s - loss: 0.0705 - mae: 0.2136\n",
      "Epoch 2: val_loss improved from 0.05695 to 0.05291, saving model to D:\\tensorflow_checkpoint\\model07-cp-0002-ckpt\n",
      "2/2 [==============================] - 1s 512ms/step - loss: 0.0821 - mae: 0.2245 - val_loss: 0.0529 - val_mae: 0.1784 - lr: 0.0010\n",
      "Epoch 3/500\n",
      "1/2 [==============>...............] - ETA: 0s - loss: 0.0840 - mae: 0.2305\n",
      "Epoch 3: val_loss improved from 0.05291 to 0.04933, saving model to D:\\tensorflow_checkpoint\\model07-cp-0003-ckpt\n",
      "2/2 [==============================] - 1s 605ms/step - loss: 0.0771 - mae: 0.2146 - val_loss: 0.0493 - val_mae: 0.1706 - lr: 0.0010\n",
      "Epoch 4/500\n",
      "1/2 [==============>...............] - ETA: 0s - loss: 0.0706 - mae: 0.1991\n",
      "Epoch 4: val_loss improved from 0.04933 to 0.04605, saving model to D:\\tensorflow_checkpoint\\model07-cp-0004-ckpt\n",
      "2/2 [==============================] - 0s 489ms/step - loss: 0.0720 - mae: 0.2047 - val_loss: 0.0460 - val_mae: 0.1631 - lr: 0.0010\n",
      "Epoch 5/500\n",
      "1/2 [==============>...............] - ETA: 0s - loss: 0.0546 - mae: 0.1805\n",
      "Epoch 5: val_loss improved from 0.04605 to 0.04285, saving model to D:\\tensorflow_checkpoint\\model07-cp-0005-ckpt\n",
      "2/2 [==============================] - 1s 512ms/step - loss: 0.0674 - mae: 0.1959 - val_loss: 0.0429 - val_mae: 0.1553 - lr: 0.0010\n",
      "Epoch 6/500\n",
      "1/2 [==============>...............] - ETA: 0s - loss: 0.0635 - mae: 0.1870\n",
      "Epoch 6: val_loss improved from 0.04285 to 0.03984, saving model to D:\\tensorflow_checkpoint\\model07-cp-0006-ckpt\n",
      "2/2 [==============================] - 0s 480ms/step - loss: 0.0633 - mae: 0.1871 - val_loss: 0.0398 - val_mae: 0.1475 - lr: 0.0010\n",
      "Epoch 7/500\n",
      "1/2 [==============>...............] - ETA: 0s - loss: 0.0512 - mae: 0.1607\n",
      "Epoch 7: val_loss improved from 0.03984 to 0.03701, saving model to D:\\tensorflow_checkpoint\\model07-cp-0007-ckpt\n",
      "2/2 [==============================] - 1s 512ms/step - loss: 0.0589 - mae: 0.1781 - val_loss: 0.0370 - val_mae: 0.1408 - lr: 0.0010\n",
      "Epoch 8/500\n",
      "1/2 [==============>...............] - ETA: 0s - loss: 0.0526 - mae: 0.1635\n",
      "Epoch 8: val_loss improved from 0.03701 to 0.03438, saving model to D:\\tensorflow_checkpoint\\model07-cp-0008-ckpt\n",
      "2/2 [==============================] - 1s 546ms/step - loss: 0.0552 - mae: 0.1697 - val_loss: 0.0344 - val_mae: 0.1349 - lr: 0.0010\n",
      "Epoch 9/500\n",
      "1/2 [==============>...............] - ETA: 0s - loss: 0.0535 - mae: 0.1617\n",
      "Epoch 9: val_loss improved from 0.03438 to 0.03199, saving model to D:\\tensorflow_checkpoint\\model07-cp-0009-ckpt\n",
      "2/2 [==============================] - 0s 471ms/step - loss: 0.0515 - mae: 0.1612 - val_loss: 0.0320 - val_mae: 0.1295 - lr: 0.0010\n",
      "Epoch 10/500\n",
      "1/2 [==============>...............] - ETA: 0s - loss: 0.0491 - mae: 0.1514\n",
      "Epoch 10: val_loss improved from 0.03199 to 0.02983, saving model to D:\\tensorflow_checkpoint\\model07-cp-0010-ckpt\n",
      "2/2 [==============================] - 0s 478ms/step - loss: 0.0480 - mae: 0.1536 - val_loss: 0.0298 - val_mae: 0.1244 - lr: 0.0010\n",
      "Epoch 11/500\n",
      "1/2 [==============>...............] - ETA: 0s - loss: 0.0425 - mae: 0.1407\n",
      "Epoch 11: val_loss improved from 0.02983 to 0.02786, saving model to D:\\tensorflow_checkpoint\\model07-cp-0011-ckpt\n",
      "2/2 [==============================] - 0s 495ms/step - loss: 0.0448 - mae: 0.1468 - val_loss: 0.0279 - val_mae: 0.1204 - lr: 0.0010\n",
      "Epoch 12/500\n",
      "1/2 [==============>...............] - ETA: 0s - loss: 0.0388 - mae: 0.1298\n",
      "Epoch 12: val_loss improved from 0.02786 to 0.02606, saving model to D:\\tensorflow_checkpoint\\model07-cp-0012-ckpt\n",
      "2/2 [==============================] - 1s 502ms/step - loss: 0.0419 - mae: 0.1406 - val_loss: 0.0261 - val_mae: 0.1164 - lr: 0.0010\n",
      "Epoch 13/500\n",
      "1/2 [==============>...............] - ETA: 0s - loss: 0.0417 - mae: 0.1387\n",
      "Epoch 13: val_loss improved from 0.02606 to 0.02450, saving model to D:\\tensorflow_checkpoint\\model07-cp-0013-ckpt\n",
      "2/2 [==============================] - 0s 495ms/step - loss: 0.0394 - mae: 0.1364 - val_loss: 0.0245 - val_mae: 0.1125 - lr: 0.0010\n",
      "Epoch 14/500\n",
      "1/2 [==============>...............] - ETA: 0s - loss: 0.0382 - mae: 0.1311\n",
      "Epoch 14: val_loss improved from 0.02450 to 0.02318, saving model to D:\\tensorflow_checkpoint\\model07-cp-0014-ckpt\n",
      "2/2 [==============================] - 0s 480ms/step - loss: 0.0368 - mae: 0.1323 - val_loss: 0.0232 - val_mae: 0.1089 - lr: 0.0010\n",
      "Epoch 15/500\n",
      "1/2 [==============>...............] - ETA: 0s - loss: 0.0378 - mae: 0.1372\n",
      "Epoch 15: val_loss improved from 0.02318 to 0.02209, saving model to D:\\tensorflow_checkpoint\\model07-cp-0015-ckpt\n",
      "2/2 [==============================] - 0s 492ms/step - loss: 0.0349 - mae: 0.1298 - val_loss: 0.0221 - val_mae: 0.1056 - lr: 0.0010\n",
      "Epoch 16/500\n",
      "1/2 [==============>...............] - ETA: 0s - loss: 0.0352 - mae: 0.1315\n",
      "Epoch 16: val_loss improved from 0.02209 to 0.02121, saving model to D:\\tensorflow_checkpoint\\model07-cp-0016-ckpt\n",
      "2/2 [==============================] - 1s 497ms/step - loss: 0.0330 - mae: 0.1261 - val_loss: 0.0212 - val_mae: 0.1025 - lr: 0.0010\n",
      "Epoch 17/500\n",
      "1/2 [==============>...............] - ETA: 0s - loss: 0.0336 - mae: 0.1273\n",
      "Epoch 17: val_loss improved from 0.02121 to 0.02048, saving model to D:\\tensorflow_checkpoint\\model07-cp-0017-ckpt\n",
      "2/2 [==============================] - 0s 472ms/step - loss: 0.0315 - mae: 0.1238 - val_loss: 0.0205 - val_mae: 0.0997 - lr: 0.0010\n",
      "Epoch 18/500\n",
      "1/2 [==============>...............] - ETA: 0s - loss: 0.0293 - mae: 0.1198\n",
      "Epoch 18: val_loss improved from 0.02048 to 0.01986, saving model to D:\\tensorflow_checkpoint\\model07-cp-0018-ckpt\n",
      "2/2 [==============================] - 0s 471ms/step - loss: 0.0301 - mae: 0.1216 - val_loss: 0.0199 - val_mae: 0.0970 - lr: 0.0010\n",
      "Epoch 19/500\n",
      "1/2 [==============>...............] - ETA: 0s - loss: 0.0283 - mae: 0.1166\n",
      "Epoch 19: val_loss improved from 0.01986 to 0.01932, saving model to D:\\tensorflow_checkpoint\\model07-cp-0019-ckpt\n",
      "2/2 [==============================] - 0s 477ms/step - loss: 0.0289 - mae: 0.1192 - val_loss: 0.0193 - val_mae: 0.0950 - lr: 0.0010\n",
      "Epoch 20/500\n",
      "1/2 [==============>...............] - ETA: 0s - loss: 0.0295 - mae: 0.1195\n",
      "Epoch 20: val_loss improved from 0.01932 to 0.01889, saving model to D:\\tensorflow_checkpoint\\model07-cp-0020-ckpt\n",
      "2/2 [==============================] - 1s 542ms/step - loss: 0.0280 - mae: 0.1181 - val_loss: 0.0189 - val_mae: 0.0934 - lr: 0.0010\n",
      "Epoch 21/500\n",
      "1/2 [==============>...............] - ETA: 0s - loss: 0.0286 - mae: 0.1193\n",
      "Epoch 21: val_loss improved from 0.01889 to 0.01858, saving model to D:\\tensorflow_checkpoint\\model07-cp-0021-ckpt\n",
      "2/2 [==============================] - 1s 657ms/step - loss: 0.0270 - mae: 0.1168 - val_loss: 0.0186 - val_mae: 0.0932 - lr: 0.0010\n",
      "Epoch 22/500\n",
      "1/2 [==============>...............] - ETA: 0s - loss: 0.0284 - mae: 0.1223\n",
      "Epoch 22: val_loss improved from 0.01858 to 0.01834, saving model to D:\\tensorflow_checkpoint\\model07-cp-0022-ckpt\n",
      "2/2 [==============================] - 0s 475ms/step - loss: 0.0263 - mae: 0.1163 - val_loss: 0.0183 - val_mae: 0.0935 - lr: 0.0010\n",
      "Epoch 23/500\n",
      "1/2 [==============>...............] - ETA: 0s - loss: 0.0279 - mae: 0.1232\n",
      "Epoch 23: val_loss improved from 0.01834 to 0.01816, saving model to D:\\tensorflow_checkpoint\\model07-cp-0023-ckpt\n",
      "2/2 [==============================] - 1s 505ms/step - loss: 0.0257 - mae: 0.1161 - val_loss: 0.0182 - val_mae: 0.0947 - lr: 0.0010\n",
      "Epoch 24/500\n",
      "1/2 [==============>...............] - ETA: 0s - loss: 0.0263 - mae: 0.1181\n",
      "Epoch 24: val_loss improved from 0.01816 to 0.01804, saving model to D:\\tensorflow_checkpoint\\model07-cp-0024-ckpt\n",
      "2/2 [==============================] - 0s 489ms/step - loss: 0.0252 - mae: 0.1160 - val_loss: 0.0180 - val_mae: 0.0958 - lr: 0.0010\n",
      "Epoch 25/500\n",
      "1/2 [==============>...............] - ETA: 0s - loss: 0.0266 - mae: 0.1203\n",
      "Epoch 25: val_loss improved from 0.01804 to 0.01794, saving model to D:\\tensorflow_checkpoint\\model07-cp-0025-ckpt\n",
      "2/2 [==============================] - 0s 485ms/step - loss: 0.0247 - mae: 0.1160 - val_loss: 0.0179 - val_mae: 0.0967 - lr: 0.0010\n",
      "Epoch 26/500\n",
      "1/2 [==============>...............] - ETA: 0s - loss: 0.0252 - mae: 0.1175\n",
      "Epoch 26: val_loss improved from 0.01794 to 0.01786, saving model to D:\\tensorflow_checkpoint\\model07-cp-0026-ckpt\n",
      "2/2 [==============================] - 0s 476ms/step - loss: 0.0244 - mae: 0.1159 - val_loss: 0.0179 - val_mae: 0.0977 - lr: 0.0010\n",
      "Epoch 27/500\n",
      "1/2 [==============>...............] - ETA: 0s - loss: 0.0235 - mae: 0.1129\n",
      "Epoch 27: val_loss improved from 0.01786 to 0.01779, saving model to D:\\tensorflow_checkpoint\\model07-cp-0027-ckpt\n",
      "2/2 [==============================] - 0s 470ms/step - loss: 0.0240 - mae: 0.1158 - val_loss: 0.0178 - val_mae: 0.0988 - lr: 0.0010\n",
      "Epoch 28/500\n",
      "1/2 [==============>...............] - ETA: 0s - loss: 0.0255 - mae: 0.1217\n",
      "Epoch 28: val_loss improved from 0.01779 to 0.01775, saving model to D:\\tensorflow_checkpoint\\model07-cp-0028-ckpt\n",
      "2/2 [==============================] - 0s 455ms/step - loss: 0.0237 - mae: 0.1161 - val_loss: 0.0178 - val_mae: 0.1000 - lr: 0.0010\n",
      "Epoch 29/500\n",
      "1/2 [==============>...............] - ETA: 0s - loss: 0.0222 - mae: 0.1102\n",
      "Epoch 29: val_loss improved from 0.01775 to 0.01774, saving model to D:\\tensorflow_checkpoint\\model07-cp-0029-ckpt\n",
      "2/2 [==============================] - 1s 501ms/step - loss: 0.0233 - mae: 0.1161 - val_loss: 0.0177 - val_mae: 0.1011 - lr: 0.0010\n",
      "Epoch 30/500\n",
      "1/2 [==============>...............] - ETA: 0s - loss: 0.0228 - mae: 0.1131\n",
      "Epoch 30: val_loss did not improve from 0.01774\n",
      "2/2 [==============================] - 0s 32ms/step - loss: 0.0231 - mae: 0.1162 - val_loss: 0.0177 - val_mae: 0.1023 - lr: 0.0010\n",
      "Epoch 31/500\n",
      "1/2 [==============>...............] - ETA: 0s - loss: 0.0245 - mae: 0.1216\n",
      "Epoch 31: ReduceLROnPlateau reducing learning rate to 0.0005000000237487257.\n",
      "\n",
      "Epoch 31: val_loss did not improve from 0.01774\n",
      "2/2 [==============================] - 0s 34ms/step - loss: 0.0229 - mae: 0.1166 - val_loss: 0.0178 - val_mae: 0.1034 - lr: 0.0010\n",
      "Epoch 32/500\n",
      "1/2 [==============>...............] - ETA: 0s - loss: 0.0219 - mae: 0.1135\n",
      "Epoch 32: val_loss did not improve from 0.01774\n",
      "2/2 [==============================] - 0s 31ms/step - loss: 0.0226 - mae: 0.1166 - val_loss: 0.0178 - val_mae: 0.1039 - lr: 5.0000e-04\n",
      "Epoch 33/500\n",
      "1/2 [==============>...............] - ETA: 0s - loss: 0.0221 - mae: 0.1132\n",
      "Epoch 33: val_loss did not improve from 0.01774\n",
      "2/2 [==============================] - 0s 30ms/step - loss: 0.0225 - mae: 0.1167 - val_loss: 0.0178 - val_mae: 0.1044 - lr: 5.0000e-04\n",
      "Epoch 34/500\n",
      "1/2 [==============>...............] - ETA: 0s - loss: 0.0240 - mae: 0.1212\n",
      "Epoch 34: ReduceLROnPlateau reducing learning rate to 0.0002500000118743628.\n",
      "\n",
      "Epoch 34: val_loss did not improve from 0.01774\n",
      "2/2 [==============================] - 0s 29ms/step - loss: 0.0225 - mae: 0.1168 - val_loss: 0.0178 - val_mae: 0.1049 - lr: 5.0000e-04\n",
      "Epoch 35/500\n",
      "1/2 [==============>...............] - ETA: 0s - loss: 0.0236 - mae: 0.1205\n",
      "Epoch 35: val_loss did not improve from 0.01774\n",
      "2/2 [==============================] - 0s 30ms/step - loss: 0.0224 - mae: 0.1168 - val_loss: 0.0178 - val_mae: 0.1051 - lr: 2.5000e-04\n",
      "Epoch 36/500\n",
      "1/2 [==============>...............] - ETA: 0s - loss: 0.0228 - mae: 0.1160\n",
      "Epoch 36: val_loss did not improve from 0.01774\n",
      "2/2 [==============================] - 0s 30ms/step - loss: 0.0223 - mae: 0.1169 - val_loss: 0.0178 - val_mae: 0.1052 - lr: 2.5000e-04\n",
      "Epoch 37/500\n",
      "1/2 [==============>...............] - ETA: 0s - loss: 0.0237 - mae: 0.1212\n",
      "Epoch 37: ReduceLROnPlateau reducing learning rate to 0.0001250000059371814.\n",
      "\n",
      "Epoch 37: val_loss did not improve from 0.01774\n",
      "2/2 [==============================] - 0s 31ms/step - loss: 0.0223 - mae: 0.1169 - val_loss: 0.0178 - val_mae: 0.1054 - lr: 2.5000e-04\n",
      "Epoch 38/500\n",
      "1/2 [==============>...............] - ETA: 0s - loss: 0.0235 - mae: 0.1189\n",
      "Epoch 38: val_loss did not improve from 0.01774\n",
      "2/2 [==============================] - 0s 28ms/step - loss: 0.0223 - mae: 0.1169 - val_loss: 0.0179 - val_mae: 0.1054 - lr: 1.2500e-04\n",
      "Epoch 39/500\n",
      "1/2 [==============>...............] - ETA: 0s - loss: 0.0218 - mae: 0.1135\n",
      "Epoch 39: val_loss did not improve from 0.01774\n",
      "2/2 [==============================] - 0s 28ms/step - loss: 0.0223 - mae: 0.1169 - val_loss: 0.0179 - val_mae: 0.1055 - lr: 1.2500e-04\n",
      "Epoch 39: early stopping\n"
     ]
    },
    {
     "data": {
      "text/html": [
       "<div>\n",
       "<style scoped>\n",
       "    .dataframe tbody tr th:only-of-type {\n",
       "        vertical-align: middle;\n",
       "    }\n",
       "\n",
       "    .dataframe tbody tr th {\n",
       "        vertical-align: top;\n",
       "    }\n",
       "\n",
       "    .dataframe thead th {\n",
       "        text-align: right;\n",
       "    }\n",
       "</style>\n",
       "<table border=\"1\" class=\"dataframe\">\n",
       "  <thead>\n",
       "    <tr style=\"text-align: right;\">\n",
       "      <th></th>\n",
       "      <th>loss</th>\n",
       "      <th>mae</th>\n",
       "      <th>val_loss</th>\n",
       "      <th>val_mae</th>\n",
       "      <th>lr</th>\n",
       "    </tr>\n",
       "    <tr>\n",
       "      <th>epochs</th>\n",
       "      <th></th>\n",
       "      <th></th>\n",
       "      <th></th>\n",
       "      <th></th>\n",
       "      <th></th>\n",
       "    </tr>\n",
       "  </thead>\n",
       "  <tbody>\n",
       "    <tr>\n",
       "      <th>1</th>\n",
       "      <td>0.087869</td>\n",
       "      <td>0.235141</td>\n",
       "      <td>0.056945</td>\n",
       "      <td>0.187472</td>\n",
       "      <td>0.001000</td>\n",
       "    </tr>\n",
       "    <tr>\n",
       "      <th>2</th>\n",
       "      <td>0.082078</td>\n",
       "      <td>0.224509</td>\n",
       "      <td>0.052907</td>\n",
       "      <td>0.178418</td>\n",
       "      <td>0.001000</td>\n",
       "    </tr>\n",
       "    <tr>\n",
       "      <th>3</th>\n",
       "      <td>0.077062</td>\n",
       "      <td>0.214645</td>\n",
       "      <td>0.049329</td>\n",
       "      <td>0.170621</td>\n",
       "      <td>0.001000</td>\n",
       "    </tr>\n",
       "    <tr>\n",
       "      <th>4</th>\n",
       "      <td>0.072010</td>\n",
       "      <td>0.204660</td>\n",
       "      <td>0.046047</td>\n",
       "      <td>0.163078</td>\n",
       "      <td>0.001000</td>\n",
       "    </tr>\n",
       "    <tr>\n",
       "      <th>5</th>\n",
       "      <td>0.067428</td>\n",
       "      <td>0.195906</td>\n",
       "      <td>0.042851</td>\n",
       "      <td>0.155294</td>\n",
       "      <td>0.001000</td>\n",
       "    </tr>\n",
       "    <tr>\n",
       "      <th>6</th>\n",
       "      <td>0.063279</td>\n",
       "      <td>0.187080</td>\n",
       "      <td>0.039836</td>\n",
       "      <td>0.147513</td>\n",
       "      <td>0.001000</td>\n",
       "    </tr>\n",
       "    <tr>\n",
       "      <th>7</th>\n",
       "      <td>0.058915</td>\n",
       "      <td>0.178094</td>\n",
       "      <td>0.037014</td>\n",
       "      <td>0.140831</td>\n",
       "      <td>0.001000</td>\n",
       "    </tr>\n",
       "    <tr>\n",
       "      <th>8</th>\n",
       "      <td>0.055157</td>\n",
       "      <td>0.169710</td>\n",
       "      <td>0.034377</td>\n",
       "      <td>0.134896</td>\n",
       "      <td>0.001000</td>\n",
       "    </tr>\n",
       "    <tr>\n",
       "      <th>9</th>\n",
       "      <td>0.051471</td>\n",
       "      <td>0.161208</td>\n",
       "      <td>0.031991</td>\n",
       "      <td>0.129511</td>\n",
       "      <td>0.001000</td>\n",
       "    </tr>\n",
       "    <tr>\n",
       "      <th>10</th>\n",
       "      <td>0.048018</td>\n",
       "      <td>0.153628</td>\n",
       "      <td>0.029831</td>\n",
       "      <td>0.124447</td>\n",
       "      <td>0.001000</td>\n",
       "    </tr>\n",
       "    <tr>\n",
       "      <th>11</th>\n",
       "      <td>0.044848</td>\n",
       "      <td>0.146757</td>\n",
       "      <td>0.027859</td>\n",
       "      <td>0.120416</td>\n",
       "      <td>0.001000</td>\n",
       "    </tr>\n",
       "    <tr>\n",
       "      <th>12</th>\n",
       "      <td>0.041889</td>\n",
       "      <td>0.140567</td>\n",
       "      <td>0.026055</td>\n",
       "      <td>0.116367</td>\n",
       "      <td>0.001000</td>\n",
       "    </tr>\n",
       "    <tr>\n",
       "      <th>13</th>\n",
       "      <td>0.039380</td>\n",
       "      <td>0.136426</td>\n",
       "      <td>0.024495</td>\n",
       "      <td>0.112504</td>\n",
       "      <td>0.001000</td>\n",
       "    </tr>\n",
       "    <tr>\n",
       "      <th>14</th>\n",
       "      <td>0.036830</td>\n",
       "      <td>0.132327</td>\n",
       "      <td>0.023181</td>\n",
       "      <td>0.108900</td>\n",
       "      <td>0.001000</td>\n",
       "    </tr>\n",
       "    <tr>\n",
       "      <th>15</th>\n",
       "      <td>0.034875</td>\n",
       "      <td>0.129759</td>\n",
       "      <td>0.022090</td>\n",
       "      <td>0.105555</td>\n",
       "      <td>0.001000</td>\n",
       "    </tr>\n",
       "    <tr>\n",
       "      <th>16</th>\n",
       "      <td>0.032983</td>\n",
       "      <td>0.126148</td>\n",
       "      <td>0.021213</td>\n",
       "      <td>0.102542</td>\n",
       "      <td>0.001000</td>\n",
       "    </tr>\n",
       "    <tr>\n",
       "      <th>17</th>\n",
       "      <td>0.031479</td>\n",
       "      <td>0.123753</td>\n",
       "      <td>0.020484</td>\n",
       "      <td>0.099723</td>\n",
       "      <td>0.001000</td>\n",
       "    </tr>\n",
       "    <tr>\n",
       "      <th>18</th>\n",
       "      <td>0.030114</td>\n",
       "      <td>0.121620</td>\n",
       "      <td>0.019865</td>\n",
       "      <td>0.097007</td>\n",
       "      <td>0.001000</td>\n",
       "    </tr>\n",
       "    <tr>\n",
       "      <th>19</th>\n",
       "      <td>0.028922</td>\n",
       "      <td>0.119246</td>\n",
       "      <td>0.019321</td>\n",
       "      <td>0.095017</td>\n",
       "      <td>0.001000</td>\n",
       "    </tr>\n",
       "    <tr>\n",
       "      <th>20</th>\n",
       "      <td>0.027973</td>\n",
       "      <td>0.118059</td>\n",
       "      <td>0.018892</td>\n",
       "      <td>0.093393</td>\n",
       "      <td>0.001000</td>\n",
       "    </tr>\n",
       "    <tr>\n",
       "      <th>21</th>\n",
       "      <td>0.026982</td>\n",
       "      <td>0.116815</td>\n",
       "      <td>0.018577</td>\n",
       "      <td>0.093215</td>\n",
       "      <td>0.001000</td>\n",
       "    </tr>\n",
       "    <tr>\n",
       "      <th>22</th>\n",
       "      <td>0.026269</td>\n",
       "      <td>0.116275</td>\n",
       "      <td>0.018339</td>\n",
       "      <td>0.093502</td>\n",
       "      <td>0.001000</td>\n",
       "    </tr>\n",
       "    <tr>\n",
       "      <th>23</th>\n",
       "      <td>0.025653</td>\n",
       "      <td>0.116068</td>\n",
       "      <td>0.018165</td>\n",
       "      <td>0.094681</td>\n",
       "      <td>0.001000</td>\n",
       "    </tr>\n",
       "    <tr>\n",
       "      <th>24</th>\n",
       "      <td>0.025150</td>\n",
       "      <td>0.115998</td>\n",
       "      <td>0.018036</td>\n",
       "      <td>0.095755</td>\n",
       "      <td>0.001000</td>\n",
       "    </tr>\n",
       "    <tr>\n",
       "      <th>25</th>\n",
       "      <td>0.024744</td>\n",
       "      <td>0.116005</td>\n",
       "      <td>0.017940</td>\n",
       "      <td>0.096703</td>\n",
       "      <td>0.001000</td>\n",
       "    </tr>\n",
       "    <tr>\n",
       "      <th>26</th>\n",
       "      <td>0.024358</td>\n",
       "      <td>0.115888</td>\n",
       "      <td>0.017862</td>\n",
       "      <td>0.097658</td>\n",
       "      <td>0.001000</td>\n",
       "    </tr>\n",
       "    <tr>\n",
       "      <th>27</th>\n",
       "      <td>0.024004</td>\n",
       "      <td>0.115765</td>\n",
       "      <td>0.017794</td>\n",
       "      <td>0.098822</td>\n",
       "      <td>0.001000</td>\n",
       "    </tr>\n",
       "    <tr>\n",
       "      <th>28</th>\n",
       "      <td>0.023718</td>\n",
       "      <td>0.116129</td>\n",
       "      <td>0.017754</td>\n",
       "      <td>0.099997</td>\n",
       "      <td>0.001000</td>\n",
       "    </tr>\n",
       "    <tr>\n",
       "      <th>29</th>\n",
       "      <td>0.023348</td>\n",
       "      <td>0.116069</td>\n",
       "      <td>0.017740</td>\n",
       "      <td>0.101065</td>\n",
       "      <td>0.001000</td>\n",
       "    </tr>\n",
       "    <tr>\n",
       "      <th>30</th>\n",
       "      <td>0.023064</td>\n",
       "      <td>0.116206</td>\n",
       "      <td>0.017747</td>\n",
       "      <td>0.102302</td>\n",
       "      <td>0.001000</td>\n",
       "    </tr>\n",
       "    <tr>\n",
       "      <th>31</th>\n",
       "      <td>0.022859</td>\n",
       "      <td>0.116610</td>\n",
       "      <td>0.017772</td>\n",
       "      <td>0.103424</td>\n",
       "      <td>0.001000</td>\n",
       "    </tr>\n",
       "    <tr>\n",
       "      <th>32</th>\n",
       "      <td>0.022626</td>\n",
       "      <td>0.116647</td>\n",
       "      <td>0.017787</td>\n",
       "      <td>0.103910</td>\n",
       "      <td>0.000500</td>\n",
       "    </tr>\n",
       "    <tr>\n",
       "      <th>33</th>\n",
       "      <td>0.022542</td>\n",
       "      <td>0.116716</td>\n",
       "      <td>0.017805</td>\n",
       "      <td>0.104395</td>\n",
       "      <td>0.000500</td>\n",
       "    </tr>\n",
       "    <tr>\n",
       "      <th>34</th>\n",
       "      <td>0.022458</td>\n",
       "      <td>0.116757</td>\n",
       "      <td>0.017825</td>\n",
       "      <td>0.104855</td>\n",
       "      <td>0.000500</td>\n",
       "    </tr>\n",
       "    <tr>\n",
       "      <th>35</th>\n",
       "      <td>0.022381</td>\n",
       "      <td>0.116818</td>\n",
       "      <td>0.017835</td>\n",
       "      <td>0.105062</td>\n",
       "      <td>0.000250</td>\n",
       "    </tr>\n",
       "    <tr>\n",
       "      <th>36</th>\n",
       "      <td>0.022344</td>\n",
       "      <td>0.116853</td>\n",
       "      <td>0.017843</td>\n",
       "      <td>0.105243</td>\n",
       "      <td>0.000250</td>\n",
       "    </tr>\n",
       "    <tr>\n",
       "      <th>37</th>\n",
       "      <td>0.022316</td>\n",
       "      <td>0.116887</td>\n",
       "      <td>0.017850</td>\n",
       "      <td>0.105381</td>\n",
       "      <td>0.000250</td>\n",
       "    </tr>\n",
       "    <tr>\n",
       "      <th>38</th>\n",
       "      <td>0.022284</td>\n",
       "      <td>0.116870</td>\n",
       "      <td>0.017852</td>\n",
       "      <td>0.105424</td>\n",
       "      <td>0.000125</td>\n",
       "    </tr>\n",
       "    <tr>\n",
       "      <th>39</th>\n",
       "      <td>0.022271</td>\n",
       "      <td>0.116861</td>\n",
       "      <td>0.017854</td>\n",
       "      <td>0.105475</td>\n",
       "      <td>0.000125</td>\n",
       "    </tr>\n",
       "  </tbody>\n",
       "</table>\n",
       "</div>"
      ],
      "text/plain": [
       "            loss       mae  val_loss   val_mae        lr\n",
       "epochs                                                  \n",
       "1       0.087869  0.235141  0.056945  0.187472  0.001000\n",
       "2       0.082078  0.224509  0.052907  0.178418  0.001000\n",
       "3       0.077062  0.214645  0.049329  0.170621  0.001000\n",
       "4       0.072010  0.204660  0.046047  0.163078  0.001000\n",
       "5       0.067428  0.195906  0.042851  0.155294  0.001000\n",
       "6       0.063279  0.187080  0.039836  0.147513  0.001000\n",
       "7       0.058915  0.178094  0.037014  0.140831  0.001000\n",
       "8       0.055157  0.169710  0.034377  0.134896  0.001000\n",
       "9       0.051471  0.161208  0.031991  0.129511  0.001000\n",
       "10      0.048018  0.153628  0.029831  0.124447  0.001000\n",
       "11      0.044848  0.146757  0.027859  0.120416  0.001000\n",
       "12      0.041889  0.140567  0.026055  0.116367  0.001000\n",
       "13      0.039380  0.136426  0.024495  0.112504  0.001000\n",
       "14      0.036830  0.132327  0.023181  0.108900  0.001000\n",
       "15      0.034875  0.129759  0.022090  0.105555  0.001000\n",
       "16      0.032983  0.126148  0.021213  0.102542  0.001000\n",
       "17      0.031479  0.123753  0.020484  0.099723  0.001000\n",
       "18      0.030114  0.121620  0.019865  0.097007  0.001000\n",
       "19      0.028922  0.119246  0.019321  0.095017  0.001000\n",
       "20      0.027973  0.118059  0.018892  0.093393  0.001000\n",
       "21      0.026982  0.116815  0.018577  0.093215  0.001000\n",
       "22      0.026269  0.116275  0.018339  0.093502  0.001000\n",
       "23      0.025653  0.116068  0.018165  0.094681  0.001000\n",
       "24      0.025150  0.115998  0.018036  0.095755  0.001000\n",
       "25      0.024744  0.116005  0.017940  0.096703  0.001000\n",
       "26      0.024358  0.115888  0.017862  0.097658  0.001000\n",
       "27      0.024004  0.115765  0.017794  0.098822  0.001000\n",
       "28      0.023718  0.116129  0.017754  0.099997  0.001000\n",
       "29      0.023348  0.116069  0.017740  0.101065  0.001000\n",
       "30      0.023064  0.116206  0.017747  0.102302  0.001000\n",
       "31      0.022859  0.116610  0.017772  0.103424  0.001000\n",
       "32      0.022626  0.116647  0.017787  0.103910  0.000500\n",
       "33      0.022542  0.116716  0.017805  0.104395  0.000500\n",
       "34      0.022458  0.116757  0.017825  0.104855  0.000500\n",
       "35      0.022381  0.116818  0.017835  0.105062  0.000250\n",
       "36      0.022344  0.116853  0.017843  0.105243  0.000250\n",
       "37      0.022316  0.116887  0.017850  0.105381  0.000250\n",
       "38      0.022284  0.116870  0.017852  0.105424  0.000125\n",
       "39      0.022271  0.116861  0.017854  0.105475  0.000125"
      ]
     },
     "execution_count": 13,
     "metadata": {},
     "output_type": "execute_result"
    }
   ],
   "source": [
    "#result = model.fit(x_train, y_train, epochs=500, validation_data=(x_test, y_test))\n",
    "\n",
    "# 파일이 저장될 경로(폴더) 지정 (한글,공백,점(.)이 포함되어 있을 경우 에러 발생함)\n",
    "checkpoint_path = os.path.join(\"D:\\\\tensorflow_checkpoint\\\\model07-cp-{epoch:04d}-ckpt\")\n",
    "\n",
    "result = model.fit(x_train, y_train, epochs=500, validation_data=(x_test, y_test), callbacks=[\n",
    "    EarlyStopping(monitor='val_loss', patience=10, verbose=1),\n",
    "    ReduceLROnPlateau(monitor= \"val_loss\", patience=3, factor = 0.5, min_lr=0.0001, verbose=1),\n",
    "    ModelCheckpoint(filepath=checkpoint_path, monitor='val_loss', verbose=1, save_best_only=True)\n",
    "])\n",
    "\n",
    "# 학습결과\n",
    "result_df = DataFrame(result.history)\n",
    "result_df['epochs'] = result_df.index+1\n",
    "result_df.set_index('epochs', inplace=True)\n",
    "result_df"
   ]
  },
  {
   "cell_type": "markdown",
   "metadata": {},
   "source": [
    "## 7) 학습 결과 평가"
   ]
  },
  {
   "cell_type": "markdown",
   "metadata": {},
   "source": [
    "### 1. 학습 결과 시각화"
   ]
  },
  {
   "cell_type": "code",
   "execution_count": 14,
   "metadata": {},
   "outputs": [
    {
     "data": {
      "image/png": "[encoded data removed]",
      "text/plain": [
       "<Figure size 2250x750 with 2 Axes>"
      ]
     },
     "metadata": {},
     "output_type": "display_data"
    }
   ],
   "source": [
    "# 그래프 기본 설정\n",
    "# ----------------------------------------\n",
    "plt.rcParams[\"font.family\"] = 'Malgun Gothic'\n",
    "plt.rcParams[\"font.size\"] = 16\n",
    "plt.rcParams['axes.unicode_minus'] = False\n",
    "\n",
    "# 그래프를 그리기 위한 객체 생성\n",
    "# ----------------------------------------\n",
    "fig, (ax1, ax2) = plt.subplots(1, 2, figsize=(15, 5), dpi=150)\n",
    "\n",
    "# 1) 훈련 및 검증 손실 그리기\n",
    "# ----------------------------------------\n",
    "sb.lineplot(x=result_df.index, y='loss', data=result_df, color='blue', label='훈련 손실률', ax=ax1)\n",
    "sb.lineplot(x=result_df.index, y='val_loss', data=result_df, color='orange', label='검증 손실률', ax=ax1)\n",
    "ax1.set_title('훈련 및 검증 손실률')\n",
    "ax1.set_xlabel('반복회차')\n",
    "ax1.set_ylabel('손실률')\n",
    "ax1.grid()\n",
    "ax1.legend()\n",
    "\n",
    "# 2) 훈련 및 검증 절대오차 그리기\n",
    "# ----------------------------------------\n",
    "sb.lineplot(x=result_df.index, y='mae', data=result_df, color = 'blue', label = '훈련 절대오차', ax=ax2)\n",
    "sb.lineplot(x=result_df.index, y='val_mae', data=result_df, color = 'orange', label = '검증 절대오차', ax=ax2)\n",
    "ax2.set_title('훈련 및 검증 절대오차')\n",
    "ax2.set_xlabel('반복회차')\n",
    "ax2.set_ylabel('정확도')\n",
    "ax2.grid()\n",
    "ax2.legend()\n",
    "\n",
    "plt.show()\n",
    "plt.close()"
   ]
  },
  {
   "cell_type": "markdown",
   "metadata": {},
   "source": [
    "> ephocs를 500으로 지정했지만 일찍 학습을 멈춘 것을 확인할 수 있다. 즉, 학습을 조기 종료함으로서 학습 성능을 향상시켰다고 할 수 있다."
   ]
  },
  {
   "cell_type": "markdown",
   "metadata": {},
   "source": [
    "### 2. 모델 성능 평가"
   ]
  },
  {
   "cell_type": "code",
   "execution_count": 15,
   "metadata": {},
   "outputs": [
    {
     "name": "stdout",
     "output_type": "stream",
     "text": [
      "2/2 [==============================] - 0s 3ms/step - loss: 0.0223 - mae: 0.1169\n"
     ]
    },
    {
     "name": "stdout",
     "output_type": "stream",
     "text": [
      "최종 훈련 손실률: 0.022260, 최종 훈련 절대오차: 0.116861\n",
      "1/1 [==============================] - 0s 21ms/step - loss: 0.0179 - mae: 0.1055\n",
      "최종 검증 손실률: 0.017854, 최종 검증 절대오차: 0.105475\n"
     ]
    }
   ],
   "source": [
    "evaluate1 = model.evaluate(x_train, y_train)\n",
    "print(\"최종 훈련 손실률: %f, 최종 훈련 절대오차: %f\" % (evaluate1[0], evaluate1[1]))\n",
    "\n",
    "evaluate2 = model.evaluate(x_test, y_test)\n",
    "print(\"최종 검증 손실률: %f, 최종 검증 절대오차: %f\" % (evaluate2[0], evaluate2[1]))"
   ]
  },
  {
   "cell_type": "markdown",
   "metadata": {},
   "source": [
    "## #08. 학습 결과 적용\n",
    "\n",
    "### 1. 테스트 데이터에 대한 예측 결과 산정"
   ]
  },
  {
   "cell_type": "code",
   "execution_count": 16,
   "metadata": {},
   "outputs": [
    {
     "name": "stdout",
     "output_type": "stream",
     "text": [
      "1/1 [==============================] - 0s 65ms/step\n",
      "[[0.5051413 ]\n",
      " [0.30438665]\n",
      " [0.28431115]\n",
      " [0.26423568]\n",
      " [0.4248395 ]\n",
      " [0.32446212]\n",
      " [0.32446212]\n",
      " [0.404764  ]\n",
      " [0.28431115]\n",
      " [0.4248395 ]\n",
      " [0.32446212]\n",
      " [0.44491494]\n",
      " [0.1757876 ]\n",
      " [0.30438665]\n",
      " [0.10383434]]\n"
     ]
    }
   ],
   "source": [
    "results = model.predict(x_test)\n",
    "print(results)"
   ]
  },
  {
   "cell_type": "markdown",
   "metadata": {},
   "source": [
    "### 2. 결과 데이터 셋 구성"
   ]
  },
  {
   "cell_type": "code",
   "execution_count": 17,
   "metadata": {},
   "outputs": [
    {
     "data": {
      "text/html": [
       "<div>\n",
       "<style scoped>\n",
       "    .dataframe tbody tr th:only-of-type {\n",
       "        vertical-align: middle;\n",
       "    }\n",
       "\n",
       "    .dataframe tbody tr th {\n",
       "        vertical-align: top;\n",
       "    }\n",
       "\n",
       "    .dataframe thead th {\n",
       "        text-align: right;\n",
       "    }\n",
       "</style>\n",
       "<table border=\"1\" class=\"dataframe\">\n",
       "  <thead>\n",
       "    <tr style=\"text-align: right;\">\n",
       "      <th></th>\n",
       "      <th>검증데이터</th>\n",
       "      <th>실제값</th>\n",
       "      <th>예측값</th>\n",
       "      <th>예측오차</th>\n",
       "    </tr>\n",
       "  </thead>\n",
       "  <tbody>\n",
       "    <tr>\n",
       "      <th>0</th>\n",
       "      <td>0.904762</td>\n",
       "      <td>0.440678</td>\n",
       "      <td>0.505141</td>\n",
       "      <td>-0.064463</td>\n",
       "    </tr>\n",
       "    <tr>\n",
       "      <th>1</th>\n",
       "      <td>0.428571</td>\n",
       "      <td>0.271186</td>\n",
       "      <td>0.304387</td>\n",
       "      <td>-0.033200</td>\n",
       "    </tr>\n",
       "    <tr>\n",
       "      <th>2</th>\n",
       "      <td>0.380952</td>\n",
       "      <td>0.101695</td>\n",
       "      <td>0.284311</td>\n",
       "      <td>-0.182616</td>\n",
       "    </tr>\n",
       "    <tr>\n",
       "      <th>3</th>\n",
       "      <td>0.333333</td>\n",
       "      <td>0.127119</td>\n",
       "      <td>0.264236</td>\n",
       "      <td>-0.137117</td>\n",
       "    </tr>\n",
       "    <tr>\n",
       "      <th>4</th>\n",
       "      <td>0.714286</td>\n",
       "      <td>0.372881</td>\n",
       "      <td>0.424839</td>\n",
       "      <td>-0.051958</td>\n",
       "    </tr>\n",
       "    <tr>\n",
       "      <th>5</th>\n",
       "      <td>0.476190</td>\n",
       "      <td>0.491525</td>\n",
       "      <td>0.324462</td>\n",
       "      <td>0.167063</td>\n",
       "    </tr>\n",
       "    <tr>\n",
       "      <th>6</th>\n",
       "      <td>0.476190</td>\n",
       "      <td>0.661017</td>\n",
       "      <td>0.324462</td>\n",
       "      <td>0.336555</td>\n",
       "    </tr>\n",
       "    <tr>\n",
       "      <th>7</th>\n",
       "      <td>0.666667</td>\n",
       "      <td>0.338983</td>\n",
       "      <td>0.404764</td>\n",
       "      <td>-0.065781</td>\n",
       "    </tr>\n",
       "    <tr>\n",
       "      <th>8</th>\n",
       "      <td>0.380952</td>\n",
       "      <td>0.152542</td>\n",
       "      <td>0.284311</td>\n",
       "      <td>-0.131769</td>\n",
       "    </tr>\n",
       "    <tr>\n",
       "      <th>9</th>\n",
       "      <td>0.714286</td>\n",
       "      <td>0.559322</td>\n",
       "      <td>0.424839</td>\n",
       "      <td>0.134483</td>\n",
       "    </tr>\n",
       "    <tr>\n",
       "      <th>10</th>\n",
       "      <td>0.476190</td>\n",
       "      <td>0.203390</td>\n",
       "      <td>0.324462</td>\n",
       "      <td>-0.121072</td>\n",
       "    </tr>\n",
       "    <tr>\n",
       "      <th>11</th>\n",
       "      <td>0.761905</td>\n",
       "      <td>0.457627</td>\n",
       "      <td>0.444915</td>\n",
       "      <td>0.012712</td>\n",
       "    </tr>\n",
       "    <tr>\n",
       "      <th>12</th>\n",
       "      <td>0.142857</td>\n",
       "      <td>0.169492</td>\n",
       "      <td>0.175788</td>\n",
       "      <td>-0.006296</td>\n",
       "    </tr>\n",
       "    <tr>\n",
       "      <th>13</th>\n",
       "      <td>0.428571</td>\n",
       "      <td>0.271186</td>\n",
       "      <td>0.304387</td>\n",
       "      <td>-0.033200</td>\n",
       "    </tr>\n",
       "    <tr>\n",
       "      <th>14</th>\n",
       "      <td>0.000000</td>\n",
       "      <td>0.000000</td>\n",
       "      <td>0.103834</td>\n",
       "      <td>-0.103834</td>\n",
       "    </tr>\n",
       "  </tbody>\n",
       "</table>\n",
       "</div>"
      ],
      "text/plain": [
       "       검증데이터       실제값       예측값      예측오차\n",
       "0   0.904762  0.440678  0.505141 -0.064463\n",
       "1   0.428571  0.271186  0.304387 -0.033200\n",
       "2   0.380952  0.101695  0.284311 -0.182616\n",
       "3   0.333333  0.127119  0.264236 -0.137117\n",
       "4   0.714286  0.372881  0.424839 -0.051958\n",
       "5   0.476190  0.491525  0.324462  0.167063\n",
       "6   0.476190  0.661017  0.324462  0.336555\n",
       "7   0.666667  0.338983  0.404764 -0.065781\n",
       "8   0.380952  0.152542  0.284311 -0.131769\n",
       "9   0.714286  0.559322  0.424839  0.134483\n",
       "10  0.476190  0.203390  0.324462 -0.121072\n",
       "11  0.761905  0.457627  0.444915  0.012712\n",
       "12  0.142857  0.169492  0.175788 -0.006296\n",
       "13  0.428571  0.271186  0.304387 -0.033200\n",
       "14  0.000000  0.000000  0.103834 -0.103834"
      ]
     },
     "execution_count": 17,
     "metadata": {},
     "output_type": "execute_result"
    }
   ],
   "source": [
    "kdf = DataFrame({\n",
    "    '검증데이터': x_test.flatten(),\n",
    "    '실제값': y_test.flatten(),\n",
    "    '예측값' : results.flatten()\n",
    "})\n",
    "\n",
    "kdf['예측오차'] = kdf['실제값']-kdf['예측값']\n",
    "\n",
    "kdf"
   ]
  },
  {
   "cell_type": "markdown",
   "metadata": {},
   "source": [
    "### 3. 실제 결과값과 머신러닝에 의한 예측값 비교"
   ]
  },
  {
   "cell_type": "code",
   "execution_count": 18,
   "metadata": {},
   "outputs": [
    {
     "data": {
      "image/png": "[encoded data removed]",
      "text/plain": [
       "<Figure size 1000x500 with 1 Axes>"
      ]
     },
     "metadata": {},
     "output_type": "display_data"
    }
   ],
   "source": [
    "helper.regplot(x_left=kdf['검증데이터'], y_left=kdf['실제값'], y_left_pred=kdf['예측값'])"
   ]
  },
  {
   "cell_type": "markdown",
   "metadata": {},
   "source": [
    "### 3. 임의의 값에 대한 머신러닝 예측 결과"
   ]
  },
  {
   "cell_type": "code",
   "execution_count": 19,
   "metadata": {},
   "outputs": [],
   "source": [
    "# 속도가 50일 때의 제동거리를 예측해보자.\n",
    "my_speed = 50"
   ]
  },
  {
   "cell_type": "code",
   "execution_count": 20,
   "metadata": {},
   "outputs": [
    {
     "name": "stderr",
     "output_type": "stream",
     "text": [
      "c:\\Users\\leekh\\AppData\\Local\\Programs\\Python\\Python39\\lib\\site-packages\\sklearn\\base.py:464: UserWarning: X does not have valid feature names, but MinMaxScaler was fitted with feature names\n",
      "  warnings.warn(\n"
     ]
    },
    {
     "data": {
      "text/plain": [
       "array([[2.19047619]])"
      ]
     },
     "execution_count": 20,
     "metadata": {},
     "output_type": "execute_result"
    }
   ],
   "source": [
    "# 독립변수 표준화에 사용한 객체를 활용\n",
    "my_speed_scale = x_scaler.transform([[my_speed]])\n",
    "my_speed_scale"
   ]
  },
  {
   "cell_type": "code",
   "execution_count": 21,
   "metadata": {},
   "outputs": [
    {
     "name": "stdout",
     "output_type": "stream",
     "text": [
      "1/1 [==============================] - 0s 18ms/step\n"
     ]
    },
    {
     "data": {
      "text/plain": [
       "array([[1.0471792]], dtype=float32)"
      ]
     },
     "execution_count": 21,
     "metadata": {},
     "output_type": "execute_result"
    }
   ],
   "source": [
    "results = model.predict(my_speed_scale)\n",
    "results"
   ]
  },
  {
   "cell_type": "code",
   "execution_count": 22,
   "metadata": {},
   "outputs": [
    {
     "data": {
      "text/plain": [
       "array([[125.567154]], dtype=float32)"
      ]
     },
     "execution_count": 22,
     "metadata": {},
     "output_type": "execute_result"
    }
   ],
   "source": [
    "# 예측 결과는 표준화된 값으로 나오기 때문에 원래의 단위로 되돌리기 위해 역변환\n",
    "y_scaler.inverse_transform(results)"
   ]
  },
  {
   "cell_type": "code",
   "execution_count": null,
   "metadata": {},
   "outputs": [],
   "source": []
  }
 ],
 "metadata": {
  "kernelspec": {
   "display_name": "Python 3",
   "language": "python",
   "name": "python3"
  },
  "language_info": {
   "codemirror_mode": {
    "name": "ipython",
    "version": 3
   },
   "file_extension": ".py",
   "mimetype": "text/x-python",
   "name": "python",
   "nbconvert_exporter": "python",
   "pygments_lexer": "ipython3",
   "version": "3.9.10"
  }
 },
 "nbformat": 4,
 "nbformat_minor": 4
}
