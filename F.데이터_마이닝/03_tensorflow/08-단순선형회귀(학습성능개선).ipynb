{
 "cells": [
  {
   "cell_type": "markdown",
   "metadata": {},
   "source": [
    "# 단순 선형 회귀 (학습성능개선)\n",
    "\n",
    "텐서플로우의 학습성능을 개선하기 위해 아래의 기능을 사용할 수 있음\n",
    "\n",
    "1. 데이터 표준화: 학습률 향상에 도움을 줌\n",
    "2. 콜백함수: 모델의 학습 방향, 저장 시점, 학습 정지 시점 등에 관한 상황을 모니터링 하기 위한 도구\n",
    "\n",
    "## 데이터 정규화(Normalization, 표준화)\n",
    "\n",
    "### 1) 데이터 정규화의 이해\n",
    "\n",
    "#### 데이터 정규화란?\n",
    "\n",
    "모든 데이터가 동일한 정도의 스케일(중요도)로 반영되도록 해 주는 처리\n",
    "\n",
    "#### 정규화를 해야 하는 이유\n",
    "\n",
    "머신러닝 알고리즘은 데이터가 가진 feature(특성)들을 비교하여 데이터의 패턴을 찾는다.\n",
    "\n",
    "이 때, 데이터가 가진 feature의 스케일이 심하게 차이가 나는 경우 수많은 학습 단계를 거쳐서 최적값에 도달하게 된다.\n",
    "\n",
    "데이터에 정규화 처리를 적용하면 쉽게 최적값에 도달할 수 있으며 학습률을 상대적으로 높여서 사용할 수 있기 때문에 빠르게 훈련시킬 수 있다.\n",
    "\n",
    "### 2) 데이터 정규화 방법\n",
    "\n",
    "#### 최소-최대 정규화 (Min-Max Normalization)\n",
    "\n",
    "모든 feature에 대해 각각의 최소값 0, 최대값 1로, 그리고 다른 값들은 0과 1 사이의 값으로 변환.\n",
    "\n",
    "예를 들어 어떤 특성의 최소값이 20이고 최대값이 40인 경우, 30이라는 데이터가 있을 경우,\n",
    "20은 `0`, 40은 `1`로 환산되기 때문에 30은 중간치인 `0.5`로 변환됨.\n",
    "\n",
    "## 콜백함수\n",
    "\n",
    "모델의 학습 방향, 저장 시점, 학습 정지 시점 등에 관한 상황을 모니터링하기 위한 도구\n",
    "\n",
    "### 콜백함수 사용 방법\n",
    "\n",
    "#### 콜백 정의\n",
    "\n",
    "```pyhon\n",
    "callbacks = [  콜백1, 콜백2, ... 콜백n  ]\n",
    "```\n",
    "\n",
    "#### 학습을 위한 fit() 함수에서 callbacks 파라미터에 미리 정의한 리스트를 지정\n",
    "\n",
    "```python\n",
    "callbacks = [콜백1, 콜백2, ... , 콜백n]\n",
    "model.fit(x_train, y_train, validation_data = (x_val, y_val), epochs = 500, callbacks = callbacks)\n",
    "```\n",
    "\n",
    "혹은\n",
    "\n",
    "```python\n",
    "model.fit(x_train, y_train, validation_data = (x_val, y_val), epochs = 500, callbacks = [\n",
    "    콜백1, 콜백2, ... , 콜백n\n",
    "])\n",
    "```\n"
   ]
  },
  {
   "cell_type": "markdown",
   "metadata": {},
   "source": [
    "### 콜백 함수\n",
    "\n",
    "1) EarlyStopping()\n",
    "\n",
    "- 검증 데이터의 성능이 개선되지 않을 때, 학습을 조기 중단\n",
    "- 모델 학습 시에 지정된 기간 동안 모니터링하는 평가지표에서 더 이상 성능 향상이 일어나지 않은 경우 학습을 스스로 중단\n",
    "\n",
    "사용 방법 : \n",
    "\n",
    "EarlyStopping(monitor='평가지표', patience=10, verbose=1)\n",
    "\n",
    "파라미터 :\n",
    "\n",
    "- monitor: 모니터링할 성능 지표 (예: 'val_loss', 'val_accuracy' 등).\n",
    "- patience: 성능이 개선되지 않아도 학습을 중단하지 않을 에포크 수., 지정한 수만큼의 기간에서 평가지표의 향상이 일어나지 않을 경우 학습을 중단 (기간이라 함은 에폭을 의미)\n",
    "예를 들어 patience=10일 때, 10에폭 동안 성능 향상이 일어나지 않으면 학습을 중단. 즉, 10회 이상 성능향상이 발견되지 않으면 중단함\n",
    "- verbose: 콜백의 수행 과정 노출 여부를 지정.\n",
    "0: 아무런 표시 하지 않음(기본값)\n",
    "1: 프로그래스바로 표시\n",
    "2: 매 에폭마다 수행과정을 자세하게 출력함.\n",
    "- restore_best_weights: 학습 중단 시 가장 좋은 성능을 보인 가중치로 복구할지 여부.\n",
    "\n",
    "\n",
    "2) ReduceLROnPlateau()\n",
    "\n",
    "- 검증 데이터의 성능이 개선되지 않을 때 학습률을 동적으로 조절하는 역할\n",
    "\n",
    "- 지정된 기간 동안 평가지표에서 성능 향상이 일어나지 않으면 학습률을 감소시켜 최적의 성능을 찾음 \n",
    "\n",
    "사용 방법:\n",
    "\n",
    "ReduceLROnPlateau(monitor='평가지표', factor=0.1, patience=10, min_lr=0, verbose=1)\n",
    "\n",
    "파라미터 :\n",
    "\n",
    "- factor:  학습률을 얼마나 감소시킬지를 결정하는 인수 (0과 1 사이의 값).. 학습률 조정에 사용되는 값 (새로운 학습률 = factor * 기존 학습률) \n",
    "- patience: 성능이 개선되지 않아도 학습률을 감소시키지 않을 에포크 수. 지정한 수만큼의 기간에서 성능 향상이 일어나지 않을 경우, 학습률을 조정\n",
    "- min_lr: 학습률의 하한을 지정\n",
    "- verbose: 콜백의 수행 과정 노출 여부를 지정.\n",
    "- monitor: 모니터링할 성능 지표 (예: 'val_loss', 'val_accuracy' 등).\n",
    "\n",
    "\n",
    "3) ModelCheckpoint()\n",
    "\n",
    "- 모델의 가중치 저장\n",
    "- 지정한 평가지표를 기준으로 가장 뛰어난 성능을 보여주는 모델을 저장 할 때 사용\n",
    "\n",
    "사용 방법 : \n",
    "\n",
    "ModelCheckpoint(filepath, monitor='평가지표', verbose=1, save_best_only=True|False, save_weights_only=False)\n",
    "\n",
    "- filepath: filepath: 가중치를 저장할 파일 경로, 모델의 저장 경로를 지정\n",
    "- save_best_only:, 개선된 경우에만 모델 가중치를 저장할지 여부. -> True인 경우, 가장 성능이 뛰어난 모델만 저장. 그보다 좋지 않은 모델의 경우는 덮어쓰지 않는다.\n",
    " - save_weights_only: 모델의 가중치만 저장\n",
    "- monitor: 모니터링할 성능 지표 (예: 'val_loss', 'val_accuracy' 등)."
   ]
  },
  {
   "cell_type": "code",
   "execution_count": 1,
   "metadata": {},
   "outputs": [],
   "source": [
    "import sys\n",
    "sys.path.append('../../')\n",
    "import helper\n",
    "\n",
    "from pandas import read_excel, DataFrame\n",
    "from matplotlib import pyplot as plt\n",
    "import seaborn as sb\n",
    "import numpy as np\n",
    "\n",
    "# 데이터를 훈련용과 테스트용으로 나누는 기능\n",
    "from sklearn.model_selection import train_test_split\n",
    "\n",
    "# 모델을 구성하기위한 객체\n",
    "from tensorflow.keras.models import Sequential\n",
    "# 모델에 학습층을 쌓기 위한 클래스\n",
    "from tensorflow.keras.layers import Dense\n",
    "\n",
    "\n",
    "#-------- 추가 패키지 --------#\n",
    "# 데이터 정규화를 위한 패키지 참조\n",
    "from sklearn.preprocessing import MinMaxScaler\n",
    "\n",
    "# 학습에 대한 콜백함수 참조\n",
    "from tensorflow.keras.callbacks import EarlyStopping\n",
    "from tensorflow.keras.callbacks import ReduceLROnPlateau\n",
    "from tensorflow.keras.callbacks import ModelCheckpoint"
   ]
  },
  {
   "cell_type": "markdown",
   "metadata": {},
   "source": [
    "## #02. 데이터셋 준비하기"
   ]
  },
  {
   "cell_type": "code",
   "execution_count": 2,
   "metadata": {},
   "outputs": [
    {
     "data": {
      "text/html": [
       "<div>\n",
       "<style scoped>\n",
       "    .dataframe tbody tr th:only-of-type {\n",
       "        vertical-align: middle;\n",
       "    }\n",
       "\n",
       "    .dataframe tbody tr th {\n",
       "        vertical-align: top;\n",
       "    }\n",
       "\n",
       "    .dataframe thead th {\n",
       "        text-align: right;\n",
       "    }\n",
       "</style>\n",
       "<table border=\"1\" class=\"dataframe\">\n",
       "  <thead>\n",
       "    <tr style=\"text-align: right;\">\n",
       "      <th></th>\n",
       "      <th>speed</th>\n",
       "      <th>dist</th>\n",
       "    </tr>\n",
       "  </thead>\n",
       "  <tbody>\n",
       "    <tr>\n",
       "      <th>0</th>\n",
       "      <td>4</td>\n",
       "      <td>2</td>\n",
       "    </tr>\n",
       "    <tr>\n",
       "      <th>1</th>\n",
       "      <td>4</td>\n",
       "      <td>10</td>\n",
       "    </tr>\n",
       "    <tr>\n",
       "      <th>2</th>\n",
       "      <td>7</td>\n",
       "      <td>4</td>\n",
       "    </tr>\n",
       "    <tr>\n",
       "      <th>3</th>\n",
       "      <td>7</td>\n",
       "      <td>22</td>\n",
       "    </tr>\n",
       "    <tr>\n",
       "      <th>4</th>\n",
       "      <td>8</td>\n",
       "      <td>16</td>\n",
       "    </tr>\n",
       "  </tbody>\n",
       "</table>\n",
       "</div>"
      ],
      "text/plain": [
       "   speed  dist\n",
       "0      4     2\n",
       "1      4    10\n",
       "2      7     4\n",
       "3      7    22\n",
       "4      8    16"
      ]
     },
     "execution_count": 2,
     "metadata": {},
     "output_type": "execute_result"
    }
   ],
   "source": [
    "origin = read_excel('https://data.hossam.kr/E04/cars.xlsx')\n",
    "origin.head()"
   ]
  },
  {
   "cell_type": "markdown",
   "metadata": {},
   "source": [
    "## #03. 데이터 전처리\n",
    "\n",
    "### 결측치 확인"
   ]
  },
  {
   "cell_type": "code",
   "execution_count": 3,
   "metadata": {},
   "outputs": [
    {
     "data": {
      "text/plain": [
       "speed    0\n",
       "dist     0\n",
       "dtype: int64"
      ]
     },
     "execution_count": 3,
     "metadata": {},
     "output_type": "execute_result"
    }
   ],
   "source": [
    "origin.isna().sum()"
   ]
  },
  {
   "cell_type": "markdown",
   "metadata": {},
   "source": [
    "> 결측치 없음"
   ]
  },
  {
   "cell_type": "markdown",
   "metadata": {},
   "source": [
    "## #04. 탐색적 데이터 분석\n",
    "\n",
    "### 기본통계 확인"
   ]
  },
  {
   "cell_type": "code",
   "execution_count": 4,
   "metadata": {},
   "outputs": [
    {
     "data": {
      "text/html": [
       "<div>\n",
       "<style scoped>\n",
       "    .dataframe tbody tr th:only-of-type {\n",
       "        vertical-align: middle;\n",
       "    }\n",
       "\n",
       "    .dataframe tbody tr th {\n",
       "        vertical-align: top;\n",
       "    }\n",
       "\n",
       "    .dataframe thead th {\n",
       "        text-align: right;\n",
       "    }\n",
       "</style>\n",
       "<table border=\"1\" class=\"dataframe\">\n",
       "  <thead>\n",
       "    <tr style=\"text-align: right;\">\n",
       "      <th></th>\n",
       "      <th>speed</th>\n",
       "      <th>dist</th>\n",
       "    </tr>\n",
       "  </thead>\n",
       "  <tbody>\n",
       "    <tr>\n",
       "      <th>count</th>\n",
       "      <td>50.000000</td>\n",
       "      <td>50.000000</td>\n",
       "    </tr>\n",
       "    <tr>\n",
       "      <th>mean</th>\n",
       "      <td>15.400000</td>\n",
       "      <td>42.980000</td>\n",
       "    </tr>\n",
       "    <tr>\n",
       "      <th>std</th>\n",
       "      <td>5.287644</td>\n",
       "      <td>25.769377</td>\n",
       "    </tr>\n",
       "    <tr>\n",
       "      <th>min</th>\n",
       "      <td>4.000000</td>\n",
       "      <td>2.000000</td>\n",
       "    </tr>\n",
       "    <tr>\n",
       "      <th>25%</th>\n",
       "      <td>12.000000</td>\n",
       "      <td>26.000000</td>\n",
       "    </tr>\n",
       "    <tr>\n",
       "      <th>50%</th>\n",
       "      <td>15.000000</td>\n",
       "      <td>36.000000</td>\n",
       "    </tr>\n",
       "    <tr>\n",
       "      <th>75%</th>\n",
       "      <td>19.000000</td>\n",
       "      <td>56.000000</td>\n",
       "    </tr>\n",
       "    <tr>\n",
       "      <th>max</th>\n",
       "      <td>25.000000</td>\n",
       "      <td>120.000000</td>\n",
       "    </tr>\n",
       "  </tbody>\n",
       "</table>\n",
       "</div>"
      ],
      "text/plain": [
       "           speed        dist\n",
       "count  50.000000   50.000000\n",
       "mean   15.400000   42.980000\n",
       "std     5.287644   25.769377\n",
       "min     4.000000    2.000000\n",
       "25%    12.000000   26.000000\n",
       "50%    15.000000   36.000000\n",
       "75%    19.000000   56.000000\n",
       "max    25.000000  120.000000"
      ]
     },
     "execution_count": 4,
     "metadata": {},
     "output_type": "execute_result"
    }
   ],
   "source": [
    "origin.describe()"
   ]
  },
  {
   "cell_type": "markdown",
   "metadata": {},
   "source": [
    "### 산점도 그래프와 추세선 확인"
   ]
  },
  {
   "cell_type": "code",
   "execution_count": 5,
   "metadata": {},
   "outputs": [
    {
     "data": {
      "image/png": "[encoded data removed]",
      "text/plain": [
       "<Figure size 1000x500 with 1 Axes>"
      ]
     },
     "metadata": {},
     "output_type": "display_data"
    }
   ],
   "source": [
    "plt.rcParams[\"font.family\"] = 'Malgun Gothic'\n",
    "plt.rcParams[\"font.size\"] = 16\n",
    "plt.rcParams['axes.unicode_minus'] = False\n",
    "\n",
    "plt.figure(figsize=(10, 5))\n",
    "sb.regplot(data=origin, x='speed', y='dist', color='#ff6600')\n",
    "plt.grid()\n",
    "\n",
    "plt.show()\n",
    "plt.close()"
   ]
  },
  {
   "cell_type": "markdown",
   "metadata": {},
   "source": [
    "> 곡선보다는 선형 분포에 더 가까우므로 단순선형회귀모델을 적용하기로 함"
   ]
  },
  {
   "cell_type": "markdown",
   "metadata": {},
   "source": [
    "## #05. 데이터셋 분할하기\n",
    "\n",
    "### 1. 랜덤시드 고정"
   ]
  },
  {
   "cell_type": "code",
   "execution_count": 6,
   "metadata": {},
   "outputs": [],
   "source": [
    "np.random.seed(777)"
   ]
  },
  {
   "cell_type": "markdown",
   "metadata": {},
   "source": [
    "### 2. 훈련 데이터(독립변수)와 레이블(종속변수) 구분하기"
   ]
  },
  {
   "cell_type": "code",
   "execution_count": 7,
   "metadata": {},
   "outputs": [
    {
     "name": "stdout",
     "output_type": "stream",
     "text": [
      "훈련데이터 크기: (50, 1) / 레이블 크기: (50, 1)\n"
     ]
    }
   ],
   "source": [
    "x = origin.drop(['dist'], axis=1)\n",
    "y = origin[['dist']]\n",
    "print(\"훈련데이터 크기:\", x.shape, \"/ 레이블 크기:\", y.shape)"
   ]
  },
  {
   "cell_type": "markdown",
   "metadata": {},
   "source": [
    "### (추가) 데이터 정규화(표준화) 수행\n",
    "\n",
    "#### 독립변수 표준화"
   ]
  },
  {
   "cell_type": "code",
   "execution_count": 8,
   "metadata": {},
   "outputs": [
    {
     "data": {
      "text/plain": [
       "array([[0.        ],\n",
       "       [0.        ],\n",
       "       [0.14285714],\n",
       "       [0.14285714],\n",
       "       [0.19047619],\n",
       "       [0.23809524],\n",
       "       [0.28571429],\n",
       "       [0.28571429],\n",
       "       [0.28571429],\n",
       "       [0.33333333],\n",
       "       [0.33333333],\n",
       "       [0.38095238],\n",
       "       [0.38095238],\n",
       "       [0.38095238],\n",
       "       [0.38095238],\n",
       "       [0.42857143],\n",
       "       [0.42857143],\n",
       "       [0.42857143],\n",
       "       [0.42857143],\n",
       "       [0.47619048],\n",
       "       [0.47619048],\n",
       "       [0.47619048],\n",
       "       [0.47619048],\n",
       "       [0.52380952],\n",
       "       [0.52380952],\n",
       "       [0.52380952],\n",
       "       [0.57142857],\n",
       "       [0.57142857],\n",
       "       [0.61904762],\n",
       "       [0.61904762],\n",
       "       [0.61904762],\n",
       "       [0.66666667],\n",
       "       [0.66666667],\n",
       "       [0.66666667],\n",
       "       [0.66666667],\n",
       "       [0.71428571],\n",
       "       [0.71428571],\n",
       "       [0.71428571],\n",
       "       [0.76190476],\n",
       "       [0.76190476],\n",
       "       [0.76190476],\n",
       "       [0.76190476],\n",
       "       [0.76190476],\n",
       "       [0.85714286],\n",
       "       [0.9047619 ],\n",
       "       [0.95238095],\n",
       "       [0.95238095],\n",
       "       [0.95238095],\n",
       "       [0.95238095],\n",
       "       [1.        ]])"
      ]
     },
     "execution_count": 8,
     "metadata": {},
     "output_type": "execute_result"
    }
   ],
   "source": [
    "x_scaler = MinMaxScaler()\n",
    "x_scale = x_scaler.fit_transform(x)\n",
    "x_scale"
   ]
  },
  {
   "cell_type": "markdown",
   "metadata": {},
   "source": [
    "#### 종속변수 표준화"
   ]
  },
  {
   "cell_type": "code",
   "execution_count": 9,
   "metadata": {},
   "outputs": [
    {
     "data": {
      "text/plain": [
       "array([[0.        ],\n",
       "       [0.06779661],\n",
       "       [0.01694915],\n",
       "       [0.16949153],\n",
       "       [0.11864407],\n",
       "       [0.06779661],\n",
       "       [0.13559322],\n",
       "       [0.20338983],\n",
       "       [0.27118644],\n",
       "       [0.12711864],\n",
       "       [0.22033898],\n",
       "       [0.10169492],\n",
       "       [0.15254237],\n",
       "       [0.18644068],\n",
       "       [0.22033898],\n",
       "       [0.20338983],\n",
       "       [0.27118644],\n",
       "       [0.27118644],\n",
       "       [0.37288136],\n",
       "       [0.20338983],\n",
       "       [0.28813559],\n",
       "       [0.49152542],\n",
       "       [0.66101695],\n",
       "       [0.15254237],\n",
       "       [0.20338983],\n",
       "       [0.44067797],\n",
       "       [0.25423729],\n",
       "       [0.3220339 ],\n",
       "       [0.25423729],\n",
       "       [0.3220339 ],\n",
       "       [0.40677966],\n",
       "       [0.33898305],\n",
       "       [0.45762712],\n",
       "       [0.62711864],\n",
       "       [0.69491525],\n",
       "       [0.28813559],\n",
       "       [0.37288136],\n",
       "       [0.55932203],\n",
       "       [0.25423729],\n",
       "       [0.38983051],\n",
       "       [0.42372881],\n",
       "       [0.45762712],\n",
       "       [0.52542373],\n",
       "       [0.54237288],\n",
       "       [0.44067797],\n",
       "       [0.57627119],\n",
       "       [0.76271186],\n",
       "       [0.77118644],\n",
       "       [1.        ],\n",
       "       [0.70338983]])"
      ]
     },
     "execution_count": 9,
     "metadata": {},
     "output_type": "execute_result"
    }
   ],
   "source": [
    "y_scaler = MinMaxScaler()\n",
    "y_scale = y_scaler.fit_transform(y)\n",
    "y_scale"
   ]
  },
  {
   "cell_type": "markdown",
   "metadata": {},
   "source": [
    "### 3. 훈련 데이터와 검증 데이터로 분할"
   ]
  },
  {
   "cell_type": "code",
   "execution_count": 10,
   "metadata": {},
   "outputs": [
    {
     "name": "stdout",
     "output_type": "stream",
     "text": [
      "훈련용 데이터셋 크기: 35, 검증용 데이터셋 크기: 15\n"
     ]
    }
   ],
   "source": [
    "x_train, x_test, y_train, y_test = train_test_split(x_scale, y_scale, test_size = 0.3, random_state = 777)\n",
    "print(\"훈련용 데이터셋 크기: %d, 검증용 데이터셋 크기: %d\" % (len(x_train), len(x_test)))"
   ]
  },
  {
   "cell_type": "markdown",
   "metadata": {},
   "source": [
    "## #06. 모델 개발\n",
    "\n",
    "### 1. 모델 정의"
   ]
  },
  {
   "cell_type": "markdown",
   "metadata": {},
   "source": [
    "model = Sequential(): 이 코드는 Sequential 모델을 생성하는 시작점입니다. Sequential 모델은 층(layer)을 선형으로 쌓아 나가는 가장 간단한 형태의 신경망 모델입니다.\n",
    "\n",
    "model.add(Dense(32, activation='relu', input_shape=(1, ))): 모델에 첫 번째 층을 추가합니다. 이 층은 Fully Connected 층 또는 밀집 층(Dense Layer)이라고도 불립니다. 입력 데이터의 형태가 (1, )인 것을 감안하면, 이 층은 하나의 노드(유닛)를 가지며, 활성화 함수로 ReLU(Rectified Linear Activation)를 사용합니다. 출력 노드 수는 32로 설정되어 있습니다.\n",
    "\n",
    "model.add(Dense(1, activation='linear')): 모델에 두 번째 층을 추가합니다. 이 또한 밀집 층인데, 활성화 함수로는 선형(linear) 함수가 사용됩니다. 출력 노드 수는 1로 설정되어 있습니다.\n",
    "\n",
    "model.compile(optimizer='adam', loss='mse', metrics=['mae']): 모델을 컴파일합니다. 'adam'은 최적화 알고리즘으로 Adam 옵티마이저를 사용함을 나타내며, 손실 함수로는 평균 제곱 오차(MSE)를 사용합니다. 또한 모델 평가 시 평가 지표로 평균 절대 오차(MAE)를 사용하도록 설정됩니다.\n",
    "\n",
    "이렇게 모델을 정의하고 컴파일한 후에는 학습 데이터로 모델을 학습시키고, model.evaluate()를 사용하여 모델의 성능을 평가할 수 있습니다."
   ]
  },
  {
   "cell_type": "code",
   "execution_count": 11,
   "metadata": {},
   "outputs": [
    {
     "name": "stdout",
     "output_type": "stream",
     "text": [
      "Model: \"sequential\"\n",
      "_________________________________________________________________\n",
      " Layer (type)                Output Shape              Param #   \n",
      "=================================================================\n",
      " dense (Dense)               (None, 32)                64        \n",
      "                                                                 \n",
      " dense_1 (Dense)             (None, 1)                 33        \n",
      "                                                                 \n",
      "=================================================================\n",
      "Total params: 97 (388.00 Byte)\n",
      "Trainable params: 97 (388.00 Byte)\n",
      "Non-trainable params: 0 (0.00 Byte)\n",
      "_________________________________________________________________\n"
     ]
    }
   ],
   "source": [
    "model = Sequential()\n",
    "# 1차원의 데이터를 입력으로 받고, 32개의 출력을 가지는 첫 번째 Dense 층\n",
    "model.add(Dense(32, activation = 'relu', input_shape = (1, )))\n",
    "# 하나의 값을 출력\n",
    "# -> 정답의 범위가 정해지지 않기 때문에 활성화 함수는 linear\n",
    "# -> linear는 기본값이므로 생략 가능함.\n",
    "model.add(Dense(1, activation='linear'))\n",
    "\n",
    "model.compile(optimizer = 'adam', loss = 'mse', metrics = ['mae'])\n",
    "model.summary()"
   ]
  },
  {
   "cell_type": "markdown",
   "metadata": {},
   "source": [
    "### (수정) 학습하기"
   ]
  },
  {
   "cell_type": "code",
   "execution_count": 12,
   "metadata": {},
   "outputs": [
    {
     "name": "stdout",
     "output_type": "stream",
     "text": [
      "Epoch 1/500\n"
     ]
    },
    {
     "name": "stdout",
     "output_type": "stream",
     "text": [
      "1/2 [==============>...............] - ETA: 0s - loss: 0.0665 - mae: 0.2082\n",
      "Epoch 1: val_loss improved from inf to 0.05146, saving model to reg_check_point.h5\n",
      "2/2 [==============================] - 1s 199ms/step - loss: 0.0836 - mae: 0.2287 - val_loss: 0.0515 - val_mae: 0.1752 - lr: 0.0010\n",
      "Epoch 2/500\n",
      "1/2 [==============>...............] - ETA: 0s - loss: 0.0747 - mae: 0.2092\n",
      "Epoch 2: val_loss improved from 0.05146 to 0.04518, saving model to reg_check_point.h5\n",
      "2/2 [==============================] - 0s 53ms/step - loss: 0.0743 - mae: 0.2097 - val_loss: 0.0452 - val_mae: 0.1608 - lr: 0.0010\n",
      "Epoch 3/500\n",
      "1/2 [==============>...............] - ETA: 0s - loss: 0.0609 - mae: 0.1817\n",
      "Epoch 3: val_loss improved from 0.04518 to 0.03958, saving model to reg_check_point.h5\n",
      "2/2 [==============================] - 0s 53ms/step - loss: 0.0655 - mae: 0.1929 - val_loss: 0.0396 - val_mae: 0.1465 - lr: 0.0010\n",
      "Epoch 4/500\n",
      "1/2 [==============>...............] - ETA: 0s - loss: 0.0603 - mae: 0.1772\n",
      "Epoch 4: val_loss improved from 0.03958 to 0.03468, saving model to reg_check_point.h5\n"
     ]
    },
    {
     "name": "stderr",
     "output_type": "stream",
     "text": [
      "c:\\Users\\leekh\\AppData\\Local\\Programs\\Python\\Python39\\lib\\site-packages\\keras\\src\\engine\\training.py:3000: UserWarning: You are saving your model as an HDF5 file via `model.save()`. This file format is considered legacy. We recommend using instead the native Keras format, e.g. `model.save('my_model.keras')`.\n",
      "  saving_api.save_model(\n"
     ]
    },
    {
     "name": "stdout",
     "output_type": "stream",
     "text": [
      "2/2 [==============================] - 0s 49ms/step - loss: 0.0581 - mae: 0.1768 - val_loss: 0.0347 - val_mae: 0.1345 - lr: 0.0010\n",
      "Epoch 5/500\n",
      "1/2 [==============>...............] - ETA: 0s - loss: 0.0555 - mae: 0.1707\n",
      "Epoch 5: val_loss improved from 0.03468 to 0.03064, saving model to reg_check_point.h5\n",
      "2/2 [==============================] - 0s 52ms/step - loss: 0.0514 - mae: 0.1621 - val_loss: 0.0306 - val_mae: 0.1251 - lr: 0.0010\n",
      "Epoch 6/500\n",
      "1/2 [==============>...............] - ETA: 0s - loss: 0.0482 - mae: 0.1546\n",
      "Epoch 6: val_loss improved from 0.03064 to 0.02736, saving model to reg_check_point.h5\n",
      "2/2 [==============================] - 0s 47ms/step - loss: 0.0455 - mae: 0.1497 - val_loss: 0.0274 - val_mae: 0.1179 - lr: 0.0010\n",
      "Epoch 7/500\n",
      "1/2 [==============>...............] - ETA: 0s - loss: 0.0431 - mae: 0.1437\n",
      "Epoch 7: val_loss improved from 0.02736 to 0.02467, saving model to reg_check_point.h5\n",
      "2/2 [==============================] - 0s 49ms/step - loss: 0.0406 - mae: 0.1386 - val_loss: 0.0247 - val_mae: 0.1114 - lr: 0.0010\n",
      "Epoch 8/500\n",
      "1/2 [==============>...............] - ETA: 0s - loss: 0.0389 - mae: 0.1376\n",
      "Epoch 8: val_loss improved from 0.02467 to 0.02256, saving model to reg_check_point.h5\n",
      "2/2 [==============================] - 0s 47ms/step - loss: 0.0366 - mae: 0.1325 - val_loss: 0.0226 - val_mae: 0.1054 - lr: 0.0010\n",
      "Epoch 9/500\n",
      "1/2 [==============>...............] - ETA: 0s - loss: 0.0314 - mae: 0.1230\n",
      "Epoch 9: val_loss improved from 0.02256 to 0.02087, saving model to reg_check_point.h5\n",
      "2/2 [==============================] - 0s 89ms/step - loss: 0.0331 - mae: 0.1270 - val_loss: 0.0209 - val_mae: 0.0996 - lr: 0.0010\n",
      "Epoch 10/500\n",
      "1/2 [==============>...............] - ETA: 0s - loss: 0.0292 - mae: 0.1186\n",
      "Epoch 10: val_loss improved from 0.02087 to 0.01952, saving model to reg_check_point.h5\n",
      "2/2 [==============================] - 0s 47ms/step - loss: 0.0301 - mae: 0.1210 - val_loss: 0.0195 - val_mae: 0.0941 - lr: 0.0010\n",
      "Epoch 11/500\n",
      "1/2 [==============>...............] - ETA: 0s - loss: 0.0253 - mae: 0.1080\n",
      "Epoch 11: val_loss improved from 0.01952 to 0.01848, saving model to reg_check_point.h5\n",
      "2/2 [==============================] - 0s 49ms/step - loss: 0.0276 - mae: 0.1161 - val_loss: 0.0185 - val_mae: 0.0918 - lr: 0.0010\n",
      "Epoch 12/500\n",
      "1/2 [==============>...............] - ETA: 0s - loss: 0.0268 - mae: 0.1127\n",
      "Epoch 12: val_loss improved from 0.01848 to 0.01776, saving model to reg_check_point.h5\n",
      "2/2 [==============================] - 0s 48ms/step - loss: 0.0255 - mae: 0.1124 - val_loss: 0.0178 - val_mae: 0.0925 - lr: 0.0010\n",
      "Epoch 13/500\n",
      "1/2 [==============>...............] - ETA: 0s - loss: 0.0223 - mae: 0.1055\n",
      "Epoch 13: val_loss improved from 0.01776 to 0.01735, saving model to reg_check_point.h5\n",
      "2/2 [==============================] - 0s 51ms/step - loss: 0.0238 - mae: 0.1112 - val_loss: 0.0173 - val_mae: 0.0954 - lr: 0.0010\n",
      "Epoch 14/500\n",
      "1/2 [==============>...............] - ETA: 0s - loss: 0.0167 - mae: 0.1020\n",
      "Epoch 14: val_loss improved from 0.01735 to 0.01722, saving model to reg_check_point.h5\n",
      "2/2 [==============================] - 0s 50ms/step - loss: 0.0225 - mae: 0.1112 - val_loss: 0.0172 - val_mae: 0.0988 - lr: 0.0010\n",
      "Epoch 15/500\n",
      "1/2 [==============>...............] - ETA: 0s - loss: 0.0134 - mae: 0.0947\n",
      "Epoch 15: val_loss did not improve from 0.01722\n",
      "2/2 [==============================] - 0s 34ms/step - loss: 0.0214 - mae: 0.1114 - val_loss: 0.0173 - val_mae: 0.1023 - lr: 0.0010\n",
      "Epoch 16/500\n",
      "1/2 [==============>...............] - ETA: 0s - loss: 0.0222 - mae: 0.1154\n",
      "Epoch 16: val_loss did not improve from 0.01722\n",
      "2/2 [==============================] - 0s 32ms/step - loss: 0.0211 - mae: 0.1129 - val_loss: 0.0177 - val_mae: 0.1074 - lr: 0.0010\n",
      "Epoch 17/500\n",
      "1/2 [==============>...............] - ETA: 0s - loss: 0.0210 - mae: 0.1131\n",
      "Epoch 17: ReduceLROnPlateau reducing learning rate to 0.0005000000237487257.\n",
      "\n",
      "Epoch 17: val_loss did not improve from 0.01722\n",
      "2/2 [==============================] - 0s 31ms/step - loss: 0.0209 - mae: 0.1140 - val_loss: 0.0181 - val_mae: 0.1119 - lr: 0.0010\n",
      "Epoch 18/500\n",
      "1/2 [==============>...............] - ETA: 0s - loss: 0.0218 - mae: 0.1191\n",
      "Epoch 18: val_loss did not improve from 0.01722\n",
      "2/2 [==============================] - 0s 31ms/step - loss: 0.0207 - mae: 0.1142 - val_loss: 0.0183 - val_mae: 0.1135 - lr: 5.0000e-04\n",
      "Epoch 19/500\n",
      "1/2 [==============>...............] - ETA: 0s - loss: 0.0221 - mae: 0.1184\n",
      "Epoch 19: val_loss did not improve from 0.01722\n",
      "2/2 [==============================] - 0s 31ms/step - loss: 0.0207 - mae: 0.1146 - val_loss: 0.0185 - val_mae: 0.1147 - lr: 5.0000e-04\n",
      "Epoch 20/500\n",
      "1/2 [==============>...............] - ETA: 0s - loss: 0.0221 - mae: 0.1189\n",
      "Epoch 20: ReduceLROnPlateau reducing learning rate to 0.0002500000118743628.\n",
      "\n",
      "Epoch 20: val_loss did not improve from 0.01722\n",
      "2/2 [==============================] - 0s 33ms/step - loss: 0.0207 - mae: 0.1147 - val_loss: 0.0186 - val_mae: 0.1156 - lr: 5.0000e-04\n",
      "Epoch 21/500\n",
      "1/2 [==============>...............] - ETA: 0s - loss: 0.0210 - mae: 0.1161\n",
      "Epoch 21: val_loss did not improve from 0.01722\n",
      "2/2 [==============================] - 0s 35ms/step - loss: 0.0207 - mae: 0.1150 - val_loss: 0.0186 - val_mae: 0.1159 - lr: 2.5000e-04\n",
      "Epoch 22/500\n",
      "1/2 [==============>...............] - ETA: 0s - loss: 0.0214 - mae: 0.1155\n",
      "Epoch 22: val_loss did not improve from 0.01722\n",
      "2/2 [==============================] - 0s 36ms/step - loss: 0.0208 - mae: 0.1151 - val_loss: 0.0186 - val_mae: 0.1161 - lr: 2.5000e-04\n",
      "Epoch 23/500\n",
      "1/2 [==============>...............] - ETA: 0s - loss: 0.0216 - mae: 0.1182\n",
      "Epoch 23: ReduceLROnPlateau reducing learning rate to 0.0001250000059371814.\n",
      "\n",
      "Epoch 23: val_loss did not improve from 0.01722\n",
      "2/2 [==============================] - 0s 35ms/step - loss: 0.0207 - mae: 0.1151 - val_loss: 0.0186 - val_mae: 0.1160 - lr: 2.5000e-04\n",
      "Epoch 24/500\n",
      "1/2 [==============>...............] - ETA: 0s - loss: 0.0198 - mae: 0.1094\n",
      "Epoch 24: val_loss did not improve from 0.01722\n",
      "2/2 [==============================] - 0s 30ms/step - loss: 0.0207 - mae: 0.1150 - val_loss: 0.0186 - val_mae: 0.1160 - lr: 1.2500e-04\n",
      "Epoch 24: early stopping\n"
     ]
    },
    {
     "data": {
      "text/html": [
       "<div>\n",
       "<style scoped>\n",
       "    .dataframe tbody tr th:only-of-type {\n",
       "        vertical-align: middle;\n",
       "    }\n",
       "\n",
       "    .dataframe tbody tr th {\n",
       "        vertical-align: top;\n",
       "    }\n",
       "\n",
       "    .dataframe thead th {\n",
       "        text-align: right;\n",
       "    }\n",
       "</style>\n",
       "<table border=\"1\" class=\"dataframe\">\n",
       "  <thead>\n",
       "    <tr style=\"text-align: right;\">\n",
       "      <th></th>\n",
       "      <th>loss</th>\n",
       "      <th>mae</th>\n",
       "      <th>val_loss</th>\n",
       "      <th>val_mae</th>\n",
       "      <th>lr</th>\n",
       "    </tr>\n",
       "    <tr>\n",
       "      <th>epochs</th>\n",
       "      <th></th>\n",
       "      <th></th>\n",
       "      <th></th>\n",
       "      <th></th>\n",
       "      <th></th>\n",
       "    </tr>\n",
       "  </thead>\n",
       "  <tbody>\n",
       "    <tr>\n",
       "      <th>1</th>\n",
       "      <td>0.083636</td>\n",
       "      <td>0.228683</td>\n",
       "      <td>0.051456</td>\n",
       "      <td>0.175154</td>\n",
       "      <td>0.001000</td>\n",
       "    </tr>\n",
       "    <tr>\n",
       "      <th>2</th>\n",
       "      <td>0.074253</td>\n",
       "      <td>0.209710</td>\n",
       "      <td>0.045179</td>\n",
       "      <td>0.160765</td>\n",
       "      <td>0.001000</td>\n",
       "    </tr>\n",
       "    <tr>\n",
       "      <th>3</th>\n",
       "      <td>0.065533</td>\n",
       "      <td>0.192883</td>\n",
       "      <td>0.039577</td>\n",
       "      <td>0.146501</td>\n",
       "      <td>0.001000</td>\n",
       "    </tr>\n",
       "    <tr>\n",
       "      <th>4</th>\n",
       "      <td>0.058068</td>\n",
       "      <td>0.176770</td>\n",
       "      <td>0.034681</td>\n",
       "      <td>0.134498</td>\n",
       "      <td>0.001000</td>\n",
       "    </tr>\n",
       "    <tr>\n",
       "      <th>5</th>\n",
       "      <td>0.051382</td>\n",
       "      <td>0.162097</td>\n",
       "      <td>0.030636</td>\n",
       "      <td>0.125124</td>\n",
       "      <td>0.001000</td>\n",
       "    </tr>\n",
       "    <tr>\n",
       "      <th>6</th>\n",
       "      <td>0.045510</td>\n",
       "      <td>0.149719</td>\n",
       "      <td>0.027361</td>\n",
       "      <td>0.117868</td>\n",
       "      <td>0.001000</td>\n",
       "    </tr>\n",
       "    <tr>\n",
       "      <th>7</th>\n",
       "      <td>0.040648</td>\n",
       "      <td>0.138649</td>\n",
       "      <td>0.024673</td>\n",
       "      <td>0.111416</td>\n",
       "      <td>0.001000</td>\n",
       "    </tr>\n",
       "    <tr>\n",
       "      <th>8</th>\n",
       "      <td>0.036590</td>\n",
       "      <td>0.132468</td>\n",
       "      <td>0.022560</td>\n",
       "      <td>0.105394</td>\n",
       "      <td>0.001000</td>\n",
       "    </tr>\n",
       "    <tr>\n",
       "      <th>9</th>\n",
       "      <td>0.033088</td>\n",
       "      <td>0.126969</td>\n",
       "      <td>0.020871</td>\n",
       "      <td>0.099636</td>\n",
       "      <td>0.001000</td>\n",
       "    </tr>\n",
       "    <tr>\n",
       "      <th>10</th>\n",
       "      <td>0.030095</td>\n",
       "      <td>0.121005</td>\n",
       "      <td>0.019520</td>\n",
       "      <td>0.094114</td>\n",
       "      <td>0.001000</td>\n",
       "    </tr>\n",
       "    <tr>\n",
       "      <th>11</th>\n",
       "      <td>0.027565</td>\n",
       "      <td>0.116139</td>\n",
       "      <td>0.018483</td>\n",
       "      <td>0.091810</td>\n",
       "      <td>0.001000</td>\n",
       "    </tr>\n",
       "    <tr>\n",
       "      <th>12</th>\n",
       "      <td>0.025526</td>\n",
       "      <td>0.112366</td>\n",
       "      <td>0.017759</td>\n",
       "      <td>0.092502</td>\n",
       "      <td>0.001000</td>\n",
       "    </tr>\n",
       "    <tr>\n",
       "      <th>13</th>\n",
       "      <td>0.023812</td>\n",
       "      <td>0.111165</td>\n",
       "      <td>0.017350</td>\n",
       "      <td>0.095359</td>\n",
       "      <td>0.001000</td>\n",
       "    </tr>\n",
       "    <tr>\n",
       "      <th>14</th>\n",
       "      <td>0.022479</td>\n",
       "      <td>0.111235</td>\n",
       "      <td>0.017217</td>\n",
       "      <td>0.098760</td>\n",
       "      <td>0.001000</td>\n",
       "    </tr>\n",
       "    <tr>\n",
       "      <th>15</th>\n",
       "      <td>0.021391</td>\n",
       "      <td>0.111424</td>\n",
       "      <td>0.017345</td>\n",
       "      <td>0.102268</td>\n",
       "      <td>0.001000</td>\n",
       "    </tr>\n",
       "    <tr>\n",
       "      <th>16</th>\n",
       "      <td>0.021139</td>\n",
       "      <td>0.112913</td>\n",
       "      <td>0.017706</td>\n",
       "      <td>0.107399</td>\n",
       "      <td>0.001000</td>\n",
       "    </tr>\n",
       "    <tr>\n",
       "      <th>17</th>\n",
       "      <td>0.020892</td>\n",
       "      <td>0.114030</td>\n",
       "      <td>0.018133</td>\n",
       "      <td>0.111873</td>\n",
       "      <td>0.001000</td>\n",
       "    </tr>\n",
       "    <tr>\n",
       "      <th>18</th>\n",
       "      <td>0.020718</td>\n",
       "      <td>0.114167</td>\n",
       "      <td>0.018317</td>\n",
       "      <td>0.113468</td>\n",
       "      <td>0.000500</td>\n",
       "    </tr>\n",
       "    <tr>\n",
       "      <th>19</th>\n",
       "      <td>0.020724</td>\n",
       "      <td>0.114563</td>\n",
       "      <td>0.018464</td>\n",
       "      <td>0.114652</td>\n",
       "      <td>0.000500</td>\n",
       "    </tr>\n",
       "    <tr>\n",
       "      <th>20</th>\n",
       "      <td>0.020721</td>\n",
       "      <td>0.114739</td>\n",
       "      <td>0.018587</td>\n",
       "      <td>0.115596</td>\n",
       "      <td>0.000500</td>\n",
       "    </tr>\n",
       "    <tr>\n",
       "      <th>21</th>\n",
       "      <td>0.020750</td>\n",
       "      <td>0.114967</td>\n",
       "      <td>0.018633</td>\n",
       "      <td>0.115936</td>\n",
       "      <td>0.000250</td>\n",
       "    </tr>\n",
       "    <tr>\n",
       "      <th>22</th>\n",
       "      <td>0.020751</td>\n",
       "      <td>0.115080</td>\n",
       "      <td>0.018649</td>\n",
       "      <td>0.116057</td>\n",
       "      <td>0.000250</td>\n",
       "    </tr>\n",
       "    <tr>\n",
       "      <th>23</th>\n",
       "      <td>0.020742</td>\n",
       "      <td>0.115090</td>\n",
       "      <td>0.018644</td>\n",
       "      <td>0.116024</td>\n",
       "      <td>0.000250</td>\n",
       "    </tr>\n",
       "    <tr>\n",
       "      <th>24</th>\n",
       "      <td>0.020728</td>\n",
       "      <td>0.115041</td>\n",
       "      <td>0.018636</td>\n",
       "      <td>0.115967</td>\n",
       "      <td>0.000125</td>\n",
       "    </tr>\n",
       "  </tbody>\n",
       "</table>\n",
       "</div>"
      ],
      "text/plain": [
       "            loss       mae  val_loss   val_mae        lr\n",
       "epochs                                                  \n",
       "1       0.083636  0.228683  0.051456  0.175154  0.001000\n",
       "2       0.074253  0.209710  0.045179  0.160765  0.001000\n",
       "3       0.065533  0.192883  0.039577  0.146501  0.001000\n",
       "4       0.058068  0.176770  0.034681  0.134498  0.001000\n",
       "5       0.051382  0.162097  0.030636  0.125124  0.001000\n",
       "6       0.045510  0.149719  0.027361  0.117868  0.001000\n",
       "7       0.040648  0.138649  0.024673  0.111416  0.001000\n",
       "8       0.036590  0.132468  0.022560  0.105394  0.001000\n",
       "9       0.033088  0.126969  0.020871  0.099636  0.001000\n",
       "10      0.030095  0.121005  0.019520  0.094114  0.001000\n",
       "11      0.027565  0.116139  0.018483  0.091810  0.001000\n",
       "12      0.025526  0.112366  0.017759  0.092502  0.001000\n",
       "13      0.023812  0.111165  0.017350  0.095359  0.001000\n",
       "14      0.022479  0.111235  0.017217  0.098760  0.001000\n",
       "15      0.021391  0.111424  0.017345  0.102268  0.001000\n",
       "16      0.021139  0.112913  0.017706  0.107399  0.001000\n",
       "17      0.020892  0.114030  0.018133  0.111873  0.001000\n",
       "18      0.020718  0.114167  0.018317  0.113468  0.000500\n",
       "19      0.020724  0.114563  0.018464  0.114652  0.000500\n",
       "20      0.020721  0.114739  0.018587  0.115596  0.000500\n",
       "21      0.020750  0.114967  0.018633  0.115936  0.000250\n",
       "22      0.020751  0.115080  0.018649  0.116057  0.000250\n",
       "23      0.020742  0.115090  0.018644  0.116024  0.000250\n",
       "24      0.020728  0.115041  0.018636  0.115967  0.000125"
      ]
     },
     "execution_count": 12,
     "metadata": {},
     "output_type": "execute_result"
    }
   ],
   "source": [
    "#result = model.fit(x_train, y_train, epochs=500, validation_data=(x_test, y_test))\n",
    "\n",
    "result = model.fit(x_train, y_train, epochs=500, validation_data=(x_test, y_test), callbacks=[\n",
    "    EarlyStopping(monitor='val_loss', patience=10, verbose=1),\n",
    "    ReduceLROnPlateau(monitor= \"val_loss\", patience=3, factor = 0.5, min_lr=0.0001, verbose=1),\n",
    "    ModelCheckpoint(filepath = 'reg_check_point.h5', monitor = 'val_loss', verbose=1, save_best_only = True)\n",
    "])\n",
    "\n",
    "# 학습결과\n",
    "result_df = DataFrame(result.history)\n",
    "result_df['epochs'] = result_df.index+1\n",
    "result_df.set_index('epochs', inplace=True)\n",
    "result_df"
   ]
  },
  {
   "cell_type": "markdown",
   "metadata": {},
   "source": [
    "## 7) 학습 결과 평가"
   ]
  },
  {
   "cell_type": "markdown",
   "metadata": {},
   "source": [
    "### 1. 학습 결과 시각화"
   ]
  },
  {
   "cell_type": "code",
   "execution_count": 13,
   "metadata": {},
   "outputs": [
    {
     "data": {
      "image/png": "[encoded data removed]",
      "text/plain": [
       "<Figure size 2250x750 with 2 Axes>"
      ]
     },
     "metadata": {},
     "output_type": "display_data"
    }
   ],
   "source": [
    "# 그래프 기본 설정\n",
    "# ----------------------------------------\n",
    "plt.rcParams[\"font.family\"] = 'Malgun Gothic'\n",
    "plt.rcParams[\"font.size\"] = 16\n",
    "plt.rcParams['axes.unicode_minus'] = False\n",
    "\n",
    "# 그래프를 그리기 위한 객체 생성\n",
    "# ----------------------------------------\n",
    "fig, (ax1, ax2) = plt.subplots(1, 2, figsize=(15, 5), dpi=150)\n",
    "\n",
    "# 1) 훈련 및 검증 손실 그리기\n",
    "# ----------------------------------------\n",
    "sb.lineplot(x=result_df.index, y='loss', data=result_df, color='blue', label='훈련 손실률', ax=ax1)\n",
    "sb.lineplot(x=result_df.index, y='val_loss', data=result_df, color='orange', label='검증 손실률', ax=ax1)\n",
    "ax1.set_title('훈련 및 검증 손실률')\n",
    "ax1.set_xlabel('반복회차')\n",
    "ax1.set_ylabel('손실률')\n",
    "ax1.grid()\n",
    "ax1.legend()\n",
    "\n",
    "# 2) 훈련 및 검증 절대오차 그리기\n",
    "# ----------------------------------------\n",
    "sb.lineplot(x=result_df.index, y='mae', data=result_df, color = 'blue', label = '훈련 절대오차', ax=ax2)\n",
    "sb.lineplot(x=result_df.index, y='val_mae', data=result_df, color = 'orange', label = '검증 절대오차', ax=ax2)\n",
    "ax2.set_title('훈련 및 검증 절대오차')\n",
    "ax2.set_xlabel('반복회차')\n",
    "ax2.set_ylabel('정확도')\n",
    "ax2.grid()\n",
    "ax2.legend()\n",
    "\n",
    "plt.show()\n",
    "plt.close()"
   ]
  },
  {
   "cell_type": "markdown",
   "metadata": {},
   "source": [
    "> ephocs를 500으로 지정했지만 일찍 학습을 멈춘 것을 확인할 수 있다. 즉, 학습을 조기 종료함으로서 학습 성능을 향상시켰다고 할 수 있다."
   ]
  },
  {
   "cell_type": "markdown",
   "metadata": {},
   "source": [
    "### 2. 모델 성능 평가"
   ]
  },
  {
   "cell_type": "code",
   "execution_count": 14,
   "metadata": {},
   "outputs": [
    {
     "name": "stdout",
     "output_type": "stream",
     "text": [
      "2/2 [==============================] - 0s 28ms/step - loss: 0.0207 - mae: 0.1150\n",
      "최종 훈련 손실률: 0.020720, 최종 훈련 절대오차: 0.115004\n",
      "1/1 [==============================] - 0s 43ms/step - loss: 0.0186 - mae: 0.1160\n",
      "최종 검증 손실률: 0.018636, 최종 검증 절대오차: 0.115967\n"
     ]
    }
   ],
   "source": [
    "# evaluate 메서드는 모델의 성능을 평가하고 결과를 반환합니다. 일반적으로 반환되는 값은 손실(loss) 값과 선택적으로 설정된 평가 지표들의 리스트입니다. 이 평가 지표들은 모델의 성능을 나타내는데 사용되며, 주로 정확도(accuracy), 정밀도(precision), 재현율(recall) 등이 포함될 수 있습니다.\n",
    "\n",
    "evaluate1 = model.evaluate(x_train, y_train)\n",
    "print(\"최종 훈련 손실률: %f, 최종 훈련 절대오차: %f\" % (evaluate1[0], evaluate1[1]))\n",
    "\n",
    "\n",
    "evaluate2 = model.evaluate(x_test, y_test)\n",
    "print(\"최종 검증 손실률: %f, 최종 검증 절대오차: %f\" % (evaluate2[0], evaluate2[1]))"
   ]
  },
  {
   "cell_type": "markdown",
   "metadata": {},
   "source": [
    "## #08. 학습 결과 적용\n",
    "\n",
    "### 1. 테스트 데이터에 대한 예측 결과 산정"
   ]
  },
  {
   "cell_type": "code",
   "execution_count": 15,
   "metadata": {},
   "outputs": [
    {
     "name": "stdout",
     "output_type": "stream",
     "text": [
      "1/1 [==============================] - 0s 102ms/step\n",
      "[[0.55488354]\n",
      " [0.32498226]\n",
      " [0.30190778]\n",
      " [0.27861688]\n",
      " [0.46292305]\n",
      " [0.34797236]\n",
      " [0.34797236]\n",
      " [0.43993288]\n",
      " [0.30190778]\n",
      " [0.46292305]\n",
      " [0.34797236]\n",
      " [0.48591322]\n",
      " [0.18413031]\n",
      " [0.32498226]\n",
      " [0.08514261]]\n"
     ]
    }
   ],
   "source": [
    "results = model.predict(x_test)\n",
    "print(results)"
   ]
  },
  {
   "cell_type": "markdown",
   "metadata": {},
   "source": [
    "### 2. 결과 데이터 셋 구성"
   ]
  },
  {
   "cell_type": "code",
   "execution_count": 16,
   "metadata": {},
   "outputs": [
    {
     "data": {
      "text/html": [
       "<div>\n",
       "<style scoped>\n",
       "    .dataframe tbody tr th:only-of-type {\n",
       "        vertical-align: middle;\n",
       "    }\n",
       "\n",
       "    .dataframe tbody tr th {\n",
       "        vertical-align: top;\n",
       "    }\n",
       "\n",
       "    .dataframe thead th {\n",
       "        text-align: right;\n",
       "    }\n",
       "</style>\n",
       "<table border=\"1\" class=\"dataframe\">\n",
       "  <thead>\n",
       "    <tr style=\"text-align: right;\">\n",
       "      <th></th>\n",
       "      <th>검증데이터</th>\n",
       "      <th>실제값</th>\n",
       "      <th>예측값</th>\n",
       "      <th>예측오차</th>\n",
       "    </tr>\n",
       "  </thead>\n",
       "  <tbody>\n",
       "    <tr>\n",
       "      <th>0</th>\n",
       "      <td>0.904762</td>\n",
       "      <td>0.440678</td>\n",
       "      <td>0.554884</td>\n",
       "      <td>-0.114206</td>\n",
       "    </tr>\n",
       "    <tr>\n",
       "      <th>1</th>\n",
       "      <td>0.428571</td>\n",
       "      <td>0.271186</td>\n",
       "      <td>0.324982</td>\n",
       "      <td>-0.053796</td>\n",
       "    </tr>\n",
       "    <tr>\n",
       "      <th>2</th>\n",
       "      <td>0.380952</td>\n",
       "      <td>0.101695</td>\n",
       "      <td>0.301908</td>\n",
       "      <td>-0.200213</td>\n",
       "    </tr>\n",
       "    <tr>\n",
       "      <th>3</th>\n",
       "      <td>0.333333</td>\n",
       "      <td>0.127119</td>\n",
       "      <td>0.278617</td>\n",
       "      <td>-0.151498</td>\n",
       "    </tr>\n",
       "    <tr>\n",
       "      <th>4</th>\n",
       "      <td>0.714286</td>\n",
       "      <td>0.372881</td>\n",
       "      <td>0.462923</td>\n",
       "      <td>-0.090042</td>\n",
       "    </tr>\n",
       "    <tr>\n",
       "      <th>5</th>\n",
       "      <td>0.476190</td>\n",
       "      <td>0.491525</td>\n",
       "      <td>0.347972</td>\n",
       "      <td>0.143553</td>\n",
       "    </tr>\n",
       "    <tr>\n",
       "      <th>6</th>\n",
       "      <td>0.476190</td>\n",
       "      <td>0.661017</td>\n",
       "      <td>0.347972</td>\n",
       "      <td>0.313045</td>\n",
       "    </tr>\n",
       "    <tr>\n",
       "      <th>7</th>\n",
       "      <td>0.666667</td>\n",
       "      <td>0.338983</td>\n",
       "      <td>0.439933</td>\n",
       "      <td>-0.100950</td>\n",
       "    </tr>\n",
       "    <tr>\n",
       "      <th>8</th>\n",
       "      <td>0.380952</td>\n",
       "      <td>0.152542</td>\n",
       "      <td>0.301908</td>\n",
       "      <td>-0.149365</td>\n",
       "    </tr>\n",
       "    <tr>\n",
       "      <th>9</th>\n",
       "      <td>0.714286</td>\n",
       "      <td>0.559322</td>\n",
       "      <td>0.462923</td>\n",
       "      <td>0.096399</td>\n",
       "    </tr>\n",
       "    <tr>\n",
       "      <th>10</th>\n",
       "      <td>0.476190</td>\n",
       "      <td>0.203390</td>\n",
       "      <td>0.347972</td>\n",
       "      <td>-0.144583</td>\n",
       "    </tr>\n",
       "    <tr>\n",
       "      <th>11</th>\n",
       "      <td>0.761905</td>\n",
       "      <td>0.457627</td>\n",
       "      <td>0.485913</td>\n",
       "      <td>-0.028286</td>\n",
       "    </tr>\n",
       "    <tr>\n",
       "      <th>12</th>\n",
       "      <td>0.142857</td>\n",
       "      <td>0.169492</td>\n",
       "      <td>0.184130</td>\n",
       "      <td>-0.014639</td>\n",
       "    </tr>\n",
       "    <tr>\n",
       "      <th>13</th>\n",
       "      <td>0.428571</td>\n",
       "      <td>0.271186</td>\n",
       "      <td>0.324982</td>\n",
       "      <td>-0.053796</td>\n",
       "    </tr>\n",
       "    <tr>\n",
       "      <th>14</th>\n",
       "      <td>0.000000</td>\n",
       "      <td>0.000000</td>\n",
       "      <td>0.085143</td>\n",
       "      <td>-0.085143</td>\n",
       "    </tr>\n",
       "  </tbody>\n",
       "</table>\n",
       "</div>"
      ],
      "text/plain": [
       "       검증데이터       실제값       예측값      예측오차\n",
       "0   0.904762  0.440678  0.554884 -0.114206\n",
       "1   0.428571  0.271186  0.324982 -0.053796\n",
       "2   0.380952  0.101695  0.301908 -0.200213\n",
       "3   0.333333  0.127119  0.278617 -0.151498\n",
       "4   0.714286  0.372881  0.462923 -0.090042\n",
       "5   0.476190  0.491525  0.347972  0.143553\n",
       "6   0.476190  0.661017  0.347972  0.313045\n",
       "7   0.666667  0.338983  0.439933 -0.100950\n",
       "8   0.380952  0.152542  0.301908 -0.149365\n",
       "9   0.714286  0.559322  0.462923  0.096399\n",
       "10  0.476190  0.203390  0.347972 -0.144583\n",
       "11  0.761905  0.457627  0.485913 -0.028286\n",
       "12  0.142857  0.169492  0.184130 -0.014639\n",
       "13  0.428571  0.271186  0.324982 -0.053796\n",
       "14  0.000000  0.000000  0.085143 -0.085143"
      ]
     },
     "execution_count": 16,
     "metadata": {},
     "output_type": "execute_result"
    }
   ],
   "source": [
    "kdf = DataFrame({\n",
    "    '검증데이터': x_test.flatten(),\n",
    "    '실제값': y_test.flatten(),\n",
    "    '예측값' : results.flatten()\n",
    "})\n",
    "\n",
    "kdf['예측오차'] = kdf['실제값']-kdf['예측값']\n",
    "\n",
    "kdf"
   ]
  },
  {
   "cell_type": "markdown",
   "metadata": {},
   "source": [
    "### 3. 실제 결과값과 머신러닝에 의한 예측값 비교"
   ]
  },
  {
   "cell_type": "code",
   "execution_count": 17,
   "metadata": {},
   "outputs": [
    {
     "data": {
      "image/png": "[encoded data removed]",
      "text/plain": [
       "<Figure size 1000x500 with 1 Axes>"
      ]
     },
     "metadata": {},
     "output_type": "display_data"
    }
   ],
   "source": [
    "helper.regplot(x_left=kdf['검증데이터'], y_left=kdf['실제값'], y_left_pred=kdf['예측값'])"
   ]
  },
  {
   "cell_type": "markdown",
   "metadata": {},
   "source": [
    "### 3. 임의의 값에 대한 머신러닝 예측 결과"
   ]
  },
  {
   "cell_type": "code",
   "execution_count": 18,
   "metadata": {},
   "outputs": [],
   "source": [
    "# 속도가 50일 때의 제동거리를 예측해보자.\n",
    "my_speed = 50"
   ]
  },
  {
   "cell_type": "code",
   "execution_count": 19,
   "metadata": {},
   "outputs": [
    {
     "name": "stderr",
     "output_type": "stream",
     "text": [
      "c:\\Users\\leekh\\AppData\\Local\\Programs\\Python\\Python39\\lib\\site-packages\\sklearn\\base.py:464: UserWarning: X does not have valid feature names, but MinMaxScaler was fitted with feature names\n",
      "  warnings.warn(\n"
     ]
    },
    {
     "data": {
      "text/plain": [
       "array([[2.19047619]])"
      ]
     },
     "execution_count": 19,
     "metadata": {},
     "output_type": "execute_result"
    }
   ],
   "source": [
    "# 독립변수 표준화에 사용한 객체를 활용\n",
    "my_speed_scale = x_scaler.transform([[my_speed]])\n",
    "my_speed_scale"
   ]
  },
  {
   "cell_type": "code",
   "execution_count": 20,
   "metadata": {},
   "outputs": [
    {
     "name": "stdout",
     "output_type": "stream",
     "text": [
      "1/1 [==============================] - 0s 20ms/step\n"
     ]
    },
    {
     "data": {
      "text/plain": [
       "array([[1.1713195]], dtype=float32)"
      ]
     },
     "execution_count": 20,
     "metadata": {},
     "output_type": "execute_result"
    }
   ],
   "source": [
    "results = model.predict(my_speed_scale)\n",
    "results"
   ]
  },
  {
   "cell_type": "code",
   "execution_count": 21,
   "metadata": {},
   "outputs": [
    {
     "data": {
      "text/plain": [
       "array([[140.2157]], dtype=float32)"
      ]
     },
     "execution_count": 21,
     "metadata": {},
     "output_type": "execute_result"
    }
   ],
   "source": [
    "# 예측 결과는 표준화된 값으로 나오기 때문에 원래의 단위로 되돌리기 위해 역변환\n",
    "y_scaler.inverse_transform(results)"
   ]
  },
  {
   "cell_type": "code",
   "execution_count": null,
   "metadata": {},
   "outputs": [],
   "source": []
  }
 ],
 "metadata": {
  "kernelspec": {
   "display_name": "Python 3",
   "language": "python",
   "name": "python3"
  },
  "language_info": {
   "codemirror_mode": {
    "name": "ipython",
    "version": 3
   },
   "file_extension": ".py",
   "mimetype": "text/x-python",
   "name": "python",
   "nbconvert_exporter": "python",
   "pygments_lexer": "ipython3",
   "version": "3.9.10"
  }
 },
 "nbformat": 4,
 "nbformat_minor": 4
}
