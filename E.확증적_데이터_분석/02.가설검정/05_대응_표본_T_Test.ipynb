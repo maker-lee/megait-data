{
 "cells": [
  {
   "cell_type": "markdown",
   "metadata": {},
   "source": [
    "# 대응 표본 T 검정 (Paired T-test)"
   ]
  },
  {
   "cell_type": "markdown",
   "metadata": {},
   "source": [
    "표본의 각 사례마다 대응하는 2개의 관측치를 통해 판단\n",
    "\n",
    "한 집단에 어떤 작용이 가해졌을 때에 대한 before,after를 비교"
   ]
  },
  {
   "cell_type": "code",
   "execution_count": 7,
   "metadata": {},
   "outputs": [],
   "source": [
    "from scipy import stats\n",
    "from pandas import read_excel"
   ]
  },
  {
   "cell_type": "markdown",
   "metadata": {},
   "source": [
    "## 예제 (1) - 사슴의 다리 길이 비교\n",
    "\n",
    "사슴의 왼쪽 뒷다리와 왼쪽 앞다리의 길이를 측정한 자료를 통해 두 다리의 길이(cm)가 같은지 다른지 알고 싶다.\n",
    "\n",
    "이 경우 한 사슴에 대하여 두 다리 길이를 측정하였으므로 사슴은 독립이지만 한 마리의 사슴의 일부인 두 다리는 독립이 아니다."
   ]
  },
  {
   "cell_type": "code",
   "execution_count": 8,
   "metadata": {},
   "outputs": [
    {
     "data": {
      "text/html": [
       "<div>\n",
       "<style scoped>\n",
       "    .dataframe tbody tr th:only-of-type {\n",
       "        vertical-align: middle;\n",
       "    }\n",
       "\n",
       "    .dataframe tbody tr th {\n",
       "        vertical-align: top;\n",
       "    }\n",
       "\n",
       "    .dataframe thead th {\n",
       "        text-align: right;\n",
       "    }\n",
       "</style>\n",
       "<table border=\"1\" class=\"dataframe\">\n",
       "  <thead>\n",
       "    <tr style=\"text-align: right;\">\n",
       "      <th></th>\n",
       "      <th>뒷다리</th>\n",
       "      <th>앞다리</th>\n",
       "    </tr>\n",
       "    <tr>\n",
       "      <th>사슴</th>\n",
       "      <th></th>\n",
       "      <th></th>\n",
       "    </tr>\n",
       "  </thead>\n",
       "  <tbody>\n",
       "    <tr>\n",
       "      <th>1</th>\n",
       "      <td>142</td>\n",
       "      <td>138</td>\n",
       "    </tr>\n",
       "    <tr>\n",
       "      <th>2</th>\n",
       "      <td>140</td>\n",
       "      <td>136</td>\n",
       "    </tr>\n",
       "    <tr>\n",
       "      <th>3</th>\n",
       "      <td>144</td>\n",
       "      <td>147</td>\n",
       "    </tr>\n",
       "    <tr>\n",
       "      <th>4</th>\n",
       "      <td>144</td>\n",
       "      <td>139</td>\n",
       "    </tr>\n",
       "    <tr>\n",
       "      <th>5</th>\n",
       "      <td>142</td>\n",
       "      <td>143</td>\n",
       "    </tr>\n",
       "    <tr>\n",
       "      <th>6</th>\n",
       "      <td>146</td>\n",
       "      <td>141</td>\n",
       "    </tr>\n",
       "    <tr>\n",
       "      <th>7</th>\n",
       "      <td>149</td>\n",
       "      <td>143</td>\n",
       "    </tr>\n",
       "    <tr>\n",
       "      <th>8</th>\n",
       "      <td>150</td>\n",
       "      <td>145</td>\n",
       "    </tr>\n",
       "    <tr>\n",
       "      <th>9</th>\n",
       "      <td>142</td>\n",
       "      <td>136</td>\n",
       "    </tr>\n",
       "    <tr>\n",
       "      <th>10</th>\n",
       "      <td>148</td>\n",
       "      <td>146</td>\n",
       "    </tr>\n",
       "  </tbody>\n",
       "</table>\n",
       "</div>"
      ],
      "text/plain": [
       "    뒷다리  앞다리\n",
       "사슴          \n",
       "1   142  138\n",
       "2   140  136\n",
       "3   144  147\n",
       "4   144  139\n",
       "5   142  143\n",
       "6   146  141\n",
       "7   149  143\n",
       "8   150  145\n",
       "9   142  136\n",
       "10  148  146"
      ]
     },
     "execution_count": 8,
     "metadata": {},
     "output_type": "execute_result"
    }
   ],
   "source": [
    "df = read_excel(\"https://data.hossam.kr/E02/deer.xlsx\", index_col=\"사슴\")\n",
    "df"
   ]
  },
  {
   "cell_type": "markdown",
   "metadata": {},
   "source": [
    "Case 1\n",
    "\n",
    "귀무가설 : 사슴의 앞다리와 뒷다리 길이에는 차이가 없다.\n",
    "\n",
    "대립가설 : 사슴의 앞다리와 뒷다리 길이에는 차이가 있다."
   ]
  },
  {
   "cell_type": "code",
   "execution_count": 9,
   "metadata": {},
   "outputs": [
    {
     "data": {
      "text/plain": [
       "TtestResult(statistic=-3.413793103448276, pvalue=0.007703223347263766, df=9)"
      ]
     },
     "execution_count": 9,
     "metadata": {},
     "output_type": "execute_result"
    }
   ],
   "source": [
    "stats.ttest_rel(df['앞다리'],df['뒷다리'],alternative='two-sided')"
   ]
  },
  {
   "cell_type": "markdown",
   "metadata": {},
   "source": [
    "결과 해석\n",
    "차이값에 대한 t 통계량의 값이 3.41, 대응되는 유의확률이 0.0077로 0.05보다 적으므로 유의수준 0.05에서 귀무가설을 기각, 앞다리와 뒷다리의 길이는 차이가 없지 않다고 결론 내릴 수 있다. "
   ]
  },
  {
   "cell_type": "markdown",
   "metadata": {},
   "source": [
    "Case 2 \n",
    "\n",
    "귀무가설 : 사슴의 앞다리는 뒷다리보다 길지 않다\n",
    "\n",
    "대립가설 : 사슴의 앞다리는 뒷다리보다 길다"
   ]
  },
  {
   "cell_type": "code",
   "execution_count": 10,
   "metadata": {},
   "outputs": [
    {
     "data": {
      "text/plain": [
       "TtestResult(statistic=-3.413793103448276, pvalue=0.9961483883263681, df=9)"
      ]
     },
     "execution_count": 10,
     "metadata": {},
     "output_type": "execute_result"
    }
   ],
   "source": [
    "stats.ttest_rel(df['앞다리'],df['뒷다리'],alternative='greater')"
   ]
  },
  {
   "cell_type": "markdown",
   "metadata": {},
   "source": [
    "#### 결과 해석\n",
    "\n",
    "차이값에 대한 t 통계량의 값이 `3.41`, 대응되는 유의확률이 `0.99`로 `0.05`보다 크므로 유의수준 `0.05`에서 앞다리는 뒷다리보다 길지 않다고 결론 내릴 수 있다.\n"
   ]
  },
  {
   "cell_type": "markdown",
   "metadata": {},
   "source": [
    "Case 3 \n",
    "\n",
    "귀무가설 : 사슴의 앞다리는 뒷다리보다 짧지 않다\n",
    "\n",
    "대립가설 : 사슴의 앞다리는 뒷다리보다 짧다"
   ]
  },
  {
   "cell_type": "code",
   "execution_count": 11,
   "metadata": {},
   "outputs": [
    {
     "data": {
      "text/plain": [
       "TtestResult(statistic=-3.413793103448276, pvalue=0.003851611673631883, df=9)"
      ]
     },
     "execution_count": 11,
     "metadata": {},
     "output_type": "execute_result"
    }
   ],
   "source": [
    "stats.ttest_rel(df['앞다리'],df['뒷다리'],alternative='less')"
   ]
  },
  {
   "cell_type": "markdown",
   "metadata": {},
   "source": [
    "#### 결과 해석\n",
    "\n",
    "차이값에 대한 t 통계량의 값이 `3.41`, 대응되는 유의확률이 `0.0038`로 `0.05`보다 크므로 유의수준 `0.05`에서 앞다리는 뒷다리보다 짧다고 결론 내릴 수 있다."
   ]
  },
  {
   "cell_type": "markdown",
   "metadata": {},
   "source": [
    "## 예제 (2) - 자동차 첨가제가 주행거리에 미치는 영향\n",
    "\n",
    "다섯 종류의 새 차에 대하여 같은 종류의 차 두 대 중에서 한 대를 랜덤하게 선택하여 첨가제를 사용하고, 다른 한 대에는 첨가제를 사용하지 않고 같은 운전자가 같은 장소에서 운전한 결과 다음과 같은 자료를 얻었다.\n",
    "\n",
    "첨가제를 사용하면 주행거리가 늘어난다고 할 수 있는지 유의수준 5%에서 검정하여 보라.\n",
    "\n",
    "> 그룹A : 첨가제를 사용한 경우, 그룹B : 첨가제를 사용하지 않은 경우"
   ]
  },
  {
   "cell_type": "code",
   "execution_count": 12,
   "metadata": {},
   "outputs": [
    {
     "data": {
      "text/html": [
       "<div>\n",
       "<style scoped>\n",
       "    .dataframe tbody tr th:only-of-type {\n",
       "        vertical-align: middle;\n",
       "    }\n",
       "\n",
       "    .dataframe tbody tr th {\n",
       "        vertical-align: top;\n",
       "    }\n",
       "\n",
       "    .dataframe thead th {\n",
       "        text-align: right;\n",
       "    }\n",
       "</style>\n",
       "<table border=\"1\" class=\"dataframe\">\n",
       "  <thead>\n",
       "    <tr style=\"text-align: right;\">\n",
       "      <th></th>\n",
       "      <th>그룹A</th>\n",
       "      <th>그룹B</th>\n",
       "    </tr>\n",
       "  </thead>\n",
       "  <tbody>\n",
       "    <tr>\n",
       "      <th>0</th>\n",
       "      <td>11.8</td>\n",
       "      <td>11.4</td>\n",
       "    </tr>\n",
       "    <tr>\n",
       "      <th>1</th>\n",
       "      <td>13.9</td>\n",
       "      <td>13.1</td>\n",
       "    </tr>\n",
       "    <tr>\n",
       "      <th>2</th>\n",
       "      <td>16.3</td>\n",
       "      <td>16.1</td>\n",
       "    </tr>\n",
       "    <tr>\n",
       "      <th>3</th>\n",
       "      <td>11.6</td>\n",
       "      <td>10.9</td>\n",
       "    </tr>\n",
       "    <tr>\n",
       "      <th>4</th>\n",
       "      <td>8.4</td>\n",
       "      <td>8.3</td>\n",
       "    </tr>\n",
       "  </tbody>\n",
       "</table>\n",
       "</div>"
      ],
      "text/plain": [
       "    그룹A   그룹B\n",
       "0  11.8  11.4\n",
       "1  13.9  13.1\n",
       "2  16.3  16.1\n",
       "3  11.6  10.9\n",
       "4   8.4   8.3"
      ]
     },
     "execution_count": 12,
     "metadata": {},
     "output_type": "execute_result"
    }
   ],
   "source": [
    "df = read_excel(\"https://data.hossam.kr/E02/oil.xlsx\")\n",
    "df"
   ]
  },
  {
   "cell_type": "markdown",
   "metadata": {},
   "source": [
    "case 1 \n",
    "\n",
    "귀무가설 : 그룹A와 그룹B의 주행거리에는 차이가 없다. 실험에 사용된 첨가제는 주행거리에 영향을 주지 않는다. \n",
    "\n",
    "대립가설 : 그룹A와 그룹B의 주행거리에는 차이가 있다. 실험에 사용된 첨가제는 주행거리에 영향을 준다."
   ]
  },
  {
   "cell_type": "code",
   "execution_count": 13,
   "metadata": {},
   "outputs": [
    {
     "data": {
      "text/plain": [
       "TtestResult(statistic=3.226236530469768, pvalue=0.03208991550156059, df=4)"
      ]
     },
     "execution_count": 13,
     "metadata": {},
     "output_type": "execute_result"
    }
   ],
   "source": [
    "stats.ttest_rel(df['그룹A'],df['그룹B'],alternative='two-sided')"
   ]
  },
  {
   "cell_type": "markdown",
   "metadata": {},
   "source": [
    "결과 해석\n",
    "\n",
    "대응 표본 검정 결과에서 검정 통계량 값이 3.22이고 유의확률 p값이 0.032오 유의수준 0.05보다 작으므로 차이가 없다는 귀무가설을 기각한다. 따라서 첨가제를 사용하는 경우 주행거리에 차이가 있다고 판단 된다. "
   ]
  },
  {
   "cell_type": "markdown",
   "metadata": {},
   "source": [
    "case 2 \n",
    "\n",
    "귀무가설 : 그룹A와 그룹B의 주행거리에는 차이가 없다. 실험에 사용된 첨가제는 주행거리 보다 짧지 않다.\n",
    "\n",
    "대립가설 : 그룹A와 그룹B의 주행거리에는 차이가 있다. 실험에 사용된 첨가제는 주행거리 보다 짧다. "
   ]
  },
  {
   "cell_type": "code",
   "execution_count": 14,
   "metadata": {},
   "outputs": [
    {
     "data": {
      "text/plain": [
       "TtestResult(statistic=3.226236530469768, pvalue=0.9839550422492197, df=4)"
      ]
     },
     "execution_count": 14,
     "metadata": {},
     "output_type": "execute_result"
    }
   ],
   "source": [
    "stats.ttest_rel(df['그룹A'],df['그룹B'],alternative='less')"
   ]
  },
  {
   "cell_type": "markdown",
   "metadata": {},
   "source": [
    "결과 해석\n",
    "\n",
    "대응 표본 검정 결과에서 검정 통계량 값이 3.22이고 유의확률 p값이 0.98로 유의수준 0.05보다 크므로 첨가제를 넣은 그룹의 주행거리가 첨가제를 넣지 않은 그룹의 구행거리보다 짧지 않다는 귀무가설을 기각할 수 없다.  "
   ]
  },
  {
   "cell_type": "markdown",
   "metadata": {},
   "source": [
    "case 3 \n",
    "\n",
    "귀무가설 : 그룹A와 그룹B의 주행거리에는 차이가 없다. 실험에 사용된 첨가제는 주행거리 보다 길지 않다. 즉, 첨가제는 주행거리를 늘리는데 효과가 없다. \n",
    "\n",
    "대립가설 : 그룹A와 그룹B의 주행거리에는 차이가 있다. 실험에 사용된 첨가제는 주행거리 보다 길다. 즉, 첨가제는 주행거리를 늘리는데 효과가 있다.  "
   ]
  },
  {
   "cell_type": "code",
   "execution_count": 15,
   "metadata": {},
   "outputs": [
    {
     "data": {
      "text/plain": [
       "TtestResult(statistic=3.226236530469768, pvalue=0.016044957750780294, df=4)"
      ]
     },
     "execution_count": 15,
     "metadata": {},
     "output_type": "execute_result"
    }
   ],
   "source": [
    "stats.ttest_rel(df['그룹A'],df['그룹B'],alternative='greater')"
   ]
  },
  {
   "cell_type": "markdown",
   "metadata": {},
   "source": [
    "결과 해석\n",
    "\n",
    "대응 표본 검정 결과에서 검정 통계량 값이 3.22이고 유의확률 p값이 0.01로 유의수준 0.05보다 작므로 첨가제를 넣은 그룹의 주행거리가 첨가제를 넣지 않은 그룹의 구행거리보다 길지 않다는 귀무가설을 기각할 수 있고 대립가설을 채택할 수 있다. 즉, 첨가제는 주행거리 연장에 효과가 있다. "
   ]
  }
 ],
 "metadata": {
  "kernelspec": {
   "display_name": "Python 3",
   "language": "python",
   "name": "python3"
  },
  "language_info": {
   "codemirror_mode": {
    "name": "ipython",
    "version": 3
   },
   "file_extension": ".py",
   "mimetype": "text/x-python",
   "name": "python",
   "nbconvert_exporter": "python",
   "pygments_lexer": "ipython3",
   "version": "3.11.1"
  },
  "orig_nbformat": 4
 },
 "nbformat": 4,
 "nbformat_minor": 2
}
