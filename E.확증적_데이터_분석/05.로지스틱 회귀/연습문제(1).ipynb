{
 "cells": [
  {
   "cell_type": "markdown",
   "metadata": {},
   "source": [
    "# 로지스틱 회귀 연습문제"
   ]
  },
  {
   "cell_type": "markdown",
   "metadata": {},
   "source": [
    "### 문제 1\n",
    "\n",
    "피마 인디언 당뇨병 발병여부를 예측할 수 있는 분석 모델을 구현하기 위해 아래와 같은 항목들을 조사하였다. 분석하라.\n",
    "\n",
    "| 변수 | 설명 |\n",
    "|--|--|\n",
    "| Pregnancies | 임신횟수 |\n",
    "| Glucose | 포도당 부하 검사 수치 |\n",
    "| BloodPressure | 혈압 |\n",
    "| SkinThickness | 팔 삼두근 뒤쪽의 피하지방 측정값 |\n",
    "| Insulin | 혈청 인슐린 |\n",
    "| BMI | 체질량 지수 |\n",
    "| DiabetesPedigreeFunction | 당뇨 내력 가중치 값 |\n",
    "| Age | 나이 |\n",
    "| Outcome | 당뇨여부(0 또는 1) |\n",
    "\n",
    "> https://data.hossam.kr/E05/indian_diabetes.xlsx\n",
    "\n",
    "단, 모든 독립변수는 명목형 변수를 포함하지 않으며 정규분포를 만족한다고 가정한다. (더미변수 만들 필요없음)"
   ]
  },
  {
   "cell_type": "markdown",
   "metadata": {},
   "source": [
    "## 문제 2\n",
    "\n",
    "다음의 데이터는 타이타닉 탑승객 명단 데이터이다. 적절한 데이터 전처리와 정제를 수행한 후 분석하라.\n",
    "\n",
    "| 변수명 | 설명 |\n",
    "|---|---|\n",
    "| PassengerId | 탑승객의 ID(인덱스와 같은 개념) |\n",
    "| Survived | 생존유무(0은 사망 1은 생존) |\n",
    "| Pclass | 객실의 등급 |\n",
    "| Name | 이름 |\n",
    "| Sex |성별 |\n",
    "| SibSp | 동승한 형제 혹은 배우자의 수 |\n",
    "| Parch | 동승한 자녀 혹은 부모의 수 |\n",
    "| Ticket | 티켓번호 |\n",
    "| Fare | 요금 |\n",
    "| Cabin | 선실 |\n",
    "| Embarked | 탑승지 (C = Cherbourg, Q = Queenstown, S = Southampton) |\n",
    "\n",
    "> https://data.hossam.kr/E05/titanic.xlsx\n",
    "\n",
    "단, 모든 독립변수는 정규분포를 만족한다고 가정한다."
   ]
  },
  {
   "cell_type": "code",
   "execution_count": null,
   "metadata": {
    "vscode": {
     "languageId": "plaintext"
    }
   },
   "outputs": [],
   "source": []
  }
 ],
 "metadata": {
  "language_info": {
   "name": "python"
  },
  "orig_nbformat": 4
 },
 "nbformat": 4,
 "nbformat_minor": 2
}
