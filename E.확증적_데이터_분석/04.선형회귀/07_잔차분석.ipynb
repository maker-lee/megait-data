{
 "cells": [
  {
   "cell_type": "markdown",
   "metadata": {},
   "source": [
    "# 잔차 분석\n",
    "\n",
    "## 잔차분석의 이해\n",
    "\n",
    "### 잔차\n",
    "\n",
    "실제 관측값과 예측값의 사이\n",
    "\n",
    "즉, 예측값에 대한 오차를 의미함\n",
    "\n",
    "$잔차 = 실제관측값 - 예측값$\n",
    "\n",
    "### 잔차 분석\n",
    "\n",
    "회귀분석 수행 후 회귀 분석이 적절하게 수행되었는지, 모델이 데이터에 적합한지를 평가하기 위해 사용\n",
    "\n",
    "1. 잔차의 선형성\n",
    "2. 잔차의 정규성\n",
    "3. 잔차의 등분산성\n",
    "4. 잔차의 독립성\n",
    "\n",
    "## #01. 작업준비\n",
    "\n",
    "### 패키지 참조"
   ]
  },
  {
   "cell_type": "code",
   "execution_count": 1,
   "metadata": {},
   "outputs": [],
   "source": [
    "from pandas import read_excel, DataFrame\n",
    "from matplotlib import pyplot as plt\n",
    "import seaborn as sb\n",
    "import numpy as np\n",
    "import sys\n",
    "import os\n",
    "import statsmodels.api as sm\n",
    "from statsmodels.stats.api import het_breuschpagan\n",
    "from statsmodels.stats.stattools import durbin_watson\n",
    "from scipy import stats\n",
    "\n",
    "sys.path.append(os.path.dirname(os.path.dirname(os.getcwd())))\n",
    "from helper import my_ols"
   ]
  },
  {
   "cell_type": "markdown",
   "metadata": {},
   "source": [
    "### 그래프 초기화"
   ]
  },
  {
   "cell_type": "code",
   "execution_count": 2,
   "metadata": {},
   "outputs": [],
   "source": [
    "plt.rcParams[\"font.family\"] = 'AppleGothic' if sys.platform == 'darwin' else 'Malgun Gothic'\n",
    "plt.rcParams[\"font.size\"] = 12\n",
    "plt.rcParams[\"figure.figsize\"] = (10, 5)\n",
    "plt.rcParams[\"axes.unicode_minus\"] = False"
   ]
  },
  {
   "cell_type": "markdown",
   "metadata": {},
   "source": [
    "### 데이터 가져오기"
   ]
  },
  {
   "cell_type": "code",
   "execution_count": 3,
   "metadata": {},
   "outputs": [
    {
     "data": {
      "text/html": [
       "<div>\n",
       "<style scoped>\n",
       "    .dataframe tbody tr th:only-of-type {\n",
       "        vertical-align: middle;\n",
       "    }\n",
       "\n",
       "    .dataframe tbody tr th {\n",
       "        vertical-align: top;\n",
       "    }\n",
       "\n",
       "    .dataframe thead th {\n",
       "        text-align: right;\n",
       "    }\n",
       "</style>\n",
       "<table border=\"1\" class=\"dataframe\">\n",
       "  <thead>\n",
       "    <tr style=\"text-align: right;\">\n",
       "      <th></th>\n",
       "      <th>speed</th>\n",
       "      <th>dist</th>\n",
       "    </tr>\n",
       "  </thead>\n",
       "  <tbody>\n",
       "    <tr>\n",
       "      <th>0</th>\n",
       "      <td>4</td>\n",
       "      <td>2</td>\n",
       "    </tr>\n",
       "    <tr>\n",
       "      <th>1</th>\n",
       "      <td>4</td>\n",
       "      <td>10</td>\n",
       "    </tr>\n",
       "    <tr>\n",
       "      <th>2</th>\n",
       "      <td>7</td>\n",
       "      <td>4</td>\n",
       "    </tr>\n",
       "    <tr>\n",
       "      <th>3</th>\n",
       "      <td>7</td>\n",
       "      <td>22</td>\n",
       "    </tr>\n",
       "    <tr>\n",
       "      <th>4</th>\n",
       "      <td>8</td>\n",
       "      <td>16</td>\n",
       "    </tr>\n",
       "  </tbody>\n",
       "</table>\n",
       "</div>"
      ],
      "text/plain": [
       "   speed  dist\n",
       "0      4     2\n",
       "1      4    10\n",
       "2      7     4\n",
       "3      7    22\n",
       "4      8    16"
      ]
     },
     "execution_count": 3,
     "metadata": {},
     "output_type": "execute_result"
    }
   ],
   "source": [
    "df = read_excel(\"https://data.hossam.kr/E04/cars.xlsx\")\n",
    "df.head()"
   ]
  },
  {
   "cell_type": "markdown",
   "metadata": {},
   "source": [
    "### 회귀분석 수행"
   ]
  },
  {
   "cell_type": "code",
   "execution_count": 4,
   "metadata": {},
   "outputs": [],
   "source": [
    "ols = my_ols(df, x='speed', y='dist')"
   ]
  },
  {
   "cell_type": "markdown",
   "metadata": {},
   "source": [
    "## #02. 잔차분석 수행\n",
    "\n",
    "### 잔차 구하기\n",
    "\n",
    "#### 예측값"
   ]
  },
  {
   "cell_type": "code",
   "execution_count": 5,
   "metadata": {},
   "outputs": [
    {
     "data": {
      "text/plain": [
       "0     -1.849460\n",
       "1     -1.849460\n",
       "2      9.947766\n",
       "3      9.947766\n",
       "4     13.880175\n",
       "5     17.812584\n",
       "6     21.744993\n",
       "7     21.744993\n",
       "8     21.744993\n",
       "9     25.677401\n",
       "10    25.677401\n",
       "11    29.609810\n",
       "12    29.609810\n",
       "13    29.609810\n",
       "14    29.609810\n",
       "15    33.542219\n",
       "16    33.542219\n",
       "17    33.542219\n",
       "18    33.542219\n",
       "19    37.474628\n",
       "20    37.474628\n",
       "21    37.474628\n",
       "22    37.474628\n",
       "23    41.407036\n",
       "24    41.407036\n",
       "25    41.407036\n",
       "26    45.339445\n",
       "27    45.339445\n",
       "28    49.271854\n",
       "29    49.271854\n",
       "30    49.271854\n",
       "31    53.204263\n",
       "32    53.204263\n",
       "33    53.204263\n",
       "34    53.204263\n",
       "35    57.136672\n",
       "36    57.136672\n",
       "37    57.136672\n",
       "38    61.069080\n",
       "39    61.069080\n",
       "40    61.069080\n",
       "41    61.069080\n",
       "42    61.069080\n",
       "43    68.933898\n",
       "44    72.866307\n",
       "45    76.798715\n",
       "46    76.798715\n",
       "47    76.798715\n",
       "48    76.798715\n",
       "49    80.731124\n",
       "dtype: float64"
      ]
     },
     "execution_count": 5,
     "metadata": {},
     "output_type": "execute_result"
    }
   ],
   "source": [
    "y = ols.fit.predict(df['speed'])\n",
    "y"
   ]
  },
  {
   "cell_type": "markdown",
   "metadata": {},
   "source": [
    "#### 회귀분석 결과에 내장된 예측값\n",
    "\n",
    "`predict()` 함수의 결과와 동일함"
   ]
  },
  {
   "cell_type": "code",
   "execution_count": 6,
   "metadata": {},
   "outputs": [
    {
     "data": {
      "text/plain": [
       "0     -1.849460\n",
       "1     -1.849460\n",
       "2      9.947766\n",
       "3      9.947766\n",
       "4     13.880175\n",
       "5     17.812584\n",
       "6     21.744993\n",
       "7     21.744993\n",
       "8     21.744993\n",
       "9     25.677401\n",
       "10    25.677401\n",
       "11    29.609810\n",
       "12    29.609810\n",
       "13    29.609810\n",
       "14    29.609810\n",
       "15    33.542219\n",
       "16    33.542219\n",
       "17    33.542219\n",
       "18    33.542219\n",
       "19    37.474628\n",
       "20    37.474628\n",
       "21    37.474628\n",
       "22    37.474628\n",
       "23    41.407036\n",
       "24    41.407036\n",
       "25    41.407036\n",
       "26    45.339445\n",
       "27    45.339445\n",
       "28    49.271854\n",
       "29    49.271854\n",
       "30    49.271854\n",
       "31    53.204263\n",
       "32    53.204263\n",
       "33    53.204263\n",
       "34    53.204263\n",
       "35    57.136672\n",
       "36    57.136672\n",
       "37    57.136672\n",
       "38    61.069080\n",
       "39    61.069080\n",
       "40    61.069080\n",
       "41    61.069080\n",
       "42    61.069080\n",
       "43    68.933898\n",
       "44    72.866307\n",
       "45    76.798715\n",
       "46    76.798715\n",
       "47    76.798715\n",
       "48    76.798715\n",
       "49    80.731124\n",
       "dtype: float64"
      ]
     },
     "execution_count": 6,
     "metadata": {},
     "output_type": "execute_result"
    }
   ],
   "source": [
    "y = ols.fit.fittedvalues\n",
    "y"
   ]
  },
  {
   "cell_type": "markdown",
   "metadata": {},
   "source": [
    "#### 잔차(직접계산)"
   ]
  },
  {
   "cell_type": "code",
   "execution_count": 7,
   "metadata": {},
   "outputs": [
    {
     "data": {
      "text/plain": [
       "0      3.849460\n",
       "1     11.849460\n",
       "2     -5.947766\n",
       "3     12.052234\n",
       "4      2.119825\n",
       "5     -7.812584\n",
       "6     -3.744993\n",
       "7      4.255007\n",
       "8     12.255007\n",
       "9     -8.677401\n",
       "10     2.322599\n",
       "11   -15.609810\n",
       "12    -9.609810\n",
       "13    -5.609810\n",
       "14    -1.609810\n",
       "15    -7.542219\n",
       "16     0.457781\n",
       "17     0.457781\n",
       "18    12.457781\n",
       "19   -11.474628\n",
       "20    -1.474628\n",
       "21    22.525372\n",
       "22    42.525372\n",
       "23   -21.407036\n",
       "24   -15.407036\n",
       "25    12.592964\n",
       "26   -13.339445\n",
       "27    -5.339445\n",
       "28   -17.271854\n",
       "29    -9.271854\n",
       "30     0.728146\n",
       "31   -11.204263\n",
       "32     2.795737\n",
       "33    22.795737\n",
       "34    30.795737\n",
       "35   -21.136672\n",
       "36   -11.136672\n",
       "37    10.863328\n",
       "38   -29.069080\n",
       "39   -13.069080\n",
       "40    -9.069080\n",
       "41    -5.069080\n",
       "42     2.930920\n",
       "43    -2.933898\n",
       "44   -18.866307\n",
       "45    -6.798715\n",
       "46    15.201285\n",
       "47    16.201285\n",
       "48    43.201285\n",
       "49     4.268876\n",
       "dtype: float64"
      ]
     },
     "execution_count": 7,
     "metadata": {},
     "output_type": "execute_result"
    }
   ],
   "source": [
    "residual = df['dist'] - y\n",
    "residual"
   ]
  },
  {
   "cell_type": "markdown",
   "metadata": {},
   "source": [
    "#### 회귀분석 결과에 내장된 잔차값"
   ]
  },
  {
   "cell_type": "code",
   "execution_count": 8,
   "metadata": {},
   "outputs": [
    {
     "data": {
      "text/plain": [
       "<helper.OlsResult at 0x210a6b50510>"
      ]
     },
     "execution_count": 8,
     "metadata": {},
     "output_type": "execute_result"
    }
   ],
   "source": [
    "residual = ols = my_ols(df, x='speed', y='dist')\n",
    "residual"
   ]
  },
  {
   "cell_type": "markdown",
   "metadata": {},
   "source": [
    "#### 분석결과가 내장하고 있는 독립변수 데이터 셋"
   ]
  },
  {
   "cell_type": "code",
   "execution_count": 9,
   "metadata": {},
   "outputs": [
    {
     "data": {
      "text/plain": [
       "array([[ 1.,  4.],\n",
       "       [ 1.,  4.],\n",
       "       [ 1.,  7.],\n",
       "       [ 1.,  7.],\n",
       "       [ 1.,  8.],\n",
       "       [ 1.,  9.],\n",
       "       [ 1., 10.],\n",
       "       [ 1., 10.],\n",
       "       [ 1., 10.],\n",
       "       [ 1., 11.],\n",
       "       [ 1., 11.],\n",
       "       [ 1., 12.],\n",
       "       [ 1., 12.],\n",
       "       [ 1., 12.],\n",
       "       [ 1., 12.],\n",
       "       [ 1., 13.],\n",
       "       [ 1., 13.],\n",
       "       [ 1., 13.],\n",
       "       [ 1., 13.],\n",
       "       [ 1., 14.],\n",
       "       [ 1., 14.],\n",
       "       [ 1., 14.],\n",
       "       [ 1., 14.],\n",
       "       [ 1., 15.],\n",
       "       [ 1., 15.],\n",
       "       [ 1., 15.],\n",
       "       [ 1., 16.],\n",
       "       [ 1., 16.],\n",
       "       [ 1., 17.],\n",
       "       [ 1., 17.],\n",
       "       [ 1., 17.],\n",
       "       [ 1., 18.],\n",
       "       [ 1., 18.],\n",
       "       [ 1., 18.],\n",
       "       [ 1., 18.],\n",
       "       [ 1., 19.],\n",
       "       [ 1., 19.],\n",
       "       [ 1., 19.],\n",
       "       [ 1., 20.],\n",
       "       [ 1., 20.],\n",
       "       [ 1., 20.],\n",
       "       [ 1., 20.],\n",
       "       [ 1., 20.],\n",
       "       [ 1., 22.],\n",
       "       [ 1., 23.],\n",
       "       [ 1., 24.],\n",
       "       [ 1., 24.],\n",
       "       [ 1., 24.],\n",
       "       [ 1., 24.],\n",
       "       [ 1., 25.]])"
      ]
     },
     "execution_count": 9,
     "metadata": {},
     "output_type": "execute_result"
    }
   ],
   "source": [
    "ols.fit.model.exog"
   ]
  },
  {
   "cell_type": "markdown",
   "metadata": {},
   "source": [
    "#### 원본 데이터프레임에 병합"
   ]
  },
  {
   "cell_type": "code",
   "execution_count": 10,
   "metadata": {},
   "outputs": [
    {
     "data": {
      "text/html": [
       "<div>\n",
       "<style scoped>\n",
       "    .dataframe tbody tr th:only-of-type {\n",
       "        vertical-align: middle;\n",
       "    }\n",
       "\n",
       "    .dataframe tbody tr th {\n",
       "        vertical-align: top;\n",
       "    }\n",
       "\n",
       "    .dataframe thead th {\n",
       "        text-align: right;\n",
       "    }\n",
       "</style>\n",
       "<table border=\"1\" class=\"dataframe\">\n",
       "  <thead>\n",
       "    <tr style=\"text-align: right;\">\n",
       "      <th></th>\n",
       "      <th>speed</th>\n",
       "      <th>dist</th>\n",
       "      <th>예측값</th>\n",
       "      <th>잔차</th>\n",
       "    </tr>\n",
       "  </thead>\n",
       "  <tbody>\n",
       "    <tr>\n",
       "      <th>0</th>\n",
       "      <td>4</td>\n",
       "      <td>2</td>\n",
       "      <td>-1.849460</td>\n",
       "      <td>&lt;helper.OlsResult object at 0x00000210A6B50510&gt;</td>\n",
       "    </tr>\n",
       "    <tr>\n",
       "      <th>1</th>\n",
       "      <td>4</td>\n",
       "      <td>10</td>\n",
       "      <td>-1.849460</td>\n",
       "      <td>&lt;helper.OlsResult object at 0x00000210A6B50510&gt;</td>\n",
       "    </tr>\n",
       "    <tr>\n",
       "      <th>2</th>\n",
       "      <td>7</td>\n",
       "      <td>4</td>\n",
       "      <td>9.947766</td>\n",
       "      <td>&lt;helper.OlsResult object at 0x00000210A6B50510&gt;</td>\n",
       "    </tr>\n",
       "    <tr>\n",
       "      <th>3</th>\n",
       "      <td>7</td>\n",
       "      <td>22</td>\n",
       "      <td>9.947766</td>\n",
       "      <td>&lt;helper.OlsResult object at 0x00000210A6B50510&gt;</td>\n",
       "    </tr>\n",
       "    <tr>\n",
       "      <th>4</th>\n",
       "      <td>8</td>\n",
       "      <td>16</td>\n",
       "      <td>13.880175</td>\n",
       "      <td>&lt;helper.OlsResult object at 0x00000210A6B50510&gt;</td>\n",
       "    </tr>\n",
       "  </tbody>\n",
       "</table>\n",
       "</div>"
      ],
      "text/plain": [
       "   speed  dist        예측값                                               잔차\n",
       "0      4     2  -1.849460  <helper.OlsResult object at 0x00000210A6B50510>\n",
       "1      4    10  -1.849460  <helper.OlsResult object at 0x00000210A6B50510>\n",
       "2      7     4   9.947766  <helper.OlsResult object at 0x00000210A6B50510>\n",
       "3      7    22   9.947766  <helper.OlsResult object at 0x00000210A6B50510>\n",
       "4      8    16  13.880175  <helper.OlsResult object at 0x00000210A6B50510>"
      ]
     },
     "execution_count": 10,
     "metadata": {},
     "output_type": "execute_result"
    }
   ],
   "source": [
    "df['예측값'] = y\n",
    "df['잔차'] = residual\n",
    "df.head()"
   ]
  },
  {
   "cell_type": "markdown",
   "metadata": {},
   "source": [
    "### 잔차의 선형성\n",
    "\n",
    "#### 잔차 시각화\n",
    "\n",
    "- 모든 예측값에서 가운데 점선에 맞추어 잔차가 비슷하게 있어야 한다.\n",
    "- 빨간 실선은 잔차의 추세를 의미\n",
    "- 빨간 실선이 점선에서 크게 벗어난다면 잔차가 크게 달라진다는 의미이므로 선형성이 없다는 것이다."
   ]
  },
  {
   "cell_type": "code",
   "execution_count": 11,
   "metadata": {},
   "outputs": [
    {
     "ename": "TypeError",
     "evalue": "float() argument must be a string or a real number, not 'OlsResult'",
     "output_type": "error",
     "traceback": [
      "\u001b[1;31m---------------------------------------------------------------------------\u001b[0m",
      "\u001b[1;31mTypeError\u001b[0m                                 Traceback (most recent call last)",
      "Cell \u001b[1;32mIn[11], line 7\u001b[0m\n\u001b[0;32m      4\u001b[0m yrange \u001b[39m=\u001b[39m [\u001b[39m0\u001b[39m, \u001b[39m0\u001b[39m]\n\u001b[0;32m      6\u001b[0m plt\u001b[39m.\u001b[39mfigure()\n\u001b[1;32m----> 7\u001b[0m sb\u001b[39m.\u001b[39;49mregplot(data\u001b[39m=\u001b[39;49mdf, x\u001b[39m=\u001b[39;49m\u001b[39m'\u001b[39;49m\u001b[39m예측값\u001b[39;49m\u001b[39m'\u001b[39;49m, y\u001b[39m=\u001b[39;49m\u001b[39m'\u001b[39;49m\u001b[39m잔차\u001b[39;49m\u001b[39m'\u001b[39;49m, lowess\u001b[39m=\u001b[39;49m\u001b[39mTrue\u001b[39;49;00m, line_kws\u001b[39m=\u001b[39;49m{\u001b[39m'\u001b[39;49m\u001b[39mcolor\u001b[39;49m\u001b[39m'\u001b[39;49m: \u001b[39m'\u001b[39;49m\u001b[39mred\u001b[39;49m\u001b[39m'\u001b[39;49m})\n\u001b[0;32m      8\u001b[0m sb\u001b[39m.\u001b[39mlineplot(x\u001b[39m=\u001b[39mxrange, y\u001b[39m=\u001b[39myrange, color\u001b[39m=\u001b[39m\u001b[39m'\u001b[39m\u001b[39mblue\u001b[39m\u001b[39m'\u001b[39m, linestyle\u001b[39m=\u001b[39m\u001b[39m'\u001b[39m\u001b[39m--\u001b[39m\u001b[39m'\u001b[39m)\n\u001b[0;32m      9\u001b[0m plt\u001b[39m.\u001b[39mgrid()\n",
      "File \u001b[1;32mc:\\Users\\User\\AppData\\Local\\Programs\\Python\\Python311\\Lib\\site-packages\\seaborn\\regression.py:759\u001b[0m, in \u001b[0;36mregplot\u001b[1;34m(data, x, y, x_estimator, x_bins, x_ci, scatter, fit_reg, ci, n_boot, units, seed, order, logistic, lowess, robust, logx, x_partial, y_partial, truncate, dropna, x_jitter, y_jitter, label, color, marker, scatter_kws, line_kws, ax)\u001b[0m\n\u001b[0;32m    757\u001b[0m scatter_kws[\u001b[39m\"\u001b[39m\u001b[39mmarker\u001b[39m\u001b[39m\"\u001b[39m] \u001b[39m=\u001b[39m marker\n\u001b[0;32m    758\u001b[0m line_kws \u001b[39m=\u001b[39m {} \u001b[39mif\u001b[39;00m line_kws \u001b[39mis\u001b[39;00m \u001b[39mNone\u001b[39;00m \u001b[39melse\u001b[39;00m copy\u001b[39m.\u001b[39mcopy(line_kws)\n\u001b[1;32m--> 759\u001b[0m plotter\u001b[39m.\u001b[39;49mplot(ax, scatter_kws, line_kws)\n\u001b[0;32m    760\u001b[0m \u001b[39mreturn\u001b[39;00m ax\n",
      "File \u001b[1;32mc:\\Users\\User\\AppData\\Local\\Programs\\Python\\Python311\\Lib\\site-packages\\seaborn\\regression.py:365\u001b[0m, in \u001b[0;36m_RegressionPlotter.plot\u001b[1;34m(self, ax, scatter_kws, line_kws)\u001b[0m\n\u001b[0;32m    363\u001b[0m \u001b[39m# Draw the constituent plots\u001b[39;00m\n\u001b[0;32m    364\u001b[0m \u001b[39mif\u001b[39;00m \u001b[39mself\u001b[39m\u001b[39m.\u001b[39mscatter:\n\u001b[1;32m--> 365\u001b[0m     \u001b[39mself\u001b[39;49m\u001b[39m.\u001b[39;49mscatterplot(ax, scatter_kws)\n\u001b[0;32m    367\u001b[0m \u001b[39mif\u001b[39;00m \u001b[39mself\u001b[39m\u001b[39m.\u001b[39mfit_reg:\n\u001b[0;32m    368\u001b[0m     \u001b[39mself\u001b[39m\u001b[39m.\u001b[39mlineplot(ax, line_kws)\n",
      "File \u001b[1;32mc:\\Users\\User\\AppData\\Local\\Programs\\Python\\Python311\\Lib\\site-packages\\seaborn\\regression.py:395\u001b[0m, in \u001b[0;36m_RegressionPlotter.scatterplot\u001b[1;34m(self, ax, kws)\u001b[0m\n\u001b[0;32m    392\u001b[0m         kws\u001b[39m.\u001b[39msetdefault(\u001b[39m\"\u001b[39m\u001b[39malpha\u001b[39m\u001b[39m\"\u001b[39m, \u001b[39m.8\u001b[39m)\n\u001b[0;32m    394\u001b[0m     x, y \u001b[39m=\u001b[39m \u001b[39mself\u001b[39m\u001b[39m.\u001b[39mscatter_data\n\u001b[1;32m--> 395\u001b[0m     ax\u001b[39m.\u001b[39;49mscatter(x, y, \u001b[39m*\u001b[39;49m\u001b[39m*\u001b[39;49mkws)\n\u001b[0;32m    396\u001b[0m \u001b[39melse\u001b[39;00m:\n\u001b[0;32m    397\u001b[0m     \u001b[39m# TODO abstraction\u001b[39;00m\n\u001b[0;32m    398\u001b[0m     ci_kws \u001b[39m=\u001b[39m {\u001b[39m\"\u001b[39m\u001b[39mcolor\u001b[39m\u001b[39m\"\u001b[39m: kws[\u001b[39m\"\u001b[39m\u001b[39mcolor\u001b[39m\u001b[39m\"\u001b[39m]}\n",
      "File \u001b[1;32mc:\\Users\\User\\AppData\\Local\\Programs\\Python\\Python311\\Lib\\site-packages\\matplotlib\\__init__.py:1459\u001b[0m, in \u001b[0;36m_preprocess_data.<locals>.inner\u001b[1;34m(ax, data, *args, **kwargs)\u001b[0m\n\u001b[0;32m   1456\u001b[0m \u001b[39m@functools\u001b[39m\u001b[39m.\u001b[39mwraps(func)\n\u001b[0;32m   1457\u001b[0m \u001b[39mdef\u001b[39;00m \u001b[39minner\u001b[39m(ax, \u001b[39m*\u001b[39margs, data\u001b[39m=\u001b[39m\u001b[39mNone\u001b[39;00m, \u001b[39m*\u001b[39m\u001b[39m*\u001b[39mkwargs):\n\u001b[0;32m   1458\u001b[0m     \u001b[39mif\u001b[39;00m data \u001b[39mis\u001b[39;00m \u001b[39mNone\u001b[39;00m:\n\u001b[1;32m-> 1459\u001b[0m         \u001b[39mreturn\u001b[39;00m func(ax, \u001b[39m*\u001b[39;49m\u001b[39mmap\u001b[39;49m(sanitize_sequence, args), \u001b[39m*\u001b[39;49m\u001b[39m*\u001b[39;49mkwargs)\n\u001b[0;32m   1461\u001b[0m     bound \u001b[39m=\u001b[39m new_sig\u001b[39m.\u001b[39mbind(ax, \u001b[39m*\u001b[39margs, \u001b[39m*\u001b[39m\u001b[39m*\u001b[39mkwargs)\n\u001b[0;32m   1462\u001b[0m     auto_label \u001b[39m=\u001b[39m (bound\u001b[39m.\u001b[39marguments\u001b[39m.\u001b[39mget(label_namer)\n\u001b[0;32m   1463\u001b[0m                   \u001b[39mor\u001b[39;00m bound\u001b[39m.\u001b[39mkwargs\u001b[39m.\u001b[39mget(label_namer))\n",
      "File \u001b[1;32mc:\\Users\\User\\AppData\\Local\\Programs\\Python\\Python311\\Lib\\site-packages\\matplotlib\\axes\\_axes.py:4673\u001b[0m, in \u001b[0;36mAxes.scatter\u001b[1;34m(self, x, y, s, c, marker, cmap, norm, vmin, vmax, alpha, linewidths, edgecolors, plotnonfinite, **kwargs)\u001b[0m\n\u001b[0;32m   4667\u001b[0m         linewidths \u001b[39m=\u001b[39m [\n\u001b[0;32m   4668\u001b[0m             lw \u001b[39mif\u001b[39;00m lw \u001b[39mis\u001b[39;00m \u001b[39mnot\u001b[39;00m \u001b[39mNone\u001b[39;00m \u001b[39melse\u001b[39;00m mpl\u001b[39m.\u001b[39mrcParams[\u001b[39m'\u001b[39m\u001b[39mlines.linewidth\u001b[39m\u001b[39m'\u001b[39m]\n\u001b[0;32m   4669\u001b[0m             \u001b[39mfor\u001b[39;00m lw \u001b[39min\u001b[39;00m linewidths]\n\u001b[0;32m   4671\u001b[0m offsets \u001b[39m=\u001b[39m np\u001b[39m.\u001b[39mma\u001b[39m.\u001b[39mcolumn_stack([x, y])\n\u001b[1;32m-> 4673\u001b[0m collection \u001b[39m=\u001b[39m mcoll\u001b[39m.\u001b[39;49mPathCollection(\n\u001b[0;32m   4674\u001b[0m     (path,), scales,\n\u001b[0;32m   4675\u001b[0m     facecolors\u001b[39m=\u001b[39;49mcolors,\n\u001b[0;32m   4676\u001b[0m     edgecolors\u001b[39m=\u001b[39;49medgecolors,\n\u001b[0;32m   4677\u001b[0m     linewidths\u001b[39m=\u001b[39;49mlinewidths,\n\u001b[0;32m   4678\u001b[0m     offsets\u001b[39m=\u001b[39;49moffsets,\n\u001b[0;32m   4679\u001b[0m     offset_transform\u001b[39m=\u001b[39;49mkwargs\u001b[39m.\u001b[39;49mpop(\u001b[39m'\u001b[39;49m\u001b[39mtransform\u001b[39;49m\u001b[39m'\u001b[39;49m, \u001b[39mself\u001b[39;49m\u001b[39m.\u001b[39;49mtransData),\n\u001b[0;32m   4680\u001b[0m     alpha\u001b[39m=\u001b[39;49malpha,\n\u001b[0;32m   4681\u001b[0m )\n\u001b[0;32m   4682\u001b[0m collection\u001b[39m.\u001b[39mset_transform(mtransforms\u001b[39m.\u001b[39mIdentityTransform())\n\u001b[0;32m   4683\u001b[0m \u001b[39mif\u001b[39;00m colors \u001b[39mis\u001b[39;00m \u001b[39mNone\u001b[39;00m:\n",
      "File \u001b[1;32mc:\\Users\\User\\AppData\\Local\\Programs\\Python\\Python311\\Lib\\site-packages\\matplotlib\\collections.py:994\u001b[0m, in \u001b[0;36mPathCollection.__init__\u001b[1;34m(self, paths, sizes, **kwargs)\u001b[0m\n\u001b[0;32m    980\u001b[0m \u001b[39mdef\u001b[39;00m \u001b[39m__init__\u001b[39m(\u001b[39mself\u001b[39m, paths, sizes\u001b[39m=\u001b[39m\u001b[39mNone\u001b[39;00m, \u001b[39m*\u001b[39m\u001b[39m*\u001b[39mkwargs):\n\u001b[0;32m    981\u001b[0m \u001b[39m    \u001b[39m\u001b[39m\"\"\"\u001b[39;00m\n\u001b[0;32m    982\u001b[0m \u001b[39m    Parameters\u001b[39;00m\n\u001b[0;32m    983\u001b[0m \u001b[39m    ----------\u001b[39;00m\n\u001b[1;32m   (...)\u001b[0m\n\u001b[0;32m    991\u001b[0m \u001b[39m        Forwarded to `.Collection`.\u001b[39;00m\n\u001b[0;32m    992\u001b[0m \u001b[39m    \"\"\"\u001b[39;00m\n\u001b[1;32m--> 994\u001b[0m     \u001b[39msuper\u001b[39;49m()\u001b[39m.\u001b[39;49m\u001b[39m__init__\u001b[39;49m(\u001b[39m*\u001b[39;49m\u001b[39m*\u001b[39;49mkwargs)\n\u001b[0;32m    995\u001b[0m     \u001b[39mself\u001b[39m\u001b[39m.\u001b[39mset_paths(paths)\n\u001b[0;32m    996\u001b[0m     \u001b[39mself\u001b[39m\u001b[39m.\u001b[39mset_sizes(sizes)\n",
      "File \u001b[1;32mc:\\Users\\User\\AppData\\Local\\Programs\\Python\\Python311\\Lib\\site-packages\\matplotlib\\_api\\deprecation.py:454\u001b[0m, in \u001b[0;36mmake_keyword_only.<locals>.wrapper\u001b[1;34m(*args, **kwargs)\u001b[0m\n\u001b[0;32m    448\u001b[0m \u001b[39mif\u001b[39;00m \u001b[39mlen\u001b[39m(args) \u001b[39m>\u001b[39m name_idx:\n\u001b[0;32m    449\u001b[0m     warn_deprecated(\n\u001b[0;32m    450\u001b[0m         since, message\u001b[39m=\u001b[39m\u001b[39m\"\u001b[39m\u001b[39mPassing the \u001b[39m\u001b[39m%(name)s\u001b[39;00m\u001b[39m \u001b[39m\u001b[39m%(obj_type)s\u001b[39;00m\u001b[39m \u001b[39m\u001b[39m\"\u001b[39m\n\u001b[0;32m    451\u001b[0m         \u001b[39m\"\u001b[39m\u001b[39mpositionally is deprecated since Matplotlib \u001b[39m\u001b[39m%(since)s\u001b[39;00m\u001b[39m; the \u001b[39m\u001b[39m\"\u001b[39m\n\u001b[0;32m    452\u001b[0m         \u001b[39m\"\u001b[39m\u001b[39mparameter will become keyword-only \u001b[39m\u001b[39m%(removal)s\u001b[39;00m\u001b[39m.\u001b[39m\u001b[39m\"\u001b[39m,\n\u001b[0;32m    453\u001b[0m         name\u001b[39m=\u001b[39mname, obj_type\u001b[39m=\u001b[39m\u001b[39mf\u001b[39m\u001b[39m\"\u001b[39m\u001b[39mparameter of \u001b[39m\u001b[39m{\u001b[39;00mfunc\u001b[39m.\u001b[39m\u001b[39m__name__\u001b[39m\u001b[39m}\u001b[39;00m\u001b[39m()\u001b[39m\u001b[39m\"\u001b[39m)\n\u001b[1;32m--> 454\u001b[0m \u001b[39mreturn\u001b[39;00m func(\u001b[39m*\u001b[39;49margs, \u001b[39m*\u001b[39;49m\u001b[39m*\u001b[39;49mkwargs)\n",
      "File \u001b[1;32mc:\\Users\\User\\AppData\\Local\\Programs\\Python\\Python311\\Lib\\site-packages\\matplotlib\\collections.py:192\u001b[0m, in \u001b[0;36mCollection.__init__\u001b[1;34m(self, edgecolors, facecolors, linewidths, linestyles, capstyle, joinstyle, antialiaseds, offsets, offset_transform, norm, cmap, pickradius, hatch, urls, zorder, **kwargs)\u001b[0m\n\u001b[0;32m    189\u001b[0m     \u001b[39mself\u001b[39m\u001b[39m.\u001b[39m_joinstyle \u001b[39m=\u001b[39m \u001b[39mNone\u001b[39;00m\n\u001b[0;32m    191\u001b[0m \u001b[39mif\u001b[39;00m offsets \u001b[39mis\u001b[39;00m \u001b[39mnot\u001b[39;00m \u001b[39mNone\u001b[39;00m:\n\u001b[1;32m--> 192\u001b[0m     offsets \u001b[39m=\u001b[39m np\u001b[39m.\u001b[39;49masanyarray(offsets, \u001b[39mfloat\u001b[39;49m)\n\u001b[0;32m    193\u001b[0m     \u001b[39m# Broadcast (2,) -> (1, 2) but nothing else.\u001b[39;00m\n\u001b[0;32m    194\u001b[0m     \u001b[39mif\u001b[39;00m offsets\u001b[39m.\u001b[39mshape \u001b[39m==\u001b[39m (\u001b[39m2\u001b[39m,):\n",
      "\u001b[1;31mTypeError\u001b[0m: float() argument must be a string or a real number, not 'OlsResult'"
     ]
    },
    {
     "data": {
      "image/png": "[encoded data removed]",
      "text/plain": [
       "<Figure size 1000x500 with 1 Axes>"
      ]
     },
     "metadata": {},
     "output_type": "display_data"
    }
   ],
   "source": [
    "xmin = df['예측값'].min()\n",
    "xmax = df['예측값'].max()\n",
    "xrange = [xmin, xmax]\n",
    "yrange = [0, 0]\n",
    "\n",
    "plt.figure()\n",
    "sb.regplot(data=df, x='예측값', y='잔차', lowess=True, line_kws={'color': 'red'})\n",
    "sb.lineplot(x=xrange, y=yrange, color='blue', linestyle='--')\n",
    "plt.grid()\n",
    "plt.show()\n",
    "plt.close()"
   ]
  },
  {
   "cell_type": "markdown",
   "metadata": {},
   "source": [
    "### 잔차의 정규성\n",
    "\n",
    "- 잔차가 정규분포를 따르는지를 확인\n",
    "\n",
    "#### 시각화\n",
    "\n",
    "- Q-Q plot으로 확인\n",
    "- 잔차가 정규분포를 따르면 Q-Q Plot에서 점들이 점선을 따라 배치된다.\n",
    "- 구해 놓은 예측값을 활용하여 zscore 값을 구한다.\n",
    "\n",
    "##### zscore 구하기"
   ]
  },
  {
   "cell_type": "code",
   "execution_count": null,
   "metadata": {},
   "outputs": [
    {
     "data": {
      "text/html": [
       "<div>\n",
       "<style scoped>\n",
       "    .dataframe tbody tr th:only-of-type {\n",
       "        vertical-align: middle;\n",
       "    }\n",
       "\n",
       "    .dataframe tbody tr th {\n",
       "        vertical-align: top;\n",
       "    }\n",
       "\n",
       "    .dataframe thead th {\n",
       "        text-align: right;\n",
       "    }\n",
       "</style>\n",
       "<table border=\"1\" class=\"dataframe\">\n",
       "  <thead>\n",
       "    <tr style=\"text-align: right;\">\n",
       "      <th></th>\n",
       "      <th>speed</th>\n",
       "      <th>dist</th>\n",
       "      <th>예측값</th>\n",
       "      <th>잔차</th>\n",
       "      <th>zscore</th>\n",
       "    </tr>\n",
       "  </thead>\n",
       "  <tbody>\n",
       "    <tr>\n",
       "      <th>0</th>\n",
       "      <td>4</td>\n",
       "      <td>2</td>\n",
       "      <td>-1.849460</td>\n",
       "      <td>3.849460</td>\n",
       "      <td>-2.177858</td>\n",
       "    </tr>\n",
       "    <tr>\n",
       "      <th>1</th>\n",
       "      <td>4</td>\n",
       "      <td>10</td>\n",
       "      <td>-1.849460</td>\n",
       "      <td>11.849460</td>\n",
       "      <td>-2.177858</td>\n",
       "    </tr>\n",
       "    <tr>\n",
       "      <th>2</th>\n",
       "      <td>7</td>\n",
       "      <td>4</td>\n",
       "      <td>9.947766</td>\n",
       "      <td>-5.947766</td>\n",
       "      <td>-1.604738</td>\n",
       "    </tr>\n",
       "    <tr>\n",
       "      <th>3</th>\n",
       "      <td>7</td>\n",
       "      <td>22</td>\n",
       "      <td>9.947766</td>\n",
       "      <td>12.052234</td>\n",
       "      <td>-1.604738</td>\n",
       "    </tr>\n",
       "    <tr>\n",
       "      <th>4</th>\n",
       "      <td>8</td>\n",
       "      <td>16</td>\n",
       "      <td>13.880175</td>\n",
       "      <td>2.119825</td>\n",
       "      <td>-1.413697</td>\n",
       "    </tr>\n",
       "  </tbody>\n",
       "</table>\n",
       "</div>"
      ],
      "text/plain": [
       "   speed  dist        예측값         잔차    zscore\n",
       "0      4     2  -1.849460   3.849460 -2.177858\n",
       "1      4    10  -1.849460  11.849460 -2.177858\n",
       "2      7     4   9.947766  -5.947766 -1.604738\n",
       "3      7    22   9.947766  12.052234 -1.604738\n",
       "4      8    16  13.880175   2.119825 -1.413697"
      ]
     },
     "execution_count": 13,
     "metadata": {},
     "output_type": "execute_result"
    }
   ],
   "source": [
    "df['zscore'] = stats.zscore(df['예측값'])\n",
    "df.head()"
   ]
  },
  {
   "cell_type": "markdown",
   "metadata": {},
   "source": [
    "##### Q-Q Plot 그리기"
   ]
  },
  {
   "cell_type": "code",
   "execution_count": null,
   "metadata": {},
   "outputs": [
    {
     "data": {
      "image/png": "[encoded data removed]",
      "text/plain": [
       "<Figure size 1000x500 with 1 Axes>"
      ]
     },
     "metadata": {},
     "output_type": "display_data"
    }
   ],
   "source": [
    "(x, y), _ = stats.probplot(df['zscore'])\n",
    "\n",
    "sb.scatterplot(x=x, y=y)\n",
    "sb.lineplot(x=[-3, 3], y=[-3, 3], color='red', linestyle='--')\n",
    "plt.show()\n",
    "plt.close()"
   ]
  },
  {
   "cell_type": "markdown",
   "metadata": {},
   "source": [
    "##### 잔차도\n",
    "\n",
    "잔차가 정규분포를 따른다면 대략적으로...\n",
    "\n",
    "- $\\pm\\sqrt{MSE}$ 범위 안에 최소 `68%`의 잔차가 포함된다.\n",
    "- $\\pm2\\sqrt{MSE}$ 범위 안에 최소 `95%`의 잔차가 포함된다.\n",
    "- $\\pm3\\sqrt{MSE}$ 범위 안에 최소 `99%`의 잔차가 포함된다."
   ]
  },
  {
   "cell_type": "code",
   "execution_count": null,
   "metadata": {},
   "outputs": [
    {
     "name": "stdout",
     "output_type": "stream",
     "text": [
      "루트 1MSE 구간에 포함된 잔차 비율: 74.00%\n",
      "루트 2MSE 구간에 포함된 잔차 비율: 94.00%\n",
      "루트 3MSE 구간에 포함된 잔차 비율: 100.00%\n"
     ]
    }
   ],
   "source": [
    "MSE_sq = np.sqrt(ols.fit.mse_resid)\n",
    "r = ols.fit.resid\n",
    "\n",
    "r1 = r[ (r > -MSE_sq) & (r < MSE_sq)].count() / r.count() * 100\n",
    "r2 = r[ (r > -2*MSE_sq) & (r < 2*MSE_sq)].count() / r.count() * 100\n",
    "r3 = r[ (r > -3*MSE_sq) & (r < 3*MSE_sq)].count() / r.count() * 100\n",
    "\n",
    "mse_r = [r1, r2, r3]\n",
    "\n",
    "print(f\"루트 1MSE 구간에 포함된 잔차 비율: {r1:1.2f}%\")\n",
    "print(f\"루트 2MSE 구간에 포함된 잔차 비율: {r2:1.2f}%\")\n",
    "print(f\"루트 3MSE 구간에 포함된 잔차 비율: {r3:1.2f}%\")"
   ]
  },
  {
   "cell_type": "code",
   "execution_count": null,
   "metadata": {},
   "outputs": [
    {
     "data": {
      "image/png": "[encoded data removed]",
      "text/plain": [
       "<Figure size 1000x500 with 1 Axes>"
      ]
     },
     "metadata": {},
     "output_type": "display_data"
    }
   ],
   "source": [
    "mse_sq = ols.fit.mse_resid\n",
    "\n",
    "\n",
    "# 예측값과 실제값간의 잔차를 구해서 표시해주는 그래프\n",
    "sb.residplot(data=df, x='예측값', y='dist', scatter_kws = {'edgecolor':\"white\", \"alpha\":0.7})\n",
    "\n",
    "for i, c in enumerate(['red', 'green', 'black']):\n",
    "    plt.axhline((i+1) * mse_sq, color=c)\n",
    "    plt.axhline(-(i+1) * mse_sq, color=c)\n",
    "\n",
    "# 현재 표시되는 그래프의 x축 범위를 가져온다.\n",
    "xmin, xmax = plt.xlim()\n",
    "\n",
    "for i, c in enumerate(['red', 'green', 'black']):\n",
    "    plt.text(s=f\"{i+1}\"r'${}\\sqrt{MSE}$ = %s%%' % mse_r[i], x=xmax+1, y=(i+1) * mse_sq)\n",
    "    plt.text(s=f\"-{i+1}\"r'${}\\sqrt{MSE}$ = %s%%' % mse_r[i], x=xmax+1, y=-(i+1) * mse_sq)\n",
    "\n",
    "plt.show()\n",
    "plt.close()"
   ]
  },
  {
   "cell_type": "markdown",
   "metadata": {},
   "source": [
    "#### 샤피로 검정을 통한 정규성 검정\n",
    "\n",
    "| 가설 | 내용 |\n",
    "|--|--|\n",
    "| 귀무가설 | 표본의 모집단이 정규분포를 따름 |\n",
    "| 대립가설 | 표본의 모집단이 정규분포를 따르지 않음 |"
   ]
  },
  {
   "cell_type": "code",
   "execution_count": null,
   "metadata": {},
   "outputs": [
    {
     "name": "stdout",
     "output_type": "stream",
     "text": [
      "Shapiro-Wilk Test: (통계량, p-value) =  (0.9450908899307251, 0.02152523212134838)\n"
     ]
    },
    {
     "data": {
      "text/plain": [
       "'잔차가 정규성을 따르지 않음'"
      ]
     },
     "execution_count": 25,
     "metadata": {},
     "output_type": "execute_result"
    }
   ],
   "source": [
    "s, p = stats.shapiro(df['잔차'])\n",
    "print(\"Shapiro-Wilk Test: (통계량, p-value) = \", (s, p))\n",
    "\n",
    "\"잔차가 정규성을 따름\" if p > 0.05 else \"잔차가 정규성을 따르지 않음\""
   ]
  },
  {
   "cell_type": "markdown",
   "metadata": {},
   "source": [
    "### 잔차의 등분산성\n",
    "\n",
    "- 회귀모형을 통해 예측된 모든 값들에 대하여 잔차의 분산이 동일하다는 가정"
   ]
  },
  {
   "cell_type": "code",
   "execution_count": null,
   "metadata": {},
   "outputs": [
    {
     "data": {
      "image/png": "[encoded data removed]",
      "text/plain": [
       "<Figure size 1000x500 with 1 Axes>"
      ]
     },
     "metadata": {},
     "output_type": "display_data"
    }
   ],
   "source": [
    "sb.regplot(x=df['예측값'], y=np.sqrt(np.abs(df['잔차'])), lowess=True, line_kws={'color':'red'})\n",
    "plt.grid()\n",
    "plt.show()\n",
    "plt.close()"
   ]
  },
  {
   "cell_type": "markdown",
   "metadata": {},
   "source": [
    "#### 브로이슈-패건 검정\n",
    "\n",
    "| 가설 | 설명 |\n",
    "|---|---|\n",
    "| 귀무가설 | 등분산성 가정이 만족된다 (오차의 분산은 독립변수들과 관련이 없다) |\n",
    "| 대립가설 | 등분산성 가정이 만족되지 않는다(오차의 분산은 독립변수들과 관련이 있다) |"
   ]
  },
  {
   "cell_type": "code",
   "execution_count": null,
   "metadata": {},
   "outputs": [
    {
     "data": {
      "text/html": [
       "<div>\n",
       "<style scoped>\n",
       "    .dataframe tbody tr th:only-of-type {\n",
       "        vertical-align: middle;\n",
       "    }\n",
       "\n",
       "    .dataframe tbody tr th {\n",
       "        vertical-align: top;\n",
       "    }\n",
       "\n",
       "    .dataframe thead th {\n",
       "        text-align: right;\n",
       "    }\n",
       "</style>\n",
       "<table border=\"1\" class=\"dataframe\">\n",
       "  <thead>\n",
       "    <tr style=\"text-align: right;\">\n",
       "      <th></th>\n",
       "      <th>0</th>\n",
       "    </tr>\n",
       "  </thead>\n",
       "  <tbody>\n",
       "    <tr>\n",
       "      <th>Lagrange multiplier statistic</th>\n",
       "      <td>3.214880</td>\n",
       "    </tr>\n",
       "    <tr>\n",
       "      <th>p-value</th>\n",
       "      <td>0.072972</td>\n",
       "    </tr>\n",
       "    <tr>\n",
       "      <th>f-value</th>\n",
       "      <td>3.298361</td>\n",
       "    </tr>\n",
       "    <tr>\n",
       "      <th>f p-value</th>\n",
       "      <td>0.075597</td>\n",
       "    </tr>\n",
       "  </tbody>\n",
       "</table>\n",
       "</div>"
      ],
      "text/plain": [
       "                                      0\n",
       "Lagrange multiplier statistic  3.214880\n",
       "p-value                        0.072972\n",
       "f-value                        3.298361\n",
       "f p-value                      0.075597"
      ]
     },
     "execution_count": 19,
     "metadata": {},
     "output_type": "execute_result"
    }
   ],
   "source": [
    "names = ['Lagrange multiplier statistic', 'p-value', 'f-value', 'f p-value']\n",
    "test_result = het_breuschpagan(ols.fit.resid, ols.fit.model.exog)\n",
    "DataFrame(test_result, index=names)"
   ]
  },
  {
   "cell_type": "markdown",
   "metadata": {},
   "source": [
    "### 잔차의 독립성\n",
    "\n",
    "회귀분석 결과표 하단의 Dubin-Watson 값을 확인한다.\n",
    "\n",
    "| 수치 | 해석 |\n",
    "|---|---|\n",
    "| `0` | 잔차들이 양의 상관 관계 (독립성 `X`) |\n",
    "| `2` | 잔차들이 독립. |\n",
    "| `4` | 잔차들이 음의 상관 관계 (독립성 `X`) |\n",
    "\n",
    "일반적으로 DW값이 `1.5 ~ 2.5` 범위에 있으면 독립으로 판정"
   ]
  },
  {
   "cell_type": "code",
   "execution_count": null,
   "metadata": {},
   "outputs": [
    {
     "data": {
      "text/html": [
       "<table class=\"simpletable\">\n",
       "<caption>OLS Regression Results</caption>\n",
       "<tr>\n",
       "  <th>Dep. Variable:</th>          <td>dist</td>       <th>  R-squared:         </th> <td>   0.651</td>\n",
       "</tr>\n",
       "<tr>\n",
       "  <th>Model:</th>                   <td>OLS</td>       <th>  Adj. R-squared:    </th> <td>   0.644</td>\n",
       "</tr>\n",
       "<tr>\n",
       "  <th>Method:</th>             <td>Least Squares</td>  <th>  F-statistic:       </th> <td>   89.57</td>\n",
       "</tr>\n",
       "<tr>\n",
       "  <th>Date:</th>             <td>Fri, 28 Jul 2023</td> <th>  Prob (F-statistic):</th> <td>1.49e-12</td>\n",
       "</tr>\n",
       "<tr>\n",
       "  <th>Time:</th>                 <td>12:09:19</td>     <th>  Log-Likelihood:    </th> <td> -206.58</td>\n",
       "</tr>\n",
       "<tr>\n",
       "  <th>No. Observations:</th>      <td>    50</td>      <th>  AIC:               </th> <td>   417.2</td>\n",
       "</tr>\n",
       "<tr>\n",
       "  <th>Df Residuals:</th>          <td>    48</td>      <th>  BIC:               </th> <td>   421.0</td>\n",
       "</tr>\n",
       "<tr>\n",
       "  <th>Df Model:</th>              <td>     1</td>      <th>                     </th>     <td> </td>   \n",
       "</tr>\n",
       "<tr>\n",
       "  <th>Covariance Type:</th>      <td>nonrobust</td>    <th>                     </th>     <td> </td>   \n",
       "</tr>\n",
       "</table>\n",
       "<table class=\"simpletable\">\n",
       "<tr>\n",
       "      <td></td>         <th>coef</th>     <th>std err</th>      <th>t</th>      <th>P>|t|</th>  <th>[0.025</th>    <th>0.975]</th>  \n",
       "</tr>\n",
       "<tr>\n",
       "  <th>Intercept</th> <td>  -17.5791</td> <td>    6.758</td> <td>   -2.601</td> <td> 0.012</td> <td>  -31.168</td> <td>   -3.990</td>\n",
       "</tr>\n",
       "<tr>\n",
       "  <th>speed</th>     <td>    3.9324</td> <td>    0.416</td> <td>    9.464</td> <td> 0.000</td> <td>    3.097</td> <td>    4.768</td>\n",
       "</tr>\n",
       "</table>\n",
       "<table class=\"simpletable\">\n",
       "<tr>\n",
       "  <th>Omnibus:</th>       <td> 8.975</td> <th>  Durbin-Watson:     </th> <td>   1.676</td>\n",
       "</tr>\n",
       "<tr>\n",
       "  <th>Prob(Omnibus):</th> <td> 0.011</td> <th>  Jarque-Bera (JB):  </th> <td>   8.189</td>\n",
       "</tr>\n",
       "<tr>\n",
       "  <th>Skew:</th>          <td> 0.885</td> <th>  Prob(JB):          </th> <td>  0.0167</td>\n",
       "</tr>\n",
       "<tr>\n",
       "  <th>Kurtosis:</th>      <td> 3.893</td> <th>  Cond. No.          </th> <td>    50.7</td>\n",
       "</tr>\n",
       "</table><br/><br/>Notes:<br/>[1] Standard Errors assume that the covariance matrix of the errors is correctly specified."
      ],
      "text/latex": [
       "\\begin{center}\n",
       "\\begin{tabular}{lclc}\n",
       "\\toprule\n",
       "\\textbf{Dep. Variable:}    &       dist       & \\textbf{  R-squared:         } &     0.651   \\\\\n",
       "\\textbf{Model:}            &       OLS        & \\textbf{  Adj. R-squared:    } &     0.644   \\\\\n",
       "\\textbf{Method:}           &  Least Squares   & \\textbf{  F-statistic:       } &     89.57   \\\\\n",
       "\\textbf{Date:}             & Fri, 28 Jul 2023 & \\textbf{  Prob (F-statistic):} &  1.49e-12   \\\\\n",
       "\\textbf{Time:}             &     12:09:19     & \\textbf{  Log-Likelihood:    } &   -206.58   \\\\\n",
       "\\textbf{No. Observations:} &          50      & \\textbf{  AIC:               } &     417.2   \\\\\n",
       "\\textbf{Df Residuals:}     &          48      & \\textbf{  BIC:               } &     421.0   \\\\\n",
       "\\textbf{Df Model:}         &           1      & \\textbf{                     } &             \\\\\n",
       "\\textbf{Covariance Type:}  &    nonrobust     & \\textbf{                     } &             \\\\\n",
       "\\bottomrule\n",
       "\\end{tabular}\n",
       "\\begin{tabular}{lcccccc}\n",
       "                   & \\textbf{coef} & \\textbf{std err} & \\textbf{t} & \\textbf{P$> |$t$|$} & \\textbf{[0.025} & \\textbf{0.975]}  \\\\\n",
       "\\midrule\n",
       "\\textbf{Intercept} &     -17.5791  &        6.758     &    -2.601  &         0.012        &      -31.168    &       -3.990     \\\\\n",
       "\\textbf{speed}     &       3.9324  &        0.416     &     9.464  &         0.000        &        3.097    &        4.768     \\\\\n",
       "\\bottomrule\n",
       "\\end{tabular}\n",
       "\\begin{tabular}{lclc}\n",
       "\\textbf{Omnibus:}       &  8.975 & \\textbf{  Durbin-Watson:     } &    1.676  \\\\\n",
       "\\textbf{Prob(Omnibus):} &  0.011 & \\textbf{  Jarque-Bera (JB):  } &    8.189  \\\\\n",
       "\\textbf{Skew:}          &  0.885 & \\textbf{  Prob(JB):          } &   0.0167  \\\\\n",
       "\\textbf{Kurtosis:}      &  3.893 & \\textbf{  Cond. No.          } &     50.7  \\\\\n",
       "\\bottomrule\n",
       "\\end{tabular}\n",
       "%\\caption{OLS Regression Results}\n",
       "\\end{center}\n",
       "\n",
       "Notes: \\newline\n",
       " [1] Standard Errors assume that the covariance matrix of the errors is correctly specified."
      ],
      "text/plain": [
       "<class 'statsmodels.iolib.summary.Summary'>\n",
       "\"\"\"\n",
       "                            OLS Regression Results                            \n",
       "==============================================================================\n",
       "Dep. Variable:                   dist   R-squared:                       0.651\n",
       "Model:                            OLS   Adj. R-squared:                  0.644\n",
       "Method:                 Least Squares   F-statistic:                     89.57\n",
       "Date:                Fri, 28 Jul 2023   Prob (F-statistic):           1.49e-12\n",
       "Time:                        12:09:19   Log-Likelihood:                -206.58\n",
       "No. Observations:                  50   AIC:                             417.2\n",
       "Df Residuals:                      48   BIC:                             421.0\n",
       "Df Model:                           1                                         \n",
       "Covariance Type:            nonrobust                                         \n",
       "==============================================================================\n",
       "                 coef    std err          t      P>|t|      [0.025      0.975]\n",
       "------------------------------------------------------------------------------\n",
       "Intercept    -17.5791      6.758     -2.601      0.012     -31.168      -3.990\n",
       "speed          3.9324      0.416      9.464      0.000       3.097       4.768\n",
       "==============================================================================\n",
       "Omnibus:                        8.975   Durbin-Watson:                   1.676\n",
       "Prob(Omnibus):                  0.011   Jarque-Bera (JB):                8.189\n",
       "Skew:                           0.885   Prob(JB):                       0.0167\n",
       "Kurtosis:                       3.893   Cond. No.                         50.7\n",
       "==============================================================================\n",
       "\n",
       "Notes:\n",
       "[1] Standard Errors assume that the covariance matrix of the errors is correctly specified.\n",
       "\"\"\""
      ]
     },
     "execution_count": 20,
     "metadata": {},
     "output_type": "execute_result"
    }
   ],
   "source": [
    "ols.summary"
   ]
  },
  {
   "cell_type": "code",
   "execution_count": null,
   "metadata": {},
   "outputs": [
    {
     "data": {
      "text/plain": [
       "1.6762253234350974"
      ]
     },
     "execution_count": 21,
     "metadata": {},
     "output_type": "execute_result"
    }
   ],
   "source": [
    "durbin_watson(df['잔차'])"
   ]
  },
  {
   "cell_type": "code",
   "execution_count": null,
   "metadata": {},
   "outputs": [],
   "source": []
  }
 ],
 "metadata": {
  "kernelspec": {
   "display_name": "Python 3",
   "language": "python",
   "name": "python3"
  },
  "language_info": {
   "codemirror_mode": {
    "name": "ipython",
    "version": 3
   },
   "file_extension": ".py",
   "mimetype": "text/x-python",
   "name": "python",
   "nbconvert_exporter": "python",
   "pygments_lexer": "ipython3",
   "version": "3.11.1"
  },
  "orig_nbformat": 4
 },
 "nbformat": 4,
 "nbformat_minor": 2
}
