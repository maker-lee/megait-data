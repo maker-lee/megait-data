{
 "cells": [
  {
   "cell_type": "markdown",
   "metadata": {},
   "source": [
    "# 가설검정 연습문제 (2)"
   ]
  },
  {
   "cell_type": "code",
   "execution_count": 2,
   "metadata": {},
   "outputs": [],
   "source": [
    "from scipy import stats\n",
    "from pandas import read_excel"
   ]
  },
  {
   "cell_type": "markdown",
   "metadata": {},
   "source": [
    "## 문제 1\n",
    "\n",
    "어떤 화학약품의 제조에 상표가 다른 두 종류의 원료가 사용되고 있다.\n",
    "\n",
    "각 원료에서 주성분 A의 함량은 다음과 같다. 단, 함량은 정규분포를 따른다고 가정한다.\n",
    "\n",
    "이 두 원료의 주성분 A의 함량이 다른지를 분석하라.\n",
    "\n",
    "![img](res/q01.png)\n",
    "\n",
    "> https://data.hossam.kr/E02/material.xlsx"
   ]
  },
  {
   "cell_type": "code",
   "execution_count": 3,
   "metadata": {},
   "outputs": [
    {
     "data": {
      "text/html": [
       "<div>\n",
       "<style scoped>\n",
       "    .dataframe tbody tr th:only-of-type {\n",
       "        vertical-align: middle;\n",
       "    }\n",
       "\n",
       "    .dataframe tbody tr th {\n",
       "        vertical-align: top;\n",
       "    }\n",
       "\n",
       "    .dataframe thead th {\n",
       "        text-align: right;\n",
       "    }\n",
       "</style>\n",
       "<table border=\"1\" class=\"dataframe\">\n",
       "  <thead>\n",
       "    <tr style=\"text-align: right;\">\n",
       "      <th></th>\n",
       "      <th>상표1</th>\n",
       "      <th>상표2</th>\n",
       "    </tr>\n",
       "  </thead>\n",
       "  <tbody>\n",
       "    <tr>\n",
       "      <th>0</th>\n",
       "      <td>80.4</td>\n",
       "      <td>80.1</td>\n",
       "    </tr>\n",
       "    <tr>\n",
       "      <th>1</th>\n",
       "      <td>78.2</td>\n",
       "      <td>81.2</td>\n",
       "    </tr>\n",
       "    <tr>\n",
       "      <th>2</th>\n",
       "      <td>80.1</td>\n",
       "      <td>79.5</td>\n",
       "    </tr>\n",
       "    <tr>\n",
       "      <th>3</th>\n",
       "      <td>77.1</td>\n",
       "      <td>78.0</td>\n",
       "    </tr>\n",
       "    <tr>\n",
       "      <th>4</th>\n",
       "      <td>79.6</td>\n",
       "      <td>76.1</td>\n",
       "    </tr>\n",
       "    <tr>\n",
       "      <th>5</th>\n",
       "      <td>80.4</td>\n",
       "      <td>77.0</td>\n",
       "    </tr>\n",
       "    <tr>\n",
       "      <th>6</th>\n",
       "      <td>81.6</td>\n",
       "      <td>80.1</td>\n",
       "    </tr>\n",
       "    <tr>\n",
       "      <th>7</th>\n",
       "      <td>79.9</td>\n",
       "      <td>79.9</td>\n",
       "    </tr>\n",
       "    <tr>\n",
       "      <th>8</th>\n",
       "      <td>84.4</td>\n",
       "      <td>78.8</td>\n",
       "    </tr>\n",
       "    <tr>\n",
       "      <th>9</th>\n",
       "      <td>80.9</td>\n",
       "      <td>80.8</td>\n",
       "    </tr>\n",
       "    <tr>\n",
       "      <th>10</th>\n",
       "      <td>83.1</td>\n",
       "      <td>NaN</td>\n",
       "    </tr>\n",
       "  </tbody>\n",
       "</table>\n",
       "</div>"
      ],
      "text/plain": [
       "     상표1   상표2\n",
       "0   80.4  80.1\n",
       "1   78.2  81.2\n",
       "2   80.1  79.5\n",
       "3   77.1  78.0\n",
       "4   79.6  76.1\n",
       "5   80.4  77.0\n",
       "6   81.6  80.1\n",
       "7   79.9  79.9\n",
       "8   84.4  78.8\n",
       "9   80.9  80.8\n",
       "10  83.1   NaN"
      ]
     },
     "execution_count": 3,
     "metadata": {},
     "output_type": "execute_result"
    }
   ],
   "source": [
    "df1 = read_excel('https://data.hossam.kr/E02/material.xlsx')\n",
    "df1"
   ]
  },
  {
   "cell_type": "code",
   "execution_count": 4,
   "metadata": {},
   "outputs": [
    {
     "data": {
      "text/plain": [
       "(4.153636363636368, 2.7538888888888917)"
      ]
     },
     "execution_count": 4,
     "metadata": {},
     "output_type": "execute_result"
    }
   ],
   "source": [
    "var1 = df1['상표1'].var()\n",
    "var2 = df1['상표2'].var()\n",
    "var1,var2"
   ]
  },
  {
   "cell_type": "code",
   "execution_count": 5,
   "metadata": {},
   "outputs": [],
   "source": [
    "# 결측치 삭제 \n",
    "df1.dropna(inplace=True)"
   ]
  },
  {
   "cell_type": "code",
   "execution_count": 6,
   "metadata": {},
   "outputs": [
    {
     "ename": "KeyError",
     "evalue": "'[10] not found in axis'",
     "output_type": "error",
     "traceback": [
      "\u001b[1;31m---------------------------------------------------------------------------\u001b[0m",
      "\u001b[1;31mKeyError\u001b[0m                                  Traceback (most recent call last)",
      "Cell \u001b[1;32mIn[6], line 1\u001b[0m\n\u001b[1;32m----> 1\u001b[0m df1_1 \u001b[39m=\u001b[39m df1\u001b[39m.\u001b[39;49mdrop(index\u001b[39m=\u001b[39;49m\u001b[39m10\u001b[39;49m)\n\u001b[0;32m      2\u001b[0m df1_1\n",
      "File \u001b[1;32mc:\\Users\\User\\AppData\\Local\\Programs\\Python\\Python311\\Lib\\site-packages\\pandas\\core\\frame.py:5258\u001b[0m, in \u001b[0;36mDataFrame.drop\u001b[1;34m(self, labels, axis, index, columns, level, inplace, errors)\u001b[0m\n\u001b[0;32m   5110\u001b[0m \u001b[39mdef\u001b[39;00m \u001b[39mdrop\u001b[39m(\n\u001b[0;32m   5111\u001b[0m     \u001b[39mself\u001b[39m,\n\u001b[0;32m   5112\u001b[0m     labels: IndexLabel \u001b[39m=\u001b[39m \u001b[39mNone\u001b[39;00m,\n\u001b[1;32m   (...)\u001b[0m\n\u001b[0;32m   5119\u001b[0m     errors: IgnoreRaise \u001b[39m=\u001b[39m \u001b[39m\"\u001b[39m\u001b[39mraise\u001b[39m\u001b[39m\"\u001b[39m,\n\u001b[0;32m   5120\u001b[0m ) \u001b[39m-\u001b[39m\u001b[39m>\u001b[39m DataFrame \u001b[39m|\u001b[39m \u001b[39mNone\u001b[39;00m:\n\u001b[0;32m   5121\u001b[0m \u001b[39m    \u001b[39m\u001b[39m\"\"\"\u001b[39;00m\n\u001b[0;32m   5122\u001b[0m \u001b[39m    Drop specified labels from rows or columns.\u001b[39;00m\n\u001b[0;32m   5123\u001b[0m \n\u001b[1;32m   (...)\u001b[0m\n\u001b[0;32m   5256\u001b[0m \u001b[39m            weight  1.0     0.8\u001b[39;00m\n\u001b[0;32m   5257\u001b[0m \u001b[39m    \"\"\"\u001b[39;00m\n\u001b[1;32m-> 5258\u001b[0m     \u001b[39mreturn\u001b[39;00m \u001b[39msuper\u001b[39;49m()\u001b[39m.\u001b[39;49mdrop(\n\u001b[0;32m   5259\u001b[0m         labels\u001b[39m=\u001b[39;49mlabels,\n\u001b[0;32m   5260\u001b[0m         axis\u001b[39m=\u001b[39;49maxis,\n\u001b[0;32m   5261\u001b[0m         index\u001b[39m=\u001b[39;49mindex,\n\u001b[0;32m   5262\u001b[0m         columns\u001b[39m=\u001b[39;49mcolumns,\n\u001b[0;32m   5263\u001b[0m         level\u001b[39m=\u001b[39;49mlevel,\n\u001b[0;32m   5264\u001b[0m         inplace\u001b[39m=\u001b[39;49minplace,\n\u001b[0;32m   5265\u001b[0m         errors\u001b[39m=\u001b[39;49merrors,\n\u001b[0;32m   5266\u001b[0m     )\n",
      "File \u001b[1;32mc:\\Users\\User\\AppData\\Local\\Programs\\Python\\Python311\\Lib\\site-packages\\pandas\\core\\generic.py:4549\u001b[0m, in \u001b[0;36mNDFrame.drop\u001b[1;34m(self, labels, axis, index, columns, level, inplace, errors)\u001b[0m\n\u001b[0;32m   4547\u001b[0m \u001b[39mfor\u001b[39;00m axis, labels \u001b[39min\u001b[39;00m axes\u001b[39m.\u001b[39mitems():\n\u001b[0;32m   4548\u001b[0m     \u001b[39mif\u001b[39;00m labels \u001b[39mis\u001b[39;00m \u001b[39mnot\u001b[39;00m \u001b[39mNone\u001b[39;00m:\n\u001b[1;32m-> 4549\u001b[0m         obj \u001b[39m=\u001b[39m obj\u001b[39m.\u001b[39;49m_drop_axis(labels, axis, level\u001b[39m=\u001b[39;49mlevel, errors\u001b[39m=\u001b[39;49merrors)\n\u001b[0;32m   4551\u001b[0m \u001b[39mif\u001b[39;00m inplace:\n\u001b[0;32m   4552\u001b[0m     \u001b[39mself\u001b[39m\u001b[39m.\u001b[39m_update_inplace(obj)\n",
      "File \u001b[1;32mc:\\Users\\User\\AppData\\Local\\Programs\\Python\\Python311\\Lib\\site-packages\\pandas\\core\\generic.py:4591\u001b[0m, in \u001b[0;36mNDFrame._drop_axis\u001b[1;34m(self, labels, axis, level, errors, only_slice)\u001b[0m\n\u001b[0;32m   4589\u001b[0m         new_axis \u001b[39m=\u001b[39m axis\u001b[39m.\u001b[39mdrop(labels, level\u001b[39m=\u001b[39mlevel, errors\u001b[39m=\u001b[39merrors)\n\u001b[0;32m   4590\u001b[0m     \u001b[39melse\u001b[39;00m:\n\u001b[1;32m-> 4591\u001b[0m         new_axis \u001b[39m=\u001b[39m axis\u001b[39m.\u001b[39;49mdrop(labels, errors\u001b[39m=\u001b[39;49merrors)\n\u001b[0;32m   4592\u001b[0m     indexer \u001b[39m=\u001b[39m axis\u001b[39m.\u001b[39mget_indexer(new_axis)\n\u001b[0;32m   4594\u001b[0m \u001b[39m# Case for non-unique axis\u001b[39;00m\n\u001b[0;32m   4595\u001b[0m \u001b[39melse\u001b[39;00m:\n",
      "File \u001b[1;32mc:\\Users\\User\\AppData\\Local\\Programs\\Python\\Python311\\Lib\\site-packages\\pandas\\core\\indexes\\base.py:6696\u001b[0m, in \u001b[0;36mIndex.drop\u001b[1;34m(self, labels, errors)\u001b[0m\n\u001b[0;32m   6694\u001b[0m \u001b[39mif\u001b[39;00m mask\u001b[39m.\u001b[39many():\n\u001b[0;32m   6695\u001b[0m     \u001b[39mif\u001b[39;00m errors \u001b[39m!=\u001b[39m \u001b[39m\"\u001b[39m\u001b[39mignore\u001b[39m\u001b[39m\"\u001b[39m:\n\u001b[1;32m-> 6696\u001b[0m         \u001b[39mraise\u001b[39;00m \u001b[39mKeyError\u001b[39;00m(\u001b[39mf\u001b[39m\u001b[39m\"\u001b[39m\u001b[39m{\u001b[39;00m\u001b[39mlist\u001b[39m(labels[mask])\u001b[39m}\u001b[39;00m\u001b[39m not found in axis\u001b[39m\u001b[39m\"\u001b[39m)\n\u001b[0;32m   6697\u001b[0m     indexer \u001b[39m=\u001b[39m indexer[\u001b[39m~\u001b[39mmask]\n\u001b[0;32m   6698\u001b[0m \u001b[39mreturn\u001b[39;00m \u001b[39mself\u001b[39m\u001b[39m.\u001b[39mdelete(indexer)\n",
      "\u001b[1;31mKeyError\u001b[0m: '[10] not found in axis'"
     ]
    }
   ],
   "source": [
    "df1_1 = df1.drop(index=10)\n",
    "df1_1"
   ]
  },
  {
   "cell_type": "markdown",
   "metadata": {},
   "source": [
    "귀무가설 : 두 원료의 주성분 A의 함량에는 차이가 없다.\n",
    "\n",
    "대립가설 : 두 원료의 주성분 A의 함량에는 차이가 있다."
   ]
  },
  {
   "cell_type": "code",
   "execution_count": null,
   "metadata": {},
   "outputs": [],
   "source": [
    "stats.ttest_ind(df1_1['상표1'],df1_1['상표2'])"
   ]
  },
  {
   "cell_type": "markdown",
   "metadata": {},
   "source": [
    "검정통계량 1.37에서 p-value가 유의수준 0.05보다 크므로 귀무가설을 기각할 수 없다. 즉, 상표1과 상표2의 주성분 함량에는 차이가 없다. "
   ]
  },
  {
   "cell_type": "markdown",
   "metadata": {},
   "source": [
    "## 문제 2\n",
    "\n",
    "특정 피임약이 사용자의 혈압을 저하시키는지 조사하고자 한다.\n",
    "\n",
    "이를 위해 부인 15명을 대상으로 평상시 혈압을 측정한 뒤, 이들에게 이 피임약을 일정 기간 복용하게 한 후 이들의 혈압을 다시 측정한 결과를 기록했다.\n",
    "\n",
    "얻어진 데이터는 다음과 같다. 피임약 복용이 혈압에 영향을 주는지 분석하라.\n",
    "\n",
    "![img](res/q02.png)\n",
    "\n",
    "> https://data.hossam.kr/E02/blood_pressure.xlsx\n"
   ]
  },
  {
   "cell_type": "code",
   "execution_count": null,
   "metadata": {},
   "outputs": [],
   "source": [
    "df2 = read_excel('https://data.hossam.kr/E02/blood_pressure.xlsx')\n",
    "df2"
   ]
  },
  {
   "cell_type": "markdown",
   "metadata": {},
   "source": [
    "귀무가설 : 피임약 복용이 혈압에 영향을 미치지 않는다.\n",
    "\n",
    "대립가설 : 피임약 복용이 혈압에 영향을 미친다."
   ]
  },
  {
   "cell_type": "code",
   "execution_count": null,
   "metadata": {},
   "outputs": [],
   "source": [
    "stats.ttest_rel(df2['복용전'],df2['복용후'],alternative='two-sided')"
   ]
  },
  {
   "cell_type": "markdown",
   "metadata": {},
   "source": [
    "결과 해석\n",
    "\n",
    "차이값에 대한 t 통계량의 값이 3.10, 대응되는 유의확률이 0.0077로 0.05보다 적으므로 유의수준 0.05에서 귀무가설을 기각, 대립가설을 채택해 피임약 복용이 혈압에 영향을 미친다고 결론을 내릴 수 있다. "
   ]
  },
  {
   "cell_type": "markdown",
   "metadata": {},
   "source": [
    "## 문제3\n",
    "\n",
    "고등학교 육상선수에게 체중감량을 시키면 달리기에 어떤 변화가 일어나는지 조사하기 위\n",
    "하여, 어떤 고등학교 육상선수 10명에게 감량훈련(2~4kg 정도)을 시킨 후 100m 달리기를\n",
    "실시하여 다음의 데이터를 얻었다.\n",
    "\n",
    "감량 전과 후에 달리기 속도에 차이가 있는지 분석하라\n",
    "\n",
    "![img](res/q03.png)\n",
    "\n",
    "> https://data.hossam.kr/E02/runner_diet.xlsx\n"
   ]
  },
  {
   "cell_type": "code",
   "execution_count": null,
   "metadata": {},
   "outputs": [],
   "source": [
    "df3 = read_excel('https://data.hossam.kr/E02/runner_diet.xlsx')\n",
    "df3"
   ]
  },
  {
   "cell_type": "markdown",
   "metadata": {},
   "source": [
    "귀무가설 : 감량 전과 후에 달리기 속도에 차이가 없다. \n",
    "\n",
    "대립가설 : 감량 전과 후에 달리기 속도에 차이가 있다. "
   ]
  },
  {
   "cell_type": "code",
   "execution_count": null,
   "metadata": {},
   "outputs": [],
   "source": [
    "df3.dropna(axis=1,inplace=True)\n",
    "df3"
   ]
  },
  {
   "cell_type": "code",
   "execution_count": null,
   "metadata": {},
   "outputs": [],
   "source": [
    "stats.ttest_rel(df3['감량전'],df3['감량후'],alternative='two-sided')"
   ]
  },
  {
   "cell_type": "markdown",
   "metadata": {},
   "source": [
    "결과 해석\n",
    "\n",
    "차이값에 대한 t 통계량의 값이 2.375, 대응되는 유의확률이 0.04로 0.05보다 적으므로 유의수준 0.05에서 귀무가설을 기각, 대립가설을 채택해 감령 전과 후 달리기 속도에 차이가 있다고 말할 수 있다. (달리기 속도에 영향을 준다고 볼 수 있다.)"
   ]
  },
  {
   "cell_type": "markdown",
   "metadata": {},
   "source": [
    "## 문제 4\n",
    "\n",
    "고등학교 레슬링 선수에게 체중감량을 시키면 체력에 어떤 변화가 일어나는지 조사하기 위하여, 어느 고등학교의 레슬링 선수 12명을 표본추출하여 감량시킨 후 다음의 체력 데이터를 얻었다.\n",
    "\n",
    "감량 전과 감량 후 간에 차이가 있는가의 대응비교를 악력(우), 윗몸일으키기, 턱걸이에 대하여 실시하고 분석하라.\n",
    "\n",
    "![img](res/q04.png)\n",
    "\n",
    "> https://data.hossam.kr/E02/wrestler_diet.xlsx"
   ]
  },
  {
   "cell_type": "code",
   "execution_count": 7,
   "metadata": {},
   "outputs": [
    {
     "data": {
      "text/html": [
       "<div>\n",
       "<style scoped>\n",
       "    .dataframe tbody tr th:only-of-type {\n",
       "        vertical-align: middle;\n",
       "    }\n",
       "\n",
       "    .dataframe tbody tr th {\n",
       "        vertical-align: top;\n",
       "    }\n",
       "\n",
       "    .dataframe thead th {\n",
       "        text-align: right;\n",
       "    }\n",
       "</style>\n",
       "<table border=\"1\" class=\"dataframe\">\n",
       "  <thead>\n",
       "    <tr style=\"text-align: right;\">\n",
       "      <th></th>\n",
       "      <th>이름</th>\n",
       "      <th>감량전 악력</th>\n",
       "      <th>감량후 악력</th>\n",
       "      <th>감량전 윗몸일으키기</th>\n",
       "      <th>감량후 윗몸일으키기</th>\n",
       "      <th>감량전 턱걸이</th>\n",
       "      <th>감량후 턱걸이</th>\n",
       "    </tr>\n",
       "  </thead>\n",
       "  <tbody>\n",
       "    <tr>\n",
       "      <th>0</th>\n",
       "      <td>B.S</td>\n",
       "      <td>43</td>\n",
       "      <td>41</td>\n",
       "      <td>35</td>\n",
       "      <td>41</td>\n",
       "      <td>25</td>\n",
       "      <td>29</td>\n",
       "    </tr>\n",
       "    <tr>\n",
       "      <th>1</th>\n",
       "      <td>P.J</td>\n",
       "      <td>42</td>\n",
       "      <td>41</td>\n",
       "      <td>40</td>\n",
       "      <td>44</td>\n",
       "      <td>25</td>\n",
       "      <td>29</td>\n",
       "    </tr>\n",
       "    <tr>\n",
       "      <th>2</th>\n",
       "      <td>G.G</td>\n",
       "      <td>52</td>\n",
       "      <td>50</td>\n",
       "      <td>36</td>\n",
       "      <td>41</td>\n",
       "      <td>22</td>\n",
       "      <td>23</td>\n",
       "    </tr>\n",
       "    <tr>\n",
       "      <th>3</th>\n",
       "      <td>A.L</td>\n",
       "      <td>53</td>\n",
       "      <td>52</td>\n",
       "      <td>38</td>\n",
       "      <td>42</td>\n",
       "      <td>10</td>\n",
       "      <td>15</td>\n",
       "    </tr>\n",
       "    <tr>\n",
       "      <th>4</th>\n",
       "      <td>I.H</td>\n",
       "      <td>44</td>\n",
       "      <td>40</td>\n",
       "      <td>36</td>\n",
       "      <td>42</td>\n",
       "      <td>15</td>\n",
       "      <td>19</td>\n",
       "    </tr>\n",
       "    <tr>\n",
       "      <th>5</th>\n",
       "      <td>B.Y</td>\n",
       "      <td>46</td>\n",
       "      <td>47</td>\n",
       "      <td>39</td>\n",
       "      <td>44</td>\n",
       "      <td>17</td>\n",
       "      <td>19</td>\n",
       "    </tr>\n",
       "    <tr>\n",
       "      <th>6</th>\n",
       "      <td>I.K</td>\n",
       "      <td>48</td>\n",
       "      <td>47</td>\n",
       "      <td>35</td>\n",
       "      <td>42</td>\n",
       "      <td>24</td>\n",
       "      <td>26</td>\n",
       "    </tr>\n",
       "    <tr>\n",
       "      <th>7</th>\n",
       "      <td>K.B</td>\n",
       "      <td>58</td>\n",
       "      <td>55</td>\n",
       "      <td>34</td>\n",
       "      <td>36</td>\n",
       "      <td>17</td>\n",
       "      <td>18</td>\n",
       "    </tr>\n",
       "    <tr>\n",
       "      <th>8</th>\n",
       "      <td>K.J</td>\n",
       "      <td>50</td>\n",
       "      <td>50</td>\n",
       "      <td>33</td>\n",
       "      <td>35</td>\n",
       "      <td>17</td>\n",
       "      <td>20</td>\n",
       "    </tr>\n",
       "    <tr>\n",
       "      <th>9</th>\n",
       "      <td>S.S</td>\n",
       "      <td>48</td>\n",
       "      <td>50</td>\n",
       "      <td>39</td>\n",
       "      <td>45</td>\n",
       "      <td>21</td>\n",
       "      <td>25</td>\n",
       "    </tr>\n",
       "    <tr>\n",
       "      <th>10</th>\n",
       "      <td>S.P</td>\n",
       "      <td>56</td>\n",
       "      <td>48</td>\n",
       "      <td>37</td>\n",
       "      <td>37</td>\n",
       "      <td>31</td>\n",
       "      <td>35</td>\n",
       "    </tr>\n",
       "    <tr>\n",
       "      <th>11</th>\n",
       "      <td>S.J</td>\n",
       "      <td>43</td>\n",
       "      <td>41</td>\n",
       "      <td>33</td>\n",
       "      <td>37</td>\n",
       "      <td>15</td>\n",
       "      <td>22</td>\n",
       "    </tr>\n",
       "  </tbody>\n",
       "</table>\n",
       "</div>"
      ],
      "text/plain": [
       "     이름  감량전 악력  감량후 악력  감량전 윗몸일으키기  감량후 윗몸일으키기  감량전 턱걸이  감량후 턱걸이\n",
       "0   B.S      43      41          35          41       25       29\n",
       "1   P.J      42      41          40          44       25       29\n",
       "2   G.G      52      50          36          41       22       23\n",
       "3   A.L      53      52          38          42       10       15\n",
       "4   I.H      44      40          36          42       15       19\n",
       "5   B.Y      46      47          39          44       17       19\n",
       "6   I.K      48      47          35          42       24       26\n",
       "7   K.B      58      55          34          36       17       18\n",
       "8   K.J      50      50          33          35       17       20\n",
       "9   S.S      48      50          39          45       21       25\n",
       "10  S.P      56      48          37          37       31       35\n",
       "11  S.J      43      41          33          37       15       22"
      ]
     },
     "execution_count": 7,
     "metadata": {},
     "output_type": "execute_result"
    }
   ],
   "source": [
    "df4 = read_excel('https://data.hossam.kr/E02/wrestler_diet.xlsx')\n",
    "df4"
   ]
  },
  {
   "cell_type": "code",
   "execution_count": 8,
   "metadata": {},
   "outputs": [
    {
     "name": "stdout",
     "output_type": "stream",
     "text": [
      "----------------------------------------------------------------------------\n",
      "귀무가설 : 감량전 악력와(과) 감량후 악력에 차이가 없다.\n",
      "대립가설 : 감량전 악력와(과) 감량후 악력에 차이가 있다.\n",
      "결과 해석 : 차이값에 대한 t 통계량의 값이 2.365, 대응되는 유의확률이 0.037로 0.05보다 적으므로 귀무가설을 기각, 대립가설을 채택해 감량전 악력와(과) 감량후 악력에 차이가 있다고 말할 수 있다.\n",
      "----------------------------------------------------------------------------\n",
      "귀무가설 : 감량전 윗몸일으키기와(과) 감량후 윗몸일으키기에 차이가 없다.\n",
      "대립가설 : 감량전 윗몸일으키기와(과) 감량후 윗몸일으키기에 차이가 있다.\n",
      "결과 해석 : 차이값에 대한 t 통계량의 값이 -7.18, 대응되는 유의확률이 0.0로 0.05보다 적으므로 귀무가설을 기각, 대립가설을 채택해 감량전 윗몸일으키기와(과) 감량후 윗몸일으키기에 차이가 있다고 말할 수 있다.\n",
      "----------------------------------------------------------------------------\n",
      "귀무가설 : 감량전 턱걸이와(과) 감량후 턱걸이에 차이가 없다.\n",
      "대립가설 : 감량전 턱걸이와(과) 감량후 턱걸이에 차이가 있다.\n",
      "결과 해석 : 차이값에 대한 t 통계량의 값이 -6.842, 대응되는 유의확률이 0.0로 0.05보다 적으므로 귀무가설을 기각, 대립가설을 채택해 감량전 턱걸이와(과) 감량후 턱걸이에 차이가 있다고 말할 수 있다.\n"
     ]
    }
   ],
   "source": [
    "for i in range(1,len(df4.columns),2) :\n",
    "    statistic,pvalue = stats.ttest_rel(df4[df4.columns[i]],df4[df4.columns[i+1]],alternative='two-sided')\n",
    "    # print(statistic,pvalue)\n",
    "    print('----------------------------------------------------------------------------')\n",
    "    print('귀무가설 : {columns1}와(과) {columns2}에 차이가 없다.'.format(columns1=df4.columns[i],columns2=df4.columns[i+1]))\n",
    "    print('대립가설 : {columns1}와(과) {columns2}에 차이가 있다.'.format(columns1=df4.columns[i],columns2=df4.columns[i+1]))\n",
    "\n",
    "    if pvalue < 0.05 :\n",
    "        print('결과 해석 : 차이값에 대한 t 통계량의 값이 {statistic}, 대응되는 유의확률이 {pvalue}로 0.05보다 적으므로 귀무가설을 기각, 대립가설을 채택해 {columns1}와(과) {columns2}에 차이가 있다고 말할 수 있다.'.format(statistic=round(statistic,3),pvalue=round(pvalue,3),columns1=df4.columns[i],columns2=df4.columns[i+1]))\n",
    "    else :\n",
    "        print('결과 해석 : 차이값에 대한 t 통계량의 값이 {statistic}, 대응되는 유의확률이 {pvalue}로 0.05보다 크므로 통계적으로 유의미한 차이를 발견할 수 없었다.'.format(statistic=round(statistic,3),pvalue=round(pvalue,5),columns1=df4.columns[i],columns2=df4.columns[i+1]))\n"
   ]
  }
 ],
 "metadata": {
  "kernelspec": {
   "display_name": "Python 3",
   "language": "python",
   "name": "python3"
  },
  "language_info": {
   "codemirror_mode": {
    "name": "ipython",
    "version": 3
   },
   "file_extension": ".py",
   "mimetype": "text/x-python",
   "name": "python",
   "nbconvert_exporter": "python",
   "pygments_lexer": "ipython3",
   "version": "3.11.1"
  },
  "orig_nbformat": 4
 },
 "nbformat": 4,
 "nbformat_minor": 2
}
