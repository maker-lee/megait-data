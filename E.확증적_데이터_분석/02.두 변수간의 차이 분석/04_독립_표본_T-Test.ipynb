{
 "cells": [
  {
   "cell_type": "markdown",
   "metadata": {},
   "source": [
    "# 독립 표본 t-검정 (이표본 검정, Independent two sample T-test)"
   ]
  },
  {
   "cell_type": "markdown",
   "metadata": {},
   "source": [
    "서로 다른 두 개의 그룹 간 평균의 차이가 유의미한지 여부를 판단\n",
    "- 두 모집단의 분산이 같음을 의미하는 등분산성을 만족해야 한다. 따라서 이 표본 검정을 수행하기 전에 등분산 검정(F검정)을 먼저 수행해야 한다. \n",
    "- 2개 집단간 평균값을 비교하는 검정"
   ]
  },
  {
   "cell_type": "code",
   "execution_count": 26,
   "metadata": {},
   "outputs": [],
   "source": [
    "from scipy import stats\n",
    "from pandas import read_excel\n",
    "from matplotlib import pyplot as plt\n",
    "import seaborn as sb"
   ]
  },
  {
   "cell_type": "markdown",
   "metadata": {},
   "source": [
    "### 02. 예제 1 - 지혈제 효과 비교\n",
    "\n",
    "총 14명이 실험에 참여했으며 두 그룹으로 임의 분할한 후 피부에 작은 상처를 내어 피가 흐르게 한 다음, 한 그룹에는 지혈제 B를, 다른 그룹에는 지혈제 G를 투여하여 완전히 지혈될 때 까지의 시간(분)을 측정하였다."
   ]
  },
  {
   "cell_type": "code",
   "execution_count": 27,
   "metadata": {},
   "outputs": [
    {
     "data": {
      "text/html": [
       "<div>\n",
       "<style scoped>\n",
       "    .dataframe tbody tr th:only-of-type {\n",
       "        vertical-align: middle;\n",
       "    }\n",
       "\n",
       "    .dataframe tbody tr th {\n",
       "        vertical-align: top;\n",
       "    }\n",
       "\n",
       "    .dataframe thead th {\n",
       "        text-align: right;\n",
       "    }\n",
       "</style>\n",
       "<table border=\"1\" class=\"dataframe\">\n",
       "  <thead>\n",
       "    <tr style=\"text-align: right;\">\n",
       "      <th></th>\n",
       "      <th>B</th>\n",
       "      <th>G</th>\n",
       "    </tr>\n",
       "  </thead>\n",
       "  <tbody>\n",
       "    <tr>\n",
       "      <th>0</th>\n",
       "      <td>8.80</td>\n",
       "      <td>9.9</td>\n",
       "    </tr>\n",
       "    <tr>\n",
       "      <th>1</th>\n",
       "      <td>8.40</td>\n",
       "      <td>9.0</td>\n",
       "    </tr>\n",
       "    <tr>\n",
       "      <th>2</th>\n",
       "      <td>7.90</td>\n",
       "      <td>11.1</td>\n",
       "    </tr>\n",
       "    <tr>\n",
       "      <th>3</th>\n",
       "      <td>8.70</td>\n",
       "      <td>9.6</td>\n",
       "    </tr>\n",
       "    <tr>\n",
       "      <th>4</th>\n",
       "      <td>9.10</td>\n",
       "      <td>8.7</td>\n",
       "    </tr>\n",
       "    <tr>\n",
       "      <th>5</th>\n",
       "      <td>9.60</td>\n",
       "      <td>10.4</td>\n",
       "    </tr>\n",
       "    <tr>\n",
       "      <th>6</th>\n",
       "      <td>8.75</td>\n",
       "      <td>9.5</td>\n",
       "    </tr>\n",
       "  </tbody>\n",
       "</table>\n",
       "</div>"
      ],
      "text/plain": [
       "      B     G\n",
       "0  8.80   9.9\n",
       "1  8.40   9.0\n",
       "2  7.90  11.1\n",
       "3  8.70   9.6\n",
       "4  9.10   8.7\n",
       "5  9.60  10.4\n",
       "6  8.75   9.5"
      ]
     },
     "execution_count": 27,
     "metadata": {},
     "output_type": "execute_result"
    }
   ],
   "source": [
    "df = read_excel('https://data.hossam.kr/E02/styptic.xlsx')\n",
    "df"
   ]
  },
  {
   "cell_type": "markdown",
   "metadata": {},
   "source": [
    "두 그룹의 분산 확인"
   ]
  },
  {
   "cell_type": "code",
   "execution_count": 28,
   "metadata": {},
   "outputs": [
    {
     "data": {
      "text/plain": [
       "(0.2824999999999997, 0.6695238095238097)"
      ]
     },
     "execution_count": 28,
     "metadata": {},
     "output_type": "execute_result"
    }
   ],
   "source": [
    "var1 = df['B'].var()\n",
    "var2 = df['G'].var()\n",
    "var1,var2\n",
    "# 분산이 다른걸 확인할 수 있다. (데이터 분포가 다름)"
   ]
  },
  {
   "cell_type": "markdown",
   "metadata": {},
   "source": [
    "커널 밀도 그래프"
   ]
  },
  {
   "cell_type": "code",
   "execution_count": 29,
   "metadata": {},
   "outputs": [
    {
     "data": {
      "image/png": "[encoded data removed]",
      "text/plain": [
       "<Figure size 1000x500 with 2 Axes>"
      ]
     },
     "metadata": {},
     "output_type": "display_data"
    },
    {
     "data": {
      "text/plain": [
       "<function matplotlib.pyplot.close(fig=None)>"
      ]
     },
     "execution_count": 29,
     "metadata": {},
     "output_type": "execute_result"
    }
   ],
   "source": [
    "bins = [7,8,9,10,11,12] # B,G 데이터 분포 \n",
    "\n",
    "fig, ax1 = plt.subplots(1,1,figsize=(10,5))\n",
    "ax2 = ax1.twinx()\n",
    "sb.histplot(data=df,x=\"B\",bins=bins, kde=True,ax=ax1,color='#ff6550')\n",
    "sb.histplot(data=df,x=\"G\",bins=bins, kde=True,ax=ax2,color='#006550')\n",
    "plt.show()\n",
    "plt.close\n",
    "# 두 그룹의 데이터 분포가 서로 다름이 확인된다. "
   ]
  },
  {
   "cell_type": "markdown",
   "metadata": {},
   "source": [
    "## T-Test 시행"
   ]
  },
  {
   "cell_type": "markdown",
   "metadata": {},
   "source": [
    "#### case 1 \n",
    "\n",
    "대립가설 : B를 사용한 그룹과 G를 사용한 그룹의 지혈 시간에는 차이가 있다.\n",
    "귀무가설 : B를 사용한 그룹과 G를 사용한 그룹의 지혈 시간에는 차이가 없다."
   ]
  },
  {
   "cell_type": "code",
   "execution_count": 30,
   "metadata": {},
   "outputs": [
    {
     "data": {
      "text/plain": [
       "TtestResult(statistic=-2.69222826574718, pvalue=0.01958895335130418, df=12.0)"
      ]
     },
     "execution_count": 30,
     "metadata": {},
     "output_type": "execute_result"
    }
   ],
   "source": [
    "stats.ttest_ind(df['B'],df['G'])  #기본값으로 시행 = 양쪽의 평균이 같은지 다른지 확인\n",
    "# 기본 파라미터로 사용시 `equal_var=True`, `alternative='two-sided'`로 설정됨"
   ]
  },
  {
   "cell_type": "markdown",
   "metadata": {},
   "source": [
    "결과 해석 \n",
    "\n",
    "p-value가 0.05보다 작으므로 (P < 0.05) 지혈제 B를 사용한 그룹과 G를 사용한 그룹간 평균 지혈시간에는 차이가 있다. "
   ]
  },
  {
   "cell_type": "markdown",
   "metadata": {},
   "source": [
    "#### case 2 - 공통 분산이 아님을 가정\n",
    "\n",
    "equal_var = False "
   ]
  },
  {
   "cell_type": "code",
   "execution_count": 31,
   "metadata": {},
   "outputs": [
    {
     "data": {
      "text/plain": [
       "TtestResult(statistic=-2.69222826574718, pvalue=0.022077570616415278, df=10.29809053849377)"
      ]
     },
     "execution_count": 31,
     "metadata": {},
     "output_type": "execute_result"
    }
   ],
   "source": [
    "stats.ttest_ind(df['B'],df['G'],equal_var=False, alternative='two-sided')\n",
    "# equal_var 두 집단의 분산이 같으면 True 아니면 False (True 디폴트) two-sided"
   ]
  },
  {
   "cell_type": "markdown",
   "metadata": {},
   "source": [
    "결과 해석 \n",
    "\n",
    "p-value가 0.05보다 작으므로 (P < 0.05) 지혈제 B를 사용한 그룹과 G를 사용한 그룹간 평균 지혈시간에는 차이가 있다. "
   ]
  },
  {
   "cell_type": "markdown",
   "metadata": {},
   "source": [
    "#### case 3 \n",
    "귀무가설 : 지혈제 B를 사용한 그룹의 평균 지혈시간이 G그룹보다 크지 않다. \n",
    "\n",
    "대립가설 : 지혈제 B를 사용한 그룹의 평균 지혈시간이 G그룹보다 크다."
   ]
  },
  {
   "cell_type": "code",
   "execution_count": 32,
   "metadata": {},
   "outputs": [
    {
     "data": {
      "text/plain": [
       "TtestResult(statistic=-2.69222826574718, pvalue=0.9889612146917923, df=10.29809053849377)"
      ]
     },
     "execution_count": 32,
     "metadata": {},
     "output_type": "execute_result"
    }
   ],
   "source": [
    "stats.ttest_ind(df['B'],df['G'],equal_var=False,alternative='greater')"
   ]
  },
  {
   "cell_type": "markdown",
   "metadata": {},
   "source": [
    "p-value가 0.05보다 크므로(P>0.05) 지혈제 B를 사용한 그룹의 평균지혈시간은 G를 사용한 그룹의 평균 지혈시간보다 크지 않다. "
   ]
  },
  {
   "cell_type": "markdown",
   "metadata": {},
   "source": [
    "#### case 4 \n",
    "귀무가설 : 지혈제 B를 사용한 그룹의 평균 지혈시간이 G그룹보다 작지 않다. \n",
    "\n",
    "대립가설 : 지혈제 B를 사용한 그룹의 평균 지혈시간이 G그룹보다 작다."
   ]
  },
  {
   "cell_type": "code",
   "execution_count": 33,
   "metadata": {},
   "outputs": [
    {
     "data": {
      "text/plain": [
       "TtestResult(statistic=-2.69222826574718, pvalue=0.011038785308207639, df=10.29809053849377)"
      ]
     },
     "execution_count": 33,
     "metadata": {},
     "output_type": "execute_result"
    }
   ],
   "source": [
    "stats.ttest_ind(df['B'],df['G'],equal_var=False,alternative='less')"
   ]
  },
  {
   "cell_type": "markdown",
   "metadata": {},
   "source": [
    "p-value가 0.05보다 작으므롤(P>0.05) 지혈제 B를 사용한 그룹의 평균지혈시간은 G를 사용한 그룹의 평균 지혈시간보다 작다."
   ]
  },
  {
   "cell_type": "markdown",
   "metadata": {},
   "source": [
    "## #03. 예제(2) - 인공심장 효과 측정\n",
    "\n",
    "자료는 두 독립적인 그룹의 심장병 환자에 대한 심장계수(cardiac index)를 측정한 것이다.\n",
    "\n",
    "그룹 1은 심장수술을 받고 부착한 인공장기의 기능이 정상적인 사람들이고,\n",
    "\n",
    "그룹 2는 비정상으로 판명된 사람들이다.\n",
    "\n",
    "심장계수는 수술 직후에 측정하였다.\n",
    "\n",
    "이 두 그룹의 환자에게 부착한 인공장기의 기능에 따라 심장계수가 서로 차이가 나는지 알고 싶은 것이 이 실험의 목적이다.\n",
    "\n",
    "(단, 두 그룹은 공통분산 가정에 어긋난다고 가정한다.)"
   ]
  },
  {
   "cell_type": "code",
   "execution_count": 34,
   "metadata": {},
   "outputs": [
    {
     "data": {
      "text/html": [
       "<div>\n",
       "<style scoped>\n",
       "    .dataframe tbody tr th:only-of-type {\n",
       "        vertical-align: middle;\n",
       "    }\n",
       "\n",
       "    .dataframe tbody tr th {\n",
       "        vertical-align: top;\n",
       "    }\n",
       "\n",
       "    .dataframe thead th {\n",
       "        text-align: right;\n",
       "    }\n",
       "</style>\n",
       "<table border=\"1\" class=\"dataframe\">\n",
       "  <thead>\n",
       "    <tr style=\"text-align: right;\">\n",
       "      <th></th>\n",
       "      <th>그룹1</th>\n",
       "      <th>그룹2</th>\n",
       "    </tr>\n",
       "  </thead>\n",
       "  <tbody>\n",
       "    <tr>\n",
       "      <th>0</th>\n",
       "      <td>3.84</td>\n",
       "      <td>3.97</td>\n",
       "    </tr>\n",
       "    <tr>\n",
       "      <th>1</th>\n",
       "      <td>2.60</td>\n",
       "      <td>2.50</td>\n",
       "    </tr>\n",
       "    <tr>\n",
       "      <th>2</th>\n",
       "      <td>1.19</td>\n",
       "      <td>2.70</td>\n",
       "    </tr>\n",
       "    <tr>\n",
       "      <th>3</th>\n",
       "      <td>2.00</td>\n",
       "      <td>3.36</td>\n",
       "    </tr>\n",
       "    <tr>\n",
       "      <th>4</th>\n",
       "      <td>6.20</td>\n",
       "      <td>3.55</td>\n",
       "    </tr>\n",
       "    <tr>\n",
       "      <th>5</th>\n",
       "      <td>0.96</td>\n",
       "      <td>2.97</td>\n",
       "    </tr>\n",
       "    <tr>\n",
       "      <th>6</th>\n",
       "      <td>5.50</td>\n",
       "      <td>3.20</td>\n",
       "    </tr>\n",
       "    <tr>\n",
       "      <th>7</th>\n",
       "      <td>3.18</td>\n",
       "      <td>2.30</td>\n",
       "    </tr>\n",
       "  </tbody>\n",
       "</table>\n",
       "</div>"
      ],
      "text/plain": [
       "    그룹1   그룹2\n",
       "0  3.84  3.97\n",
       "1  2.60  2.50\n",
       "2  1.19  2.70\n",
       "3  2.00  3.36\n",
       "4  6.20  3.55\n",
       "5  0.96  2.97\n",
       "6  5.50  3.20\n",
       "7  3.18  2.30"
      ]
     },
     "execution_count": 34,
     "metadata": {},
     "output_type": "execute_result"
    }
   ],
   "source": [
    "df = read_excel(\"https://data.hossam.kr/E02/heatrate.xlsx\")\n",
    "df"
   ]
  },
  {
   "cell_type": "markdown",
   "metadata": {},
   "source": [
    "case 1\n",
    "\n",
    "두 그룹간 심장 계수의 차이가 있는지 검정\n",
    "\n",
    "귀무가설 : 두 그룹간 심장계수에는 차이가 없다. \n",
    "대립가설 : 두 그룹간 심장계수에는 차이가 있다."
   ]
  },
  {
   "cell_type": "code",
   "execution_count": 35,
   "metadata": {},
   "outputs": [
    {
     "data": {
      "text/plain": [
       "TtestResult(statistic=0.16333115041045673, pvalue=0.8742117697901691, df=8.19961125071249)"
      ]
     },
     "execution_count": 35,
     "metadata": {},
     "output_type": "execute_result"
    }
   ],
   "source": [
    "stats.ttest_ind(df['그룹1'],df['그룹2'],equal_var=False,alternative='two-sided')"
   ]
  },
  {
   "cell_type": "markdown",
   "metadata": {},
   "source": [
    "결과 해석\n",
    "\n",
    "p-value값이 0.05보다 크므로(p>0.05) 귀무가설을 기각할 수 없다. 다시 말해서 가설 검정의 결과는 두 그룹의 심장계수가 같지 않다고 판단할 근거가 될 수 없다.  "
   ]
  },
  {
   "cell_type": "markdown",
   "metadata": {},
   "source": [
    "case 3\n",
    "귀무가설 : 그룹 1의 심장계수가 그룹2의 심장계수보다 크지 않다. \n",
    "대립가설 : 그룹 1의 심장계수가 그룹2의 심장계수보다 크다\n"
   ]
  },
  {
   "cell_type": "code",
   "execution_count": 36,
   "metadata": {},
   "outputs": [
    {
     "data": {
      "text/plain": [
       "TtestResult(statistic=0.16333115041045673, pvalue=0.43710588489508456, df=8.19961125071249)"
      ]
     },
     "execution_count": 36,
     "metadata": {},
     "output_type": "execute_result"
    }
   ],
   "source": [
    "stats.ttest_ind(df['그룹1'],df['그룹2'],equal_var=False,alternative='greater')"
   ]
  },
  {
   "cell_type": "markdown",
   "metadata": {},
   "source": [
    "결과 해석\n",
    "p-value가 0.05보다 크므로 (P>0.05) 귀무가설을 기각할 수 없다. "
   ]
  }
 ],
 "metadata": {
  "kernelspec": {
   "display_name": "Python 3",
   "language": "python",
   "name": "python3"
  },
  "language_info": {
   "codemirror_mode": {
    "name": "ipython",
    "version": 3
   },
   "file_extension": ".py",
   "mimetype": "text/x-python",
   "name": "python",
   "nbconvert_exporter": "python",
   "pygments_lexer": "ipython3",
   "version": "3.11.1"
  },
  "orig_nbformat": 4
 },
 "nbformat": 4,
 "nbformat_minor": 2
}
