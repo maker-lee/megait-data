{
 "cells": [
  {
   "cell_type": "markdown",
   "metadata": {},
   "source": [
    "# 연습문제 (3) - 분산분석"
   ]
  },
  {
   "cell_type": "code",
   "execution_count": 9,
   "metadata": {},
   "outputs": [],
   "source": [
    "from pandas import read_excel\n",
    "from scipy.stats import f_oneway\n",
    "from matplotlib import pyplot as plt\n",
    "from pandas import read_excel, melt\n",
    "from scipy.stats import shapiro, normaltest, ks_2samp, bartlett, fligner, levene, f_oneway, chi2_contingency\n",
    "from statsmodels.formula.api import ols\n",
    "from statsmodels.stats.anova import anova_lm\n",
    "import sys\n",
    "import os\n",
    "import seaborn as sb\n",
    "from pandas import DataFrame, read_excel, merge, concat\n",
    "sys.path.append(os.path.dirname(os.path.dirname(os.getcwd())))\n",
    "from helper import allTest #independence_test, equal_variance_test, normality_test"
   ]
  },
  {
   "cell_type": "code",
   "execution_count": 13,
   "metadata": {},
   "outputs": [
    {
     "data": {
      "text/html": [
       "<div>\n",
       "<style scoped>\n",
       "    .dataframe tbody tr th:only-of-type {\n",
       "        vertical-align: middle;\n",
       "    }\n",
       "\n",
       "    .dataframe tbody tr th {\n",
       "        vertical-align: top;\n",
       "    }\n",
       "\n",
       "    .dataframe thead th {\n",
       "        text-align: right;\n",
       "    }\n",
       "</style>\n",
       "<table border=\"1\" class=\"dataframe\">\n",
       "  <thead>\n",
       "    <tr style=\"text-align: right;\">\n",
       "      <th></th>\n",
       "      <th>가처분소득</th>\n",
       "      <th>태어난 연도</th>\n",
       "      <th>집의 가격</th>\n",
       "      <th>교육비-공교육비</th>\n",
       "      <th>교육비-사교육비</th>\n",
       "      <th>자녀수</th>\n",
       "      <th>피복신발비</th>\n",
       "      <th>보건의료비</th>\n",
       "      <th>교양오락비</th>\n",
       "      <th>교통비</th>\n",
       "      <th>통신비</th>\n",
       "      <th>식료품비_합산</th>\n",
       "      <th>광열수도비_합산</th>\n",
       "    </tr>\n",
       "  </thead>\n",
       "  <tbody>\n",
       "    <tr>\n",
       "      <th>0</th>\n",
       "      <td>5958.0</td>\n",
       "      <td>1978</td>\n",
       "      <td>21000</td>\n",
       "      <td>88.0</td>\n",
       "      <td>67.0</td>\n",
       "      <td>1</td>\n",
       "      <td>17.0</td>\n",
       "      <td>34.0</td>\n",
       "      <td>20.0</td>\n",
       "      <td>51.0</td>\n",
       "      <td>25</td>\n",
       "      <td>120</td>\n",
       "      <td>33</td>\n",
       "    </tr>\n",
       "    <tr>\n",
       "      <th>1</th>\n",
       "      <td>1969.0</td>\n",
       "      <td>1961</td>\n",
       "      <td>25000</td>\n",
       "      <td>0.0</td>\n",
       "      <td>0.0</td>\n",
       "      <td>1</td>\n",
       "      <td>2.0</td>\n",
       "      <td>12.0</td>\n",
       "      <td>0.3</td>\n",
       "      <td>3.0</td>\n",
       "      <td>10</td>\n",
       "      <td>90</td>\n",
       "      <td>23</td>\n",
       "    </tr>\n",
       "    <tr>\n",
       "      <th>2</th>\n",
       "      <td>3406.0</td>\n",
       "      <td>1984</td>\n",
       "      <td>100000</td>\n",
       "      <td>0.0</td>\n",
       "      <td>0.0</td>\n",
       "      <td>1</td>\n",
       "      <td>3.0</td>\n",
       "      <td>5.0</td>\n",
       "      <td>1.0</td>\n",
       "      <td>5.0</td>\n",
       "      <td>7</td>\n",
       "      <td>81</td>\n",
       "      <td>17</td>\n",
       "    </tr>\n",
       "    <tr>\n",
       "      <th>3</th>\n",
       "      <td>7586.0</td>\n",
       "      <td>1972</td>\n",
       "      <td>17000</td>\n",
       "      <td>3.0</td>\n",
       "      <td>10.0</td>\n",
       "      <td>2</td>\n",
       "      <td>45.0</td>\n",
       "      <td>20.0</td>\n",
       "      <td>27.0</td>\n",
       "      <td>26.0</td>\n",
       "      <td>19</td>\n",
       "      <td>118</td>\n",
       "      <td>18</td>\n",
       "    </tr>\n",
       "    <tr>\n",
       "      <th>4</th>\n",
       "      <td>4494.0</td>\n",
       "      <td>1976</td>\n",
       "      <td>2500</td>\n",
       "      <td>0.0</td>\n",
       "      <td>42.0</td>\n",
       "      <td>2</td>\n",
       "      <td>3.0</td>\n",
       "      <td>12.0</td>\n",
       "      <td>2.0</td>\n",
       "      <td>16.0</td>\n",
       "      <td>18</td>\n",
       "      <td>128</td>\n",
       "      <td>14</td>\n",
       "    </tr>\n",
       "  </tbody>\n",
       "</table>\n",
       "</div>"
      ],
      "text/plain": [
       "    가처분소득  태어난 연도   집의 가격  교육비-공교육비  교육비-사교육비  자녀수  피복신발비  보건의료비  교양오락비   교통비  \\\n",
       "0  5958.0    1978   21000      88.0      67.0    1   17.0   34.0   20.0  51.0   \n",
       "1  1969.0    1961   25000       0.0       0.0    1    2.0   12.0    0.3   3.0   \n",
       "2  3406.0    1984  100000       0.0       0.0    1    3.0    5.0    1.0   5.0   \n",
       "3  7586.0    1972   17000       3.0      10.0    2   45.0   20.0   27.0  26.0   \n",
       "4  4494.0    1976    2500       0.0      42.0    2    3.0   12.0    2.0  16.0   \n",
       "\n",
       "   통신비  식료품비_합산  광열수도비_합산  \n",
       "0   25      120        33  \n",
       "1   10       90        23  \n",
       "2    7       81        17  \n",
       "3   19      118        18  \n",
       "4   18      128        14  "
      ]
     },
     "execution_count": 13,
     "metadata": {},
     "output_type": "execute_result"
    }
   ],
   "source": [
    "# 데이터 불러오기\n",
    "df = read_excel(\"D:\\\\이지선\\\\project\\\\semi_project3\\\\한국복지패널_17차.xlsx\")\n",
    "\n",
    "df.head()"
   ]
  },
  {
   "cell_type": "code",
   "execution_count": 14,
   "metadata": {},
   "outputs": [
    {
     "data": {
      "text/plain": [
       "Index(['가처분소득', '태어난 연도', '집의 가격', '교육비-공교육비', '교육비-사교육비', '자녀수', '피복신발비',\n",
       "       '보건의료비', '교양오락비', '교통비', '통신비', '식료품비_합산', '광열수도비_합산'],\n",
       "      dtype='object')"
      ]
     },
     "execution_count": 14,
     "metadata": {},
     "output_type": "execute_result"
    }
   ],
   "source": [
    "df.columns\n"
   ]
  },
  {
   "cell_type": "code",
   "execution_count": 15,
   "metadata": {},
   "outputs": [
    {
     "data": {
      "text/plain": [
       "가처분소득       float64\n",
       "태어난 연도        int64\n",
       "집의 가격         int64\n",
       "교육비-공교육비    float64\n",
       "교육비-사교육비    float64\n",
       "자녀수           int64\n",
       "피복신발비       float64\n",
       "보건의료비       float64\n",
       "교양오락비       float64\n",
       "교통비         float64\n",
       "통신비           int64\n",
       "식료품비_합산       int64\n",
       "광열수도비_합산      int64\n",
       "dtype: object"
      ]
     },
     "execution_count": 15,
     "metadata": {},
     "output_type": "execute_result"
    }
   ],
   "source": [
    "df.dtypes"
   ]
  },
  {
   "cell_type": "code",
   "execution_count": 21,
   "metadata": {},
   "outputs": [
    {
     "data": {
      "text/plain": [
       "(0.8515163660049438, 6.458034523863771e-35)"
      ]
     },
     "execution_count": 21,
     "metadata": {},
     "output_type": "execute_result"
    }
   ],
   "source": [
    "_, p_value = shapiro(df['가처분소득'])\n",
    "_, p_value"
   ]
  },
  {
   "cell_type": "code",
   "execution_count": 19,
   "metadata": {},
   "outputs": [
    {
     "ename": "SyntaxError",
     "evalue": "incomplete input (455182795.py, line 8)",
     "output_type": "error",
     "traceback": [
      "\u001b[1;36m  Cell \u001b[1;32mIn[19], line 8\u001b[1;36m\u001b[0m\n\u001b[1;33m    #print(f\"{column}: 데이터는 정규 분포를 따르지 않을 가능성이 있습니다.\")\u001b[0m\n\u001b[1;37m                                                      ^\u001b[0m\n\u001b[1;31mSyntaxError\u001b[0m\u001b[1;31m:\u001b[0m incomplete input\n"
     ]
    }
   ],
   "source": [
    "alpha = 0.05\n",
    "for column in df.columns:\n",
    "    _, p_value = shapiro(df[column])\n",
    "    \n",
    "    if p_value > alpha:\n",
    "        print(f\"{column}: 데이터는 정규 분포를 따를 가능성이 있습니다.\")\n",
    "    else:\n",
    "        #print(f\"{column}: 데이터는 정규 분포를 따르지 않을 가능성이 있습니다.\")"
   ]
  },
  {
   "cell_type": "markdown",
   "metadata": {},
   "source": [
    "p-value가 0.05보다 크므로 귀무가설을 기각할 수 없다. 즉, 통계적으로 유의미한 차이는 발견하지 못했다. "
   ]
  },
  {
   "cell_type": "code",
   "execution_count": null,
   "metadata": {},
   "outputs": [],
   "source": []
  },
  {
   "cell_type": "code",
   "execution_count": null,
   "metadata": {},
   "outputs": [],
   "source": []
  },
  {
   "cell_type": "code",
   "execution_count": null,
   "metadata": {},
   "outputs": [],
   "source": []
  },
  {
   "cell_type": "code",
   "execution_count": null,
   "metadata": {},
   "outputs": [],
   "source": []
  },
  {
   "cell_type": "code",
   "execution_count": null,
   "metadata": {},
   "outputs": [],
   "source": []
  },
  {
   "cell_type": "markdown",
   "metadata": {},
   "source": [
    "`p-value`가 0.05보다 작으므로 귀무가설을 기각, 토마토 모종 성장에 차이가 발생하는 통계적으로 유의미한 결과가 나옴."
   ]
  },
  {
   "cell_type": "markdown",
   "metadata": {},
   "source": [
    "## 문제 3\n",
    "\n",
    "두 가지 교육방법을 비교하기 위하여 능력이 비슷한 고등학교 학생 22명을 추출하고, 11명씩 두 집단으로 나누어 한 학기 동안 각각의 교육방법으로 교육시킨 후 치른 학기말 시험 성적이 다음과 같다.\n",
    "\n",
    "이 자료를 이용하여 두 가지 교육방법에 대한 국어와 영어의 효과가 서로 다르다고 할 수 있는지 검정하라. (분석 목적에 맞는 데이터 재배치 과정이 필요합니다.)\n",
    "\n",
    "![res/q33.png](res/q33.png)\n",
    "\n",
    "> https://data.hossam.kr/E02/edu.xlsx"
   ]
  },
  {
   "cell_type": "markdown",
   "metadata": {},
   "source": [
    "### 이원분산분석"
   ]
  },
  {
   "cell_type": "code",
   "execution_count": null,
   "metadata": {},
   "outputs": [],
   "source": [
    "교육 = read_excel(\"https://data.hossam.kr/E02/edu.xlsx\")\n",
    "교육"
   ]
  },
  {
   "cell_type": "code",
   "execution_count": null,
   "metadata": {},
   "outputs": [],
   "source": [
    "교육.melt(id_vars='교육방법')"
   ]
  },
  {
   "cell_type": "markdown",
   "metadata": {},
   "source": [
    "### 정답풀이"
   ]
  },
  {
   "cell_type": "markdown",
   "metadata": {},
   "source": [
    "교육방법에 따라 국어와 영어의 상관을 알아내는게 문제"
   ]
  },
  {
   "cell_type": "code",
   "execution_count": null,
   "metadata": {},
   "outputs": [],
   "source": [
    "교육_국어 = 교육.filter(['교육방법','국어'])\n",
    "교육_국어['교과목'] = '국어'\n",
    "교육_국어.columns=['교육방법','점수','교과목']\n",
    "# 교육_국어.rename(columns={'국어':'점수},inplace=True)\n",
    "교육_국어"
   ]
  },
  {
   "cell_type": "code",
   "execution_count": null,
   "metadata": {},
   "outputs": [],
   "source": [
    "교육_영어 = 교육.filter(['교육방법','영어'])\n",
    "교육_영어['교과목'] = '영어'\n",
    "교육_영어.columns=['교육방법','점수','교과목']\n",
    "교육_영어"
   ]
  },
  {
   "cell_type": "code",
   "execution_count": null,
   "metadata": {},
   "outputs": [],
   "source": [
    "교육_가공=concat([교육_국어,교육_영어])\n",
    "교육_가공"
   ]
  },
  {
   "cell_type": "code",
   "execution_count": null,
   "metadata": {},
   "outputs": [],
   "source": [
    "교육_가공['교과목'] = 교육_가공['교과목'].map({'국어': 1, '영어': 2})\n",
    "df3 = 교육_가공.copy()\n",
    "df3"
   ]
  },
  {
   "cell_type": "code",
   "execution_count": null,
   "metadata": {},
   "outputs": [],
   "source": [
    "formula = '점수 ~ C(교육방법) * C(교과목)'\n",
    "lm = ols(formula, 교육_가공).fit()\n",
    "anova = anova_lm(lm)\n",
    "anova"
   ]
  },
  {
   "cell_type": "markdown",
   "metadata": {},
   "source": [
    "교육방법에 따라 유의미한 차이는 없다. "
   ]
  }
 ],
 "metadata": {
  "kernelspec": {
   "display_name": "Python 3",
   "language": "python",
   "name": "python3"
  },
  "language_info": {
   "codemirror_mode": {
    "name": "ipython",
    "version": 3
   },
   "file_extension": ".py",
   "mimetype": "text/x-python",
   "name": "python",
   "nbconvert_exporter": "python",
   "pygments_lexer": "ipython3",
   "version": "3.11.4"
  },
  "orig_nbformat": 4
 },
 "nbformat": 4,
 "nbformat_minor": 2
}
