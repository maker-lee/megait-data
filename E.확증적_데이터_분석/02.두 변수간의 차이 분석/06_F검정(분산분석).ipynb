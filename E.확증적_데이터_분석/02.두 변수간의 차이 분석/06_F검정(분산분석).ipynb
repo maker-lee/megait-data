{
 "cells": [
  {
   "cell_type": "markdown",
   "metadata": {},
   "source": [
    "# F검정 (분산분석) ANOVA\n",
    "\n",
    "\n",
    "분산 분석을 수행하기 위해서는 3개의 가정 사항을 필요로 한다.\n",
    "1) 정규성 : 각 집단의 표본들은 정규 분포를 따라야 한다.\n",
    "2) 등분산성 : 각 집단은 동일한 분산울 가져야 한다.\n",
    "3) 독립성 : 각 집단은 서로에게 영향을 주지 않는다.\n",
    "\n",
    "\n",
    "## 통계분석의 주요 검정 기법\n",
    "\n",
    "| 기법 | 설명 |\n",
    "|---|---|\n",
    "| 독립표본 t검정 | 독립된 두 그룹의 평균비교(정규분포 가정이 가능할 때) |\n",
    "| 대응표본 t검정 | 쌍을 이룬 두 그룹의 평균비교(정규분포 가정이 가능할 때) |\n",
    "| 분산분석 | 세 그룹의 평균 비교 (정규분포 가정이 가능할 때) |\n",
    "| 상관분석 | 두 수치형 변수 사이의 상관관계 유무와 강도 계산 |\n",
    "| 회귀분석 | 종속변수와 독립변수의 관계를 모델링 |\n",
    "\n",
    "## F검정의 이해\n",
    "\n",
    "분산을 비교할 때 사용\n",
    "\n",
    "세 개 이상의 집단의 평균을 분석 할 때, 두 집단씩 여러번 `t검정`을 수행하게 되면 신뢰도가 급격히 감소한다. 분산 분석은 이러한 현상이 발생하지 않는다.\n",
    "\n",
    "\n",
    "### 분산\n",
    "\n",
    "- 데이터의 변동 정도를 의미하는 지표\n",
    "- 편차의 제곱에 대한 평균\n",
    "- 분산이 크다 --> 데이터의 산포도가 크다 (데이터가 넓게 펴져있음)\n",
    "\n",
    "### F검정의 가설\n",
    "\n",
    "F 검정은 귀무가설과 대립가설이 고정되어 있다. (분석가가 세우는게 아님)\n",
    "| 가설 | 설명 | 식 |\n",
    "|--|--|--|\n",
    "| 귀무가설 | 데이터간의 분산이 같다 | $H_0 : \\sigma_1 = \\sigma_2$\n",
    "| 대립가설 | 데이터간의 분산이 같지 않다 | $H_0 : \\sigma_1 \\neq \\sigma_2$\n",
    "\n",
    "## #01. 작업 준비\n",
    "\n",
    "### 패키지 가져오기"
   ]
  },
  {
   "cell_type": "code",
   "execution_count": 1,
   "metadata": {},
   "outputs": [],
   "source": [
    "from pandas import read_excel\n",
    "from scipy.stats import f_oneway"
   ]
  },
  {
   "cell_type": "markdown",
   "metadata": {},
   "source": [
    "### 데이터 가져오기\n",
    "\n",
    "어떤 지역에서 동일한 제품을 판매하고 있는 두 가게에 대한 일별 매출액"
   ]
  },
  {
   "cell_type": "code",
   "execution_count": 2,
   "metadata": {},
   "outputs": [
    {
     "data": {
      "text/html": [
       "<div>\n",
       "<style scoped>\n",
       "    .dataframe tbody tr th:only-of-type {\n",
       "        vertical-align: middle;\n",
       "    }\n",
       "\n",
       "    .dataframe tbody tr th {\n",
       "        vertical-align: top;\n",
       "    }\n",
       "\n",
       "    .dataframe thead th {\n",
       "        text-align: right;\n",
       "    }\n",
       "</style>\n",
       "<table border=\"1\" class=\"dataframe\">\n",
       "  <thead>\n",
       "    <tr style=\"text-align: right;\">\n",
       "      <th></th>\n",
       "      <th>store1</th>\n",
       "      <th>store2</th>\n",
       "    </tr>\n",
       "  </thead>\n",
       "  <tbody>\n",
       "    <tr>\n",
       "      <th>0</th>\n",
       "      <td>46</td>\n",
       "      <td>78</td>\n",
       "    </tr>\n",
       "    <tr>\n",
       "      <th>1</th>\n",
       "      <td>47</td>\n",
       "      <td>57</td>\n",
       "    </tr>\n",
       "    <tr>\n",
       "      <th>2</th>\n",
       "      <td>58</td>\n",
       "      <td>31</td>\n",
       "    </tr>\n",
       "    <tr>\n",
       "      <th>3</th>\n",
       "      <td>47</td>\n",
       "      <td>28</td>\n",
       "    </tr>\n",
       "    <tr>\n",
       "      <th>4</th>\n",
       "      <td>27</td>\n",
       "      <td>67</td>\n",
       "    </tr>\n",
       "    <tr>\n",
       "      <th>5</th>\n",
       "      <td>58</td>\n",
       "      <td>77</td>\n",
       "    </tr>\n",
       "    <tr>\n",
       "      <th>6</th>\n",
       "      <td>56</td>\n",
       "      <td>36</td>\n",
       "    </tr>\n",
       "    <tr>\n",
       "      <th>7</th>\n",
       "      <td>26</td>\n",
       "      <td>57</td>\n",
       "    </tr>\n",
       "    <tr>\n",
       "      <th>8</th>\n",
       "      <td>47</td>\n",
       "      <td>36</td>\n",
       "    </tr>\n",
       "    <tr>\n",
       "      <th>9</th>\n",
       "      <td>25</td>\n",
       "      <td>57</td>\n",
       "    </tr>\n",
       "  </tbody>\n",
       "</table>\n",
       "</div>"
      ],
      "text/plain": [
       "   store1  store2\n",
       "0      46      78\n",
       "1      47      57\n",
       "2      58      31\n",
       "3      47      28\n",
       "4      27      67\n",
       "5      58      77\n",
       "6      56      36\n",
       "7      26      57\n",
       "8      47      36\n",
       "9      25      57"
      ]
     },
     "execution_count": 2,
     "metadata": {},
     "output_type": "execute_result"
    }
   ],
   "source": [
    "df = read_excel(\"https://data.hossam.kr/E02/store.xlsx\")\n",
    "df"
   ]
  },
  {
   "cell_type": "markdown",
   "metadata": {},
   "source": [
    "## #02. 분산분석 시행"
   ]
  },
  {
   "cell_type": "code",
   "execution_count": 3,
   "metadata": {},
   "outputs": [
    {
     "data": {
      "text/plain": [
       "F_onewayResult(statistic=1.4591624718860445, pvalue=0.24269553293319623)"
      ]
     },
     "execution_count": 3,
     "metadata": {},
     "output_type": "execute_result"
    }
   ],
   "source": [
    "f_oneway(df['store1'], df['store2']) # 여러개면 이 뒤로 ,찍고 columns를 늘리면 된다. "
   ]
  },
  {
   "cell_type": "markdown",
   "metadata": {},
   "source": [
    "### 해석\n",
    "\n",
    "`p-value`가 0.05보다 크므로 귀무가설을 기각할 수 없다.\n",
    "\n",
    "즉, 두 가게의 일별 매출 분산은 같다."
   ]
  }
 ],
 "metadata": {
  "kernelspec": {
   "display_name": "Python 3",
   "language": "python",
   "name": "python3"
  },
  "language_info": {
   "codemirror_mode": {
    "name": "ipython",
    "version": 3
   },
   "file_extension": ".py",
   "mimetype": "text/x-python",
   "name": "python",
   "nbconvert_exporter": "python",
   "pygments_lexer": "ipython3",
   "version": "3.11.4"
  },
  "orig_nbformat": 4
 },
 "nbformat": 4,
 "nbformat_minor": 2
}
