{
 "cells": [
  {
   "cell_type": "markdown",
   "metadata": {},
   "source": [
    "# One-way ANOVA (일원분산분석)"
   ]
  },
  {
   "cell_type": "markdown",
   "metadata": {},
   "source": [
    "셋 이상의 집단 간 평균을 비교하는 상황에서 하나의 집단에 속하는 독립변수와 종속변수 모두 한 개일 때 사용한다. \n",
    "\n",
    "\n",
    "분산 분석을 수행하기 위해서는 3개의 가정 사항을 필요로 한다.\n",
    "1) 정규성 : 각 집단의 표본들은 정규 분포를 따라야 한다.\n",
    "2) 등분산성 : 각 집단은 동일한 분산ㅇ르 가져야 한다.\n",
    "3) 독립성 : 각 집단은 서로에게 영향을 주지 않는다.\n",
    "\n",
    "\n",
    "\n",
    "\n",
    "ex) 연령대별 유튜브 시청시간의 차이\n",
    "독립변수 : 청소년, 성인, 노인\n",
    "종속변수 : 1시간, 20분, 10분... \n",
    "\n",
    "\n",
    "귀무가설 : 차이는 없다\n",
    "\n",
    "대립가설 : 차이는 있다\n",
    "-> 정규분포를 따라야 다음 분석을 진행할 수 있으므로 귀무가설이 채택되어야 한다. (p-value가 높아야함 )"
   ]
  },
  {
   "cell_type": "markdown",
   "metadata": {},
   "source": [
    "등분산성 검정 결과 : equal_var \n",
    "등분산성 : 두 모집단의 분산이 같음. 집단간 평균값을 비교할때 집단끼리 분산이 동일하다고 가정함. "
   ]
  },
  {
   "cell_type": "code",
   "execution_count": 1,
   "metadata": {},
   "outputs": [],
   "source": [
    "from pandas import read_excel, melt\n",
    "from scipy.stats import shapiro, normaltest, ks_2samp, bartlett, fligner, levene, f_oneway, chi2_contingency\n",
    "from statsmodels.formula.api import ols\n",
    "from statsmodels.stats.anova import anova_lm\n",
    "import sys\n",
    "import os\n",
    "\n",
    "sys.path.append(os.path.dirname(os.path.dirname(os.getcwd())))\n",
    "from helper import equal_variance_test"
   ]
  },
  {
   "cell_type": "markdown",
   "metadata": {},
   "source": [
    "### 데이터 가져오기\n",
    "\n",
    "어떤 지역에서 동일한 제품을 판매하고 있는 두 가게에 대한 일별 매출액"
   ]
  },
  {
   "cell_type": "code",
   "execution_count": 2,
   "metadata": {},
   "outputs": [
    {
     "data": {
      "text/html": [
       "<div>\n",
       "<style scoped>\n",
       "    .dataframe tbody tr th:only-of-type {\n",
       "        vertical-align: middle;\n",
       "    }\n",
       "\n",
       "    .dataframe tbody tr th {\n",
       "        vertical-align: top;\n",
       "    }\n",
       "\n",
       "    .dataframe thead th {\n",
       "        text-align: right;\n",
       "    }\n",
       "</style>\n",
       "<table border=\"1\" class=\"dataframe\">\n",
       "  <thead>\n",
       "    <tr style=\"text-align: right;\">\n",
       "      <th></th>\n",
       "      <th>store1</th>\n",
       "      <th>store2</th>\n",
       "    </tr>\n",
       "  </thead>\n",
       "  <tbody>\n",
       "    <tr>\n",
       "      <th>0</th>\n",
       "      <td>46</td>\n",
       "      <td>78</td>\n",
       "    </tr>\n",
       "    <tr>\n",
       "      <th>1</th>\n",
       "      <td>47</td>\n",
       "      <td>57</td>\n",
       "    </tr>\n",
       "    <tr>\n",
       "      <th>2</th>\n",
       "      <td>58</td>\n",
       "      <td>31</td>\n",
       "    </tr>\n",
       "    <tr>\n",
       "      <th>3</th>\n",
       "      <td>47</td>\n",
       "      <td>28</td>\n",
       "    </tr>\n",
       "    <tr>\n",
       "      <th>4</th>\n",
       "      <td>27</td>\n",
       "      <td>67</td>\n",
       "    </tr>\n",
       "    <tr>\n",
       "      <th>5</th>\n",
       "      <td>58</td>\n",
       "      <td>77</td>\n",
       "    </tr>\n",
       "    <tr>\n",
       "      <th>6</th>\n",
       "      <td>56</td>\n",
       "      <td>36</td>\n",
       "    </tr>\n",
       "    <tr>\n",
       "      <th>7</th>\n",
       "      <td>26</td>\n",
       "      <td>57</td>\n",
       "    </tr>\n",
       "    <tr>\n",
       "      <th>8</th>\n",
       "      <td>47</td>\n",
       "      <td>36</td>\n",
       "    </tr>\n",
       "    <tr>\n",
       "      <th>9</th>\n",
       "      <td>25</td>\n",
       "      <td>57</td>\n",
       "    </tr>\n",
       "  </tbody>\n",
       "</table>\n",
       "</div>"
      ],
      "text/plain": [
       "   store1  store2\n",
       "0      46      78\n",
       "1      47      57\n",
       "2      58      31\n",
       "3      47      28\n",
       "4      27      67\n",
       "5      58      77\n",
       "6      56      36\n",
       "7      26      57\n",
       "8      47      36\n",
       "9      25      57"
      ]
     },
     "execution_count": 2,
     "metadata": {},
     "output_type": "execute_result"
    }
   ],
   "source": [
    "df = read_excel(\"https://data.hossam.kr/E02/store.xlsx\")\n",
    "df"
   ]
  },
  {
   "cell_type": "markdown",
   "metadata": {},
   "source": [
    "## #02. 분산분석의 조건 충족 여부 검사\n",
    "\n",
    "모수 검정에서는 각 집단의 데이터에 정규성이 있어야 한다. 정규성을 조사하는 방법에는 가설검정으로 조사하는 샤피로-윌크 검정, 이론적인 분포와 비교하는 콜모고로프-스미르노트 검정이 있다. 2개 집단이 있을 때 먼저 각 집단의 정규성을 조사하는 검정을 실시하고 그 다음 T검정을 이용하게 되므로 데이터가 정규분포에서 얻어졌는지 여부를 조사하긴 해야 한다. \n",
    "\n",
    "### 1. 데이터의 정규성 검정\n",
    "\n",
    "#### 1) shapiro wilk 검정\n",
    "\n",
    "샘플의 수가 적을 때 정규성을 확인하는 검정\n",
    "\n",
    "(샘플의 수가 대략 50개 미만인 경우, 중심극한 정리는 30개 미만을 권장하기도 함)\n",
    "\n",
    "| 가설 | 내용 |\n",
    "|---|---|\n",
    "| 귀무가설 | 집단간 데이터 분포에는 차이가 없다(정규성을 따름) |\n",
    "| 대립가설 | 집단간 데이터 분포에는 차이가 있다(정규성을 따르지 않음) |"
   ]
  },
  {
   "cell_type": "code",
   "execution_count": 3,
   "metadata": {},
   "outputs": [
    {
     "data": {
      "text/plain": [
       "ShapiroResult(statistic=0.8321117162704468, pvalue=0.035477906465530396)"
      ]
     },
     "execution_count": 3,
     "metadata": {},
     "output_type": "execute_result"
    }
   ],
   "source": [
    "shapiro(df['store1'])"
   ]
  },
  {
   "cell_type": "code",
   "execution_count": 4,
   "metadata": {},
   "outputs": [
    {
     "data": {
      "text/plain": [
       "ShapiroResult(statistic=0.8993193507194519, pvalue=0.21535511314868927)"
      ]
     },
     "execution_count": 4,
     "metadata": {},
     "output_type": "execute_result"
    }
   ],
   "source": [
    "shapiro(df['store2'])"
   ]
  },
  {
   "cell_type": "markdown",
   "metadata": {},
   "source": [
    "#### 2) Normal Test"
   ]
  },
  {
   "cell_type": "code",
   "execution_count": 5,
   "metadata": {},
   "outputs": [
    {
     "name": "stderr",
     "output_type": "stream",
     "text": [
      "c:\\Users\\User\\AppData\\Local\\Programs\\Python\\Python311\\Lib\\site-packages\\scipy\\stats\\_stats_py.py:1806: UserWarning: kurtosistest only valid for n>=20 ... continuing anyway, n=10\n",
      "  warnings.warn(\"kurtosistest only valid for n>=20 ... continuing \"\n"
     ]
    },
    {
     "data": {
      "text/plain": [
       "NormaltestResult(statistic=1.9891717867491527, pvalue=0.369876581177278)"
      ]
     },
     "execution_count": 5,
     "metadata": {},
     "output_type": "execute_result"
    }
   ],
   "source": [
    "normaltest(df['store1'])"
   ]
  },
  {
   "cell_type": "code",
   "execution_count": 6,
   "metadata": {},
   "outputs": [
    {
     "data": {
      "text/plain": [
       "NormaltestResult(statistic=2.081349912435389, pvalue=0.3532161960163575)"
      ]
     },
     "execution_count": 6,
     "metadata": {},
     "output_type": "execute_result"
    }
   ],
   "source": [
    "normaltest(df['store2'])"
   ]
  },
  {
   "cell_type": "markdown",
   "metadata": {},
   "source": [
    "#### 3) 콜모고로프-스미르노프 검정(Kolmogorov-Smirnov test)\n",
    "\n",
    "정규분포에 국한되지 않고 두 표본이 같은 분포를 따르는지 확인할 수 있는 방법\n",
    "\n",
    "한 번에 두 개씩 검사 가능\n",
    "\n",
    "2개 이상인 경우 : A,B B,C C,A 경우의 수별로 검사해야 한다. "
   ]
  },
  {
   "cell_type": "code",
   "execution_count": 7,
   "metadata": {},
   "outputs": [
    {
     "data": {
      "text/plain": [
       "KstestResult(statistic=0.4, pvalue=0.41752365281777043, statistic_location=56, statistic_sign=1)"
      ]
     },
     "execution_count": 7,
     "metadata": {},
     "output_type": "execute_result"
    }
   ],
   "source": [
    "ks_2samp(df['store1'], df['store2']) # bartlett(변수 여러개 넣을 수 있음)"
   ]
  },
  {
   "cell_type": "markdown",
   "metadata": {},
   "source": [
    "### 2. 데이터의 등분산성 검정\n",
    "\n",
    "t검정과 분산분석에는 데이터가 분석이 같은 모집단으로부터 획득되었다는 조건이 필요하다. 이때 분산이 같다는 가설을 조사하는 검정으로 바틀렛 검정이나 레빈 검정이 있다. \n",
    "- 귀무가설 : 집단간 분산이 차이가 없다(같다)\n",
    "- 대립가설 : 집단간 분산이 차이가 있다(다르다) \n",
    "\n",
    "\n",
    "\n",
    "\n",
    "\n",
    "#### 1) Bartlett 검정\n",
    "\n",
    "집단간 분산이 같은지 다른지 여부를 알아볼 때 사용\n",
    "\n",
    "독립 2표본 t-검정 또는 일원분산분석(one-way ANOVA) 실시 전에 등분산성을 확인하는 용도\n",
    "\n",
    "Bartlett 검정은 두 집단 뿐만 아니라 세 집단 이상에서도 사용할 수 있음\n",
    "\n",
    "모든 변수가 정규분포를 따른다는 가정 하에서만 사용 가능함\n",
    "\n",
    "| 가설 | 내용 |\n",
    "|---|---|\n",
    "| 귀무가설 | 집단간 분산이 차이가 없다(같다) |\n",
    "| 대립가설 | 집단간 분산이 차이가 있다(다르다) |"
   ]
  },
  {
   "cell_type": "code",
   "execution_count": 8,
   "metadata": {},
   "outputs": [
    {
     "data": {
      "text/plain": [
       "BartlettResult(statistic=1.0488412011085946, pvalue=0.305774119649436)"
      ]
     },
     "execution_count": 8,
     "metadata": {},
     "output_type": "execute_result"
    }
   ],
   "source": [
    "bartlett(df['store1'], df['store2'])"
   ]
  },
  {
   "cell_type": "markdown",
   "metadata": {},
   "source": [
    "#### 2) fligner 검정\n",
    "\n",
    "Fligner-Killeen test는 비모수 등분산 검정으로 각 독립 표본들이 정규분포를 따르지 않아도 사용한 검정 방법\n",
    "\n",
    "| 가설 | 내용 |\n",
    "|---|---|\n",
    "| 귀무가설 | 집단간 분산이 차이가 없다(같다) |\n",
    "| 대립가설 | 집단간 분산이 차이가 있다(다르다) |"
   ]
  },
  {
   "cell_type": "code",
   "execution_count": 9,
   "metadata": {},
   "outputs": [
    {
     "data": {
      "text/plain": [
       "FlignerResult(statistic=1.3014081560908837, pvalue=0.2539561678380817)"
      ]
     },
     "execution_count": 9,
     "metadata": {},
     "output_type": "execute_result"
    }
   ],
   "source": [
    "fligner(df['store1'], df['store2'])"
   ]
  },
  {
   "cell_type": "markdown",
   "metadata": {},
   "source": [
    "#### 3) 레빈 검정(Levene's test)\n",
    "\n",
    "통계학에서 등분산성(homoscedasticity)을 검증하기 위해 사용되는 방법\n",
    "\n",
    "분석하려는 데이터의 그룹이 두 개 이상인 경우에 사용\n",
    "\n",
    "다른 등분산성 검정 방법과 달리 레빈 검정은 정규성 가정을 거의 하지 않기 때문에 비모수적인 방법으로도 적용할 수 있다.\n",
    "\n",
    "| 가설 | 내용 |\n",
    "|---|---|\n",
    "| 귀무가설 | 집단간 분산이 차이가 없다(같다) |\n",
    "| 대립가설 | 집단간 분산이 차아가 있다(다르다) |"
   ]
  },
  {
   "cell_type": "code",
   "execution_count": 10,
   "metadata": {},
   "outputs": [
    {
     "data": {
      "text/plain": [
       "LeveneResult(statistic=1.333315753388535, pvalue=0.2633161881599037)"
      ]
     },
     "execution_count": 10,
     "metadata": {},
     "output_type": "execute_result"
    }
   ],
   "source": [
    "levene(df['store1'], df['store2'])"
   ]
  },
  {
   "cell_type": "markdown",
   "metadata": {},
   "source": [
    "### 함수로 한번에 처리하기"
   ]
  },
  {
   "cell_type": "code",
   "execution_count": 11,
   "metadata": {},
   "outputs": [
    {
     "data": {
      "text/html": [
       "<div>\n",
       "<style scoped>\n",
       "    .dataframe tbody tr th:only-of-type {\n",
       "        vertical-align: middle;\n",
       "    }\n",
       "\n",
       "    .dataframe tbody tr th {\n",
       "        vertical-align: top;\n",
       "    }\n",
       "\n",
       "    .dataframe thead th {\n",
       "        text-align: right;\n",
       "    }\n",
       "</style>\n",
       "<table border=\"1\" class=\"dataframe\">\n",
       "  <thead>\n",
       "    <tr style=\"text-align: right;\">\n",
       "      <th></th>\n",
       "      <th></th>\n",
       "      <th></th>\n",
       "      <th>statistic</th>\n",
       "      <th>p-value</th>\n",
       "      <th>result</th>\n",
       "    </tr>\n",
       "    <tr>\n",
       "      <th>condition</th>\n",
       "      <th>test</th>\n",
       "      <th>field</th>\n",
       "      <th></th>\n",
       "      <th></th>\n",
       "      <th></th>\n",
       "    </tr>\n",
       "  </thead>\n",
       "  <tbody>\n",
       "    <tr>\n",
       "      <th rowspan=\"3\" valign=\"top\">등분산성</th>\n",
       "      <th>Bartlett</th>\n",
       "      <th>store1 vs store2</th>\n",
       "      <td>1.048841</td>\n",
       "      <td>0.305774</td>\n",
       "      <td>True</td>\n",
       "    </tr>\n",
       "    <tr>\n",
       "      <th>Fligner</th>\n",
       "      <th>store1 vs store2</th>\n",
       "      <td>1.301408</td>\n",
       "      <td>0.253956</td>\n",
       "      <td>True</td>\n",
       "    </tr>\n",
       "    <tr>\n",
       "      <th>Levene</th>\n",
       "      <th>store1 vs store2</th>\n",
       "      <td>1.333316</td>\n",
       "      <td>0.263316</td>\n",
       "      <td>True</td>\n",
       "    </tr>\n",
       "  </tbody>\n",
       "</table>\n",
       "</div>"
      ],
      "text/plain": [
       "                                     statistic   p-value  result\n",
       "condition test     field                                        \n",
       "등분산성      Bartlett store1 vs store2   1.048841  0.305774    True\n",
       "          Fligner  store1 vs store2   1.301408  0.253956    True\n",
       "          Levene   store1 vs store2   1.333316  0.263316    True"
      ]
     },
     "execution_count": 11,
     "metadata": {},
     "output_type": "execute_result"
    }
   ],
   "source": [
    "equal_variance_test(df['store1'], df['store2'])"
   ]
  },
  {
   "cell_type": "markdown",
   "metadata": {},
   "source": [
    "## #04. 독립성 검정"
   ]
  },
  {
   "cell_type": "code",
   "execution_count": 12,
   "metadata": {},
   "outputs": [
    {
     "data": {
      "text/plain": [
       "Chi2ContingencyResult(statistic=64.44306604494015, pvalue=1.8512336438945882e-10, dof=9, expected_freq=array([[56.38709677, 67.61290323],\n",
       "       [47.29240375, 56.70759625],\n",
       "       [40.47138398, 48.52861602],\n",
       "       [34.10509886, 40.89490114],\n",
       "       [42.74505723, 51.25494277],\n",
       "       [61.38917794, 73.61082206],\n",
       "       [41.83558793, 50.16441207],\n",
       "       [37.74297607, 45.25702393],\n",
       "       [37.74297607, 45.25702393],\n",
       "       [37.28824142, 44.71175858]]))"
      ]
     },
     "execution_count": 12,
     "metadata": {},
     "output_type": "execute_result"
    }
   ],
   "source": [
    "chi2_contingency(df[['store1', 'store2']])"
   ]
  },
  {
   "cell_type": "markdown",
   "metadata": {},
   "source": [
    "## #03. `scipy.stats` 패키지를 사용한 분산분석"
   ]
  },
  {
   "cell_type": "code",
   "execution_count": 13,
   "metadata": {},
   "outputs": [
    {
     "data": {
      "text/plain": [
       "F_onewayResult(statistic=1.4591624718860445, pvalue=0.24269553293319623)"
      ]
     },
     "execution_count": 13,
     "metadata": {},
     "output_type": "execute_result"
    }
   ],
   "source": [
    "f_oneway(df['store1'], df['store2'])"
   ]
  },
  {
   "cell_type": "markdown",
   "metadata": {},
   "source": [
    "### 해석\n",
    "\n",
    "`p-value`가 0.05보다 크므로 귀무가설을 기각할 수 없다.\n",
    "\n",
    "즉, 두 가게의 일별 매출 평균은 같다.\n",
    "\n",
    "## #04. statsmodels 패키지를 사용한 일원분산분석\n",
    "\n",
    "### 데이터 전처리"
   ]
  },
  {
   "cell_type": "code",
   "execution_count": 14,
   "metadata": {},
   "outputs": [
    {
     "data": {
      "text/html": [
       "<div>\n",
       "<style scoped>\n",
       "    .dataframe tbody tr th:only-of-type {\n",
       "        vertical-align: middle;\n",
       "    }\n",
       "\n",
       "    .dataframe tbody tr th {\n",
       "        vertical-align: top;\n",
       "    }\n",
       "\n",
       "    .dataframe thead th {\n",
       "        text-align: right;\n",
       "    }\n",
       "</style>\n",
       "<table border=\"1\" class=\"dataframe\">\n",
       "  <thead>\n",
       "    <tr style=\"text-align: right;\">\n",
       "      <th></th>\n",
       "      <th>store</th>\n",
       "      <th>sales</th>\n",
       "    </tr>\n",
       "  </thead>\n",
       "  <tbody>\n",
       "    <tr>\n",
       "      <th>0</th>\n",
       "      <td>store1</td>\n",
       "      <td>46</td>\n",
       "    </tr>\n",
       "    <tr>\n",
       "      <th>1</th>\n",
       "      <td>store1</td>\n",
       "      <td>47</td>\n",
       "    </tr>\n",
       "    <tr>\n",
       "      <th>2</th>\n",
       "      <td>store1</td>\n",
       "      <td>58</td>\n",
       "    </tr>\n",
       "    <tr>\n",
       "      <th>3</th>\n",
       "      <td>store1</td>\n",
       "      <td>47</td>\n",
       "    </tr>\n",
       "    <tr>\n",
       "      <th>4</th>\n",
       "      <td>store1</td>\n",
       "      <td>27</td>\n",
       "    </tr>\n",
       "    <tr>\n",
       "      <th>5</th>\n",
       "      <td>store1</td>\n",
       "      <td>58</td>\n",
       "    </tr>\n",
       "    <tr>\n",
       "      <th>6</th>\n",
       "      <td>store1</td>\n",
       "      <td>56</td>\n",
       "    </tr>\n",
       "    <tr>\n",
       "      <th>7</th>\n",
       "      <td>store1</td>\n",
       "      <td>26</td>\n",
       "    </tr>\n",
       "    <tr>\n",
       "      <th>8</th>\n",
       "      <td>store1</td>\n",
       "      <td>47</td>\n",
       "    </tr>\n",
       "    <tr>\n",
       "      <th>9</th>\n",
       "      <td>store1</td>\n",
       "      <td>25</td>\n",
       "    </tr>\n",
       "    <tr>\n",
       "      <th>10</th>\n",
       "      <td>store2</td>\n",
       "      <td>78</td>\n",
       "    </tr>\n",
       "    <tr>\n",
       "      <th>11</th>\n",
       "      <td>store2</td>\n",
       "      <td>57</td>\n",
       "    </tr>\n",
       "    <tr>\n",
       "      <th>12</th>\n",
       "      <td>store2</td>\n",
       "      <td>31</td>\n",
       "    </tr>\n",
       "    <tr>\n",
       "      <th>13</th>\n",
       "      <td>store2</td>\n",
       "      <td>28</td>\n",
       "    </tr>\n",
       "    <tr>\n",
       "      <th>14</th>\n",
       "      <td>store2</td>\n",
       "      <td>67</td>\n",
       "    </tr>\n",
       "    <tr>\n",
       "      <th>15</th>\n",
       "      <td>store2</td>\n",
       "      <td>77</td>\n",
       "    </tr>\n",
       "    <tr>\n",
       "      <th>16</th>\n",
       "      <td>store2</td>\n",
       "      <td>36</td>\n",
       "    </tr>\n",
       "    <tr>\n",
       "      <th>17</th>\n",
       "      <td>store2</td>\n",
       "      <td>57</td>\n",
       "    </tr>\n",
       "    <tr>\n",
       "      <th>18</th>\n",
       "      <td>store2</td>\n",
       "      <td>36</td>\n",
       "    </tr>\n",
       "    <tr>\n",
       "      <th>19</th>\n",
       "      <td>store2</td>\n",
       "      <td>57</td>\n",
       "    </tr>\n",
       "  </tbody>\n",
       "</table>\n",
       "</div>"
      ],
      "text/plain": [
       "     store  sales\n",
       "0   store1     46\n",
       "1   store1     47\n",
       "2   store1     58\n",
       "3   store1     47\n",
       "4   store1     27\n",
       "5   store1     58\n",
       "6   store1     56\n",
       "7   store1     26\n",
       "8   store1     47\n",
       "9   store1     25\n",
       "10  store2     78\n",
       "11  store2     57\n",
       "12  store2     31\n",
       "13  store2     28\n",
       "14  store2     67\n",
       "15  store2     77\n",
       "16  store2     36\n",
       "17  store2     57\n",
       "18  store2     36\n",
       "19  store2     57"
      ]
     },
     "execution_count": 14,
     "metadata": {},
     "output_type": "execute_result"
    }
   ],
   "source": [
    "df2 = df.melt(var_name='store', value_name='sales')\n",
    "df2"
   ]
  },
  {
   "cell_type": "code",
   "execution_count": 15,
   "metadata": {},
   "outputs": [
    {
     "data": {
      "text/plain": [
       "store    category\n",
       "sales       int64\n",
       "dtype: object"
      ]
     },
     "execution_count": 15,
     "metadata": {},
     "output_type": "execute_result"
    }
   ],
   "source": [
    "df2['store'] = df2['store'].astype('category')\n",
    "df2.dtypes"
   ]
  },
  {
   "cell_type": "markdown",
   "metadata": {},
   "source": [
    "예시) sales 독립변수(=원인이 되는 변수) - C(카테고리)(store) "
   ]
  },
  {
   "cell_type": "code",
   "execution_count": 16,
   "metadata": {},
   "outputs": [
    {
     "data": {
      "text/html": [
       "<div>\n",
       "<style scoped>\n",
       "    .dataframe tbody tr th:only-of-type {\n",
       "        vertical-align: middle;\n",
       "    }\n",
       "\n",
       "    .dataframe tbody tr th {\n",
       "        vertical-align: top;\n",
       "    }\n",
       "\n",
       "    .dataframe thead th {\n",
       "        text-align: right;\n",
       "    }\n",
       "</style>\n",
       "<table border=\"1\" class=\"dataframe\">\n",
       "  <thead>\n",
       "    <tr style=\"text-align: right;\">\n",
       "      <th></th>\n",
       "      <th>df</th>\n",
       "      <th>sum_sq</th>\n",
       "      <th>mean_sq</th>\n",
       "      <th>F</th>\n",
       "      <th>PR(&gt;F)</th>\n",
       "    </tr>\n",
       "  </thead>\n",
       "  <tbody>\n",
       "    <tr>\n",
       "      <th>C(store)</th>\n",
       "      <td>1.0</td>\n",
       "      <td>378.45</td>\n",
       "      <td>378.450000</td>\n",
       "      <td>1.459162</td>\n",
       "      <td>0.242696</td>\n",
       "    </tr>\n",
       "    <tr>\n",
       "      <th>Residual</th>\n",
       "      <td>18.0</td>\n",
       "      <td>4668.50</td>\n",
       "      <td>259.361111</td>\n",
       "      <td>NaN</td>\n",
       "      <td>NaN</td>\n",
       "    </tr>\n",
       "  </tbody>\n",
       "</table>\n",
       "</div>"
      ],
      "text/plain": [
       "            df   sum_sq     mean_sq         F    PR(>F)\n",
       "C(store)   1.0   378.45  378.450000  1.459162  0.242696\n",
       "Residual  18.0  4668.50  259.361111       NaN       NaN"
      ]
     },
     "execution_count": 16,
     "metadata": {},
     "output_type": "execute_result"
    }
   ],
   "source": [
    "lm = ols('sales ~ C(store)', data=df2).fit()\n",
    "anova_lm(lm)\n",
    "\n",
    "# F와 PR(>F) C 부분을 보면 된다 F = statistic=1.4591624718860445, PR(>F) = pvalue=0.24269553293319623)"
   ]
  }
 ],
 "metadata": {
  "kernelspec": {
   "display_name": "Python 3",
   "language": "python",
   "name": "python3"
  },
  "language_info": {
   "codemirror_mode": {
    "name": "ipython",
    "version": 3
   },
   "file_extension": ".py",
   "mimetype": "text/x-python",
   "name": "python",
   "nbconvert_exporter": "python",
   "pygments_lexer": "ipython3",
   "version": "3.11.1"
  },
  "orig_nbformat": 4
 },
 "nbformat": 4,
 "nbformat_minor": 2
}
