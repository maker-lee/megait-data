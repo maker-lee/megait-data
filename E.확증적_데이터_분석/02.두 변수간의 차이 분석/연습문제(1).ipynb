{
 "cells": [
  {
   "cell_type": "markdown",
   "metadata": {},
   "source": [
    "### 가설검정 연습문제"
   ]
  },
  {
   "cell_type": "markdown",
   "metadata": {},
   "source": [
    "문제 1\n",
    "당신은 매일 아침 동네 빵집에서 식빵을 구입해 왔다.\n",
    "\n",
    "이 식빵의 무게는 500g이라고 표시되어 있다. 하지만 당신은 자신이 구매하는 빵이 500g이 맞는지 의구심이 들기 시작한다. 그래서 1개월간 식빵을 사운 뒤 매일 무게를 기록하였고 그 결과는 아래의 데이터와 같다.\n",
    "\n",
    "https://data.hossam.kr/E02/bread.xlsx\n",
    "\n",
    "1개월간 측정한 빵의 평균 무게는 495.3g이었다. 이 값을 가지고 식빵의 무게가 500g이 되지 않는다며 베이커리를 찾아가 컴플레인을 해야 할까?\n",
    "\n",
    "요구사항\n",
    "\n",
    "1. 빵 무게의 95% 신뢰구간을 구하고 시각화 하시오.\n",
    "\n",
    "2. 지금까지 당신이 구입한 빵의 평균 무게가 500g보다 작다면 컴플레인을 걸고자 한다. 컴플레인을 걸어야 할지 결정하시오."
   ]
  },
  {
   "cell_type": "code",
   "execution_count": 1,
   "metadata": {},
   "outputs": [],
   "source": [
    "from pandas import read_excel\n",
    "from scipy.stats import t\n",
    "from matplotlib import pyplot as plt\n",
    "import seaborn as sb\n",
    "from math import sqrt\n",
    "import os\n",
    "import sys\n",
    "\n",
    "sys.path.append(os.path.dirname(os.path.dirname(os.getcwd())))\n",
    "from helper import get_confidence_interval"
   ]
  },
  {
   "cell_type": "code",
   "execution_count": 2,
   "metadata": {},
   "outputs": [
    {
     "data": {
      "text/html": [
       "<div>\n",
       "<style scoped>\n",
       "    .dataframe tbody tr th:only-of-type {\n",
       "        vertical-align: middle;\n",
       "    }\n",
       "\n",
       "    .dataframe tbody tr th {\n",
       "        vertical-align: top;\n",
       "    }\n",
       "\n",
       "    .dataframe thead th {\n",
       "        text-align: right;\n",
       "    }\n",
       "</style>\n",
       "<table border=\"1\" class=\"dataframe\">\n",
       "  <thead>\n",
       "    <tr style=\"text-align: right;\">\n",
       "      <th></th>\n",
       "      <th>무게</th>\n",
       "    </tr>\n",
       "  </thead>\n",
       "  <tbody>\n",
       "    <tr>\n",
       "      <th>0</th>\n",
       "      <td>495</td>\n",
       "    </tr>\n",
       "    <tr>\n",
       "      <th>1</th>\n",
       "      <td>496</td>\n",
       "    </tr>\n",
       "    <tr>\n",
       "      <th>2</th>\n",
       "      <td>502</td>\n",
       "    </tr>\n",
       "    <tr>\n",
       "      <th>3</th>\n",
       "      <td>494</td>\n",
       "    </tr>\n",
       "    <tr>\n",
       "      <th>4</th>\n",
       "      <td>499</td>\n",
       "    </tr>\n",
       "    <tr>\n",
       "      <th>5</th>\n",
       "      <td>501</td>\n",
       "    </tr>\n",
       "    <tr>\n",
       "      <th>6</th>\n",
       "      <td>493</td>\n",
       "    </tr>\n",
       "    <tr>\n",
       "      <th>7</th>\n",
       "      <td>494</td>\n",
       "    </tr>\n",
       "    <tr>\n",
       "      <th>8</th>\n",
       "      <td>495</td>\n",
       "    </tr>\n",
       "    <tr>\n",
       "      <th>9</th>\n",
       "      <td>501</td>\n",
       "    </tr>\n",
       "    <tr>\n",
       "      <th>10</th>\n",
       "      <td>493</td>\n",
       "    </tr>\n",
       "    <tr>\n",
       "      <th>11</th>\n",
       "      <td>498</td>\n",
       "    </tr>\n",
       "    <tr>\n",
       "      <th>12</th>\n",
       "      <td>500</td>\n",
       "    </tr>\n",
       "    <tr>\n",
       "      <th>13</th>\n",
       "      <td>492</td>\n",
       "    </tr>\n",
       "    <tr>\n",
       "      <th>14</th>\n",
       "      <td>493</td>\n",
       "    </tr>\n",
       "    <tr>\n",
       "      <th>15</th>\n",
       "      <td>494</td>\n",
       "    </tr>\n",
       "    <tr>\n",
       "      <th>16</th>\n",
       "      <td>500</td>\n",
       "    </tr>\n",
       "    <tr>\n",
       "      <th>17</th>\n",
       "      <td>492</td>\n",
       "    </tr>\n",
       "    <tr>\n",
       "      <th>18</th>\n",
       "      <td>497</td>\n",
       "    </tr>\n",
       "    <tr>\n",
       "      <th>19</th>\n",
       "      <td>499</td>\n",
       "    </tr>\n",
       "    <tr>\n",
       "      <th>20</th>\n",
       "      <td>491</td>\n",
       "    </tr>\n",
       "    <tr>\n",
       "      <th>21</th>\n",
       "      <td>492</td>\n",
       "    </tr>\n",
       "    <tr>\n",
       "      <th>22</th>\n",
       "      <td>493</td>\n",
       "    </tr>\n",
       "    <tr>\n",
       "      <th>23</th>\n",
       "      <td>499</td>\n",
       "    </tr>\n",
       "    <tr>\n",
       "      <th>24</th>\n",
       "      <td>491</td>\n",
       "    </tr>\n",
       "    <tr>\n",
       "      <th>25</th>\n",
       "      <td>496</td>\n",
       "    </tr>\n",
       "    <tr>\n",
       "      <th>26</th>\n",
       "      <td>498</td>\n",
       "    </tr>\n",
       "    <tr>\n",
       "      <th>27</th>\n",
       "      <td>490</td>\n",
       "    </tr>\n",
       "    <tr>\n",
       "      <th>28</th>\n",
       "      <td>491</td>\n",
       "    </tr>\n",
       "    <tr>\n",
       "      <th>29</th>\n",
       "      <td>492</td>\n",
       "    </tr>\n",
       "  </tbody>\n",
       "</table>\n",
       "</div>"
      ],
      "text/plain": [
       "     무게\n",
       "0   495\n",
       "1   496\n",
       "2   502\n",
       "3   494\n",
       "4   499\n",
       "5   501\n",
       "6   493\n",
       "7   494\n",
       "8   495\n",
       "9   501\n",
       "10  493\n",
       "11  498\n",
       "12  500\n",
       "13  492\n",
       "14  493\n",
       "15  494\n",
       "16  500\n",
       "17  492\n",
       "18  497\n",
       "19  499\n",
       "20  491\n",
       "21  492\n",
       "22  493\n",
       "23  499\n",
       "24  491\n",
       "25  496\n",
       "26  498\n",
       "27  490\n",
       "28  491\n",
       "29  492"
      ]
     },
     "execution_count": 2,
     "metadata": {},
     "output_type": "execute_result"
    }
   ],
   "source": [
    "df = read_excel(\"https://data.hossam.kr/E02/bread.xlsx\")\n",
    "df"
   ]
  },
  {
   "cell_type": "code",
   "execution_count": 3,
   "metadata": {},
   "outputs": [],
   "source": [
    "clevel = 0.95 # 신뢰수준\n",
    "n = len(df['무게']) # 샘플사이즈\n",
    "dof = n-1 # 자유도\n",
    "sample_mean = df['무게'].mean() # 표본평균\n",
    "sample_std = df['무게'].std(ddof=1) # 표본 표준 편차 \n",
    "sample_std_error = sample_std/sqrt(n) # 표본 표준오차"
   ]
  },
  {
   "cell_type": "code",
   "execution_count": 4,
   "metadata": {},
   "outputs": [
    {
     "data": {
      "text/plain": [
       "(494.03836792675105, 496.6949654065823)"
      ]
     },
     "execution_count": 4,
     "metadata": {},
     "output_type": "execute_result"
    }
   ],
   "source": [
    "# 신뢰구간\n",
    "cmin, cmax = t.interval(clevel,dof,loc=sample_mean,scale=sample_std_error)\n",
    "cmin, cmax"
   ]
  },
  {
   "cell_type": "code",
   "execution_count": 5,
   "metadata": {},
   "outputs": [],
   "source": [
    "plt.rcParams[\"font.family\"] = 'Malgun Gothic'\n",
    "plt.rcParams[\"font.size\"] = 10\n",
    "plt.rcParams[\"figure.figsize\"] = (7, 4)\n",
    "plt.rcParams[\"axes.unicode_minus\"] = False"
   ]
  },
  {
   "cell_type": "code",
   "execution_count": 6,
   "metadata": {},
   "outputs": [
    {
     "data": {
      "image/png": "[encoded data removed]",
      "text/plain": [
       "<Figure size 700x400 with 1 Axes>"
      ]
     },
     "metadata": {},
     "output_type": "display_data"
    }
   ],
   "source": [
    "sb.kdeplot(data=df,x='무게')\n",
    "sb.lineplot(x=[cmin,cmin],y=[0,0.1],color = 'red')\n",
    "sb.lineplot(x=[cmax,cmax],y=[0,0.1],color = 'red')\n",
    "plt.show()\n",
    "plt.close()"
   ]
  },
  {
   "cell_type": "markdown",
   "metadata": {},
   "source": [
    "내가 빵을 샀을 때, 95%의 확률로 이 사이에 위치함 (494~496g) 달려가서 컴플레인을 건다. 그러나 빵은 보관 상태에 따라서 수분이 날아갈 수 있으므로 교환해주지는 않을 것 같다. "
   ]
  },
  {
   "cell_type": "code",
   "execution_count": 7,
   "metadata": {},
   "outputs": [],
   "source": [
    "from scipy import stats"
   ]
  },
  {
   "cell_type": "code",
   "execution_count": 8,
   "metadata": {},
   "outputs": [
    {
     "data": {
      "text/plain": [
       "495.3666666666667"
      ]
     },
     "execution_count": 8,
     "metadata": {},
     "output_type": "execute_result"
    }
   ],
   "source": [
    "df['무게'].mean()"
   ]
  },
  {
   "cell_type": "markdown",
   "metadata": {},
   "source": [
    "가설 설정 (빵의 평균 무게가 과거의 자료인 500g보다 작아졌는지 알고자 하는 경우)\n",
    "(내 주장의 반대 = 귀무가설)\n",
    "$geq$\n",
    "귀무가설($H_0$) : $\\mu >= 500$ \n",
    "\n",
    "대립가설($H_1$) : $\\mu < 500$"
   ]
  },
  {
   "cell_type": "code",
   "execution_count": 9,
   "metadata": {},
   "outputs": [
    {
     "data": {
      "text/plain": [
       "'t-statistic: -7.134, p-value: 0.000000037533297'"
      ]
     },
     "execution_count": 9,
     "metadata": {},
     "output_type": "execute_result"
    }
   ],
   "source": [
    "t, p = stats.ttest_1samp(df['무게'], 500, alternative='less') # alternative 대립 \n",
    "\"t-statistic: {:.3f}, p-value: {:.15f}\".format(t, p)"
   ]
  },
  {
   "cell_type": "markdown",
   "metadata": {},
   "source": [
    "p-value\n",
    "귀무가설이 옳다고 가정했을 때 관찰한 값 이상으로 극단적인 값이 나올 확률\n",
    "0.05 보다 작다 = 현실 데이터는 나타나기 어렵다 귀무가설 기각 \n",
    "0.05 보다 크다 = 귀무가설을 기각할 수 없다. "
   ]
  },
  {
   "cell_type": "markdown",
   "metadata": {},
   "source": [
    "`p-value가 0.05보다 작으므로 귀무가설을 기각하고 대립가설을 채택한다. 즉, 빵의 평균 무게는 500g 보다 크지 않다.`"
   ]
  },
  {
   "cell_type": "code",
   "execution_count": 10,
   "metadata": {},
   "outputs": [
    {
     "data": {
      "text/plain": [
       "'t-statistic: -7.134111, p-value: 1.000000'"
      ]
     },
     "execution_count": 10,
     "metadata": {},
     "output_type": "execute_result"
    }
   ],
   "source": [
    "# 귀무가설 : 빵의 무게가 500보다 크지 않다.\n",
    "# -> p-value가 1인 경우는 귀무가설을 기각할 근거가 없다는 의미\n",
    "t, p = stats.ttest_1samp(df['무게'], 500, alternative='greater')\n",
    "\"t-statistic: {:f}, p-value: {:f}\".format(t, p)"
   ]
  },
  {
   "cell_type": "code",
   "execution_count": 11,
   "metadata": {},
   "outputs": [
    {
     "data": {
      "text/plain": [
       "'t-statistic: -7.134111, p-value: 0.000000'"
      ]
     },
     "execution_count": 11,
     "metadata": {},
     "output_type": "execute_result"
    }
   ],
   "source": [
    "# 귀무가설 : 빵의 무게가 500과 차이가 없다.\n",
    "# -> p-value가 0이라는 것은 주어진 데이터에서 검정하는 가설이 완전히 거부되어야 한다는 것을 의미\n",
    "t, p = stats.ttest_1samp(df['무게'], 500, alternative='two-sided')\n",
    "\"t-statistic: {:f}, p-value: {:f}\".format(t, p)"
   ]
  },
  {
   "cell_type": "code",
   "execution_count": 12,
   "metadata": {},
   "outputs": [
    {
     "data": {
      "text/plain": [
       "'t-statistic: -7.134111, p-value: 0.000000'"
      ]
     },
     "execution_count": 12,
     "metadata": {},
     "output_type": "execute_result"
    }
   ],
   "source": [
    "# 귀무가설 : 빵의 무게가 500보다 작지 않다.\n",
    "t, p = stats.ttest_1samp(df['무게'], 500, alternative='less')\n",
    "\"t-statistic: {:f}, p-value: {:f}\".format(t, p)"
   ]
  }
 ],
 "metadata": {
  "kernelspec": {
   "display_name": "Python 3",
   "language": "python",
   "name": "python3"
  },
  "language_info": {
   "codemirror_mode": {
    "name": "ipython",
    "version": 3
   },
   "file_extension": ".py",
   "mimetype": "text/x-python",
   "name": "python",
   "nbconvert_exporter": "python",
   "pygments_lexer": "ipython3",
   "version": "3.11.1"
  },
  "orig_nbformat": 4
 },
 "nbformat": 4,
 "nbformat_minor": 2
}
