{
 "cells": [
  {
   "attachments": {},
   "cell_type": "markdown",
   "metadata": {},
   "source": [
    "# 데이터 시각화"
   ]
  },
  {
   "attachments": {},
   "cell_type": "markdown",
   "metadata": {},
   "source": [
    "1. 그래프\n",
    "1) 선 -> 1개의 변수, 시간의 흐름 (시계열 그래프)\n",
    "2) 막대 -> 집단별 집계 결과 (합계, 평균, 빈도)\n",
    "3) 원 -> 집단별 비율\n",
    "4) 산점도 -> x축에 따른 y축 값의 위치 (scatter plot)\n",
    "기타) 히스토그램\n",
    "\n",
    "\n",
    "2. 문장 -> 단어 빈도수\n",
    "1) 워드클라우드 \n",
    "\n",
    "3. 지도 시각화\n",
    "1) GIS\n",
    "\n",
    "4. 그래프 작성\n",
    "1) matplotlib : 그래프 기본\n",
    "2) DataFrame + Matplotlib 병합\n",
    "3) Matplotlib + Seaborn (더 예뻐짐)\n",
    "4) Subplot (한장에 그래프 여러개 그림)\n"
   ]
  },
  {
   "cell_type": "code",
   "execution_count": null,
   "metadata": {},
   "outputs": [],
   "source": []
  }
 ],
 "metadata": {
  "language_info": {
   "name": "python"
  },
  "orig_nbformat": 4
 },
 "nbformat": 4,
 "nbformat_minor": 2
}
