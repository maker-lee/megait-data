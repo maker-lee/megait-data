{
 "cells": [
  {
   "cell_type": "code",
   "execution_count": 1,
   "metadata": {},
   "outputs": [],
   "source": [
    "from IPython.display import Image, display\n",
    "from konlpy.tag import Okt\n",
    "from wordcloud import WordCloud\n",
    "import sys\n",
    "import os\n",
    "\n",
    "# 파이썬 내장 클래스 --> 설치 불필요\n",
    "from collections import Counter\n",
    "\n",
    "# 직접 구현한 모듈 참조\n",
    "# 소스파일의 위치에 따라 `os.path.dirname` 사용 횟수 조절 필요\n",
    "sys.path.append(os.path.dirname(os.path.dirname(os.getcwd())))\n",
    "from helper import clearStopwords\n",
    "\n",
    "# 금지어 설정 모듈\n",
    "from wordcloud import STOPWORDS"
   ]
  },
  {
   "cell_type": "markdown",
   "metadata": {},
   "source": []
  }
 ],
 "metadata": {
  "kernelspec": {
   "display_name": "Python 3",
   "language": "python",
   "name": "python3"
  },
  "language_info": {
   "codemirror_mode": {
    "name": "ipython",
    "version": 3
   },
   "file_extension": ".py",
   "mimetype": "text/x-python",
   "name": "python",
   "nbconvert_exporter": "python",
   "pygments_lexer": "ipython3",
   "version": "3.11.1"
  },
  "orig_nbformat": 4
 },
 "nbformat": 4,
 "nbformat_minor": 2
}
