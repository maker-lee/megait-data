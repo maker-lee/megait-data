{
 "cells": [
  {
   "cell_type": "code",
   "execution_count": 1,
   "metadata": {},
   "outputs": [],
   "source": [
    "from konlpy.tag import Okt"
   ]
  },
  {
   "cell_type": "code",
   "execution_count": 3,
   "metadata": {},
   "outputs": [
    {
     "name": "stdout",
     "output_type": "stream",
     "text": [
      "['건물', '사이', '피어', '장미', '제발', '마', '온몸', '가시', '얼마나', '힘', '꽃', '또', '대로', '왜', '그냥', '길', '좀', '나', '건물', '사이', '피어', '장미', '이', '도시', '때', '고', '끝', '모두', '내', '향길', '취해', '웃', '때', '웃', '때', '내', '여기', '안', '하나', '앞', '내', '그때', '그때', '생각', '안', '해', '그냥', '날', '거', '바람', '내', '살', '해도', '자꾸', '벌레', '굴', '난', '나', '건물', '사이', '피어', '장미', '이', '도시', '때', '고', '끝', '모두', '내', '향길', '취해', '웃', '때', '웃', '때', '나', '건물', '사이', '피어', '장미', '이', '도시', '때', '고', '끝', '모두', '내', '향길', '취해', '웃', '때', '웃', '때']\n"
     ]
    }
   ],
   "source": []
  }
 ],
 "metadata": {
  "kernelspec": {
   "display_name": "Python 3",
   "language": "python",
   "name": "python3"
  },
  "language_info": {
   "codemirror_mode": {
    "name": "ipython",
    "version": 3
   },
   "file_extension": ".py",
   "mimetype": "text/x-python",
   "name": "python",
   "nbconvert_exporter": "python",
   "pygments_lexer": "ipython3",
   "version": "3.11.1"
  },
  "orig_nbformat": 4
 },
 "nbformat": 4,
 "nbformat_minor": 2
}
