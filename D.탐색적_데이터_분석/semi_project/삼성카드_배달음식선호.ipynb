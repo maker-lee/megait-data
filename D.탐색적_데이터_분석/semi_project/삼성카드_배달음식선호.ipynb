{
 "cells": [
  {
   "cell_type": "markdown",
   "metadata": {},
   "source": [
    "# 배달식선호 및 건강관심 성향에 따른 '20.9~11월 외식업종 소비패턴"
   ]
  },
  {
   "cell_type": "markdown",
   "metadata": {},
   "source": [
    "삼성카드가 추정한 배달음식 선호성향 및 건강관심도 페르소나 등급(20등급)에 따른 외식소비패턴 분석 데이터입니다. <br>\n",
    "※ 배달식선호/건강관심 성향 : 당사가 회원의 소비데이터로 모델링하여 추정한 고객의 특성. 지수를 20 등급화(1등급이 제일 高)"
   ]
  },
  {
   "cell_type": "markdown",
   "metadata": {},
   "source": [
    "### 패키지 가져오기"
   ]
  },
  {
   "cell_type": "markdown",
   "metadata": {},
   "source": [
    "### 데이터 불러오기"
   ]
  },
  {
   "cell_type": "markdown",
   "metadata": {},
   "source": [
    "### 데이터 타입(종류) 확인"
   ]
  },
  {
   "cell_type": "markdown",
   "metadata": {},
   "source": [
    "### 데이터 전처리\n",
    "- 결측치 확인 → 결측치 소거 \n",
    "- 상자그림을 통한 이상치 확인 -> 결측치로 변경"
   ]
  },
  {
   "cell_type": "markdown",
   "metadata": {},
   "source": [
    "### 수치형 변수의 데이터 요약 통계"
   ]
  },
  {
   "cell_type": "markdown",
   "metadata": {},
   "source": [
    "### 명목형 변수에 대한 기술 통계"
   ]
  },
  {
   "cell_type": "markdown",
   "metadata": {},
   "source": [
    "bar plot"
   ]
  },
  {
   "cell_type": "markdown",
   "metadata": {},
   "source": [
    "산점도(추세선) "
   ]
  },
  {
   "cell_type": "markdown",
   "metadata": {},
   "source": [
    "서브 플롯 \n",
    "line plot(9월/10월) / pie chart (업종별/성별)"
   ]
  },
  {
   "cell_type": "markdown",
   "metadata": {},
   "source": []
  }
 ],
 "metadata": {
  "language_info": {
   "name": "python"
  },
  "orig_nbformat": 4
 },
 "nbformat": 4,
 "nbformat_minor": 2
}
