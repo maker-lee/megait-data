{
 "cells": [
  {
   "attachments": {},
   "cell_type": "markdown",
   "metadata": {},
   "source": [
    "## 기술통계 > 기초통계량"
   ]
  },
  {
   "attachments": {},
   "cell_type": "markdown",
   "metadata": {},
   "source": [
    "기술통계는 주로 수치형데이터에서 사용하고, 범주형 데이터는 빈도수만 확인한다. \n",
    "이상치(범주+수치) > 극단치(수치)\n",
    "\n",
    "$ y = ax + b $ \n",
    "\n",
    "중심위치 : 중앙값\n",
    "\n",
    "제3사분위수와 제 1사분위수 사이의 거리를 자료의 퍼진 정도의 측도로 사용할 수 있는데 이 수치를 사분위수 범위(IQR)이라 한다. interquartile range "
   ]
  },
  {
   "attachments": {},
   "cell_type": "markdown",
   "metadata": {},
   "source": [
    "# 1. 기술통계\n",
    "기술통계란 자료를 그래프나 숫자 등으로 요약하는 통계적 행위, 관련 방법을 말한다.\n",
    "데이터 분석에 앞서 전체적으로 데이터의 특징을 파악하고 데이터를 다양한 각도로 접근한다.\n",
    "데이터를 요약하고 시각화해서 잘 설명하는 것에 중점을 두며 데이터에 대해서 쉽게 설명하기 위해 시각화를 많이 활용한다.\n",
    "기술 통계에서 기본적으로 사용하는 시각화 자료들은 박스플롯(상자그림), 도수분포표, 히스토그램 등이 있으며 이를 기반으로 사실을 객관적으로 확인하는 것을 중점으로 한다. "
   ]
  },
  {
   "attachments": {},
   "cell_type": "markdown",
   "metadata": {},
   "source": [
    "# 2. 기술통계 절차"
   ]
  },
  {
   "attachments": {},
   "cell_type": "markdown",
   "metadata": {},
   "source": [
    "### 1. 데이터의 전체 크기와 형태 확인\n",
    "- 행과 열의 수를 확인한다.\n",
    "- 빅데이터 전체를 출력하는 것은 부담이 크므로 상위/하위 n건의 일부만 확인한다\n",
    "\n",
    "### 2. 수치형 데이터\n",
    "#### 1) 집단의 특성을 드러내는 요약 통계량을 확인한다.\n",
    "- 평균, 중앙값, 표준편차, 범위(최대값~최소값), 사분위수 등을 확인한다\n",
    "- 요약통계량을 상자그림으로 시각화하여 확인한다.\n",
    "\n",
    "#### 2) 전체 데이터의 분포를 확인한다. \n",
    "- 구간별 자료의 개수를 나타내는 표(도수분포표)를 산정한다.\n",
    "- 도수분포표를 그래프로 표현한 히스토그램을 확인한다.\n",
    "\n",
    "### 3. 범주형 데이터\n",
    "- 데이터의 빈도수를 확인한다.\n"
   ]
  },
  {
   "attachments": {},
   "cell_type": "markdown",
   "metadata": {},
   "source": [
    "## 3. 작업준비"
   ]
  },
  {
   "cell_type": "code",
   "execution_count": 2,
   "metadata": {},
   "outputs": [],
   "source": [
    "import sys\n",
    "from matplotlib import pyplot as plt\n",
    "from pandas import read_excel\n",
    "import seaborn as sb"
   ]
  },
  {
   "cell_type": "code",
   "execution_count": 3,
   "metadata": {},
   "outputs": [
    {
     "data": {
      "text/html": [
       "<div>\n",
       "<style scoped>\n",
       "    .dataframe tbody tr th:only-of-type {\n",
       "        vertical-align: middle;\n",
       "    }\n",
       "\n",
       "    .dataframe tbody tr th {\n",
       "        vertical-align: top;\n",
       "    }\n",
       "\n",
       "    .dataframe thead th {\n",
       "        text-align: right;\n",
       "    }\n",
       "</style>\n",
       "<table border=\"1\" class=\"dataframe\">\n",
       "  <thead>\n",
       "    <tr style=\"text-align: right;\">\n",
       "      <th></th>\n",
       "      <th>광고비(백만원)</th>\n",
       "      <th>매출액(억원)</th>\n",
       "    </tr>\n",
       "    <tr>\n",
       "      <th>월</th>\n",
       "      <th></th>\n",
       "      <th></th>\n",
       "    </tr>\n",
       "  </thead>\n",
       "  <tbody>\n",
       "    <tr>\n",
       "      <th>1월</th>\n",
       "      <td>2</td>\n",
       "      <td>100</td>\n",
       "    </tr>\n",
       "    <tr>\n",
       "      <th>2월</th>\n",
       "      <td>142</td>\n",
       "      <td>1690</td>\n",
       "    </tr>\n",
       "    <tr>\n",
       "      <th>3월</th>\n",
       "      <td>122</td>\n",
       "      <td>298</td>\n",
       "    </tr>\n",
       "    <tr>\n",
       "      <th>4월</th>\n",
       "      <td>130</td>\n",
       "      <td>390</td>\n",
       "    </tr>\n",
       "    <tr>\n",
       "      <th>5월</th>\n",
       "      <td>185</td>\n",
       "      <td>590</td>\n",
       "    </tr>\n",
       "    <tr>\n",
       "      <th>6월</th>\n",
       "      <td>121</td>\n",
       "      <td>200</td>\n",
       "    </tr>\n",
       "    <tr>\n",
       "      <th>7월</th>\n",
       "      <td>101</td>\n",
       "      <td>190</td>\n",
       "    </tr>\n",
       "    <tr>\n",
       "      <th>8월</th>\n",
       "      <td>199</td>\n",
       "      <td>460</td>\n",
       "    </tr>\n",
       "    <tr>\n",
       "      <th>9월</th>\n",
       "      <td>221</td>\n",
       "      <td>660</td>\n",
       "    </tr>\n",
       "    <tr>\n",
       "      <th>10월</th>\n",
       "      <td>139</td>\n",
       "      <td>350</td>\n",
       "    </tr>\n",
       "    <tr>\n",
       "      <th>11월</th>\n",
       "      <td>169</td>\n",
       "      <td>650</td>\n",
       "    </tr>\n",
       "    <tr>\n",
       "      <th>12월</th>\n",
       "      <td>237</td>\n",
       "      <td>880</td>\n",
       "    </tr>\n",
       "  </tbody>\n",
       "</table>\n",
       "</div>"
      ],
      "text/plain": [
       "     광고비(백만원)  매출액(억원)\n",
       "월                     \n",
       "1월          2      100\n",
       "2월        142     1690\n",
       "3월        122      298\n",
       "4월        130      390\n",
       "5월        185      590\n",
       "6월        121      200\n",
       "7월        101      190\n",
       "8월        199      460\n",
       "9월        221      660\n",
       "10월       139      350\n",
       "11월       169      650\n",
       "12월       237      880"
      ]
     },
     "execution_count": 3,
     "metadata": {},
     "output_type": "execute_result"
    }
   ],
   "source": [
    "df = read_excel(\"https://data.hossam.kr/D02/ad-sales.xlsx\", index_col=\"월\")\n",
    "df"
   ]
  },
  {
   "attachments": {},
   "cell_type": "markdown",
   "metadata": {},
   "source": [
    "### 데이터 전처리"
   ]
  },
  {
   "cell_type": "code",
   "execution_count": 4,
   "metadata": {},
   "outputs": [
    {
     "data": {
      "text/html": [
       "<div>\n",
       "<style scoped>\n",
       "    .dataframe tbody tr th:only-of-type {\n",
       "        vertical-align: middle;\n",
       "    }\n",
       "\n",
       "    .dataframe tbody tr th {\n",
       "        vertical-align: top;\n",
       "    }\n",
       "\n",
       "    .dataframe thead th {\n",
       "        text-align: right;\n",
       "    }\n",
       "</style>\n",
       "<table border=\"1\" class=\"dataframe\">\n",
       "  <thead>\n",
       "    <tr style=\"text-align: right;\">\n",
       "      <th></th>\n",
       "      <th>adv</th>\n",
       "      <th>salse</th>\n",
       "    </tr>\n",
       "    <tr>\n",
       "      <th>month</th>\n",
       "      <th></th>\n",
       "      <th></th>\n",
       "    </tr>\n",
       "  </thead>\n",
       "  <tbody>\n",
       "    <tr>\n",
       "      <th>1월</th>\n",
       "      <td>2</td>\n",
       "      <td>100</td>\n",
       "    </tr>\n",
       "    <tr>\n",
       "      <th>2월</th>\n",
       "      <td>142</td>\n",
       "      <td>1690</td>\n",
       "    </tr>\n",
       "    <tr>\n",
       "      <th>3월</th>\n",
       "      <td>122</td>\n",
       "      <td>298</td>\n",
       "    </tr>\n",
       "    <tr>\n",
       "      <th>4월</th>\n",
       "      <td>130</td>\n",
       "      <td>390</td>\n",
       "    </tr>\n",
       "    <tr>\n",
       "      <th>5월</th>\n",
       "      <td>185</td>\n",
       "      <td>590</td>\n",
       "    </tr>\n",
       "    <tr>\n",
       "      <th>6월</th>\n",
       "      <td>121</td>\n",
       "      <td>200</td>\n",
       "    </tr>\n",
       "    <tr>\n",
       "      <th>7월</th>\n",
       "      <td>101</td>\n",
       "      <td>190</td>\n",
       "    </tr>\n",
       "    <tr>\n",
       "      <th>8월</th>\n",
       "      <td>199</td>\n",
       "      <td>460</td>\n",
       "    </tr>\n",
       "    <tr>\n",
       "      <th>9월</th>\n",
       "      <td>221</td>\n",
       "      <td>660</td>\n",
       "    </tr>\n",
       "    <tr>\n",
       "      <th>10월</th>\n",
       "      <td>139</td>\n",
       "      <td>350</td>\n",
       "    </tr>\n",
       "    <tr>\n",
       "      <th>11월</th>\n",
       "      <td>169</td>\n",
       "      <td>650</td>\n",
       "    </tr>\n",
       "    <tr>\n",
       "      <th>12월</th>\n",
       "      <td>237</td>\n",
       "      <td>880</td>\n",
       "    </tr>\n",
       "  </tbody>\n",
       "</table>\n",
       "</div>"
      ],
      "text/plain": [
       "       adv  salse\n",
       "month            \n",
       "1월       2    100\n",
       "2월     142   1690\n",
       "3월     122    298\n",
       "4월     130    390\n",
       "5월     185    590\n",
       "6월     121    200\n",
       "7월     101    190\n",
       "8월     199    460\n",
       "9월     221    660\n",
       "10월    139    350\n",
       "11월    169    650\n",
       "12월    237    880"
      ]
     },
     "execution_count": 4,
     "metadata": {},
     "output_type": "execute_result"
    }
   ],
   "source": [
    "df.rename(columns={'광고비(백만원)':'adv','매출액(억원)':'salse'},inplace=True)\n",
    "df.index.name = 'month'\n",
    "df"
   ]
  },
  {
   "attachments": {},
   "cell_type": "markdown",
   "metadata": {},
   "source": [
    "## 기초통계량"
   ]
  },
  {
   "attachments": {},
   "cell_type": "markdown",
   "metadata": {},
   "source": [
    "### 1. 데이터의 범위\n",
    "##### 최대값~최소값의 구간을 의미"
   ]
  },
  {
   "cell_type": "code",
   "execution_count": 5,
   "metadata": {},
   "outputs": [
    {
     "data": {
      "text/plain": [
       "'광고비 구간은 2~237 백만원'"
      ]
     },
     "execution_count": 5,
     "metadata": {},
     "output_type": "execute_result"
    }
   ],
   "source": [
    "max_adv = df['adv'].max()\n",
    "min_adv = df['adv'].min()\n",
    "'광고비 구간은 {min}~{max} 백만원'.format(max = max_adv,min = min_adv)\n"
   ]
  },
  {
   "cell_type": "code",
   "execution_count": 6,
   "metadata": {},
   "outputs": [
    {
     "data": {
      "text/plain": [
       "'매출액 구간은 100~1690 백만원'"
      ]
     },
     "execution_count": 6,
     "metadata": {},
     "output_type": "execute_result"
    }
   ],
   "source": [
    "max_salse = df['salse'].max()\n",
    "min_salse = df['salse'].min()\n",
    "'매출액 구간은 {min}~{max} 백만원'.format(max = max_salse,min = min_salse)\n"
   ]
  },
  {
   "attachments": {},
   "cell_type": "markdown",
   "metadata": {},
   "source": [
    "## 합계"
   ]
  },
  {
   "cell_type": "code",
   "execution_count": 7,
   "metadata": {},
   "outputs": [
    {
     "data": {
      "text/plain": [
       "'광고비의 총 합은 1768백만원이고, 매출액의 총 합은 1768억원이다.'"
      ]
     },
     "execution_count": 7,
     "metadata": {},
     "output_type": "execute_result"
    }
   ],
   "source": [
    "sum_adv = df['adv'].sum()\n",
    "sum_salse = df['adv'].sum()\n",
    "'광고비의 총 합은 %d백만원이고, 매출액의 총 합은 %d억원이다.' % (sum_adv,sum_salse)"
   ]
  },
  {
   "attachments": {},
   "cell_type": "markdown",
   "metadata": {},
   "source": [
    "## 평균\n",
    "\n",
    "- 모든 값을 더한 뒤 개수로 나눈 값\n",
    "- 평균은 특정 값이 다른 값들의 범위와 차이가 큰 경우 신뢰도가 떨어진다\n",
    "- 1,2,3,100의 평균이 26.5인데, 이는 100이 다른 값들에 비해 극단적으로 높기 때문이며 이러한 값을 극단치라고 한다. 극단치는 이상치에서 수치로 표현할 수 있는 값을 말한다. "
   ]
  },
  {
   "cell_type": "code",
   "execution_count": 8,
   "metadata": {},
   "outputs": [
    {
     "data": {
      "text/plain": [
       "'광고비의 평균은 147백만원이고, 매출액의 평균은 538억원입니다.'"
      ]
     },
     "execution_count": 8,
     "metadata": {},
     "output_type": "execute_result"
    }
   ],
   "source": [
    "mean_adv = df['adv'].mean()\n",
    "mean_salse = df['salse'].mean()\n",
    "'광고비의 평균은 %d백만원이고, 매출액의 평균은 %d억원입니다.' % (mean_adv,mean_salse)"
   ]
  },
  {
   "attachments": {},
   "cell_type": "markdown",
   "metadata": {},
   "source": [
    "## 중앙값\n",
    "\n",
    "- 모든 값을 순서대로 정렬한 후 가운데 위치한 값\n",
    "- 평균의 신뢰도가 현저히 낮을 경우 데이터의 분포를 확인하기 위해 사용한다.\n",
    "\n",
    "### 데이터의 수가 홀수인 경우\n",
    "- 모든 값을 순서대로 정렬한 후 가운데 위치한 값\n",
    "- 1,2,3,4,5의 중앙값은 3\n",
    "\n",
    "$m_e = x{(\\frac{n+1}2)}$\n",
    "\n",
    "### 데이터의 수가 짝수인 경우\n",
    "- 모든 값을 순서대로 정렬한 후 가운데 두 값의 평균값\n",
    "- 1,2,3,4,5,6의 중앙값은 (3+4)/2이므로 3.5이다.\n",
    "\n",
    "\n",
    "$m_e = \\frac{1}{2}{({x_{\\frac{n}{2}} + {x_{\\frac{n}{2}+1}}})}$\n"
   ]
  },
  {
   "cell_type": "code",
   "execution_count": 9,
   "metadata": {},
   "outputs": [
    {
     "data": {
      "text/plain": [
       "'광고비의 중앙값은 140백만원이고 매출액의 중앙값은 140억원입니다.'"
      ]
     },
     "execution_count": 9,
     "metadata": {},
     "output_type": "execute_result"
    }
   ],
   "source": [
    "median_adv = df['adv'].median()\n",
    "median_salse = df['adv'].median()\n",
    "'광고비의 중앙값은 %d백만원이고 매출액의 중앙값은 %d억원입니다.' %(median_adv,median_salse)\n"
   ]
  },
  {
   "attachments": {},
   "cell_type": "markdown",
   "metadata": {},
   "source": [
    "## 사분위수 \n",
    "\n",
    "- 데이터 표본을 4개의 동일한 부분으로 나눈 값\n",
    "- 사분위수를 사용하여 데이터 집합의 범위와 중심 위치를 신속하게 평가할 수 있다. \n",
    "- 이는 데이터를 이해하는데 중요한 1단계다.\n",
    "\n",
    "### 사분위 수의 종류\n",
    "| 용어               | 설명                                                   |\n",
    "| ------------------ | ------------------------------------------------------ |\n",
    "| 1사분위 수(Q1)     | 데이터의 하위 25%가 이 값보다 작거나 같음.             |\n",
    "| 2사분위 수(Q2)     | 중위수 데이터의 50%가 이 값보다 작거나 같음. (=중앙값) |\n",
    "| 3사분위 수(Q3)     | 데이터의 하위 75%가 이 값보다 작거나 같음.(=상위 25%)  |\n",
    "| 사분위간 범위(IQR) | 3사분위 수부터 1사분위 수 구간                         |\n",
    "\n",
    "- 사분위수는 데이터의 관측이 아닌 계산된 값이다.\n",
    "- 실존하지 않는 값이기 때문에 사분위수를 정확하게 계산하려면 종종 두 관측치 사이를 보강해야 한다.\n",
    "- 중위수와 사분위간의 범위는 극단치의 영향을 받지 않기 때문에 평균 및 표준 편차보다 치우침이 많은 데이터의 중심 위치와 범위의 더 나은 측도가 될 수 있다. \n",
    "\n",
    "IQR이란 ㅇ사본위의 정상 범위인 Q1과 Q3 사이를 의미하며 사분범위라고 한다. "
   ]
  },
  {
   "attachments": {},
   "cell_type": "markdown",
   "metadata": {},
   "source": [
    "### 1사분위 수 \n",
    "$ Q1 = ((총도수 + 1)*0.25)+1 $\n"
   ]
  },
  {
   "cell_type": "code",
   "execution_count": 10,
   "metadata": {},
   "outputs": [
    {
     "name": "stdout",
     "output_type": "stream",
     "text": [
      "사분위수의 위치 4.25\n"
     ]
    },
    {
     "data": {
      "text/plain": [
       "121.75"
      ]
     },
     "execution_count": 10,
     "metadata": {},
     "output_type": "execute_result"
    }
   ],
   "source": [
    "# 사분위수의 위치\n",
    "adv = list(df['adv'])\n",
    "총도수 = len(adv)\n",
    "Q1 = ((총도수 + 1) * 0.25) +1\n",
    "print('사분위수의 위치', Q1)\n",
    "\n",
    "# 사분위수의 실제 값\n",
    "df['adv'].quantile(q=0.25)\n"
   ]
  },
  {
   "attachments": {},
   "cell_type": "markdown",
   "metadata": {},
   "source": [
    "### 2사분위 수 \n",
    "중앙값과 동일"
   ]
  },
  {
   "cell_type": "code",
   "execution_count": 11,
   "metadata": {},
   "outputs": [
    {
     "data": {
      "text/plain": [
       "140.5"
      ]
     },
     "execution_count": 11,
     "metadata": {},
     "output_type": "execute_result"
    }
   ],
   "source": [
    "df['adv'].quantile(q=0.5)"
   ]
  },
  {
   "attachments": {},
   "cell_type": "markdown",
   "metadata": {},
   "source": [
    "### 3사분위 수 \n",
    "$ Q3 = ((총도수 + 1)*0.75)+1 $"
   ]
  },
  {
   "cell_type": "code",
   "execution_count": 12,
   "metadata": {},
   "outputs": [
    {
     "name": "stdout",
     "output_type": "stream",
     "text": [
      "사분위수의 위치 10.75\n"
     ]
    },
    {
     "data": {
      "text/plain": [
       "188.5"
      ]
     },
     "execution_count": 12,
     "metadata": {},
     "output_type": "execute_result"
    }
   ],
   "source": [
    "# 사분위수의 위치\n",
    "adv = list(df['adv'])\n",
    "총도수 = len(adv)\n",
    "Q1 = ((총도수 + 1) * 0.75) +1\n",
    "print('사분위수의 위치', Q1)\n",
    "\n",
    "# 사분위수의 실제 값\n",
    "df['adv'].quantile(q=0.75)\n"
   ]
  },
  {
   "attachments": {},
   "cell_type": "markdown",
   "metadata": {},
   "source": [
    "## 사분위간 범위 \n",
    "$ Q3 - Q1 $"
   ]
  },
  {
   "cell_type": "code",
   "execution_count": 13,
   "metadata": {},
   "outputs": [
    {
     "data": {
      "text/plain": [
       "66.75"
      ]
     },
     "execution_count": 13,
     "metadata": {},
     "output_type": "execute_result"
    }
   ],
   "source": [
    "df['adv'].quantile(q=0.75) - df['adv'].quantile(q=0.25)"
   ]
  },
  {
   "attachments": {},
   "cell_type": "markdown",
   "metadata": {},
   "source": [
    "## 분산, 표준편차"
   ]
  },
  {
   "cell_type": "code",
   "execution_count": 14,
   "metadata": {},
   "outputs": [
    {
     "name": "stdout",
     "output_type": "stream",
     "text": [
      "광고비의 분산은 3911.515152\n",
      "광고비의 표준편차는 62.542107\n"
     ]
    }
   ],
   "source": [
    "print(\"광고비의 분산은 %f\" % df['adv'].var())\n",
    "print(\"광고비의 표준편차는 %f\" % df['adv'].std())"
   ]
  },
  {
   "attachments": {},
   "cell_type": "markdown",
   "metadata": {},
   "source": [
    "## 기초통계량 일괄 산출"
   ]
  },
  {
   "attachments": {},
   "cell_type": "markdown",
   "metadata": {},
   "source": [
    "### 기초통계량 데이터 프레임 생성"
   ]
  },
  {
   "cell_type": "code",
   "execution_count": 15,
   "metadata": {},
   "outputs": [
    {
     "data": {
      "text/html": [
       "<div>\n",
       "<style scoped>\n",
       "    .dataframe tbody tr th:only-of-type {\n",
       "        vertical-align: middle;\n",
       "    }\n",
       "\n",
       "    .dataframe tbody tr th {\n",
       "        vertical-align: top;\n",
       "    }\n",
       "\n",
       "    .dataframe thead th {\n",
       "        text-align: right;\n",
       "    }\n",
       "</style>\n",
       "<table border=\"1\" class=\"dataframe\">\n",
       "  <thead>\n",
       "    <tr style=\"text-align: right;\">\n",
       "      <th></th>\n",
       "      <th>adv</th>\n",
       "      <th>salse</th>\n",
       "    </tr>\n",
       "  </thead>\n",
       "  <tbody>\n",
       "    <tr>\n",
       "      <th>count</th>\n",
       "      <td>12.000000</td>\n",
       "      <td>12.000000</td>\n",
       "    </tr>\n",
       "    <tr>\n",
       "      <th>mean</th>\n",
       "      <td>147.333333</td>\n",
       "      <td>538.166667</td>\n",
       "    </tr>\n",
       "    <tr>\n",
       "      <th>std</th>\n",
       "      <td>62.542107</td>\n",
       "      <td>428.774540</td>\n",
       "    </tr>\n",
       "    <tr>\n",
       "      <th>min</th>\n",
       "      <td>2.000000</td>\n",
       "      <td>100.000000</td>\n",
       "    </tr>\n",
       "    <tr>\n",
       "      <th>25%</th>\n",
       "      <td>121.750000</td>\n",
       "      <td>273.500000</td>\n",
       "    </tr>\n",
       "    <tr>\n",
       "      <th>50%</th>\n",
       "      <td>140.500000</td>\n",
       "      <td>425.000000</td>\n",
       "    </tr>\n",
       "    <tr>\n",
       "      <th>75%</th>\n",
       "      <td>188.500000</td>\n",
       "      <td>652.500000</td>\n",
       "    </tr>\n",
       "    <tr>\n",
       "      <th>max</th>\n",
       "      <td>237.000000</td>\n",
       "      <td>1690.000000</td>\n",
       "    </tr>\n",
       "  </tbody>\n",
       "</table>\n",
       "</div>"
      ],
      "text/plain": [
       "              adv        salse\n",
       "count   12.000000    12.000000\n",
       "mean   147.333333   538.166667\n",
       "std     62.542107   428.774540\n",
       "min      2.000000   100.000000\n",
       "25%    121.750000   273.500000\n",
       "50%    140.500000   425.000000\n",
       "75%    188.500000   652.500000\n",
       "max    237.000000  1690.000000"
      ]
     },
     "execution_count": 15,
     "metadata": {},
     "output_type": "execute_result"
    }
   ],
   "source": [
    "desc = df.describe()\n",
    "desc"
   ]
  },
  {
   "cell_type": "code",
   "execution_count": 16,
   "metadata": {},
   "outputs": [
    {
     "data": {
      "text/plain": [
       "adv      float64\n",
       "salse    float64\n",
       "dtype: object"
      ]
     },
     "execution_count": 16,
     "metadata": {},
     "output_type": "execute_result"
    }
   ],
   "source": [
    "desc.dtypes"
   ]
  },
  {
   "cell_type": "code",
   "execution_count": 17,
   "metadata": {},
   "outputs": [
    {
     "data": {
      "text/html": [
       "<div>\n",
       "<style scoped>\n",
       "    .dataframe tbody tr th:only-of-type {\n",
       "        vertical-align: middle;\n",
       "    }\n",
       "\n",
       "    .dataframe tbody tr th {\n",
       "        vertical-align: top;\n",
       "    }\n",
       "\n",
       "    .dataframe thead th {\n",
       "        text-align: right;\n",
       "    }\n",
       "</style>\n",
       "<table border=\"1\" class=\"dataframe\">\n",
       "  <thead>\n",
       "    <tr style=\"text-align: right;\">\n",
       "      <th></th>\n",
       "      <th>count</th>\n",
       "      <th>mean</th>\n",
       "      <th>std</th>\n",
       "      <th>min</th>\n",
       "      <th>25%</th>\n",
       "      <th>50%</th>\n",
       "      <th>75%</th>\n",
       "      <th>max</th>\n",
       "    </tr>\n",
       "  </thead>\n",
       "  <tbody>\n",
       "    <tr>\n",
       "      <th>adv</th>\n",
       "      <td>12.0</td>\n",
       "      <td>147.333333</td>\n",
       "      <td>62.542107</td>\n",
       "      <td>2.0</td>\n",
       "      <td>121.75</td>\n",
       "      <td>140.5</td>\n",
       "      <td>188.5</td>\n",
       "      <td>237.0</td>\n",
       "    </tr>\n",
       "    <tr>\n",
       "      <th>salse</th>\n",
       "      <td>12.0</td>\n",
       "      <td>538.166667</td>\n",
       "      <td>428.774540</td>\n",
       "      <td>100.0</td>\n",
       "      <td>273.50</td>\n",
       "      <td>425.0</td>\n",
       "      <td>652.5</td>\n",
       "      <td>1690.0</td>\n",
       "    </tr>\n",
       "  </tbody>\n",
       "</table>\n",
       "</div>"
      ],
      "text/plain": [
       "       count        mean         std    min     25%    50%    75%     max\n",
       "adv     12.0  147.333333   62.542107    2.0  121.75  140.5  188.5   237.0\n",
       "salse   12.0  538.166667  428.774540  100.0  273.50  425.0  652.5  1690.0"
      ]
     },
     "execution_count": 17,
     "metadata": {},
     "output_type": "execute_result"
    }
   ],
   "source": [
    "# 데이터프레임의 전치(행열 전환)\n",
    "desc.T"
   ]
  },
  {
   "attachments": {},
   "cell_type": "markdown",
   "metadata": {},
   "source": [
    "## 기초통계량 시각화"
   ]
  },
  {
   "attachments": {},
   "cell_type": "markdown",
   "metadata": {},
   "source": [
    "상자그림(boxplot)은 데이터의 범위 및 분포, 사분위 수, 이상치 등을 시각화 한 그래프"
   ]
  },
  {
   "cell_type": "code",
   "execution_count": 18,
   "metadata": {},
   "outputs": [],
   "source": [
    "plt.rcParams[\"font.family\"] = 'AppleGothic' if sys.platform == 'darwin' else 'Malgun Gothic'\n",
    "plt.rcParams[\"font.size\"] = 10\n",
    "plt.rcParams[\"figure.figsize\"] = (7, 4)\n",
    "plt.rcParams[\"axes.unicode_minus\"] = False"
   ]
  },
  {
   "attachments": {},
   "cell_type": "markdown",
   "metadata": {},
   "source": [
    "### 모든 컬럼에 대한 일괄 생성"
   ]
  },
  {
   "cell_type": "code",
   "execution_count": 19,
   "metadata": {},
   "outputs": [
    {
     "data": {
      "image/png": "[encoded data removed]",
      "text/plain": [
       "<Figure size 700x400 with 1 Axes>"
      ]
     },
     "metadata": {},
     "output_type": "display_data"
    }
   ],
   "source": [
    "plt.figure()\n",
    "plt.grid() # 격자는 항상 박스플롯 위에\n",
    "df.boxplot()\n",
    "plt.show()\n",
    "plt.close()"
   ]
  },
  {
   "attachments": {},
   "cell_type": "markdown",
   "metadata": {},
   "source": [
    "### 특정 컬럼만 시각화"
   ]
  },
  {
   "cell_type": "code",
   "execution_count": 20,
   "metadata": {},
   "outputs": [
    {
     "data": {
      "image/png": "[encoded data removed]",
      "text/plain": [
       "<Figure size 700x400 with 1 Axes>"
      ]
     },
     "metadata": {},
     "output_type": "display_data"
    }
   ],
   "source": [
    "plt.figure()\n",
    "plt.grid() # 격자는 항상 박스플롯 위에\n",
    "df.boxplot(['adv'])\n",
    "plt.show()\n",
    "plt.close()"
   ]
  },
  {
   "attachments": {},
   "cell_type": "markdown",
   "metadata": {},
   "source": [
    "### 서브플롯을 활용한 상자그림"
   ]
  },
  {
   "cell_type": "code",
   "execution_count": 21,
   "metadata": {},
   "outputs": [
    {
     "data": {
      "image/png": "[encoded data removed]",
      "text/plain": [
       "<Figure size 1000x400 with 2 Axes>"
      ]
     },
     "metadata": {},
     "output_type": "display_data"
    }
   ],
   "source": [
    "fig, (ax1, ax2) = plt.subplots(1, 2, figsize=(10,4))\n",
    "df.boxplot(['adv'],ax=ax1)\n",
    "df.boxplot(['salse'],ax=ax2)\n",
    "plt.show()\n",
    "plt.close()"
   ]
  },
  {
   "attachments": {},
   "cell_type": "markdown",
   "metadata": {},
   "source": [
    "### seaborn을 사용한 상자그림"
   ]
  },
  {
   "cell_type": "code",
   "execution_count": 22,
   "metadata": {},
   "outputs": [
    {
     "data": {
      "image/png": "[encoded data removed]",
      "text/plain": [
       "<Figure size 700x400 with 1 Axes>"
      ]
     },
     "metadata": {},
     "output_type": "display_data"
    }
   ],
   "source": [
    "plt.rcParams['figure.figsize'] = (7,4)\n",
    "plt.figure()\n",
    "sb.boxenplot(data=df)\n",
    "plt.show()\n",
    "plt.close()"
   ]
  },
  {
   "cell_type": "code",
   "execution_count": 23,
   "metadata": {},
   "outputs": [
    {
     "data": {
      "image/png": "[encoded data removed]",
      "text/plain": [
       "<Figure size 700x400 with 1 Axes>"
      ]
     },
     "metadata": {},
     "output_type": "display_data"
    }
   ],
   "source": [
    "# 가로로 눕히기\n",
    "plt.figure()\n",
    "sb.boxplot(data=df,x='adv')\n",
    "plt.show()\n",
    "plt.close()"
   ]
  },
  {
   "cell_type": "code",
   "execution_count": 24,
   "metadata": {},
   "outputs": [
    {
     "data": {
      "image/png": "[encoded data removed]",
      "text/plain": [
       "<Figure size 300x400 with 1 Axes>"
      ]
     },
     "metadata": {},
     "output_type": "display_data"
    }
   ],
   "source": [
    "plt.rcParams['figure.figsize'] = (3,4)\n",
    "plt.figure()\n",
    "sb.boxenplot(data=df,y='adv')\n",
    "plt.show()\n",
    "plt.close()"
   ]
  },
  {
   "attachments": {},
   "cell_type": "markdown",
   "metadata": {},
   "source": [
    "## 극단치 경계\n",
    "- 데이터가 극단적으로 크거나 작은 값을 극단치(이상치)라고 한다. 그 값을 결정하는 기준이 되는 값을 극단치 경계라고 한다."
   ]
  },
  {
   "attachments": {},
   "cell_type": "markdown",
   "metadata": {},
   "source": [
    "### IQR\n",
    "\n",
    "##### 1사분위수와 3사분위수의 거리\n",
    "$ IQR = Q3 - Q1 $\n",
    "##### 상한 극단치 경계\n",
    "$상한 = Q3 + IQR * 1.5 $\n",
    "##### 하한 극단치 경계\n",
    "$하한 = Q1 - IQR * 1.5 $\n"
   ]
  },
  {
   "cell_type": "code",
   "execution_count": 25,
   "metadata": {},
   "outputs": [
    {
     "data": {
      "text/plain": [
       "21.625"
      ]
     },
     "execution_count": 25,
     "metadata": {},
     "output_type": "execute_result"
    }
   ],
   "source": [
    "# 광고비에 대한 이상치 구하기\n",
    "q1 = df['adv'].quantile(q=0.25)\n",
    "q3 = df['adv'].quantile(q=0.75)\n",
    "iqr = q3-q1 \n",
    "하한 = q1 - iqr *1.5\n",
    "하한 #광고비에 대한 하한 극단치 경계값\n"
   ]
  },
  {
   "cell_type": "code",
   "execution_count": 26,
   "metadata": {},
   "outputs": [
    {
     "data": {
      "text/plain": [
       "month\n",
       "1월    2\n",
       "Name: adv, dtype: int64"
      ]
     },
     "execution_count": 26,
     "metadata": {},
     "output_type": "execute_result"
    }
   ],
   "source": [
    "df1 = df.query('adv <@하한')\n",
    "df1['adv']"
   ]
  },
  {
   "cell_type": "code",
   "execution_count": 27,
   "metadata": {},
   "outputs": [
    {
     "data": {
      "text/plain": [
       "1221.0"
      ]
     },
     "execution_count": 27,
     "metadata": {},
     "output_type": "execute_result"
    }
   ],
   "source": [
    "# 매출에 대한 이상치 구하기\n",
    "q1 = df['salse'].quantile(q=0.25)\n",
    "q3 = df['salse'].quantile(q=0.75)\n",
    "iqr = q3-q1 \n",
    "상한 = q3 + iqr *1.5\n",
    "상한 #매출액에 대한 상한 극단치 경계값"
   ]
  },
  {
   "cell_type": "code",
   "execution_count": 28,
   "metadata": {},
   "outputs": [
    {
     "data": {
      "text/plain": [
       "month\n",
       "2월    1690\n",
       "Name: salse, dtype: int64"
      ]
     },
     "execution_count": 28,
     "metadata": {},
     "output_type": "execute_result"
    }
   ],
   "source": [
    "df1 = df.query('salse > @상한')\n",
    "df1['salse']"
   ]
  }
 ],
 "metadata": {
  "kernelspec": {
   "display_name": "Python 3",
   "language": "python",
   "name": "python3"
  },
  "language_info": {
   "codemirror_mode": {
    "name": "ipython",
    "version": 3
   },
   "file_extension": ".py",
   "mimetype": "text/x-python",
   "name": "python",
   "nbconvert_exporter": "python",
   "pygments_lexer": "ipython3",
   "version": "3.11.1"
  },
  "orig_nbformat": 4
 },
 "nbformat": 4,
 "nbformat_minor": 2
}
