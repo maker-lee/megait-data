{
 "cells": [
  {
   "attachments": {},
   "cell_type": "markdown",
   "metadata": {},
   "source": [
    "### 카카오 매장 블로그 후기 검색"
   ]
  },
  {
   "cell_type": "code",
   "execution_count": null,
   "metadata": {},
   "outputs": [],
   "source": [
    "# 필요한 모듈 참조\n",
    "import requests\n",
    "import json\n",
    "from pandas import DataFrame\n",
    "from pandas import read_excel \n",
    "import pymysql\n",
    "from sqlalchemy import create_engine\n",
    "from pandas import DataFrame\n",
    "from pandas import read_sql, read_sql_table\n",
    "# 데이터베이스 접속 패키지 설치\n",
    "pymysql.install_as_MySQLdb() \n",
    "import MySQLdb"
   ]
  },
  {
   "cell_type": "code",
   "execution_count": null,
   "metadata": {},
   "outputs": [],
   "source": [
    "# 접속 문자열 생성\n",
    "# mysql+mysqldb://계정이름:비밀번호@:포트번호/데이터베이스이름?charset=인코딩\n",
    "conStr = 'mysql+mysqldb://root:1234@:3306/semiproject?charset=utf8' # utf8db 디비명 \n",
    "# 데이터베이스 접속하기\n",
    "engine = create_engine(conStr)\n",
    "conn = engine.connect() # conn ; 접속객체"
   ]
  },
  {
   "cell_type": "code",
   "execution_count": null,
   "metadata": {},
   "outputs": [],
   "source": [
    "# 접속할 URL\n",
    "urlFmt = \"https://dapi.kakao.com/v2/search/blog?query={query}#&page={page}&size={size}\"\n"
   ]
  },
  {
   "cell_type": "code",
   "execution_count": null,
   "metadata": {},
   "outputs": [],
   "source": [
    "# 검색할 지역\n",
    "location = '서울특별시 서초구 방배동 836-10 삼경빌딩'\n",
    "loc = location.split(\" \")\n",
    "loc\n"
   ]
  },
  {
   "cell_type": "code",
   "execution_count": null,
   "metadata": {},
   "outputs": [],
   "source": [
    "# 상위 100개 데이터 가져오기 \n",
    "df = read_sql('SELECT * FROM yogiyo_rank',index_col='매장명',con=conn)\n",
    "rank100 = df.head(100)\n",
    "rank100  = rank100.index\n",
    "rank100"
   ]
  },
  {
   "cell_type": "code",
   "execution_count": null,
   "metadata": {},
   "outputs": [],
   "source": [
    "# 검색 매장\n",
    "\n",
    "store_list = list(set(rank100))\n",
    "print(len(store_list),'개의 매장을 검색합니다',store_list)\n",
    "\n",
    "# 최종 저장할 리스트 생성 \n",
    "beast_store_list = []\n"
   ]
  },
  {
   "cell_type": "code",
   "execution_count": null,
   "metadata": {},
   "outputs": [],
   "source": [
    "for i in range(len(store_list)) : # 매장 숫자만큼 반복 28번 \n",
    "\n",
    "    # 요청변수\n",
    "    query = f\"{loc[1]} {loc[2]} {store_list[i]}\" # 쿼리에 매장 정보를 날려 \n",
    "    page = 1\n",
    "    size = 50\n",
    "    key = \"87fa270de879f3dd014b8779623884db\" \n",
    "\n",
    "    # 접속 객체 생성\n",
    "    session = requests.Session()\n",
    "\n",
    "    # 접속객체에 부가정보(header) 삽입하기\n",
    "    session.headers.update({\n",
    "        \"Authorization\": \"KakaoAK %s\" % key    # 인증키\n",
    "    })\n",
    "\n",
    "    # 다음 페이지가 존재하는지 여부 --> False인 동안은 while문 반복\n",
    "    isEnd = False\n",
    "\n",
    "    # 반복 수행 도중 추출되는 검색결과 리스트를 결합할 빈 리스트 준비\n",
    "    mylist = []\n",
    "\n",
    "    # 1페이지부터 시작\n",
    "    page = 1\n",
    "\n",
    "    while (not isEnd) :            \n",
    "        # 접속할 URL\n",
    "        url = urlFmt.format(query=query, page=page, size=size)\n",
    "        url\n",
    "\n",
    "        # 생성한 접속객체를 활용하여 API에 접속\n",
    "        r = session.get(url)\n",
    "\n",
    "        # 접속에 실패한 경우\n",
    "        if r.status_code != 200:\n",
    "            break\n",
    "            # # 에러코드와 에러메시지 출력\n",
    "            # msg = \"[%d Error] %s 에러가 발생함\" % (r.status_code, r.reason)\n",
    "            # # 에러를 강제로 생성시킴\n",
    "            # raise Exception(msg)\n",
    "                \n",
    "\n",
    "        # 인코딩 형식 지정\n",
    "        r.encoding = \"utf-8\"\n",
    "        # 가져온 문자열을 딕셔너리로 변환\n",
    "        data = json.loads(r.text)        \n",
    "\n",
    "        # 검색 결과를 갖고 있는 딕셔너리를 포함하는 리스트 추출\n",
    "        searchList = data['documents']\n",
    "        \n",
    "        for j in range(len(searchList)) :\n",
    "            searchList[j]['매장명'] = store_list[i]\n",
    "            searchList[j]['contents'] = (searchList[j]['contents'].replace('</b>','')).replace('<b>','')\n",
    "            searchList[j]['title'] = (searchList[j]['title'].replace('</b>','')).replace('<b>','')\n",
    "\n",
    "        # 추출한 리스트를 미리 준비한 빈 리스트에 추가\n",
    "        mylist.extend(searchList)\n",
    "\n",
    "        # 증감식에 해당하는 isEnd변수 추출\n",
    "        isEnd = bool(data['meta']['is_end'])\n",
    "        page += 1\n",
    "        print(\"isEnd=\", isEnd, \", 다음페이지=\", page)\n",
    "\n",
    "        if page == 5 :\n",
    "            isEnd = True\n",
    "    \n",
    "    print(\"최종 검색 건수: %d\" % len(mylist))\n",
    "\n",
    "    # 검색 결과를 가족 있는 딕셔너리를 포함하는 리스트를 추출한다. \n",
    "    searchList = data['documents']\n",
    "\n",
    "    # 추출한 리스트를 미리 준비한 빈 리스트에 추가\n",
    "    beast_store_list.extend(searchList) \n",
    "   "
   ]
  },
  {
   "cell_type": "code",
   "execution_count": null,
   "metadata": {},
   "outputs": [],
   "source": [
    "import pymysql\n",
    "from sqlalchemy import create_engine\n",
    "from pandas import DataFrame\n",
    "from pandas import read_sql, read_sql_table\n",
    "pymysql.install_as_MySQLdb() #pip이 없음 \n",
    "import MySQLdb"
   ]
  },
  {
   "cell_type": "code",
   "execution_count": 2,
   "metadata": {},
   "outputs": [
    {
     "ename": "NameError",
     "evalue": "name 'create_engine' is not defined",
     "output_type": "error",
     "traceback": [
      "\u001b[1;31m---------------------------------------------------------------------------\u001b[0m",
      "\u001b[1;31mNameError\u001b[0m                                 Traceback (most recent call last)",
      "Cell \u001b[1;32mIn[2], line 4\u001b[0m\n\u001b[0;32m      2\u001b[0m conStr \u001b[39m=\u001b[39m \u001b[39m'\u001b[39m\u001b[39mmysql+mysqldb://root:1234@:3306/semiproject?charset=utf8\u001b[39m\u001b[39m'\u001b[39m \u001b[39m# utf8db 디비명 \u001b[39;00m\n\u001b[0;32m      3\u001b[0m \u001b[39m# 데이터베이스 접속하기\u001b[39;00m\n\u001b[1;32m----> 4\u001b[0m engine \u001b[39m=\u001b[39m create_engine(conStr)\n\u001b[0;32m      5\u001b[0m conn \u001b[39m=\u001b[39m engine\u001b[39m.\u001b[39mconnect() \n",
      "\u001b[1;31mNameError\u001b[0m: name 'create_engine' is not defined"
     ]
    }
   ],
   "source": [
    "# 접속 문자열 생성\n",
    "conStr = 'mysql+mysqldb://root:1234@:3306/semiproject?charset=utf8' # utf8db 디비명 \n",
    "# 데이터베이스 접속하기\n",
    "engine = create_engine(conStr)\n",
    "conn = engine.connect() "
   ]
  },
  {
   "cell_type": "code",
   "execution_count": null,
   "metadata": {},
   "outputs": [],
   "source": [
    "# 결과 엑셀 저장 및 출력\n",
    "df = DataFrame(beast_store_list) \n",
    "df.drop(['thumbnail'],axis=1,inplace=True)\n",
    "df.drop(['contents'],axis=1,inplace=True)\n",
    "df.drop(['title'],axis=1,inplace=True)\n",
    "df.set_index('매장명')\n",
    "df.to_excel(\"카카오 블로그 검색 결과(%s).xlsx\" % loc[2],sheet_name='검색',index=False)"
   ]
  },
  {
   "cell_type": "code",
   "execution_count": null,
   "metadata": {},
   "outputs": [],
   "source": [
    "# 데이터 내보내기\n",
    "df.to_sql(name='daum',con=conn,if_exists='append',index=False) # new_table 테이블명 \n",
    "conn.commit()\n",
    "df"
   ]
  },
  {
   "cell_type": "code",
   "execution_count": null,
   "metadata": {},
   "outputs": [],
   "source": [
    "df = read_sql('SELECT * FROM daum',index_col='매장명',con=conn)\n",
    "df"
   ]
  }
 ],
 "metadata": {
  "kernelspec": {
   "display_name": "Python 3",
   "language": "python",
   "name": "python3"
  },
  "language_info": {
   "codemirror_mode": {
    "name": "ipython",
    "version": 3
   },
   "file_extension": ".py",
   "mimetype": "text/x-python",
   "name": "python",
   "nbconvert_exporter": "python",
   "pygments_lexer": "ipython3",
   "version": "3.11.1"
  },
  "orig_nbformat": 4
 },
 "nbformat": 4,
 "nbformat_minor": 2
}
