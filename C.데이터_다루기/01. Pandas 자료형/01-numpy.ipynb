{
 "cells": [
  {
   "cell_type": "code",
   "execution_count": 3,
   "metadata": {},
   "outputs": [],
   "source": [
    "import numpy"
   ]
  },
  {
   "attachments": {},
   "cell_type": "markdown",
   "metadata": {},
   "source": [
    "다차원 배열을 수비게 처리하고 효율적으로 사용할 수 있도록 지원하는 파이썬 패키지. 데이터 구조 외에도 수치 계산을 위해 효율적으로 구현된 기능을 제공한다. 데이터 분석에서 Pandas와 함께 자주 사용하는 도구\n",
    "\n",
    "실제로 데이터 분석을 수행하기 위한 전제 조건은 컴퓨터가 이해할 수 있도록 데이터를 숫자 형식으로 변환해야 한다. 파이썬의 list 자료형의 경우 데이터의 크기가 커질수록 저장 및 가공에 효율성을 보장하지 못함. 이러한 단점을 보완하기 위한 패키지이므로 data science에 핵심적인 도구로 인삭된다."
   ]
  },
  {
   "attachments": {},
   "cell_type": "markdown",
   "metadata": {},
   "source": [
    "1) numpy의 역할"
   ]
  },
  {
   "cell_type": "code",
   "execution_count": 4,
   "metadata": {},
   "outputs": [
    {
     "data": {
      "text/plain": [
       "array([0, 1, 3, 5, 7, 9])"
      ]
     },
     "execution_count": 4,
     "metadata": {},
     "output_type": "execute_result"
    }
   ],
   "source": [
    "# 리스트를 통한 1차원 배열 만들기\n",
    "arr = numpy.array([0,1,3,5,7,9])\n",
    "arr"
   ]
  },
  {
   "cell_type": "code",
   "execution_count": 5,
   "metadata": {},
   "outputs": [
    {
     "name": "stdout",
     "output_type": "stream",
     "text": [
      "배열위 원소는 6\n"
     ]
    }
   ],
   "source": [
    "# 배열의 크기와 각 원소에 접근하기 \n",
    "# 내자함수 (len())은 모든 연속성 데이터(문자열, 리스트, 튜플)에 사용 가능\n",
    "size=len(arr)\n",
    "print('배열위 원소는 %d' % size)"
   ]
  },
  {
   "cell_type": "code",
   "execution_count": 6,
   "metadata": {},
   "outputs": [
    {
     "name": "stdout",
     "output_type": "stream",
     "text": [
      "0\n",
      "1\n"
     ]
    }
   ],
   "source": [
    "# 배열의 원소에 접근하기\n",
    "# 리스트와 마찬가지로 각 원소에 인덱스 번호로 접근 가능\n",
    "print(arr[0])\n",
    "print(arr[1])\n"
   ]
  },
  {
   "cell_type": "code",
   "execution_count": 7,
   "metadata": {},
   "outputs": [
    {
     "name": "stdout",
     "output_type": "stream",
     "text": [
      "0번째 원소 >> 0\n",
      "1번째 원소 >> 1\n",
      "2번째 원소 >> 3\n",
      "3번째 원소 >> 5\n",
      "4번째 원소 >> 7\n",
      "5번째 원소 >> 9\n"
     ]
    }
   ],
   "source": [
    "# 인덱스가 있기 때문에 반복문을 통ㅇ해서 제어할 각 원소에 접근 가능\n",
    "for i, v in enumerate(arr) :\n",
    "    print('%d번째 원소 >> %d' %(i,v))"
   ]
  },
  {
   "cell_type": "markdown",
   "metadata": {},
   "source": [
    "2) 배열의 특성"
   ]
  },
  {
   "cell_type": "code",
   "execution_count": 8,
   "metadata": {},
   "outputs": [],
   "source": [
    "# 서로 다른 타입의 원소를 갖는 list 만들기\n",
    "# 파이썬의 리스트는 서로 다른 타입 허용\n",
    "arr2 = [1.2,3,'4']\n"
   ]
  },
  {
   "cell_type": "code",
   "execution_count": 9,
   "metadata": {},
   "outputs": [
    {
     "data": {
      "text/plain": [
       "array([1. , 2.4, 3. , 4.5])"
      ]
     },
     "execution_count": 9,
     "metadata": {},
     "output_type": "execute_result"
    }
   ],
   "source": [
    "# 정수와 실수가 섞인 리스트를 배열롸 변환\n",
    "# 배열은 원소의 타입이 서로 다른 것을 허용하지 않는다.\n",
    "# 가장 포괄적인 형태의 자료형으로 통일함 (실수)\n",
    "arr3 = numpy.array([1,2.4,3,4.5]) #1뒤에 0이 숲음 1.0임 \n",
    "arr3"
   ]
  },
  {
   "cell_type": "code",
   "execution_count": 10,
   "metadata": {},
   "outputs": [
    {
     "data": {
      "text/plain": [
       "array(['1.2', '3', '4'], dtype='<U32')"
      ]
     },
     "execution_count": 10,
     "metadata": {},
     "output_type": "execute_result"
    }
   ],
   "source": [
    "# 정수, 실수, 문자열이 포함된 리스트를 배열로 변환\n",
    "# 모든 타입이 문자열로 변환되어 있음 \n",
    "arr4 = numpy.array([1.2,3,'4'])\n",
    "arr4"
   ]
  },
  {
   "cell_type": "code",
   "execution_count": 11,
   "metadata": {},
   "outputs": [
    {
     "data": {
      "text/plain": [
       "array([1, 2, 3, 4])"
      ]
     },
     "execution_count": 11,
     "metadata": {},
     "output_type": "execute_result"
    }
   ],
   "source": [
    "# 모든 원소의 타입을 강제로 int()로 지정\n",
    "# 소수점 아래 값들은 모두 버려진다\n",
    "arr5 = numpy.array([1,2.4,3,4.6], dtype='int')\n",
    "arr5"
   ]
  },
  {
   "cell_type": "markdown",
   "metadata": {},
   "source": [
    "3) numpy 배열의 기초 통계값"
   ]
  },
  {
   "cell_type": "code",
   "execution_count": 12,
   "metadata": {},
   "outputs": [
    {
     "data": {
      "text/plain": [
       "array([82, 77, 91, 88])"
      ]
     },
     "execution_count": 12,
     "metadata": {},
     "output_type": "execute_result"
    }
   ],
   "source": [
    "# 예제를 통한 배열 구성\n",
    "grade = numpy.array([82,77,91,88])\n",
    "grade"
   ]
  },
  {
   "cell_type": "code",
   "execution_count": 13,
   "metadata": {},
   "outputs": [
    {
     "name": "stdout",
     "output_type": "stream",
     "text": [
      "총점: 338\n"
     ]
    }
   ],
   "source": [
    "# 모든 원소의 합\n",
    "s1 = numpy.sum(grade)\n",
    "print('총점: %d' % s1)"
   ]
  },
  {
   "cell_type": "code",
   "execution_count": 14,
   "metadata": {},
   "outputs": [
    {
     "name": "stdout",
     "output_type": "stream",
     "text": [
      "평균: 84\n"
     ]
    }
   ],
   "source": [
    "# 모든 원소의 평균\n",
    "s2 = numpy.average(grade)\n",
    "print('평균: %d' % s2)"
   ]
  },
  {
   "cell_type": "code",
   "execution_count": 15,
   "metadata": {},
   "outputs": [
    {
     "name": "stdout",
     "output_type": "stream",
     "text": [
      "최대값: 91, 최소값 77\n"
     ]
    }
   ],
   "source": [
    "# 최대, 최소값\n",
    "s3 = numpy.max(grade)\n",
    "s4 = numpy.min(grade)\n",
    "print('최대값: %d, 최소값 %d' % (s3,s4))"
   ]
  },
  {
   "cell_type": "markdown",
   "metadata": {},
   "source": [
    "4) numpy 배열의 각 원소에 대한 연산"
   ]
  },
  {
   "cell_type": "code",
   "execution_count": 16,
   "metadata": {},
   "outputs": [
    {
     "data": {
      "text/plain": [
       "array([84, 79, 93, 90])"
      ]
     },
     "execution_count": 16,
     "metadata": {},
     "output_type": "execute_result"
    }
   ],
   "source": [
    "# 모든 원소에 대한 사칙연산 수행\n",
    "# 모든 원소에 대하여 2씩 더함\n",
    "new1 = grade + 2\n",
    "new1 "
   ]
  },
  {
   "cell_type": "code",
   "execution_count": 17,
   "metadata": {},
   "outputs": [
    {
     "data": {
      "text/plain": [
       "array([77, 72, 86, 83])"
      ]
     },
     "execution_count": 17,
     "metadata": {},
     "output_type": "execute_result"
    }
   ],
   "source": [
    "# 모든 원소에 대한 사칙연산 수행\n",
    "# 모든 원소에 대하여 5씩 뺌\n",
    "new2 = grade -5\n",
    "new2 "
   ]
  },
  {
   "attachments": {},
   "cell_type": "markdown",
   "metadata": {},
   "source": [
    "5) numpy 배열끼리의 연산"
   ]
  },
  {
   "cell_type": "code",
   "execution_count": 18,
   "metadata": {},
   "outputs": [
    {
     "data": {
      "text/plain": [
       "array([12, 18, 24, 30, 36])"
      ]
     },
     "execution_count": 18,
     "metadata": {},
     "output_type": "execute_result"
    }
   ],
   "source": [
    "# 연산자를 사용한 배열간의 연산 -> 위치가 동일한 각 원소끼리 수행된다\n",
    "arr1 = numpy.array([10,15,20,25,30])\n",
    "arr2 = numpy.array([2,3,4,5,6])\n",
    "a = arr1 + arr2\n",
    "a"
   ]
  },
  {
   "cell_type": "code",
   "execution_count": 19,
   "metadata": {},
   "outputs": [
    {
     "data": {
      "text/plain": [
       "array([12, 18, 24, 30, 36])"
      ]
     },
     "execution_count": 19,
     "metadata": {},
     "output_type": "execute_result"
    }
   ],
   "source": [
    "b = numpy.add(arr1,arr2)\n",
    "b"
   ]
  },
  {
   "cell_type": "code",
   "execution_count": 20,
   "metadata": {},
   "outputs": [
    {
     "data": {
      "text/plain": [
       "array([ 8, 12, 16, 20, 24])"
      ]
     },
     "execution_count": 20,
     "metadata": {},
     "output_type": "execute_result"
    }
   ],
   "source": [
    "c = numpy.subtract(arr1,arr2)\n",
    "c"
   ]
  },
  {
   "cell_type": "code",
   "execution_count": 21,
   "metadata": {},
   "outputs": [
    {
     "data": {
      "text/plain": [
       "array([ 20,  45,  80, 125, 180])"
      ]
     },
     "execution_count": 21,
     "metadata": {},
     "output_type": "execute_result"
    }
   ],
   "source": [
    "d = numpy.multiply(arr1,arr2)\n",
    "d"
   ]
  },
  {
   "cell_type": "code",
   "execution_count": 22,
   "metadata": {},
   "outputs": [
    {
     "data": {
      "text/plain": [
       "array([5., 5., 5., 5., 5.])"
      ]
     },
     "execution_count": 22,
     "metadata": {},
     "output_type": "execute_result"
    }
   ],
   "source": [
    "f = numpy.divide(arr1,arr2)\n",
    "f"
   ]
  },
  {
   "attachments": {},
   "cell_type": "markdown",
   "metadata": {},
   "source": [
    "6) numpy 배열의 기본 인덱싱, 슬라이싱"
   ]
  },
  {
   "cell_type": "code",
   "execution_count": 23,
   "metadata": {},
   "outputs": [
    {
     "data": {
      "text/plain": [
       "array([82, 77, 91, 88])"
      ]
     },
     "execution_count": 23,
     "metadata": {},
     "output_type": "execute_result"
    }
   ],
   "source": [
    "# 철수의 1학년~4학년 까지의 평균 점수\n",
    "grade = numpy.array([82,77,91,88])\n",
    "grade"
   ]
  },
  {
   "cell_type": "code",
   "execution_count": 24,
   "metadata": {},
   "outputs": [
    {
     "data": {
      "text/plain": [
       "91"
      ]
     },
     "execution_count": 24,
     "metadata": {},
     "output_type": "execute_result"
    }
   ],
   "source": [
    "# 인덱싱 / 슬라이싱 모두 동일\n",
    "grade[2]"
   ]
  },
  {
   "attachments": {},
   "cell_type": "markdown",
   "metadata": {},
   "source": [
    "7) 조건에 맞는 값 추출하기 "
   ]
  },
  {
   "cell_type": "code",
   "execution_count": 25,
   "metadata": {},
   "outputs": [
    {
     "data": {
      "text/plain": [
       "array([ True, False,  True, False])"
      ]
     },
     "execution_count": 25,
     "metadata": {},
     "output_type": "execute_result"
    }
   ],
   "source": [
    "# 추출하고자 하는 원본과 같은 사이즈의 배열을 생성한다\n",
    "# 추출할 값은 True, 그렇지 않으면 False\n",
    "bool_array = numpy.array([True,False,True,False])\n",
    "bool_array"
   ]
  },
  {
   "cell_type": "code",
   "execution_count": 26,
   "metadata": {},
   "outputs": [
    {
     "data": {
      "text/plain": [
       "array([82, 91])"
      ]
     },
     "execution_count": 26,
     "metadata": {},
     "output_type": "execute_result"
    }
   ],
   "source": [
    "# 조건에 맞는 항목만 1차 배열로 추출\n",
    "result1 = grade[bool_array]\n",
    "result1 "
   ]
  },
  {
   "cell_type": "code",
   "execution_count": 27,
   "metadata": {},
   "outputs": [
    {
     "data": {
      "text/plain": [
       "array([82, 91, 88])"
      ]
     },
     "execution_count": 27,
     "metadata": {},
     "output_type": "execute_result"
    }
   ],
   "source": [
    "# 80점 이상인ㅇ지 판별된 조건에 맞는 데이터만 추려내기\n",
    "result2 = grade[grade >= 80]\n",
    "result2 "
   ]
  },
  {
   "cell_type": "code",
   "execution_count": 28,
   "metadata": {},
   "outputs": [
    {
     "data": {
      "text/plain": [
       "array([82, 88])"
      ]
     },
     "execution_count": 28,
     "metadata": {},
     "output_type": "execute_result"
    }
   ],
   "source": [
    "# logical_and 함수를 사용하여 80점 이상 90점 이하 데이터만 추려내기\n",
    "result3 = grade[numpy.logical_and(grade >=80, grade <= 90)]\n",
    "result3 "
   ]
  },
  {
   "attachments": {},
   "cell_type": "markdown",
   "metadata": {},
   "source": [
    "## 03. 2차 배열"
   ]
  },
  {
   "attachments": {},
   "cell_type": "markdown",
   "metadata": {},
   "source": [
    "1) numpy 2차 배열 생성 및 기본 정보 조회"
   ]
  },
  {
   "cell_type": "code",
   "execution_count": 29,
   "metadata": {},
   "outputs": [
    {
     "data": {
      "text/plain": [
       "array([[98, 72, 80, 64],\n",
       "       [88, 90, 80, 72],\n",
       "       [92, 88, 82, 76]])"
      ]
     },
     "execution_count": 29,
     "metadata": {},
     "output_type": "execute_result"
    }
   ],
   "source": [
    "# 철수의 학년-과목별 점수\n",
    "grade = numpy.array([\n",
    "    [98,72,80,64],\n",
    "    [88,90,80,72],\n",
    "    [92,88,82,76]\n",
    "])\n",
    "grade"
   ]
  },
  {
   "cell_type": "code",
   "execution_count": 30,
   "metadata": {},
   "outputs": [
    {
     "data": {
      "text/plain": [
       "2"
      ]
     },
     "execution_count": 30,
     "metadata": {},
     "output_type": "execute_result"
    }
   ],
   "source": [
    "# 차원 크기\n",
    "grade.ndim"
   ]
  },
  {
   "cell_type": "code",
   "execution_count": 31,
   "metadata": {},
   "outputs": [
    {
     "data": {
      "text/plain": [
       "(3, 4)"
      ]
     },
     "execution_count": 31,
     "metadata": {},
     "output_type": "execute_result"
    }
   ],
   "source": [
    "# 각 차원의 원소수 \n",
    "grade.shape"
   ]
  },
  {
   "cell_type": "code",
   "execution_count": 32,
   "metadata": {},
   "outputs": [
    {
     "data": {
      "text/plain": [
       "dtype('int32')"
      ]
     },
     "execution_count": 32,
     "metadata": {},
     "output_type": "execute_result"
    }
   ],
   "source": [
    "# 각 원소의 타입\n",
    "grade.dtype"
   ]
  },
  {
   "attachments": {},
   "cell_type": "markdown",
   "metadata": {},
   "source": [
    "2) 기본 인덱싱과 슬라이싱"
   ]
  },
  {
   "cell_type": "code",
   "execution_count": 33,
   "metadata": {},
   "outputs": [
    {
     "name": "stdout",
     "output_type": "stream",
     "text": [
      "80\n",
      "80\n"
     ]
    }
   ],
   "source": [
    "# 정수형 인덱싱 1행 2열의 데이터 접근 방법\n",
    "print(grade[1,2])\n",
    "print(grade[1][2])"
   ]
  },
  {
   "cell_type": "code",
   "execution_count": 34,
   "metadata": {},
   "outputs": [
    {
     "data": {
      "text/plain": [
       "array([[90, 80, 72],\n",
       "       [88, 82, 76]])"
      ]
     },
     "execution_count": 34,
     "metadata": {},
     "output_type": "execute_result"
    }
   ],
   "source": [
    "# 슬라이싱 1~3행 전까지, 1~4열 전까지의 범위를 추출 \n",
    "grade[1:3,1:4] "
   ]
  },
  {
   "attachments": {},
   "cell_type": "markdown",
   "metadata": {},
   "source": [
    "03) 기초 통계 산출"
   ]
  },
  {
   "cell_type": "code",
   "execution_count": 35,
   "metadata": {},
   "outputs": [
    {
     "name": "stdout",
     "output_type": "stream",
     "text": [
      "<class 'numpy.ndarray'>\n"
     ]
    },
    {
     "data": {
      "text/plain": [
       "array([278, 250, 242, 212])"
      ]
     },
     "execution_count": 35,
     "metadata": {},
     "output_type": "execute_result"
    }
   ],
   "source": [
    "# 각 열끼리 더함(세로로 덧셈) 결과 타입은 numpy의 1차 배열\n",
    "s1 = numpy.sum(grade,axis=0)\n",
    "print(type(s1))\n",
    "s1"
   ]
  },
  {
   "cell_type": "code",
   "execution_count": 36,
   "metadata": {},
   "outputs": [
    {
     "name": "stdout",
     "output_type": "stream",
     "text": [
      "<class 'numpy.ndarray'>\n"
     ]
    },
    {
     "data": {
      "text/plain": [
       "array([314, 330, 338])"
      ]
     },
     "execution_count": 36,
     "metadata": {},
     "output_type": "execute_result"
    }
   ],
   "source": [
    "# 각 행끼리 더함(가로로 덧셈) \n",
    "s2 = numpy.sum(grade,axis=1)\n",
    "print(type(s2))\n",
    "s2"
   ]
  },
  {
   "attachments": {},
   "cell_type": "markdown",
   "metadata": {},
   "source": [
    "4) 조건에 맞는 값 추출하기"
   ]
  },
  {
   "cell_type": "code",
   "execution_count": 37,
   "metadata": {},
   "outputs": [
    {
     "data": {
      "text/plain": [
       "array([98, 80, 88, 92, 88, 82, 76])"
      ]
     },
     "execution_count": 37,
     "metadata": {},
     "output_type": "execute_result"
    }
   ],
   "source": [
    "# bool형 인덱싱\n",
    "# 추출하고자 하는 원본과 같은 사이즈의 배열, 추출할 값은 True, 그렇지 않으면 False \n",
    "bool_array = numpy.array([\n",
    "    [True,False,True,False],\n",
    "    [True,False,False,False],\n",
    "    [True,True,True,True],\n",
    "])\n",
    "\n",
    "# 조건에 맞는 항목만 1차 배열로 추출\n",
    "resutl1 = grade[bool_array]\n",
    "resutl1"
   ]
  },
  {
   "cell_type": "code",
   "execution_count": 38,
   "metadata": {},
   "outputs": [
    {
     "data": {
      "text/plain": [
       "array([98, 80, 88, 90, 80, 92, 88, 82])"
      ]
     },
     "execution_count": 38,
     "metadata": {},
     "output_type": "execute_result"
    }
   ],
   "source": [
    "# 80점 이상인지 판별하여 조건에 맞는 데이터만 추려냄/ 추출된 결과는 1차 배열\n",
    "result2 = grade[grade >=80]\n",
    "result2"
   ]
  },
  {
   "cell_type": "code",
   "execution_count": 39,
   "metadata": {},
   "outputs": [
    {
     "data": {
      "text/plain": [
       "array([80, 88, 90, 80, 88, 82])"
      ]
     },
     "execution_count": 39,
     "metadata": {},
     "output_type": "execute_result"
    }
   ],
   "source": [
    "# logical_and 함수를 사용하여 80점 이상이고 90점 이하인 데이터만 추려냄\n",
    "result3 = grade[numpy.logical_and(grade >= 80,grade <= 90)]\n",
    "result3"
   ]
  },
  {
   "cell_type": "code",
   "execution_count": 40,
   "metadata": {},
   "outputs": [
    {
     "data": {
      "text/plain": [
       "array([], dtype=int32)"
      ]
     },
     "execution_count": 40,
     "metadata": {},
     "output_type": "execute_result"
    }
   ],
   "source": [
    "# logical_and 함수를 사용하여 80점 미만이거나 90점 초과인 데이터만 추려냄\n",
    "result4 = grade[numpy.logical_and(grade < 80,grade > 90)]\n",
    "result4"
   ]
  }
 ],
 "metadata": {
  "kernelspec": {
   "display_name": "Python 3",
   "language": "python",
   "name": "python3"
  },
  "language_info": {
   "codemirror_mode": {
    "name": "ipython",
    "version": 3
   },
   "file_extension": ".py",
   "mimetype": "text/x-python",
   "name": "python",
   "nbconvert_exporter": "python",
   "pygments_lexer": "ipython3",
   "version": "3.11.1"
  },
  "orig_nbformat": 4
 },
 "nbformat": 4,
 "nbformat_minor": 2
}
