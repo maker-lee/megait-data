{
 "cells": [
  {
   "attachments": {},
   "cell_type": "markdown",
   "metadata": {},
   "source": [
    "파이썬 연습문제"
   ]
  },
  {
   "cell_type": "code",
   "execution_count": 7,
   "metadata": {},
   "outputs": [
    {
     "name": "stdout",
     "output_type": "stream",
     "text": [
      "8900000\n",
      "15020000\n"
     ]
    }
   ],
   "source": [
    "daum = 89000\n",
    "naver = 751000\n",
    "daum_cnt = 100\n",
    "naver_cnt = 20\n",
    "total_daum =daum*daum_cnt\n",
    "total_naver=naver*naver_cnt\n",
    "print(total_daum)\n",
    "print(total_naver)"
   ]
  },
  {
   "cell_type": "code",
   "execution_count": 8,
   "metadata": {},
   "outputs": [
    {
     "name": "stdout",
     "output_type": "stream",
     "text": [
      "8455000.0\n",
      "13518000.0\n"
     ]
    }
   ],
   "source": [
    "daum = daum-(daum * 0.05)\n",
    "naver = naver-(naver * 0.1)\n",
    "total_daum = daum*daum_cnt\n",
    "total_naver = naver*naver_cnt\n",
    "print(total_daum)\n",
    "print(total_naver)\n"
   ]
  },
  {
   "cell_type": "code",
   "execution_count": 9,
   "metadata": {},
   "outputs": [
    {
     "name": "stdout",
     "output_type": "stream",
     "text": [
      "당신의 비만도는 저체중입니다.\n"
     ]
    }
   ],
   "source": [
    "myWeight = int(input('체중(kg): '))\n",
    "myHeight = float(input('키(m): '))\n",
    "\n",
    "BMI = myWeight/((myHeight)*2)\n",
    "bodyMass = \"\"\n",
    "if BMI >= 30 :\n",
    "    bodyMass = '비만'\n",
    "elif BMI <= 29 and BMI >= 25:\n",
    "    bodyMass = '과체중'\n",
    "elif BMI <= 24 and BMI >= 20:\n",
    "    bodyMass = '정상'\n",
    "else :\n",
    "    bodyMass = '저체중'\n",
    "    \n",
    "print('당신의 비만도는 {}입니다.'.format(bodyMass))"
   ]
  },
  {
   "cell_type": "code",
   "execution_count": 10,
   "metadata": {},
   "outputs": [
    {
     "name": "stdout",
     "output_type": "stream",
     "text": [
      "Daum Daum KaKao\n"
     ]
    }
   ],
   "source": [
    "s = \"Daum KaKao\"\n",
    "s = s[:5]+s[:]\n",
    "print(s)"
   ]
  },
  {
   "cell_type": "code",
   "execution_count": 11,
   "metadata": {},
   "outputs": [
    {
     "name": "stdout",
     "output_type": "stream",
     "text": [
      "폴더의 위치 : C:\\myphoto 파일 이름 helloworld 확장자 jpg\n"
     ]
    }
   ],
   "source": [
    "pic = 'C:\\\\myphoto\\\\helloworld.jpg'\n",
    "\n",
    "# pic_adress = pic.split('\\\\')\n",
    "# print(pic_adress)\n",
    "# print('폴더의 위치 : {}\\\\ 파일 이름 {} 확장자 {}'.format(pic_adress[0],pic_adress[2],pic_adress[3]))\n",
    "\n",
    "# 마지막 '\\'위치 디렉토리를 변경할 수 있으니까. \n",
    "p1 = pic.rfind('\\\\')\n",
    "p2 = pic.rfind('.')\n",
    "print('폴더의 위치 : {} 파일 이름 {} 확장자 {}'.format(pic[:p1],pic[p1+1:p2],pic[p2+1:]))"
   ]
  },
  {
   "cell_type": "code",
   "execution_count": 12,
   "metadata": {},
   "outputs": [
    {
     "name": "stdout",
     "output_type": "stream",
     "text": [
      "90.33333333333333\n"
     ]
    }
   ],
   "source": [
    "math = [82,74,93,65,32,71,90,88,74]\n",
    "\n",
    "math.sort(reverse=True)\n",
    "print(sum(math[0:3])/len(math[0:3]))"
   ]
  },
  {
   "cell_type": "code",
   "execution_count": 13,
   "metadata": {},
   "outputs": [
    {
     "name": "stdout",
     "output_type": "stream",
     "text": [
      "당신은 20대 입니다.\n"
     ]
    }
   ],
   "source": [
    "age = int(input('나이를 입력하세요. :'))\n",
    "if age < 10 :\n",
    "    print('당신은 어린이 입니다.')\n",
    "elif age > 59 :\n",
    "    print('당신은 노년층 입니다.')\n",
    "else :\n",
    "    youn = age // 10 \n",
    "    print('당신은 '+str(youn)+'0대 입니다.')"
   ]
  },
  {
   "cell_type": "code",
   "execution_count": 21,
   "metadata": {},
   "outputs": [
    {
     "data": {
      "text/plain": [
       "True"
      ]
     },
     "execution_count": 21,
     "metadata": {},
     "output_type": "execute_result"
    }
   ],
   "source": [
    "# 논리 연산자로 if문을 줄이자. >< 논리연산자도 True,False를 반환한다. \n",
    "age = 20 \n",
    "adult = age > 19 # 참/거짓을 반환한다. \n",
    "adult"
   ]
  },
  {
   "cell_type": "code",
   "execution_count": 23,
   "metadata": {},
   "outputs": [
    {
     "data": {
      "text/plain": [
       "False"
      ]
     },
     "execution_count": 23,
     "metadata": {},
     "output_type": "execute_result"
    }
   ],
   "source": [
    "a = True\n",
    "b = False\n",
    "c = a and b  \n",
    "# and 연산자를 사용할 때는 거짓일 가능성이 높은걸 앞자리에 놓는다.\n",
    "# 그래야 연산을 덜 하니까 \n",
    "# or 연산자는 참일 가능성이 높은 걸 앞자리에 놓는다. \n",
    "# 효율성에 유리 = 시간복잡도 \n",
    "c"
   ]
  },
  {
   "cell_type": "code",
   "execution_count": 14,
   "metadata": {},
   "outputs": [
    {
     "name": "stdout",
     "output_type": "stream",
     "text": [
      "표준체중: 51.300000000000004\n",
      "비만도: 71.53996101364521\n",
      "당신의 비만도는 고도비만(매우위험)입니다.\n"
     ]
    }
   ],
   "source": [
    "myWeight = int(input('체중(kg): '))\n",
    "myHeight = int(input('키(m): '))\n",
    "\n",
    "\n",
    "if myHeight <= 150 :\n",
    "    standardWeight = myHeight - 110\n",
    "else :\n",
    "    standardWeight = (myHeight - 110) * 0.9\n",
    "print('표준체중:',standardWeight)\n",
    "\n",
    "obesity = ((myWeight - standardWeight)/standardWeight) * 100\n",
    "print('비만도:',obesity)\n",
    "\n",
    "if obesity <= 20 :\n",
    "    bodyMass = '정상(안심)'\n",
    "elif obesity < 20 and obesity >= 30:\n",
    "    bodyMass = '경도비만(주의)'\n",
    "elif obesity < 30 and obesity >= 50:\n",
    "    bodyMass = '중등도 비만(위험)'\n",
    "else :\n",
    "    bodyMass = '고도비만(매우위험)'\n",
    "    \n",
    "print('당신의 비만도는 {}입니다.'.format(bodyMass))"
   ]
  },
  {
   "cell_type": "code",
   "execution_count": 15,
   "metadata": {},
   "outputs": [
    {
     "data": {
      "text/plain": [
       "2550"
      ]
     },
     "execution_count": 15,
     "metadata": {},
     "output_type": "execute_result"
    }
   ],
   "source": [
    "sum_num = 0\n",
    "for i in range(0,101,2) :\n",
    "    sum_num += i\n",
    "sum_num"
   ]
  },
  {
   "cell_type": "code",
   "execution_count": 30,
   "metadata": {},
   "outputs": [
    {
     "name": "stdout",
     "output_type": "stream",
     "text": [
      "['A', 'B', 'AB', 'O']\n",
      "[3, 3, 1, 2]\n"
     ]
    }
   ],
   "source": [
    "# 혈액형 빈도수 구하기\n",
    "blood_type = ['A','A','A','O','B','B','B','AB','O']\n",
    "result = {'A':0,'B':0,'AB':0,'O':0}\n",
    "\n",
    "for blood in blood_type :\n",
    "    result[blood] += 1\n",
    "result\n",
    "\n",
    "#----------------------------------------------\n",
    "k = list(result.keys())\n",
    "kk = list(result.values())\n",
    "print(k)\n",
    "print(kk)\n",
    "\n"
   ]
  },
  {
   "cell_type": "code",
   "execution_count": 17,
   "metadata": {},
   "outputs": [
    {
     "data": {
      "text/plain": [
       "120"
      ]
     },
     "execution_count": 17,
     "metadata": {},
     "output_type": "execute_result"
    }
   ],
   "source": [
    "x = int(input('정수를입력하세요:'))\n",
    "m = 1\n",
    "for i in range(1,x+1):\n",
    "    m *= i\n",
    "m"
   ]
  },
  {
   "cell_type": "code",
   "execution_count": 32,
   "metadata": {},
   "outputs": [
    {
     "data": {
      "text/plain": [
       "120"
      ]
     },
     "execution_count": 32,
     "metadata": {},
     "output_type": "execute_result"
    }
   ],
   "source": [
    "# 재귀함수로 풀이\n",
    "def f(x) :\n",
    "    if x == 1 :# 종료 조건을 명시\n",
    "        return 1\n",
    "    return x * f(x-1)\n",
    "f(5)"
   ]
  },
  {
   "cell_type": "code",
   "execution_count": 34,
   "metadata": {},
   "outputs": [
    {
     "name": "stdout",
     "output_type": "stream",
     "text": [
      "(5, 1)\n",
      "(4, 2)\n",
      "(3, 3)\n",
      "(2, 4)\n",
      "(1, 5)\n",
      "5\n",
      "(1, 5)\n",
      "(2, 4)\n",
      "(3, 3)\n",
      "(4, 2)\n",
      "(5, 1)\n"
     ]
    }
   ],
   "source": [
    "import itertools\n",
    "\n",
    "game = [1,2,3,4,5,6]\n",
    "b = set(itertools.combinations(game+game,2))\n",
    "cnt = 0\n",
    "for i in b :\n",
    "    if sum(i) == 6 :\n",
    "        print(i)\n",
    "        cnt += 1 \n",
    "print(cnt)\n",
    "# --------선생님 풀이---------------------\n",
    "for i in range(1,7) :\n",
    "    for j in range(1,7) :\n",
    "        if i + j == 6 :\n",
    "            print((i,j))"
   ]
  },
  {
   "cell_type": "code",
   "execution_count": 40,
   "metadata": {},
   "outputs": [
    {
     "name": "stdout",
     "output_type": "stream",
     "text": [
      "1\n",
      "3\n",
      "7\n",
      "21\n",
      "32\n"
     ]
    }
   ],
   "source": [
    "x = int(input('x :'))\n",
    "y = int(input('y :'))\n",
    "\n",
    "xy_list = []\n",
    "total = 0\n",
    "for i in range(1,101) :\n",
    "    if x % i == 0 and y % i == 0:\n",
    "        print(i)\n",
    "        total += i\n",
    "        #xy_list.append(i)\n",
    "# print(xy_list)\n",
    "# print(sum(xy_list))\n",
    "print(total)"
   ]
  },
  {
   "cell_type": "code",
   "execution_count": 43,
   "metadata": {},
   "outputs": [
    {
     "data": {
      "text/plain": [
       "284500"
      ]
     },
     "execution_count": 43,
     "metadata": {},
     "output_type": "execute_result"
    }
   ],
   "source": [
    "# 반복할 길이를 안다면 for문, 모른다면 while \n",
    "\n",
    "time = [4,3,3,5,4,3,5]\n",
    "pay = 0\n",
    "for i, v in enumerate(time) :\n",
    "    if i < 5:\n",
    "        pay += v * 9500\n",
    "    else :\n",
    "        pay += v * 13000\n",
    "# 이러면 인덱스도, 합계도 알 수 있다.\n",
    "\n",
    "pay\n"
   ]
  },
  {
   "cell_type": "code",
   "execution_count": 12,
   "metadata": {},
   "outputs": [
    {
     "name": "stdout",
     "output_type": "stream",
     "text": [
      "*****\n",
      "****\n",
      "***\n",
      "**\n",
      "*\n"
     ]
    }
   ],
   "source": [
    "# 출력이 여러줄인 경우, 반복문 바깥은 행(줄), 안쪽은 열(옆)을 맡는다.\n",
    "for i in range(0,5) :\n",
    "    star = \"\"\n",
    "    for j in range(0,5-i) :\n",
    "        star += \"*\"\n",
    "    print(star)"
   ]
  }
 ],
 "metadata": {
  "kernelspec": {
   "display_name": "Python 3",
   "language": "python",
   "name": "python3"
  },
  "language_info": {
   "codemirror_mode": {
    "name": "ipython",
    "version": 3
   },
   "file_extension": ".py",
   "mimetype": "text/x-python",
   "name": "python",
   "nbconvert_exporter": "python",
   "pygments_lexer": "ipython3",
   "version": "3.11.1"
  },
  "orig_nbformat": 4
 },
 "nbformat": 4,
 "nbformat_minor": 2
}
