{
 "cells": [
  {
   "cell_type": "code",
   "execution_count": null,
   "metadata": {},
   "outputs": [],
   "source": []
  },
  {
   "attachments": {},
   "cell_type": "markdown",
   "metadata": {},
   "source": [
    "메일 발송하기\n",
    "\n",
    "> 메일 시스템\n",
    "pop3,IMAP (수신)\n",
    "SMTP (발신)\n",
    "\n",
    "> py가 메일 발송 요청 "
   ]
  },
  {
   "attachments": {},
   "cell_type": "markdown",
   "metadata": {},
   "source": [
    "1. 네이버 연동\n",
    "환경설정 ->POP3/SMTP 사용 (사용함) -> 메일 프로그램 환경 설정 안내 를 코드에 기입\n",
    "(계정정보 / 서버명 / 포트정보 / 도움말)\n",
    "그러나 2단계 인증이면 password를 파이썬 용으로 받아야함.\n",
    "애플리케ㅣ이션 비밀번호 관리 -> 애플리케이션 비밀번호 생성-> 종류선택 -> \n"
   ]
  },
  {
   "cell_type": "code",
   "execution_count": 40,
   "metadata": {},
   "outputs": [],
   "source": [
    "import os # 경로 정보를 취득하기 위한 모듈\n",
    "from smtplib import SMTP # 발송 서버와 연동하기 위한 모듈\n",
    "from email.mime.text import MIMEText # 본문 구성 기능 \n",
    "from email.mime.application import MIMEApplication # 첨부파일을 MIMEApplication로 변경\n",
    "from email.mime.multipart import MIMEMultipart # 첨부파일을 본문에 추가한다. \n"
   ]
  },
  {
   "attachments": {},
   "cell_type": "markdown",
   "metadata": {},
   "source": [
    "메일 발송에 필요한 정보 설정"
   ]
  },
  {
   "cell_type": "code",
   "execution_count": 41,
   "metadata": {},
   "outputs": [],
   "source": [
    "# 보내는 사람 주소(로그인 계정과 동일)\n",
    "from_addr = \"leejisun0529@gmail.com\"\n",
    "\n",
    "# 받는 사람 주소 \n",
    "to_addr = \"hare0529@naver.com\"\n",
    "\n",
    "# 제목\n",
    "subject = '파이썬 메일 발송 테스트'\n",
    "\n",
    "# 본문 내용\n",
    "content = '''메일이 잘 가고 있니? \n",
    "\n",
    "파이썬으로 보내는거란다 ? '''\n",
    "\n",
    "# 첨부 파일이 필요 없는 경우 \n",
    "# files = []\n",
    "# 첨부파일이 필요한 경우(파일이 있어야하고) 첨부파일의 '경로'를 넣어야함. \n",
    "files = ['grade.csv','hellopython.txt']"
   ]
  },
  {
   "attachments": {},
   "cell_type": "markdown",
   "metadata": {},
   "source": [
    "SMTP 연동 정보 설정"
   ]
  },
  {
   "cell_type": "code",
   "execution_count": 42,
   "metadata": {},
   "outputs": [],
   "source": [
    "# 컨텐츠 형식 plain = 텍스트 / html과 plain이 가능함 \n",
    "content_type = \"plain\"\n",
    "\n",
    "# 로그인 계정이름 (네이버는 아이디만, 구글은 메일 주소 통)\n",
    "username = 'leejisun0529@gmail.com'\n",
    "\n",
    "# 비밀번호 (네이버는 개인 비밀번호, 2단계인증시 애플리케이션 비밀번호, 구글 앱비밀번호)\n",
    "password = ''\n",
    "\n",
    "# 구글 발송 서버 주소와 포트(고정값)\n",
    "smtp = \"smtp.gmail.com\"\n",
    "port = 587\n",
    "\n",
    "# # 네이버 발송 서버 주소와 포트 (고정값)\n",
    "# smtp = \"smtp.naver.com\"\n",
    "# port = 465"
   ]
  },
  {
   "attachments": {},
   "cell_type": "markdown",
   "metadata": {},
   "source": [
    "메일 발송 정보 구성"
   ]
  },
  {
   "cell_type": "code",
   "execution_count": 43,
   "metadata": {},
   "outputs": [],
   "source": [
    "# 메일 발송 정보를 저장하기 위한 객체\n",
    "msg = MIMEMultipart()\n",
    "\n",
    "msg['Subject'] = subject\n",
    "msg['From'] = from_addr\n",
    "msg['To'] = to_addr \n",
    "\n",
    "# 본문 설정 -> 메일의 내용과 형식 지정\n",
    "msg.attach(MIMEText(content,content_type))"
   ]
  },
  {
   "attachments": {},
   "cell_type": "markdown",
   "metadata": {},
   "source": [
    "메일 발송 정보에 첨부 파일 추가 "
   ]
  },
  {
   "cell_type": "code",
   "execution_count": 44,
   "metadata": {},
   "outputs": [],
   "source": [
    "# 리스트 변수의 원소가 하나라도 존재할 경우 True\n",
    "if files :\n",
    "    for f in files :\n",
    "        # 바이너리 형식으로 읽는다.\n",
    "        with open(f,'rb') as a_file :\n",
    "            # 전체 경로에서 파이르이 이름만 추출한다\n",
    "            basename = os.path.basename(f)\n",
    "            # 파일의 내용과 파일 이름을 메일에 첨부할 형식으로 변환\n",
    "            part = MIMEApplication(a_file.read(),Name=basename)\n",
    "\n",
    "            # 파일 첨부 \n",
    "            part['Content-Disposition'] = 'attachment; filename=\"%s\"' % basename\n",
    "            msg.attach(part)"
   ]
  },
  {
   "attachments": {},
   "cell_type": "markdown",
   "metadata": {},
   "source": [
    "메일 보내기"
   ]
  },
  {
   "cell_type": "code",
   "execution_count": 45,
   "metadata": {},
   "outputs": [
    {
     "data": {
      "text/plain": [
       "(221,\n",
       " b'2.0.0 closing connection s13-20020a17090a760d00b002568f2f8102sm10201929pjk.30 - gsmtp')"
      ]
     },
     "execution_count": 45,
     "metadata": {},
     "output_type": "execute_result"
    }
   ],
   "source": [
    "mail = SMTP(smtp) \n",
    "\n",
    "# 메일 서버 접속\n",
    "mail.ehlo()\n",
    "# 메일 서버 연동 설정\n",
    "mail.starttls()\n",
    "# 메일 서버 로그인\n",
    "mail.login(username, password)\n",
    "# 메일 보내기\n",
    "mail.sendmail(from_addr, to_addr, msg.as_string())\n",
    "# 메일 서버 종료\n",
    "mail.quit()"
   ]
  }
 ],
 "metadata": {
  "kernelspec": {
   "display_name": "Python 3",
   "language": "python",
   "name": "python3"
  },
  "language_info": {
   "codemirror_mode": {
    "name": "ipython",
    "version": 3
   },
   "file_extension": ".py",
   "mimetype": "text/x-python",
   "name": "python",
   "nbconvert_exporter": "python",
   "pygments_lexer": "ipython3",
   "version": "3.11.1"
  },
  "orig_nbformat": 4
 },
 "nbformat": 4,
 "nbformat_minor": 2
}
