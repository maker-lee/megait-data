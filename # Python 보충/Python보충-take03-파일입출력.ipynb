{
 "cells": [
  {
   "attachments": {},
   "cell_type": "markdown",
   "metadata": {},
   "source": [
    "# 파이썬 보충 Take 3"
   ]
  },
  {
   "attachments": {},
   "cell_type": "markdown",
   "metadata": {},
   "source": [
    "## 01. 파일 입출력 객체를 위한 open 함수"
   ]
  },
  {
   "attachments": {},
   "cell_type": "markdown",
   "metadata": {},
   "source": [
    "vscode나 메모장으로 열었을 때 문장을 읽을 수 있는 모든게 '텍스트 파일'이다. html이런것도 다 텍스트 파일이다. "
   ]
  },
  {
   "attachments": {},
   "cell_type": "markdown",
   "metadata": {},
   "source": [
    "파일 쓰기"
   ]
  },
  {
   "cell_type": "code",
   "execution_count": 2,
   "metadata": {},
   "outputs": [],
   "source": [
    "# 새로운 파일 생성, 혹은 기존의 파일 열기\n",
    "# -> 파일 경로와 파일 열기 모드 설정\n",
    "# -> r : 읽기모드, w : 쓰기 모드(기존의 내용을 덮어쓴다.) a : 추가모드(기존의 내용을 유지하고 뒤에 추가한다)\n",
    "f = open('hellowworld.html','w', encoding='utf-8')\n",
    "\n",
    "# 파일에 내용 기록하기\n",
    "# -> 두 문자응 연달아서 한 줄에 기록한다.\n",
    "# -> 줄바꿈을 원하는 위치에 줄바꿈을 의미하는 이스케이프 문자(\\n)을 사용\n",
    "f.write('hello Python!!\\n')\n",
    "f.write('안녕하세요 파이썬!!!!\\n')\n",
    "\n",
    "\n",
    "# open()함수를 단독으로 사용할 경우 파일작업 완료 후 닫기를 반드시 수행\n",
    "f.close()"
   ]
  },
  {
   "attachments": {},
   "cell_type": "markdown",
   "metadata": {},
   "source": [
    "파일 읽기"
   ]
  },
  {
   "cell_type": "code",
   "execution_count": 3,
   "metadata": {},
   "outputs": [
    {
     "name": "stdout",
     "output_type": "stream",
     "text": [
      "hello Python!!\n",
      "안녕하세요 파이썬!!!!\n",
      "\n"
     ]
    }
   ],
   "source": [
    "# 이전 예제에서 생성한 파일을 읽어들이기 위해 연다 \n",
    "\n",
    "f = open('hellowworld.html','r',encoding='utf-8')\n",
    "data = f.read()\n",
    "print(data)"
   ]
  },
  {
   "cell_type": "code",
   "execution_count": 4,
   "metadata": {},
   "outputs": [
    {
     "name": "stdout",
     "output_type": "stream",
     "text": [
      "파일 쓰기 완\n"
     ]
    }
   ],
   "source": [
    "with open('hellopython.txt','w',encoding='utf-8') as f :\n",
    "    for i in range(0,10) :\n",
    "        f.write('%d >>' %i)\n",
    "        f.write('Life')\n",
    "        f.write('long')\n",
    "    print('파일 쓰기 완')"
   ]
  },
  {
   "attachments": {},
   "cell_type": "markdown",
   "metadata": {},
   "source": [
    "파일 읽기"
   ]
  },
  {
   "cell_type": "code",
   "execution_count": 5,
   "metadata": {},
   "outputs": [
    {
     "name": "stdout",
     "output_type": "stream",
     "text": [
      "0 >>Lifelong1 >>Lifelong2 >>Lifelong3 >>Lifelong4 >>Lifelong5 >>Lifelong6 >>Lifelong7 >>Lifelong8 >>Lifelong9 >>Lifelong\n"
     ]
    }
   ],
   "source": [
    "with open('hellopython.txt','r',encoding='utf-8') as f :\n",
    "    # 파일 내용을 변수에 저장함\n",
    "    data = f.read()\n",
    "    print(data)"
   ]
  },
  {
   "attachments": {},
   "cell_type": "markdown",
   "metadata": {},
   "source": [
    "파일의 내용을 한 줄씩 읽기"
   ]
  },
  {
   "cell_type": "code",
   "execution_count": 6,
   "metadata": {},
   "outputs": [
    {
     "name": "stdout",
     "output_type": "stream",
     "text": [
      "['0 >>Lifelong1 >>Lifelong2 >>Lifelong3 >>Lifelong4 >>Lifelong5 >>Lifelong6 >>Lifelong7 >>Lifelong8 >>Lifelong9 >>Lifelong']\n",
      "데이터는 총 1줄\n",
      "0 >>Lifelong1 >>Lifelong2 >>Lifelong3 >>Lifelong4 >>Lifelong5 >>Lifelong6 >>Lifelong7 >>Lifelong8 >>Lifelong9 >>Lifelong\n"
     ]
    }
   ],
   "source": [
    "with open('hellopython.txt','r',encoding='utf-8') as f :\n",
    "    # 파일의 각 행을 원소로 갖는 리스트 생성 \n",
    "    lines = f.readlines()\n",
    "    print(lines)\n",
    "    \n",
    "    # 전체 리스트의 크기 확인\n",
    "    size= len(lines)\n",
    "    print('데이터는 총 %d줄' % size)\n",
    "    for item in lines :\n",
    "        print(item.strip())"
   ]
  },
  {
   "cell_type": "code",
   "execution_count": null,
   "metadata": {},
   "outputs": [],
   "source": []
  }
 ],
 "metadata": {
  "kernelspec": {
   "display_name": "Python 3",
   "language": "python",
   "name": "python3"
  },
  "language_info": {
   "codemirror_mode": {
    "name": "ipython",
    "version": 3
   },
   "file_extension": ".py",
   "mimetype": "text/x-python",
   "name": "python",
   "nbconvert_exporter": "python",
   "pygments_lexer": "ipython3",
   "version": "3.11.1"
  },
  "orig_nbformat": 4
 },
 "nbformat": 4,
 "nbformat_minor": 2
}
