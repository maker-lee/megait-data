{
 "cells": [
  {
   "attachments": {},
   "cell_type": "markdown",
   "metadata": {},
   "source": [
    "# 파이썬 보충 Take 6\n",
    "메일링 리스트"
   ]
  },
  {
   "cell_type": "code",
   "execution_count": 1,
   "metadata": {},
   "outputs": [],
   "source": [
    "# 메일 발송에 필요한 모듈 참조\n",
    "import Sendmail # 만든거 \n",
    "import datetime as dt # 날짜 묘듈 "
   ]
  },
  {
   "attachments": {},
   "cell_type": "markdown",
   "metadata": {},
   "source": [
    "날짜 성분값 초기화"
   ]
  },
  {
   "cell_type": "code",
   "execution_count": 2,
   "metadata": {},
   "outputs": [
    {
     "name": "stdout",
     "output_type": "stream",
     "text": [
      "2023 6 23\n"
     ]
    }
   ],
   "source": [
    "today = dt.datetime.now()\n",
    "year = today.year\n",
    "month = today.month\n",
    "day = today.day\n",
    "print(year,month,day)\n"
   ]
  },
  {
   "attachments": {},
   "cell_type": "markdown",
   "metadata": {},
   "source": [
    "보내는 사람, 메일 제목"
   ]
  },
  {
   "cell_type": "code",
   "execution_count": 3,
   "metadata": {},
   "outputs": [],
   "source": [
    "# 메일 발산자 정보\n",
    "fromAddr = 'leejisun0529@gmail.com'\n",
    "\n",
    "# 메일 제목을 위한 템플릿\n",
    "subjectTmpl = \"{name}님의 {yy}년 {mm}월 급여 명세서입니다.\""
   ]
  },
  {
   "attachments": {},
   "cell_type": "markdown",
   "metadata": {},
   "source": [
    "메일 본문 가져오기"
   ]
  },
  {
   "cell_type": "code",
   "execution_count": 6,
   "metadata": {},
   "outputs": [
    {
     "name": "stdout",
     "output_type": "stream",
     "text": [
      "안녕하세요 {name}님\n",
      "\n",
      "{yy}년도 {mm}월 급여명세서와 결산보고서 보내드립니다.\n",
      "\n",
      "귀하의 노고에 감사드립니다.\n",
      "\n",
      "- {yy}년 {mm}월 {dd}일 / 운영지원팀 드림\n"
     ]
    }
   ],
   "source": [
    "# 읽기모드로 메모장 내용을 읽어들어와서 contentTmpl에 담아옴\n",
    "with open(\"mail/content.txt\",\"r\", encoding=\"utf-8\") as f :\n",
    "    contentTmpl = f.read()\n",
    "    print(contentTmpl)\n",
    "\n"
   ]
  },
  {
   "attachments": {},
   "cell_type": "markdown",
   "metadata": {},
   "source": [
    "수신자 목록에 대한 csv 파일에 대한 반복수행. csv 파일에는 메일주소가 담겨있다. "
   ]
  },
  {
   "cell_type": "code",
   "execution_count": 12,
   "metadata": {},
   "outputs": [
    {
     "name": "stdout",
     "output_type": "stream",
     "text": [
      "안녕하세요 Python부장님\n",
      "\n",
      "2023년도 6월 급여명세서와 결산보고서 보내드립니다.\n",
      "\n",
      "귀하의 노고에 감사드립니다.\n",
      "\n",
      "- 2023년 6월 23일 / 운영지원팀 드림\n",
      "{email}님께 메일이 발송되었습니다.\n",
      "안녕하세요 Python차장님\n",
      "\n",
      "2023년도 6월 급여명세서와 결산보고서 보내드립니다.\n",
      "\n",
      "귀하의 노고에 감사드립니다.\n",
      "\n",
      "- 2023년 6월 23일 / 운영지원팀 드림\n",
      "{email}님께 메일이 발송되었습니다.\n",
      "안녕하세요 Python과장님\n",
      "\n",
      "2023년도 6월 급여명세서와 결산보고서 보내드립니다.\n",
      "\n",
      "귀하의 노고에 감사드립니다.\n",
      "\n",
      "- 2023년 6월 23일 / 운영지원팀 드림\n",
      "{email}님께 메일이 발송되었습니다.\n",
      "안녕하세요 Python대리님\n",
      "\n",
      "2023년도 6월 급여명세서와 결산보고서 보내드립니다.\n",
      "\n",
      "귀하의 노고에 감사드립니다.\n",
      "\n",
      "- 2023년 6월 23일 / 운영지원팀 드림\n",
      "{email}님께 메일이 발송되었습니다.\n",
      "안녕하세요 Python사원님\n",
      "\n",
      "2023년도 6월 급여명세서와 결산보고서 보내드립니다.\n",
      "\n",
      "귀하의 노고에 감사드립니다.\n",
      "\n",
      "- 2023년 6월 23일 / 운영지원팀 드림\n",
      "{email}님께 메일이 발송되었습니다.\n"
     ]
    }
   ],
   "source": [
    "with open('mail/mail_list_new.csv',\"r\", encoding='euc-kr') as f :\n",
    "    csv = f.readlines() # csv 를 한 줄씩 계속 불러온다. \n",
    "    # print(csv) \n",
    "    # ['Python부장,hare0529@naver.com,mail/document.pptx,mail/pay1.xlsx\\n', 'Python차장,hare0529@naver.com,mail/do\n",
    "\n",
    "    # csv 파일의 라인 수만큼 반복한다.(반복해서 메일을 보낼거니까)\n",
    "    for line in csv :\n",
    "        # 구조분해 : 리스트 안에 있는건 쪼개서 보관할 수 있다 a,b,c,d = [1,2,3,4] -> a = 1, b = 2 ....\n",
    "        name, email, file1, file2 = line.strip().split(',') \n",
    "        #print(name, email, file1, file2) # Python부장 hare0529@naver.com mail/document.pptx mail/pay1.xlsx\n",
    "        \n",
    "        \n",
    "        # 메일 제목 앞에 있는 네임은 subjectTmpl에서 나온거, 뒤에 있는 name은 리스트 이름\n",
    "        # 메일 제목\n",
    "        subject = subjectTmpl.format(name=name, yy=year, mm=month,)\n",
    "\n",
    "        # 메일 내용\n",
    "        content = contentTmpl.format(name=name, yy=year, mm=month, dd=day)\n",
    "        # print(content)\n",
    "\n",
    "        Sendmail.sendMail(fromAddr,email,subject,content,[file1,file2])\n",
    "        print('{email}님께 메일이 발송되었습니다.')\n",
    "\n",
    "\n",
    "\n"
   ]
  }
 ],
 "metadata": {
  "kernelspec": {
   "display_name": "Python 3",
   "language": "python",
   "name": "python3"
  },
  "language_info": {
   "codemirror_mode": {
    "name": "ipython",
    "version": 3
   },
   "file_extension": ".py",
   "mimetype": "text/x-python",
   "name": "python",
   "nbconvert_exporter": "python",
   "pygments_lexer": "ipython3",
   "version": "3.11.1"
  },
  "orig_nbformat": 4
 },
 "nbformat": 4,
 "nbformat_minor": 2
}
