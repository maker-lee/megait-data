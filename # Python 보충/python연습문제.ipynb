{
 "cells": [
  {
   "attachments": {},
   "cell_type": "markdown",
   "metadata": {},
   "source": [
    "파이썬 연습문제"
   ]
  },
  {
   "cell_type": "code",
   "execution_count": null,
   "metadata": {},
   "outputs": [],
   "source": [
    "daum = 89000\n",
    "naver = 751000\n",
    "daum_cnt = 100\n",
    "naver_cnt = 20\n",
    "total_daum =daum*daum_cnt\n",
    "total_naver=naver*naver_cnt\n",
    "print(total_daum)\n",
    "print(total_naver)"
   ]
  },
  {
   "cell_type": "code",
   "execution_count": null,
   "metadata": {},
   "outputs": [],
   "source": [
    "daum = daum-(daum * 0.05)\n",
    "naver = naver-(naver * 0.1)\n",
    "total_daum = daum*daum_cnt\n",
    "total_naver = naver*naver_cnt\n",
    "print(total_daum)\n",
    "print(total_naver)\n"
   ]
  },
  {
   "cell_type": "code",
   "execution_count": 113,
   "metadata": {},
   "outputs": [
    {
     "name": "stdout",
     "output_type": "stream",
     "text": [
      "당신의 비만도는 비만입니다.\n"
     ]
    }
   ],
   "source": [
    "myWeight = int(input('체중(kg): '))\n",
    "myHeight = float(input('키(m): '))\n",
    "\n",
    "BMI = myWeight/((myHeight)**2)\n",
    "bodyMass = \"\"\n",
    "if BMI >= 30 :\n",
    "    bodyMass = '비만'\n",
    "elif BMI <= 29 and BMI >= 25:\n",
    "    bodyMass = '과체중'\n",
    "elif BMI <= 24 and BMI >= 20:\n",
    "    bodyMass = '정상'\n",
    "else :\n",
    "    bodyMass = '저체중'\n",
    "    \n",
    "print('당신의 비만도는 {}입니다.'.format(bodyMass))"
   ]
  },
  {
   "cell_type": "code",
   "execution_count": 114,
   "metadata": {},
   "outputs": [
    {
     "name": "stdout",
     "output_type": "stream",
     "text": [
      " KaKao Daum \n"
     ]
    }
   ],
   "source": [
    "s = \"Daum KaKao\"\n",
    "s = s[-5:] + str(\" \")+ s[:5] \n",
    "print(s)"
   ]
  },
  {
   "cell_type": "code",
   "execution_count": 121,
   "metadata": {},
   "outputs": [
    {
     "name": "stdout",
     "output_type": "stream",
     "text": [
      "폴더의 위치 : C:\\myphoto 파일 이름 helloworld 확장자 jpg\n"
     ]
    }
   ],
   "source": [
    "pic = 'C:\\\\myphoto\\\\helloworld.jpg'\n",
    "\n",
    "# pic_adress = pic.split('\\\\')\n",
    "# print(pic_adress)\n",
    "# print('폴더의 위치 : {}\\\\ 파일 이름 {} 확장자 {}'.format(pic_adress[0],pic_adress[2],pic_adress[3]))\n",
    "\n",
    "# 마지막 '\\'위치 디렉토리를 변경할 수 있으니까. \n",
    "p1 = pic.rfind('\\\\')\n",
    "p2 = pic.rfind('.')\n",
    "print('폴더의 위치 : {} 파일 이름 {} 확장자 {}'.format(pic[:p1],pic[p1+1:p2],pic[p2+1:]))\n"
   ]
  },
  {
   "cell_type": "code",
   "execution_count": 60,
   "metadata": {},
   "outputs": [
    {
     "name": "stdout",
     "output_type": "stream",
     "text": [
      "90.33333333333333\n"
     ]
    }
   ],
   "source": [
    "math = [82,74,93,65,32,71,90,88,74]\n",
    "\n",
    "math.sort(reverse=True)\n",
    "print(sum(math[0:3])/len(math[0:3]))"
   ]
  },
  {
   "cell_type": "code",
   "execution_count": null,
   "metadata": {},
   "outputs": [],
   "source": [
    "age = int(input('나이를 입력하세요. :'))\n",
    "if age <= 9 :\n",
    "    print('당신은 어린이 입니다.')\n",
    "elif age >= 60 :\n",
    "    print('당신은 노년층 입니다.')\n",
    "else :\n",
    "    youn = age // 10 \n",
    "    print('당신은 '+str(youn)+'0대 입니다.')"
   ]
  },
  {
   "cell_type": "code",
   "execution_count": null,
   "metadata": {},
   "outputs": [],
   "source": [
    "myWeight = int(input('체중(kg): '))\n",
    "myHeight = int(input('키(m): '))\n",
    "\n",
    "\n",
    "if myHeight <= 150 :\n",
    "    standardWeight = myHeight - 110\n",
    "else :\n",
    "    standardWeight = (myHeight - 110) * 0.9\n",
    "print('표준체중:',standardWeight)\n",
    "\n",
    "obesity = ((myWeight - standardWeight)/standardWeight) * 100\n",
    "print('비만도:',obesity)\n",
    "\n",
    "if obesity <= 20 :\n",
    "    bodyMass = '정상(안심)'\n",
    "elif obesity < 20 and obesity >= 30:\n",
    "    bodyMass = '경도비만(주의)'\n",
    "elif obesity < 30 and obesity >= 50:\n",
    "    bodyMass = '중등도 비만(위험)'\n",
    "else :\n",
    "    bodyMass = '고도비만(매우위험)'\n",
    "    \n",
    "print('당신의 비만도는 {}입니다.'.format(bodyMass))"
   ]
  },
  {
   "cell_type": "code",
   "execution_count": 64,
   "metadata": {},
   "outputs": [
    {
     "data": {
      "text/plain": [
       "2550"
      ]
     },
     "execution_count": 64,
     "metadata": {},
     "output_type": "execute_result"
    }
   ],
   "source": [
    "sum_num = 0\n",
    "for i in range(0,101,2) :\n",
    "    sum_num += i\n",
    "sum_num"
   ]
  },
  {
   "cell_type": "code",
   "execution_count": 66,
   "metadata": {},
   "outputs": [
    {
     "name": "stdout",
     "output_type": "stream",
     "text": [
      "{'A': 3, 'B': 3, 'AB': 1, 'O': 2}\n"
     ]
    }
   ],
   "source": [
    "# 혈액형 빈도수 구하기\n",
    "blood_type = ['A','A','A','O','B','B','B','AB','O']\n",
    "result = {'A':0,'B':0,'AB':0,'O':0}\n",
    "for blood in blood_type :\n",
    "    if blood == 'A' :\n",
    "        result['A'] += 1\n",
    "    elif blood == 'B' :\n",
    "        result['B'] += 1\n",
    "    elif blood == 'AB' :\n",
    "        result['AB'] += 1    \n",
    "    else :\n",
    "        result['O'] += 1    \n",
    "print(result)\n"
   ]
  },
  {
   "cell_type": "code",
   "execution_count": 68,
   "metadata": {},
   "outputs": [
    {
     "data": {
      "text/plain": [
       "0"
      ]
     },
     "execution_count": 68,
     "metadata": {},
     "output_type": "execute_result"
    }
   ],
   "source": [
    "x = int(input('정수를입력하세요:'))\n",
    "m = 1\n",
    "for i in range(1,x+1):\n",
    "    m *= i\n",
    "m"
   ]
  },
  {
   "cell_type": "code",
   "execution_count": 110,
   "metadata": {},
   "outputs": [
    {
     "name": "stdout",
     "output_type": "stream",
     "text": [
      "[1, 5]\n",
      "[2, 4]\n",
      "[3, 3]\n",
      "[4, 2]\n",
      "[5, 1]\n",
      "경우의 수는 5입니다.\n"
     ]
    }
   ],
   "source": [
    "import itertools\n",
    "\n",
    "game = [1,2,3,4,5,6]\n",
    "a = []\n",
    "for i in range(1,len(game)):\n",
    "    a.append([i,6-i])\n",
    "    print([i,6-i])\n",
    "print('경우의 수는 {}입니다.'.format(len(a)))\n"
   ]
  },
  {
   "cell_type": "code",
   "execution_count": 82,
   "metadata": {},
   "outputs": [
    {
     "name": "stdout",
     "output_type": "stream",
     "text": [
      "[1, 5]\n",
      "6\n"
     ]
    }
   ],
   "source": [
    "x = int(input('x :'))\n",
    "y = int(input('y :'))\n",
    "\n",
    "xy_list = []\n",
    "for i in range(1,101) :\n",
    "    if x % i == 0 and y % i == 0:\n",
    "        xy_list.append(i)\n",
    "print(xy_list)\n",
    "print(sum(xy_list))\n"
   ]
  }
 ],
 "metadata": {
  "kernelspec": {
   "display_name": "Python 3",
   "language": "python",
   "name": "python3"
  },
  "language_info": {
   "codemirror_mode": {
    "name": "ipython",
    "version": 3
   },
   "file_extension": ".py",
   "mimetype": "text/x-python",
   "name": "python",
   "nbconvert_exporter": "python",
   "pygments_lexer": "ipython3",
   "version": "3.11.1"
  },
  "orig_nbformat": 4
 },
 "nbformat": 4,
 "nbformat_minor": 2
}
