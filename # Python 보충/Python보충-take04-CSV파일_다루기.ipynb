{
 "cells": [
  {
   "attachments": {},
   "cell_type": "markdown",
   "metadata": {},
   "source": [
    "# 파이썬 보충 I/O (Input/Output)"
   ]
  },
  {
   "attachments": {},
   "cell_type": "markdown",
   "metadata": {},
   "source": [
    "## 1. 파일 입출력 객체를 위한 open함수 "
   ]
  },
  {
   "attachments": {},
   "cell_type": "markdown",
   "metadata": {},
   "source": [
    "2019년 이전 엑셀은 ecu-kr이다. utf-8아니다."
   ]
  },
  {
   "attachments": {},
   "cell_type": "markdown",
   "metadata": {},
   "source": [
    "### 파일 쓰기"
   ]
  },
  {
   "cell_type": "code",
   "execution_count": 2,
   "metadata": {},
   "outputs": [],
   "source": [
    "grade = [\n",
    "    {'name':'철수','kor':98,'eng':88,'math':72},\n",
    "    {'name':'영수','kor':98,'eng':88,'math':72},\n",
    "    {'name':'영식','kor':98,'eng':88,'math':72}\n",
    "]\n",
    "\n",
    "# csv 파일의 한 행에 대한 구분 형식 정의 \n",
    "tpl = '{0},{1},{2},{3}\\n'\n",
    "\n",
    "# 저장을 위한 f객체 생성\n",
    "with open('grade.csv','w', encoding='euc-kr') as f :\n",
    "    f.write('이름, 국어, 영어,수학\\n') # 첫 줄은 각 항목 column\n",
    "\n",
    "    # 데이터를 한 줄씩 콤마로 구분하여 기록 \n",
    "    for item in grade :\n",
    "        tmp = tpl.format(item['name'],item['kor'],item['eng'],item['math'])\n",
    "        f.write(tmp)\n"
   ]
  },
  {
   "attachments": {},
   "cell_type": "markdown",
   "metadata": {},
   "source": [
    "csv 파일 읽어오기\n",
    "csv 파일의 내용을 파이썬 데이터로 변환"
   ]
  },
  {
   "cell_type": "code",
   "execution_count": 6,
   "metadata": {},
   "outputs": [
    {
     "name": "stdout",
     "output_type": "stream",
     "text": [
      "['이름, 국어, 영어,수학\\n', '철수,98,88,72\\n']\n"
     ]
    }
   ],
   "source": [
    "csv_list = None # 읽어들일 내용을 저장하기 위한 빈 변수 생성\n",
    "\n",
    "# grade.csv 파일에 대한 파일 객체를 읽기 모드로 생성 \n",
    "with open(\"grade.csv\",\"r\",encoding=\"euc-kr\") as f :\n",
    "    csv_list = f.readlines()\n",
    "print(csv_list)"
   ]
  }
 ],
 "metadata": {
  "kernelspec": {
   "display_name": "Python 3",
   "language": "python",
   "name": "python3"
  },
  "language_info": {
   "codemirror_mode": {
    "name": "ipython",
    "version": 3
   },
   "file_extension": ".py",
   "mimetype": "text/x-python",
   "name": "python",
   "nbconvert_exporter": "python",
   "pygments_lexer": "ipython3",
   "version": "3.11.1"
  },
  "orig_nbformat": 4
 },
 "nbformat": 4,
 "nbformat_minor": 2
}
