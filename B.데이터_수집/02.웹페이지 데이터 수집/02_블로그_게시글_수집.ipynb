{
 "cells": [
  {
   "attachments": {},
   "cell_type": "markdown",
   "metadata": {},
   "source": [
    "블로그 게시글 수집"
   ]
  },
  {
   "cell_type": "code",
   "execution_count": 11,
   "metadata": {},
   "outputs": [],
   "source": [
    "import requests\n",
    "from bs4 import BeautifulSoup\n",
    "from pandas import DataFrame"
   ]
  },
  {
   "attachments": {},
   "cell_type": "markdown",
   "metadata": {},
   "source": [
    "웹페이지 코드 수집"
   ]
  },
  {
   "cell_type": "code",
   "execution_count": 1,
   "metadata": {},
   "outputs": [
    {
     "ename": "NameError",
     "evalue": "name 'requests' is not defined",
     "output_type": "error",
     "traceback": [
      "\u001b[1;31m---------------------------------------------------------------------------\u001b[0m",
      "\u001b[1;31mNameError\u001b[0m                                 Traceback (most recent call last)",
      "Cell \u001b[1;32mIn[1], line 6\u001b[0m\n\u001b[0;32m      4\u001b[0m url \u001b[39m=\u001b[39m \u001b[39m\"\u001b[39m\u001b[39mhttps://blog.hossam.kr/\u001b[39m\u001b[39m\"\u001b[39m \n\u001b[0;32m      5\u001b[0m \u001b[39m# 접속객체 생성 \u001b[39;00m\n\u001b[1;32m----> 6\u001b[0m session \u001b[39m=\u001b[39m requests\u001b[39m.\u001b[39mSession() \n\u001b[0;32m      7\u001b[0m \u001b[39m# 접속 객체에 header 부가정보 삽입\u001b[39;00m\n\u001b[0;32m      8\u001b[0m session\u001b[39m.\u001b[39mheaders\u001b[39m.\u001b[39mupdate({\n\u001b[0;32m      9\u001b[0m     \u001b[39m\"\u001b[39m\u001b[39mReferer\u001b[39m\u001b[39m\"\u001b[39m : \u001b[39m\"\u001b[39m\u001b[39m\"\u001b[39m,\n\u001b[0;32m     10\u001b[0m     \u001b[39m\"\u001b[39m\u001b[39mUser-Agent\u001b[39m\u001b[39m\"\u001b[39m : userAgent\n\u001b[0;32m     11\u001b[0m })\n",
      "\u001b[1;31mNameError\u001b[0m: name 'requests' is not defined"
     ]
    }
   ],
   "source": [
    "# 브라우저 버전 정보 \n",
    "userAgent = \"Mozilla/5.0 (Windows NT 10.0; Win64; x64) AppleWebKit/537.36})\"\n",
    "# 수집할 url \n",
    "url = \"https://blog.hossam.kr/\" \n",
    "# 접속객체 생성 \n",
    "session = requests.Session() \n",
    "# 접속 객체에 header 부가정보 삽입\n",
    "session.headers.update({\n",
    "    \"Referer\" : \"\",\n",
    "    \"User-Agent\" : userAgent\n",
    "})\n",
    "\n",
    "# 접속 객체를 활용해 API에 접속\n",
    "r = session.get(url)\n",
    "\n",
    "# 실패 시\n",
    "if r.status_code != 200 : # 성공이 아니라며\n",
    "    msg = \"[%d Error]%s 에러가 발생함\" %(r.status_code,r.reason)\n",
    "    raise Exception(msg) # 에러를 강제로 발생\n",
    "\n",
    "r.encoding = \"utf-8\"\n",
    "soup = BeautifulSoup(r.text) # 객체 생성\n",
    "soup\n"
   ]
  },
  {
   "attachments": {},
   "cell_type": "markdown",
   "metadata": {},
   "source": [
    "필요한 내용 추출하기 (제목,작성일, 요약본)"
   ]
  },
  {
   "cell_type": "code",
   "execution_count": 15,
   "metadata": {},
   "outputs": [
    {
     "data": {
      "text/plain": [
       "[<article class=\"post\">\n",
       " <header class=\"entry-header\">\n",
       " <div class=\"entry-header-wrap\">\n",
       " <a class=\"post-thumbnail\" href=\"/2022/12/14/R-%ED%8C%A8%ED%82%A4%EC%A7%80%EC%9D%98-%EC%9D%B4%ED%95%B4/\"><img alt=\"[R] 패키지의 이해 \" src=\"/images/posts/index-r.png\"/></a>\n",
       " <h2 class=\"entry-title\"><a href=\"/2022/12/14/R-%ED%8C%A8%ED%82%A4%EC%A7%80%EC%9D%98-%EC%9D%B4%ED%95%B4/\" rel=\"bookmark\" title=\"Permanent Link to /2022/12/14/R-%ED%8C%A8%ED%82%A4%EC%A7%80%EC%9D%98-%EC%9D%B4%ED%95%B4/\">[R] 패키지의 이해</a></h2>\n",
       " </div><!-- .entry-header-wrap -->\n",
       " <div class=\"entry-meta\">\n",
       "                         by <span class=\"post-author\">호쌤(이광호)</span> on <time class=\"published\" datetime=\"2022-12-14\">December 14, 2022</time>\n",
       " </div><!-- .entry-meta -->\n",
       " </header><!-- .entry-header -->\n",
       " <div class=\"entry-content\">\n",
       " <p>패키지란 R이 제공하지 않는 기능을 구현해 놓은 일종의 확장팩을 말합니다. 온라인에 등록되어 있는 패키지를 다운로드 받아 설치하고 그 패키지에 포함된 기능들을 로드해서 사용할 수 있으며 대부분의 데이터 분석, 시각화 관련 기능은 패키지를 통해 제공됩니다.</p>\n",
       " <p class=\"read-more\"><a class=\"more-link\" href=\"/2022/12/14/R-%ED%8C%A8%ED%82%A4%EC%A7%80%EC%9D%98-%EC%9D%B4%ED%95%B4/\" title=\"read more\">read more</a></p>\n",
       " </div><!-- .entry-content -->\n",
       " <footer class=\"entry-footer\">\n",
       " <div class=\"tag-links\">\n",
       "                         Tags: <a href=\"/tags/index.html#R\" rel=\"tag\" title=\"Pages tagged R\">R</a>\n",
       " </div>\n",
       " </footer><!-- .entry-footer -->\n",
       " </article>,\n",
       " <article class=\"post\">\n",
       " <header class=\"entry-header\">\n",
       " <div class=\"entry-header-wrap\">\n",
       " <a class=\"post-thumbnail\" href=\"/2022/12/13/R-%EB%82%B4%EC%9E%A5%ED%95%A8%EC%88%98/\"><img alt=\"[R] 내장함수 \" src=\"/images/posts/index-r.png\"/></a>\n",
       " <h2 class=\"entry-title\"><a href=\"/2022/12/13/R-%EB%82%B4%EC%9E%A5%ED%95%A8%EC%88%98/\" rel=\"bookmark\" title=\"Permanent Link to /2022/12/13/R-%EB%82%B4%EC%9E%A5%ED%95%A8%EC%88%98/\">[R] 내장함수</a></h2>\n",
       " </div><!-- .entry-header-wrap -->\n",
       " <div class=\"entry-meta\">\n",
       "                         by <span class=\"post-author\">호쌤(이광호)</span> on <time class=\"published\" datetime=\"2022-12-13\">December 13, 2022</time>\n",
       " </div><!-- .entry-meta -->\n",
       " </header><!-- .entry-header -->\n",
       " <div class=\"entry-content\">\n",
       " <p>내장함수는 데이터 분석가에게 제공되어질 목적으로 R 안에 사전에 정의되어 내장되어 있는 기능으로 대부분 기본 데이터(스칼라값)를 가공하는 기능입니다. R에 내장되어 있는 기능이므로 내부 코드를 볼 수는 없기 때문에 어떤 종류가 있는지, 어떤 파라미터를 전달하는지, 어떤 결과값을 반환하는지만 파악해서 활용하는 것에 중점을 두고 파악하는 것이 중요합니다.</p>\n",
       " <p class=\"read-more\"><a class=\"more-link\" href=\"/2022/12/13/R-%EB%82%B4%EC%9E%A5%ED%95%A8%EC%88%98/\" title=\"read more\">read more</a></p>\n",
       " </div><!-- .entry-content -->\n",
       " <footer class=\"entry-footer\">\n",
       " <div class=\"tag-links\">\n",
       "                         Tags: <a href=\"/tags/index.html#R\" rel=\"tag\" title=\"Pages tagged R\">R</a>\n",
       " </div>\n",
       " </footer><!-- .entry-footer -->\n",
       " </article>,\n",
       " <article class=\"post\">\n",
       " <header class=\"entry-header\">\n",
       " <div class=\"entry-header-wrap\">\n",
       " <a class=\"post-thumbnail\" href=\"/2022/12/12/R-%ED%95%A8%EC%88%98%EC%9D%98-%EC%9D%B4%ED%95%B4/\"><img alt=\"[R] 함수의 이해 \" src=\"/images/posts/index-r.png\"/></a>\n",
       " <h2 class=\"entry-title\"><a href=\"/2022/12/12/R-%ED%95%A8%EC%88%98%EC%9D%98-%EC%9D%B4%ED%95%B4/\" rel=\"bookmark\" title=\"Permanent Link to /2022/12/12/R-%ED%95%A8%EC%88%98%EC%9D%98-%EC%9D%B4%ED%95%B4/\">[R] 함수의 이해</a></h2>\n",
       " </div><!-- .entry-header-wrap -->\n",
       " <div class=\"entry-meta\">\n",
       "                         by <span class=\"post-author\">호쌤(이광호)</span> on <time class=\"published\" datetime=\"2022-12-12\">December 12, 2022</time>\n",
       " </div><!-- .entry-meta -->\n",
       " </header><!-- .entry-header -->\n",
       " <div class=\"entry-content\">\n",
       " <p>함수란 자주 사용되는 명령어들을 <strong>그룹화</strong>해서 생성한 <strong>재사용 가능 단위</strong>를 의미합니다. 어릴적 공부한 수학의 함수도 같은 의미로 이해할 수 있습니다.</p>\n",
       " <p class=\"read-more\"><a class=\"more-link\" href=\"/2022/12/12/R-%ED%95%A8%EC%88%98%EC%9D%98-%EC%9D%B4%ED%95%B4/\" title=\"read more\">read more</a></p>\n",
       " </div><!-- .entry-content -->\n",
       " <footer class=\"entry-footer\">\n",
       " <div class=\"tag-links\">\n",
       "                         Tags: <a href=\"/tags/index.html#R\" rel=\"tag\" title=\"Pages tagged R\">R</a>\n",
       " </div>\n",
       " </footer><!-- .entry-footer -->\n",
       " </article>,\n",
       " <article class=\"post\">\n",
       " <header class=\"entry-header\">\n",
       " <div class=\"entry-header-wrap\">\n",
       " <a class=\"post-thumbnail\" href=\"/2022/12/11/R-%ED%94%84%EB%A1%9C%EA%B7%B8%EB%9E%A8-%ED%9D%90%EB%A6%84%EC%A0%9C%EC%96%B4(3)-%EA%B8%B0%EB%B3%B8-%EB%AC%B8%EB%B2%95-%ED%99%9C%EC%9A%A9%ED%95%98%EA%B8%B0/\"><img alt=\"[R] 프로그램 흐름제어 (3) - 기본 문법 활용하기 \" src=\"/images/posts/index-r.png\"/></a>\n",
       " <h2 class=\"entry-title\"><a href=\"/2022/12/11/R-%ED%94%84%EB%A1%9C%EA%B7%B8%EB%9E%A8-%ED%9D%90%EB%A6%84%EC%A0%9C%EC%96%B4(3)-%EA%B8%B0%EB%B3%B8-%EB%AC%B8%EB%B2%95-%ED%99%9C%EC%9A%A9%ED%95%98%EA%B8%B0/\" rel=\"bookmark\" title=\"Permanent Link to /2022/12/11/R-%ED%94%84%EB%A1%9C%EA%B7%B8%EB%9E%A8-%ED%9D%90%EB%A6%84%EC%A0%9C%EC%96%B4(3)-%EA%B8%B0%EB%B3%B8-%EB%AC%B8%EB%B2%95-%ED%99%9C%EC%9A%A9%ED%95%98%EA%B8%B0/\">[R] 프로그램 흐름제어 (3) - 기본 문법 활용하기</a></h2>\n",
       " </div><!-- .entry-header-wrap -->\n",
       " <div class=\"entry-meta\">\n",
       "                         by <span class=\"post-author\">호쌤(이광호)</span> on <time class=\"published\" datetime=\"2022-12-11\">December 11, 2022</time>\n",
       " </div><!-- .entry-meta -->\n",
       " </header><!-- .entry-header -->\n",
       " <div class=\"entry-content\">\n",
       " <p>if, while, for 문은 각각의 블록(<code class=\"language-plaintext highlighter-rouge\">{}</code>) 안에 같은 종류의 구문 혹은 다른 종류의 구문을 포함할 수 있습니다.</p>\n",
       " <p class=\"read-more\"><a class=\"more-link\" href=\"/2022/12/11/R-%ED%94%84%EB%A1%9C%EA%B7%B8%EB%9E%A8-%ED%9D%90%EB%A6%84%EC%A0%9C%EC%96%B4(3)-%EA%B8%B0%EB%B3%B8-%EB%AC%B8%EB%B2%95-%ED%99%9C%EC%9A%A9%ED%95%98%EA%B8%B0/\" title=\"read more\">read more</a></p>\n",
       " </div><!-- .entry-content -->\n",
       " <footer class=\"entry-footer\">\n",
       " <div class=\"tag-links\">\n",
       "                         Tags: <a href=\"/tags/index.html#R\" rel=\"tag\" title=\"Pages tagged R\">R</a>\n",
       " </div>\n",
       " </footer><!-- .entry-footer -->\n",
       " </article>,\n",
       " <article class=\"post\">\n",
       " <header class=\"entry-header\">\n",
       " <div class=\"entry-header-wrap\">\n",
       " <a class=\"post-thumbnail\" href=\"/2022/12/10/R-%ED%94%84%EB%A1%9C%EA%B7%B8%EB%9E%A8-%ED%9D%90%EB%A6%84%EC%A0%9C%EC%96%B4(2)-%EB%B0%98%EB%B3%B5%EB%AC%B8/\"><img alt=\"[R] 프로그램 흐름제어 (2) - 반복문 \" src=\"/images/posts/index-r.png\"/></a>\n",
       " <h2 class=\"entry-title\"><a href=\"/2022/12/10/R-%ED%94%84%EB%A1%9C%EA%B7%B8%EB%9E%A8-%ED%9D%90%EB%A6%84%EC%A0%9C%EC%96%B4(2)-%EB%B0%98%EB%B3%B5%EB%AC%B8/\" rel=\"bookmark\" title=\"Permanent Link to /2022/12/10/R-%ED%94%84%EB%A1%9C%EA%B7%B8%EB%9E%A8-%ED%9D%90%EB%A6%84%EC%A0%9C%EC%96%B4(2)-%EB%B0%98%EB%B3%B5%EB%AC%B8/\">[R] 프로그램 흐름제어 (2) - 반복문</a></h2>\n",
       " </div><!-- .entry-header-wrap -->\n",
       " <div class=\"entry-meta\">\n",
       "                         by <span class=\"post-author\">호쌤(이광호)</span> on <time class=\"published\" datetime=\"2022-12-10\">December 10, 2022</time>\n",
       " </div><!-- .entry-meta -->\n",
       " </header><!-- .entry-header -->\n",
       " <div class=\"entry-content\">\n",
       " <p>주어진 조건을 충족하는 동안 <code class=\"language-plaintext highlighter-rouge\">{}</code>안의 구문을 반복적으로 수행하는 형태를 반복문이라고 합니다.</p>\n",
       " <p class=\"read-more\"><a class=\"more-link\" href=\"/2022/12/10/R-%ED%94%84%EB%A1%9C%EA%B7%B8%EB%9E%A8-%ED%9D%90%EB%A6%84%EC%A0%9C%EC%96%B4(2)-%EB%B0%98%EB%B3%B5%EB%AC%B8/\" title=\"read more\">read more</a></p>\n",
       " </div><!-- .entry-content -->\n",
       " <footer class=\"entry-footer\">\n",
       " <div class=\"tag-links\">\n",
       "                         Tags: <a href=\"/tags/index.html#R\" rel=\"tag\" title=\"Pages tagged R\">R</a>\n",
       " </div>\n",
       " </footer><!-- .entry-footer -->\n",
       " </article>]"
      ]
     },
     "execution_count": 15,
     "metadata": {},
     "output_type": "execute_result"
    }
   ],
   "source": [
    "articleList = soup.select('.post') # F12에서 필요한 태그/class 확인\n",
    "articleList"
   ]
  },
  {
   "cell_type": "code",
   "execution_count": 17,
   "metadata": {},
   "outputs": [],
   "source": [
    "# 수집한 결과가 저장될 빈 리스트\n",
    "result = []"
   ]
  },
  {
   "attachments": {},
   "cell_type": "markdown",
   "metadata": {},
   "source": [
    "1) 제목 추출"
   ]
  },
  {
   "cell_type": "code",
   "execution_count": 23,
   "metadata": {},
   "outputs": [
    {
     "name": "stdout",
     "output_type": "stream",
     "text": [
      "[R] 패키지의 이해\n",
      "[R] 내장함수\n",
      "[R] 함수의 이해\n",
      "[R] 프로그램 흐름제어 (3) - 기본 문법 활용하기\n",
      "[R] 프로그램 흐름제어 (2) - 반복문\n"
     ]
    }
   ],
   "source": [
    "for article in articleList :\n",
    "    # 개발자 도구에서 확인 / class가 entry-title 이고 a 태그 \n",
    "    titleEl = article.select('.entry-title > a') \n",
    "    #print(titleEl) #[<a href=\"/2022/12/14/R-%ED%8C%A8%ED%82%A4%EC%A....\n",
    "    title = titleEl[0].text.strip()\n",
    "    print(title)"
   ]
  },
  {
   "attachments": {},
   "cell_type": "markdown",
   "metadata": {},
   "source": [
    "2) 작성 시간 추출"
   ]
  },
  {
   "cell_type": "code",
   "execution_count": 27,
   "metadata": {},
   "outputs": [
    {
     "name": "stdout",
     "output_type": "stream",
     "text": [
      "2022-12-14\n",
      "2022-12-13\n",
      "2022-12-12\n",
      "2022-12-11\n",
      "2022-12-10\n"
     ]
    }
   ],
   "source": [
    "for article in articleList :\n",
    "    dataEl = article.select('.published') # class가 published \n",
    "    #print(dataEl) #[<time class=\"published\" datetime=\"2022-12-14\"\n",
    "    data = dataEl[0].attrs['datetime'] # 속성이 datatime인 요소들\n",
    "    print(data) # 날짜처럼 생겼어도 웹에서 가져온건 모두 문자열"
   ]
  },
  {
   "attachments": {},
   "cell_type": "markdown",
   "metadata": {},
   "source": [
    "3) 요약본 추출"
   ]
  },
  {
   "cell_type": "code",
   "execution_count": 29,
   "metadata": {},
   "outputs": [
    {
     "name": "stdout",
     "output_type": "stream",
     "text": [
      "패키지란 R이 제공하지 않는 기능을 구현해 놓은 일종의 확장팩을 말합니다. 온라인에 등록되어 있는 패키지를 다운로드 받아 설치하고 그 패키지에 포함된 기능들을 로드해서 사용할 수 있으며 대부분의 데이터 분석, 시각화 관련 기능은 패키지를 통해 제공됩니다.\n",
      "내장함수는 데이터 분석가에게 제공되어질 목적으로 R 안에 사전에 정의되어 내장되어 있는 기능으로 대부분 기본 데이터(스칼라값)를 가공하는 기능입니다. R에 내장되어 있는 기능이므로 내부 코드를 볼 수는 없기 때문에 어떤 종류가 있는지, 어떤 파라미터를 전달하는지, 어떤 결과값을 반환하는지만 파악해서 활용하는 것에 중점을 두고 파악하는 것이 중요합니다.\n",
      "함수란 자주 사용되는 명령어들을 그룹화해서 생성한 재사용 가능 단위를 의미합니다. 어릴적 공부한 수학의 함수도 같은 의미로 이해할 수 있습니다.\n",
      "if, while, for 문은 각각의 블록({}) 안에 같은 종류의 구문 혹은 다른 종류의 구문을 포함할 수 있습니다.\n",
      "주어진 조건을 충족하는 동안 {}안의 구문을 반복적으로 수행하는 형태를 반복문이라고 합니다.\n"
     ]
    }
   ],
   "source": [
    "for article in articleList :\n",
    "    contentEL = article.select(\".entry-content > p\") \n",
    "#    print(contentEL) #[<p>패키지란 R이 제공하지 않는 기능을 구현해...\n",
    "    content = contentEL[0].text.strip()\n",
    "    print(content)"
   ]
  },
  {
   "attachments": {},
   "cell_type": "markdown",
   "metadata": {},
   "source": [
    "4) 내용을 딕셔너리로 모아서 출력하기"
   ]
  },
  {
   "cell_type": "code",
   "execution_count": 30,
   "metadata": {},
   "outputs": [
    {
     "data": {
      "text/plain": [
       "[{'제목': '[R] 패키지의 이해',\n",
       "  '작성일': '2022-12-14',\n",
       "  '요약': '패키지란 R이 제공하지 않는 기능을 구현해 놓은 일종의 확장팩을 말합니다. 온라인에 등록되어 있는 패키지를 다운로드 받아 설치하고 그 패키지에 포함된 기능들을 로드해서 사용할 수 있으며 대부분의 데이터 분석, 시각화 관련 기능은 패키지를 통해 제공됩니다.'},\n",
       " {'제목': '[R] 내장함수',\n",
       "  '작성일': '2022-12-13',\n",
       "  '요약': '내장함수는 데이터 분석가에게 제공되어질 목적으로 R 안에 사전에 정의되어 내장되어 있는 기능으로 대부분 기본 데이터(스칼라값)를 가공하는 기능입니다. R에 내장되어 있는 기능이므로 내부 코드를 볼 수는 없기 때문에 어떤 종류가 있는지, 어떤 파라미터를 전달하는지, 어떤 결과값을 반환하는지만 파악해서 활용하는 것에 중점을 두고 파악하는 것이 중요합니다.'},\n",
       " {'제목': '[R] 함수의 이해',\n",
       "  '작성일': '2022-12-12',\n",
       "  '요약': '함수란 자주 사용되는 명령어들을 그룹화해서 생성한 재사용 가능 단위를 의미합니다. 어릴적 공부한 수학의 함수도 같은 의미로 이해할 수 있습니다.'},\n",
       " {'제목': '[R] 프로그램 흐름제어 (3) - 기본 문법 활용하기',\n",
       "  '작성일': '2022-12-11',\n",
       "  '요약': 'if, while, for 문은 각각의 블록({}) 안에 같은 종류의 구문 혹은 다른 종류의 구문을 포함할 수 있습니다.'},\n",
       " {'제목': '[R] 프로그램 흐름제어 (2) - 반복문',\n",
       "  '작성일': '2022-12-10',\n",
       "  '요약': '주어진 조건을 충족하는 동안 {}안의 구문을 반복적으로 수행하는 형태를 반복문이라고 합니다.'}]"
      ]
     },
     "execution_count": 30,
     "metadata": {},
     "output_type": "execute_result"
    }
   ],
   "source": [
    "for article in articleList :\n",
    "\n",
    "    titleEl = article.select('.entry-title > a') \n",
    "    title = titleEl[0].text.strip()\n",
    "\n",
    "    dataEl = article.select('.published') \n",
    "    data = dataEl[0].attrs['datetime']\n",
    "\n",
    "    contentEL = article.select(\".entry-content > p\") \n",
    "    content = contentEL[0].text.strip()\n",
    "\n",
    "# 추출한 내용을 딕셔너리로 병합 (한글 변수도 가능함)\n",
    "    item = {'제목' : title , \"작성일\" : data , \"요약\" : content}\n",
    "\n",
    "# 딕셔너리를 미리 준비한 리스트에 원소로 추가\n",
    "    result.append(item)\n",
    "result"
   ]
  },
  {
   "cell_type": "code",
   "execution_count": 31,
   "metadata": {},
   "outputs": [
    {
     "data": {
      "text/html": [
       "<div>\n",
       "<style scoped>\n",
       "    .dataframe tbody tr th:only-of-type {\n",
       "        vertical-align: middle;\n",
       "    }\n",
       "\n",
       "    .dataframe tbody tr th {\n",
       "        vertical-align: top;\n",
       "    }\n",
       "\n",
       "    .dataframe thead th {\n",
       "        text-align: right;\n",
       "    }\n",
       "</style>\n",
       "<table border=\"1\" class=\"dataframe\">\n",
       "  <thead>\n",
       "    <tr style=\"text-align: right;\">\n",
       "      <th></th>\n",
       "      <th>제목</th>\n",
       "      <th>작성일</th>\n",
       "      <th>요약</th>\n",
       "    </tr>\n",
       "  </thead>\n",
       "  <tbody>\n",
       "    <tr>\n",
       "      <th>0</th>\n",
       "      <td>[R] 패키지의 이해</td>\n",
       "      <td>2022-12-14</td>\n",
       "      <td>패키지란 R이 제공하지 않는 기능을 구현해 놓은 일종의 확장팩을 말합니다. 온라인에...</td>\n",
       "    </tr>\n",
       "    <tr>\n",
       "      <th>1</th>\n",
       "      <td>[R] 내장함수</td>\n",
       "      <td>2022-12-13</td>\n",
       "      <td>내장함수는 데이터 분석가에게 제공되어질 목적으로 R 안에 사전에 정의되어 내장되어 ...</td>\n",
       "    </tr>\n",
       "    <tr>\n",
       "      <th>2</th>\n",
       "      <td>[R] 함수의 이해</td>\n",
       "      <td>2022-12-12</td>\n",
       "      <td>함수란 자주 사용되는 명령어들을 그룹화해서 생성한 재사용 가능 단위를 의미합니다. ...</td>\n",
       "    </tr>\n",
       "    <tr>\n",
       "      <th>3</th>\n",
       "      <td>[R] 프로그램 흐름제어 (3) - 기본 문법 활용하기</td>\n",
       "      <td>2022-12-11</td>\n",
       "      <td>if, while, for 문은 각각의 블록({}) 안에 같은 종류의 구문 혹은 다...</td>\n",
       "    </tr>\n",
       "    <tr>\n",
       "      <th>4</th>\n",
       "      <td>[R] 프로그램 흐름제어 (2) - 반복문</td>\n",
       "      <td>2022-12-10</td>\n",
       "      <td>주어진 조건을 충족하는 동안 {}안의 구문을 반복적으로 수행하는 형태를 반복문이라고...</td>\n",
       "    </tr>\n",
       "  </tbody>\n",
       "</table>\n",
       "</div>"
      ],
      "text/plain": [
       "                               제목         작성일  \\\n",
       "0                     [R] 패키지의 이해  2022-12-14   \n",
       "1                        [R] 내장함수  2022-12-13   \n",
       "2                      [R] 함수의 이해  2022-12-12   \n",
       "3  [R] 프로그램 흐름제어 (3) - 기본 문법 활용하기  2022-12-11   \n",
       "4         [R] 프로그램 흐름제어 (2) - 반복문  2022-12-10   \n",
       "\n",
       "                                                  요약  \n",
       "0  패키지란 R이 제공하지 않는 기능을 구현해 놓은 일종의 확장팩을 말합니다. 온라인에...  \n",
       "1  내장함수는 데이터 분석가에게 제공되어질 목적으로 R 안에 사전에 정의되어 내장되어 ...  \n",
       "2  함수란 자주 사용되는 명령어들을 그룹화해서 생성한 재사용 가능 단위를 의미합니다. ...  \n",
       "3  if, while, for 문은 각각의 블록({}) 안에 같은 종류의 구문 혹은 다...  \n",
       "4  주어진 조건을 충족하는 동안 {}안의 구문을 반복적으로 수행하는 형태를 반복문이라고...  "
      ]
     },
     "execution_count": 31,
     "metadata": {},
     "output_type": "execute_result"
    }
   ],
   "source": [
    "df = DataFrame(result)\n",
    "df.to_excel('블로그_수집.xlsx')\n",
    "df"
   ]
  }
 ],
 "metadata": {
  "kernelspec": {
   "display_name": "Python 3",
   "language": "python",
   "name": "python3"
  },
  "language_info": {
   "codemirror_mode": {
    "name": "ipython",
    "version": 3
   },
   "file_extension": ".py",
   "mimetype": "text/x-python",
   "name": "python",
   "nbconvert_exporter": "python",
   "pygments_lexer": "ipython3",
   "version": "3.11.1"
  },
  "orig_nbformat": 4
 },
 "nbformat": 4,
 "nbformat_minor": 2
}
