{
 "cells": [
  {
   "attachments": {},
   "cell_type": "markdown",
   "metadata": {},
   "source": [
    "## Selenium 활용 데이터 수집 - 파파고"
   ]
  },
  {
   "attachments": {},
   "cell_type": "markdown",
   "metadata": {},
   "source": [
    "## 마크다운파일(md) 크롬에서 보는 방법 \n",
    "구글 웹스토어에서 markdown viewer 설치 -> m 버튼 눌러주고 (구글창 오른쪽 사이드 위) -> 설정 -> 확장프로그램 -> markdown viewer -> 세부정보 -> 파일 URL에 대한 액세스 허용 켜기, 사이트 엑세스 켜기 -> 마크다운 연결프로그램 다른앱선택 (구글>크롬)"
   ]
  },
  {
   "cell_type": "code",
   "execution_count": 22,
   "metadata": {},
   "outputs": [],
   "source": [
    "import chromedriver_autoinstaller #ChromeDriver 자동 설치 모듈\n",
    "from selenium import webdriver # Chrome을 제어하기 위한 객체\n",
    "from selenium.webdriver.support.ui import WebDriverWait # Chrome이 웹페이지 로딩을 완료할 때까지 최대 n초간 대기하는 기능\n",
    "from bs4 import BeautifulSoup\n",
    "from pandas import DataFrame \n",
    "import time # 지정된 시간동안 파이썬에 렉을 거는 기능 \n",
    "from selenium.webdriver.common.by import By # 원하는 부분을 추출할 수 있는 방식을 지정하는 객체\n",
    "import time\n",
    "import datetime as dt"
   ]
  },
  {
   "attachments": {},
   "cell_type": "markdown",
   "metadata": {},
   "source": [
    "### 번역할 파일 가져오기"
   ]
  },
  {
   "attachments": {},
   "cell_type": "markdown",
   "metadata": {},
   "source": [
    "번역할 문장이 행 단위로 입력되어 있는 영문 텍스트 파일이 필요함"
   ]
  },
  {
   "cell_type": "code",
   "execution_count": 23,
   "metadata": {},
   "outputs": [
    {
     "data": {
      "text/plain": [
       "['Desperately projecting that everything is as it was, the Kremlin is only emphasizing how much has changed.\\n',\n",
       " '\\n',\n",
       " 'These were 36 hours that provided a glimpse of the end of Russian President Vladimir Putin’s rule. Almost every action was improbable, at best a week ago – much was inconceivable, 17 months ago.\\n',\n",
       " '\\n',\n",
       " 'A loyal henchman slams the premise of the invasion, then claims an airstrike targeted his troops, before taking a major military town without clashes, Prigozhin said, and then marching to within a few hundred miles of Moscow. But suddenly he executes a baffling reversal, turning back to avoid bloodshed, as the Kremlin claims Alexander Lukashenko, the president of Belarus whom Putin seems to treat with contempt, brokered a dramatic reprieve, in which the insurrectionist who has his armor bound for Moscow, now opts for exile in Minsk.\\n',\n",
       " '\\n',\n",
       " 'Even as the dust settles, it still makes little sense. It is important to remember we have yet to hear from Yevgeny Prigozhin that he has accepted exile in Belarus and see evidence his units have genuinely all stood down. He is an open proliferator of misinformation. We should be equally suspicious of the apparent bow with which Kremlin spokesman Dmitry Peskov tried to tie this startling episode up with on Saturday night. Two hours earlier, Wagner were at the gates of the capital (almost), and then suddenly everything is forgiven.\\n',\n",
       " '\\n',\n",
       " 'Fighters of Wagner private mercenary group pull out of the headquarters of the Southern Military District to return to base, in the city of Rostov-on-Don, Russia, June 24, 2023. REUTERS/Alexander Ermochenko\\n',\n",
       " '\\n',\n",
       " 'There are large parts of this story missing. We may never learn what they are. Many emotions could have altered Prigozhin’s course. Was the advance north too easy? Did he accept entering the capital would leave his men vulnerable, even to a weak Russian military response? Were the regular military not joining him in large enough number? Did he believe a climbdown would only grow his support? While on the surface, Prigozhin’s climbdown makes him appear weak, even finished, he has been the decision-maker over the past 36 hours.\\n',\n",
       " '\\n',\n",
       " 'Putin has been left reacting. Silent initially, and then bombastically angry and confident, promising “inevitable punishment” for the “scum.” But hours later, this was all forgotten. Putin’s emotional state - were it known - is arguably less revealing than his actions. By letting Prigozhin go, and apparently sweeping the entire insurrection under the carpet, he’s appeared the weakest yet in 23 years.\\n',\n",
       " '\\n',\n",
       " 'It is possible his special services will now pursue Wagner and its supporters, slowly, away from the glare of the last two days. Yet the Kremlin’s solution to the problem was to climb down too. It’s a move so antipathetic to everything Putin stands for, it can only suggest he had no other choice: that he lacked the forces to be sure he could hold Prigozhin back.\\n',\n",
       " '\\n',\n",
       " 'That is perhaps the larger lesson of the so-called March of Justice. Not that a mercenary boss didn’t send a modest-sized force into Moscow to execute a coup, but that the Kremlin had to let him go.\\n',\n",
       " '\\n',\n",
       " 'Putin’s vulnerability is assured\\n',\n",
       " '\\n',\n",
       " 'Putin’s position was clearly weakening because of the war’s catastrophic mismanagement. But how he would be removed - what possible circumstances could permit that - was something that eluded officials and analysts. This was not a likely option.\\n',\n",
       " '\\n',\n",
       " 'But now it has happened, we have a glimpse behind the thickset curtain the Kremlin relies upon to hide its infighting, incompetence and frailty, allowing it to project an outsized confidence – a post-Soviet omnipotence. It’s pretty ugly in there it seems.\\n',\n",
       " '\\n',\n",
       " 'Now the rest of the world has seen this too – from Ukraine to NATO to Putin’s allies. Notably some friends were quiet: Kazakhstan and Iran – both of whom owe Russia a past debt – called this an “internal matter.” That is not unqualified support.\\n',\n",
       " '\\n',\n",
       " 'Fighters of Wagner private mercenary group stand guard in a street near the headquarters of the Southern Military District in the city of Rostov-on-Don, Russia, June 24, 2023. REUTERS/Stringer\\n',\n",
       " '\\n',\n",
       " 'We can only guess whether the thought of Prigozhin in charge will cause such panic in the elite country houses of suburban Moscow that support for Putin sustains. Yet his vulnerability is now assured, for the first time in 23 years – two decades in which he has accrued plentiful enemies and debts. (It is ridiculous to maintain the last two days have been an elaborate charade designed to somehow improve Putin’s position or provide a pretext for escalation. This is an entirely internal affair, distracting from the urgent needs of the war. Making the Kremlin head seem this unequivocally weak can in no way strengthen his position).\\n',\n",
       " '\\n',\n",
       " 'So where does this leave Russia and its anxious adversaries? We can’t know what comes next, but it is likely to follow the explosively erratic pattern of the last two days. Prigozhin may vanish for a few months. Putin may make some changes in his military staff. Things may seem “normal.” But they have absolutely changed and a post-Putin world – and the dramatic force needed to impose it – has been glimpsed. It feels like the beginning of the end for him.\\n',\n",
       " '\\n',\n",
       " 'The most acute catalyst to any change will be the impact this bizarre drama has on the Ukraine frontlines. It is impossible to imagine that a series of fluctuations in Russia’s military presence has not weakened defensive positions in the south and east – the very places where Ukraine is pushing forwards. The most optimistic assessment you could make is that Russian military morale must have felt a hiccup while watching its commander-in-chief and most prominent military figure engage in a 24-hour game of chicken. Would you genuinely give your life on the Russian front lines this weekend, given the mess you observe in the higher command?\\n',\n",
       " '\\n',\n",
       " 'Ukraine claims to be already pushing forward. It is too early to know what impact the Justice March has had on the war. But the Kremlin must be acutely aware of the damage to both the positions of Putin and Prigozhin if this conflict – which Moscow has framed as an existential battle against NATO – is ultimately lost. Perhaps that stark recognition was quietly feeding the bizarre decisions and reversals as Wagner fighters made such easy progress on Saturday north on the M4 highway to Moscow.']"
      ]
     },
     "execution_count": 23,
     "metadata": {},
     "output_type": "execute_result"
    }
   ],
   "source": [
    "source = None\n",
    "with open('news.txt','r',encoding='utf-8') as f :\n",
    "    source = f.readlines()\n"
   ]
  },
  {
   "attachments": {},
   "cell_type": "markdown",
   "metadata": {},
   "source": [
    "웹브라우저 준비"
   ]
  },
  {
   "cell_type": "code",
   "execution_count": 24,
   "metadata": {},
   "outputs": [],
   "source": [
    "# 크롬 드라이버 자동 설치\n",
    "chromedriver_autoinstaller.install()\n",
    "\n",
    "# 크롬드라이버를 통해 크롬을 실행시킴\n",
    "driver = webdriver.Chrome() # driverㄴ 객체는 Chrome 자체 \n",
    "\n",
    "# 크롬 브라우저가 준비될 때까지 최대 5초씩 대기해라 \n",
    "driver.implicitly_wait(5)\n",
    "\n",
    "# 네이버 로그인 페이지로 이동\n",
    "driver.get('https://papago.naver.com/')\n",
    "\n",
    "# 페이지 로딩이 완료될 때까지 1초간 대기 \n",
    "time.sleep(3)\n"
   ]
  },
  {
   "attachments": {},
   "cell_type": "markdown",
   "metadata": {},
   "source": [
    "번역 수행하기"
   ]
  },
  {
   "cell_type": "code",
   "execution_count": 28,
   "metadata": {},
   "outputs": [],
   "source": [
    "# 반복 수행 중 이번 회차에서 번역한 결과를\n",
    "currentTrans = None\n",
    "# 이번에 반복한 결과를\n",
    "prevTranse = None\n",
    "\n",
    "# 번역 결과가 저장될 텍스트 파일을 분초단위로 생성한다.\n",
    "filename = dt.datetime.now().strftime(\"%y%m%d_%H%M%S.md\")\n",
    "\n",
    "\n",
    "\n",
    "'''\n",
    "흐름 \n",
    "텍스트를 입력하는 영역을 찍어보면 txtSource 가 id\n",
    "파파고의 기존 인용 내용을 항상 지우고 시작해야 한다.\n",
    "그리고 한 줄씩 입력\n",
    "그리고 반역하기 버튼의 객체를 가져와서 클릭\n",
    "번역 돌아갈 시간 주고 \n",
    "번역내용의 id는 TxtTarget\n",
    "번역 복사할 시간 주고\n",
    "번역 결과가 저장될 텍스트 파일을 생성하고 \n",
    "저장한다.\n",
    "\n",
    "'''\n",
    "with open(filename,'w',encoding='utf-8') as f :\n",
    "    # 읽어온 텍스트의 원소만큼 반복한다.\n",
    "    for s in source : # s는 원문\n",
    "        # 각 행마다 줄바꿈 문자 등의 앞뒤 공백을 제거한다.\n",
    "        s = s.strip()\n",
    "\n",
    "        # 이번 턴에서 번역할 내용이 빈 행이라면 넘어감 \n",
    "        if not s :\n",
    "            continue\n",
    "\n",
    "        #print(s) # 줄 글로(영어) 쭉 읽어옴 \n",
    "\n",
    "        # 번역할 원문을 입력하는 요소를 취득한다.\n",
    "        txtSource = WebDriverWait(driver,3).until(lambda x : x.find_element(By.CSS_SELECTOR,\"#txtSource\"))\n",
    "\n",
    "        # 기존의 입력 내용을 삭제 한다. (그래야 새로운 영어를 붙여넣기 하니까)\n",
    "        txtSource.clear()\n",
    "\n",
    "        # 번역할 한 행을 입력요소에 키보드로 입력한다.\n",
    "        txtSource.send_keys(s)\n",
    "\n",
    "        # 번역하기 버튼 요소 취득\n",
    "        btnTranslate = WebDriverWait(driver,3).until(lambda x : x.find_element(By.CSS_SELECTOR,\"#btnTranslate\"))\n",
    "\n",
    "        # 번역 버튼 객체를 가져와서 클릭한다.\n",
    "        btnTranslate.click()\n",
    "\n",
    "        # 번역이 되는 1초가나 대기한다.\n",
    "        time.sleep(1)\n",
    "# ---------------------------------------------------------------------------------\n",
    "        while True :\n",
    "            # 번역 결과가 표시될 요소를 취득\n",
    "            txtTarget = WebDriverWait(driver,3).until(lambda x : x.find_element(By.CSS_SELECTOR,\"#txtTarget\"))\n",
    "            \n",
    "            # 번역 결과 가져오기\n",
    "            currentTrans = txtTarget.text.strip()\n",
    "            #print(currentTrans)\n",
    "\n",
    "            # 가져온 내용이 있고 이번 번역결과가 이전 번역결과와 다르다면 반복해라\n",
    "            if currentTrans and currentTrans != prevTranse :\n",
    "                prevTranse = currentTrans \n",
    "                break\n",
    "            \n",
    "            time.sleep(1)\n",
    "# ---------------------------------------------------------------------------------\n",
    "        f.write(s)\n",
    "        f.write('\\n\\n')\n",
    "        f.write(\"> \") # 인용구 \n",
    "        f.write(currentTrans)\n",
    "        f.write('\\n\\n')\n",
    "'''\n",
    "업그레이드 버젼 \n",
    "이번 회차에서 번역한 결과 C와 이전 번역 결과P\n",
    "기본값은 둘다 None \n",
    "결과가 다를 때 break하고 반복문을 탈출한다.\n",
    "이전 번역 결과를 현재에 계속 담는다. 랙 걸리는걸 회피하기 위해서 이렇게함.\n",
    "'''    \n",
    "        \n"
   ]
  },
  {
   "cell_type": "code",
   "execution_count": null,
   "metadata": {},
   "outputs": [],
   "source": []
  }
 ],
 "metadata": {
  "kernelspec": {
   "display_name": "Python 3",
   "language": "python",
   "name": "python3"
  },
  "language_info": {
   "codemirror_mode": {
    "name": "ipython",
    "version": 3
   },
   "file_extension": ".py",
   "mimetype": "text/x-python",
   "name": "python",
   "nbconvert_exporter": "python",
   "pygments_lexer": "ipython3",
   "version": "3.11.1"
  },
  "orig_nbformat": 4
 },
 "nbformat": 4,
 "nbformat_minor": 2
}
