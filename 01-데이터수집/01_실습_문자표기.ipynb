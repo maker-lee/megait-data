{
 "cells": [
  {
   "cell_type": "code",
   "execution_count": null,
   "metadata": {},
   "outputs": [],
   "source": [
    "import requests  #형태가 무엇이든 온라인 형태 그대로 가져온다. (웹 상의 데이터를 요청하는 기능)\n",
    "import json #Json을 딕셔너리로 변환하는 기능"
   ]
  },
  {
   "cell_type": "code",
   "execution_count": null,
   "metadata": {},
   "outputs": [],
   "source": [
    "url = \"https://data.hossam.kr/sample.txt\" # 알맹이만 가져오려면 Json으로 가져오면 됨. dict이랑 똑같아\n",
    "# txt는 그 자체가 str인데, Json은 키와 값이므로 필요한 자료만 분리해야함"
   ]
  },
  {
   "cell_type": "code",
   "execution_count": null,
   "metadata": {},
   "outputs": [],
   "source": [
    "# f12->네트워크->크롬 브라우져가 웹사이트를 띄워주기위해 웹사이트로부터 다운로드받는 모든재료가 보임(미리보기-사진 다운로드 개꿀)\n",
    "# 이름 맨 처음 웹페이지-> 요청 헤더(내가 웹사이트에 보내는 정보)에 User-Agent 복사 ↓ 내용\n",
    "# Mozilla/5.0 (Windows NT 10.0; Win64; x64) AppleWebKit/537.36 (KHTML, like Gecko) Chrome/114.0.0.0 Safari/537.36\n",
    "# 컴퓨터의 운영체체종류, 웹브라우저 엔진 등 정보  \n",
    "\n",
    "session = requests.Session()# 접속 정보 설정 (이 접속정보가 없으면 대상 시스템이 ?하면서 안줌)\n",
    "session.headers.update({       \n",
    "    \"Referer\": \"\",    \n",
    "    \"User-Agent\": \"Mozilla/5.0 (Windows NT 10.0; Win64; x64) AppleWebKit/537.36})\"})\n",
    "# 접속객체 헤더정보를 수정한다는 의미\n",
    "# Referer = \"\" 내가 직전에 머무른 페이지주소, \"\"일때는 내가 url을 직접 입력했다고 인식한다. "
   ]
  },
  {
   "cell_type": "code",
   "execution_count": null,
   "metadata": {},
   "outputs": [],
   "source": [
    "r = session.get(url) # ↑ 이렇게 만들어진 세션을 가지고 r = seesion.get(url)에 담음\n",
    "# 접속에 실패한 경우\n",
    "if r.status_code != 200 :\n",
    "    msg = \"[%d Error] %s 에러가 발생함\" % (r.status_code, r.reason)    # r.reason은 에러 메세지 원문임.\n",
    "    raise Exception(msg)\n",
    "\n",
    "# 로그인이 필요한 페이지는 Referer로 안되서, 크롬을 켜야함."
   ]
  },
  {
   "cell_type": "code",
   "execution_count": null,
   "metadata": {},
   "outputs": [],
   "source": [
    "r.encoding = \"utf-8\" # 한글이 나오도록 인코딩\n",
    "print(r.text) # 출력, 온라인에서 가져온건 type이 무조건 str임"
   ]
  },
  {
   "cell_type": "code",
   "execution_count": null,
   "metadata": {},
   "outputs": [],
   "source": []
  }
 ],
 "metadata": {
  "kernelspec": {
   "display_name": "Python 3",
   "language": "python",
   "name": "python3"
  },
  "language_info": {
   "codemirror_mode": {
    "name": "ipython",
    "version": 3
   },
   "file_extension": ".py",
   "mimetype": "text/x-python",
   "name": "python",
   "nbconvert_exporter": "python",
   "pygments_lexer": "ipython3",
   "version": "3.11.1"
  },
  "orig_nbformat": 4
 },
 "nbformat": 4,
 "nbformat_minor": 2
}
