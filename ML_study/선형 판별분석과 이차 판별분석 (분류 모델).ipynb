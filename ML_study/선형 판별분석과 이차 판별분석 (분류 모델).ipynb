{
 "cells": [
  {
   "cell_type": "markdown",
   "id": "eec7ab10",
   "metadata": {},
   "source": [
    "# 선형판별분석과 이차판별분석 "
   ]
  },
  {
   "cell_type": "markdown",
   "id": "72b5b4ad",
   "metadata": {},
   "source": [
    "This is data that confirmed the grade of performance with age and some exercise performance data.\n",
    "\n",
    "| 변수명                  | 설명                                   |\n",
    "|-------------------------|----------------------------------------|\n",
    "| age                     | 20 ~ 64                                |\n",
    "| gender                  | F, M                                   |\n",
    "| height_cm               | (If you want to convert to feet, divide by 30.48) |\n",
    "| weight_kg               |                                        |\n",
    "| body fat_%              |                                        |\n",
    "| diastolic               | Diastolic blood pressure (min)        |\n",
    "| systolic                | Systolic blood pressure (min)         |\n",
    "| gripForce               |                                        |\n",
    "| sit and bend forward_cm |                                        |\n",
    "| sit-ups counts          |                                        |\n",
    "| broad jump_cm           |                                        |\n",
    "| class                   | A, B, C, D (A: best) / stratified     |"
   ]
  },
  {
   "cell_type": "code",
   "execution_count": 22,
   "id": "05443b44",
   "metadata": {},
   "outputs": [],
   "source": [
    "import pandas as pd\n",
    "import numpy as np\n",
    "from sklearn.preprocessing import MinMaxScaler\n",
    "from sklearn.model_selection import train_test_split\n",
    "from sklearn.discriminant_analysis import LinearDiscriminantAnalysis\n",
    "from sklearn.metrics import accuracy_score\n",
    "from sklearn.discriminant_analysis import QuadraticDiscriminantAnalysis\n",
    "from sklearn.metrics import classification_report\n",
    "import seaborn as sns\n",
    "import matplotlib.pyplot as plt\n",
    "\n",
    "\n",
    "# 에러 안보이게할래\n",
    "import warnings\n",
    "warnings.filterwarnings('ignore')"
   ]
  },
  {
   "cell_type": "code",
   "execution_count": 23,
   "id": "967bc32c",
   "metadata": {},
   "outputs": [
    {
     "data": {
      "text/html": [
       "<div>\n",
       "<style scoped>\n",
       "    .dataframe tbody tr th:only-of-type {\n",
       "        vertical-align: middle;\n",
       "    }\n",
       "\n",
       "    .dataframe tbody tr th {\n",
       "        vertical-align: top;\n",
       "    }\n",
       "\n",
       "    .dataframe thead th {\n",
       "        text-align: right;\n",
       "    }\n",
       "</style>\n",
       "<table border=\"1\" class=\"dataframe\">\n",
       "  <thead>\n",
       "    <tr style=\"text-align: right;\">\n",
       "      <th></th>\n",
       "      <th>age</th>\n",
       "      <th>gender</th>\n",
       "      <th>height_cm</th>\n",
       "      <th>weight_kg</th>\n",
       "      <th>body fat_%</th>\n",
       "      <th>diastolic</th>\n",
       "      <th>systolic</th>\n",
       "      <th>gripForce</th>\n",
       "      <th>sit and bend forward_cm</th>\n",
       "      <th>sit-ups counts</th>\n",
       "      <th>broad jump_cm</th>\n",
       "      <th>class</th>\n",
       "    </tr>\n",
       "  </thead>\n",
       "  <tbody>\n",
       "    <tr>\n",
       "      <th>0</th>\n",
       "      <td>27.0</td>\n",
       "      <td>M</td>\n",
       "      <td>172.3</td>\n",
       "      <td>75.24</td>\n",
       "      <td>21.3</td>\n",
       "      <td>80.0</td>\n",
       "      <td>130.0</td>\n",
       "      <td>54.9</td>\n",
       "      <td>18.4</td>\n",
       "      <td>60.0</td>\n",
       "      <td>217.0</td>\n",
       "      <td>C</td>\n",
       "    </tr>\n",
       "    <tr>\n",
       "      <th>1</th>\n",
       "      <td>25.0</td>\n",
       "      <td>M</td>\n",
       "      <td>165.0</td>\n",
       "      <td>55.80</td>\n",
       "      <td>15.7</td>\n",
       "      <td>77.0</td>\n",
       "      <td>126.0</td>\n",
       "      <td>36.4</td>\n",
       "      <td>16.3</td>\n",
       "      <td>53.0</td>\n",
       "      <td>229.0</td>\n",
       "      <td>A</td>\n",
       "    </tr>\n",
       "    <tr>\n",
       "      <th>2</th>\n",
       "      <td>31.0</td>\n",
       "      <td>M</td>\n",
       "      <td>179.6</td>\n",
       "      <td>78.00</td>\n",
       "      <td>20.1</td>\n",
       "      <td>92.0</td>\n",
       "      <td>152.0</td>\n",
       "      <td>44.8</td>\n",
       "      <td>12.0</td>\n",
       "      <td>49.0</td>\n",
       "      <td>181.0</td>\n",
       "      <td>C</td>\n",
       "    </tr>\n",
       "    <tr>\n",
       "      <th>3</th>\n",
       "      <td>32.0</td>\n",
       "      <td>M</td>\n",
       "      <td>174.5</td>\n",
       "      <td>71.10</td>\n",
       "      <td>18.4</td>\n",
       "      <td>76.0</td>\n",
       "      <td>147.0</td>\n",
       "      <td>41.4</td>\n",
       "      <td>15.2</td>\n",
       "      <td>53.0</td>\n",
       "      <td>219.0</td>\n",
       "      <td>B</td>\n",
       "    </tr>\n",
       "    <tr>\n",
       "      <th>4</th>\n",
       "      <td>28.0</td>\n",
       "      <td>M</td>\n",
       "      <td>173.8</td>\n",
       "      <td>67.70</td>\n",
       "      <td>17.1</td>\n",
       "      <td>70.0</td>\n",
       "      <td>127.0</td>\n",
       "      <td>43.5</td>\n",
       "      <td>27.1</td>\n",
       "      <td>45.0</td>\n",
       "      <td>217.0</td>\n",
       "      <td>B</td>\n",
       "    </tr>\n",
       "  </tbody>\n",
       "</table>\n",
       "</div>"
      ],
      "text/plain": [
       "    age gender  height_cm  weight_kg  body fat_%  diastolic  systolic  \\\n",
       "0  27.0      M      172.3      75.24        21.3       80.0     130.0   \n",
       "1  25.0      M      165.0      55.80        15.7       77.0     126.0   \n",
       "2  31.0      M      179.6      78.00        20.1       92.0     152.0   \n",
       "3  32.0      M      174.5      71.10        18.4       76.0     147.0   \n",
       "4  28.0      M      173.8      67.70        17.1       70.0     127.0   \n",
       "\n",
       "   gripForce  sit and bend forward_cm  sit-ups counts  broad jump_cm class  \n",
       "0       54.9                     18.4            60.0          217.0     C  \n",
       "1       36.4                     16.3            53.0          229.0     A  \n",
       "2       44.8                     12.0            49.0          181.0     C  \n",
       "3       41.4                     15.2            53.0          219.0     B  \n",
       "4       43.5                     27.1            45.0          217.0     B  "
      ]
     },
     "execution_count": 23,
     "metadata": {},
     "output_type": "execute_result"
    }
   ],
   "source": [
    "# https://www.kaggle.com/datasets/kukuroo3/body-performance-data\n",
    "df = pd.read_csv(\"datasets/bodyPerformance.csv\")\n",
    "\n",
    "# 데이터 샘플 확인\n",
    "df.head()"
   ]
  },
  {
   "cell_type": "code",
   "execution_count": 24,
   "id": "115b7221",
   "metadata": {},
   "outputs": [
    {
     "data": {
      "image/png": "[encoded data removed]",
      "text/plain": [
       "<Figure size 720x720 with 1 Axes>"
      ]
     },
     "metadata": {
      "needs_background": "light"
     },
     "output_type": "display_data"
    }
   ],
   "source": [
    "# 그래프 설정\n",
    "f, ax = plt.subplots(figsize=(10, 10))\n",
    "ax.set_aspect(\"equal\")\n",
    "\n",
    "# 커널 밀도 추정 시각화\n",
    "sns.kdeplot(x=df_man.height_cm, y=df_man.weight_kg, cmap=\"Blues\", shade=False, shade_lowest=False, cbar=False, ax=ax)\n",
    "sns.kdeplot(x=df_woman.height_cm, y=df_woman.weight_kg, cmap=\"Reds\", shade=False, shade_lowest=False, ax=ax)\n",
    "\n",
    "red = sns.color_palette(\"Reds\")[-2]\n",
    "blue = sns.color_palette(\"Blues\")[-2]\n"
   ]
  },
  {
   "cell_type": "code",
   "execution_count": 25,
   "id": "d7fc3eaa",
   "metadata": {},
   "outputs": [
    {
     "data": {
      "text/html": [
       "<div>\n",
       "<style scoped>\n",
       "    .dataframe tbody tr th:only-of-type {\n",
       "        vertical-align: middle;\n",
       "    }\n",
       "\n",
       "    .dataframe tbody tr th {\n",
       "        vertical-align: top;\n",
       "    }\n",
       "\n",
       "    .dataframe thead th {\n",
       "        text-align: right;\n",
       "    }\n",
       "</style>\n",
       "<table border=\"1\" class=\"dataframe\">\n",
       "  <thead>\n",
       "    <tr style=\"text-align: right;\">\n",
       "      <th></th>\n",
       "      <th>height_cm</th>\n",
       "      <th>weight_kg</th>\n",
       "      <th>body fat_%</th>\n",
       "      <th>diastolic</th>\n",
       "      <th>systolic</th>\n",
       "      <th>gripForce</th>\n",
       "      <th>sit and bend forward_cm</th>\n",
       "      <th>sit-ups counts</th>\n",
       "      <th>broad jump_cm</th>\n",
       "    </tr>\n",
       "  </thead>\n",
       "  <tbody>\n",
       "    <tr>\n",
       "      <th>0</th>\n",
       "      <td>0.687500</td>\n",
       "      <td>0.437746</td>\n",
       "      <td>0.242706</td>\n",
       "      <td>0.512164</td>\n",
       "      <td>0.646766</td>\n",
       "      <td>0.778723</td>\n",
       "      <td>0.182353</td>\n",
       "      <td>0.7500</td>\n",
       "      <td>0.716172</td>\n",
       "    </tr>\n",
       "    <tr>\n",
       "      <th>1</th>\n",
       "      <td>0.581395</td>\n",
       "      <td>0.263864</td>\n",
       "      <td>0.168435</td>\n",
       "      <td>0.492958</td>\n",
       "      <td>0.626866</td>\n",
       "      <td>0.516312</td>\n",
       "      <td>0.173529</td>\n",
       "      <td>0.6625</td>\n",
       "      <td>0.755776</td>\n",
       "    </tr>\n",
       "    <tr>\n",
       "      <th>2</th>\n",
       "      <td>0.793605</td>\n",
       "      <td>0.462433</td>\n",
       "      <td>0.226790</td>\n",
       "      <td>0.588988</td>\n",
       "      <td>0.756219</td>\n",
       "      <td>0.635461</td>\n",
       "      <td>0.155462</td>\n",
       "      <td>0.6125</td>\n",
       "      <td>0.597360</td>\n",
       "    </tr>\n",
       "    <tr>\n",
       "      <th>3</th>\n",
       "      <td>0.719477</td>\n",
       "      <td>0.400716</td>\n",
       "      <td>0.204244</td>\n",
       "      <td>0.486556</td>\n",
       "      <td>0.731343</td>\n",
       "      <td>0.587234</td>\n",
       "      <td>0.168908</td>\n",
       "      <td>0.6625</td>\n",
       "      <td>0.722772</td>\n",
       "    </tr>\n",
       "    <tr>\n",
       "      <th>4</th>\n",
       "      <td>0.709302</td>\n",
       "      <td>0.370304</td>\n",
       "      <td>0.187003</td>\n",
       "      <td>0.448143</td>\n",
       "      <td>0.631841</td>\n",
       "      <td>0.617021</td>\n",
       "      <td>0.218908</td>\n",
       "      <td>0.5625</td>\n",
       "      <td>0.716172</td>\n",
       "    </tr>\n",
       "  </tbody>\n",
       "</table>\n",
       "</div>"
      ],
      "text/plain": [
       "   height_cm  weight_kg  body fat_%  diastolic  systolic  gripForce  \\\n",
       "0   0.687500   0.437746    0.242706   0.512164  0.646766   0.778723   \n",
       "1   0.581395   0.263864    0.168435   0.492958  0.626866   0.516312   \n",
       "2   0.793605   0.462433    0.226790   0.588988  0.756219   0.635461   \n",
       "3   0.719477   0.400716    0.204244   0.486556  0.731343   0.587234   \n",
       "4   0.709302   0.370304    0.187003   0.448143  0.631841   0.617021   \n",
       "\n",
       "   sit and bend forward_cm  sit-ups counts  broad jump_cm  \n",
       "0                 0.182353          0.7500       0.716172  \n",
       "1                 0.173529          0.6625       0.755776  \n",
       "2                 0.155462          0.6125       0.597360  \n",
       "3                 0.168908          0.6625       0.722772  \n",
       "4                 0.218908          0.5625       0.716172  "
      ]
     },
     "execution_count": 25,
     "metadata": {},
     "output_type": "execute_result"
    }
   ],
   "source": [
    "# 독립변수 정규화\n",
    "\n",
    "# 독립변수, 종속변수 분리\n",
    "df_x = df.drop(['gender','age','class'],axis=1)\n",
    "df_y = df[['gender']]\n",
    "\n",
    "# 데이터 정규화 적용\n",
    "MinMaxScaler = MinMaxScaler()\n",
    "df_minmax = MinMaxScaler.fit_transform(df_x)\n",
    "\n",
    "# 컬럼명 결합\n",
    "df_x = pd.DataFrame(data=df_minmax, columns=df_x.columns)\n",
    "\n",
    "df_x.head()"
   ]
  },
  {
   "cell_type": "code",
   "execution_count": 26,
   "id": "8b8f61e9",
   "metadata": {},
   "outputs": [
    {
     "name": "stdout",
     "output_type": "stream",
     "text": [
      "train data 개수:  9375\n",
      "test data 개수:  4018\n"
     ]
    }
   ],
   "source": [
    "# 학습셋과 테스트셋 분리하여 생성(7:3)\n",
    "x_train, x_test, y_train, y_test = train_test_split(\n",
    "    df_x,df_y,test_size=0.3,random_state=10)\n",
    "\n",
    "# 학습셋과 검증셋이 잘 나뉘었는지 확인\n",
    "print('train data 개수: ', len(x_train))\n",
    "print('test data 개수: ', len(x_test))"
   ]
  },
  {
   "cell_type": "code",
   "execution_count": 27,
   "id": "d6865a7d",
   "metadata": {},
   "outputs": [
    {
     "name": "stdout",
     "output_type": "stream",
     "text": [
      "0.9784533333333333\n",
      "0.9810851169736187\n"
     ]
    }
   ],
   "source": [
    "# 선형 판별분석 모델 적용\n",
    "\n",
    "LDA_1=LinearDiscriminantAnalysis(store_covariance=True)\n",
    "\n",
    "LDA_1.fit(x_train, y_train) # LDA 적합\n",
    "y_train_pred=LDA_1.predict(x_train)\n",
    "y_test_pred=LDA_1.predict(x_test)\n",
    "\n",
    "print(accuracy_score(y_train, y_train_pred)) # 학습셋 accuracy\n",
    "print(accuracy_score(y_test, y_test_pred)) # 테스트셋 accuracy"
   ]
  },
  {
   "cell_type": "code",
   "execution_count": 28,
   "id": "0b1c1e98",
   "metadata": {},
   "outputs": [
    {
     "name": "stdout",
     "output_type": "stream",
     "text": [
      "Intercept:  [-14.29894437]\n",
      "Coefficient:  [[ -1.35700815  26.12716198 -29.708912     4.0661269   10.03194981\n",
      "   18.0750803  -57.34544185  -3.81399695  15.48677609]]\n"
     ]
    }
   ],
   "source": [
    "# 선형 판별분석 모델 상수와 계수 값 출력\n",
    "\n",
    "print('Intercept: ', LDA_1.intercept_)\n",
    "print('Coefficient: ', LDA_1.coef_)"
   ]
  },
  {
   "cell_type": "code",
   "execution_count": 29,
   "id": "1db5a893",
   "metadata": {},
   "outputs": [
    {
     "data": {
      "text/plain": [
       "<AxesSubplot:xlabel='lda_component'>"
      ]
     },
     "execution_count": 29,
     "metadata": {},
     "output_type": "execute_result"
    },
    {
     "data": {
      "image/png": "[encoded data removed]",
      "text/plain": [
       "<Figure size 1152x576 with 2 Axes>"
      ]
     },
     "metadata": {
      "needs_background": "light"
     },
     "output_type": "display_data"
    }
   ],
   "source": [
    "# 선형 판별분석 차원축소 적용\n",
    "\n",
    "# 주성분 한개로 설정\n",
    "lda_com = LinearDiscriminantAnalysis(n_components=1)\n",
    "lda_com.fit(x_train, y_train)\n",
    "df_lda_com = lda_com.transform(x_train)\n",
    "df_lda_component = pd.DataFrame(df_lda_com,columns=['lda_component'])\n",
    "\n",
    "# 종속변수 데이터셋 인덱스 초기화 및 결합\n",
    "y_train_index = y_train.reset_index()\n",
    "df_lda_component['target'] = y_train_index['gender']\n",
    "\n",
    "# 차원축소 요소 분별력 비교 시각화 설정\n",
    "fig, axs = plt.subplots(figsize=(16,8) , ncols=2 , nrows=1)\n",
    "\n",
    "# 키 요소의 분별력\n",
    "sns.distplot(df.loc[df['gender'] == 'M', 'height_cm'], \n",
    "             hist=True, kde=False, color=\"blue\", \n",
    "             label = 'man', ax=axs[0])\n",
    "sns.distplot(df.loc[df['gender'] == 'F', 'height_cm'], \n",
    "             hist=True, kde=False, color=\"orange\", \n",
    "             label = 'woman', ax=axs[0])\n",
    "\n",
    "# 차원축소 주성분의 분별력\n",
    "sns.distplot(df_lda_component.loc[df_lda_component['target'] == 'M', 'lda_component'], \n",
    "             hist=True, kde=False, color=\"blue\", label = 'man', ax=axs[1])\n",
    "sns.distplot(df_lda_component.loc[df_lda_component['target'] == 'F', 'lda_component'], \n",
    "             hist=True, kde=False, color=\"orange\", label = 'woman', ax=axs[1])\n"
   ]
  },
  {
   "cell_type": "code",
   "execution_count": 30,
   "id": "8e42cb15",
   "metadata": {},
   "outputs": [
    {
     "name": "stdout",
     "output_type": "stream",
     "text": [
      "0.98048\n",
      "0.9798407167745147\n"
     ]
    }
   ],
   "source": [
    "# 이차 판별분석 모델 적용\n",
    "\n",
    "qda=QuadraticDiscriminantAnalysis(store_covariance=True)\n",
    "\n",
    "qda.fit(x_train, y_train) # QDA 적합\n",
    "qda_y_train_pred=qda.predict(x_train)\n",
    "qda_y_test_pred=qda.predict(x_test)\n",
    "\n",
    "\n",
    "print(accuracy_score(y_train, qda_y_train_pred)) # 학습셋 accuracy\n",
    "print(accuracy_score(y_test, qda_y_test_pred)) # 예측셋 accuracy"
   ]
  },
  {
   "cell_type": "code",
   "execution_count": 31,
   "id": "60dc5c62",
   "metadata": {},
   "outputs": [
    {
     "name": "stdout",
     "output_type": "stream",
     "text": [
      "              precision    recall  f1-score   support\n",
      "\n",
      "           F       0.97      0.97      0.97      1463\n",
      "           M       0.98      0.98      0.98      2555\n",
      "\n",
      "    accuracy                           0.98      4018\n",
      "   macro avg       0.98      0.98      0.98      4018\n",
      "weighted avg       0.98      0.98      0.98      4018\n",
      "\n"
     ]
    }
   ],
   "source": [
    "# 이차 판별분석 모델 성능 리포트 출력\n",
    "\n",
    "print(classification_report(y_test, qda_y_test_pred))"
   ]
  },
  {
   "cell_type": "markdown",
   "id": "86561560",
   "metadata": {},
   "source": [
    "### 공분산..."
   ]
  },
  {
   "cell_type": "code",
   "execution_count": 32,
   "id": "93efa145",
   "metadata": {},
   "outputs": [
    {
     "name": "stdout",
     "output_type": "stream",
     "text": [
      "              precision    recall  f1-score   support\n",
      "\n",
      "           F       0.97      0.97      0.97      1463\n",
      "           M       0.98      0.98      0.98      2555\n",
      "\n",
      "    accuracy                           0.98      4018\n",
      "   macro avg       0.98      0.98      0.98      4018\n",
      "weighted avg       0.98      0.98      0.98      4018\n",
      "\n"
     ]
    }
   ],
   "source": [
    "# 이차 판별분석 모델 성능 리포트 출력\n",
    "\n",
    "print(classification_report(y_test,qda_y_test_pred))"
   ]
  }
 ],
 "metadata": {
  "kernelspec": {
   "display_name": "Python 3 (ipykernel)",
   "language": "python",
   "name": "python3"
  },
  "language_info": {
   "codemirror_mode": {
    "name": "ipython",
    "version": 3
   },
   "file_extension": ".py",
   "mimetype": "text/x-python",
   "name": "python",
   "nbconvert_exporter": "python",
   "pygments_lexer": "ipython3",
   "version": "3.10.5"
  }
 },
 "nbformat": 4,
 "nbformat_minor": 5
}
