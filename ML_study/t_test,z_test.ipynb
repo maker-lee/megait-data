{
 "cells": [
  {
   "cell_type": "markdown",
   "metadata": {},
   "source": [
    "# Z-test와 T_test"
   ]
  },
  {
   "cell_type": "markdown",
   "metadata": {},
   "source": [
    "집단 내, 집단 간 평균 값 차이가 통계적으로 유의미한지 알아내는 방법\n",
    "\n",
    "단일 표본 집단의 평균 변화를 분석하거나 두 집단의 평균 값, 비율 차이를 분석할 떄 사용한다.\n",
    "\n",
    "z_test,t_test의 조건 : 양적 변수, 정규 분포, 등분산성\n"
   ]
  },
  {
   "cell_type": "markdown",
   "metadata": {},
   "source": [
    "## Z-Test\n",
    "\n",
    "조건 : 1) 모 집단의 분산을 알 수 있는 경우 (가정) 2)\n",
    "표본 크기가 30 이상\n"
   ]
  },
  {
   "cell_type": "code",
   "execution_count": 1,
   "metadata": {},
   "outputs": [],
   "source": [
    "from scipy.stats import shapiro\n",
    "from statsmodels.stats.weightstats import ztest as ztest\n",
    "import scipy.stats\n",
    "from scipy.stats import ttest_ind\n",
    "import pandas as pd\n",
    "import seaborn as sb\n",
    "import matplotlib.pyplot as plt"
   ]
  },
  {
   "cell_type": "code",
   "execution_count": 2,
   "metadata": {},
   "outputs": [
    {
     "data": {
      "text/html": [
       "<div>\n",
       "<style scoped>\n",
       "    .dataframe tbody tr th:only-of-type {\n",
       "        vertical-align: middle;\n",
       "    }\n",
       "\n",
       "    .dataframe tbody tr th {\n",
       "        vertical-align: top;\n",
       "    }\n",
       "\n",
       "    .dataframe thead th {\n",
       "        text-align: right;\n",
       "    }\n",
       "</style>\n",
       "<table border=\"1\" class=\"dataframe\">\n",
       "  <thead>\n",
       "    <tr style=\"text-align: right;\">\n",
       "      <th></th>\n",
       "      <th>TypeA_before</th>\n",
       "      <th>TypeA_after</th>\n",
       "      <th>TypeB_before</th>\n",
       "      <th>TypeB_after</th>\n",
       "      <th>TypeC_before</th>\n",
       "      <th>TypeC_after</th>\n",
       "    </tr>\n",
       "  </thead>\n",
       "  <tbody>\n",
       "    <tr>\n",
       "      <th>0</th>\n",
       "      <td>277</td>\n",
       "      <td>264</td>\n",
       "      <td>265</td>\n",
       "      <td>268</td>\n",
       "      <td>267</td>\n",
       "      <td>268</td>\n",
       "    </tr>\n",
       "    <tr>\n",
       "      <th>1</th>\n",
       "      <td>269</td>\n",
       "      <td>261</td>\n",
       "      <td>264</td>\n",
       "      <td>267</td>\n",
       "      <td>264</td>\n",
       "      <td>269</td>\n",
       "    </tr>\n",
       "    <tr>\n",
       "      <th>2</th>\n",
       "      <td>263</td>\n",
       "      <td>267</td>\n",
       "      <td>269</td>\n",
       "      <td>272</td>\n",
       "      <td>283</td>\n",
       "      <td>283</td>\n",
       "    </tr>\n",
       "    <tr>\n",
       "      <th>3</th>\n",
       "      <td>266</td>\n",
       "      <td>272</td>\n",
       "      <td>274</td>\n",
       "      <td>277</td>\n",
       "      <td>287</td>\n",
       "      <td>266</td>\n",
       "    </tr>\n",
       "    <tr>\n",
       "      <th>4</th>\n",
       "      <td>262</td>\n",
       "      <td>258</td>\n",
       "      <td>261</td>\n",
       "      <td>264</td>\n",
       "      <td>275</td>\n",
       "      <td>266</td>\n",
       "    </tr>\n",
       "  </tbody>\n",
       "</table>\n",
       "</div>"
      ],
      "text/plain": [
       "   TypeA_before  TypeA_after  ...  TypeC_before  TypeC_after\n",
       "0           277          264  ...           267          268\n",
       "1           269          261  ...           264          269\n",
       "2           263          267  ...           283          283\n",
       "3           266          272  ...           287          266\n",
       "4           262          258  ...           275          266\n",
       "\n",
       "[5 rows x 6 columns]"
      ]
     },
     "execution_count": 2,
     "metadata": {},
     "output_type": "execute_result"
    }
   ],
   "source": [
    "# 데이터 불러오기\n",
    "# https://www.kaggle.com/datasets/sewonghwang/golf-ball-testing\n",
    "df = pd.read_csv(\"datasets/Golf_test.csv\")\n",
    "\n",
    "# 골프공 테스팅 데이터 셋\n",
    "\n",
    "# 데이터 샘플 확인\n",
    "df.head()"
   ]
  },
  {
   "cell_type": "code",
   "execution_count": 3,
   "metadata": {},
   "outputs": [
    {
     "data": {
      "text/html": [
       "<div>\n",
       "<style scoped>\n",
       "    .dataframe tbody tr th:only-of-type {\n",
       "        vertical-align: middle;\n",
       "    }\n",
       "\n",
       "    .dataframe tbody tr th {\n",
       "        vertical-align: top;\n",
       "    }\n",
       "\n",
       "    .dataframe thead th {\n",
       "        text-align: right;\n",
       "    }\n",
       "</style>\n",
       "<table border=\"1\" class=\"dataframe\">\n",
       "  <thead>\n",
       "    <tr style=\"text-align: right;\">\n",
       "      <th></th>\n",
       "      <th>TypeA_before</th>\n",
       "      <th>TypeA_after</th>\n",
       "      <th>TypeB_before</th>\n",
       "      <th>TypeB_after</th>\n",
       "      <th>TypeC_before</th>\n",
       "      <th>TypeC_after</th>\n",
       "    </tr>\n",
       "  </thead>\n",
       "  <tbody>\n",
       "    <tr>\n",
       "      <th>count</th>\n",
       "      <td>50.000000</td>\n",
       "      <td>50.000000</td>\n",
       "      <td>50.000000</td>\n",
       "      <td>50.000000</td>\n",
       "      <td>50.000000</td>\n",
       "      <td>50.000000</td>\n",
       "    </tr>\n",
       "    <tr>\n",
       "      <th>mean</th>\n",
       "      <td>268.460000</td>\n",
       "      <td>270.720000</td>\n",
       "      <td>273.600000</td>\n",
       "      <td>276.100000</td>\n",
       "      <td>270.360000</td>\n",
       "      <td>271.040000</td>\n",
       "    </tr>\n",
       "    <tr>\n",
       "      <th>std</th>\n",
       "      <td>9.817124</td>\n",
       "      <td>8.487782</td>\n",
       "      <td>8.566665</td>\n",
       "      <td>8.493094</td>\n",
       "      <td>8.385507</td>\n",
       "      <td>9.437139</td>\n",
       "    </tr>\n",
       "    <tr>\n",
       "      <th>min</th>\n",
       "      <td>250.000000</td>\n",
       "      <td>255.000000</td>\n",
       "      <td>258.000000</td>\n",
       "      <td>261.000000</td>\n",
       "      <td>255.000000</td>\n",
       "      <td>253.000000</td>\n",
       "    </tr>\n",
       "    <tr>\n",
       "      <th>25%</th>\n",
       "      <td>262.000000</td>\n",
       "      <td>264.000000</td>\n",
       "      <td>266.250000</td>\n",
       "      <td>269.000000</td>\n",
       "      <td>263.250000</td>\n",
       "      <td>265.000000</td>\n",
       "    </tr>\n",
       "    <tr>\n",
       "      <th>50%</th>\n",
       "      <td>266.000000</td>\n",
       "      <td>271.000000</td>\n",
       "      <td>273.500000</td>\n",
       "      <td>276.500000</td>\n",
       "      <td>268.500000</td>\n",
       "      <td>268.000000</td>\n",
       "    </tr>\n",
       "    <tr>\n",
       "      <th>75%</th>\n",
       "      <td>275.750000</td>\n",
       "      <td>275.000000</td>\n",
       "      <td>278.000000</td>\n",
       "      <td>280.000000</td>\n",
       "      <td>275.750000</td>\n",
       "      <td>277.750000</td>\n",
       "    </tr>\n",
       "    <tr>\n",
       "      <th>max</th>\n",
       "      <td>289.000000</td>\n",
       "      <td>289.000000</td>\n",
       "      <td>292.000000</td>\n",
       "      <td>295.000000</td>\n",
       "      <td>289.000000</td>\n",
       "      <td>291.000000</td>\n",
       "    </tr>\n",
       "  </tbody>\n",
       "</table>\n",
       "</div>"
      ],
      "text/plain": [
       "       TypeA_before  TypeA_after  ...  TypeC_before  TypeC_after\n",
       "count     50.000000    50.000000  ...     50.000000    50.000000\n",
       "mean     268.460000   270.720000  ...    270.360000   271.040000\n",
       "std        9.817124     8.487782  ...      8.385507     9.437139\n",
       "min      250.000000   255.000000  ...    255.000000   253.000000\n",
       "25%      262.000000   264.000000  ...    263.250000   265.000000\n",
       "50%      266.000000   271.000000  ...    268.500000   268.000000\n",
       "75%      275.750000   275.000000  ...    275.750000   277.750000\n",
       "max      289.000000   289.000000  ...    289.000000   291.000000\n",
       "\n",
       "[8 rows x 6 columns]"
      ]
     },
     "execution_count": 3,
     "metadata": {},
     "output_type": "execute_result"
    }
   ],
   "source": [
    "# 골프공 타입별 통계값 확인\n",
    "\n",
    "df.describe()\n",
    "\n",
    "# 50개의 관측치가 있어서 z-test, t-test 모두 가능. 평균값이 270 내외, before보다 after가 큰 경향 , A -> C -> B 순으로 평균값이 크다. "
   ]
  },
  {
   "cell_type": "code",
   "execution_count": 4,
   "metadata": {},
   "outputs": [
    {
     "data": {
      "image/png": "[encoded data removed]",
      "text/plain": [
       "<Figure size 720x360 with 1 Axes>"
      ]
     },
     "metadata": {
      "needs_background": "light"
     },
     "output_type": "display_data"
    }
   ],
   "source": [
    "# 그룹별 박스 플롯 기각화\n",
    "\n",
    "df2 = pd.melt(df)\n",
    "plt.figure(figsize=(10,5))\n",
    "sb.boxplot(x='variable',y='value',data=df2)\n",
    "plt.title('Golf ball test')\n",
    "plt.show()\n",
    "plt.close()\n",
    "\n",
    "# 각 그룹의 분포와 중앙값 확인, A는 중앙값는 차이가 나지만 분포는 유사하다."
   ]
  },
  {
   "cell_type": "code",
   "execution_count": 7,
   "metadata": {},
   "outputs": [
    {
     "name": "stdout",
     "output_type": "stream",
     "text": [
      "ShapiroResult(statistic=0.9655377864837646, pvalue=0.15155059099197388)\n",
      "ShapiroResult(statistic=0.9728279113769531, pvalue=0.3005082309246063)\n",
      "ShapiroResult(statistic=0.9730042219161987, pvalue=0.30535760521888733)\n",
      "ShapiroResult(statistic=0.9693011045455933, pvalue=0.21675525605678558)\n",
      "ShapiroResult(statistic=0.9595518112182617, pvalue=0.08513058722019196)\n",
      "ShapiroResult(statistic=0.9469832181930542, pvalue=0.02568192593753338)\n"
     ]
    }
   ],
   "source": [
    "# Shapiro-wilk Test 정규성 검정\n",
    "# p-value가 0.05 ㅊ초과 하는지 확인. 초과하면 정규성을 가지지 않는다는 귀무가설 기각 -> 정규성을 만족한다\n",
    "\n",
    "for i in list(df.columns) :\n",
    "    print(shapiro(df[i]))"
   ]
  },
  {
   "cell_type": "code",
   "execution_count": 11,
   "metadata": {},
   "outputs": [
    {
     "data": {
      "text/plain": [
       "BartlettResult(statistic=2.232358764161634, pvalue=0.8161484218330712)"
      ]
     },
     "execution_count": 11,
     "metadata": {},
     "output_type": "execute_result"
    }
   ],
   "source": [
    "# 등분산성 검정\n",
    "\n",
    "# 6개 칼럼에 대한 바틀렛 등분산 검정. p-value 0.05 이상으로 등분산이라는 귀무가설 채택\n",
    "\n",
    "scipy.stats.bartlett(df['TypeA_before'],df['TypeA_after'],\n",
    "                     df['TypeB_before'],df['TypeB_after'],\n",
    "                     df['TypeC_before'],df['TypeC_after'],\n",
    "                     )"
   ]
  },
  {
   "cell_type": "code",
   "execution_count": 12,
   "metadata": {},
   "outputs": [
    {
     "data": {
      "text/plain": [
       "(-1.2313987682249838, 0.21817375744980994)"
      ]
     },
     "execution_count": 12,
     "metadata": {},
     "output_type": "execute_result"
    }
   ],
   "source": [
    "# 대응표본 Z_test\n",
    "\n",
    "ztest(df['TypeA_before'],x2=df['TypeA_after'],value=0,alternative='two-sided')\n",
    "# 양측검정 , p-value가 0.218로 평균차이가 유의미하지 앟다. 즉 TypeA골프공은 특정 처리를 하기 전과 후 비거리가 통계적으로 차이가 없다.\n"
   ]
  },
  {
   "cell_type": "code",
   "execution_count": 14,
   "metadata": {},
   "outputs": [
    {
     "name": "stdout",
     "output_type": "stream",
     "text": [
      "(-2.789495974658115, 0.005279015267745853)\n",
      "(-2.789495974658115, 0.0026395076338729265)\n",
      "(-2.789495974658115, 0.9973604923661271)\n"
     ]
    }
   ],
   "source": [
    "# 독립표본 T-test (함수가 대응표본과 똑같음)\n",
    "\n",
    "# 양측검정\n",
    "print(ztest(df['TypeA_before'],x2=df['TypeB_before'],value=0,alternative='two-sided'))\n",
    "\n",
    "# 단측검정(왼꼬리검정)\n",
    "print(ztest(df['TypeA_before'],x2=df['TypeB_before'],value=0,alternative='smaller'))\n",
    "\n",
    "# 단측검정(오른꼬리검정)\n",
    "print(ztest(df['TypeA_before'],x2=df['TypeB_before'],value=0,alternative='larger')) # 이건 유의미 아님 \n",
    "\n",
    "\n",
    "# A와 B의 독립표존 Z-test를 수행한다. p-value가 0.005이므로 두 집단 간에는 유의미한 차이가 있다. "
   ]
  },
  {
   "cell_type": "markdown",
   "metadata": {},
   "source": [
    "## T-Test\n",
    "\n",
    "표본 집단의 크기가 30 미만일 때도 사용 가능\n",
    "\n",
    "관측치들의 값 간의 표준 편차가 크면 평균의 차이가 불분명해지게 되고 t값은 감소한다. -> 우연에 의한 평균 차이 -> 귀무가설 \n",
    "\n",
    "두 집단의 값을 산포도로 시각화 하여 분포가 어떻게 이루어졌는지 파악한다.\n",
    "\n",
    "두 집단 간의 평균 차이를 표준오차로 나누어 검정 통계량 t값을 구하는 것\n"
   ]
  },
  {
   "cell_type": "code",
   "execution_count": 16,
   "metadata": {},
   "outputs": [
    {
     "data": {
      "text/plain": [
       "TtestResult(statistic=-2.7676890323226098, pvalue=0.007944786232827399, df=49)"
      ]
     },
     "execution_count": 16,
     "metadata": {},
     "output_type": "execute_result"
    }
   ],
   "source": [
    "# 대응표본 t검정 수행\n",
    "\n",
    "scipy.stats.ttest_rel(df['TypeA_before'],df['TypeB_before'])\n",
    "\n",
    "# p-value가 0.227로 유의미하지 않다. "
   ]
  },
  {
   "cell_type": "code",
   "execution_count": 17,
   "metadata": {},
   "outputs": [
    {
     "data": {
      "text/plain": [
       "TtestResult(statistic=-2.789495974658115, pvalue=0.0063642243501398285, df=96.23536968302767)"
      ]
     },
     "execution_count": 17,
     "metadata": {},
     "output_type": "execute_result"
    }
   ],
   "source": [
    "# 독립표본 t검정 수행\n",
    "\n",
    "ttest_ind(df['TypeA_before'],df['TypeB_before'],equal_var=False)\n",
    "\n",
    "# False를 설정하여 독립표본인 A와 B 골프공의 평균 차이를 보면, p-value가 유의미, "
   ]
  }
 ],
 "metadata": {
  "kernelspec": {
   "display_name": "Python 3",
   "language": "python",
   "name": "python3"
  },
  "language_info": {
   "codemirror_mode": {
    "name": "ipython",
    "version": 3
   },
   "file_extension": ".py",
   "mimetype": "text/x-python",
   "name": "python",
   "nbconvert_exporter": "python",
   "pygments_lexer": "ipython3",
   "version": "3.10.5"
  },
  "orig_nbformat": 4
 },
 "nbformat": 4,
 "nbformat_minor": 2
}
