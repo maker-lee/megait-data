{
 "cells": [
  {
   "cell_type": "markdown",
   "metadata": {},
   "source": [
    "# ANOVA 실습"
   ]
  },
  {
   "cell_type": "code",
   "execution_count": 1,
   "metadata": {},
   "outputs": [],
   "source": [
    "from statsmodels.formula.api import ols\n",
    "from statsmodels.stats.anova import anova_lm\n",
    "from statsmodels.stats.multicomp import pairwise_tukeyhsd\n",
    "import scipy.stats\n",
    "import scipy.stats as stats\n",
    "from scipy.stats import ttest_ind\n",
    "import pandas as pd\n"
   ]
  },
  {
   "cell_type": "code",
   "execution_count": 2,
   "metadata": {},
   "outputs": [
    {
     "data": {
      "text/html": [
       "<div>\n",
       "<style scoped>\n",
       "    .dataframe tbody tr th:only-of-type {\n",
       "        vertical-align: middle;\n",
       "    }\n",
       "\n",
       "    .dataframe tbody tr th {\n",
       "        vertical-align: top;\n",
       "    }\n",
       "\n",
       "    .dataframe thead th {\n",
       "        text-align: right;\n",
       "    }\n",
       "</style>\n",
       "<table border=\"1\" class=\"dataframe\">\n",
       "  <thead>\n",
       "    <tr style=\"text-align: right;\">\n",
       "      <th></th>\n",
       "      <th>TypeA_before</th>\n",
       "      <th>TypeA_after</th>\n",
       "      <th>TypeB_before</th>\n",
       "      <th>TypeB_after</th>\n",
       "      <th>TypeC_before</th>\n",
       "      <th>TypeC_after</th>\n",
       "    </tr>\n",
       "  </thead>\n",
       "  <tbody>\n",
       "    <tr>\n",
       "      <th>0</th>\n",
       "      <td>277</td>\n",
       "      <td>264</td>\n",
       "      <td>265</td>\n",
       "      <td>268</td>\n",
       "      <td>267</td>\n",
       "      <td>268</td>\n",
       "    </tr>\n",
       "    <tr>\n",
       "      <th>1</th>\n",
       "      <td>269</td>\n",
       "      <td>261</td>\n",
       "      <td>264</td>\n",
       "      <td>267</td>\n",
       "      <td>264</td>\n",
       "      <td>269</td>\n",
       "    </tr>\n",
       "    <tr>\n",
       "      <th>2</th>\n",
       "      <td>263</td>\n",
       "      <td>267</td>\n",
       "      <td>269</td>\n",
       "      <td>272</td>\n",
       "      <td>283</td>\n",
       "      <td>283</td>\n",
       "    </tr>\n",
       "    <tr>\n",
       "      <th>3</th>\n",
       "      <td>266</td>\n",
       "      <td>272</td>\n",
       "      <td>274</td>\n",
       "      <td>277</td>\n",
       "      <td>287</td>\n",
       "      <td>266</td>\n",
       "    </tr>\n",
       "    <tr>\n",
       "      <th>4</th>\n",
       "      <td>262</td>\n",
       "      <td>258</td>\n",
       "      <td>261</td>\n",
       "      <td>264</td>\n",
       "      <td>275</td>\n",
       "      <td>266</td>\n",
       "    </tr>\n",
       "  </tbody>\n",
       "</table>\n",
       "</div>"
      ],
      "text/plain": [
       "   TypeA_before  TypeA_after  TypeB_before  TypeB_after  TypeC_before  \\\n",
       "0           277          264           265          268           267   \n",
       "1           269          261           264          267           264   \n",
       "2           263          267           269          272           283   \n",
       "3           266          272           274          277           287   \n",
       "4           262          258           261          264           275   \n",
       "\n",
       "   TypeC_after  \n",
       "0          268  \n",
       "1          269  \n",
       "2          283  \n",
       "3          266  \n",
       "4          266  "
      ]
     },
     "execution_count": 2,
     "metadata": {},
     "output_type": "execute_result"
    }
   ],
   "source": [
    "# 데이터 불러오기\n",
    "# https://www.kaggle.com/datasets/sewonghwang/golf-ball-testing\n",
    "df = pd.read_csv(\"datasets/Golf_test.csv\")\n",
    "\n",
    "# 데이터 샘플 확인\n",
    "df.head()"
   ]
  },
  {
   "cell_type": "code",
   "execution_count": 3,
   "metadata": {},
   "outputs": [
    {
     "name": "stdout",
     "output_type": "stream",
     "text": [
      "일원분산분석 결과: F= 4.22016943303009 p= 0.01651542019190324\n"
     ]
    }
   ],
   "source": [
    "# stats 패키지로 ANOVA 검정\n",
    "\n",
    "F_statistic, p = stats.f_oneway(df['TypeA_before'],\n",
    "                                df['TypeB_before'],\n",
    "                                df['TypeC_before'])\n",
    "print('일원분산분석 결과: F=',F_statistic,'p=',p)\n",
    "\n",
    "# 정규성 검정과 등분산 검정은 t_test에서 진행함\n",
    "# stats에서 아노바 수행, 3개 변수 간 평균 차이가 통계적으로 유의한지 확인한다.\n",
    "# p value가 0.016이므로 3개 변수 중 최소한 하나의 변수 조합 간에는 차이가 있을을 알 수 있다. \n"
   ]
  },
  {
   "cell_type": "code",
   "execution_count": 5,
   "metadata": {},
   "outputs": [
    {
     "data": {
      "text/html": [
       "<div>\n",
       "<style scoped>\n",
       "    .dataframe tbody tr th:only-of-type {\n",
       "        vertical-align: middle;\n",
       "    }\n",
       "\n",
       "    .dataframe tbody tr th {\n",
       "        vertical-align: top;\n",
       "    }\n",
       "\n",
       "    .dataframe thead th {\n",
       "        text-align: right;\n",
       "    }\n",
       "</style>\n",
       "<table border=\"1\" class=\"dataframe\">\n",
       "  <thead>\n",
       "    <tr style=\"text-align: right;\">\n",
       "      <th></th>\n",
       "      <th>variable</th>\n",
       "      <th>value</th>\n",
       "    </tr>\n",
       "  </thead>\n",
       "  <tbody>\n",
       "    <tr>\n",
       "      <th>0</th>\n",
       "      <td>TypeA_before</td>\n",
       "      <td>277</td>\n",
       "    </tr>\n",
       "    <tr>\n",
       "      <th>1</th>\n",
       "      <td>TypeA_before</td>\n",
       "      <td>269</td>\n",
       "    </tr>\n",
       "    <tr>\n",
       "      <th>2</th>\n",
       "      <td>TypeA_before</td>\n",
       "      <td>263</td>\n",
       "    </tr>\n",
       "    <tr>\n",
       "      <th>3</th>\n",
       "      <td>TypeA_before</td>\n",
       "      <td>266</td>\n",
       "    </tr>\n",
       "    <tr>\n",
       "      <th>4</th>\n",
       "      <td>TypeA_before</td>\n",
       "      <td>262</td>\n",
       "    </tr>\n",
       "  </tbody>\n",
       "</table>\n",
       "</div>"
      ],
      "text/plain": [
       "       variable  value\n",
       "0  TypeA_before    277\n",
       "1  TypeA_before    269\n",
       "2  TypeA_before    263\n",
       "3  TypeA_before    266\n",
       "4  TypeA_before    262"
      ]
     },
     "execution_count": 5,
     "metadata": {},
     "output_type": "execute_result"
    }
   ],
   "source": [
    "# ols패키지 ANOVA 검정을 위한 데이터 재구조화\n",
    "\n",
    "df2 = pd.melt(df)\n",
    "df2 = df2[df2['variable'].isin(['TypeA_before','TypeB_before','TypeC_before'])]\n",
    "\n",
    "df2.head()\n",
    "\n",
    "# ols패키지의 ANOVA 검정을 하기 위해 재구조화를 한다. 기존에는 각 골프공 조건이 개별 칼럽으로 구성되어 있어서 melt 함수를 사용하여 구분자인 variable 칼럼과 실제 값이 담긴 value칼럼으로 재구조화. 3개의 컬럼만 선택함. "
   ]
  },
  {
   "cell_type": "code",
   "execution_count": 6,
   "metadata": {},
   "outputs": [
    {
     "name": "stdout",
     "output_type": "stream",
     "text": [
      "                df        sum_sq     mean_sq         F    PR(>F)\n",
      "C(variable)    2.0    675.453333  337.726667  4.220169  0.016515\n",
      "Residual     147.0  11763.940000   80.026803       NaN       NaN\n"
     ]
    }
   ],
   "source": [
    "# ols 패키지로 ANOVA 검정\n",
    "\n",
    "model = ols('value ~C(variable)',df2).fit()\n",
    "print(anova_lm(model))\n",
    "\n",
    "# stats패키지와 동일한 변수로 아노바 검정을 했으므로 결과값도 동일하게 산출된다. "
   ]
  },
  {
   "cell_type": "code",
   "execution_count": 9,
   "metadata": {},
   "outputs": [
    {
     "name": "stdout",
     "output_type": "stream",
     "text": [
      "      Multiple Comparison of Means - Tukey HSD, FWER=0.05      \n",
      "===============================================================\n",
      "   group1       group2    meandiff p-adj   lower  upper  reject\n",
      "---------------------------------------------------------------\n",
      "TypeA_before TypeB_before     5.14 0.0129  0.9038 9.3762   True\n",
      "TypeA_before TypeC_before      1.9 0.5392 -2.3362 6.1362  False\n",
      "TypeB_before TypeC_before    -3.24 0.1696 -7.4762 0.9962  False\n",
      "---------------------------------------------------------------\n"
     ]
    }
   ],
   "source": [
    "# 사후검정 수행\n",
    "\n",
    "posthoc = pairwise_tukeyhsd(df2['value'],\n",
    "                            df2['variable'],\n",
    "                            alpha=0.05)\n",
    "print(posthoc)\n",
    "# 터키의 HSD 사후검정으로 어떠한 골프공 간의 유의미한 차이가 있는지 확인. \n",
    "# A와 B간에만 유의미한 차이가 있다. \n"
   ]
  },
  {
   "cell_type": "code",
   "execution_count": 8,
   "metadata": {},
   "outputs": [
    {
     "data": {
      "image/png": "[encoded data removed]",
      "text/plain": [
       "<Figure size 1000x600 with 1 Axes>"
      ]
     },
     "metadata": {},
     "output_type": "display_data"
    }
   ],
   "source": [
    "fig = posthoc.plot_simultaneous()"
   ]
  }
 ],
 "metadata": {
  "kernelspec": {
   "display_name": "Python 3",
   "language": "python",
   "name": "python3"
  },
  "language_info": {
   "codemirror_mode": {
    "name": "ipython",
    "version": 3
   },
   "file_extension": ".py",
   "mimetype": "text/x-python",
   "name": "python",
   "nbconvert_exporter": "python",
   "pygments_lexer": "ipython3",
   "version": "3.9.12"
  },
  "orig_nbformat": 4
 },
 "nbformat": 4,
 "nbformat_minor": 2
}
