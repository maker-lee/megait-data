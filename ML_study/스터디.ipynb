{
 "cells": [
  {
   "cell_type": "markdown",
   "metadata": {},
   "source": [
    "# 주성분 분석\n",
    "\n",
    "> 여러 개의 독립변수들을 잘 설명해줄 수 있는 주된 성분을 추출하는 기법.(차원축소 기법)\n",
    "\n",
    "- 변수의 수를 줄임으로써 모형을 간단하게 만들 수 있고, 분석 결과를 효과 적으로 해석 할 수 있다. \n",
    "- 모두 등간 척도 or 비율척도로 측정한 양적 변수여야하고, 관측치들이 서로 독립 + 정규분포를 이루고 있어야한다. \n",
    "\n",
    "- 데이터 공간에 위치하는 점들의 분산을 최대한 보존하는 축을 통해 차원을 축소\n"
   ]
  },
  {
   "cell_type": "code",
   "execution_count": 2,
   "metadata": {},
   "outputs": [],
   "source": [
    "from sklearn.preprocessing import MinMaxScaler\n",
    "from sklearn.decomposition import PCA\n",
    "import pandas as pd\n",
    "import numpy as np \n",
    "import seaborn as sns\n",
    "import matplotlib.pyplot as plt\n",
    "from factor_analyzer import FactorAnalyzer\n",
    "from factor_analyzer.factor_analyzer import calculate_bartlett_sphericity\n",
    "from factor_analyzer.factor_analyzer import calculate_kmo\n"
   ]
  },
  {
   "cell_type": "markdown",
   "metadata": {},
   "source": [
    "### 데이터 불러오기 및 확인"
   ]
  },
  {
   "cell_type": "code",
   "execution_count": 3,
   "metadata": {},
   "outputs": [
    {
     "data": {
      "text/html": [
       "<div>\n",
       "<style scoped>\n",
       "    .dataframe tbody tr th:only-of-type {\n",
       "        vertical-align: middle;\n",
       "    }\n",
       "\n",
       "    .dataframe tbody tr th {\n",
       "        vertical-align: top;\n",
       "    }\n",
       "\n",
       "    .dataframe thead th {\n",
       "        text-align: right;\n",
       "    }\n",
       "</style>\n",
       "<table border=\"1\" class=\"dataframe\">\n",
       "  <thead>\n",
       "    <tr style=\"text-align: right;\">\n",
       "      <th></th>\n",
       "      <th>RI</th>\n",
       "      <th>Na</th>\n",
       "      <th>Mg</th>\n",
       "      <th>Al</th>\n",
       "      <th>Si</th>\n",
       "      <th>K</th>\n",
       "      <th>Ca</th>\n",
       "      <th>Ba</th>\n",
       "      <th>Fe</th>\n",
       "      <th>Type</th>\n",
       "    </tr>\n",
       "  </thead>\n",
       "  <tbody>\n",
       "    <tr>\n",
       "      <th>0</th>\n",
       "      <td>1.52101</td>\n",
       "      <td>13.64</td>\n",
       "      <td>4.49</td>\n",
       "      <td>1.10</td>\n",
       "      <td>71.78</td>\n",
       "      <td>0.06</td>\n",
       "      <td>8.75</td>\n",
       "      <td>0.0</td>\n",
       "      <td>0.0</td>\n",
       "      <td>1</td>\n",
       "    </tr>\n",
       "    <tr>\n",
       "      <th>1</th>\n",
       "      <td>1.51761</td>\n",
       "      <td>13.89</td>\n",
       "      <td>3.60</td>\n",
       "      <td>1.36</td>\n",
       "      <td>72.73</td>\n",
       "      <td>0.48</td>\n",
       "      <td>7.83</td>\n",
       "      <td>0.0</td>\n",
       "      <td>0.0</td>\n",
       "      <td>1</td>\n",
       "    </tr>\n",
       "    <tr>\n",
       "      <th>2</th>\n",
       "      <td>1.51618</td>\n",
       "      <td>13.53</td>\n",
       "      <td>3.55</td>\n",
       "      <td>1.54</td>\n",
       "      <td>72.99</td>\n",
       "      <td>0.39</td>\n",
       "      <td>7.78</td>\n",
       "      <td>0.0</td>\n",
       "      <td>0.0</td>\n",
       "      <td>1</td>\n",
       "    </tr>\n",
       "    <tr>\n",
       "      <th>3</th>\n",
       "      <td>1.51766</td>\n",
       "      <td>13.21</td>\n",
       "      <td>3.69</td>\n",
       "      <td>1.29</td>\n",
       "      <td>72.61</td>\n",
       "      <td>0.57</td>\n",
       "      <td>8.22</td>\n",
       "      <td>0.0</td>\n",
       "      <td>0.0</td>\n",
       "      <td>1</td>\n",
       "    </tr>\n",
       "    <tr>\n",
       "      <th>4</th>\n",
       "      <td>1.51742</td>\n",
       "      <td>13.27</td>\n",
       "      <td>3.62</td>\n",
       "      <td>1.24</td>\n",
       "      <td>73.08</td>\n",
       "      <td>0.55</td>\n",
       "      <td>8.07</td>\n",
       "      <td>0.0</td>\n",
       "      <td>0.0</td>\n",
       "      <td>1</td>\n",
       "    </tr>\n",
       "  </tbody>\n",
       "</table>\n",
       "</div>"
      ],
      "text/plain": [
       "        RI     Na    Mg    Al     Si     K    Ca   Ba   Fe  Type\n",
       "0  1.52101  13.64  4.49  1.10  71.78  0.06  8.75  0.0  0.0     1\n",
       "1  1.51761  13.89  3.60  1.36  72.73  0.48  7.83  0.0  0.0     1\n",
       "2  1.51618  13.53  3.55  1.54  72.99  0.39  7.78  0.0  0.0     1\n",
       "3  1.51766  13.21  3.69  1.29  72.61  0.57  8.22  0.0  0.0     1\n",
       "4  1.51742  13.27  3.62  1.24  73.08  0.55  8.07  0.0  0.0     1"
      ]
     },
     "execution_count": 3,
     "metadata": {},
     "output_type": "execute_result"
    }
   ],
   "source": [
    "# 데이터 불러오기 \n",
    "df = pd.read_csv('glass.csv')\n",
    "df.head()"
   ]
  },
  {
   "cell_type": "markdown",
   "metadata": {},
   "source": [
    "### 데이터 정규화 적용"
   ]
  },
  {
   "cell_type": "code",
   "execution_count": 4,
   "metadata": {},
   "outputs": [
    {
     "data": {
      "text/html": [
       "<div>\n",
       "<style scoped>\n",
       "    .dataframe tbody tr th:only-of-type {\n",
       "        vertical-align: middle;\n",
       "    }\n",
       "\n",
       "    .dataframe tbody tr th {\n",
       "        vertical-align: top;\n",
       "    }\n",
       "\n",
       "    .dataframe thead th {\n",
       "        text-align: right;\n",
       "    }\n",
       "</style>\n",
       "<table border=\"1\" class=\"dataframe\">\n",
       "  <thead>\n",
       "    <tr style=\"text-align: right;\">\n",
       "      <th></th>\n",
       "      <th>RI</th>\n",
       "      <th>Na</th>\n",
       "      <th>Mg</th>\n",
       "      <th>Al</th>\n",
       "      <th>Si</th>\n",
       "      <th>K</th>\n",
       "      <th>Ca</th>\n",
       "      <th>Ba</th>\n",
       "      <th>Fe</th>\n",
       "    </tr>\n",
       "  </thead>\n",
       "  <tbody>\n",
       "    <tr>\n",
       "      <th>0</th>\n",
       "      <td>0.432836</td>\n",
       "      <td>0.437594</td>\n",
       "      <td>1.000000</td>\n",
       "      <td>0.252336</td>\n",
       "      <td>0.351786</td>\n",
       "      <td>0.009662</td>\n",
       "      <td>0.308550</td>\n",
       "      <td>0.0</td>\n",
       "      <td>0.0</td>\n",
       "    </tr>\n",
       "    <tr>\n",
       "      <th>1</th>\n",
       "      <td>0.283582</td>\n",
       "      <td>0.475188</td>\n",
       "      <td>0.801782</td>\n",
       "      <td>0.333333</td>\n",
       "      <td>0.521429</td>\n",
       "      <td>0.077295</td>\n",
       "      <td>0.223048</td>\n",
       "      <td>0.0</td>\n",
       "      <td>0.0</td>\n",
       "    </tr>\n",
       "    <tr>\n",
       "      <th>2</th>\n",
       "      <td>0.220808</td>\n",
       "      <td>0.421053</td>\n",
       "      <td>0.790646</td>\n",
       "      <td>0.389408</td>\n",
       "      <td>0.567857</td>\n",
       "      <td>0.062802</td>\n",
       "      <td>0.218401</td>\n",
       "      <td>0.0</td>\n",
       "      <td>0.0</td>\n",
       "    </tr>\n",
       "    <tr>\n",
       "      <th>3</th>\n",
       "      <td>0.285777</td>\n",
       "      <td>0.372932</td>\n",
       "      <td>0.821826</td>\n",
       "      <td>0.311526</td>\n",
       "      <td>0.500000</td>\n",
       "      <td>0.091787</td>\n",
       "      <td>0.259294</td>\n",
       "      <td>0.0</td>\n",
       "      <td>0.0</td>\n",
       "    </tr>\n",
       "    <tr>\n",
       "      <th>4</th>\n",
       "      <td>0.275241</td>\n",
       "      <td>0.381955</td>\n",
       "      <td>0.806236</td>\n",
       "      <td>0.295950</td>\n",
       "      <td>0.583929</td>\n",
       "      <td>0.088567</td>\n",
       "      <td>0.245353</td>\n",
       "      <td>0.0</td>\n",
       "      <td>0.0</td>\n",
       "    </tr>\n",
       "  </tbody>\n",
       "</table>\n",
       "</div>"
      ],
      "text/plain": [
       "         RI        Na        Mg        Al        Si         K        Ca   Ba  \\\n",
       "0  0.432836  0.437594  1.000000  0.252336  0.351786  0.009662  0.308550  0.0   \n",
       "1  0.283582  0.475188  0.801782  0.333333  0.521429  0.077295  0.223048  0.0   \n",
       "2  0.220808  0.421053  0.790646  0.389408  0.567857  0.062802  0.218401  0.0   \n",
       "3  0.285777  0.372932  0.821826  0.311526  0.500000  0.091787  0.259294  0.0   \n",
       "4  0.275241  0.381955  0.806236  0.295950  0.583929  0.088567  0.245353  0.0   \n",
       "\n",
       "    Fe  \n",
       "0  0.0  \n",
       "1  0.0  \n",
       "2  0.0  \n",
       "3  0.0  \n",
       "4  0.0  "
      ]
     },
     "execution_count": 4,
     "metadata": {},
     "output_type": "execute_result"
    }
   ],
   "source": [
    "### 데이터 스케일 정규화\n",
    "\n",
    "\n",
    "# 차원축소 할 칼럼만 선택\n",
    "y = df[['Type']]\n",
    "df1 = df.drop('Type',axis=1)\n",
    "\n",
    "## 데이터 정규화 적용\n",
    "scaler = MinMaxScaler()\n",
    "df_minmax = scaler.fit_transform(df1)\n",
    "\n",
    "## 칼럼명 결함\n",
    "df_minmax = pd.DataFrame(df_minmax,columns=df1.columns)\n",
    "\n",
    "df_minmax.head()"
   ]
  },
  {
   "cell_type": "markdown",
   "metadata": {},
   "source": [
    "### 9개의 주성분 생성 후 설명력 확인"
   ]
  },
  {
   "cell_type": "code",
   "execution_count": 5,
   "metadata": {},
   "outputs": [
    {
     "data": {
      "text/plain": [
       "array([0.454, 0.18 , 0.126, 0.098, 0.069, 0.042, 0.026, 0.004, 0.   ])"
      ]
     },
     "execution_count": 5,
     "metadata": {},
     "output_type": "execute_result"
    }
   ],
   "source": [
    "# 주성분 개수 설정  \n",
    "pca = PCA(n_components=9)\n",
    "df_pca = pca.fit_transform(df_minmax)\n",
    "\n",
    "## 주성분으로 변형된 테이블 생성\n",
    "df_pca = pd.DataFrame(data = df_pca, columns=['C1',\"C2\",'C3',\"C4\",'C5',\"C6\",'C7',\"C8\",\"C9\"])\n",
    "\n",
    "# 주성분의 설명력 확인\n",
    "np.round_(pca.explained_variance_ratio_,3)"
   ]
  },
  {
   "cell_type": "markdown",
   "metadata": {},
   "source": [
    "### 2개의 주성분 생성"
   ]
  },
  {
   "cell_type": "code",
   "execution_count": 6,
   "metadata": {},
   "outputs": [
    {
     "data": {
      "text/html": [
       "<div>\n",
       "<style scoped>\n",
       "    .dataframe tbody tr th:only-of-type {\n",
       "        vertical-align: middle;\n",
       "    }\n",
       "\n",
       "    .dataframe tbody tr th {\n",
       "        vertical-align: top;\n",
       "    }\n",
       "\n",
       "    .dataframe thead th {\n",
       "        text-align: right;\n",
       "    }\n",
       "</style>\n",
       "<table border=\"1\" class=\"dataframe\">\n",
       "  <thead>\n",
       "    <tr style=\"text-align: right;\">\n",
       "      <th></th>\n",
       "      <th>C1</th>\n",
       "      <th>C2</th>\n",
       "    </tr>\n",
       "  </thead>\n",
       "  <tbody>\n",
       "    <tr>\n",
       "      <th>0</th>\n",
       "      <td>-0.402106</td>\n",
       "      <td>0.032707</td>\n",
       "    </tr>\n",
       "    <tr>\n",
       "      <th>1</th>\n",
       "      <td>-0.206320</td>\n",
       "      <td>-0.144705</td>\n",
       "    </tr>\n",
       "    <tr>\n",
       "      <th>2</th>\n",
       "      <td>-0.188617</td>\n",
       "      <td>-0.194854</td>\n",
       "    </tr>\n",
       "    <tr>\n",
       "      <th>3</th>\n",
       "      <td>-0.237208</td>\n",
       "      <td>-0.097064</td>\n",
       "    </tr>\n",
       "    <tr>\n",
       "      <th>4</th>\n",
       "      <td>-0.223972</td>\n",
       "      <td>-0.121779</td>\n",
       "    </tr>\n",
       "  </tbody>\n",
       "</table>\n",
       "</div>"
      ],
      "text/plain": [
       "         C1        C2\n",
       "0 -0.402106  0.032707\n",
       "1 -0.206320 -0.144705\n",
       "2 -0.188617 -0.194854\n",
       "3 -0.237208 -0.097064\n",
       "4 -0.223972 -0.121779"
      ]
     },
     "execution_count": 6,
     "metadata": {},
     "output_type": "execute_result"
    }
   ],
   "source": [
    "pca = PCA(n_components=2)\n",
    "df_pca = pca.fit_transform(df_minmax)\n",
    "\n",
    "## 주성분으로 변형된 테이블 생성\n",
    "df_pca = pd.DataFrame(df_pca,columns=[\"C1\",'C2'])\n",
    "df_pca.head()"
   ]
  },
  {
   "cell_type": "markdown",
   "metadata": {},
   "source": [
    "### 주성분에 따른 종속변수 시각화"
   ]
  },
  {
   "cell_type": "code",
   "execution_count": 7,
   "metadata": {},
   "outputs": [
    {
     "data": {
      "text/plain": [
       "Type\n",
       "2       76\n",
       "1       70\n",
       "7       29\n",
       "3       17\n",
       "5       13\n",
       "6        9\n",
       "Name: count, dtype: int64"
      ]
     },
     "execution_count": 7,
     "metadata": {},
     "output_type": "execute_result"
    }
   ],
   "source": [
    "y.value_counts()"
   ]
  },
  {
   "cell_type": "code",
   "execution_count": 14,
   "metadata": {},
   "outputs": [
    {
     "data": {
      "text/plain": [
       "<Axes: xlabel='C1', ylabel='C2'>"
      ]
     },
     "execution_count": 14,
     "metadata": {},
     "output_type": "execute_result"
    },
    {
     "data": {
      "image/png": "[encoded data removed]",
      "text/plain": [
       "<Figure size 640x480 with 1 Axes>"
      ]
     },
     "metadata": {},
     "output_type": "display_data"
    }
   ],
   "source": [
    "# 주성분에 따른 종속변수 시각화\n",
    "\n",
    "# 주성분 테이블에 종속변수 칼럼 결합\n",
    "df_concat = pd.concat([df_pca,y],axis=1)\n",
    "\n",
    "## 산점도 시각화 \n",
    "sns.scatterplot(data=df_concat,x=\"C1\",y='C2',hue='Type')\n",
    "\n",
    "### Type7은 C1로 0.6~0.8정도 설명가능 C2로 -0.5 ~ 0 정도 설명가능...? \n"
   ]
  },
  {
   "cell_type": "markdown",
   "metadata": {},
   "source": [
    "## 공통요인분석 (CFA)\n",
    "\n",
    "> 공통 분산만을 토대로 요인을 추출하는 것이 CFA, 전체 분산을 사용하는 것이 주성분 분석\n",
    "\n",
    "- 상관성이 높은 변수들을 묶어 잠재된 몇개의 변수를 찾는다. \n",
    "- PCA는 모든 독립변수들의 총 분산을 기반으로 요인을 추출 -> 전체변수를 가장 잘 설명해주는 순으로 주성분의 우위가 결정\n",
    "\n",
    "- 반면 CFA는 변수들간의 공분산만을 기분으로 하여 요인을 추출 -> 기본적으로 종류가 다른 변수를 만들어 내는것이 목적 \n",
    "\n",
    "> PCA나 CFA와 같은 요인분석을 하기 위해서는 독립변수들 간의 상관성이 요인분석에 적합한지 검증해야 한다. ex) 바틀렛test, KMO검정( 변수들간의 상관관계가 다른 변수에 의해 잘 설명되는 정도를 나타내는 값을 통계적으로 산출하는 검정 )\n",
    "\n",
    "- 고유치는 요인이 설명해주는 분산의 양 ( 1보다 큰 요인만 선택 ). 60%까지 설명해주는것까지 선택\n",
    "- 스크리 플롯을 통해 엘보우 포인트까지의 요인 선택\n",
    "\n",
    "- 요인 적재값을 통해 +-0.3이상이면 변수와 요인에 유의성 존재한다고 봄, 0.5이상이면 중요한 변수"
   ]
  },
  {
   "cell_type": "markdown",
   "metadata": {},
   "source": [
    "### 데이터 불러오기 및 확인"
   ]
  },
  {
   "cell_type": "code",
   "execution_count": 18,
   "metadata": {},
   "outputs": [
    {
     "data": {
      "text/html": [
       "<div>\n",
       "<style scoped>\n",
       "    .dataframe tbody tr th:only-of-type {\n",
       "        vertical-align: middle;\n",
       "    }\n",
       "\n",
       "    .dataframe tbody tr th {\n",
       "        vertical-align: top;\n",
       "    }\n",
       "\n",
       "    .dataframe thead th {\n",
       "        text-align: right;\n",
       "    }\n",
       "</style>\n",
       "<table border=\"1\" class=\"dataframe\">\n",
       "  <thead>\n",
       "    <tr style=\"text-align: right;\">\n",
       "      <th></th>\n",
       "      <th>Player</th>\n",
       "      <th>Pos</th>\n",
       "      <th>Age</th>\n",
       "      <th>Tm</th>\n",
       "      <th>G</th>\n",
       "      <th>MP</th>\n",
       "      <th>PER</th>\n",
       "      <th>TS%</th>\n",
       "      <th>3PAr</th>\n",
       "      <th>FTr</th>\n",
       "      <th>...</th>\n",
       "      <th>TOV%</th>\n",
       "      <th>USG%</th>\n",
       "      <th>OWS</th>\n",
       "      <th>DWS</th>\n",
       "      <th>WS</th>\n",
       "      <th>WS/48</th>\n",
       "      <th>OBPM</th>\n",
       "      <th>DBPM</th>\n",
       "      <th>BPM</th>\n",
       "      <th>VORP</th>\n",
       "    </tr>\n",
       "  </thead>\n",
       "  <tbody>\n",
       "    <tr>\n",
       "      <th>0</th>\n",
       "      <td>Precious Achiuwa</td>\n",
       "      <td>PF</td>\n",
       "      <td>21</td>\n",
       "      <td>MIA</td>\n",
       "      <td>28</td>\n",
       "      <td>408</td>\n",
       "      <td>15.1</td>\n",
       "      <td>0.599</td>\n",
       "      <td>0.000</td>\n",
       "      <td>0.541</td>\n",
       "      <td>...</td>\n",
       "      <td>16.1</td>\n",
       "      <td>19.7</td>\n",
       "      <td>0.3</td>\n",
       "      <td>0.6</td>\n",
       "      <td>0.9</td>\n",
       "      <td>0.101</td>\n",
       "      <td>-2.8</td>\n",
       "      <td>-0.2</td>\n",
       "      <td>-3.0</td>\n",
       "      <td>-0.1</td>\n",
       "    </tr>\n",
       "    <tr>\n",
       "      <th>1</th>\n",
       "      <td>Jaylen Adams</td>\n",
       "      <td>PG</td>\n",
       "      <td>24</td>\n",
       "      <td>MIL</td>\n",
       "      <td>6</td>\n",
       "      <td>17</td>\n",
       "      <td>-6.9</td>\n",
       "      <td>0.125</td>\n",
       "      <td>0.250</td>\n",
       "      <td>0.000</td>\n",
       "      <td>...</td>\n",
       "      <td>0.0</td>\n",
       "      <td>19.7</td>\n",
       "      <td>-0.1</td>\n",
       "      <td>0.0</td>\n",
       "      <td>-0.1</td>\n",
       "      <td>-0.265</td>\n",
       "      <td>-15.6</td>\n",
       "      <td>-5.2</td>\n",
       "      <td>-20.9</td>\n",
       "      <td>-0.1</td>\n",
       "    </tr>\n",
       "    <tr>\n",
       "      <th>2</th>\n",
       "      <td>Steven Adams</td>\n",
       "      <td>C</td>\n",
       "      <td>27</td>\n",
       "      <td>NOP</td>\n",
       "      <td>27</td>\n",
       "      <td>760</td>\n",
       "      <td>15.9</td>\n",
       "      <td>0.592</td>\n",
       "      <td>0.006</td>\n",
       "      <td>0.397</td>\n",
       "      <td>...</td>\n",
       "      <td>20.1</td>\n",
       "      <td>12.8</td>\n",
       "      <td>1.2</td>\n",
       "      <td>0.5</td>\n",
       "      <td>1.7</td>\n",
       "      <td>0.109</td>\n",
       "      <td>-0.1</td>\n",
       "      <td>-1.0</td>\n",
       "      <td>-1.1</td>\n",
       "      <td>0.2</td>\n",
       "    </tr>\n",
       "    <tr>\n",
       "      <th>3</th>\n",
       "      <td>Bam Adebayo</td>\n",
       "      <td>C</td>\n",
       "      <td>23</td>\n",
       "      <td>MIA</td>\n",
       "      <td>26</td>\n",
       "      <td>873</td>\n",
       "      <td>22.7</td>\n",
       "      <td>0.641</td>\n",
       "      <td>0.015</td>\n",
       "      <td>0.469</td>\n",
       "      <td>...</td>\n",
       "      <td>16.2</td>\n",
       "      <td>24.6</td>\n",
       "      <td>2.3</td>\n",
       "      <td>1.3</td>\n",
       "      <td>3.6</td>\n",
       "      <td>0.196</td>\n",
       "      <td>2.9</td>\n",
       "      <td>2.0</td>\n",
       "      <td>4.9</td>\n",
       "      <td>1.5</td>\n",
       "    </tr>\n",
       "    <tr>\n",
       "      <th>4</th>\n",
       "      <td>LaMarcus Aldridge</td>\n",
       "      <td>C</td>\n",
       "      <td>35</td>\n",
       "      <td>SAS</td>\n",
       "      <td>18</td>\n",
       "      <td>480</td>\n",
       "      <td>15.2</td>\n",
       "      <td>0.542</td>\n",
       "      <td>0.298</td>\n",
       "      <td>0.093</td>\n",
       "      <td>...</td>\n",
       "      <td>6.4</td>\n",
       "      <td>22.3</td>\n",
       "      <td>0.2</td>\n",
       "      <td>0.5</td>\n",
       "      <td>0.7</td>\n",
       "      <td>0.075</td>\n",
       "      <td>0.3</td>\n",
       "      <td>-1.0</td>\n",
       "      <td>-0.7</td>\n",
       "      <td>0.2</td>\n",
       "    </tr>\n",
       "  </tbody>\n",
       "</table>\n",
       "<p>5 rows × 26 columns</p>\n",
       "</div>"
      ],
      "text/plain": [
       "              Player Pos  Age   Tm   G   MP   PER    TS%   3PAr    FTr  ...  \\\n",
       "0   Precious Achiuwa  PF   21  MIA  28  408  15.1  0.599  0.000  0.541  ...   \n",
       "1       Jaylen Adams  PG   24  MIL   6   17  -6.9  0.125  0.250  0.000  ...   \n",
       "2       Steven Adams   C   27  NOP  27  760  15.9  0.592  0.006  0.397  ...   \n",
       "3        Bam Adebayo   C   23  MIA  26  873  22.7  0.641  0.015  0.469  ...   \n",
       "4  LaMarcus Aldridge   C   35  SAS  18  480  15.2  0.542  0.298  0.093  ...   \n",
       "\n",
       "   TOV%  USG%  OWS  DWS   WS  WS/48  OBPM  DBPM   BPM  VORP  \n",
       "0  16.1  19.7  0.3  0.6  0.9  0.101  -2.8  -0.2  -3.0  -0.1  \n",
       "1   0.0  19.7 -0.1  0.0 -0.1 -0.265 -15.6  -5.2 -20.9  -0.1  \n",
       "2  20.1  12.8  1.2  0.5  1.7  0.109  -0.1  -1.0  -1.1   0.2  \n",
       "3  16.2  24.6  2.3  1.3  3.6  0.196   2.9   2.0   4.9   1.5  \n",
       "4   6.4  22.3  0.2  0.5  0.7  0.075   0.3  -1.0  -0.7   0.2  \n",
       "\n",
       "[5 rows x 26 columns]"
      ]
     },
     "execution_count": 18,
     "metadata": {},
     "output_type": "execute_result"
    }
   ],
   "source": [
    "# 데이터 불러오기\n",
    "\n",
    "df = pd.read_csv('nba2021_advanced.csv')\n",
    "df.head()"
   ]
  },
  {
   "cell_type": "markdown",
   "metadata": {},
   "source": [
    "### 변수 선택 및 데이터 스케일 정규화"
   ]
  },
  {
   "cell_type": "code",
   "execution_count": 21,
   "metadata": {},
   "outputs": [
    {
     "data": {
      "text/html": [
       "<div>\n",
       "<style scoped>\n",
       "    .dataframe tbody tr th:only-of-type {\n",
       "        vertical-align: middle;\n",
       "    }\n",
       "\n",
       "    .dataframe tbody tr th {\n",
       "        vertical-align: top;\n",
       "    }\n",
       "\n",
       "    .dataframe thead th {\n",
       "        text-align: right;\n",
       "    }\n",
       "</style>\n",
       "<table border=\"1\" class=\"dataframe\">\n",
       "  <thead>\n",
       "    <tr style=\"text-align: right;\">\n",
       "      <th></th>\n",
       "      <th>G</th>\n",
       "      <th>MP</th>\n",
       "      <th>PER</th>\n",
       "      <th>TS%</th>\n",
       "      <th>3PAr</th>\n",
       "      <th>FTr</th>\n",
       "      <th>ORB%</th>\n",
       "      <th>DRB%</th>\n",
       "      <th>TRB%</th>\n",
       "      <th>AST%</th>\n",
       "      <th>...</th>\n",
       "      <th>TOV%</th>\n",
       "      <th>USG%</th>\n",
       "      <th>OWS</th>\n",
       "      <th>DWS</th>\n",
       "      <th>WS</th>\n",
       "      <th>WS/48</th>\n",
       "      <th>OBPM</th>\n",
       "      <th>DBPM</th>\n",
       "      <th>BPM</th>\n",
       "      <th>VORP</th>\n",
       "    </tr>\n",
       "  </thead>\n",
       "  <tbody>\n",
       "    <tr>\n",
       "      <th>0</th>\n",
       "      <td>0.931034</td>\n",
       "      <td>0.369427</td>\n",
       "      <td>0.703518</td>\n",
       "      <td>0.399333</td>\n",
       "      <td>0.000</td>\n",
       "      <td>0.202850</td>\n",
       "      <td>0.300000</td>\n",
       "      <td>0.365989</td>\n",
       "      <td>0.550000</td>\n",
       "      <td>0.143158</td>\n",
       "      <td>...</td>\n",
       "      <td>0.161</td>\n",
       "      <td>0.450382</td>\n",
       "      <td>0.245902</td>\n",
       "      <td>0.318182</td>\n",
       "      <td>0.239437</td>\n",
       "      <td>0.836054</td>\n",
       "      <td>0.688192</td>\n",
       "      <td>0.552147</td>\n",
       "      <td>0.677419</td>\n",
       "      <td>0.146341</td>\n",
       "    </tr>\n",
       "    <tr>\n",
       "      <th>1</th>\n",
       "      <td>0.172414</td>\n",
       "      <td>0.013649</td>\n",
       "      <td>0.427136</td>\n",
       "      <td>0.083333</td>\n",
       "      <td>0.250</td>\n",
       "      <td>0.000000</td>\n",
       "      <td>0.000000</td>\n",
       "      <td>0.336414</td>\n",
       "      <td>0.335714</td>\n",
       "      <td>0.282105</td>\n",
       "      <td>...</td>\n",
       "      <td>0.000</td>\n",
       "      <td>0.450382</td>\n",
       "      <td>0.180328</td>\n",
       "      <td>0.045455</td>\n",
       "      <td>0.098592</td>\n",
       "      <td>0.587075</td>\n",
       "      <td>0.452030</td>\n",
       "      <td>0.245399</td>\n",
       "      <td>0.402458</td>\n",
       "      <td>0.146341</td>\n",
       "    </tr>\n",
       "    <tr>\n",
       "      <th>2</th>\n",
       "      <td>0.896552</td>\n",
       "      <td>0.689718</td>\n",
       "      <td>0.713568</td>\n",
       "      <td>0.394667</td>\n",
       "      <td>0.006</td>\n",
       "      <td>0.148856</td>\n",
       "      <td>0.482857</td>\n",
       "      <td>0.332717</td>\n",
       "      <td>0.625000</td>\n",
       "      <td>0.212632</td>\n",
       "      <td>...</td>\n",
       "      <td>0.201</td>\n",
       "      <td>0.274809</td>\n",
       "      <td>0.393443</td>\n",
       "      <td>0.272727</td>\n",
       "      <td>0.352113</td>\n",
       "      <td>0.841497</td>\n",
       "      <td>0.738007</td>\n",
       "      <td>0.503067</td>\n",
       "      <td>0.706605</td>\n",
       "      <td>0.219512</td>\n",
       "    </tr>\n",
       "    <tr>\n",
       "      <th>3</th>\n",
       "      <td>0.862069</td>\n",
       "      <td>0.792539</td>\n",
       "      <td>0.798995</td>\n",
       "      <td>0.427333</td>\n",
       "      <td>0.015</td>\n",
       "      <td>0.175853</td>\n",
       "      <td>0.194286</td>\n",
       "      <td>0.428835</td>\n",
       "      <td>0.550000</td>\n",
       "      <td>0.587368</td>\n",
       "      <td>...</td>\n",
       "      <td>0.162</td>\n",
       "      <td>0.575064</td>\n",
       "      <td>0.573770</td>\n",
       "      <td>0.636364</td>\n",
       "      <td>0.619718</td>\n",
       "      <td>0.900680</td>\n",
       "      <td>0.793358</td>\n",
       "      <td>0.687117</td>\n",
       "      <td>0.798771</td>\n",
       "      <td>0.536585</td>\n",
       "    </tr>\n",
       "    <tr>\n",
       "      <th>4</th>\n",
       "      <td>0.586207</td>\n",
       "      <td>0.434941</td>\n",
       "      <td>0.704774</td>\n",
       "      <td>0.361333</td>\n",
       "      <td>0.298</td>\n",
       "      <td>0.034871</td>\n",
       "      <td>0.091429</td>\n",
       "      <td>0.258780</td>\n",
       "      <td>0.300000</td>\n",
       "      <td>0.240000</td>\n",
       "      <td>...</td>\n",
       "      <td>0.064</td>\n",
       "      <td>0.516539</td>\n",
       "      <td>0.229508</td>\n",
       "      <td>0.272727</td>\n",
       "      <td>0.211268</td>\n",
       "      <td>0.818367</td>\n",
       "      <td>0.745387</td>\n",
       "      <td>0.503067</td>\n",
       "      <td>0.712750</td>\n",
       "      <td>0.219512</td>\n",
       "    </tr>\n",
       "  </tbody>\n",
       "</table>\n",
       "<p>5 rows × 22 columns</p>\n",
       "</div>"
      ],
      "text/plain": [
       "          G        MP       PER       TS%   3PAr       FTr      ORB%  \\\n",
       "0  0.931034  0.369427  0.703518  0.399333  0.000  0.202850  0.300000   \n",
       "1  0.172414  0.013649  0.427136  0.083333  0.250  0.000000  0.000000   \n",
       "2  0.896552  0.689718  0.713568  0.394667  0.006  0.148856  0.482857   \n",
       "3  0.862069  0.792539  0.798995  0.427333  0.015  0.175853  0.194286   \n",
       "4  0.586207  0.434941  0.704774  0.361333  0.298  0.034871  0.091429   \n",
       "\n",
       "       DRB%      TRB%      AST%  ...   TOV%      USG%       OWS       DWS  \\\n",
       "0  0.365989  0.550000  0.143158  ...  0.161  0.450382  0.245902  0.318182   \n",
       "1  0.336414  0.335714  0.282105  ...  0.000  0.450382  0.180328  0.045455   \n",
       "2  0.332717  0.625000  0.212632  ...  0.201  0.274809  0.393443  0.272727   \n",
       "3  0.428835  0.550000  0.587368  ...  0.162  0.575064  0.573770  0.636364   \n",
       "4  0.258780  0.300000  0.240000  ...  0.064  0.516539  0.229508  0.272727   \n",
       "\n",
       "         WS     WS/48      OBPM      DBPM       BPM      VORP  \n",
       "0  0.239437  0.836054  0.688192  0.552147  0.677419  0.146341  \n",
       "1  0.098592  0.587075  0.452030  0.245399  0.402458  0.146341  \n",
       "2  0.352113  0.841497  0.738007  0.503067  0.706605  0.219512  \n",
       "3  0.619718  0.900680  0.793358  0.687117  0.798771  0.536585  \n",
       "4  0.211268  0.818367  0.745387  0.503067  0.712750  0.219512  \n",
       "\n",
       "[5 rows x 22 columns]"
      ]
     },
     "execution_count": 21,
     "metadata": {},
     "output_type": "execute_result"
    }
   ],
   "source": [
    "# 변수 선택 및 데이터 스케일 정규화\n",
    "\n",
    "# 요인 분석할 칼럼만 선택\n",
    "df1 = df.drop(['Player','Pos','Tm','Age'],axis=1)\n",
    "\n",
    "# 데이터 정규화\n",
    "scaler = MinMaxScaler()\n",
    "df_minmax = scaler.fit_transform(df1)\n",
    "\n",
    "# 칼럼명 결합 \n",
    "df_minmax = pd.DataFrame(df_minmax,columns=df1.columns)\n",
    "\n",
    "df_minmax.head()"
   ]
  },
  {
   "cell_type": "markdown",
   "metadata": {},
   "source": [
    "### 바틀렛 테스트\n"
   ]
  },
  {
   "cell_type": "code",
   "execution_count": 24,
   "metadata": {},
   "outputs": [
    {
     "data": {
      "text/plain": [
       "(20174.082695118377, 0.0)"
      ]
     },
     "execution_count": 24,
     "metadata": {},
     "output_type": "execute_result"
    }
   ],
   "source": [
    "chi_square_value,p_value = calculate_bartlett_sphericity(df_minmax)\n",
    "\n",
    "chi_square_value,p_value\n"
   ]
  },
  {
   "cell_type": "markdown",
   "metadata": {},
   "source": [
    "> 0.05보다 작다 -> 변수들 간 상관관계가 있다."
   ]
  },
  {
   "cell_type": "markdown",
   "metadata": {},
   "source": [
    "### KMO 검정"
   ]
  },
  {
   "cell_type": "code",
   "execution_count": 25,
   "metadata": {},
   "outputs": [
    {
     "name": "stderr",
     "output_type": "stream",
     "text": [
      "C:\\Users\\hamin\\AppData\\Roaming\\Python\\Python39\\site-packages\\factor_analyzer\\utils.py:244: UserWarning: The inverse of the variance-covariance matrix was calculated using the Moore-Penrose generalized matrix inversion, due to its determinant being at or very close to zero.\n",
      "  warnings.warn(\n"
     ]
    },
    {
     "data": {
      "text/plain": [
       "0.7017388419159649"
      ]
     },
     "execution_count": 25,
     "metadata": {},
     "output_type": "execute_result"
    }
   ],
   "source": [
    "# KMO 검정\n",
    "\n",
    "kmo_all,kmo_test = calculate_kmo(df_minmax)\n",
    "kmo_test"
   ]
  },
  {
   "cell_type": "markdown",
   "metadata": {},
   "source": [
    "> 0.7 -> 약간높음 : 변수 그룹간 상관관계 약간 높음"
   ]
  },
  {
   "cell_type": "markdown",
   "metadata": {},
   "source": [
    "### 전체 요인 적재 값 확인"
   ]
  },
  {
   "cell_type": "code",
   "execution_count": 26,
   "metadata": {},
   "outputs": [
    {
     "data": {
      "text/plain": [
       "array([7.91, 3.53, 2.25, 1.59, 1.45, 1.05, 0.86, 0.67, 0.59, 0.57, 0.45,\n",
       "       0.37, 0.24, 0.17, 0.11, 0.08, 0.07, 0.03, 0.01, 0.  , 0.  , 0.  ])"
      ]
     },
     "execution_count": 26,
     "metadata": {},
     "output_type": "execute_result"
    }
   ],
   "source": [
    "# 전체 요인 적재 값 확인\n",
    "fa = FactorAnalyzer(n_factors=30,rotation=None)\n",
    "fa.fit(df_minmax)\n",
    "ev,v = fa.get_eigenvalues()\n",
    "np.round(ev,2)"
   ]
  },
  {
   "cell_type": "markdown",
   "metadata": {},
   "source": [
    "### Scree Plot \n"
   ]
  },
  {
   "cell_type": "code",
   "execution_count": 37,
   "metadata": {},
   "outputs": [
    {
     "data": {
      "image/png": "[encoded data removed]",
      "text/plain": [
       "<Figure size 640x480 with 1 Axes>"
      ]
     },
     "metadata": {},
     "output_type": "display_data"
    }
   ],
   "source": [
    "# Scree Plot \n",
    "plt.scatter(range(1,df_minmax.shape[1]+1),ev)\n",
    "plt.plot(range(1,df_minmax.shape[1]+1),ev)\n",
    "plt.title('Scree Plot')\n",
    "plt.xlabel('Fators')\n",
    "plt.ylabel(\"EigenValue\")\n",
    "plt.grid()\n",
    "plt.show()\n",
    "plt.close()"
   ]
  },
  {
   "cell_type": "markdown",
   "metadata": {},
   "source": [
    "### 요인과 변수 간 요인 적재 값 확인\n"
   ]
  },
  {
   "cell_type": "code",
   "execution_count": 38,
   "metadata": {},
   "outputs": [
    {
     "data": {
      "text/html": [
       "<div>\n",
       "<style scoped>\n",
       "    .dataframe tbody tr th:only-of-type {\n",
       "        vertical-align: middle;\n",
       "    }\n",
       "\n",
       "    .dataframe tbody tr th {\n",
       "        vertical-align: top;\n",
       "    }\n",
       "\n",
       "    .dataframe thead th {\n",
       "        text-align: right;\n",
       "    }\n",
       "</style>\n",
       "<table border=\"1\" class=\"dataframe\">\n",
       "  <thead>\n",
       "    <tr style=\"text-align: right;\">\n",
       "      <th></th>\n",
       "      <th>0</th>\n",
       "      <th>1</th>\n",
       "      <th>2</th>\n",
       "      <th>3</th>\n",
       "    </tr>\n",
       "  </thead>\n",
       "  <tbody>\n",
       "    <tr>\n",
       "      <th>G</th>\n",
       "      <td>0.280363</td>\n",
       "      <td>-0.120974</td>\n",
       "      <td>0.823695</td>\n",
       "      <td>0.054468</td>\n",
       "    </tr>\n",
       "    <tr>\n",
       "      <th>MP</th>\n",
       "      <td>0.235239</td>\n",
       "      <td>-0.114616</td>\n",
       "      <td>0.820694</td>\n",
       "      <td>0.349032</td>\n",
       "    </tr>\n",
       "    <tr>\n",
       "      <th>PER</th>\n",
       "      <td>0.832268</td>\n",
       "      <td>0.305573</td>\n",
       "      <td>0.147761</td>\n",
       "      <td>0.411650</td>\n",
       "    </tr>\n",
       "    <tr>\n",
       "      <th>TS%</th>\n",
       "      <td>0.746473</td>\n",
       "      <td>0.103235</td>\n",
       "      <td>0.151836</td>\n",
       "      <td>0.069871</td>\n",
       "    </tr>\n",
       "    <tr>\n",
       "      <th>3PAr</th>\n",
       "      <td>-0.015289</td>\n",
       "      <td>-0.593922</td>\n",
       "      <td>0.004644</td>\n",
       "      <td>-0.180311</td>\n",
       "    </tr>\n",
       "    <tr>\n",
       "      <th>FTr</th>\n",
       "      <td>0.087057</td>\n",
       "      <td>0.356382</td>\n",
       "      <td>-0.173463</td>\n",
       "      <td>0.112161</td>\n",
       "    </tr>\n",
       "    <tr>\n",
       "      <th>ORB%</th>\n",
       "      <td>0.042655</td>\n",
       "      <td>0.785599</td>\n",
       "      <td>-0.047214</td>\n",
       "      <td>-0.058840</td>\n",
       "    </tr>\n",
       "    <tr>\n",
       "      <th>DRB%</th>\n",
       "      <td>0.105775</td>\n",
       "      <td>0.711622</td>\n",
       "      <td>0.131665</td>\n",
       "      <td>-0.009666</td>\n",
       "    </tr>\n",
       "    <tr>\n",
       "      <th>TRB%</th>\n",
       "      <td>0.076869</td>\n",
       "      <td>0.971609</td>\n",
       "      <td>0.092116</td>\n",
       "      <td>-0.049174</td>\n",
       "    </tr>\n",
       "    <tr>\n",
       "      <th>AST%</th>\n",
       "      <td>0.072484</td>\n",
       "      <td>-0.176681</td>\n",
       "      <td>0.082553</td>\n",
       "      <td>0.571263</td>\n",
       "    </tr>\n",
       "    <tr>\n",
       "      <th>STL%</th>\n",
       "      <td>0.162854</td>\n",
       "      <td>-0.158276</td>\n",
       "      <td>0.167052</td>\n",
       "      <td>-0.010402</td>\n",
       "    </tr>\n",
       "    <tr>\n",
       "      <th>BLK%</th>\n",
       "      <td>0.061263</td>\n",
       "      <td>0.615849</td>\n",
       "      <td>-0.000813</td>\n",
       "      <td>-0.131920</td>\n",
       "    </tr>\n",
       "    <tr>\n",
       "      <th>TOV%</th>\n",
       "      <td>-0.512815</td>\n",
       "      <td>0.161094</td>\n",
       "      <td>-0.048920</td>\n",
       "      <td>0.040294</td>\n",
       "    </tr>\n",
       "    <tr>\n",
       "      <th>USG%</th>\n",
       "      <td>-0.039402</td>\n",
       "      <td>0.024692</td>\n",
       "      <td>0.010200</td>\n",
       "      <td>0.644357</td>\n",
       "    </tr>\n",
       "    <tr>\n",
       "      <th>OWS</th>\n",
       "      <td>0.335777</td>\n",
       "      <td>0.122376</td>\n",
       "      <td>0.422589</td>\n",
       "      <td>0.662219</td>\n",
       "    </tr>\n",
       "    <tr>\n",
       "      <th>DWS</th>\n",
       "      <td>0.210791</td>\n",
       "      <td>0.157760</td>\n",
       "      <td>0.814380</td>\n",
       "      <td>0.264731</td>\n",
       "    </tr>\n",
       "    <tr>\n",
       "      <th>WS</th>\n",
       "      <td>0.322705</td>\n",
       "      <td>0.156197</td>\n",
       "      <td>0.636343</td>\n",
       "      <td>0.627248</td>\n",
       "    </tr>\n",
       "    <tr>\n",
       "      <th>WS/48</th>\n",
       "      <td>0.934784</td>\n",
       "      <td>0.202072</td>\n",
       "      <td>0.211533</td>\n",
       "      <td>0.114420</td>\n",
       "    </tr>\n",
       "    <tr>\n",
       "      <th>OBPM</th>\n",
       "      <td>0.870437</td>\n",
       "      <td>0.050989</td>\n",
       "      <td>0.165258</td>\n",
       "      <td>0.382697</td>\n",
       "    </tr>\n",
       "    <tr>\n",
       "      <th>DBPM</th>\n",
       "      <td>0.531773</td>\n",
       "      <td>0.201113</td>\n",
       "      <td>0.264126</td>\n",
       "      <td>-0.118064</td>\n",
       "    </tr>\n",
       "    <tr>\n",
       "      <th>BPM</th>\n",
       "      <td>0.931222</td>\n",
       "      <td>0.110370</td>\n",
       "      <td>0.235261</td>\n",
       "      <td>0.249336</td>\n",
       "    </tr>\n",
       "    <tr>\n",
       "      <th>VORP</th>\n",
       "      <td>0.292786</td>\n",
       "      <td>0.140378</td>\n",
       "      <td>0.367490</td>\n",
       "      <td>0.751926</td>\n",
       "    </tr>\n",
       "  </tbody>\n",
       "</table>\n",
       "</div>"
      ],
      "text/plain": [
       "              0         1         2         3\n",
       "G      0.280363 -0.120974  0.823695  0.054468\n",
       "MP     0.235239 -0.114616  0.820694  0.349032\n",
       "PER    0.832268  0.305573  0.147761  0.411650\n",
       "TS%    0.746473  0.103235  0.151836  0.069871\n",
       "3PAr  -0.015289 -0.593922  0.004644 -0.180311\n",
       "FTr    0.087057  0.356382 -0.173463  0.112161\n",
       "ORB%   0.042655  0.785599 -0.047214 -0.058840\n",
       "DRB%   0.105775  0.711622  0.131665 -0.009666\n",
       "TRB%   0.076869  0.971609  0.092116 -0.049174\n",
       "AST%   0.072484 -0.176681  0.082553  0.571263\n",
       "STL%   0.162854 -0.158276  0.167052 -0.010402\n",
       "BLK%   0.061263  0.615849 -0.000813 -0.131920\n",
       "TOV%  -0.512815  0.161094 -0.048920  0.040294\n",
       "USG%  -0.039402  0.024692  0.010200  0.644357\n",
       "OWS    0.335777  0.122376  0.422589  0.662219\n",
       "DWS    0.210791  0.157760  0.814380  0.264731\n",
       "WS     0.322705  0.156197  0.636343  0.627248\n",
       "WS/48  0.934784  0.202072  0.211533  0.114420\n",
       "OBPM   0.870437  0.050989  0.165258  0.382697\n",
       "DBPM   0.531773  0.201113  0.264126 -0.118064\n",
       "BPM    0.931222  0.110370  0.235261  0.249336\n",
       "VORP   0.292786  0.140378  0.367490  0.751926"
      ]
     },
     "execution_count": 38,
     "metadata": {},
     "output_type": "execute_result"
    }
   ],
   "source": [
    "# 요인과 변수 간 요인 적재 값 확인\n",
    "\n",
    "fa = FactorAnalyzer(n_factors=4,rotation='varimax')\n",
    "fa.fit(df_minmax)\n",
    "factor_loadings = pd.DataFrame(fa.loadings_,index=df_minmax.columns)\n",
    "factor_loadings"
   ]
  },
  {
   "cell_type": "markdown",
   "metadata": {},
   "source": [
    "### 요인과 변수 간 요인 적재 값 시각화"
   ]
  },
  {
   "cell_type": "code",
   "execution_count": 39,
   "metadata": {},
   "outputs": [
    {
     "data": {
      "text/plain": [
       "<Axes: >"
      ]
     },
     "execution_count": 39,
     "metadata": {},
     "output_type": "execute_result"
    },
    {
     "data": {
      "image/png": "[encoded data removed]",
      "text/plain": [
       "<Figure size 600x1000 with 2 Axes>"
      ]
     },
     "metadata": {},
     "output_type": "display_data"
    }
   ],
   "source": [
    "# 요인과 변수 간 요인 적재 값 시각화\n",
    "\n",
    "plt.figure(figsize=(6,10))\n",
    "sns.heatmap(abs(factor_loadings),cmap='PuBu',annot=True,fmt='.2f')\n"
   ]
  },
  {
   "cell_type": "markdown",
   "metadata": {},
   "source": [
    "## 다중공선성 해결과 섀플리 밸류 분석\n",
    "\n",
    "> 다중공선성이란 독립변수들 간의 상관관계가 높은 현상을 뜻한다. -> 두 개 이상의 독립변수가 서로 선형적인 관계를 나타낼때.\n",
    "\n",
    "### 다중공선성을 판별하는 기준\n",
    "\n",
    "1. 회귀분석 모델을 실행하기 전에 상관분석을 통해 독립변수 간 상관성이 높은 변수 찾는 방법, 하지만 변수만으면 힘듦\n",
    "2. 회귀분석 결과에서 R-squared 값은 크지만 회귀계수에 대한 t값이 낮다면 다중공선성 의심해볼수있음\n",
    "3. VIF을 통해 다중공선성 판단\n",
    "\n",
    "### 다중공선성 해결 방법\n",
    "1.  VIF 값이 높은 변수들 중에서 종속변수와의 설명력이 가장 낮은 변수를 제거하고 다시 VIF값을 확인하는 것을 반복.(가장 기본)\n",
    "2. 표본관측치를 추가적으로 확보해 다중공선성 완화(잘안씀)\n",
    "3. 변수를 가공하여 변수 간의 상관성을 줄이는 방법(로그,표준화,정규화) (현실적)\n",
    "4.  주성분 분석을 통한 변수 축약, 해석이 어려워지는 단점.\n",
    "5. 변수 선택 알고리즘. (전진선택법, 후진제거법, 단계적 선택법)\n",
    "\n",
    "#### 섀플리 밸류 분석\n",
    "\n",
    "- 독립변수가 종속변수의 설명력에 기여하는 순수한 수치를 계산하는 방법\n",
    "\n",
    "## 데이터 마사지와 블라인드 분석\n",
    "\n",
    "### 데이터 마사지 \n",
    "> 데이터 마사지란 데이터 분석 결과가 예상하거나 의도한 방향과 다를 때 데이터의 배열을 수정하거나 관점을 바꾸는 등 동일한 데이터라도 해석이 달라질 수 있도록 유도하는 것임.\n",
    "\n",
    "#### 데이터 마사지 방법\n",
    " - 편향된 데이터 전처리 \n",
    "  > 이상치나 결측값 등의 전처리를 분석가가 의도하는 방향에 유리하도록 끌고 가는것.\n",
    " - 매직 그래프 사용\n",
    " > 그래프의 레이블 간격이나 비율을 왜곡하여 수치의 차이를 식제보다 크거나 작에 인식하도록 유도\n",
    " - 분모 바꾸기 등 관점 변환\n",
    " - 의도적인 데이터 누락 및 가공\n",
    " > 분석가가 원하는 방향과 반대되는 데이터를 의도적으로 누락 or 다른 수치와 결합\n",
    " - 머신러닝 모델의 파라미터 값 변경 및 연산반복\n",
    " - 심슨의 역설\n",
    "\n",
    " ### 블라인드 분석\n",
    " > 데이터 마사지에 의한 왜곡을 방자하기 위해 사용하는 방법, 확증 편향에 의한 오류를 최소화 하기 위한 방법\n",
    "\n",
    " > 블라인드 분석은 기존에 분석가가 중요하다고 생각했던 변수가 큰 의미가 없는 것으로 결과가 나왔을 때 의미부여 하거나 그 변수에 집착하여 해석에 유리하도록 변수를 가공하게 되는 실수를 방지하는 목적이 크다\n"
   ]
  },
  {
   "cell_type": "markdown",
   "metadata": {},
   "source": [
    "## Z-test, T-test\n",
    "\n",
    "> 집단 내 혹은 집단 간 평균값의 차이가 통계적으로 유의미한지 알아보는 검정.\n",
    "- Z-test와 T-test는 두 집단간 평균차이 혹은 비율 차이 분석, ANOVA는 두 집단 이상일 경우 사용\n",
    "- Z-test와 T-test의 조건 \n",
    "    1. 연속형 변수\n",
    "    2. 정규분포\n",
    "    3. 등분산성\n",
    "- 표본의 크기가 30 이상이면 중심극한정리에 의해 정규분포를 따른다고 볼 수 있으므로 Z-test 사용가능 \n",
    "- T-test는 표본의 크기가 30 미만이라 정규분포를 가정할 수 없을 떄 사용\n",
    "\n",
    "![Alt text](image.png)\n"
   ]
  },
  {
   "cell_type": "markdown",
   "metadata": {},
   "source": [
    "\n",
    "### Z-test와 T-test 실습"
   ]
  },
  {
   "cell_type": "code",
   "execution_count": 18,
   "metadata": {},
   "outputs": [],
   "source": [
    "# 필요한 패키지 가져오기\n",
    "\n",
    "\n",
    "from scipy.stats import shapiro\n",
    "from statsmodels.stats.weightstats import ztest as ztest\n",
    "import scipy.stats\n",
    "from scipy.stats import  ttest_ind\n",
    "import pandas as pd\n",
    "import seaborn as sns\n",
    "import matplotlib.pyplot as plt\n"
   ]
  },
  {
   "cell_type": "markdown",
   "metadata": {},
   "source": [
    "### 데이터 불러오기 및 확인"
   ]
  },
  {
   "cell_type": "code",
   "execution_count": 2,
   "metadata": {},
   "outputs": [
    {
     "data": {
      "text/html": [
       "<div>\n",
       "<style scoped>\n",
       "    .dataframe tbody tr th:only-of-type {\n",
       "        vertical-align: middle;\n",
       "    }\n",
       "\n",
       "    .dataframe tbody tr th {\n",
       "        vertical-align: top;\n",
       "    }\n",
       "\n",
       "    .dataframe thead th {\n",
       "        text-align: right;\n",
       "    }\n",
       "</style>\n",
       "<table border=\"1\" class=\"dataframe\">\n",
       "  <thead>\n",
       "    <tr style=\"text-align: right;\">\n",
       "      <th></th>\n",
       "      <th>TypeA_before</th>\n",
       "      <th>TypeA_after</th>\n",
       "      <th>TypeB_before</th>\n",
       "      <th>TypeB_after</th>\n",
       "      <th>TypeC_before</th>\n",
       "      <th>TypeC_after</th>\n",
       "    </tr>\n",
       "  </thead>\n",
       "  <tbody>\n",
       "    <tr>\n",
       "      <th>0</th>\n",
       "      <td>277</td>\n",
       "      <td>264</td>\n",
       "      <td>265</td>\n",
       "      <td>268</td>\n",
       "      <td>267</td>\n",
       "      <td>268</td>\n",
       "    </tr>\n",
       "    <tr>\n",
       "      <th>1</th>\n",
       "      <td>269</td>\n",
       "      <td>261</td>\n",
       "      <td>264</td>\n",
       "      <td>267</td>\n",
       "      <td>264</td>\n",
       "      <td>269</td>\n",
       "    </tr>\n",
       "    <tr>\n",
       "      <th>2</th>\n",
       "      <td>263</td>\n",
       "      <td>267</td>\n",
       "      <td>269</td>\n",
       "      <td>272</td>\n",
       "      <td>283</td>\n",
       "      <td>283</td>\n",
       "    </tr>\n",
       "    <tr>\n",
       "      <th>3</th>\n",
       "      <td>266</td>\n",
       "      <td>272</td>\n",
       "      <td>274</td>\n",
       "      <td>277</td>\n",
       "      <td>287</td>\n",
       "      <td>266</td>\n",
       "    </tr>\n",
       "    <tr>\n",
       "      <th>4</th>\n",
       "      <td>262</td>\n",
       "      <td>258</td>\n",
       "      <td>261</td>\n",
       "      <td>264</td>\n",
       "      <td>275</td>\n",
       "      <td>266</td>\n",
       "    </tr>\n",
       "  </tbody>\n",
       "</table>\n",
       "</div>"
      ],
      "text/plain": [
       "   TypeA_before  TypeA_after  ...  TypeC_before  TypeC_after\n",
       "0           277          264  ...           267          268\n",
       "1           269          261  ...           264          269\n",
       "2           263          267  ...           283          283\n",
       "3           266          272  ...           287          266\n",
       "4           262          258  ...           275          266\n",
       "\n",
       "[5 rows x 6 columns]"
      ]
     },
     "execution_count": 2,
     "metadata": {},
     "output_type": "execute_result"
    }
   ],
   "source": [
    "df = pd.read_csv('Golf_test.csv')\n",
    "\n",
    "## 데이터 샘플 확인\n",
    "df.head()"
   ]
  },
  {
   "cell_type": "markdown",
   "metadata": {},
   "source": [
    "### 골프공 타입 별 통계값 확인"
   ]
  },
  {
   "cell_type": "code",
   "execution_count": 3,
   "metadata": {},
   "outputs": [
    {
     "data": {
      "text/html": [
       "<div>\n",
       "<style scoped>\n",
       "    .dataframe tbody tr th:only-of-type {\n",
       "        vertical-align: middle;\n",
       "    }\n",
       "\n",
       "    .dataframe tbody tr th {\n",
       "        vertical-align: top;\n",
       "    }\n",
       "\n",
       "    .dataframe thead th {\n",
       "        text-align: right;\n",
       "    }\n",
       "</style>\n",
       "<table border=\"1\" class=\"dataframe\">\n",
       "  <thead>\n",
       "    <tr style=\"text-align: right;\">\n",
       "      <th></th>\n",
       "      <th>TypeA_before</th>\n",
       "      <th>TypeA_after</th>\n",
       "      <th>TypeB_before</th>\n",
       "      <th>TypeB_after</th>\n",
       "      <th>TypeC_before</th>\n",
       "      <th>TypeC_after</th>\n",
       "    </tr>\n",
       "  </thead>\n",
       "  <tbody>\n",
       "    <tr>\n",
       "      <th>count</th>\n",
       "      <td>50.000000</td>\n",
       "      <td>50.000000</td>\n",
       "      <td>50.000000</td>\n",
       "      <td>50.000000</td>\n",
       "      <td>50.000000</td>\n",
       "      <td>50.000000</td>\n",
       "    </tr>\n",
       "    <tr>\n",
       "      <th>mean</th>\n",
       "      <td>268.460000</td>\n",
       "      <td>270.720000</td>\n",
       "      <td>273.600000</td>\n",
       "      <td>276.100000</td>\n",
       "      <td>270.360000</td>\n",
       "      <td>271.040000</td>\n",
       "    </tr>\n",
       "    <tr>\n",
       "      <th>std</th>\n",
       "      <td>9.817124</td>\n",
       "      <td>8.487782</td>\n",
       "      <td>8.566665</td>\n",
       "      <td>8.493094</td>\n",
       "      <td>8.385507</td>\n",
       "      <td>9.437139</td>\n",
       "    </tr>\n",
       "    <tr>\n",
       "      <th>min</th>\n",
       "      <td>250.000000</td>\n",
       "      <td>255.000000</td>\n",
       "      <td>258.000000</td>\n",
       "      <td>261.000000</td>\n",
       "      <td>255.000000</td>\n",
       "      <td>253.000000</td>\n",
       "    </tr>\n",
       "    <tr>\n",
       "      <th>25%</th>\n",
       "      <td>262.000000</td>\n",
       "      <td>264.000000</td>\n",
       "      <td>266.250000</td>\n",
       "      <td>269.000000</td>\n",
       "      <td>263.250000</td>\n",
       "      <td>265.000000</td>\n",
       "    </tr>\n",
       "    <tr>\n",
       "      <th>50%</th>\n",
       "      <td>266.000000</td>\n",
       "      <td>271.000000</td>\n",
       "      <td>273.500000</td>\n",
       "      <td>276.500000</td>\n",
       "      <td>268.500000</td>\n",
       "      <td>268.000000</td>\n",
       "    </tr>\n",
       "    <tr>\n",
       "      <th>75%</th>\n",
       "      <td>275.750000</td>\n",
       "      <td>275.000000</td>\n",
       "      <td>278.000000</td>\n",
       "      <td>280.000000</td>\n",
       "      <td>275.750000</td>\n",
       "      <td>277.750000</td>\n",
       "    </tr>\n",
       "    <tr>\n",
       "      <th>max</th>\n",
       "      <td>289.000000</td>\n",
       "      <td>289.000000</td>\n",
       "      <td>292.000000</td>\n",
       "      <td>295.000000</td>\n",
       "      <td>289.000000</td>\n",
       "      <td>291.000000</td>\n",
       "    </tr>\n",
       "  </tbody>\n",
       "</table>\n",
       "</div>"
      ],
      "text/plain": [
       "       TypeA_before  TypeA_after  ...  TypeC_before  TypeC_after\n",
       "count     50.000000    50.000000  ...     50.000000    50.000000\n",
       "mean     268.460000   270.720000  ...    270.360000   271.040000\n",
       "std        9.817124     8.487782  ...      8.385507     9.437139\n",
       "min      250.000000   255.000000  ...    255.000000   253.000000\n",
       "25%      262.000000   264.000000  ...    263.250000   265.000000\n",
       "50%      266.000000   271.000000  ...    268.500000   268.000000\n",
       "75%      275.750000   275.000000  ...    275.750000   277.750000\n",
       "max      289.000000   289.000000  ...    289.000000   291.000000\n",
       "\n",
       "[8 rows x 6 columns]"
      ]
     },
     "execution_count": 3,
     "metadata": {},
     "output_type": "execute_result"
    }
   ],
   "source": [
    "# 골프공 타입 별 통계값 확인\n",
    "\n",
    "df.describe()"
   ]
  },
  {
   "cell_type": "markdown",
   "metadata": {},
   "source": [
    "### 그룹별 박스플롯"
   ]
  },
  {
   "cell_type": "code",
   "execution_count": null,
   "metadata": {},
   "outputs": [],
   "source": []
  },
  {
   "cell_type": "code",
   "execution_count": 10,
   "metadata": {},
   "outputs": [
    {
     "name": "stderr",
     "output_type": "stream",
     "text": [
      "c:\\Users\\Hamin\\AppData\\Local\\Programs\\Python\\Python39\\lib\\site-packages\\seaborn\\_oldcore.py:1498: FutureWarning: is_categorical_dtype is deprecated and will be removed in a future version. Use isinstance(dtype, CategoricalDtype) instead\n",
      "  if pd.api.types.is_categorical_dtype(vector):\n",
      "c:\\Users\\Hamin\\AppData\\Local\\Programs\\Python\\Python39\\lib\\site-packages\\seaborn\\_oldcore.py:1498: FutureWarning: is_categorical_dtype is deprecated and will be removed in a future version. Use isinstance(dtype, CategoricalDtype) instead\n",
      "  if pd.api.types.is_categorical_dtype(vector):\n",
      "c:\\Users\\Hamin\\AppData\\Local\\Programs\\Python\\Python39\\lib\\site-packages\\seaborn\\_oldcore.py:1498: FutureWarning: is_categorical_dtype is deprecated and will be removed in a future version. Use isinstance(dtype, CategoricalDtype) instead\n",
      "  if pd.api.types.is_categorical_dtype(vector):\n"
     ]
    },
    {
     "data": {
      "image/png": "[encoded data removed]",
      "text/plain": [
       "<Figure size 1200x600 with 1 Axes>"
      ]
     },
     "metadata": {},
     "output_type": "display_data"
    }
   ],
   "source": [
    "df2 = pd.melt(df)\n",
    "df2\n",
    "plt.figure(figsize=(12,6))\n",
    "sns.boxplot(x='variable',y='value',data=df2)\n",
    "plt.show()"
   ]
  },
  {
   "cell_type": "markdown",
   "metadata": {},
   "source": [
    "### Shapiro-Wilk-Test 정규성 검정"
   ]
  },
  {
   "cell_type": "code",
   "execution_count": 15,
   "metadata": {},
   "outputs": [
    {
     "name": "stdout",
     "output_type": "stream",
     "text": [
      "ShapiroResult(statistic=0.9655377864837646, pvalue=0.15155059099197388)\n",
      "ShapiroResult(statistic=0.9728279113769531, pvalue=0.3005082309246063)\n",
      "ShapiroResult(statistic=0.9730042219161987, pvalue=0.30535760521888733)\n",
      "ShapiroResult(statistic=0.9693011045455933, pvalue=0.21675525605678558)\n",
      "ShapiroResult(statistic=0.9595518112182617, pvalue=0.08513058722019196)\n",
      "ShapiroResult(statistic=0.9469832181930542, pvalue=0.02568192593753338)\n"
     ]
    }
   ],
   "source": [
    "# 데이터 정규성 검정\n",
    "\n",
    "print(shapiro(df['TypeA_before']))\n",
    "print(shapiro(df['TypeA_after']))\n",
    "print(shapiro(df['TypeB_before']))\n",
    "print(shapiro(df['TypeB_after']))\n",
    "print(shapiro(df['TypeC_before']))\n",
    "print(shapiro(df['TypeC_after']))"
   ]
  },
  {
   "cell_type": "markdown",
   "metadata": {},
   "source": [
    "TypeC_after은 정규성 만족 x"
   ]
  },
  {
   "cell_type": "markdown",
   "metadata": {},
   "source": [
    "### bartlett 등분산성 검정"
   ]
  },
  {
   "cell_type": "code",
   "execution_count": 20,
   "metadata": {},
   "outputs": [
    {
     "data": {
      "text/plain": [
       "BartlettResult(statistic=2.232358764161634, pvalue=0.8161484218330712)"
      ]
     },
     "execution_count": 20,
     "metadata": {},
     "output_type": "execute_result"
    }
   ],
   "source": [
    "# 데이터 등분산성 검정\n",
    "scipy.stats.bartlett(df['TypeA_before'],df['TypeA_after'],\n",
    "               df['TypeB_before'],df['TypeB_after'],\n",
    "               df['TypeC_before'],df['TypeC_after'])"
   ]
  },
  {
   "cell_type": "markdown",
   "metadata": {},
   "source": [
    "### 대응표본 Z-test"
   ]
  },
  {
   "cell_type": "code",
   "execution_count": 24,
   "metadata": {},
   "outputs": [
    {
     "name": "stdout",
     "output_type": "stream",
     "text": [
      "(-1.2313987682249838, 0.21817375744980994)\n"
     ]
    }
   ],
   "source": [
    "# Z-test(TypeA_before,TypeA_after)\n",
    "\n",
    "# 양측검정\n",
    "\n",
    "print(ztest(df['TypeA_before'],x2=df['TypeA_after'],value=0,alternative='two-sided'))\n"
   ]
  },
  {
   "cell_type": "markdown",
   "metadata": {},
   "source": [
    "### 독립표본 Z-test"
   ]
  },
  {
   "cell_type": "code",
   "execution_count": 25,
   "metadata": {},
   "outputs": [
    {
     "name": "stdout",
     "output_type": "stream",
     "text": [
      "(-2.789495974658115, 0.005279015267745853)\n",
      "(-2.789495974658115, 0.0026395076338729265)\n",
      "(-2.789495974658115, 0.9973604923661271)\n"
     ]
    }
   ],
   "source": [
    "# Z-test(TypeA_before,TypeA_after)\n",
    "\n",
    "# 양측검정\n",
    "\n",
    "print(ztest(df['TypeA_before'],x2=df['TypeB_before'],value=0,alternative='two-sided'))\n",
    "\n",
    "# 단측검정 (왼쪽꼬리 검정)\n",
    "print(ztest(df['TypeA_before'],x2=df['TypeB_before'],value=0,alternative='smaller'))\n",
    "\n",
    "# 단측검정 (오른쪽꼬리 검정)\n",
    "print(ztest(df['TypeA_before'],x2=df['TypeB_before'],value=0,alternative='larger'))\n",
    "\n"
   ]
  },
  {
   "cell_type": "markdown",
   "metadata": {},
   "source": [
    "### 대응표본 T-test"
   ]
  },
  {
   "cell_type": "code",
   "execution_count": 27,
   "metadata": {},
   "outputs": [
    {
     "data": {
      "text/plain": [
       "TtestResult(statistic=-1.221439914972903, pvalue=0.22776376448687602, df=49)"
      ]
     },
     "execution_count": 27,
     "metadata": {},
     "output_type": "execute_result"
    }
   ],
   "source": [
    "# 대응표본 t 검정 수행\n",
    "\n",
    "scipy.stats.ttest_rel(df['TypeA_before'],df['TypeA_after'])\n"
   ]
  },
  {
   "cell_type": "markdown",
   "metadata": {},
   "source": [
    "### 독립표본 T-test검정"
   ]
  },
  {
   "cell_type": "code",
   "execution_count": 28,
   "metadata": {},
   "outputs": [
    {
     "data": {
      "text/plain": [
       "TtestResult(statistic=-2.789495974658115, pvalue=0.0063642243501398285, df=96.23536968302767)"
      ]
     },
     "execution_count": 28,
     "metadata": {},
     "output_type": "execute_result"
    }
   ],
   "source": [
    "# 독립표본 T-test검정\n",
    "\n",
    "ttest_ind(df['TypeA_before'],df['TypeB_before'],equal_var=False)"
   ]
  },
  {
   "cell_type": "markdown",
   "metadata": {},
   "source": [
    "## ANOVA\n",
    "> 세 집단 이상의 평균을 검정할 때 사용\n",
    "> F분포를 사용함. F검정의 통곗값은 집단간 분산의 비율을 나타내기 때문에 분산분석이라 부름\n",
    "\n",
    "#### 분산분석의 결과를 바탕으로 사후검증 실시 \n",
    "1. Turkey의 HSD 검증 (집단의 수가 같을 때)\n",
    "2. Scheffe 검증 (집단의 수가 다를 때)\n",
    "### ANOVA 실습\n"
   ]
  },
  {
   "cell_type": "code",
   "execution_count": 30,
   "metadata": {},
   "outputs": [],
   "source": [
    "## 필요한 패키지 가져오기\n",
    "from statsmodels.formula.api import ols\n",
    "from statsmodels.stats.anova import anova_lm\n",
    "from statsmodels.stats.multicomp import pairwise_tukeyhsd\n",
    "import scipy.stats as stats\n",
    "from scipy.stats import ttest_ind\n",
    "import pandas as pd"
   ]
  },
  {
   "cell_type": "markdown",
   "metadata": {},
   "source": [
    "### 데이터 불러오기 및 확인"
   ]
  },
  {
   "cell_type": "code",
   "execution_count": 31,
   "metadata": {},
   "outputs": [
    {
     "data": {
      "text/html": [
       "<div>\n",
       "<style scoped>\n",
       "    .dataframe tbody tr th:only-of-type {\n",
       "        vertical-align: middle;\n",
       "    }\n",
       "\n",
       "    .dataframe tbody tr th {\n",
       "        vertical-align: top;\n",
       "    }\n",
       "\n",
       "    .dataframe thead th {\n",
       "        text-align: right;\n",
       "    }\n",
       "</style>\n",
       "<table border=\"1\" class=\"dataframe\">\n",
       "  <thead>\n",
       "    <tr style=\"text-align: right;\">\n",
       "      <th></th>\n",
       "      <th>TypeA_before</th>\n",
       "      <th>TypeA_after</th>\n",
       "      <th>TypeB_before</th>\n",
       "      <th>TypeB_after</th>\n",
       "      <th>TypeC_before</th>\n",
       "      <th>TypeC_after</th>\n",
       "    </tr>\n",
       "  </thead>\n",
       "  <tbody>\n",
       "    <tr>\n",
       "      <th>0</th>\n",
       "      <td>277</td>\n",
       "      <td>264</td>\n",
       "      <td>265</td>\n",
       "      <td>268</td>\n",
       "      <td>267</td>\n",
       "      <td>268</td>\n",
       "    </tr>\n",
       "    <tr>\n",
       "      <th>1</th>\n",
       "      <td>269</td>\n",
       "      <td>261</td>\n",
       "      <td>264</td>\n",
       "      <td>267</td>\n",
       "      <td>264</td>\n",
       "      <td>269</td>\n",
       "    </tr>\n",
       "    <tr>\n",
       "      <th>2</th>\n",
       "      <td>263</td>\n",
       "      <td>267</td>\n",
       "      <td>269</td>\n",
       "      <td>272</td>\n",
       "      <td>283</td>\n",
       "      <td>283</td>\n",
       "    </tr>\n",
       "    <tr>\n",
       "      <th>3</th>\n",
       "      <td>266</td>\n",
       "      <td>272</td>\n",
       "      <td>274</td>\n",
       "      <td>277</td>\n",
       "      <td>287</td>\n",
       "      <td>266</td>\n",
       "    </tr>\n",
       "    <tr>\n",
       "      <th>4</th>\n",
       "      <td>262</td>\n",
       "      <td>258</td>\n",
       "      <td>261</td>\n",
       "      <td>264</td>\n",
       "      <td>275</td>\n",
       "      <td>266</td>\n",
       "    </tr>\n",
       "  </tbody>\n",
       "</table>\n",
       "</div>"
      ],
      "text/plain": [
       "   TypeA_before  TypeA_after  ...  TypeC_before  TypeC_after\n",
       "0           277          264  ...           267          268\n",
       "1           269          261  ...           264          269\n",
       "2           263          267  ...           283          283\n",
       "3           266          272  ...           287          266\n",
       "4           262          258  ...           275          266\n",
       "\n",
       "[5 rows x 6 columns]"
      ]
     },
     "execution_count": 31,
     "metadata": {},
     "output_type": "execute_result"
    }
   ],
   "source": [
    "# 데이터 불러오기\n",
    "df = pd.read_csv('Golf_test.csv')\n",
    "\n",
    "df.head()"
   ]
  },
  {
   "cell_type": "markdown",
   "metadata": {},
   "source": [
    "### stats 패키지로 anova 검정\n"
   ]
  },
  {
   "cell_type": "code",
   "execution_count": 32,
   "metadata": {},
   "outputs": [
    {
     "name": "stdout",
     "output_type": "stream",
     "text": [
      "일원분산분석 결과 : F = 4.22016943303009, p-value = 0.01651542019190324\n"
     ]
    }
   ],
   "source": [
    "# stats 패키지로 anova 검정\n",
    "\n",
    "F_statistic, pval = stats.f_oneway(df['TypeA_before'],\n",
    "                                   df['TypeB_before'],\n",
    "                                   df['TypeC_before'])\n",
    "\n",
    "print(f'일원분산분석 결과 : F = {F_statistic}, p-value = {pval}')"
   ]
  },
  {
   "cell_type": "markdown",
   "metadata": {},
   "source": [
    "### ols 패키지 ANOVA 검정을 위한 데이터 재구조화"
   ]
  },
  {
   "cell_type": "code",
   "execution_count": 37,
   "metadata": {},
   "outputs": [
    {
     "data": {
      "text/html": [
       "<div>\n",
       "<style scoped>\n",
       "    .dataframe tbody tr th:only-of-type {\n",
       "        vertical-align: middle;\n",
       "    }\n",
       "\n",
       "    .dataframe tbody tr th {\n",
       "        vertical-align: top;\n",
       "    }\n",
       "\n",
       "    .dataframe thead th {\n",
       "        text-align: right;\n",
       "    }\n",
       "</style>\n",
       "<table border=\"1\" class=\"dataframe\">\n",
       "  <thead>\n",
       "    <tr style=\"text-align: right;\">\n",
       "      <th></th>\n",
       "      <th>variable</th>\n",
       "      <th>value</th>\n",
       "    </tr>\n",
       "  </thead>\n",
       "  <tbody>\n",
       "    <tr>\n",
       "      <th>0</th>\n",
       "      <td>TypeA_before</td>\n",
       "      <td>277</td>\n",
       "    </tr>\n",
       "    <tr>\n",
       "      <th>1</th>\n",
       "      <td>TypeA_before</td>\n",
       "      <td>269</td>\n",
       "    </tr>\n",
       "    <tr>\n",
       "      <th>2</th>\n",
       "      <td>TypeA_before</td>\n",
       "      <td>263</td>\n",
       "    </tr>\n",
       "    <tr>\n",
       "      <th>3</th>\n",
       "      <td>TypeA_before</td>\n",
       "      <td>266</td>\n",
       "    </tr>\n",
       "    <tr>\n",
       "      <th>4</th>\n",
       "      <td>TypeA_before</td>\n",
       "      <td>262</td>\n",
       "    </tr>\n",
       "  </tbody>\n",
       "</table>\n",
       "</div>"
      ],
      "text/plain": [
       "       variable  value\n",
       "0  TypeA_before    277\n",
       "1  TypeA_before    269\n",
       "2  TypeA_before    263\n",
       "3  TypeA_before    266\n",
       "4  TypeA_before    262"
      ]
     },
     "execution_count": 37,
     "metadata": {},
     "output_type": "execute_result"
    }
   ],
   "source": [
    "## 데이터 재구조화\n",
    "df2 = pd.melt(df)\n",
    "\n",
    "df2 = df2.loc[(df2['variable']=='TypeA_before')|(df2['variable']=='TypeB_before')|(df2['variable']=='TypeC_before'),:]\n",
    "df2.head()"
   ]
  },
  {
   "cell_type": "markdown",
   "metadata": {},
   "source": [
    "### ols 패키지로 ANOVA 검정"
   ]
  },
  {
   "cell_type": "code",
   "execution_count": 39,
   "metadata": {},
   "outputs": [
    {
     "name": "stdout",
     "output_type": "stream",
     "text": [
      "                df        sum_sq     mean_sq         F    PR(>F)\n",
      "C(variable)    2.0    675.453333  337.726667  4.220169  0.016515\n",
      "Residual     147.0  11763.940000   80.026803       NaN       NaN\n"
     ]
    }
   ],
   "source": [
    "# ols 패키지 아노바 검정\n",
    "\n",
    "model = ols('value~ C(variable)',df2).fit()\n",
    "print(anova_lm(model))"
   ]
  },
  {
   "cell_type": "markdown",
   "metadata": {},
   "source": [
    "### 사후검정 수행"
   ]
  },
  {
   "cell_type": "code",
   "execution_count": 41,
   "metadata": {},
   "outputs": [
    {
     "name": "stdout",
     "output_type": "stream",
     "text": [
      "      Multiple Comparison of Means - Tukey HSD, FWER=0.05      \n",
      "===============================================================\n",
      "   group1       group2    meandiff p-adj   lower  upper  reject\n",
      "---------------------------------------------------------------\n",
      "TypeA_before TypeB_before     5.14 0.0129  0.9038 9.3762   True\n",
      "TypeA_before TypeC_before      1.9 0.5392 -2.3362 6.1362  False\n",
      "TypeB_before TypeC_before    -3.24 0.1696 -7.4762 0.9962  False\n",
      "---------------------------------------------------------------\n"
     ]
    },
    {
     "data": {
      "image/png": "[encoded data removed]",
      "text/plain": [
       "<Figure size 1000x600 with 1 Axes>"
      ]
     },
     "metadata": {},
     "output_type": "display_data"
    }
   ],
   "source": [
    "# 사후검정\n",
    "posthoc = pairwise_tukeyhsd(df2['value'],\n",
    "                            df2['variable'],\n",
    "                            alpha = 0.05)\n",
    "\n",
    "print(posthoc)\n",
    "fig = posthoc.plot_simultaneous()"
   ]
  },
  {
   "cell_type": "markdown",
   "metadata": {},
   "source": [
    "유의미한 차이가 있음"
   ]
  },
  {
   "cell_type": "markdown",
   "metadata": {},
   "source": [
    "## 카이제곱 검정(교차분석)\n",
    "> 카이제곱 검정은 교차분석이라고도 불림. \n",
    "\n",
    "> 범주형 변수들 간의 연관성을 분석하기 위해 결합분포를 사용\n",
    "\n",
    "> 각각의 빈도와 비율을 통해 변수 상호 간의 독립성과 관련성을 분석\n"
   ]
  },
  {
   "cell_type": "code",
   "execution_count": 44,
   "metadata": {},
   "outputs": [
    {
     "data": {
      "text/html": [
       "<div>\n",
       "<style scoped>\n",
       "    .dataframe tbody tr th:only-of-type {\n",
       "        vertical-align: middle;\n",
       "    }\n",
       "\n",
       "    .dataframe tbody tr th {\n",
       "        vertical-align: top;\n",
       "    }\n",
       "\n",
       "    .dataframe thead th {\n",
       "        text-align: right;\n",
       "    }\n",
       "</style>\n",
       "<table border=\"1\" class=\"dataframe\">\n",
       "  <thead>\n",
       "    <tr style=\"text-align: right;\">\n",
       "      <th></th>\n",
       "      <th>sex</th>\n",
       "      <th>smoke</th>\n",
       "    </tr>\n",
       "  </thead>\n",
       "  <tbody>\n",
       "    <tr>\n",
       "      <th>0</th>\n",
       "      <td>male</td>\n",
       "      <td>Non-Smoker</td>\n",
       "    </tr>\n",
       "    <tr>\n",
       "      <th>1</th>\n",
       "      <td>male</td>\n",
       "      <td>Smoker</td>\n",
       "    </tr>\n",
       "    <tr>\n",
       "      <th>2</th>\n",
       "      <td>male</td>\n",
       "      <td>Non-Smoker</td>\n",
       "    </tr>\n",
       "    <tr>\n",
       "      <th>3</th>\n",
       "      <td>male</td>\n",
       "      <td>Smoker</td>\n",
       "    </tr>\n",
       "    <tr>\n",
       "      <th>4</th>\n",
       "      <td>male</td>\n",
       "      <td>Non-Smoker</td>\n",
       "    </tr>\n",
       "  </tbody>\n",
       "</table>\n",
       "</div>"
      ],
      "text/plain": [
       "    sex       smoke\n",
       "0  male  Non-Smoker\n",
       "1  male      Smoker\n",
       "2  male  Non-Smoker\n",
       "3  male      Smoker\n",
       "4  male  Non-Smoker"
      ]
     },
     "execution_count": 44,
     "metadata": {},
     "output_type": "execute_result"
    }
   ],
   "source": [
    "# 필요한 패키지 \n",
    "import scipy.stats\n",
    "from scipy.stats import chi2_contingency\n",
    "import pandas as pd\n",
    "import matplotlib.pyplot as plt\n",
    "\n",
    "# 데이터 \n",
    "df = pd.read_csv('smoker.csv')\n",
    "\n",
    "df.head()\n"
   ]
  },
  {
   "cell_type": "markdown",
   "metadata": {},
   "source": [
    "### 성별, 흡연여부 집계\n"
   ]
  },
  {
   "cell_type": "code",
   "execution_count": 47,
   "metadata": {},
   "outputs": [
    {
     "data": {
      "text/plain": [
       "sex     smoke     \n",
       "female  Non-Smoker    50\n",
       "        Smoker        12\n",
       "male    Non-Smoker    40\n",
       "        Smoker        29\n",
       "Name: smoke, dtype: int64"
      ]
     },
     "execution_count": 47,
     "metadata": {},
     "output_type": "execute_result"
    }
   ],
   "source": [
    "# 항모별 집계\n",
    "df.groupby(['sex','smoke'])['smoke'].count()"
   ]
  },
  {
   "cell_type": "markdown",
   "metadata": {},
   "source": [
    "### 카이제곱 검정용 데이터셋 가공\n"
   ]
  },
  {
   "cell_type": "code",
   "execution_count": 50,
   "metadata": {},
   "outputs": [
    {
     "data": {
      "text/html": [
       "<div>\n",
       "<style scoped>\n",
       "    .dataframe tbody tr th:only-of-type {\n",
       "        vertical-align: middle;\n",
       "    }\n",
       "\n",
       "    .dataframe tbody tr th {\n",
       "        vertical-align: top;\n",
       "    }\n",
       "\n",
       "    .dataframe thead th {\n",
       "        text-align: right;\n",
       "    }\n",
       "</style>\n",
       "<table border=\"1\" class=\"dataframe\">\n",
       "  <thead>\n",
       "    <tr style=\"text-align: right;\">\n",
       "      <th>smoke</th>\n",
       "      <th>Non-Smoker</th>\n",
       "      <th>Smoker</th>\n",
       "    </tr>\n",
       "    <tr>\n",
       "      <th>sex</th>\n",
       "      <th></th>\n",
       "      <th></th>\n",
       "    </tr>\n",
       "  </thead>\n",
       "  <tbody>\n",
       "    <tr>\n",
       "      <th>female</th>\n",
       "      <td>50</td>\n",
       "      <td>12</td>\n",
       "    </tr>\n",
       "    <tr>\n",
       "      <th>male</th>\n",
       "      <td>40</td>\n",
       "      <td>29</td>\n",
       "    </tr>\n",
       "  </tbody>\n",
       "</table>\n",
       "</div>"
      ],
      "text/plain": [
       "smoke   Non-Smoker  Smoker\n",
       "sex                       \n",
       "female          50      12\n",
       "male            40      29"
      ]
     },
     "execution_count": 50,
     "metadata": {},
     "output_type": "execute_result"
    }
   ],
   "source": [
    "## 카이제곱 검정용 데이터셋 가공\n",
    "\n",
    "crosstab = pd.crosstab(df.sex,df.smoke)\n",
    "crosstab"
   ]
  },
  {
   "cell_type": "markdown",
   "metadata": {},
   "source": [
    "### 성별 흡연자 수 시각화"
   ]
  },
  {
   "cell_type": "code",
   "execution_count": 51,
   "metadata": {},
   "outputs": [
    {
     "data": {
      "image/png": "[encoded data removed]",
      "text/plain": [
       "<Figure size 1000x500 with 1 Axes>"
      ]
     },
     "metadata": {},
     "output_type": "display_data"
    }
   ],
   "source": [
    "# 성별 흡연자 수 시각화\n",
    "\n",
    "%matplotlib inline\n",
    "crosstab.plot(kind='bar',figsize=(10,5))\n",
    "plt.grid()"
   ]
  },
  {
   "cell_type": "markdown",
   "metadata": {},
   "source": [
    "### 카이제곱 검정 수행\n"
   ]
  },
  {
   "cell_type": "code",
   "execution_count": 53,
   "metadata": {},
   "outputs": [
    {
     "name": "stdout",
     "output_type": "stream",
     "text": [
      "chi square: 7.8081404703715105\n",
      "p-value: 0.005201139711454792\n"
     ]
    }
   ],
   "source": [
    "# 카이제곱 검정\n",
    "chiresult = chi2_contingency(crosstab,correction=False)\n",
    "print(f'chi square: {chiresult[0]}')\n",
    "print(f'p-value: {chiresult[1]}')"
   ]
  },
  {
   "cell_type": "code",
   "execution_count": null,
   "metadata": {},
   "outputs": [],
   "source": []
  }
 ],
 "metadata": {
  "kernelspec": {
   "display_name": "Python 3",
   "language": "python",
   "name": "python3"
  },
  "language_info": {
   "codemirror_mode": {
    "name": "ipython",
    "version": 3
   },
   "file_extension": ".py",
   "mimetype": "text/x-python",
   "name": "python",
   "nbconvert_exporter": "python",
   "pygments_lexer": "ipython3",
   "version": "3.9.13"
  },
  "orig_nbformat": 4
 },
 "nbformat": 4,
 "nbformat_minor": 2
}
