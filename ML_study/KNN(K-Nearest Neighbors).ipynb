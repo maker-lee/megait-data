{
 "cells": [
  {
   "cell_type": "markdown",
   "id": "ec12b6c2",
   "metadata": {},
   "source": [
    "# KNN (분류,예측 모델)"
   ]
  },
  {
   "cell_type": "markdown",
   "id": "8e7b0476",
   "metadata": {},
   "source": [
    "근접한 학습 데이터로 분류를 하는 것이 KNN 모델이며 분포가 편향되어 있을 경우 예측 데이터들의 관측치들이 빈도 높은 범주로 강하게 쏠리는 단점이 있다. -> K를 잘 설정해줘야 하는데, 동률의 범주가 생겨 분류를 할 수 없는 생황을 방지하기 위해 홀수로 K를 지정한다. k가 크면 전체 범주의 분포의 영향을 많이 받고, k가 너무 작으면 이상치의 영향을 많이 받고 패터니 직관적이지 못하다. "
   ]
  },
  {
   "cell_type": "markdown",
   "id": "4078f959",
   "metadata": {},
   "source": []
  },
  {
   "cell_type": "code",
   "execution_count": 17,
   "id": "e9a5388c",
   "metadata": {},
   "outputs": [],
   "source": [
    "# 필요한 패키지 설치\n",
    "import mglearn\n",
    "from sklearn.preprocessing import MinMaxScaler\n",
    "from sklearn.model_selection import train_test_split\n",
    "from sklearn.neighbors import KNeighborsClassifier\n",
    "from sklearn.decomposition import PCA\n",
    "from matplotlib.colors import ListedColormap\n",
    "import matplotlib.pyplot as plt\n",
    "import pandas as pd\n",
    "\n",
    "# 에러 안보이게할래\n",
    "import warnings\n",
    "warnings.filterwarnings('ignore')"
   ]
  },
  {
   "cell_type": "code",
   "execution_count": 18,
   "id": "ed4928b9",
   "metadata": {},
   "outputs": [
    {
     "data": {
      "text/html": [
       "<div>\n",
       "<style scoped>\n",
       "    .dataframe tbody tr th:only-of-type {\n",
       "        vertical-align: middle;\n",
       "    }\n",
       "\n",
       "    .dataframe tbody tr th {\n",
       "        vertical-align: top;\n",
       "    }\n",
       "\n",
       "    .dataframe thead th {\n",
       "        text-align: right;\n",
       "    }\n",
       "</style>\n",
       "<table border=\"1\" class=\"dataframe\">\n",
       "  <thead>\n",
       "    <tr style=\"text-align: right;\">\n",
       "      <th></th>\n",
       "      <th>Area</th>\n",
       "      <th>MajorAxisLength</th>\n",
       "      <th>MinorAxisLength</th>\n",
       "      <th>Eccentricity</th>\n",
       "      <th>ConvexArea</th>\n",
       "      <th>Extent</th>\n",
       "      <th>Perimeter</th>\n",
       "      <th>Class</th>\n",
       "    </tr>\n",
       "  </thead>\n",
       "  <tbody>\n",
       "    <tr>\n",
       "      <th>0</th>\n",
       "      <td>87524</td>\n",
       "      <td>442.246011</td>\n",
       "      <td>253.291155</td>\n",
       "      <td>0.819738</td>\n",
       "      <td>90546</td>\n",
       "      <td>0.758651</td>\n",
       "      <td>1184.040</td>\n",
       "      <td>Kecimen</td>\n",
       "    </tr>\n",
       "    <tr>\n",
       "      <th>1</th>\n",
       "      <td>75166</td>\n",
       "      <td>406.690687</td>\n",
       "      <td>243.032436</td>\n",
       "      <td>0.801805</td>\n",
       "      <td>78789</td>\n",
       "      <td>0.684130</td>\n",
       "      <td>1121.786</td>\n",
       "      <td>Kecimen</td>\n",
       "    </tr>\n",
       "    <tr>\n",
       "      <th>2</th>\n",
       "      <td>90856</td>\n",
       "      <td>442.267048</td>\n",
       "      <td>266.328318</td>\n",
       "      <td>0.798354</td>\n",
       "      <td>93717</td>\n",
       "      <td>0.637613</td>\n",
       "      <td>1208.575</td>\n",
       "      <td>Kecimen</td>\n",
       "    </tr>\n",
       "    <tr>\n",
       "      <th>3</th>\n",
       "      <td>45928</td>\n",
       "      <td>286.540559</td>\n",
       "      <td>208.760042</td>\n",
       "      <td>0.684989</td>\n",
       "      <td>47336</td>\n",
       "      <td>0.699599</td>\n",
       "      <td>844.162</td>\n",
       "      <td>Kecimen</td>\n",
       "    </tr>\n",
       "    <tr>\n",
       "      <th>4</th>\n",
       "      <td>79408</td>\n",
       "      <td>352.190770</td>\n",
       "      <td>290.827533</td>\n",
       "      <td>0.564011</td>\n",
       "      <td>81463</td>\n",
       "      <td>0.792772</td>\n",
       "      <td>1073.251</td>\n",
       "      <td>Kecimen</td>\n",
       "    </tr>\n",
       "  </tbody>\n",
       "</table>\n",
       "</div>"
      ],
      "text/plain": [
       "    Area  MajorAxisLength  MinorAxisLength  Eccentricity  ConvexArea  \\\n",
       "0  87524       442.246011       253.291155      0.819738       90546   \n",
       "1  75166       406.690687       243.032436      0.801805       78789   \n",
       "2  90856       442.267048       266.328318      0.798354       93717   \n",
       "3  45928       286.540559       208.760042      0.684989       47336   \n",
       "4  79408       352.190770       290.827533      0.564011       81463   \n",
       "\n",
       "     Extent  Perimeter    Class  \n",
       "0  0.758651   1184.040  Kecimen  \n",
       "1  0.684130   1121.786  Kecimen  \n",
       "2  0.637613   1208.575  Kecimen  \n",
       "3  0.699599    844.162  Kecimen  \n",
       "4  0.792772   1073.251  Kecimen  "
      ]
     },
     "execution_count": 18,
     "metadata": {},
     "output_type": "execute_result"
    }
   ],
   "source": [
    "# 데이터 불러오기\n",
    "# https://www.kaggle.com/datasets/muratkokludataset/raisin-dataset\n",
    "df = pd.read_excel(\"datasets/Raisin_Dataset.xlsx\")\n",
    "\n",
    "# 데이터 샘플 확인\n",
    "df.head()"
   ]
  },
  {
   "cell_type": "code",
   "execution_count": 19,
   "id": "85bf3cf8",
   "metadata": {},
   "outputs": [
    {
     "name": "stdout",
     "output_type": "stream",
     "text": [
      "train data 개수:  540\n",
      "test data 개수:  360\n"
     ]
    }
   ],
   "source": [
    "# 독립변수와 종속변수 분리하여 생성\n",
    "x = df.drop(['Area','Class'], axis='columns')\n",
    "y = df[['Class']]\n",
    "\n",
    "# 독립변수 데이터 정규화 적용\n",
    "MinMaxScaler = MinMaxScaler()\n",
    "df_minmax = MinMaxScaler.fit_transform(x)\n",
    "\n",
    "# 컬럼명 결합\n",
    "x = pd.DataFrame(data=df_minmax, columns=x.columns)\n",
    "\n",
    "# 학습셋, 테스트셋 분 \n",
    "x_train, x_test, y_train, y_test = train_test_split(x, y, train_size=0.6, test_size=0.4)\n",
    "\n",
    "print('train data 개수: ', len(x_train))\n",
    "print('test data 개수: ', len(x_test))"
   ]
  },
  {
   "cell_type": "code",
   "execution_count": 20,
   "id": "2d3b98a0",
   "metadata": {},
   "outputs": [
    {
     "name": "stdout",
     "output_type": "stream",
     "text": [
      "0.9111111111111111\n",
      "0.8388888888888889\n"
     ]
    }
   ],
   "source": [
    "# 기본 K-nn 모델 생성 및 적용\n",
    "classifier = KNeighborsClassifier(n_neighbors = 3, \n",
    "                                  weights='uniform', \n",
    "                                  metric=\"minkowski\")\n",
    "# uniform은 이웃한 관측치와의 거리에 가중치를 주지 않는 옵션\n",
    "# metric은 거리측정 방식 옵션으로 기본값은 민코프스키 그외 유클리드, 마할라노비스 등 \n",
    "classifier.fit(x_train, y_train)\n",
    "\n",
    "# K-nn 모델 정확도 출력\n",
    "print(classifier.score(x_train, y_train))\n",
    "print(classifier.score(x_test, y_test))"
   ]
  },
  {
   "cell_type": "markdown",
   "id": "5adbf243",
   "metadata": {},
   "source": [
    "# 최적의 k구하기\n",
    "\n",
    "교차검증을 하여 오분류율이 가장 낮아지는 k수를 탐색한다. "
   ]
  },
  {
   "cell_type": "markdown",
   "id": "18397db9",
   "metadata": {},
   "source": [
    "### 1. 거리 가중치 미적용"
   ]
  },
  {
   "cell_type": "code",
   "execution_count": 21,
   "id": "70035a94",
   "metadata": {},
   "outputs": [
    {
     "data": {
      "image/png": "[encoded data removed]",
      "text/plain": [
       "<Figure size 432x288 with 1 Axes>"
      ]
     },
     "metadata": {
      "needs_background": "light"
     },
     "output_type": "display_data"
    }
   ],
   "source": [
    "k_num = range(1,31)\n",
    "\n",
    "accuracies = []\n",
    "for k in k_num:\n",
    "    k_num_model_1 = KNeighborsClassifier(n_neighbors = k, weights='uniform')\n",
    "\n",
    "    k_num_model_1.fit(x_train, y_train)\n",
    "    accuracies.append(1 - k_num_model_1.score(x_test, y_test))\n",
    "\n",
    "# 그래프 옵션 설정\n",
    "plt.plot(k_num, accuracies, 'o--', color = 'orange')\n",
    "plt.xlabel(\"k\")\n",
    "plt.ylabel(\"Misclassification Rate\")\n",
    "plt.ylim(0.14, 0.22)\n",
    "plt.show()"
   ]
  },
  {
   "cell_type": "markdown",
   "id": "b81df00d",
   "metadata": {},
   "source": [
    "KNN 모델의 오분류율 시각화 - 6개로 설정"
   ]
  },
  {
   "cell_type": "markdown",
   "id": "c740a76c",
   "metadata": {},
   "source": [
    "### 2. 거리 가중치 적용 (1~30)"
   ]
  },
  {
   "cell_type": "code",
   "execution_count": 22,
   "id": "72ba2a71",
   "metadata": {},
   "outputs": [
    {
     "data": {
      "image/png": "[encoded data removed]",
      "text/plain": [
       "<Figure size 432x288 with 1 Axes>"
      ]
     },
     "metadata": {
      "needs_background": "light"
     },
     "output_type": "display_data"
    }
   ],
   "source": [
    "k_num = range(1,31)\n",
    "accuracies = []\n",
    "for k in k_num:\n",
    "  k_num_model_2 = KNeighborsClassifier(n_neighbors = k, weights='distance')\n",
    "  k_num_model_2.fit(x_train, y_train)\n",
    "  accuracies.append(1 - k_num_model_2.score(x_test, y_test))\n",
    "\n",
    "# 그래프 옵션 설정\n",
    "plt.plot(k_num, accuracies, 'o--', color = 'orange')\n",
    "plt.xlabel(\"k\")\n",
    "plt.ylabel(\"Misclassification Rate\")\n",
    "plt.ylim(0.14, 0.22)\n",
    "plt.show()"
   ]
  },
  {
   "cell_type": "markdown",
   "id": "c0671f27",
   "metadata": {},
   "source": [
    "KNN 모델의 오분류율 시각화 -> 가중치를 적용한 것이 오분류율 감소. 변동성도 약해짐. "
   ]
  },
  {
   "cell_type": "markdown",
   "id": "f4bfd13c",
   "metadata": {},
   "source": [
    "### 3. 거리 가중치 적용 (1~200)"
   ]
  },
  {
   "cell_type": "code",
   "execution_count": 23,
   "id": "83153fcf",
   "metadata": {},
   "outputs": [
    {
     "data": {
      "image/png": "[encoded data removed]",
      "text/plain": [
       "<Figure size 432x288 with 1 Axes>"
      ]
     },
     "metadata": {
      "needs_background": "light"
     },
     "output_type": "display_data"
    }
   ],
   "source": [
    "# 이웃 k 수 1 ~ 200까지 엘보우차트 시각화 (거리 가중치 적용)\n",
    "\n",
    "# k 수 범위 지정\n",
    "k_num = range(1,201)\n",
    "\n",
    "accuracies = []\n",
    "for k in k_num:\n",
    "    k_num_model_2 = KNeighborsClassifier(n_neighbors = k, weights='distance')\n",
    "    k_num_model_2.fit(x_train, y_train)\n",
    "    accuracies.append(1 - k_num_model_2.score(x_test, y_test))\n",
    "\n",
    "# 그래프 옵션 설정\n",
    "plt.plot(k_num, accuracies, '--', color = 'orange')\n",
    "plt.xlabel(\"k\")\n",
    "plt.ylabel(\"Misclassification Rate\")\n",
    "plt.ylim(0.13, 0.17)\n",
    "plt.show()"
   ]
  },
  {
   "cell_type": "markdown",
   "id": "b80d57a5",
   "metadata": {},
   "source": [
    "50과 125기점으로 줄었다가 다시 늘어남"
   ]
  },
  {
   "cell_type": "markdown",
   "id": "f1156bf9",
   "metadata": {},
   "source": [
    "### 1. 결정경계선 시각화를 위한 차원축소"
   ]
  },
  {
   "cell_type": "code",
   "execution_count": 26,
   "id": "8bbba2f1",
   "metadata": {},
   "outputs": [
    {
     "data": {
      "text/html": [
       "<div>\n",
       "<style scoped>\n",
       "    .dataframe tbody tr th:only-of-type {\n",
       "        vertical-align: middle;\n",
       "    }\n",
       "\n",
       "    .dataframe tbody tr th {\n",
       "        vertical-align: top;\n",
       "    }\n",
       "\n",
       "    .dataframe thead th {\n",
       "        text-align: right;\n",
       "    }\n",
       "</style>\n",
       "<table border=\"1\" class=\"dataframe\">\n",
       "  <thead>\n",
       "    <tr style=\"text-align: right;\">\n",
       "      <th></th>\n",
       "      <th>C1</th>\n",
       "      <th>C2</th>\n",
       "    </tr>\n",
       "  </thead>\n",
       "  <tbody>\n",
       "    <tr>\n",
       "      <th>0</th>\n",
       "      <td>-0.035160</td>\n",
       "      <td>0.002868</td>\n",
       "    </tr>\n",
       "    <tr>\n",
       "      <th>1</th>\n",
       "      <td>-0.269323</td>\n",
       "      <td>-0.268726</td>\n",
       "    </tr>\n",
       "    <tr>\n",
       "      <th>2</th>\n",
       "      <td>-0.164437</td>\n",
       "      <td>0.031820</td>\n",
       "    </tr>\n",
       "    <tr>\n",
       "      <th>3</th>\n",
       "      <td>0.029113</td>\n",
       "      <td>-0.251697</td>\n",
       "    </tr>\n",
       "    <tr>\n",
       "      <th>4</th>\n",
       "      <td>-0.173345</td>\n",
       "      <td>-0.153835</td>\n",
       "    </tr>\n",
       "  </tbody>\n",
       "</table>\n",
       "</div>"
      ],
      "text/plain": [
       "         C1        C2\n",
       "0 -0.035160  0.002868\n",
       "1 -0.269323 -0.268726\n",
       "2 -0.164437  0.031820\n",
       "3  0.029113 -0.251697\n",
       "4 -0.173345 -0.153835"
      ]
     },
     "execution_count": 26,
     "metadata": {},
     "output_type": "execute_result"
    }
   ],
   "source": [
    "# 주성분 개수 설정(2개 설정)\n",
    "pca = PCA(n_components=2) \n",
    "df_pca = pca.fit_transform(x_test)\n",
    "\n",
    "# 주성분으로 변형된 테이블 생성\n",
    "df_pca = pd.DataFrame(data=df_pca, columns = ['C1','C2'])\n",
    "\n",
    "df_pca.head()"
   ]
  },
  {
   "cell_type": "markdown",
   "id": "51a0b8ba",
   "metadata": {},
   "source": [
    "### 2. 결정 경계선(decision boundary) 시각화 확인"
   ]
  },
  {
   "cell_type": "code",
   "execution_count": 27,
   "id": "01d0bcf4",
   "metadata": {},
   "outputs": [
    {
     "data": {
      "text/plain": [
       "<matplotlib.legend.Legend at 0x1d4915a6950>"
      ]
     },
     "execution_count": 27,
     "metadata": {},
     "output_type": "execute_result"
    },
    {
     "data": {
      "image/png": "[encoded data removed]",
      "text/plain": [
       "<Figure size 1080x360 with 3 Axes>"
      ]
     },
     "metadata": {},
     "output_type": "display_data"
    }
   ],
   "source": [
    "# 독립변수, 종속변수 전처리\n",
    "df_vsl_x = df_pca.to_numpy()\n",
    "df_vsl_y = y_test['Class'].to_numpy()\n",
    "\n",
    "# 그래프 설정\n",
    "cmap_bold = ListedColormap(['#FF0000', '#00FF00'])\n",
    "fig, axes = plt.subplots(1, 3, figsize=(15, 5))\n",
    "\n",
    "# 이웃 수 1, 5, 20에 따른 결정곙계 시각화\n",
    "for n_neighbors, ax in zip([1, 5, 20], axes):\n",
    "    k_num_model_eg = KNeighborsClassifier(\n",
    "        n_neighbors=n_neighbors).fit(df_vsl_x, df_vsl_y)\n",
    "    mglearn.plots.plot_2d_separator(k_num_model_eg, df_vsl_x, \n",
    "                                    fill=True, eps=0.5, ax=ax, alpha=.2)\n",
    "    mglearn.discrete_scatter(df_vsl_x[:, 0], df_vsl_x[:, 1], \n",
    "                             df_vsl_y, markeredgewidth=0.1, \n",
    "                             c=['b','r'], s=3, ax=ax)\n",
    "    ax.set_xlabel(\"component 1\")\n",
    "    ax.set_ylabel(\"component 2\")\n",
    "    ax.set_title(\"{} Neighbors\".format(n_neighbors))\n",
    "axes[0].legend(loc=3)"
   ]
  },
  {
   "cell_type": "markdown",
   "id": "e0482a5d",
   "metadata": {},
   "source": [
    "이웃수가 적정하게 늘어나면 학습셋의 디테일한 분류는 힘들어지지만 범용적인 모델이 되어 테스트셋의 정확도를 높여준다."
   ]
  }
 ],
 "metadata": {
  "kernelspec": {
   "display_name": "Python 3 (ipykernel)",
   "language": "python",
   "name": "python3"
  },
  "language_info": {
   "codemirror_mode": {
    "name": "ipython",
    "version": 3
   },
   "file_extension": ".py",
   "mimetype": "text/x-python",
   "name": "python",
   "nbconvert_exporter": "python",
   "pygments_lexer": "ipython3",
   "version": "3.10.5"
  }
 },
 "nbformat": 4,
 "nbformat_minor": 5
}
