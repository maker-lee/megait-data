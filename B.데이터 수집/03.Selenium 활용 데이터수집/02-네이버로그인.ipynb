{
 "cells": [
  {
   "attachments": {},
   "cell_type": "markdown",
   "metadata": {},
   "source": [
    "## Selenium 활용 데이터 수집 - 네이버 로그인"
   ]
  },
  {
   "attachments": {},
   "cell_type": "markdown",
   "metadata": {},
   "source": [
    "<셀리니움 파이썬 라이브러리>\n",
    "셀리니움은 request가 못하는것, 입력을 해야 페이지가 넘어가는걸(사용자의 마우스,키보드 조작), 사용자의 개입이 가능하게 한다. \n",
    "\n",
    "1) 특정 페이지 접속\n",
    "2) Element code 가져오기\n",
    "3) 특정 요소 input에 키보드 입력 보내기\n",
    "4) 특정 요소에 마우스 클릭하기 \n",
    "5) 자바스크립트 코드 강제 실행 -> 스크롤 발생"
   ]
  },
  {
   "cell_type": "code",
   "execution_count": 6,
   "metadata": {},
   "outputs": [],
   "source": [
    "import chromedriver_autoinstaller #ChromeDriver 자동 설치 모듈\n",
    "from selenium import webdriver # Chrome을 제어하기 위한 객체\n",
    "from selenium.webdriver.support.ui import WebDriverWait # Chrome이 웹페이지 로딩을 완료할 때까지 최대 n초간 대기하는 기능\n",
    "from bs4 import BeautifulSoup\n",
    "from pandas import DataFrame \n",
    "import time # 지정된 시간동안 파이썬에 렉을 거는 기능 \n",
    "from selenium.webdriver.common.by import By # 원하는 부분을 추출할 수 있는 방식을 지정하는 객체"
   ]
  },
  {
   "attachments": {},
   "cell_type": "markdown",
   "metadata": {},
   "source": [
    "### 크롬 브라우저 가동하기"
   ]
  },
  {
   "cell_type": "code",
   "execution_count": 7,
   "metadata": {},
   "outputs": [],
   "source": [
    "# 크롬 드라이버 자동 설치\n",
    "chromedriver_autoinstaller.install()\n",
    "\n",
    "# 크롬드라이버를 통해 크롬을 실행시킴\n",
    "driver = webdriver.Chrome() # driverㄴ 객체는 Chrome 자체 \n",
    "\n",
    "# 크롬 브라우저가 준비될 때까지 최대 5초씩 대기해라 \n",
    "driver.implicitly_wait(5)\n"
   ]
  },
  {
   "attachments": {},
   "cell_type": "markdown",
   "metadata": {},
   "source": [
    "크롬 브라우저의 페이지 이동"
   ]
  },
  {
   "cell_type": "code",
   "execution_count": 8,
   "metadata": {},
   "outputs": [],
   "source": [
    "# 네이버 로그인 페이지로 이동\n",
    "driver.get('https://nid.naver.com/nidlogin.login?mode=form&url=https://www.naver.com/')\n",
    "\n",
    "# 페이지 로딩이 완료될 때까지 1초간 대기 \n",
    "time.sleep(1)"
   ]
  },
  {
   "attachments": {},
   "cell_type": "markdown",
   "metadata": {},
   "source": [
    "아이디와 비밀번호 입력"
   ]
  },
  {
   "cell_type": "code",
   "execution_count": 9,
   "metadata": {},
   "outputs": [],
   "source": [
    "# 최대 3초까지 대기 하면서 id속성 값이 id인 요소를 찾아서 id_input에 저장\n",
    "# 람다식 : 웹드라이버는 크롬인데 크롬브라우저를 대기 시킨다 3초간, 그리고 until (while과 반대로 조건이 False인 경우에 반복한다. tag를 찾아라, 아이디 속성이 아이디인걸, 못찾으면 찾을 때까지 반복해라) 버튼 객체를 찾아서, 버튼을 클릭한다.\n",
    "# 네이버는 사람이 중간에 개입을 해줘야 로그인이 가능한데, 셀리니움은 화면을 보면서 할 수 있기 때문에 개입이 가능하다.\n",
    "\n",
    "\n",
    "# id_input에 키보드 입력을 전달한다\n",
    "id_input = WebDriverWait(driver,3).until(lambda x : x.find_element(By.CSS_SELECTOR,\"#id\"))\n",
    "id_input.send_keys('hare0529') # 아이디 \n",
    "\n",
    "# pw_input에 키보드 입력을 전달한다\n",
    "pw_input = WebDriverWait(driver,3).until(lambda x : x.find_element(By.CSS_SELECTOR,\"#pw\"))\n",
    "pw_input.send_keys('')\n",
    "\n",
    "# 같은 방식으로 버튼객체를 취득후 클릭\n",
    "login_button = WebDriverWait(driver,3).until(lambda x : x.find_element(By.CSS_SELECTOR,\".btn_login\"))\n",
    "login_button.click()\n",
    "\n",
    "# 로그인이 진행되는 3초간 대기\n",
    "time.sleep(3)\n"
   ]
  }
 ],
 "metadata": {
  "kernelspec": {
   "display_name": "Python 3",
   "language": "python",
   "name": "python3"
  },
  "language_info": {
   "codemirror_mode": {
    "name": "ipython",
    "version": 3
   },
   "file_extension": ".py",
   "mimetype": "text/x-python",
   "name": "python",
   "nbconvert_exporter": "python",
   "pygments_lexer": "ipython3",
   "version": "3.11.1"
  },
  "orig_nbformat": 4
 },
 "nbformat": 4,
 "nbformat_minor": 2
}
