{
 "cells": [
  {
   "attachments": {},
   "cell_type": "markdown",
   "metadata": {},
   "source": [
    "# '은혼' 이라는 키워드로 검색된 모든 책의 총 가격은 얼마인가? "
   ]
  },
  {
   "cell_type": "code",
   "execution_count": 7,
   "metadata": {},
   "outputs": [],
   "source": [
    "# 필요한 모듈 참조\n",
    "import requests\n",
    "import json\n",
    "from pandas import DataFrame"
   ]
  },
  {
   "cell_type": "code",
   "execution_count": 8,
   "metadata": {},
   "outputs": [],
   "source": [
    "# 접속할 URL\n",
    "urlFmt = \"https://dapi.kakao.com/v3/search/book?query={query}&page={page}&size={size}\""
   ]
  },
  {
   "cell_type": "code",
   "execution_count": 9,
   "metadata": {},
   "outputs": [],
   "source": [
    "# 요청변수\n",
    "query = \"은혼\"\n",
    "page = 1\n",
    "size = 50\n",
    "key = \"b636ff83df45f778874b079dcb979102\"\n",
    "\n"
   ]
  },
  {
   "cell_type": "code",
   "execution_count": 10,
   "metadata": {},
   "outputs": [],
   "source": [
    "# 접속 객체 생성\n",
    "session = requests.Session()\n",
    "\n",
    "# 접속객체에 부가정보(header) 삽입하기\n",
    "session.headers.update({\n",
    "    \"Authorization\": \"KakaoAK %s\" % key    # 인증키\n",
    "})"
   ]
  },
  {
   "cell_type": "code",
   "execution_count": 21,
   "metadata": {},
   "outputs": [
    {
     "name": "stdout",
     "output_type": "stream",
     "text": [
      "isEnd= False , 다음페이지= 2\n",
      "isEnd= False , 다음페이지= 3\n",
      "isEnd= False , 다음페이지= 4\n",
      "isEnd= False , 다음페이지= 5\n",
      "isEnd= False , 다음페이지= 6\n",
      "isEnd= False , 다음페이지= 7\n",
      "isEnd= False , 다음페이지= 8\n",
      "isEnd= True , 다음페이지= 9\n",
      "최종 검색 건수: 391\n"
     ]
    }
   ],
   "source": [
    "# 다음 페이지가 존재하는지 여부 --> False인 동안은 while문 반복\n",
    "isEnd = False\n",
    "\n",
    "# 반복 수행 도중 추출되는 검색결과 리스트를 결합할 빈 리스트 준비\n",
    "mylist = []\n",
    "\n",
    "# 1페이지부터 시작\n",
    "page = 1\n",
    "\n",
    "while (not isEnd):\n",
    "    #--------------------------------------------------------------\n",
    "    # 이전 예제 코드 시작\n",
    "    #--------------------------------------------------------------\n",
    "    # 접속할 URL\n",
    "    url = urlFmt.format(query=query, page=page, size=size)\n",
    "    url\n",
    "\n",
    "    # 생성한 접속객체를 활용하여 API에 접속\n",
    "    r = session.get(url)\n",
    "\n",
    "    # 접속에 실패한 경우\n",
    "    if r.status_code != 200:\n",
    "        # 에러코드와 에러메시지 출력\n",
    "        msg = \"[%d Error] %s 에러가 발생함\" % (r.status_code, r.reason)\n",
    "        # 에러를 강제로 생성시킴\n",
    "        raise Exception(msg)\n",
    "\n",
    "    # 인코딩 형식 지정\n",
    "    r.encoding = \"utf-8\"\n",
    "    # 가져온 문자열을 딕셔너리로 변환\n",
    "    data = json.loads(r.text)\n",
    "    #data\n",
    "    #--------------------------------------------------------------\n",
    "    # 이전 예제 코드 끝\n",
    "    #--------------------------------------------------------------\n",
    "\n",
    "    # 검색 결과를 갖고 있는 딕셔너리를 포함하는 리스트 추출\n",
    "    searchList = data['documents']\n",
    "\n",
    "    # 추출한 리스트를 미리 준비한 빈 리스트에 추가\n",
    "    mylist.extend(searchList)\n",
    "\n",
    "    # 증감식에 해당하는 isEnd변수 추출\n",
    "    isEnd = bool(data['meta']['is_end'])\n",
    "    page += 1\n",
    "    print(\"isEnd=\", isEnd, \", 다음페이지=\", page)\n",
    "\n",
    "print(\"최종 검색 건수: %d\" % len(mylist))"
   ]
  },
  {
   "attachments": {},
   "cell_type": "markdown",
   "metadata": {},
   "source": []
  },
  {
   "cell_type": "code",
   "execution_count": 25,
   "metadata": {},
   "outputs": [
    {
     "name": "stdout",
     "output_type": "stream",
     "text": [
      "2786790\n"
     ]
    }
   ],
   "source": [
    "# 검색 결과를 가족 있는 딕셔너리를 포함하는 리스트를 추출한다. \n",
    "searchList = data['documents']\n",
    "\n",
    "# 추출한 리스트를 미리 준비한 빈 리스트에 추가\n",
    "mylist.extend(searchList)\n"
   ]
  },
  {
   "cell_type": "code",
   "execution_count": 32,
   "metadata": {},
   "outputs": [
    {
     "name": "stdout",
     "output_type": "stream",
     "text": [
      "`은혼` 키워드로 검색된 모든 책의 총 가격은 2786790입니다.\n"
     ]
    }
   ],
   "source": [
    "# 총 가격을 구하기 위한 변수\n",
    "totalPrice = 0\n",
    "\n",
    "# 수집된 결과를 반복처리\n",
    "for item in mylist:\n",
    "    totalPrice += item[\"price\"]\n",
    "\n",
    "print(\"`%s` 키워드로 검색된 모든 책의 총 가격은 %d입니다.\" % (query, totalPrice))\n"
   ]
  },
  {
   "cell_type": "code",
   "execution_count": 27,
   "metadata": {},
   "outputs": [
    {
     "name": "stdout",
     "output_type": "stream",
     "text": [
      "2786790\n"
     ]
    }
   ],
   "source": [
    "# sum = 0 \n",
    "\n",
    "# # for item in mylist : '책에 은혼이 들어가는 것만 검색'\n",
    "# #      if item['authors'] == ['空知英秋'] or item['authors'] == ['Hideaki Sorachi'] or item['authors'] == ['소라치 히데아키'] or item['authors'] == ['空知\\\\u3000英秋'] :\n",
    "# #         sum += item['price']\n",
    "\n",
    "# for item in mylist : # 책만 계산 (dvd 제외)\n",
    "#      if item['authors'] != ['하은미디어 편집부'] or item['authors'] != ['고은문화사 편집부'] :\n",
    "#         sum += item['price']\n",
    "\n",
    "# print(sum)\n",
    "\n",
    "# # # 결과 표 생성하기\n",
    "# # df = DataFrame(mylist)\n",
    "# # # 엑셀로 저장\n",
    "# # df.to_excel('은혼 %s.xlsx'%query)\n",
    "# # df"
   ]
  }
 ],
 "metadata": {
  "kernelspec": {
   "display_name": "Python 3",
   "language": "python",
   "name": "python3"
  },
  "language_info": {
   "codemirror_mode": {
    "name": "ipython",
    "version": 3
   },
   "file_extension": ".py",
   "mimetype": "text/x-python",
   "name": "python",
   "nbconvert_exporter": "python",
   "pygments_lexer": "ipython3",
   "version": "3.11.1"
  },
  "orig_nbformat": 4
 },
 "nbformat": 4,
 "nbformat_minor": 2
}
